{
 "cells": [
  {
   "cell_type": "markdown",
   "metadata": {
    "slideshow": {
     "slide_type": "slide"
    }
   },
   "source": [
    "# Important Announcements\n",
    "### Rescheduled Class\n",
    "You should all have received an email concerning the 2 rescheduled class.\n",
    "<br>Rescheduled classes will be held on: \n",
    "- 06/26 (June 26, Tuesday ), period 1, room CALL 23 \n",
    "- 06/29 (June 29, Friday ), period 5, room CALL 23 \n",
    "\n",
    "You may attend either class. \n",
    "<br>The content will be identical. \n",
    "\n",
    "__THERE IS A CLASS ON JUNE 25, MONDAY AS USUAL__"
   ]
  },
  {
   "cell_type": "markdown",
   "metadata": {
    "slideshow": {
     "slide_type": "slide"
    }
   },
   "source": [
    "### Rescheduled Class\n",
    "All classes on June 18, Monday are cancelled for University's Foundation Day.\n",
    "\n",
    "<br>The rescheduled class will be on June 20, period 5, Wednesday, room CALL 23.\n",
    "\n",
    "<br>(Normal Wednesday classes have been rescheduled)"
   ]
  },
  {
   "cell_type": "markdown",
   "metadata": {
    "slideshow": {
     "slide_type": "slide"
    }
   },
   "source": [
    "## Exam\n",
    "A take-home exam with a time limit of 1 week will be issued on July 16 *instead of* the previously sheduled exam on July 23.\n",
    "\n",
    "The deadline for the take-home exam will be July 23.\n",
    "\n",
    "Please submit your exam solution by email."
   ]
  },
  {
   "cell_type": "markdown",
   "metadata": {
    "slideshow": {
     "slide_type": "slide"
    }
   },
   "source": [
    "## Please download the new class notes.\n",
    "### Step 1 : Navigate to the directory where your files are stored.  \n",
    "Open a terminal. \n",
    "<br>Using `cd`, navigate to *inside* the ILAS_Python_for_engineers folder on your computer. \n",
    "### Step 3 : Update the course notes by downloading the changes\n",
    "In the terminal type:\n",
    "\n",
    ">`git add -A\n",
    "git commit -m \"commit\"\n",
    "git fetch upstream\n",
    "git merge -X theirs upstream/master`\n"
   ]
  },
  {
   "cell_type": "markdown",
   "metadata": {
    "collapsed": true,
    "slideshow": {
     "slide_type": "slide"
    }
   },
   "source": [
    "# Working with Data\n",
    "\n",
    "<br> <a href='#Pandas'>Pandas</a>\n",
    "<br> <a href='#Installation'>Installation</a> \n",
    "<br> <a href='#ImportingData'>Importing Data</a> \n",
    "\t<br> &emsp;&emsp; <a href='#ConvertingPythonObject'>Converting a Python Object</a> \n",
    "    <br> &emsp;&emsp; <a href='#ImportingDataExternalFile'>Importing Data from an External File</a> \n",
    "        <br> &emsp;&emsp; &emsp;&emsp; <a href='#AssigningNamesUnlabelledData'>Assigning Names to Unlabelled Data</a> \n",
    "        <br> &emsp;&emsp; &emsp;&emsp; <a href='#RenamingColumns'>Renaming Columns</a> \n",
    "        <br> &emsp;&emsp; &emsp;&emsp; <a href='#RenamingRows'>Renaming Rows</a> \n",
    "        <br> &emsp;&emsp; &emsp;&emsp; <a href='#RenamingRowHeader'>Renaming Row Header</a> \n",
    "        <br> &emsp;&emsp; &emsp;&emsp; <a href='#ImportOptions'>Import Options</a> \n",
    "<br> <a href='#ViewingInspectingData'>ViewingInspectingData</a> \n",
    "<br> <a href='#SelectingData'>Selecting Data</a> \n",
    "<br> <a href='#Indexing'>Indexing</a> \n",
    "<br> <a href='#NumpyFunctionsDataFrames'>Numpy Functions for Data Frames</a>\n",
    "<br> <a href='#BooleanDataFrameIndexing'>Boolean Data Frame Indexing</a>\n",
    "<br> <a href='#ChangingValues'>Changing Values</a>\n",
    "<br> <a href='#ApplyingFunctionWholeSeries'>Applying a Function to a Whole Series</a>\n",
    "<br> <a href='#SortingDataFrames'>Sorting Data Frames</a>\n",
    "<br> <a href='#DataCleaning'>Data Cleaning</a>\n",
    "<br> <a href='#Iterating'>Iterating</a>\n",
    "<br> <a href='#PlottingDataFrames'>Plotting Data Frames</a>\n",
    "<br> <a href='#AddingRemovingJoining'>Adding, Removing and Joining</a>  \n",
    "    &emsp;&emsp; <a href='#AddingColumnDataFrame'>Adding a Column to a Data Frame</a> \n",
    "    <br> &emsp;&emsp; <a href='#InsertingColumnDataFrame'>Inserting a Column to a Data Frame</a> \n",
    "    <br> &emsp;&emsp; <a href='#AddingRowDataFrame'>Adding a Row to a Data Frame</a> \n",
    "<br> <a href='#Resampling'>Resampling</a> \n",
    "<br> <a href='#SavingDataFrame'>Saving a Data Frame</a>\n",
    "<br> <a href='#OtherWaysSaveProgramOutput'>Other Ways to Save Program Output</a> \n",
    "<br> <a href='#ReadingWritingTextFiles'>Reading and Writing Text Files</a> \n",
    "    <br> &emsp;&emsp; <a href='#WritingFiles'>Writing Files</a> \n",
    "    <br> &emsp;&emsp; <a href='#ReadingFiles'>Reading Files</a> \n",
    "    <br> &emsp;&emsp; <a href='#AppendingFiles'>Appending Files</a> \n",
    "    <br> &emsp;&emsp; <a href='#AutomaticallyClosingFileswith'>Automatically Closing Files using `with`</a> \n",
    "    <br> &emsp;&emsp; <a href='#ReadingEditingFiles'>Reading and Editing Files</a> \n",
    "    <br> &emsp;&emsp; <a href='#BinaryFilesPicklingData'>Binary Files (\"Pickling\" Data)</a>\n",
    "        <br> &emsp;&emsp; &emsp;&emsp; <a href='#PicklingPandasDataFrame'>Pickling a Pandas Data Frame</a>\n",
    "    <br> &emsp;&emsp; <a href='#SavingDataNumpy'>Saving Data with Numpy</a>\n",
    "<br> <a href='#Summary'>Summary</a> \n",
    "<br> <a href='#TestYourselfExercises'>Test-Yourself Exercises</a>\n"
   ]
  },
  {
   "cell_type": "markdown",
   "metadata": {
    "slideshow": {
     "slide_type": "slide"
    }
   },
   "source": [
    "### Lesson Goal\n",
    "\n",
    "1. Represent data in a way that is easier to manipulate.\n",
    "1. Save data from your programs to output files. \n",
    "\n",
    "### Fundamental programming concepts\n",
    " - Computational methods for handling medium-large data sets\n",
    " - Storing the output data from your programs"
   ]
  },
  {
   "cell_type": "markdown",
   "metadata": {
    "slideshow": {
     "slide_type": "slide"
    }
   },
   "source": [
    "## Pandas\n",
    "<a id='Pandas'></a>\n",
    "Pandas stands for “Python Data Analysis Library”.\n",
    "\n",
    "<img src=\"img/panda.jpg\" alt=\"Drawing\" style=\"width: 300px;\"/>\n",
    "\n",
    "\n",
    "\n",
    "\n"
   ]
  },
  {
   "cell_type": "markdown",
   "metadata": {
    "slideshow": {
     "slide_type": "slide"
    }
   },
   "source": [
    "Pandas takes data (e.g. .csv, .dat or .txt files) and creates a Python object with rows and columns.\n",
    "\n",
    "This object is called a data frame and looks similar to table in a statistical software (e.g. Excel). \n",
    "\n",
    "For real data, can be easier to work with in comparison to working with lists and/or numpy arrays. \n",
    "\n",
    "This seminar will give an introduction to some widely used functions of the `pandas` package. "
   ]
  },
  {
   "cell_type": "markdown",
   "metadata": {
    "slideshow": {
     "slide_type": "slide"
    }
   },
   "source": [
    "\n",
    "\n",
    "More information can be found in the documentation at http://pandas.pydata.org/.\n",
    "\n"
   ]
  },
  {
   "cell_type": "code",
   "execution_count": 6,
   "metadata": {
    "slideshow": {
     "slide_type": "slide"
    }
   },
   "outputs": [],
   "source": [
    "import pandas as pd \n"
   ]
  },
  {
   "cell_type": "markdown",
   "metadata": {
    "slideshow": {
     "slide_type": "slide"
    }
   },
   "source": [
    "Pandas is installed automatically when you install anaconda.\n",
    "\n",
    "If Pandas is not installed on your computer, follow the installation instructions below.\n",
    "\n",
    "(This procedure can be used to install any Python package.\n",
    "<br>You can repeat this process should you wish to use functions from a package that you do not already have installed.)"
   ]
  },
  {
   "cell_type": "markdown",
   "metadata": {
    "slideshow": {
     "slide_type": "subslide"
    }
   },
   "source": [
    "\n",
    "To install Pandas...\n",
    "\n",
    "##### On Windows \n",
    "\n",
    "1. Open the Anaconda Prompt from the terminal.\n",
    "<p align=\"center\">\n",
    "  <img src=\"img/anaconda_prompt.png\" alt=\"Drawing\" style=\"width: 300px;\"/>\n",
    "</p>\n",
    "\n",
    "1. The window that opens will look like the command line. In the window type the following code then press 'Enter':\n",
    ">`conda install -c anaconda pip`\n",
    "\n",
    "1. When the installation completes type the following code then press 'Enter':\n",
    ">`pip install pandas`\n",
    "\n",
    "\n",
    "\n"
   ]
  },
  {
   "cell_type": "markdown",
   "metadata": {
    "slideshow": {
     "slide_type": "subslide"
    }
   },
   "source": [
    "##### On mac\n",
    "\n",
    "1. Open a terminal. \n",
    "\n",
    "1. Type the following code then press 'Enter':\n",
    ">`conda install -c anaconda pip`\n",
    "\n",
    "1. When the installation completes type the following code then press 'Enter':\n",
    ">`pip install pandas`"
   ]
  },
  {
   "cell_type": "markdown",
   "metadata": {
    "slideshow": {
     "slide_type": "subslide"
    }
   },
   "source": [
    "To check the installation has worked type:\n",
    ">`import pandas` \n",
    "\n",
    "in Spyder or Jupyter notebook and run the code. If no error is generated you have installed pandas successfully. "
   ]
  },
  {
   "cell_type": "markdown",
   "metadata": {
    "slideshow": {
     "slide_type": "slide"
    }
   },
   "source": [
    "We will also use numpy and matplotlib in this class."
   ]
  },
  {
   "cell_type": "code",
   "execution_count": 7,
   "metadata": {},
   "outputs": [],
   "source": [
    "import numpy as np\n",
    "import matplotlib.pyplot as plt\n",
    "%matplotlib inline"
   ]
  },
  {
   "cell_type": "markdown",
   "metadata": {
    "slideshow": {
     "slide_type": "slide"
    }
   },
   "source": [
    "## Importing Data \n",
    "<a id='ImportingData'></a>\n",
    ".csv files contain comma separated values (although the values can be separated by other *delimiters*.).\n",
    "\n",
    "Real data is often stored in .csv files because dedicated software is not needed to read the file. \n",
    "\n",
    "This is the type of file is typically viewed in a program like Excel.\n",
    "<br>In this case, the commas determine the seperation of values into individual cells. \n",
    "\n",
    "\n",
    "\n",
    "\n",
    "\n"
   ]
  },
  {
   "cell_type": "markdown",
   "metadata": {
    "slideshow": {
     "slide_type": "slide"
    }
   },
   "source": [
    "#### Recap : Loading data as a Numpy array.\n",
    "\n",
    "Previously we learnt to use the function `numpy.loadtxt` to load data from a file."
   ]
  },
  {
   "cell_type": "code",
   "execution_count": 8,
   "metadata": {
    "slideshow": {
     "slide_type": "-"
    }
   },
   "outputs": [
    {
     "data": {
      "text/plain": [
       "array([['Student', 'Sex', 'DOB', 'Height', 'Weight', 'BP'],\n",
       "       ['(ID)', 'M/F', 'dd/mm/yy', 'm', 'kg', 'mmHg'],\n",
       "       ['JW-1', 'M', '19/12/1995', '1.82', '92.4', '119/76'],\n",
       "       ['JW-2', 'M', '11/01/1996', '1.77', '80.9', '114/73'],\n",
       "       ['JW-3', 'F', '02/10/1995', '1.68', '69.7', '124/79'],\n",
       "       ['JW-4', 'M', '11/01/1996', '1.77', '80.9', '114/73'],\n",
       "       ['JW-5', 'F', '02/10/1995', '1.68', '69.7', '124/79'],\n",
       "       ['JW-6', 'M', '06/07/1995', '1.72', '75.5', '110/60'],\n",
       "       ['JW-7', 'F', '28/03/1996', '1.66', '72.4', '-'],\n",
       "       ['JW-9', 'F', '11/12/1995', '1.78', '82.1', '115/75'],\n",
       "       ['JW-10', 'F', '07/04/1996', '1.6', '45', '-/-'],\n",
       "       ['JW-11', 'M', '22/08/1995', '1.72', '77.2', '97/63'],\n",
       "       ['JW-12', 'M', '23/05/1996', '1.83', '88.9', '105/70'],\n",
       "       ['JW-14', 'F', '12/01/1996', '1.56', '56.3', '108/72'],\n",
       "       ['JW-15', 'F', '01/06/1996', '1.64', '65', '99/67'],\n",
       "       ['JW-16', 'M', '10/09/1995', '1.63', '73', '131/84'],\n",
       "       ['JW-17', 'M', '17/02/1996', '1.67', '89.8', '101/76'],\n",
       "       ['JW-18', 'M', '31/07/1996', '1.66', '75.1', '-/-'],\n",
       "       ['JW-19', 'F', '30/10/1995', '1.59', '67.3', '103/69'],\n",
       "       ['JW-22', 'F', '09/03/1996', '1.7', '45', '119/80'],\n",
       "       ['JW-23', 'M', '15/05/1995', '1.97', '89.2', '124/82'],\n",
       "       ['JW-24', 'F', '01/12/1995', '1.66', '63.8', '100/78'],\n",
       "       ['JW-25', 'F', '25/10/1995', '1.63', '64.4', '-/-'],\n",
       "       ['JW-26', 'M', '17/04/1996', '1.69', '55', '121/82']], dtype='<U10')"
      ]
     },
     "execution_count": 8,
     "metadata": {},
     "output_type": "execute_result"
    }
   ],
   "source": [
    "np.loadtxt('sample_data/sample_student_data.txt', delimiter=\"\\t\", dtype=str)"
   ]
  },
  {
   "cell_type": "markdown",
   "metadata": {
    "slideshow": {
     "slide_type": "slide"
    }
   },
   "source": [
    "A limitation of this is that we sometimes need to specify the:\n",
    "  - delimiter type\n",
    "  - data type  \n",
    "    \n"
   ]
  },
  {
   "cell_type": "markdown",
   "metadata": {
    "slideshow": {
     "slide_type": "slide"
    }
   },
   "source": [
    "If mixed data types are included (e.g. sex (string), weight (float)), we need to manipulate numeric data for use in mathematical operations.\n",
    "\n"
   ]
  },
  {
   "cell_type": "code",
   "execution_count": 9,
   "metadata": {},
   "outputs": [
    {
     "data": {
      "text/plain": [
       "array([[ 1.78, 82.1 ],\n",
       "       [ 1.6 , 45.  ],\n",
       "       [ 1.72, 77.2 ],\n",
       "       [ 1.83, 88.9 ],\n",
       "       [ 1.56, 56.3 ],\n",
       "       [ 1.64, 65.  ],\n",
       "       [ 1.63, 73.  ],\n",
       "       [ 1.67, 89.8 ],\n",
       "       [ 1.66, 75.1 ],\n",
       "       [ 1.59, 67.3 ],\n",
       "       [ 1.7 , 45.  ],\n",
       "       [ 1.97, 89.2 ],\n",
       "       [ 1.66, 63.8 ],\n",
       "       [ 1.63, 64.4 ],\n",
       "       [ 1.69, 55.  ]])"
      ]
     },
     "execution_count": 9,
     "metadata": {},
     "output_type": "execute_result"
    }
   ],
   "source": [
    "np.loadtxt('sample_data/sample_student_data.txt', dtype=float, skiprows=9, usecols=(3,4))"
   ]
  },
  {
   "cell_type": "markdown",
   "metadata": {
    "slideshow": {
     "slide_type": "slide"
    }
   },
   "source": [
    "`np.loadtxt` provides basic functionality. \n",
    "\n",
    "`pandas` loads data into a `DataFrame`. \n",
    "\n",
    "A `DataFrame` is like a Numpy array, with additional features for data analysis... \n",
    "\n",
    "\n",
    "\n"
   ]
  },
  {
   "cell_type": "markdown",
   "metadata": {
    "slideshow": {
     "slide_type": "slide"
    }
   },
   "source": [
    "To create a Pandas data frame you either:\n",
    "\n",
    "- Convert a Python object (list, dictionary or Numpy array) to a Pandas data frame\n",
    "- Import the contents of a file (usually .csv) "
   ]
  },
  {
   "cell_type": "markdown",
   "metadata": {
    "slideshow": {
     "slide_type": "slide"
    }
   },
   "source": [
    "### Convert a Python Object\n",
    "<a id='ConvertPythonObject'></a>\n",
    "The basic command is:\n",
    "\n",
    "    pd.DataFrame()"
   ]
  },
  {
   "cell_type": "code",
   "execution_count": 10,
   "metadata": {},
   "outputs": [
    {
     "name": "stdout",
     "output_type": "stream",
     "text": [
      "[[0 1 7 5]\n",
      " [8 6 9 4]\n",
      " [1 0 5 6]\n",
      " [9 1 3 9]]\n",
      "\n",
      "   0  1  2  3\n",
      "0  0  1  7  5\n",
      "1  8  6  9  4\n",
      "2  1  0  5  6\n",
      "3  9  1  3  9\n"
     ]
    }
   ],
   "source": [
    "# generate random data\n",
    "data = np.random.randint(0, high=10, size=(4, 4))\n",
    "\n",
    "print(data)\n",
    "\n",
    "print()\n",
    "\n",
    "print(pd.DataFrame(data))"
   ]
  },
  {
   "cell_type": "markdown",
   "metadata": {
    "slideshow": {
     "slide_type": "slide"
    }
   },
   "source": [
    "The data is automatically assigned:\n",
    " - an `index` to labelthe rows.\n",
    " - `headers` to label the columns\n",
    " \n",
    "We can specify our own label names for rows and columns..."
   ]
  },
  {
   "cell_type": "code",
   "execution_count": 11,
   "metadata": {
    "scrolled": true
   },
   "outputs": [
    {
     "name": "stdout",
     "output_type": "stream",
     "text": [
      "[[0 1 7 5]\n",
      " [8 6 9 4]\n",
      " [1 0 5 6]\n",
      " [9 1 3 9]]\n",
      "\n",
      "           score1  score2  score3  score4\n",
      "Student 1       0       1       7       5\n",
      "Student 2       8       6       9       4\n",
      "Student 3       1       0       5       6\n",
      "Student 4       9       1       3       9\n"
     ]
    }
   ],
   "source": [
    "indices = [\"Student 1\", \"Student 2\", \"Student 3\", \"Student 4\"]\n",
    "headers = [\"score1\", \"score2\", \"score3\", \"score4\"]\n",
    "\n",
    "data_frame = pd.DataFrame(data, index = indices, columns = headers) \n",
    "             \n",
    "print(data)\n",
    "print()\n",
    "print(data_frame)\n"
   ]
  },
  {
   "cell_type": "markdown",
   "metadata": {
    "slideshow": {
     "slide_type": "slide"
    }
   },
   "source": [
    "### Importing Data from an External File \n",
    "<a id='ImportingDataExternalFile'></a>\n",
    "The basic command is:\n",
    "\n",
    "    pd.read_csv()"
   ]
  },
  {
   "cell_type": "markdown",
   "metadata": {
    "slideshow": {
     "slide_type": "slide"
    }
   },
   "source": [
    "An advantages of Pandas vs just using NumPy is that Pandas allows you to have columns with different data types.  \n",
    "\n",
    "DataFrames also accomodate `NaN` (not a number) values. "
   ]
  },
  {
   "cell_type": "markdown",
   "metadata": {
    "slideshow": {
     "slide_type": "slide"
    }
   },
   "source": [
    "The following example uses Pandas `read_csv` function to load the same student data we imported with `np.loadtxt`. "
   ]
  },
  {
   "cell_type": "code",
   "execution_count": 12,
   "metadata": {
    "scrolled": false
   },
   "outputs": [
    {
     "name": "stdout",
     "output_type": "stream",
     "text": [
      "   Student  Sex         DOB Height Weight      BP\n",
      "0     (ID)  M/F    dd/mm/yy      m     kg    mmHg\n",
      "1     JW-1    M  19/12/1995   1.82   92.4  119/76\n",
      "2     JW-2    M  11/01/1996   1.77   80.9  114/73\n",
      "3     JW-3    F  02/10/1995   1.68   69.7  124/79\n",
      "4     JW-4    M  11/01/1996   1.77   80.9  114/73\n",
      "5     JW-5    F  02/10/1995   1.68   69.7  124/79\n",
      "6     JW-6    M  06/07/1995   1.72   75.5  110/60\n",
      "7     JW-7    F  28/03/1996   1.66   72.4       -\n",
      "8     JW-9    F  11/12/1995   1.78   82.1  115/75\n",
      "9    JW-10    F  07/04/1996    1.6     45     -/-\n",
      "10   JW-11    M  22/08/1995   1.72   77.2   97/63\n",
      "11   JW-12    M  23/05/1996   1.83   88.9  105/70\n",
      "12   JW-14    F  12/01/1996   1.56   56.3  108/72\n",
      "13   JW-15    F  01/06/1996   1.64     65   99/67\n",
      "14   JW-16    M  10/09/1995   1.63     73  131/84\n",
      "15   JW-17    M  17/02/1996   1.67   89.8  101/76\n",
      "16   JW-18    M  31/07/1996   1.66   75.1     -/-\n",
      "17   JW-19    F  30/10/1995   1.59   67.3  103/69\n",
      "18   JW-22    F  09/03/1996    1.7     45  119/80\n",
      "19   JW-23    M  15/05/1995   1.97   89.2  124/82\n",
      "20   JW-24    F  01/12/1995   1.66   63.8  100/78\n",
      "21   JW-25    F  25/10/1995   1.63   64.4     -/-\n",
      "22   JW-26    M  17/04/1996   1.69     55  121/82\n"
     ]
    }
   ],
   "source": [
    "students = pd.read_csv('sample_data/sample_student_data.csv')\n",
    "print(students)"
   ]
  },
  {
   "cell_type": "markdown",
   "metadata": {
    "slideshow": {
     "slide_type": "slide"
    }
   },
   "source": [
    "Data Frames can be viewed more clearly using the function `display`."
   ]
  },
  {
   "cell_type": "code",
   "execution_count": 13,
   "metadata": {},
   "outputs": [],
   "source": [
    "from IPython.display import display"
   ]
  },
  {
   "cell_type": "code",
   "execution_count": 14,
   "metadata": {
    "scrolled": true
   },
   "outputs": [
    {
     "data": {
      "text/html": [
       "<div>\n",
       "<style scoped>\n",
       "    .dataframe tbody tr th:only-of-type {\n",
       "        vertical-align: middle;\n",
       "    }\n",
       "\n",
       "    .dataframe tbody tr th {\n",
       "        vertical-align: top;\n",
       "    }\n",
       "\n",
       "    .dataframe thead th {\n",
       "        text-align: right;\n",
       "    }\n",
       "</style>\n",
       "<table border=\"1\" class=\"dataframe\">\n",
       "  <thead>\n",
       "    <tr style=\"text-align: right;\">\n",
       "      <th></th>\n",
       "      <th>Student</th>\n",
       "      <th>Sex</th>\n",
       "      <th>DOB</th>\n",
       "      <th>Height</th>\n",
       "      <th>Weight</th>\n",
       "      <th>BP</th>\n",
       "    </tr>\n",
       "  </thead>\n",
       "  <tbody>\n",
       "    <tr>\n",
       "      <th>0</th>\n",
       "      <td>(ID)</td>\n",
       "      <td>M/F</td>\n",
       "      <td>dd/mm/yy</td>\n",
       "      <td>m</td>\n",
       "      <td>kg</td>\n",
       "      <td>mmHg</td>\n",
       "    </tr>\n",
       "    <tr>\n",
       "      <th>1</th>\n",
       "      <td>JW-1</td>\n",
       "      <td>M</td>\n",
       "      <td>19/12/1995</td>\n",
       "      <td>1.82</td>\n",
       "      <td>92.4</td>\n",
       "      <td>119/76</td>\n",
       "    </tr>\n",
       "    <tr>\n",
       "      <th>2</th>\n",
       "      <td>JW-2</td>\n",
       "      <td>M</td>\n",
       "      <td>11/01/1996</td>\n",
       "      <td>1.77</td>\n",
       "      <td>80.9</td>\n",
       "      <td>114/73</td>\n",
       "    </tr>\n",
       "    <tr>\n",
       "      <th>3</th>\n",
       "      <td>JW-3</td>\n",
       "      <td>F</td>\n",
       "      <td>02/10/1995</td>\n",
       "      <td>1.68</td>\n",
       "      <td>69.7</td>\n",
       "      <td>124/79</td>\n",
       "    </tr>\n",
       "  </tbody>\n",
       "</table>\n",
       "</div>"
      ],
      "text/plain": [
       "  Student  Sex         DOB Height Weight      BP\n",
       "0    (ID)  M/F    dd/mm/yy      m     kg    mmHg\n",
       "1    JW-1    M  19/12/1995   1.82   92.4  119/76\n",
       "2    JW-2    M  11/01/1996   1.77   80.9  114/73\n",
       "3    JW-3    F  02/10/1995   1.68   69.7  124/79"
      ]
     },
     "metadata": {},
     "output_type": "display_data"
    },
    {
     "data": {
      "text/html": [
       "<div>\n",
       "<style scoped>\n",
       "    .dataframe tbody tr th:only-of-type {\n",
       "        vertical-align: middle;\n",
       "    }\n",
       "\n",
       "    .dataframe tbody tr th {\n",
       "        vertical-align: top;\n",
       "    }\n",
       "\n",
       "    .dataframe thead th {\n",
       "        text-align: right;\n",
       "    }\n",
       "</style>\n",
       "<table border=\"1\" class=\"dataframe\">\n",
       "  <thead>\n",
       "    <tr style=\"text-align: right;\">\n",
       "      <th></th>\n",
       "      <th>Student</th>\n",
       "      <th>Sex</th>\n",
       "      <th>DOB</th>\n",
       "      <th>Height</th>\n",
       "      <th>Weight</th>\n",
       "      <th>BP</th>\n",
       "    </tr>\n",
       "  </thead>\n",
       "  <tbody>\n",
       "    <tr>\n",
       "      <th>0</th>\n",
       "      <td>(ID)</td>\n",
       "      <td>M/F</td>\n",
       "      <td>dd/mm/yy</td>\n",
       "      <td>m</td>\n",
       "      <td>kg</td>\n",
       "      <td>mmHg</td>\n",
       "    </tr>\n",
       "    <tr>\n",
       "      <th>1</th>\n",
       "      <td>JW-1</td>\n",
       "      <td>M</td>\n",
       "      <td>19/12/1995</td>\n",
       "      <td>1.82</td>\n",
       "      <td>92.4</td>\n",
       "      <td>119/76</td>\n",
       "    </tr>\n",
       "    <tr>\n",
       "      <th>2</th>\n",
       "      <td>JW-2</td>\n",
       "      <td>M</td>\n",
       "      <td>11/01/1996</td>\n",
       "      <td>1.77</td>\n",
       "      <td>80.9</td>\n",
       "      <td>114/73</td>\n",
       "    </tr>\n",
       "    <tr>\n",
       "      <th>3</th>\n",
       "      <td>JW-3</td>\n",
       "      <td>F</td>\n",
       "      <td>02/10/1995</td>\n",
       "      <td>1.68</td>\n",
       "      <td>69.7</td>\n",
       "      <td>124/79</td>\n",
       "    </tr>\n",
       "    <tr>\n",
       "      <th>4</th>\n",
       "      <td>JW-4</td>\n",
       "      <td>M</td>\n",
       "      <td>11/01/1996</td>\n",
       "      <td>1.77</td>\n",
       "      <td>80.9</td>\n",
       "      <td>114/73</td>\n",
       "    </tr>\n",
       "    <tr>\n",
       "      <th>5</th>\n",
       "      <td>JW-5</td>\n",
       "      <td>F</td>\n",
       "      <td>02/10/1995</td>\n",
       "      <td>1.68</td>\n",
       "      <td>69.7</td>\n",
       "      <td>124/79</td>\n",
       "    </tr>\n",
       "    <tr>\n",
       "      <th>6</th>\n",
       "      <td>JW-6</td>\n",
       "      <td>M</td>\n",
       "      <td>06/07/1995</td>\n",
       "      <td>1.72</td>\n",
       "      <td>75.5</td>\n",
       "      <td>110/60</td>\n",
       "    </tr>\n",
       "    <tr>\n",
       "      <th>7</th>\n",
       "      <td>JW-7</td>\n",
       "      <td>F</td>\n",
       "      <td>28/03/1996</td>\n",
       "      <td>1.66</td>\n",
       "      <td>72.4</td>\n",
       "      <td>-</td>\n",
       "    </tr>\n",
       "    <tr>\n",
       "      <th>8</th>\n",
       "      <td>JW-9</td>\n",
       "      <td>F</td>\n",
       "      <td>11/12/1995</td>\n",
       "      <td>1.78</td>\n",
       "      <td>82.1</td>\n",
       "      <td>115/75</td>\n",
       "    </tr>\n",
       "    <tr>\n",
       "      <th>9</th>\n",
       "      <td>JW-10</td>\n",
       "      <td>F</td>\n",
       "      <td>07/04/1996</td>\n",
       "      <td>1.6</td>\n",
       "      <td>45</td>\n",
       "      <td>-/-</td>\n",
       "    </tr>\n",
       "    <tr>\n",
       "      <th>10</th>\n",
       "      <td>JW-11</td>\n",
       "      <td>M</td>\n",
       "      <td>22/08/1995</td>\n",
       "      <td>1.72</td>\n",
       "      <td>77.2</td>\n",
       "      <td>97/63</td>\n",
       "    </tr>\n",
       "    <tr>\n",
       "      <th>11</th>\n",
       "      <td>JW-12</td>\n",
       "      <td>M</td>\n",
       "      <td>23/05/1996</td>\n",
       "      <td>1.83</td>\n",
       "      <td>88.9</td>\n",
       "      <td>105/70</td>\n",
       "    </tr>\n",
       "    <tr>\n",
       "      <th>12</th>\n",
       "      <td>JW-14</td>\n",
       "      <td>F</td>\n",
       "      <td>12/01/1996</td>\n",
       "      <td>1.56</td>\n",
       "      <td>56.3</td>\n",
       "      <td>108/72</td>\n",
       "    </tr>\n",
       "    <tr>\n",
       "      <th>13</th>\n",
       "      <td>JW-15</td>\n",
       "      <td>F</td>\n",
       "      <td>01/06/1996</td>\n",
       "      <td>1.64</td>\n",
       "      <td>65</td>\n",
       "      <td>99/67</td>\n",
       "    </tr>\n",
       "    <tr>\n",
       "      <th>14</th>\n",
       "      <td>JW-16</td>\n",
       "      <td>M</td>\n",
       "      <td>10/09/1995</td>\n",
       "      <td>1.63</td>\n",
       "      <td>73</td>\n",
       "      <td>131/84</td>\n",
       "    </tr>\n",
       "    <tr>\n",
       "      <th>15</th>\n",
       "      <td>JW-17</td>\n",
       "      <td>M</td>\n",
       "      <td>17/02/1996</td>\n",
       "      <td>1.67</td>\n",
       "      <td>89.8</td>\n",
       "      <td>101/76</td>\n",
       "    </tr>\n",
       "    <tr>\n",
       "      <th>16</th>\n",
       "      <td>JW-18</td>\n",
       "      <td>M</td>\n",
       "      <td>31/07/1996</td>\n",
       "      <td>1.66</td>\n",
       "      <td>75.1</td>\n",
       "      <td>-/-</td>\n",
       "    </tr>\n",
       "    <tr>\n",
       "      <th>17</th>\n",
       "      <td>JW-19</td>\n",
       "      <td>F</td>\n",
       "      <td>30/10/1995</td>\n",
       "      <td>1.59</td>\n",
       "      <td>67.3</td>\n",
       "      <td>103/69</td>\n",
       "    </tr>\n",
       "    <tr>\n",
       "      <th>18</th>\n",
       "      <td>JW-22</td>\n",
       "      <td>F</td>\n",
       "      <td>09/03/1996</td>\n",
       "      <td>1.7</td>\n",
       "      <td>45</td>\n",
       "      <td>119/80</td>\n",
       "    </tr>\n",
       "    <tr>\n",
       "      <th>19</th>\n",
       "      <td>JW-23</td>\n",
       "      <td>M</td>\n",
       "      <td>15/05/1995</td>\n",
       "      <td>1.97</td>\n",
       "      <td>89.2</td>\n",
       "      <td>124/82</td>\n",
       "    </tr>\n",
       "    <tr>\n",
       "      <th>20</th>\n",
       "      <td>JW-24</td>\n",
       "      <td>F</td>\n",
       "      <td>01/12/1995</td>\n",
       "      <td>1.66</td>\n",
       "      <td>63.8</td>\n",
       "      <td>100/78</td>\n",
       "    </tr>\n",
       "    <tr>\n",
       "      <th>21</th>\n",
       "      <td>JW-25</td>\n",
       "      <td>F</td>\n",
       "      <td>25/10/1995</td>\n",
       "      <td>1.63</td>\n",
       "      <td>64.4</td>\n",
       "      <td>-/-</td>\n",
       "    </tr>\n",
       "    <tr>\n",
       "      <th>22</th>\n",
       "      <td>JW-26</td>\n",
       "      <td>M</td>\n",
       "      <td>17/04/1996</td>\n",
       "      <td>1.69</td>\n",
       "      <td>55</td>\n",
       "      <td>121/82</td>\n",
       "    </tr>\n",
       "  </tbody>\n",
       "</table>\n",
       "</div>"
      ],
      "text/plain": [
       "   Student  Sex         DOB Height Weight      BP\n",
       "0     (ID)  M/F    dd/mm/yy      m     kg    mmHg\n",
       "1     JW-1    M  19/12/1995   1.82   92.4  119/76\n",
       "2     JW-2    M  11/01/1996   1.77   80.9  114/73\n",
       "3     JW-3    F  02/10/1995   1.68   69.7  124/79\n",
       "4     JW-4    M  11/01/1996   1.77   80.9  114/73\n",
       "5     JW-5    F  02/10/1995   1.68   69.7  124/79\n",
       "6     JW-6    M  06/07/1995   1.72   75.5  110/60\n",
       "7     JW-7    F  28/03/1996   1.66   72.4       -\n",
       "8     JW-9    F  11/12/1995   1.78   82.1  115/75\n",
       "9    JW-10    F  07/04/1996    1.6     45     -/-\n",
       "10   JW-11    M  22/08/1995   1.72   77.2   97/63\n",
       "11   JW-12    M  23/05/1996   1.83   88.9  105/70\n",
       "12   JW-14    F  12/01/1996   1.56   56.3  108/72\n",
       "13   JW-15    F  01/06/1996   1.64     65   99/67\n",
       "14   JW-16    M  10/09/1995   1.63     73  131/84\n",
       "15   JW-17    M  17/02/1996   1.67   89.8  101/76\n",
       "16   JW-18    M  31/07/1996   1.66   75.1     -/-\n",
       "17   JW-19    F  30/10/1995   1.59   67.3  103/69\n",
       "18   JW-22    F  09/03/1996    1.7     45  119/80\n",
       "19   JW-23    M  15/05/1995   1.97   89.2  124/82\n",
       "20   JW-24    F  01/12/1995   1.66   63.8  100/78\n",
       "21   JW-25    F  25/10/1995   1.63   64.4     -/-\n",
       "22   JW-26    M  17/04/1996   1.69     55  121/82"
      ]
     },
     "metadata": {},
     "output_type": "display_data"
    },
    {
     "data": {
      "text/html": [
       "<div>\n",
       "<style scoped>\n",
       "    .dataframe tbody tr th:only-of-type {\n",
       "        vertical-align: middle;\n",
       "    }\n",
       "\n",
       "    .dataframe tbody tr th {\n",
       "        vertical-align: top;\n",
       "    }\n",
       "\n",
       "    .dataframe thead th {\n",
       "        text-align: right;\n",
       "    }\n",
       "</style>\n",
       "<table border=\"1\" class=\"dataframe\">\n",
       "  <thead>\n",
       "    <tr style=\"text-align: right;\">\n",
       "      <th></th>\n",
       "      <th>Student</th>\n",
       "      <th>Sex</th>\n",
       "      <th>DOB</th>\n",
       "      <th>Height</th>\n",
       "      <th>Weight</th>\n",
       "      <th>BP</th>\n",
       "    </tr>\n",
       "  </thead>\n",
       "  <tbody>\n",
       "    <tr>\n",
       "      <th>0</th>\n",
       "      <td>(ID)</td>\n",
       "      <td>M/F</td>\n",
       "      <td>dd/mm/yy</td>\n",
       "      <td>m</td>\n",
       "      <td>kg</td>\n",
       "      <td>mmHg</td>\n",
       "    </tr>\n",
       "    <tr>\n",
       "      <th>1</th>\n",
       "      <td>JW-1</td>\n",
       "      <td>M</td>\n",
       "      <td>19/12/1995</td>\n",
       "      <td>1.82</td>\n",
       "      <td>92.4</td>\n",
       "      <td>119/76</td>\n",
       "    </tr>\n",
       "    <tr>\n",
       "      <th>2</th>\n",
       "      <td>JW-2</td>\n",
       "      <td>M</td>\n",
       "      <td>11/01/1996</td>\n",
       "      <td>1.77</td>\n",
       "      <td>80.9</td>\n",
       "      <td>114/73</td>\n",
       "    </tr>\n",
       "    <tr>\n",
       "      <th>3</th>\n",
       "      <td>JW-3</td>\n",
       "      <td>F</td>\n",
       "      <td>02/10/1995</td>\n",
       "      <td>1.68</td>\n",
       "      <td>69.7</td>\n",
       "      <td>124/79</td>\n",
       "    </tr>\n",
       "  </tbody>\n",
       "</table>\n",
       "</div>"
      ],
      "text/plain": [
       "  Student  Sex         DOB Height Weight      BP\n",
       "0    (ID)  M/F    dd/mm/yy      m     kg    mmHg\n",
       "1    JW-1    M  19/12/1995   1.82   92.4  119/76\n",
       "2    JW-2    M  11/01/1996   1.77   80.9  114/73\n",
       "3    JW-3    F  02/10/1995   1.68   69.7  124/79"
      ]
     },
     "metadata": {},
     "output_type": "display_data"
    },
    {
     "data": {
      "text/html": [
       "<div>\n",
       "<style scoped>\n",
       "    .dataframe tbody tr th:only-of-type {\n",
       "        vertical-align: middle;\n",
       "    }\n",
       "\n",
       "    .dataframe tbody tr th {\n",
       "        vertical-align: top;\n",
       "    }\n",
       "\n",
       "    .dataframe thead th {\n",
       "        text-align: right;\n",
       "    }\n",
       "</style>\n",
       "<table border=\"1\" class=\"dataframe\">\n",
       "  <thead>\n",
       "    <tr style=\"text-align: right;\">\n",
       "      <th></th>\n",
       "      <th>Student</th>\n",
       "      <th>Sex</th>\n",
       "      <th>DOB</th>\n",
       "      <th>Height</th>\n",
       "      <th>Weight</th>\n",
       "      <th>BP</th>\n",
       "    </tr>\n",
       "  </thead>\n",
       "  <tbody>\n",
       "    <tr>\n",
       "      <th>18</th>\n",
       "      <td>JW-22</td>\n",
       "      <td>F</td>\n",
       "      <td>09/03/1996</td>\n",
       "      <td>1.7</td>\n",
       "      <td>45</td>\n",
       "      <td>119/80</td>\n",
       "    </tr>\n",
       "    <tr>\n",
       "      <th>19</th>\n",
       "      <td>JW-23</td>\n",
       "      <td>M</td>\n",
       "      <td>15/05/1995</td>\n",
       "      <td>1.97</td>\n",
       "      <td>89.2</td>\n",
       "      <td>124/82</td>\n",
       "    </tr>\n",
       "    <tr>\n",
       "      <th>20</th>\n",
       "      <td>JW-24</td>\n",
       "      <td>F</td>\n",
       "      <td>01/12/1995</td>\n",
       "      <td>1.66</td>\n",
       "      <td>63.8</td>\n",
       "      <td>100/78</td>\n",
       "    </tr>\n",
       "    <tr>\n",
       "      <th>21</th>\n",
       "      <td>JW-25</td>\n",
       "      <td>F</td>\n",
       "      <td>25/10/1995</td>\n",
       "      <td>1.63</td>\n",
       "      <td>64.4</td>\n",
       "      <td>-/-</td>\n",
       "    </tr>\n",
       "    <tr>\n",
       "      <th>22</th>\n",
       "      <td>JW-26</td>\n",
       "      <td>M</td>\n",
       "      <td>17/04/1996</td>\n",
       "      <td>1.69</td>\n",
       "      <td>55</td>\n",
       "      <td>121/82</td>\n",
       "    </tr>\n",
       "  </tbody>\n",
       "</table>\n",
       "</div>"
      ],
      "text/plain": [
       "   Student Sex         DOB Height Weight      BP\n",
       "18   JW-22   F  09/03/1996    1.7     45  119/80\n",
       "19   JW-23   M  15/05/1995   1.97   89.2  124/82\n",
       "20   JW-24   F  01/12/1995   1.66   63.8  100/78\n",
       "21   JW-25   F  25/10/1995   1.63   64.4     -/-\n",
       "22   JW-26   M  17/04/1996   1.69     55  121/82"
      ]
     },
     "metadata": {},
     "output_type": "display_data"
    }
   ],
   "source": [
    "display(students[:4])         # Use regular indexing to display first 4 entries\n",
    "display(students)    \n",
    "display(students.head(4))     # Display first 4 entries\n",
    "\n",
    "display(students.tail())     # Display last 4 entries"
   ]
  },
  {
   "cell_type": "markdown",
   "metadata": {
    "slideshow": {
     "slide_type": "slide"
    }
   },
   "source": [
    "We can use similar commands to import data from other sources e.g. data pubilshed remotely on the internet."
   ]
  },
  {
   "cell_type": "code",
   "execution_count": 15,
   "metadata": {},
   "outputs": [
    {
     "data": {
      "text/html": [
       "<div>\n",
       "<style scoped>\n",
       "    .dataframe tbody tr th:only-of-type {\n",
       "        vertical-align: middle;\n",
       "    }\n",
       "\n",
       "    .dataframe tbody tr th {\n",
       "        vertical-align: top;\n",
       "    }\n",
       "\n",
       "    .dataframe thead th {\n",
       "        text-align: right;\n",
       "    }\n",
       "</style>\n",
       "<table border=\"1\" class=\"dataframe\">\n",
       "  <thead>\n",
       "    <tr style=\"text-align: right;\">\n",
       "      <th></th>\n",
       "      <th>order_id</th>\n",
       "      <th>quantity</th>\n",
       "      <th>item_name</th>\n",
       "      <th>choice_description</th>\n",
       "      <th>item_price</th>\n",
       "    </tr>\n",
       "  </thead>\n",
       "  <tbody>\n",
       "    <tr>\n",
       "      <th>0</th>\n",
       "      <td>1</td>\n",
       "      <td>1</td>\n",
       "      <td>Chips and Fresh Tomato Salsa</td>\n",
       "      <td>NaN</td>\n",
       "      <td>$2.39</td>\n",
       "    </tr>\n",
       "    <tr>\n",
       "      <th>1</th>\n",
       "      <td>1</td>\n",
       "      <td>1</td>\n",
       "      <td>Izze</td>\n",
       "      <td>[Clementine]</td>\n",
       "      <td>$3.39</td>\n",
       "    </tr>\n",
       "    <tr>\n",
       "      <th>2</th>\n",
       "      <td>1</td>\n",
       "      <td>1</td>\n",
       "      <td>Nantucket Nectar</td>\n",
       "      <td>[Apple]</td>\n",
       "      <td>$3.39</td>\n",
       "    </tr>\n",
       "    <tr>\n",
       "      <th>3</th>\n",
       "      <td>1</td>\n",
       "      <td>1</td>\n",
       "      <td>Chips and Tomatillo-Green Chili Salsa</td>\n",
       "      <td>NaN</td>\n",
       "      <td>$2.39</td>\n",
       "    </tr>\n",
       "    <tr>\n",
       "      <th>4</th>\n",
       "      <td>2</td>\n",
       "      <td>2</td>\n",
       "      <td>Chicken Bowl</td>\n",
       "      <td>[Tomatillo-Red Chili Salsa (Hot), [Black Beans...</td>\n",
       "      <td>$16.98</td>\n",
       "    </tr>\n",
       "  </tbody>\n",
       "</table>\n",
       "</div>"
      ],
      "text/plain": [
       "   order_id  quantity                              item_name  \\\n",
       "0         1         1           Chips and Fresh Tomato Salsa   \n",
       "1         1         1                                   Izze   \n",
       "2         1         1                       Nantucket Nectar   \n",
       "3         1         1  Chips and Tomatillo-Green Chili Salsa   \n",
       "4         2         2                           Chicken Bowl   \n",
       "\n",
       "                                  choice_description item_price  \n",
       "0                                                NaN     $2.39   \n",
       "1                                       [Clementine]     $3.39   \n",
       "2                                            [Apple]     $3.39   \n",
       "3                                                NaN     $2.39   \n",
       "4  [Tomatillo-Red Chili Salsa (Hot), [Black Beans...    $16.98   "
      ]
     },
     "metadata": {},
     "output_type": "display_data"
    }
   ],
   "source": [
    "url = 'https://raw.githubusercontent.com/justmarkham/DAT8/master/data/chipotle.tsv'\n",
    "\n",
    "chipo = pd.read_csv(url, sep = '\\t')\n",
    "\n",
    "display(chipo.head())"
   ]
  },
  {
   "cell_type": "code",
   "execution_count": 16,
   "metadata": {
    "slideshow": {
     "slide_type": "slide"
    }
   },
   "outputs": [
    {
     "data": {
      "text/html": [
       "<div>\n",
       "<style scoped>\n",
       "    .dataframe tbody tr th:only-of-type {\n",
       "        vertical-align: middle;\n",
       "    }\n",
       "\n",
       "    .dataframe tbody tr th {\n",
       "        vertical-align: top;\n",
       "    }\n",
       "\n",
       "    .dataframe thead th {\n",
       "        text-align: right;\n",
       "    }\n",
       "</style>\n",
       "<table border=\"1\" class=\"dataframe\">\n",
       "  <thead>\n",
       "    <tr style=\"text-align: right;\">\n",
       "      <th></th>\n",
       "      <th>1.053</th>\n",
       "      <th>2.105</th>\n",
       "      <th>3.158</th>\n",
       "      <th>4.211</th>\n",
       "      <th>6.056</th>\n",
       "    </tr>\n",
       "  </thead>\n",
       "  <tbody>\n",
       "    <tr>\n",
       "      <th>0</th>\n",
       "      <td>48.348</td>\n",
       "      <td>68.733</td>\n",
       "      <td>59.796</td>\n",
       "      <td>54.123</td>\n",
       "      <td>74.452</td>\n",
       "    </tr>\n",
       "  </tbody>\n",
       "</table>\n",
       "</div>"
      ],
      "text/plain": [
       "    1.053   2.105   3.158   4.211   6.056\n",
       "0  48.348  68.733  59.796  54.123  74.452"
      ]
     },
     "metadata": {},
     "output_type": "display_data"
    }
   ],
   "source": [
    "# Location of file\n",
    "Location = 'sample_data/noheader_noindex.xlsx'\n",
    "\n",
    "# Parse a specific sheet\n",
    "df = pd.read_excel(Location)\n",
    "\n",
    "display(df.head())"
   ]
  },
  {
   "cell_type": "markdown",
   "metadata": {
    "slideshow": {
     "slide_type": "slide"
    }
   },
   "source": [
    "The first row is automatically used as the columns headings."
   ]
  },
  {
   "cell_type": "markdown",
   "metadata": {
    "slideshow": {
     "slide_type": "slide"
    }
   },
   "source": [
    "### Assigning Names to Unlabelled Data.\n",
    "<a id='AssigningNamesUnlabelledData'></a>\n",
    "Sometimes your data doesn't have column or row names.\n",
    "\n",
    "`pandas` will try to create them.\n",
    "\n",
    "`sample_data/noHeader_noIndex.csv` contains the data:\n",
    "\n",
    "```Python\n",
    "65.056,  1.053,  2.105,  3.158,  4.211\n",
    "74.452, 48.348, 68.733, 59.796, 54.123\n",
    "```\n"
   ]
  },
  {
   "cell_type": "code",
   "execution_count": 17,
   "metadata": {
    "slideshow": {
     "slide_type": "slide"
    }
   },
   "outputs": [
    {
     "data": {
      "text/html": [
       "<div>\n",
       "<style scoped>\n",
       "    .dataframe tbody tr th:only-of-type {\n",
       "        vertical-align: middle;\n",
       "    }\n",
       "\n",
       "    .dataframe tbody tr th {\n",
       "        vertical-align: top;\n",
       "    }\n",
       "\n",
       "    .dataframe thead th {\n",
       "        text-align: right;\n",
       "    }\n",
       "</style>\n",
       "<table border=\"1\" class=\"dataframe\">\n",
       "  <thead>\n",
       "    <tr style=\"text-align: right;\">\n",
       "      <th></th>\n",
       "      <th>1.053</th>\n",
       "      <th>2.105</th>\n",
       "      <th>3.158</th>\n",
       "      <th>4.211</th>\n",
       "      <th>6.056</th>\n",
       "    </tr>\n",
       "  </thead>\n",
       "  <tbody>\n",
       "    <tr>\n",
       "      <th>0</th>\n",
       "      <td>48.348</td>\n",
       "      <td>68.733</td>\n",
       "      <td>59.796</td>\n",
       "      <td>54.123</td>\n",
       "      <td>74.452</td>\n",
       "    </tr>\n",
       "  </tbody>\n",
       "</table>\n",
       "</div>"
      ],
      "text/plain": [
       "    1.053   2.105   3.158   4.211   6.056\n",
       "0  48.348  68.733  59.796  54.123  74.452"
      ]
     },
     "metadata": {},
     "output_type": "display_data"
    },
    {
     "name": "stdout",
     "output_type": "stream",
     "text": [
      "Index(['1.053', '2.105', '3.158', '4.211', ' 6.056'], dtype='object')\n"
     ]
    }
   ],
   "source": [
    "unlabelled = pd.read_csv('sample_data/noHeader_noIndex.csv')\n",
    "\n",
    "display(unlabelled)\n",
    "\n",
    "print(unlabelled.keys())"
   ]
  },
  {
   "cell_type": "markdown",
   "metadata": {
    "slideshow": {
     "slide_type": "slide"
    }
   },
   "source": [
    "Therefore, if there are no headers, in the imported file, they should either be omitted..."
   ]
  },
  {
   "cell_type": "code",
   "execution_count": 18,
   "metadata": {},
   "outputs": [
    {
     "data": {
      "text/html": [
       "<div>\n",
       "<style scoped>\n",
       "    .dataframe tbody tr th:only-of-type {\n",
       "        vertical-align: middle;\n",
       "    }\n",
       "\n",
       "    .dataframe tbody tr th {\n",
       "        vertical-align: top;\n",
       "    }\n",
       "\n",
       "    .dataframe thead th {\n",
       "        text-align: right;\n",
       "    }\n",
       "</style>\n",
       "<table border=\"1\" class=\"dataframe\">\n",
       "  <thead>\n",
       "    <tr style=\"text-align: right;\">\n",
       "      <th></th>\n",
       "      <th>0</th>\n",
       "      <th>1</th>\n",
       "      <th>2</th>\n",
       "      <th>3</th>\n",
       "      <th>4</th>\n",
       "    </tr>\n",
       "  </thead>\n",
       "  <tbody>\n",
       "    <tr>\n",
       "      <th>0</th>\n",
       "      <td>1.053</td>\n",
       "      <td>2.105</td>\n",
       "      <td>3.158</td>\n",
       "      <td>4.211</td>\n",
       "      <td>6.056</td>\n",
       "    </tr>\n",
       "    <tr>\n",
       "      <th>1</th>\n",
       "      <td>48.348</td>\n",
       "      <td>68.733</td>\n",
       "      <td>59.796</td>\n",
       "      <td>54.123</td>\n",
       "      <td>74.452</td>\n",
       "    </tr>\n",
       "  </tbody>\n",
       "</table>\n",
       "</div>"
      ],
      "text/plain": [
       "        0       1       2       3       4\n",
       "0   1.053   2.105   3.158   4.211   6.056\n",
       "1  48.348  68.733  59.796  54.123  74.452"
      ]
     },
     "metadata": {},
     "output_type": "display_data"
    }
   ],
   "source": [
    "unlabelled = pd.read_csv('sample_data/noHeader_noIndex.csv', header=None)\n",
    "\n",
    "display(unlabelled)"
   ]
  },
  {
   "cell_type": "markdown",
   "metadata": {
    "slideshow": {
     "slide_type": "-"
    }
   },
   "source": [
    "... or assigned by the user:"
   ]
  },
  {
   "cell_type": "code",
   "execution_count": 19,
   "metadata": {},
   "outputs": [
    {
     "data": {
      "text/html": [
       "<div>\n",
       "<style scoped>\n",
       "    .dataframe tbody tr th:only-of-type {\n",
       "        vertical-align: middle;\n",
       "    }\n",
       "\n",
       "    .dataframe tbody tr th {\n",
       "        vertical-align: top;\n",
       "    }\n",
       "\n",
       "    .dataframe thead th {\n",
       "        text-align: right;\n",
       "    }\n",
       "</style>\n",
       "<table border=\"1\" class=\"dataframe\">\n",
       "  <thead>\n",
       "    <tr style=\"text-align: right;\">\n",
       "      <th></th>\n",
       "      <th>X</th>\n",
       "      <th>Y</th>\n",
       "    </tr>\n",
       "  </thead>\n",
       "  <tbody>\n",
       "    <tr>\n",
       "      <th>0</th>\n",
       "      <td>1.053</td>\n",
       "      <td>48.348</td>\n",
       "    </tr>\n",
       "    <tr>\n",
       "      <th>1</th>\n",
       "      <td>2.105</td>\n",
       "      <td>68.733</td>\n",
       "    </tr>\n",
       "    <tr>\n",
       "      <th>2</th>\n",
       "      <td>3.158</td>\n",
       "      <td>59.796</td>\n",
       "    </tr>\n",
       "    <tr>\n",
       "      <th>3</th>\n",
       "      <td>4.211</td>\n",
       "      <td>54.123</td>\n",
       "    </tr>\n",
       "    <tr>\n",
       "      <th>4</th>\n",
       "      <td>6.056</td>\n",
       "      <td>74.452</td>\n",
       "    </tr>\n",
       "  </tbody>\n",
       "</table>\n",
       "</div>"
      ],
      "text/plain": [
       "       X       Y\n",
       "0  1.053  48.348\n",
       "1  2.105  68.733\n",
       "2  3.158  59.796\n",
       "3  4.211  54.123\n",
       "4  6.056  74.452"
      ]
     },
     "metadata": {},
     "output_type": "display_data"
    }
   ],
   "source": [
    "headers = [\"X\",\"Y\"]\n",
    "\n",
    "unlabelled_vert = pd.read_csv('sample_data/noHeader_noIndex_vert.csv', names=headers)\n",
    "\n",
    "display(unlabelled_vert)"
   ]
  },
  {
   "cell_type": "markdown",
   "metadata": {
    "slideshow": {
     "slide_type": "slide"
    }
   },
   "source": [
    "Note, this can also be used to *replace* existing column names on import as we will see later..."
   ]
  },
  {
   "cell_type": "markdown",
   "metadata": {
    "slideshow": {
     "slide_type": "slide"
    }
   },
   "source": [
    "### Import Options\n",
    "<a id='ImportOptions'></a>\n",
    "The read_csv function has a large number of keyword arguments:\n",
    "http://pandas.pydata.org/pandas-docs/version/0.23/generated/pandas.read_csv.html\n",
    "\n",
    "\n",
    "\n"
   ]
  },
  {
   "cell_type": "markdown",
   "metadata": {
    "slideshow": {
     "slide_type": "subslide"
    }
   },
   "source": [
    "Here are two examples. "
   ]
  },
  {
   "cell_type": "markdown",
   "metadata": {},
   "source": [
    "`skiprows`: rows to omit"
   ]
  },
  {
   "cell_type": "code",
   "execution_count": 20,
   "metadata": {},
   "outputs": [],
   "source": [
    "students = pd.read_csv('sample_data/sample_student_data.csv', skiprows=[1, 4])"
   ]
  },
  {
   "cell_type": "markdown",
   "metadata": {
    "slideshow": {
     "slide_type": "subslide"
    }
   },
   "source": [
    "`index_col`: the names in any column can be used as the index used to select a row."
   ]
  },
  {
   "cell_type": "code",
   "execution_count": 21,
   "metadata": {},
   "outputs": [
    {
     "data": {
      "text/html": [
       "<div>\n",
       "<style scoped>\n",
       "    .dataframe tbody tr th:only-of-type {\n",
       "        vertical-align: middle;\n",
       "    }\n",
       "\n",
       "    .dataframe tbody tr th {\n",
       "        vertical-align: top;\n",
       "    }\n",
       "\n",
       "    .dataframe thead th {\n",
       "        text-align: right;\n",
       "    }\n",
       "</style>\n",
       "<table border=\"1\" class=\"dataframe\">\n",
       "  <thead>\n",
       "    <tr style=\"text-align: right;\">\n",
       "      <th></th>\n",
       "      <th>Sex</th>\n",
       "      <th>DOB</th>\n",
       "      <th>Height</th>\n",
       "      <th>Weight</th>\n",
       "      <th>BP</th>\n",
       "    </tr>\n",
       "    <tr>\n",
       "      <th>Student</th>\n",
       "      <th></th>\n",
       "      <th></th>\n",
       "      <th></th>\n",
       "      <th></th>\n",
       "      <th></th>\n",
       "    </tr>\n",
       "  </thead>\n",
       "  <tbody>\n",
       "    <tr>\n",
       "      <th>JW-1</th>\n",
       "      <td>M</td>\n",
       "      <td>19/12/1995</td>\n",
       "      <td>1.82</td>\n",
       "      <td>92.4</td>\n",
       "      <td>119/76</td>\n",
       "    </tr>\n",
       "    <tr>\n",
       "      <th>JW-2</th>\n",
       "      <td>M</td>\n",
       "      <td>11/01/1996</td>\n",
       "      <td>1.77</td>\n",
       "      <td>80.9</td>\n",
       "      <td>114/73</td>\n",
       "    </tr>\n",
       "    <tr>\n",
       "      <th>JW-3</th>\n",
       "      <td>F</td>\n",
       "      <td>02/10/1995</td>\n",
       "      <td>1.68</td>\n",
       "      <td>69.7</td>\n",
       "      <td>124/79</td>\n",
       "    </tr>\n",
       "    <tr>\n",
       "      <th>JW-4</th>\n",
       "      <td>M</td>\n",
       "      <td>11/01/1996</td>\n",
       "      <td>1.77</td>\n",
       "      <td>80.9</td>\n",
       "      <td>114/73</td>\n",
       "    </tr>\n",
       "  </tbody>\n",
       "</table>\n",
       "</div>"
      ],
      "text/plain": [
       "        Sex         DOB  Height  Weight      BP\n",
       "Student                                        \n",
       "JW-1      M  19/12/1995    1.82    92.4  119/76\n",
       "JW-2      M  11/01/1996    1.77    80.9  114/73\n",
       "JW-3      F  02/10/1995    1.68    69.7  124/79\n",
       "JW-4      M  11/01/1996    1.77    80.9  114/73"
      ]
     },
     "metadata": {},
     "output_type": "display_data"
    }
   ],
   "source": [
    "# DOB as index\n",
    "students = pd.read_csv('sample_data/sample_student_data.csv', skiprows=[1], index_col=2)\n",
    "\n",
    "# Student (JW- code) as index\n",
    "students = pd.read_csv('sample_data/sample_student_data.csv', skiprows=[1], index_col=0)\n",
    "\n",
    "\n",
    "\n",
    "display(students[:4])"
   ]
  },
  {
   "cell_type": "markdown",
   "metadata": {
    "slideshow": {
     "slide_type": "subslide"
    }
   },
   "source": [
    "To return column and index names:"
   ]
  },
  {
   "cell_type": "code",
   "execution_count": 23,
   "metadata": {},
   "outputs": [
    {
     "name": "stdout",
     "output_type": "stream",
     "text": [
      "Index(['Sex', 'DOB', 'Height', 'Weight', 'BP'], dtype='object')\n",
      "Index(['JW-1', 'JW-2', 'JW-3', 'JW-4', 'JW-5', 'JW-6', 'JW-7', 'JW-9', 'JW-10',\n",
      "       'JW-11', 'JW-12', 'JW-14', 'JW-15', 'JW-16', 'JW-17', 'JW-18', 'JW-19',\n",
      "       'JW-22', 'JW-23', 'JW-24', 'JW-25', 'JW-26'],\n",
      "      dtype='object', name='Student')\n",
      "Student\n",
      "JW-1     M\n",
      "JW-2     M\n",
      "JW-3     F\n",
      "JW-4     M\n",
      "JW-5     F\n",
      "JW-6     M\n",
      "JW-7     F\n",
      "JW-9     F\n",
      "JW-10    F\n",
      "JW-11    M\n",
      "JW-12    M\n",
      "JW-14    F\n",
      "JW-15    F\n",
      "JW-16    M\n",
      "JW-17    M\n",
      "JW-18    M\n",
      "JW-19    F\n",
      "JW-22    F\n",
      "JW-23    M\n",
      "JW-24    F\n",
      "JW-25    F\n",
      "JW-26    M\n",
      "Name: Sex, dtype: object\n"
     ]
    }
   ],
   "source": [
    "print(students.columns)\n",
    "print(students.index)\n"
   ]
  },
  {
   "cell_type": "markdown",
   "metadata": {
    "slideshow": {
     "slide_type": "slide"
    }
   },
   "source": [
    "### Renaming Columns\n",
    "<a id='RenamingColumns'></a>\n",
    "Often, the columns names of imported data are not very convenient (long, including spaces, etc.). \n",
    "\n",
    "In the `students` DataFrame, the columns have convenient names.\n",
    "\n",
    "Lets pretend they don't and change them for demonstration purposes. "
   ]
  },
  {
   "cell_type": "code",
   "execution_count": 19,
   "metadata": {
    "slideshow": {
     "slide_type": "slide"
    }
   },
   "outputs": [
    {
     "data": {
      "text/html": [
       "<div>\n",
       "<style scoped>\n",
       "    .dataframe tbody tr th:only-of-type {\n",
       "        vertical-align: middle;\n",
       "    }\n",
       "\n",
       "    .dataframe tbody tr th {\n",
       "        vertical-align: top;\n",
       "    }\n",
       "\n",
       "    .dataframe thead th {\n",
       "        text-align: right;\n",
       "    }\n",
       "</style>\n",
       "<table border=\"1\" class=\"dataframe\">\n",
       "  <thead>\n",
       "    <tr style=\"text-align: right;\">\n",
       "      <th></th>\n",
       "      <th>Sex</th>\n",
       "      <th>DOB</th>\n",
       "      <th>Height</th>\n",
       "      <th>Weight</th>\n",
       "      <th>BP</th>\n",
       "    </tr>\n",
       "    <tr>\n",
       "      <th>Student</th>\n",
       "      <th></th>\n",
       "      <th></th>\n",
       "      <th></th>\n",
       "      <th></th>\n",
       "      <th></th>\n",
       "    </tr>\n",
       "  </thead>\n",
       "  <tbody>\n",
       "    <tr>\n",
       "      <th>JW-1</th>\n",
       "      <td>M</td>\n",
       "      <td>19/12/1995</td>\n",
       "      <td>1.82</td>\n",
       "      <td>92.4</td>\n",
       "      <td>119/76</td>\n",
       "    </tr>\n",
       "    <tr>\n",
       "      <th>JW-2</th>\n",
       "      <td>M</td>\n",
       "      <td>11/01/1996</td>\n",
       "      <td>1.77</td>\n",
       "      <td>80.9</td>\n",
       "      <td>114/73</td>\n",
       "    </tr>\n",
       "    <tr>\n",
       "      <th>JW-3</th>\n",
       "      <td>F</td>\n",
       "      <td>02/10/1995</td>\n",
       "      <td>1.68</td>\n",
       "      <td>69.7</td>\n",
       "      <td>124/79</td>\n",
       "    </tr>\n",
       "    <tr>\n",
       "      <th>JW-4</th>\n",
       "      <td>M</td>\n",
       "      <td>11/01/1996</td>\n",
       "      <td>1.77</td>\n",
       "      <td>80.9</td>\n",
       "      <td>114/73</td>\n",
       "    </tr>\n",
       "    <tr>\n",
       "      <th>JW-5</th>\n",
       "      <td>F</td>\n",
       "      <td>02/10/1995</td>\n",
       "      <td>1.68</td>\n",
       "      <td>69.7</td>\n",
       "      <td>124/79</td>\n",
       "    </tr>\n",
       "  </tbody>\n",
       "</table>\n",
       "</div>"
      ],
      "text/plain": [
       "        Sex         DOB  Height  Weight      BP\n",
       "Student                                        \n",
       "JW-1      M  19/12/1995    1.82    92.4  119/76\n",
       "JW-2      M  11/01/1996    1.77    80.9  114/73\n",
       "JW-3      F  02/10/1995    1.68    69.7  124/79\n",
       "JW-4      M  11/01/1996    1.77    80.9  114/73\n",
       "JW-5      F  02/10/1995    1.68    69.7  124/79"
      ]
     },
     "metadata": {},
     "output_type": "display_data"
    },
    {
     "data": {
      "text/html": [
       "<div>\n",
       "<style scoped>\n",
       "    .dataframe tbody tr th:only-of-type {\n",
       "        vertical-align: middle;\n",
       "    }\n",
       "\n",
       "    .dataframe tbody tr th {\n",
       "        vertical-align: top;\n",
       "    }\n",
       "\n",
       "    .dataframe thead th {\n",
       "        text-align: right;\n",
       "    }\n",
       "</style>\n",
       "<table border=\"1\" class=\"dataframe\">\n",
       "  <thead>\n",
       "    <tr style=\"text-align: right;\">\n",
       "      <th></th>\n",
       "      <th>Sex</th>\n",
       "      <th>DOB</th>\n",
       "      <th>HEIGHT</th>\n",
       "      <th>WEIGHT</th>\n",
       "      <th>BP</th>\n",
       "    </tr>\n",
       "    <tr>\n",
       "      <th>Student</th>\n",
       "      <th></th>\n",
       "      <th></th>\n",
       "      <th></th>\n",
       "      <th></th>\n",
       "      <th></th>\n",
       "    </tr>\n",
       "  </thead>\n",
       "  <tbody>\n",
       "    <tr>\n",
       "      <th>JW-1</th>\n",
       "      <td>M</td>\n",
       "      <td>19/12/1995</td>\n",
       "      <td>1.82</td>\n",
       "      <td>92.4</td>\n",
       "      <td>119/76</td>\n",
       "    </tr>\n",
       "    <tr>\n",
       "      <th>JW-2</th>\n",
       "      <td>M</td>\n",
       "      <td>11/01/1996</td>\n",
       "      <td>1.77</td>\n",
       "      <td>80.9</td>\n",
       "      <td>114/73</td>\n",
       "    </tr>\n",
       "    <tr>\n",
       "      <th>JW-3</th>\n",
       "      <td>F</td>\n",
       "      <td>02/10/1995</td>\n",
       "      <td>1.68</td>\n",
       "      <td>69.7</td>\n",
       "      <td>124/79</td>\n",
       "    </tr>\n",
       "    <tr>\n",
       "      <th>JW-4</th>\n",
       "      <td>M</td>\n",
       "      <td>11/01/1996</td>\n",
       "      <td>1.77</td>\n",
       "      <td>80.9</td>\n",
       "      <td>114/73</td>\n",
       "    </tr>\n",
       "    <tr>\n",
       "      <th>JW-5</th>\n",
       "      <td>F</td>\n",
       "      <td>02/10/1995</td>\n",
       "      <td>1.68</td>\n",
       "      <td>69.7</td>\n",
       "      <td>124/79</td>\n",
       "    </tr>\n",
       "  </tbody>\n",
       "</table>\n",
       "</div>"
      ],
      "text/plain": [
       "        Sex         DOB  HEIGHT  WEIGHT      BP\n",
       "Student                                        \n",
       "JW-1      M  19/12/1995    1.82    92.4  119/76\n",
       "JW-2      M  11/01/1996    1.77    80.9  114/73\n",
       "JW-3      F  02/10/1995    1.68    69.7  124/79\n",
       "JW-4      M  11/01/1996    1.77    80.9  114/73\n",
       "JW-5      F  02/10/1995    1.68    69.7  124/79"
      ]
     },
     "metadata": {},
     "output_type": "display_data"
    }
   ],
   "source": [
    "# Create a new DataFrame with new names. \n",
    "\n",
    "capitalised = students.rename(columns={'Height': 'HEIGHT', \n",
    "                                       'Weight': 'WEIGHT'}, inplace=False)\n",
    "\n",
    "display(students.head())\n",
    "display(capitalised.head())"
   ]
  },
  {
   "cell_type": "code",
   "execution_count": 20,
   "metadata": {
    "slideshow": {
     "slide_type": "slide"
    }
   },
   "outputs": [
    {
     "data": {
      "text/html": [
       "<div>\n",
       "<style scoped>\n",
       "    .dataframe tbody tr th:only-of-type {\n",
       "        vertical-align: middle;\n",
       "    }\n",
       "\n",
       "    .dataframe tbody tr th {\n",
       "        vertical-align: top;\n",
       "    }\n",
       "\n",
       "    .dataframe thead th {\n",
       "        text-align: right;\n",
       "    }\n",
       "</style>\n",
       "<table border=\"1\" class=\"dataframe\">\n",
       "  <thead>\n",
       "    <tr style=\"text-align: right;\">\n",
       "      <th></th>\n",
       "      <th>Sex</th>\n",
       "      <th>DOB</th>\n",
       "      <th>HEIGHT</th>\n",
       "      <th>WEIGHT</th>\n",
       "      <th>BP</th>\n",
       "    </tr>\n",
       "    <tr>\n",
       "      <th>Student</th>\n",
       "      <th></th>\n",
       "      <th></th>\n",
       "      <th></th>\n",
       "      <th></th>\n",
       "      <th></th>\n",
       "    </tr>\n",
       "  </thead>\n",
       "  <tbody>\n",
       "    <tr>\n",
       "      <th>JW-1</th>\n",
       "      <td>M</td>\n",
       "      <td>19/12/1995</td>\n",
       "      <td>1.82</td>\n",
       "      <td>92.4</td>\n",
       "      <td>119/76</td>\n",
       "    </tr>\n",
       "    <tr>\n",
       "      <th>JW-2</th>\n",
       "      <td>M</td>\n",
       "      <td>11/01/1996</td>\n",
       "      <td>1.77</td>\n",
       "      <td>80.9</td>\n",
       "      <td>114/73</td>\n",
       "    </tr>\n",
       "    <tr>\n",
       "      <th>JW-3</th>\n",
       "      <td>F</td>\n",
       "      <td>02/10/1995</td>\n",
       "      <td>1.68</td>\n",
       "      <td>69.7</td>\n",
       "      <td>124/79</td>\n",
       "    </tr>\n",
       "    <tr>\n",
       "      <th>JW-4</th>\n",
       "      <td>M</td>\n",
       "      <td>11/01/1996</td>\n",
       "      <td>1.77</td>\n",
       "      <td>80.9</td>\n",
       "      <td>114/73</td>\n",
       "    </tr>\n",
       "    <tr>\n",
       "      <th>JW-5</th>\n",
       "      <td>F</td>\n",
       "      <td>02/10/1995</td>\n",
       "      <td>1.68</td>\n",
       "      <td>69.7</td>\n",
       "      <td>124/79</td>\n",
       "    </tr>\n",
       "  </tbody>\n",
       "</table>\n",
       "</div>"
      ],
      "text/plain": [
       "        Sex         DOB  HEIGHT  WEIGHT      BP\n",
       "Student                                        \n",
       "JW-1      M  19/12/1995    1.82    92.4  119/76\n",
       "JW-2      M  11/01/1996    1.77    80.9  114/73\n",
       "JW-3      F  02/10/1995    1.68    69.7  124/79\n",
       "JW-4      M  11/01/1996    1.77    80.9  114/73\n",
       "JW-5      F  02/10/1995    1.68    69.7  124/79"
      ]
     },
     "metadata": {},
     "output_type": "display_data"
    }
   ],
   "source": [
    "# Change the names of the original DataFrame inplace.\n",
    "\n",
    "students.rename(columns={'Height': 'HEIGHT', \n",
    "                         'Weight': 'WEIGHT'}, inplace=True)\n",
    "\n",
    "display(students.head())"
   ]
  },
  {
   "cell_type": "markdown",
   "metadata": {
    "slideshow": {
     "slide_type": "slide"
    }
   },
   "source": [
    "### Renaming Rows\n",
    "<a id='RenamingRows'></a>\n",
    "Use `index` in place of `columns` to rename rows."
   ]
  },
  {
   "cell_type": "code",
   "execution_count": 21,
   "metadata": {},
   "outputs": [
    {
     "data": {
      "text/html": [
       "<div>\n",
       "<style scoped>\n",
       "    .dataframe tbody tr th:only-of-type {\n",
       "        vertical-align: middle;\n",
       "    }\n",
       "\n",
       "    .dataframe tbody tr th {\n",
       "        vertical-align: top;\n",
       "    }\n",
       "\n",
       "    .dataframe thead th {\n",
       "        text-align: right;\n",
       "    }\n",
       "</style>\n",
       "<table border=\"1\" class=\"dataframe\">\n",
       "  <thead>\n",
       "    <tr style=\"text-align: right;\">\n",
       "      <th></th>\n",
       "      <th>Sex</th>\n",
       "      <th>DOB</th>\n",
       "      <th>HEIGHT</th>\n",
       "      <th>WEIGHT</th>\n",
       "      <th>BP</th>\n",
       "    </tr>\n",
       "    <tr>\n",
       "      <th>Student</th>\n",
       "      <th></th>\n",
       "      <th></th>\n",
       "      <th></th>\n",
       "      <th></th>\n",
       "      <th></th>\n",
       "    </tr>\n",
       "  </thead>\n",
       "  <tbody>\n",
       "    <tr>\n",
       "      <th>1</th>\n",
       "      <td>M</td>\n",
       "      <td>19/12/1995</td>\n",
       "      <td>1.82</td>\n",
       "      <td>92.4</td>\n",
       "      <td>119/76</td>\n",
       "    </tr>\n",
       "    <tr>\n",
       "      <th>JW-2</th>\n",
       "      <td>M</td>\n",
       "      <td>11/01/1996</td>\n",
       "      <td>1.77</td>\n",
       "      <td>80.9</td>\n",
       "      <td>114/73</td>\n",
       "    </tr>\n",
       "    <tr>\n",
       "      <th>JW-3</th>\n",
       "      <td>F</td>\n",
       "      <td>02/10/1995</td>\n",
       "      <td>1.68</td>\n",
       "      <td>69.7</td>\n",
       "      <td>124/79</td>\n",
       "    </tr>\n",
       "    <tr>\n",
       "      <th>JW-4</th>\n",
       "      <td>M</td>\n",
       "      <td>11/01/1996</td>\n",
       "      <td>1.77</td>\n",
       "      <td>80.9</td>\n",
       "      <td>114/73</td>\n",
       "    </tr>\n",
       "    <tr>\n",
       "      <th>JW-5</th>\n",
       "      <td>F</td>\n",
       "      <td>02/10/1995</td>\n",
       "      <td>1.68</td>\n",
       "      <td>69.7</td>\n",
       "      <td>124/79</td>\n",
       "    </tr>\n",
       "  </tbody>\n",
       "</table>\n",
       "</div>"
      ],
      "text/plain": [
       "        Sex         DOB  HEIGHT  WEIGHT      BP\n",
       "Student                                        \n",
       "1         M  19/12/1995    1.82    92.4  119/76\n",
       "JW-2      M  11/01/1996    1.77    80.9  114/73\n",
       "JW-3      F  02/10/1995    1.68    69.7  124/79\n",
       "JW-4      M  11/01/1996    1.77    80.9  114/73\n",
       "JW-5      F  02/10/1995    1.68    69.7  124/79"
      ]
     },
     "metadata": {},
     "output_type": "display_data"
    }
   ],
   "source": [
    "nums = students.rename(index={'JW-1': '1', \n",
    "                              'JW-10': '10'}, inplace=False)\n",
    "\n",
    "display(nums.head())"
   ]
  },
  {
   "cell_type": "markdown",
   "metadata": {
    "slideshow": {
     "slide_type": "slide"
    }
   },
   "source": [
    "### Renaming Row Header\n",
    "<a id='RenamingRowHeader'></a>"
   ]
  },
  {
   "cell_type": "code",
   "execution_count": 22,
   "metadata": {},
   "outputs": [
    {
     "data": {
      "text/html": [
       "<div>\n",
       "<style scoped>\n",
       "    .dataframe tbody tr th:only-of-type {\n",
       "        vertical-align: middle;\n",
       "    }\n",
       "\n",
       "    .dataframe tbody tr th {\n",
       "        vertical-align: top;\n",
       "    }\n",
       "\n",
       "    .dataframe thead th {\n",
       "        text-align: right;\n",
       "    }\n",
       "</style>\n",
       "<table border=\"1\" class=\"dataframe\">\n",
       "  <thead>\n",
       "    <tr style=\"text-align: right;\">\n",
       "      <th></th>\n",
       "      <th>Sex</th>\n",
       "      <th>DOB</th>\n",
       "      <th>HEIGHT</th>\n",
       "      <th>WEIGHT</th>\n",
       "      <th>BP</th>\n",
       "    </tr>\n",
       "    <tr>\n",
       "      <th>STUDENTS</th>\n",
       "      <th></th>\n",
       "      <th></th>\n",
       "      <th></th>\n",
       "      <th></th>\n",
       "      <th></th>\n",
       "    </tr>\n",
       "  </thead>\n",
       "  <tbody>\n",
       "    <tr>\n",
       "      <th>JW-1</th>\n",
       "      <td>M</td>\n",
       "      <td>19/12/1995</td>\n",
       "      <td>1.82</td>\n",
       "      <td>92.4</td>\n",
       "      <td>119/76</td>\n",
       "    </tr>\n",
       "    <tr>\n",
       "      <th>JW-2</th>\n",
       "      <td>M</td>\n",
       "      <td>11/01/1996</td>\n",
       "      <td>1.77</td>\n",
       "      <td>80.9</td>\n",
       "      <td>114/73</td>\n",
       "    </tr>\n",
       "    <tr>\n",
       "      <th>JW-3</th>\n",
       "      <td>F</td>\n",
       "      <td>02/10/1995</td>\n",
       "      <td>1.68</td>\n",
       "      <td>69.7</td>\n",
       "      <td>124/79</td>\n",
       "    </tr>\n",
       "    <tr>\n",
       "      <th>JW-4</th>\n",
       "      <td>M</td>\n",
       "      <td>11/01/1996</td>\n",
       "      <td>1.77</td>\n",
       "      <td>80.9</td>\n",
       "      <td>114/73</td>\n",
       "    </tr>\n",
       "    <tr>\n",
       "      <th>JW-5</th>\n",
       "      <td>F</td>\n",
       "      <td>02/10/1995</td>\n",
       "      <td>1.68</td>\n",
       "      <td>69.7</td>\n",
       "      <td>124/79</td>\n",
       "    </tr>\n",
       "  </tbody>\n",
       "</table>\n",
       "</div>"
      ],
      "text/plain": [
       "         Sex         DOB  HEIGHT  WEIGHT      BP\n",
       "STUDENTS                                        \n",
       "JW-1       M  19/12/1995    1.82    92.4  119/76\n",
       "JW-2       M  11/01/1996    1.77    80.9  114/73\n",
       "JW-3       F  02/10/1995    1.68    69.7  124/79\n",
       "JW-4       M  11/01/1996    1.77    80.9  114/73\n",
       "JW-5       F  02/10/1995    1.68    69.7  124/79"
      ]
     },
     "metadata": {},
     "output_type": "display_data"
    }
   ],
   "source": [
    "students.index.names = ['STUDENTS']\n",
    "\n",
    "display(students.head())"
   ]
  },
  {
   "cell_type": "markdown",
   "metadata": {
    "slideshow": {
     "slide_type": "slide"
    }
   },
   "source": [
    "## Viewing and Inspecting Data\n",
    "<a id='ViewingInspectingData'></a>"
   ]
  },
  {
   "cell_type": "markdown",
   "metadata": {
    "slideshow": {
     "slide_type": "slide"
    }
   },
   "source": [
    "You can print generic summary statistics for numerical columns:"
   ]
  },
  {
   "cell_type": "code",
   "execution_count": 23,
   "metadata": {},
   "outputs": [
    {
     "data": {
      "text/html": [
       "<div>\n",
       "<style scoped>\n",
       "    .dataframe tbody tr th:only-of-type {\n",
       "        vertical-align: middle;\n",
       "    }\n",
       "\n",
       "    .dataframe tbody tr th {\n",
       "        vertical-align: top;\n",
       "    }\n",
       "\n",
       "    .dataframe thead th {\n",
       "        text-align: right;\n",
       "    }\n",
       "</style>\n",
       "<table border=\"1\" class=\"dataframe\">\n",
       "  <thead>\n",
       "    <tr style=\"text-align: right;\">\n",
       "      <th></th>\n",
       "      <th>Student</th>\n",
       "      <th>Sex</th>\n",
       "      <th>DOB</th>\n",
       "      <th>Height</th>\n",
       "      <th>Weight</th>\n",
       "      <th>BP</th>\n",
       "    </tr>\n",
       "  </thead>\n",
       "  <tbody>\n",
       "    <tr>\n",
       "      <th>count</th>\n",
       "      <td>23</td>\n",
       "      <td>23</td>\n",
       "      <td>23</td>\n",
       "      <td>23</td>\n",
       "      <td>23</td>\n",
       "      <td>23</td>\n",
       "    </tr>\n",
       "    <tr>\n",
       "      <th>unique</th>\n",
       "      <td>23</td>\n",
       "      <td>3</td>\n",
       "      <td>21</td>\n",
       "      <td>17</td>\n",
       "      <td>20</td>\n",
       "      <td>19</td>\n",
       "    </tr>\n",
       "    <tr>\n",
       "      <th>top</th>\n",
       "      <td>JW-15</td>\n",
       "      <td>F</td>\n",
       "      <td>11/01/1996</td>\n",
       "      <td>1.66</td>\n",
       "      <td>69.7</td>\n",
       "      <td>-/-</td>\n",
       "    </tr>\n",
       "    <tr>\n",
       "      <th>freq</th>\n",
       "      <td>1</td>\n",
       "      <td>11</td>\n",
       "      <td>2</td>\n",
       "      <td>3</td>\n",
       "      <td>2</td>\n",
       "      <td>3</td>\n",
       "    </tr>\n",
       "  </tbody>\n",
       "</table>\n",
       "</div>"
      ],
      "text/plain": [
       "       Student Sex         DOB Height Weight   BP\n",
       "count       23  23          23     23     23   23\n",
       "unique      23   3          21     17     20   19\n",
       "top      JW-15   F  11/01/1996   1.66   69.7  -/-\n",
       "freq         1  11           2      3      2    3"
      ]
     },
     "execution_count": 23,
     "metadata": {},
     "output_type": "execute_result"
    }
   ],
   "source": [
    "students.describe()"
   ]
  },
  {
   "cell_type": "markdown",
   "metadata": {
    "slideshow": {
     "slide_type": "slide"
    }
   },
   "source": [
    "...or use functions to obtain specific statistics:"
   ]
  },
  {
   "cell_type": "code",
   "execution_count": 24,
   "metadata": {},
   "outputs": [
    {
     "name": "stdout",
     "output_type": "stream",
     "text": [
      "HEIGHT     1.701364\n",
      "WEIGHT    71.754545\n",
      "dtype: float64\n",
      "          HEIGHT    WEIGHT\n",
      "HEIGHT  1.000000  0.670787\n",
      "WEIGHT  0.670787  1.000000\n",
      "Sex       22\n",
      "DOB       22\n",
      "HEIGHT    22\n",
      "WEIGHT    22\n",
      "BP        22\n",
      "dtype: int64\n",
      "Sex                M\n",
      "DOB       31/07/1996\n",
      "HEIGHT          1.97\n",
      "WEIGHT          92.4\n",
      "BP             99/67\n",
      "dtype: object\n",
      "Sex                F\n",
      "DOB       01/06/1996\n",
      "HEIGHT          1.56\n",
      "WEIGHT            45\n",
      "BP                 -\n",
      "dtype: object\n",
      "HEIGHT     1.68\n",
      "WEIGHT    72.70\n",
      "dtype: float64\n",
      "HEIGHT     0.093314\n",
      "WEIGHT    13.493869\n",
      "dtype: float64\n"
     ]
    }
   ],
   "source": [
    "print(students.mean())     # mean of all columns\n",
    "print(students.corr())     # correlation between columns \n",
    "print(students.count())    # number of non-null values in each column\n",
    "print(students.max())      # highest value in each column\n",
    "print(students.min())      # lowest value in each column\n",
    "print(students.median())   # median of each column\n",
    "print(students.std())      # standard deviation of each colum"
   ]
  },
  {
   "cell_type": "markdown",
   "metadata": {
    "slideshow": {
     "slide_type": "slide"
    }
   },
   "source": [
    "Functions such as these can also be applied to selected columns of the data set.\n",
    "\n",
    "To do this we need to select which columns we want to apply the function to.\n",
    "\n",
    "Pandas makes selecting data easier compared to a list or array."
   ]
  },
  {
   "cell_type": "markdown",
   "metadata": {
    "slideshow": {
     "slide_type": "slide"
    }
   },
   "source": [
    "## Selecting Data\n",
    "<a id='SelectingData'></a>\n",
    "Columns can be selected using their *keywords*. \n",
    "\n",
    "(This is similar to a dictionary)."
   ]
  },
  {
   "cell_type": "code",
   "execution_count": 25,
   "metadata": {},
   "outputs": [
    {
     "name": "stdout",
     "output_type": "stream",
     "text": [
      "Student\n",
      "JW-1    92.4\n",
      "JW-2    80.9\n",
      "JW-3    69.7\n",
      "JW-4    80.9\n",
      "JW-5    69.7\n",
      "Name: Weight, dtype: float64\n",
      "\n",
      "Student\n",
      "JW-1    92.4\n",
      "JW-2    80.9\n",
      "JW-3    69.7\n",
      "JW-4    80.9\n",
      "JW-5    69.7\n",
      "Name: Weight, dtype: float64\n"
     ]
    }
   ],
   "source": [
    "students = pd.read_csv('sample_data/sample_student_data.csv', skiprows=[1], index_col=0)\n",
    "\n",
    "print(students['Weight'].head())\n",
    "print()\n",
    "print(students['Weight'][:5]) \n"
   ]
  },
  {
   "cell_type": "code",
   "execution_count": 26,
   "metadata": {
    "slideshow": {
     "slide_type": "slide"
    }
   },
   "outputs": [
    {
     "name": "stdout",
     "output_type": "stream",
     "text": [
      "  Weight         DOB\n",
      "0     kg    dd/mm/yy\n",
      "1   92.4  19/12/1995\n",
      "2   80.9  11/01/1996\n",
      "3   69.7  02/10/1995\n"
     ]
    }
   ],
   "source": [
    "\n",
    "print(students[['Weight', 'DOB']][:4]) "
   ]
  },
  {
   "cell_type": "markdown",
   "metadata": {
    "slideshow": {
     "slide_type": "slide"
    }
   },
   "source": [
    "Alternative method for single columns:"
   ]
  },
  {
   "cell_type": "code",
   "execution_count": 27,
   "metadata": {},
   "outputs": [
    {
     "name": "stdout",
     "output_type": "stream",
     "text": [
      "0      kg\n",
      "1    92.4\n",
      "2    80.9\n",
      "3    69.7\n",
      "4    80.9\n",
      "Name: Weight, dtype: object\n"
     ]
    }
   ],
   "source": [
    "print(students.Weight.head())"
   ]
  },
  {
   "cell_type": "code",
   "execution_count": 28,
   "metadata": {},
   "outputs": [
    {
     "name": "stdout",
     "output_type": "stream",
     "text": [
      "0      kg\n",
      "1    92.4\n",
      "2    80.9\n",
      "3    69.7\n",
      "4    80.9\n",
      "Name: Weight, dtype: object\n",
      "0      kg\n",
      "1    92.4\n",
      "2    80.9\n",
      "3    69.7\n",
      "4    80.9\n",
      "Name: Weight, dtype: object\n"
     ]
    }
   ],
   "source": [
    "print(students['Weight'].head())\n",
    "\n",
    "print(students[:5].Weight)"
   ]
  },
  {
   "cell_type": "markdown",
   "metadata": {
    "slideshow": {
     "slide_type": "slide"
    }
   },
   "source": [
    "The selected data is returned as a new data frame."
   ]
  },
  {
   "cell_type": "markdown",
   "metadata": {
    "slideshow": {
     "slide_type": "slide"
    }
   },
   "source": [
    "### Indexing\n",
    "<a id='Indexing'></a>\n",
    "A DataFrame may be indexed into like an array.\n",
    "\n",
    "#### .iloc syntax\n",
    "\n",
    "The `.iloc` (*index location*) indexing syntax is used. "
   ]
  },
  {
   "cell_type": "code",
   "execution_count": 29,
   "metadata": {
    "slideshow": {
     "slide_type": "slide"
    }
   },
   "outputs": [
    {
     "name": "stdout",
     "output_type": "stream",
     "text": [
      "19/12/1995\n",
      "1.77\n",
      "Student\n",
      "JW-3    69.7\n",
      "JW-4    80.9\n",
      "Name: Weight, dtype: float64\n"
     ]
    }
   ],
   "source": [
    "print(students.iloc[0, 1])    # row 0, col 1 : sex of student JW-1 \n",
    "print(students.iloc[1, 2])    # row 1, col 2 : DOB of student JW-2\n",
    "print(students.iloc[2:4, 3])  # row 2-4, col 3 : Height of students JW-3 to JW-4\n",
    "# print(students.iloc[3, 0:3])  # row 3, col 0-3 : Sex, DOB, Height of student JW-4\n",
    "# print(students.iloc[0])       # row 0, all cols : all data for student JW-1\n",
    "\n",
    "# print(students.iloc[:, 3])    # col 3, all rows, all Height data (first 5 entries)"
   ]
  },
  {
   "cell_type": "markdown",
   "metadata": {
    "slideshow": {
     "slide_type": "slide"
    }
   },
   "source": [
    "#### .loc syntax\n",
    "Alternatively, values in a DataFrame can be indexed by keyword.\n",
    "\n",
    "The `.loc` indexing syntax is used. \n",
    "\n",
    " - This is *much* more explicit.\n",
    " - Individual rows/columns can be selected but ranges cannot be specified"
   ]
  },
  {
   "cell_type": "code",
   "execution_count": 2,
   "metadata": {
    "slideshow": {
     "slide_type": "slide"
    }
   },
   "outputs": [
    {
     "ename": "NameError",
     "evalue": "name 'students' is not defined",
     "output_type": "error",
     "traceback": [
      "\u001b[0;31m---------------------------------------------------------------------------\u001b[0m",
      "\u001b[0;31mNameError\u001b[0m                                 Traceback (most recent call last)",
      "\u001b[0;32m<ipython-input-2-e3fbb6c37d1f>\u001b[0m in \u001b[0;36m<module>\u001b[0;34m()\u001b[0m\n\u001b[0;32m----> 1\u001b[0;31m \u001b[0mprint\u001b[0m\u001b[0;34m(\u001b[0m\u001b[0mstudents\u001b[0m\u001b[0;34m)\u001b[0m\u001b[0;34m\u001b[0m\u001b[0m\n\u001b[0m\u001b[1;32m      2\u001b[0m \u001b[0mprint\u001b[0m\u001b[0;34m(\u001b[0m\u001b[0mstudents\u001b[0m\u001b[0;34m.\u001b[0m\u001b[0mloc\u001b[0m\u001b[0;34m[\u001b[0m\u001b[0;34m'JW-1'\u001b[0m\u001b[0;34m,\u001b[0m \u001b[0;34m'Sex'\u001b[0m\u001b[0;34m]\u001b[0m\u001b[0;34m)\u001b[0m                    \u001b[0;31m# Single data point\u001b[0m\u001b[0;34m\u001b[0m\u001b[0m\n\u001b[1;32m      3\u001b[0m \u001b[0;31m# print(students.loc['JW-2', ['DOB', 'Height'])       # One row, two columns\u001b[0m\u001b[0;34m\u001b[0m\u001b[0;34m\u001b[0m\u001b[0m\n\u001b[1;32m      4\u001b[0m \u001b[0;31m# print(students.loc[['JW-3', 'JW-12'], 'Height'])    # Two columns, one row\u001b[0m\u001b[0;34m\u001b[0m\u001b[0;34m\u001b[0m\u001b[0m\n\u001b[1;32m      5\u001b[0m \u001b[0mprint\u001b[0m\u001b[0;34m(\u001b[0m\u001b[0mstudents\u001b[0m\u001b[0;34m.\u001b[0m\u001b[0mloc\u001b[0m\u001b[0;34m[\u001b[0m\u001b[0;34m'JW-1'\u001b[0m\u001b[0;34m]\u001b[0m\u001b[0;34m)\u001b[0m                           \u001b[0;31m# One row, all columns\u001b[0m\u001b[0;34m\u001b[0m\u001b[0m\n",
      "\u001b[0;31mNameError\u001b[0m: name 'students' is not defined"
     ]
    }
   ],
   "source": [
    "print(students)\n",
    "print(students.loc['JW-1', 'Sex'])                    # Single data point\n",
    "# print(students.loc['JW-2', ['DOB', 'Height'])       # One row, two columns\n",
    "# print(students.loc[['JW-3', 'JW-12'], 'Height'])    # Two columns, one row\n",
    "print(students.loc['JW-1'])                           # One row, all columns\n",
    "print(students.loc[:,'Height'])                       # All rows, one column"
   ]
  },
  {
   "cell_type": "markdown",
   "metadata": {
    "slideshow": {
     "slide_type": "slide"
    }
   },
   "source": [
    "We can now apply the functions as before, but to the selected data only."
   ]
  },
  {
   "cell_type": "code",
   "execution_count": 31,
   "metadata": {
    "slideshow": {
     "slide_type": "slide"
    }
   },
   "outputs": [
    {
     "name": "stdout",
     "output_type": "stream",
     "text": [
      "71.75454545454545\n"
     ]
    }
   ],
   "source": [
    "# dot syntax : 1 column\n",
    "print(students.Weight.mean())                                   # mean of all weight\n",
    "\n",
    "\n"
   ]
  },
  {
   "cell_type": "code",
   "execution_count": 35,
   "metadata": {
    "slideshow": {
     "slide_type": "slide"
    }
   },
   "outputs": [
    {
     "name": "stdout",
     "output_type": "stream",
     "text": [
      "sex     0\n",
      "BP     22\n",
      "dtype: int64\n",
      "1.6533333333333333\n",
      "          Height    Weight\n",
      "Height  1.000000  0.670787\n",
      "Weight  0.670787  1.000000\n"
     ]
    },
    {
     "name": "stderr",
     "output_type": "stream",
     "text": [
      "/anaconda3/lib/python3.6/site-packages/pandas/core/indexing.py:1472: FutureWarning: \n",
      "Passing list-likes to .loc or [] with any missing label will raise\n",
      "KeyError in the future, you can use .reindex() as an alternative.\n",
      "\n",
      "See the documentation here:\n",
      "https://pandas.pydata.org/pandas-docs/stable/indexing.html#deprecate-loc-reindex-listlike\n",
      "  return self._getitem_tuple(key)\n"
     ]
    }
   ],
   "source": [
    "# loc syntax : individual rows/columns\n",
    "print(students.loc[:, ['sex', 'BP']].count())                    # number of non-null sex and BP values \n",
    "print(students.loc[['JW-3', 'JW-5', 'JW-10'], 'Height'].mean())  # mean Height, students JW-3, JW-5, JW-10\n",
    "print(students.loc[:, ['Height', 'Weight']].corr())              # correlation between Height and Weight values\n",
    "\n"
   ]
  },
  {
   "cell_type": "code",
   "execution_count": 37,
   "metadata": {
    "slideshow": {
     "slide_type": "slide"
    }
   },
   "outputs": [
    {
     "name": "stdout",
     "output_type": "stream",
     "text": [
      "Height     1.77\n",
      "Weight    80.90\n",
      "dtype: float64\n",
      "Height     1.56\n",
      "Weight    45.00\n",
      "dtype: float64\n",
      "1.68\n",
      "13.493869058372479\n",
      "37.42999999999999\n"
     ]
    }
   ],
   "source": [
    "# # iloc syntax : ranges\n",
    "print(students.iloc[2:6, 2:4].max())                 # highest value of Height and Weight, students JW-3 to JW-5\n",
    "print(students.iloc[:, 2:4].min())                   # lowest value of all Height and Weight\n",
    "print(students.iloc[:, 2].median())                  # median of all Height \n",
    "print(students.iloc[:, 3].std())                     # standard deviation of all  Weight\n",
    "print(students.iloc[:, 2].sum())                     # sum of all  Weights"
   ]
  },
  {
   "cell_type": "markdown",
   "metadata": {
    "slideshow": {
     "slide_type": "slide"
    }
   },
   "source": [
    "### Time Series Data\n",
    "<a id='TimeSeriesData'></a>\n",
    "For time series data, `pandas` can be used to read csv files where one of the columns includes date-time data. \n",
    "\n",
    "Indicating the column contains date-time values prompts `pandas` to try to convert that column to *datetime objects*. \n",
    "\n",
    "Datetime objects are very convenient as specifics of the datetime object may be accessed with dot syntax (e.g. `.year` returns the year, `.month` returns the month, etc.)\n",
    "\n",
    " \n",
    "\n"
   ]
  },
  {
   "cell_type": "markdown",
   "metadata": {
    "slideshow": {
     "slide_type": "slide"
    }
   },
   "source": [
    "In the DataFrame `students`, DOB appears in the column with index 2 <br>(regular indexing, not .iloc or .loc indexing) <br>so we use the argument `parse_dates=[2]`"
   ]
  },
  {
   "cell_type": "code",
   "execution_count": 142,
   "metadata": {
    "slideshow": {
     "slide_type": "-"
    }
   },
   "outputs": [
    {
     "ename": "NameError",
     "evalue": "name 'read_csv' is not defined",
     "output_type": "error",
     "traceback": [
      "\u001b[0;31m---------------------------------------------------------------------------\u001b[0m",
      "\u001b[0;31mNameError\u001b[0m                                 Traceback (most recent call last)",
      "\u001b[0;32m<ipython-input-26-3594d01cd7df>\u001b[0m in \u001b[0;36m<module>\u001b[0;34m()\u001b[0m\n\u001b[0;32m----> 1\u001b[0;31m students = read_csv('sample_data/sample_student_data.csv', \n\u001b[0m\u001b[1;32m      2\u001b[0m                     \u001b[0mskiprows\u001b[0m\u001b[0;34m=\u001b[0m\u001b[0;34m[\u001b[0m\u001b[0;36m1\u001b[0m\u001b[0;34m]\u001b[0m\u001b[0;34m,\u001b[0m\u001b[0;34m\u001b[0m\u001b[0m\n\u001b[1;32m      3\u001b[0m                     \u001b[0mindex_col\u001b[0m\u001b[0;34m=\u001b[0m\u001b[0;36m0\u001b[0m\u001b[0;34m,\u001b[0m\u001b[0;34m\u001b[0m\u001b[0m\n\u001b[1;32m      4\u001b[0m                     parse_dates=[2])\n",
      "\u001b[0;31mNameError\u001b[0m: name 'read_csv' is not defined"
     ]
    }
   ],
   "source": [
    "students = pd.read_csv('sample_data/sample_student_data.csv', \n",
    "                    skiprows=[1],   \n",
    "                    index_col=0,\n",
    "                    parse_dates=[2])"
   ]
  },
  {
   "cell_type": "markdown",
   "metadata": {
    "slideshow": {
     "slide_type": "slide"
    }
   },
   "source": [
    "Time series data may also contain the time in addition to the date. \n",
    "\n",
    "This is autonmatically included in a datetime object."
   ]
  },
  {
   "cell_type": "code",
   "execution_count": 143,
   "metadata": {
    "slideshow": {
     "slide_type": "-"
    }
   },
   "outputs": [
    {
     "name": "stdout",
     "output_type": "stream",
     "text": [
      "1996-11-01 00:00:00\n",
      "\n",
      "1996\n",
      "\n",
      "11\n",
      "\n",
      "1\n",
      "\n"
     ]
    }
   ],
   "source": [
    "print(students.loc['JW-2', 'DOB'],       end='\\n\\n')\n",
    "print(students.loc['JW-2', 'DOB'].year,  end='\\n\\n')\n",
    "print(students.loc['JW-2', 'DOB'].month, end='\\n\\n')\n",
    "print(students.loc['JW-2', 'DOB'].day,   end='\\n\\n')"
   ]
  },
  {
   "cell_type": "markdown",
   "metadata": {
    "slideshow": {
     "slide_type": "slide"
    }
   },
   "source": [
    "Time data may be accessed using:\n",
    "- `.hour`\n",
    "- `.minute`\n",
    "- `.time()`"
   ]
  },
  {
   "cell_type": "markdown",
   "metadata": {
    "slideshow": {
     "slide_type": "slide"
    }
   },
   "source": [
    "### Numpy Functions for Data Frames\n",
    "<a id='NumpyFunctionsDataFrames'></a>\n",
    "In general, many numpy fuctions can be applied to data frames in the same way as to numpy arrays. \n",
    "\n",
    "Functions can also be accessed with the *dot* syntax:\n",
    "> `dataframe.function()`\n",
    "\n",
    "where `dataframe_name` and `function` are replaced with the actual data frame and function names."
   ]
  },
  {
   "cell_type": "markdown",
   "metadata": {
    "slideshow": {
     "slide_type": "slide"
    }
   },
   "source": [
    "Jupyter notebook has a convenient command to show all available functions. \n",
    "\n",
    "1.Type the name of the data frame followed by a dot e.g. \n",
    "\n",
    ">`students.` \n",
    "\n",
    "1. Press \"Tab\" to see all the functions that are available (there are many). "
   ]
  },
  {
   "cell_type": "markdown",
   "metadata": {
    "slideshow": {
     "slide_type": "slide"
    }
   },
   "source": [
    "Example: The Numpy function `argmax` returns the index of the greatest value.\n",
    "\n",
    "This can then be used to find the value of another parameter at that index."
   ]
  },
  {
   "cell_type": "code",
   "execution_count": 144,
   "metadata": {},
   "outputs": [
    {
     "name": "stdout",
     "output_type": "stream",
     "text": [
      "Maximum height amongst students 1.97\n",
      "Tallest student: JW-23\n",
      "Sex of tallest student: M\n"
     ]
    },
    {
     "name": "stderr",
     "output_type": "stream",
     "text": [
      "/anaconda3/lib/python3.6/site-packages/ipykernel_launcher.py:3: FutureWarning: 'argmax' is deprecated, use 'idxmax' instead. The behavior of 'argmax'\n",
      "will be corrected to return the positional maximum in the future.\n",
      "Use 'series.values.argmax' to get the position of the maximum now.\n",
      "  This is separate from the ipykernel package so we can avoid doing imports until\n",
      "/anaconda3/lib/python3.6/site-packages/ipykernel_launcher.py:5: FutureWarning: 'argmax' is deprecated, use 'idxmax' instead. The behavior of 'argmax'\n",
      "will be corrected to return the positional maximum in the future.\n",
      "Use 'series.values.argmax' to get the position of the maximum now.\n",
      "  \"\"\"\n"
     ]
    }
   ],
   "source": [
    "print('Maximum height amongst students', students.Height.max())\n",
    "\n",
    "print('Tallest student:',                students.Height.argmax())\n",
    "\n",
    "print('Sex of tallest student:',         students.Sex[students.Height.argmax()])   "
   ]
  },
  {
   "cell_type": "markdown",
   "metadata": {
    "slideshow": {
     "slide_type": "slide"
    }
   },
   "source": [
    "Example: Applying a Numpy function with two columns as input arguments."
   ]
  },
  {
   "cell_type": "code",
   "execution_count": 145,
   "metadata": {
    "slideshow": {
     "slide_type": "-"
    }
   },
   "outputs": [
    {
     "name": "stdout",
     "output_type": "stream",
     "text": [
      "Student\n",
      "JW-1     0.035848\n",
      "JW-2     0.038726\n",
      "JW-3     0.040494\n",
      "JW-4     0.038726\n",
      "JW-5     0.040494\n",
      "JW-6     0.039184\n",
      "JW-7     0.038061\n",
      "JW-9     0.038592\n",
      "JW-10    0.056889\n",
      "JW-11    0.038321\n",
      "JW-12    0.037670\n",
      "JW-14    0.043226\n",
      "JW-15    0.041378\n",
      "JW-16    0.036396\n",
      "JW-17    0.031057\n",
      "JW-18    0.036692\n",
      "JW-19    0.037565\n",
      "JW-22    0.064222\n",
      "JW-23    0.043508\n",
      "JW-24    0.043191\n",
      "JW-25    0.041256\n",
      "JW-26    0.051929\n",
      "Name: Height, dtype: float64\n"
     ]
    }
   ],
   "source": [
    "BMI = np.divide(students['Height']**2, students['Weight'])\n",
    "print(BMI)"
   ]
  },
  {
   "cell_type": "markdown",
   "metadata": {
    "slideshow": {
     "slide_type": "slide"
    }
   },
   "source": [
    "### Boolean Data Frame Indexing\n",
    "<a id='BooleanDataFrameIndexing'></a>\n",
    "Using the same principle as the `argmax` example, we can use *conditionals* to select items that meet a certain criteria."
   ]
  },
  {
   "cell_type": "code",
   "execution_count": 149,
   "metadata": {
    "slideshow": {
     "slide_type": "slide"
    }
   },
   "outputs": [
    {
     "name": "stdout",
     "output_type": "stream",
     "text": [
      "All female students: ['JW-3', 'JW-5', 'JW-7', 'JW-9', 'JW-10', 'JW-14', 'JW-15', 'JW-19', 'JW-22', 'JW-24', 'JW-25']\n",
      "All students taller than 1.6m: ['JW-1', 'JW-2', 'JW-3', 'JW-4', 'JW-5', 'JW-6', 'JW-7', 'JW-9', 'JW-11', 'JW-12', 'JW-15', 'JW-16', 'JW-17', 'JW-18', 'JW-22', 'JW-23', 'JW-24', 'JW-25', 'JW-26']\n",
      "All female students taller than 1.6m: ['JW-3', 'JW-5', 'JW-7', 'JW-9', 'JW-15', 'JW-22', 'JW-24', 'JW-25']\n"
     ]
    }
   ],
   "source": [
    "girls = students.index[students.Sex == 'F']\n",
    "\n",
    "taller_than = students.index[students.Height > 1.6]\n",
    "\n",
    "girls_taller_than = students.index[((students.Sex == 'F') & (students.Height > 1.6))]\n",
    "\n",
    "print('All female students:', girls.tolist())\n",
    "print('All students taller than 1.6m:', taller_than.tolist())\n",
    "print('All female students taller than 1.6m:', girls_taller_than.tolist())"
   ]
  },
  {
   "cell_type": "markdown",
   "metadata": {
    "slideshow": {
     "slide_type": "slide"
    }
   },
   "source": [
    "### Changing Values\n",
    "<a id='ChangingValues'></a>\n",
    "We can overwrite the values of a data frame.\n",
    "\n",
    "__Example : Applying a conversion factor.__\n",
    "    \n",
    "Convert Heights, given in m, to units of cm\n",
    "    \n",
    "    "
   ]
  },
  {
   "cell_type": "code",
   "execution_count": 45,
   "metadata": {},
   "outputs": [
    {
     "name": "stdout",
     "output_type": "stream",
     "text": [
      "        Sex         DOB   Height  Weight      BP\n",
      "Student                                         \n",
      "JW-1      M  19/12/1995  18200.0    92.4  119/76\n",
      "JW-2      M  11/01/1996  17700.0    80.9  114/73\n",
      "JW-3      F  02/10/1995  16800.0    69.7  124/79\n",
      "JW-4      M  11/01/1996  17700.0    80.9  114/73\n",
      "JW-5      F  02/10/1995  16800.0    69.7  124/79\n",
      "\n",
      "        Sex         DOB     Height  Weight      BP\n",
      "Student                                           \n",
      "JW-1      M  19/12/1995  1820000.0    92.4  119/76\n",
      "JW-2      M  11/01/1996  1770000.0    80.9  114/73\n",
      "JW-3      F  02/10/1995  1680000.0    69.7  124/79\n",
      "JW-4      M  11/01/1996  1770000.0    80.9  114/73\n",
      "JW-5      F  02/10/1995  1680000.0    69.7  124/79\n"
     ]
    }
   ],
   "source": [
    "print(students.head())\n",
    "\n",
    "students.Height *= 100\n",
    "\n",
    "print()\n",
    "print(students.head())"
   ]
  },
  {
   "cell_type": "markdown",
   "metadata": {
    "slideshow": {
     "slide_type": "slide"
    }
   },
   "source": [
    "We can select (and change) values within a DataFrame based on a condition.\n",
    "\n",
    "__Example__\n",
    "Set all Weight above 80 to 80.\n",
    "\n",
    "Row index : `students.Weight > 80` \n",
    "\n",
    "Column index : `Weight` "
   ]
  },
  {
   "cell_type": "code",
   "execution_count": 48,
   "metadata": {},
   "outputs": [
    {
     "name": "stdout",
     "output_type": "stream",
     "text": [
      "        Sex         DOB     Height  Weight      BP\n",
      "Student                                           \n",
      "JW-1      M  19/12/1995  1820000.0    92.4  119/76\n",
      "JW-2      M  11/01/1996  1770000.0    80.9  114/73\n",
      "JW-3      F  02/10/1995  1680000.0    69.7  124/79\n",
      "JW-4      M  11/01/1996  1770000.0    80.9  114/73\n",
      "JW-5      F  02/10/1995  1680000.0    69.7  124/79\n",
      "\n",
      "        Sex         DOB     Height  Weight      BP\n",
      "Student                                           \n",
      "JW-1      M  19/12/1995  1820000.0    80.0  119/76\n",
      "JW-2      M  11/01/1996  1770000.0    80.0  114/73\n",
      "JW-3      F  02/10/1995  1680000.0    69.7  124/79\n",
      "JW-4      M  11/01/1996  1770000.0    80.0  114/73\n",
      "JW-5      F  02/10/1995  1680000.0    69.7  124/79\n"
     ]
    }
   ],
   "source": [
    "print(students.head())\n",
    "\n",
    "students.loc[students.Weight > 80, 'Weight'] = 80\n",
    "\n",
    "print()\n",
    "print(students.head())"
   ]
  },
  {
   "cell_type": "markdown",
   "metadata": {
    "slideshow": {
     "slide_type": "slide"
    }
   },
   "source": [
    "__Example__\n",
    "Set the Height of all students with Weight = 80, to 160\n",
    "\n",
    "Row index : `students.Weight == 80` \n",
    "\n",
    "Column index : `Height` \n"
   ]
  },
  {
   "cell_type": "code",
   "execution_count": 49,
   "metadata": {},
   "outputs": [
    {
     "name": "stdout",
     "output_type": "stream",
     "text": [
      "        Sex         DOB     Height  Weight      BP\n",
      "Student                                           \n",
      "JW-1      M  19/12/1995  1820000.0    80.0  119/76\n",
      "JW-2      M  11/01/1996  1770000.0    80.0  114/73\n",
      "JW-3      F  02/10/1995  1680000.0    69.7  124/79\n",
      "JW-4      M  11/01/1996  1770000.0    80.0  114/73\n",
      "JW-5      F  02/10/1995  1680000.0    69.7  124/79\n",
      "\n",
      "        Sex         DOB     Height  Weight      BP\n",
      "Student                                           \n",
      "JW-1      M  19/12/1995      160.0    80.0  119/76\n",
      "JW-2      M  11/01/1996      160.0    80.0  114/73\n",
      "JW-3      F  02/10/1995  1680000.0    69.7  124/79\n",
      "JW-4      M  11/01/1996      160.0    80.0  114/73\n",
      "JW-5      F  02/10/1995  1680000.0    69.7  124/79\n"
     ]
    }
   ],
   "source": [
    "print(students.head())\n",
    "\n",
    "students.loc[students.Weight == 80, 'Height'] = 160\n",
    "\n",
    "print()\n",
    "print(students.head())"
   ]
  },
  {
   "cell_type": "markdown",
   "metadata": {
    "slideshow": {
     "slide_type": "slide"
    }
   },
   "source": [
    "## Applying a Function to a Whole Series\n",
    "<a id='ApplyingFunctionWholeSeries'></a>\n",
    "You can apply a function that takes a single value as input, to a whole Data Frame series, using the keyword `apply`.\n",
    "\n",
    "\n",
    "The column or index name is used to indicte which series to apply the function to."
   ]
  },
  {
   "cell_type": "markdown",
   "metadata": {
    "slideshow": {
     "slide_type": "slide"
    }
   },
   "source": [
    "Example: apply the function $x^2$ to every value ($x$) in the column __Weight__. "
   ]
  },
  {
   "cell_type": "code",
   "execution_count": 50,
   "metadata": {},
   "outputs": [
    {
     "name": "stdout",
     "output_type": "stream",
     "text": [
      "        Sex         DOB     Height   Weight      BP\n",
      "Student                                            \n",
      "JW-1      M  19/12/1995      160.0  6400.00  119/76\n",
      "JW-2      M  11/01/1996      160.0  6400.00  114/73\n",
      "JW-3      F  02/10/1995  1680000.0  4858.09  124/79\n",
      "JW-4      M  11/01/1996      160.0  6400.00  114/73\n",
      "JW-5      F  02/10/1995  1680000.0  4858.09  124/79\n"
     ]
    }
   ],
   "source": [
    "def square(x):\n",
    "    return x**2\n",
    "\n",
    "students.Weight = students.Weight.apply(square)\n",
    "\n",
    "print(students.head())"
   ]
  },
  {
   "cell_type": "markdown",
   "metadata": {
    "slideshow": {
     "slide_type": "slide"
    }
   },
   "source": [
    "This can also be expressed as a Lambda function"
   ]
  },
  {
   "cell_type": "code",
   "execution_count": 51,
   "metadata": {},
   "outputs": [
    {
     "name": "stdout",
     "output_type": "stream",
     "text": [
      "        Sex         DOB     Height        Weight      BP\n",
      "Student                                                 \n",
      "JW-1      M  19/12/1995      160.0  4.096000e+07  119/76\n",
      "JW-2      M  11/01/1996      160.0  4.096000e+07  114/73\n",
      "JW-3      F  02/10/1995  1680000.0  2.360104e+07  124/79\n",
      "JW-4      M  11/01/1996      160.0  4.096000e+07  114/73\n",
      "JW-5      F  02/10/1995  1680000.0  2.360104e+07  124/79\n"
     ]
    }
   ],
   "source": [
    "students.Weight = students.Weight.apply(lambda x : x**2)\n",
    "print(students.head())"
   ]
  },
  {
   "cell_type": "markdown",
   "metadata": {
    "slideshow": {
     "slide_type": "slide"
    }
   },
   "source": [
    "## Sorting Data Frames\n",
    "<a id='SortingDataFrames'></a>"
   ]
  },
  {
   "cell_type": "markdown",
   "metadata": {},
   "source": [
    "DataFrames may be sorted with the `.sort_values` function. \n",
    "\n",
    "The argument `by` determines which column the entries should be ordered by."
   ]
  },
  {
   "cell_type": "code",
   "execution_count": 52,
   "metadata": {
    "slideshow": {
     "slide_type": "slide"
    }
   },
   "outputs": [
    {
     "name": "stdout",
     "output_type": "stream",
     "text": [
      "Students in height order:\n"
     ]
    },
    {
     "data": {
      "text/html": [
       "<div>\n",
       "<style scoped>\n",
       "    .dataframe tbody tr th:only-of-type {\n",
       "        vertical-align: middle;\n",
       "    }\n",
       "\n",
       "    .dataframe tbody tr th {\n",
       "        vertical-align: top;\n",
       "    }\n",
       "\n",
       "    .dataframe thead th {\n",
       "        text-align: right;\n",
       "    }\n",
       "</style>\n",
       "<table border=\"1\" class=\"dataframe\">\n",
       "  <thead>\n",
       "    <tr style=\"text-align: right;\">\n",
       "      <th></th>\n",
       "      <th>Sex</th>\n",
       "      <th>DOB</th>\n",
       "      <th>Height</th>\n",
       "      <th>Weight</th>\n",
       "      <th>BP</th>\n",
       "    </tr>\n",
       "    <tr>\n",
       "      <th>Student</th>\n",
       "      <th></th>\n",
       "      <th></th>\n",
       "      <th></th>\n",
       "      <th></th>\n",
       "      <th></th>\n",
       "    </tr>\n",
       "  </thead>\n",
       "  <tbody>\n",
       "    <tr>\n",
       "      <th>JW-1</th>\n",
       "      <td>M</td>\n",
       "      <td>19/12/1995</td>\n",
       "      <td>160.0</td>\n",
       "      <td>4.096000e+07</td>\n",
       "      <td>119/76</td>\n",
       "    </tr>\n",
       "    <tr>\n",
       "      <th>JW-23</th>\n",
       "      <td>M</td>\n",
       "      <td>15/05/1995</td>\n",
       "      <td>160.0</td>\n",
       "      <td>4.096000e+07</td>\n",
       "      <td>124/82</td>\n",
       "    </tr>\n",
       "    <tr>\n",
       "      <th>JW-17</th>\n",
       "      <td>M</td>\n",
       "      <td>17/02/1996</td>\n",
       "      <td>160.0</td>\n",
       "      <td>4.096000e+07</td>\n",
       "      <td>101/76</td>\n",
       "    </tr>\n",
       "    <tr>\n",
       "      <th>JW-9</th>\n",
       "      <td>F</td>\n",
       "      <td>11/12/1995</td>\n",
       "      <td>160.0</td>\n",
       "      <td>4.096000e+07</td>\n",
       "      <td>115/75</td>\n",
       "    </tr>\n",
       "    <tr>\n",
       "      <th>JW-12</th>\n",
       "      <td>M</td>\n",
       "      <td>23/05/1996</td>\n",
       "      <td>160.0</td>\n",
       "      <td>4.096000e+07</td>\n",
       "      <td>105/70</td>\n",
       "    </tr>\n",
       "    <tr>\n",
       "      <th>JW-4</th>\n",
       "      <td>M</td>\n",
       "      <td>11/01/1996</td>\n",
       "      <td>160.0</td>\n",
       "      <td>4.096000e+07</td>\n",
       "      <td>114/73</td>\n",
       "    </tr>\n",
       "    <tr>\n",
       "      <th>JW-2</th>\n",
       "      <td>M</td>\n",
       "      <td>11/01/1996</td>\n",
       "      <td>160.0</td>\n",
       "      <td>4.096000e+07</td>\n",
       "      <td>114/73</td>\n",
       "    </tr>\n",
       "    <tr>\n",
       "      <th>JW-14</th>\n",
       "      <td>F</td>\n",
       "      <td>12/01/1996</td>\n",
       "      <td>1560000.0</td>\n",
       "      <td>1.004693e+07</td>\n",
       "      <td>108/72</td>\n",
       "    </tr>\n",
       "    <tr>\n",
       "      <th>JW-19</th>\n",
       "      <td>F</td>\n",
       "      <td>30/10/1995</td>\n",
       "      <td>1590000.0</td>\n",
       "      <td>2.051447e+07</td>\n",
       "      <td>103/69</td>\n",
       "    </tr>\n",
       "    <tr>\n",
       "      <th>JW-10</th>\n",
       "      <td>F</td>\n",
       "      <td>07/04/1996</td>\n",
       "      <td>1600000.0</td>\n",
       "      <td>4.100625e+06</td>\n",
       "      <td>-/-</td>\n",
       "    </tr>\n",
       "    <tr>\n",
       "      <th>JW-16</th>\n",
       "      <td>M</td>\n",
       "      <td>10/09/1995</td>\n",
       "      <td>1630000.0</td>\n",
       "      <td>2.839824e+07</td>\n",
       "      <td>131/84</td>\n",
       "    </tr>\n",
       "    <tr>\n",
       "      <th>JW-25</th>\n",
       "      <td>F</td>\n",
       "      <td>25/10/1995</td>\n",
       "      <td>1630000.0</td>\n",
       "      <td>1.720059e+07</td>\n",
       "      <td>-/-</td>\n",
       "    </tr>\n",
       "    <tr>\n",
       "      <th>JW-15</th>\n",
       "      <td>F</td>\n",
       "      <td>01/06/1996</td>\n",
       "      <td>1640000.0</td>\n",
       "      <td>1.785062e+07</td>\n",
       "      <td>99/67</td>\n",
       "    </tr>\n",
       "    <tr>\n",
       "      <th>JW-7</th>\n",
       "      <td>F</td>\n",
       "      <td>28/03/1996</td>\n",
       "      <td>1660000.0</td>\n",
       "      <td>2.747605e+07</td>\n",
       "      <td>-</td>\n",
       "    </tr>\n",
       "    <tr>\n",
       "      <th>JW-24</th>\n",
       "      <td>F</td>\n",
       "      <td>01/12/1995</td>\n",
       "      <td>1660000.0</td>\n",
       "      <td>1.656848e+07</td>\n",
       "      <td>100/78</td>\n",
       "    </tr>\n",
       "    <tr>\n",
       "      <th>JW-18</th>\n",
       "      <td>M</td>\n",
       "      <td>31/07/1996</td>\n",
       "      <td>1660000.0</td>\n",
       "      <td>3.180971e+07</td>\n",
       "      <td>-/-</td>\n",
       "    </tr>\n",
       "    <tr>\n",
       "      <th>JW-5</th>\n",
       "      <td>F</td>\n",
       "      <td>02/10/1995</td>\n",
       "      <td>1680000.0</td>\n",
       "      <td>2.360104e+07</td>\n",
       "      <td>124/79</td>\n",
       "    </tr>\n",
       "    <tr>\n",
       "      <th>JW-3</th>\n",
       "      <td>F</td>\n",
       "      <td>02/10/1995</td>\n",
       "      <td>1680000.0</td>\n",
       "      <td>2.360104e+07</td>\n",
       "      <td>124/79</td>\n",
       "    </tr>\n",
       "    <tr>\n",
       "      <th>JW-26</th>\n",
       "      <td>M</td>\n",
       "      <td>17/04/1996</td>\n",
       "      <td>1690000.0</td>\n",
       "      <td>9.150625e+06</td>\n",
       "      <td>121/82</td>\n",
       "    </tr>\n",
       "    <tr>\n",
       "      <th>JW-22</th>\n",
       "      <td>F</td>\n",
       "      <td>09/03/1996</td>\n",
       "      <td>1700000.0</td>\n",
       "      <td>4.100625e+06</td>\n",
       "      <td>119/80</td>\n",
       "    </tr>\n",
       "    <tr>\n",
       "      <th>JW-11</th>\n",
       "      <td>M</td>\n",
       "      <td>22/08/1995</td>\n",
       "      <td>1720000.0</td>\n",
       "      <td>3.551969e+07</td>\n",
       "      <td>97/63</td>\n",
       "    </tr>\n",
       "    <tr>\n",
       "      <th>JW-6</th>\n",
       "      <td>M</td>\n",
       "      <td>06/07/1995</td>\n",
       "      <td>1720000.0</td>\n",
       "      <td>3.249285e+07</td>\n",
       "      <td>110/60</td>\n",
       "    </tr>\n",
       "  </tbody>\n",
       "</table>\n",
       "</div>"
      ],
      "text/plain": [
       "        Sex         DOB     Height        Weight      BP\n",
       "Student                                                 \n",
       "JW-1      M  19/12/1995      160.0  4.096000e+07  119/76\n",
       "JW-23     M  15/05/1995      160.0  4.096000e+07  124/82\n",
       "JW-17     M  17/02/1996      160.0  4.096000e+07  101/76\n",
       "JW-9      F  11/12/1995      160.0  4.096000e+07  115/75\n",
       "JW-12     M  23/05/1996      160.0  4.096000e+07  105/70\n",
       "JW-4      M  11/01/1996      160.0  4.096000e+07  114/73\n",
       "JW-2      M  11/01/1996      160.0  4.096000e+07  114/73\n",
       "JW-14     F  12/01/1996  1560000.0  1.004693e+07  108/72\n",
       "JW-19     F  30/10/1995  1590000.0  2.051447e+07  103/69\n",
       "JW-10     F  07/04/1996  1600000.0  4.100625e+06     -/-\n",
       "JW-16     M  10/09/1995  1630000.0  2.839824e+07  131/84\n",
       "JW-25     F  25/10/1995  1630000.0  1.720059e+07     -/-\n",
       "JW-15     F  01/06/1996  1640000.0  1.785062e+07   99/67\n",
       "JW-7      F  28/03/1996  1660000.0  2.747605e+07       -\n",
       "JW-24     F  01/12/1995  1660000.0  1.656848e+07  100/78\n",
       "JW-18     M  31/07/1996  1660000.0  3.180971e+07     -/-\n",
       "JW-5      F  02/10/1995  1680000.0  2.360104e+07  124/79\n",
       "JW-3      F  02/10/1995  1680000.0  2.360104e+07  124/79\n",
       "JW-26     M  17/04/1996  1690000.0  9.150625e+06  121/82\n",
       "JW-22     F  09/03/1996  1700000.0  4.100625e+06  119/80\n",
       "JW-11     M  22/08/1995  1720000.0  3.551969e+07   97/63\n",
       "JW-6      M  06/07/1995  1720000.0  3.249285e+07  110/60"
      ]
     },
     "metadata": {},
     "output_type": "display_data"
    }
   ],
   "source": [
    "print('Students in height order:')\n",
    "display(students.sort_values(by='Height'))"
   ]
  },
  {
   "cell_type": "markdown",
   "metadata": {
    "slideshow": {
     "slide_type": "slide"
    }
   },
   "source": [
    "The function has several default/keyword arguments.\n",
    "\n",
    "`inplace=True` replaces the original DataFrame with the new sorted DataFrame.\n",
    "<br>When `inplace=False` (default) a new DataFrame is returned (which you can store in a separate variable). \n",
    "\n",
    "`ascending=True` (default) sorts the values in ascending order.\n",
    "<br>`ascending=False` sorts the values in descending order."
   ]
  },
  {
   "cell_type": "code",
   "execution_count": 53,
   "metadata": {
    "slideshow": {
     "slide_type": "slide"
    }
   },
   "outputs": [
    {
     "name": "stdout",
     "output_type": "stream",
     "text": [
      "Students in height order:\n",
      "        Sex         DOB     Height        Weight      BP\n",
      "Student                                                 \n",
      "JW-6      M  06/07/1995  1720000.0  3.249285e+07  110/60\n",
      "JW-11     M  22/08/1995  1720000.0  3.551969e+07   97/63\n",
      "JW-22     F  09/03/1996  1700000.0  4.100625e+06  119/80\n",
      "JW-26     M  17/04/1996  1690000.0  9.150625e+06  121/82\n",
      "JW-3      F  02/10/1995  1680000.0  2.360104e+07  124/79\n"
     ]
    }
   ],
   "source": [
    "print('Students in height order:')\n",
    "print(students.sort_values(by='Height', ascending=False).head())"
   ]
  },
  {
   "cell_type": "markdown",
   "metadata": {
    "slideshow": {
     "slide_type": "slide"
    }
   },
   "source": [
    "## Data Cleaning\n",
    "<a id='DataCleaning'></a>\n",
    "Data cleaning is a very important step in data analysis. \n",
    "\n",
    "For example, we always as missing values can appear in the data set without generating an error, we must check to identify null or `NaN` values.\n",
    "\n",
    "The .csv file, 'sample_data/data_with_holes.csv' has some empty cells."
   ]
  },
  {
   "cell_type": "code",
   "execution_count": 54,
   "metadata": {},
   "outputs": [
    {
     "name": "stdout",
     "output_type": "stream",
     "text": [
      "   Item 1  Item 2  Item 3  Item 4\n",
      "0       3     NaN     4.0       5\n",
      "1       5     6.0     7.0      66\n",
      "2       7     7.0     NaN       5\n",
      "3       1     1.0     1.0      44\n"
     ]
    }
   ],
   "source": [
    "header = ['Item 1', 'Item 2', 'Item 3', 'Item 4']\n",
    "\n",
    "df = pd.read_csv('sample_data/data_with_holes.csv', names=header)\n",
    "\n",
    "print(df)"
   ]
  },
  {
   "cell_type": "code",
   "execution_count": 436,
   "metadata": {
    "slideshow": {
     "slide_type": "slide"
    }
   },
   "outputs": [
    {
     "name": "stdout",
     "output_type": "stream",
     "text": [
      "   Item 1  Item 2  Item 3  Item 4\n",
      "0   False    True   False   False\n",
      "1   False   False   False   False\n",
      "2   False   False    True   False\n",
      "3   False   False   False   False\n",
      "\n",
      "Item 1    0\n",
      "Item 2    1\n",
      "Item 3    1\n",
      "Item 4    0\n",
      "dtype: int64\n",
      "\n",
      "   Item 1  Item 2  Item 3  Item 4\n",
      "0    True   False    True    True\n",
      "1    True    True    True    True\n",
      "2    True    True   False    True\n",
      "3    True    True    True    True\n"
     ]
    }
   ],
   "source": [
    "print(df.isnull())        # checks for null/missing values, and returns a boolean array\n",
    "print()\n",
    "print(df.isnull().sum())  # number of null/missing in each column\n",
    "print()\n",
    "print(df.notnull())       # checks for NOT null/missing values"
   ]
  },
  {
   "cell_type": "markdown",
   "metadata": {
    "slideshow": {
     "slide_type": "slide"
    }
   },
   "source": [
    "Missing values can then be:\n",
    "- removed (whole column or row), `df.dropna()`\n",
    "- filled, `df.fillna()`"
   ]
  },
  {
   "cell_type": "code",
   "execution_count": 153,
   "metadata": {
    "slideshow": {
     "slide_type": "slide"
    }
   },
   "outputs": [
    {
     "name": "stdout",
     "output_type": "stream",
     "text": [
      "   Item 1  Item 2  Item 3  Item 4\n",
      "0       3     NaN     4.0       5\n",
      "1       5     6.0     7.0      66\n",
      "2       7     7.0     NaN       5\n",
      "3       1     1.0     1.0      44\n",
      "\n",
      "   Item 1                                             Item 2  \\\n",
      "0       3  <bound method DataFrame.mean of    Item 1  Ite...   \n",
      "1       5                                                  6   \n",
      "2       7                                                  7   \n",
      "3       1                                                  1   \n",
      "\n",
      "                                              Item 3  Item 4  \n",
      "0                                                  4       5  \n",
      "1                                                  7      66  \n",
      "2  <bound method DataFrame.mean of    Item 1  Ite...       5  \n",
      "3                                                  1      44  \n"
     ]
    }
   ],
   "source": [
    "print(pd.read_csv('sample_data/data_with_holes.csv', names=header))\n",
    "print()\n",
    "\n",
    "# # remove rows\n",
    "# print(pd.read_csv('sample_data/data_with_holes.csv', names=header).dropna()) \n",
    "\n",
    "# # remove columns\n",
    "# print(pd.read_csv('sample_data/data_with_holes.csv', names=header).dropna(axis=1))\n",
    "\n",
    "# # fill gaps with 0\n",
    "# print(pd.read_csv('sample_data/data_with_holes.csv', names=header).fillna(0)) \n",
    "\n",
    "# # fill gaps with mean of others values in column\n",
    "# df = pd.read_csv('sample_data/data_with_holes.csv', names=header)\n",
    "# print(df.fillna(df.mean)) "
   ]
  },
  {
   "cell_type": "markdown",
   "metadata": {
    "slideshow": {
     "slide_type": "slide"
    }
   },
   "source": [
    "Duplicates can be removed from the data set"
   ]
  },
  {
   "cell_type": "code",
   "execution_count": 55,
   "metadata": {},
   "outputs": [
    {
     "name": "stdout",
     "output_type": "stream",
     "text": [
      "   Item 1  Item 2  Item 3  Item 4\n",
      "0       3     NaN     4.0       5\n",
      "1       5     6.0     7.0      66\n",
      "2       7     7.0     NaN       5\n",
      "3       1     1.0     1.0      44\n",
      "\n",
      "   Item 1  Item 2  Item 3  Item 4\n",
      "0       3     NaN     4.0       5\n",
      "1       5     6.0     7.0      66\n",
      "3       1     1.0     1.0      44\n"
     ]
    }
   ],
   "source": [
    "df = pd.read_csv('sample_data/data_with_holes.csv', names=header)\n",
    "\n",
    "df_filtered = df.drop_duplicates('Item 4')\n",
    "\n",
    "print(df)\n",
    "print()\n",
    "print(df_filtered)"
   ]
  },
  {
   "cell_type": "markdown",
   "metadata": {
    "slideshow": {
     "slide_type": "slide"
    }
   },
   "source": [
    "Optionally, you can specify:\n",
    "    - which value to keep (default keeps first)\n",
    "    - to apply the change to the current data frame"
   ]
  },
  {
   "cell_type": "code",
   "execution_count": 154,
   "metadata": {},
   "outputs": [
    {
     "name": "stdout",
     "output_type": "stream",
     "text": [
      "   Item 1  Item 2  Item 3  Item 4\n",
      "1       5     6.0     7.0      66\n",
      "2       7     7.0     NaN       5\n",
      "3       1     1.0     1.0      44\n"
     ]
    }
   ],
   "source": [
    "df = pd.read_csv('sample_data/data_with_holes.csv', names=header)\n",
    "\n",
    "df.drop_duplicates('Item 4', keep='last', inplace=True)\n",
    "\n",
    "print(df)"
   ]
  },
  {
   "cell_type": "markdown",
   "metadata": {
    "slideshow": {
     "slide_type": "subslide"
    }
   },
   "source": [
    "### Iterating\n",
    "<a id='Iterating'></a>\n",
    "To iterate through each index (row) in the data frame, there is a method called `iterrows`.\n",
    "\n"
   ]
  },
  {
   "cell_type": "code",
   "execution_count": 440,
   "metadata": {},
   "outputs": [
    {
     "name": "stdout",
     "output_type": "stream",
     "text": [
      "JW-1 19/12/1995\n",
      "JW-10 07/04/1996\n",
      "JW-11 22/08/1995\n",
      "JW-12 23/05/1996\n",
      "JW-14 12/01/1996\n",
      "JW-15 01/06/1996\n",
      "JW-16 10/09/1995\n",
      "JW-17 17/02/1996\n",
      "JW-18 31/07/1996\n",
      "JW-19 30/10/1995\n",
      "JW-2 11/01/1996\n",
      "JW-22 09/03/1996\n",
      "JW-23 15/05/1995\n",
      "JW-24 01/12/1995\n",
      "JW-25 25/10/1995\n",
      "JW-26 17/04/1996\n",
      "JW-3 02/10/1995\n",
      "JW-4 11/01/1996\n",
      "JW-5 02/10/1995\n",
      "JW-6 06/07/1995\n",
      "JW-7 28/03/1996\n",
      "JW-9 11/12/1995\n"
     ]
    }
   ],
   "source": [
    "for index, row in students.iterrows():\n",
    "    print(index, row[\"DOB\"])"
   ]
  },
  {
   "cell_type": "markdown",
   "metadata": {
    "slideshow": {
     "slide_type": "slide"
    }
   },
   "source": [
    "## Plotting Data Frames\n",
    "<a id='PlottingDataFrames'></a>\n",
    "You can plot the column or row of a DataFrame with `matplotlib` functions, as we have studied. "
   ]
  },
  {
   "cell_type": "code",
   "execution_count": 1,
   "metadata": {},
   "outputs": [
    {
     "ename": "NameError",
     "evalue": "name 'pd' is not defined",
     "output_type": "error",
     "traceback": [
      "\u001b[0;31m---------------------------------------------------------------------------\u001b[0m",
      "\u001b[0;31mNameError\u001b[0m                                 Traceback (most recent call last)",
      "\u001b[0;32m<ipython-input-1-671a5c0d0101>\u001b[0m in \u001b[0;36m<module>\u001b[0;34m()\u001b[0m\n\u001b[0;32m----> 1\u001b[0;31m \u001b[0mstudents\u001b[0m \u001b[0;34m=\u001b[0m \u001b[0mpd\u001b[0m\u001b[0;34m.\u001b[0m\u001b[0mread_csv\u001b[0m\u001b[0;34m(\u001b[0m\u001b[0;34m'sample_data/sample_student_data.csv'\u001b[0m\u001b[0;34m,\u001b[0m \u001b[0mskiprows\u001b[0m\u001b[0;34m=\u001b[0m\u001b[0;34m[\u001b[0m\u001b[0;36m1\u001b[0m\u001b[0;34m]\u001b[0m\u001b[0;34m,\u001b[0m \u001b[0mindex_col\u001b[0m\u001b[0;34m=\u001b[0m\u001b[0;34m[\u001b[0m\u001b[0;36m0\u001b[0m\u001b[0;34m]\u001b[0m\u001b[0;34m)\u001b[0m\u001b[0;34m\u001b[0m\u001b[0m\n\u001b[0m\u001b[1;32m      2\u001b[0m \u001b[0mplt\u001b[0m\u001b[0;34m.\u001b[0m\u001b[0mplot\u001b[0m\u001b[0;34m(\u001b[0m\u001b[0mstudents\u001b[0m\u001b[0;34m.\u001b[0m\u001b[0mWeight\u001b[0m\u001b[0;34m,\u001b[0m \u001b[0mstudents\u001b[0m\u001b[0;34m.\u001b[0m\u001b[0mHeight\u001b[0m\u001b[0;34m,\u001b[0m \u001b[0;34m'o'\u001b[0m\u001b[0;34m)\u001b[0m\u001b[0;34m\u001b[0m\u001b[0m\n",
      "\u001b[0;31mNameError\u001b[0m: name 'pd' is not defined"
     ]
    }
   ],
   "source": [
    "students = pd.read_csv('sample_data/sample_student_data.csv', skiprows=[1], index_col=[0])\n",
    "plt.plot(students.Weight, students.Height, 'o')"
   ]
  },
  {
   "cell_type": "code",
   "execution_count": 466,
   "metadata": {
    "slideshow": {
     "slide_type": "slide"
    }
   },
   "outputs": [
    {
     "data": {
      "text/html": [
       "<div>\n",
       "<style scoped>\n",
       "    .dataframe tbody tr th:only-of-type {\n",
       "        vertical-align: middle;\n",
       "    }\n",
       "\n",
       "    .dataframe tbody tr th {\n",
       "        vertical-align: top;\n",
       "    }\n",
       "\n",
       "    .dataframe thead th {\n",
       "        text-align: right;\n",
       "    }\n",
       "</style>\n",
       "<table border=\"1\" class=\"dataframe\">\n",
       "  <thead>\n",
       "    <tr style=\"text-align: right;\">\n",
       "      <th></th>\n",
       "      <th>0</th>\n",
       "      <th>1</th>\n",
       "      <th>2</th>\n",
       "      <th>3</th>\n",
       "      <th>4</th>\n",
       "    </tr>\n",
       "  </thead>\n",
       "  <tbody>\n",
       "    <tr>\n",
       "      <th>0</th>\n",
       "      <td>1.053</td>\n",
       "      <td>2.105</td>\n",
       "      <td>3.158</td>\n",
       "      <td>4.211</td>\n",
       "      <td>6.056</td>\n",
       "    </tr>\n",
       "    <tr>\n",
       "      <th>1</th>\n",
       "      <td>48.348</td>\n",
       "      <td>68.733</td>\n",
       "      <td>59.796</td>\n",
       "      <td>54.123</td>\n",
       "      <td>74.452</td>\n",
       "    </tr>\n",
       "  </tbody>\n",
       "</table>\n",
       "</div>"
      ],
      "text/plain": [
       "        0       1       2       3       4\n",
       "0   1.053   2.105   3.158   4.211   6.056\n",
       "1  48.348  68.733  59.796  54.123  74.452"
      ]
     },
     "metadata": {},
     "output_type": "display_data"
    }
   ],
   "source": [
    "unlabelled = pd.read_csv('sample_data/noHeader_noIndex.csv',  header=None)\n",
    "\n",
    "display(unlabelled)\n"
   ]
  },
  {
   "cell_type": "markdown",
   "metadata": {
    "slideshow": {
     "slide_type": "slide"
    }
   },
   "source": [
    "Where there are no headers or row names, `iloc` indexing can be used as normal."
   ]
  },
  {
   "cell_type": "code",
   "execution_count": 467,
   "metadata": {},
   "outputs": [
    {
     "data": {
      "text/plain": [
       "[<matplotlib.lines.Line2D at 0x11b50bd68>]"
      ]
     },
     "execution_count": 467,
     "metadata": {},
     "output_type": "execute_result"
    },
    {
     "data": {
      "image/png": "[encoded data removed]",
      "text/plain": [
       "<matplotlib.figure.Figure at 0x11b2e4b38>"
      ]
     },
     "metadata": {},
     "output_type": "display_data"
    }
   ],
   "source": [
    "# Plot row 1 (y axis) against row 0 (x axis)\n",
    "plt.plot(unlabelled.iloc[0], unlabelled.iloc[1]) "
   ]
  },
  {
   "cell_type": "markdown",
   "metadata": {
    "slideshow": {
     "slide_type": "slide"
    }
   },
   "source": [
    "Where there are no headers or row names, `loc` indexing can uses numerical indices in place of strings (i.e. same as `iloc`):"
   ]
  },
  {
   "cell_type": "code",
   "execution_count": 468,
   "metadata": {},
   "outputs": [
    {
     "name": "stdout",
     "output_type": "stream",
     "text": [
      "Int64Index([0, 1, 2, 3, 4], dtype='int64')\n"
     ]
    },
    {
     "data": {
      "text/plain": [
       "[<matplotlib.lines.Line2D at 0x11b588b00>]"
      ]
     },
     "execution_count": 468,
     "metadata": {},
     "output_type": "execute_result"
    },
    {
     "data": {
      "image/png": "[encoded data removed]",
      "text/plain": [
       "<matplotlib.figure.Figure at 0x11b4e9be0>"
      ]
     },
     "metadata": {},
     "output_type": "display_data"
    }
   ],
   "source": [
    "print(unlabelled.keys())\n",
    "\n",
    "plt.plot(unlabelled.loc[0], unlabelled.loc[1]) "
   ]
  },
  {
   "cell_type": "markdown",
   "metadata": {
    "slideshow": {
     "slide_type": "subslide"
    }
   },
   "source": [
    "To plot all columns against each other:"
   ]
  },
  {
   "cell_type": "code",
   "execution_count": 469,
   "metadata": {},
   "outputs": [
    {
     "data": {
      "text/html": [
       "<div>\n",
       "<style scoped>\n",
       "    .dataframe tbody tr th:only-of-type {\n",
       "        vertical-align: middle;\n",
       "    }\n",
       "\n",
       "    .dataframe tbody tr th {\n",
       "        vertical-align: top;\n",
       "    }\n",
       "\n",
       "    .dataframe thead th {\n",
       "        text-align: right;\n",
       "    }\n",
       "</style>\n",
       "<table border=\"1\" class=\"dataframe\">\n",
       "  <thead>\n",
       "    <tr style=\"text-align: right;\">\n",
       "      <th></th>\n",
       "      <th>X</th>\n",
       "      <th>Y</th>\n",
       "    </tr>\n",
       "  </thead>\n",
       "  <tbody>\n",
       "    <tr>\n",
       "      <th>0</th>\n",
       "      <td>1.053</td>\n",
       "      <td>48.348</td>\n",
       "    </tr>\n",
       "    <tr>\n",
       "      <th>1</th>\n",
       "      <td>2.105</td>\n",
       "      <td>68.733</td>\n",
       "    </tr>\n",
       "    <tr>\n",
       "      <th>2</th>\n",
       "      <td>3.158</td>\n",
       "      <td>59.796</td>\n",
       "    </tr>\n",
       "    <tr>\n",
       "      <th>3</th>\n",
       "      <td>4.211</td>\n",
       "      <td>54.123</td>\n",
       "    </tr>\n",
       "    <tr>\n",
       "      <th>4</th>\n",
       "      <td>6.056</td>\n",
       "      <td>74.452</td>\n",
       "    </tr>\n",
       "  </tbody>\n",
       "</table>\n",
       "</div>"
      ],
      "text/plain": [
       "       X       Y\n",
       "0  1.053  48.348\n",
       "1  2.105  68.733\n",
       "2  3.158  59.796\n",
       "3  4.211  54.123\n",
       "4  6.056  74.452"
      ]
     },
     "metadata": {},
     "output_type": "display_data"
    },
    {
     "data": {
      "text/plain": [
       "<matplotlib.axes._subplots.AxesSubplot at 0x11b48f208>"
      ]
     },
     "execution_count": 469,
     "metadata": {},
     "output_type": "execute_result"
    },
    {
     "data": {
      "image/png": "[encoded data removed]",
      "text/plain": [
       "<matplotlib.figure.Figure at 0x11b59eda0>"
      ]
     },
     "metadata": {},
     "output_type": "display_data"
    }
   ],
   "source": [
    "#import data\n",
    "headers = [\"X\",\"Y\"]\n",
    "unlabelled_vert = pd.read_csv('sample_data/noHeader_noIndex_vert.csv', names=headers)\n",
    "display(unlabelled_vert)\n",
    "\n",
    "#plot\n",
    "unlabelled_vert.plot()"
   ]
  },
  {
   "cell_type": "markdown",
   "metadata": {
    "slideshow": {
     "slide_type": "slide"
    }
   },
   "source": [
    "`Pandas` also has its own plotting functions (based on `matplotlib`, using the *dot* syntax).\n",
    "\n",
    "Axes names and legend are generated automatically. \n",
    "\n",
    "The documentation can be found here: \n",
    "https://pandas.pydata.org/pandas-docs/stable/generated/pandas.DataFrame.plot.html\n",
    "\n",
    "Below are some examples..."
   ]
  },
  {
   "cell_type": "code",
   "execution_count": 470,
   "metadata": {},
   "outputs": [
    {
     "data": {
      "text/plain": [
       "<matplotlib.axes._subplots.AxesSubplot at 0x11b6584e0>"
      ]
     },
     "execution_count": 470,
     "metadata": {},
     "output_type": "execute_result"
    },
    {
     "data": {
      "image/png": "[encoded data removed]",
      "text/plain": [
       "<matplotlib.figure.Figure at 0x11b6f7048>"
      ]
     },
     "metadata": {},
     "output_type": "display_data"
    }
   ],
   "source": [
    "unlabelled_vert.plot(kind=\"bar\")"
   ]
  },
  {
   "cell_type": "code",
   "execution_count": 471,
   "metadata": {
    "slideshow": {
     "slide_type": "subslide"
    }
   },
   "outputs": [
    {
     "data": {
      "text/plain": [
       "<matplotlib.axes._subplots.AxesSubplot at 0x11b4686a0>"
      ]
     },
     "execution_count": 471,
     "metadata": {},
     "output_type": "execute_result"
    },
    {
     "data": {
      "image/png": "[encoded data removed]",
      "text/plain": [
       "<matplotlib.figure.Figure at 0x11ac0c630>"
      ]
     },
     "metadata": {},
     "output_type": "display_data"
    }
   ],
   "source": [
    "unlabelled_vert.plot(kind=\"barh\")"
   ]
  },
  {
   "cell_type": "code",
   "execution_count": 472,
   "metadata": {
    "scrolled": true,
    "slideshow": {
     "slide_type": "subslide"
    }
   },
   "outputs": [
    {
     "data": {
      "text/plain": [
       "<matplotlib.axes._subplots.AxesSubplot at 0x11b7e79b0>"
      ]
     },
     "execution_count": 472,
     "metadata": {},
     "output_type": "execute_result"
    },
    {
     "data": {
      "image/png": "[encoded data removed]",
      "text/plain": [
       "<matplotlib.figure.Figure at 0x1191bc3c8>"
      ]
     },
     "metadata": {},
     "output_type": "display_data"
    }
   ],
   "source": [
    "students.plot('Height', 'Weight', kind=\"scatter\")"
   ]
  },
  {
   "cell_type": "markdown",
   "metadata": {
    "collapsed": true,
    "slideshow": {
     "slide_type": "subslide"
    }
   },
   "source": [
    "## Adding, Removing and Joining\n",
    "<a id='AddingRemovingJoining'></a>\n",
    "### Adding a Column to a Data Frame\n",
    "<a id='AddingColumnDataFrame'></a>\n",
    "A column may be added to a Data Frame by specifying the keyword and values of the new column in the same way as a new entry is added to a dictionary. "
   ]
  },
  {
   "cell_type": "code",
   "execution_count": 473,
   "metadata": {},
   "outputs": [
    {
     "name": "stdout",
     "output_type": "stream",
     "text": [
      "        Sex         DOB  Height  Weight      BP BloodGroup\n",
      "Student                                                   \n",
      "JW-1      M  19/12/1995    1.82    92.4  119/76          B\n",
      "JW-2      M  11/01/1996    1.77    80.9  114/73          A\n",
      "JW-3      F  02/10/1995    1.68    69.7  124/79          O\n",
      "JW-4      M  11/01/1996    1.77    80.9  114/73          B\n",
      "JW-5      F  02/10/1995    1.68    69.7  124/79          O\n"
     ]
    }
   ],
   "source": [
    "# Add a column called BloodGroup\n",
    "students[\"BloodGroup\"] = ['B', 'A', 'O', 'B', 'O',\n",
    "                          'AB', 'O', 'B', 'A', 'B',\n",
    "                          'A', 'A', 'O', 'O', 'A', \n",
    "                          'O', 'O', 'A', 'O', 'B', 'B', 'B']\n",
    "\n",
    "print(students.head())\n",
    "\n",
    "# Remove the column\n",
    "del students[\"BloodGroup\"]"
   ]
  },
  {
   "cell_type": "markdown",
   "metadata": {
    "slideshow": {
     "slide_type": "subslide"
    }
   },
   "source": [
    "### Inserting a Column to a Data Frame\n",
    "<a id='InsertingColumnDataFrame'></a>\n",
    "A column may be inserted at a specific position."
   ]
  },
  {
   "cell_type": "code",
   "execution_count": 474,
   "metadata": {},
   "outputs": [
    {
     "name": "stdout",
     "output_type": "stream",
     "text": [
      "        Sex         DOB  Height  Weight       BMI      BP\n",
      "Student                                                  \n",
      "JW-1      M  19/12/1995    1.82    92.4  0.035848  119/76\n",
      "JW-2      M  11/01/1996    1.77    80.9  0.038726  114/73\n",
      "JW-3      F  02/10/1995    1.68    69.7  0.040494  124/79\n",
      "JW-4      M  11/01/1996    1.77    80.9  0.038726  114/73\n",
      "JW-5      F  02/10/1995    1.68    69.7  0.040494  124/79\n"
     ]
    }
   ],
   "source": [
    "# Add a column called BMI, calculated from two other columns\n",
    "students.insert(loc=4, column='BMI', value=(students.Height**2 / students.Weight))\n",
    "print(students.head())\n",
    "\n",
    "# Remove the column\n",
    "del students['BMI']\n"
   ]
  },
  {
   "cell_type": "markdown",
   "metadata": {
    "slideshow": {
     "slide_type": "subslide"
    }
   },
   "source": [
    "### Adding a Row to a Data Frame\n",
    "<a id='AddingRowDataFrame'></a>"
   ]
  },
  {
   "cell_type": "markdown",
   "metadata": {},
   "source": [
    "The `.loc` indexing syntax can be used to add a row to a data frame"
   ]
  },
  {
   "cell_type": "code",
   "execution_count": 476,
   "metadata": {},
   "outputs": [
    {
     "name": "stdout",
     "output_type": "stream",
     "text": [
      "        Sex         DOB  Height  Weight      BP\n",
      "Student                                        \n",
      "JW-24     F  01/12/1995    1.66    63.8  100/78\n",
      "JW-25     F  25/10/1995    1.63    64.4     -/-\n",
      "JW-26     M  17/04/1996    1.69    55.0  121/82\n",
      "JW-8      M  17/04/1996    1.69    55.0  121/82\n",
      "JW-13     M  17/04/1996    1.69    55.0  121/82\n"
     ]
    }
   ],
   "source": [
    "students.loc['JW-8'] = ['M',  '17/04/1996',    1.69,    55.0 ,  '121/82']  # adding a row\n",
    "students.loc['JW-13'] = ['M',  '17/04/1996',    1.69,    55.0 ,  '121/82']\n",
    "print(students.tail())"
   ]
  },
  {
   "cell_type": "markdown",
   "metadata": {
    "slideshow": {
     "slide_type": "subslide"
    }
   },
   "source": [
    "Single or multiple rows can be removed from a data frame. \n",
    "\n",
    "The keyword argument `inplace` applies the changes to the original data frame. "
   ]
  },
  {
   "cell_type": "code",
   "execution_count": 477,
   "metadata": {
    "slideshow": {
     "slide_type": "-"
    }
   },
   "outputs": [
    {
     "data": {
      "text/html": [
       "<div>\n",
       "<style scoped>\n",
       "    .dataframe tbody tr th:only-of-type {\n",
       "        vertical-align: middle;\n",
       "    }\n",
       "\n",
       "    .dataframe tbody tr th {\n",
       "        vertical-align: top;\n",
       "    }\n",
       "\n",
       "    .dataframe thead th {\n",
       "        text-align: right;\n",
       "    }\n",
       "</style>\n",
       "<table border=\"1\" class=\"dataframe\">\n",
       "  <thead>\n",
       "    <tr style=\"text-align: right;\">\n",
       "      <th></th>\n",
       "      <th>Sex</th>\n",
       "      <th>DOB</th>\n",
       "      <th>Height</th>\n",
       "      <th>Weight</th>\n",
       "      <th>BP</th>\n",
       "    </tr>\n",
       "    <tr>\n",
       "      <th>Student</th>\n",
       "      <th></th>\n",
       "      <th></th>\n",
       "      <th></th>\n",
       "      <th></th>\n",
       "      <th></th>\n",
       "    </tr>\n",
       "  </thead>\n",
       "  <tbody>\n",
       "    <tr>\n",
       "      <th>JW-1</th>\n",
       "      <td>M</td>\n",
       "      <td>19/12/1995</td>\n",
       "      <td>1.82</td>\n",
       "      <td>92.4</td>\n",
       "      <td>119/76</td>\n",
       "    </tr>\n",
       "    <tr>\n",
       "      <th>JW-2</th>\n",
       "      <td>M</td>\n",
       "      <td>11/01/1996</td>\n",
       "      <td>1.77</td>\n",
       "      <td>80.9</td>\n",
       "      <td>114/73</td>\n",
       "    </tr>\n",
       "    <tr>\n",
       "      <th>JW-3</th>\n",
       "      <td>F</td>\n",
       "      <td>02/10/1995</td>\n",
       "      <td>1.68</td>\n",
       "      <td>69.7</td>\n",
       "      <td>124/79</td>\n",
       "    </tr>\n",
       "    <tr>\n",
       "      <th>JW-4</th>\n",
       "      <td>M</td>\n",
       "      <td>11/01/1996</td>\n",
       "      <td>1.77</td>\n",
       "      <td>80.9</td>\n",
       "      <td>114/73</td>\n",
       "    </tr>\n",
       "    <tr>\n",
       "      <th>JW-5</th>\n",
       "      <td>F</td>\n",
       "      <td>02/10/1995</td>\n",
       "      <td>1.68</td>\n",
       "      <td>69.7</td>\n",
       "      <td>124/79</td>\n",
       "    </tr>\n",
       "  </tbody>\n",
       "</table>\n",
       "</div>"
      ],
      "text/plain": [
       "        Sex         DOB  Height  Weight      BP\n",
       "Student                                        \n",
       "JW-1      M  19/12/1995    1.82    92.4  119/76\n",
       "JW-2      M  11/01/1996    1.77    80.9  114/73\n",
       "JW-3      F  02/10/1995    1.68    69.7  124/79\n",
       "JW-4      M  11/01/1996    1.77    80.9  114/73\n",
       "JW-5      F  02/10/1995    1.68    69.7  124/79"
      ]
     },
     "metadata": {},
     "output_type": "display_data"
    },
    {
     "data": {
      "text/html": [
       "<div>\n",
       "<style scoped>\n",
       "    .dataframe tbody tr th:only-of-type {\n",
       "        vertical-align: middle;\n",
       "    }\n",
       "\n",
       "    .dataframe tbody tr th {\n",
       "        vertical-align: top;\n",
       "    }\n",
       "\n",
       "    .dataframe thead th {\n",
       "        text-align: right;\n",
       "    }\n",
       "</style>\n",
       "<table border=\"1\" class=\"dataframe\">\n",
       "  <thead>\n",
       "    <tr style=\"text-align: right;\">\n",
       "      <th></th>\n",
       "      <th>Sex</th>\n",
       "      <th>Height</th>\n",
       "      <th>Weight</th>\n",
       "      <th>BP</th>\n",
       "    </tr>\n",
       "    <tr>\n",
       "      <th>Student</th>\n",
       "      <th></th>\n",
       "      <th></th>\n",
       "      <th></th>\n",
       "      <th></th>\n",
       "    </tr>\n",
       "  </thead>\n",
       "  <tbody>\n",
       "    <tr>\n",
       "      <th>JW-3</th>\n",
       "      <td>F</td>\n",
       "      <td>1.68</td>\n",
       "      <td>69.7</td>\n",
       "      <td>124/79</td>\n",
       "    </tr>\n",
       "    <tr>\n",
       "      <th>JW-5</th>\n",
       "      <td>F</td>\n",
       "      <td>1.68</td>\n",
       "      <td>69.7</td>\n",
       "      <td>124/79</td>\n",
       "    </tr>\n",
       "    <tr>\n",
       "      <th>JW-6</th>\n",
       "      <td>M</td>\n",
       "      <td>1.72</td>\n",
       "      <td>75.5</td>\n",
       "      <td>110/60</td>\n",
       "    </tr>\n",
       "    <tr>\n",
       "      <th>JW-7</th>\n",
       "      <td>F</td>\n",
       "      <td>1.66</td>\n",
       "      <td>72.4</td>\n",
       "      <td>-</td>\n",
       "    </tr>\n",
       "    <tr>\n",
       "      <th>JW-9</th>\n",
       "      <td>F</td>\n",
       "      <td>1.78</td>\n",
       "      <td>82.1</td>\n",
       "      <td>115/75</td>\n",
       "    </tr>\n",
       "  </tbody>\n",
       "</table>\n",
       "</div>"
      ],
      "text/plain": [
       "        Sex  Height  Weight      BP\n",
       "Student                            \n",
       "JW-3      F    1.68    69.7  124/79\n",
       "JW-5      F    1.68    69.7  124/79\n",
       "JW-6      M    1.72    75.5  110/60\n",
       "JW-7      F    1.66    72.4       -\n",
       "JW-9      F    1.78    82.1  115/75"
      ]
     },
     "metadata": {},
     "output_type": "display_data"
    }
   ],
   "source": [
    "students = pd.read_csv('sample_data/sample_student_data.csv', skiprows=[1], index_col=0)\n",
    "\n",
    "display(students.head())\n",
    "\n",
    "students.drop(index=['JW-1', 'JW-2', 'JW-4'], columns=['DOB'], inplace=True)\n",
    "\n",
    "display(students.head())"
   ]
  },
  {
   "cell_type": "markdown",
   "metadata": {
    "slideshow": {
     "slide_type": "subslide"
    }
   },
   "source": [
    "Note that if your indexing systen refers to a continuous series of numbers, removing entries may leave holes in the sequence.\n",
    "\n",
    "It can be convenient to re-assign the indexes once entries have been removed."
   ]
  },
  {
   "cell_type": "code",
   "execution_count": null,
   "metadata": {
    "slideshow": {
     "slide_type": "-"
    }
   },
   "outputs": [],
   "source": [
    "# column headings\n",
    "headers = [\"X\",\"Y\"]\n",
    "\n",
    "# import data\n",
    "df = pd.read_csv('sample_data/noHeader_noIndex_vert.csv', names=headers)\n",
    "display(df)\n",
    "\n",
    "# remove two rows\n",
    "df.drop([1, 3], inplace=True)\n",
    "display(df)\n",
    "\n",
    "# re-assign index\n",
    "df = df.reset_index(drop=True) \n",
    "display(df)"
   ]
  },
  {
   "cell_type": "markdown",
   "metadata": {
    "slideshow": {
     "slide_type": "slide"
    }
   },
   "source": [
    "### Resampling\n",
    "<a id='Resampling'></a>\n",
    "Downsampling refers to going from high frequency to low frequency e.g. daily data to monthly data. \n",
    "\n",
    "Upsampling refers to going from low frequency to high frequency e.g. monthly data to daily data. \n",
    "\n",
    "In this example, monthly totals are computed from daily values (downsampling):"
   ]
  },
  {
   "cell_type": "markdown",
   "metadata": {
    "collapsed": true,
    "slideshow": {
     "slide_type": "slide"
    }
   },
   "source": [
    "The file `rotterdam_rainfall_2012.txt` contains the default ranifall data for Rotterdam for 2012.\n",
    "\n",
    "Import the data, using the dates as the index (the column labeled `YYYYMMDD`). \n",
    "\n"
   ]
  },
  {
   "cell_type": "code",
   "execution_count": 158,
   "metadata": {
    "slideshow": {
     "slide_type": "slide"
    }
   },
   "outputs": [
    {
     "data": {
      "text/html": [
       "<div>\n",
       "<style scoped>\n",
       "    .dataframe tbody tr th:only-of-type {\n",
       "        vertical-align: middle;\n",
       "    }\n",
       "\n",
       "    .dataframe tbody tr th {\n",
       "        vertical-align: top;\n",
       "    }\n",
       "\n",
       "    .dataframe thead th {\n",
       "        text-align: right;\n",
       "    }\n",
       "</style>\n",
       "<table border=\"1\" class=\"dataframe\">\n",
       "  <thead>\n",
       "    <tr style=\"text-align: right;\">\n",
       "      <th></th>\n",
       "      <th>STN</th>\n",
       "      <th>RH</th>\n",
       "    </tr>\n",
       "    <tr>\n",
       "      <th>YYYYMMDD</th>\n",
       "      <th></th>\n",
       "      <th></th>\n",
       "    </tr>\n",
       "  </thead>\n",
       "  <tbody>\n",
       "    <tr>\n",
       "      <th>2012-01-01</th>\n",
       "      <td>344</td>\n",
       "      <td>207</td>\n",
       "    </tr>\n",
       "    <tr>\n",
       "      <th>2012-01-02</th>\n",
       "      <td>344</td>\n",
       "      <td>-1</td>\n",
       "    </tr>\n",
       "    <tr>\n",
       "      <th>2012-01-03</th>\n",
       "      <td>344</td>\n",
       "      <td>144</td>\n",
       "    </tr>\n",
       "    <tr>\n",
       "      <th>2012-01-04</th>\n",
       "      <td>344</td>\n",
       "      <td>36</td>\n",
       "    </tr>\n",
       "    <tr>\n",
       "      <th>2012-01-05</th>\n",
       "      <td>344</td>\n",
       "      <td>84</td>\n",
       "    </tr>\n",
       "  </tbody>\n",
       "</table>\n",
       "</div>"
      ],
      "text/plain": [
       "            STN   RH\n",
       "YYYYMMDD            \n",
       "2012-01-01  344  207\n",
       "2012-01-02  344   -1\n",
       "2012-01-03  344  144\n",
       "2012-01-04  344   36\n",
       "2012-01-05  344   84"
      ]
     },
     "metadata": {},
     "output_type": "display_data"
    },
    {
     "data": {
      "text/html": [
       "<div>\n",
       "<style scoped>\n",
       "    .dataframe tbody tr th:only-of-type {\n",
       "        vertical-align: middle;\n",
       "    }\n",
       "\n",
       "    .dataframe tbody tr th {\n",
       "        vertical-align: top;\n",
       "    }\n",
       "\n",
       "    .dataframe thead th {\n",
       "        text-align: right;\n",
       "    }\n",
       "</style>\n",
       "<table border=\"1\" class=\"dataframe\">\n",
       "  <thead>\n",
       "    <tr style=\"text-align: right;\">\n",
       "      <th></th>\n",
       "      <th>STN</th>\n",
       "      <th>RH</th>\n",
       "    </tr>\n",
       "    <tr>\n",
       "      <th>YYYYMMDD</th>\n",
       "      <th></th>\n",
       "      <th></th>\n",
       "    </tr>\n",
       "  </thead>\n",
       "  <tbody>\n",
       "    <tr>\n",
       "      <th>2012-01-01</th>\n",
       "      <td>344</td>\n",
       "      <td>207</td>\n",
       "    </tr>\n",
       "    <tr>\n",
       "      <th>2012-01-02</th>\n",
       "      <td>344</td>\n",
       "      <td>0</td>\n",
       "    </tr>\n",
       "    <tr>\n",
       "      <th>2012-01-03</th>\n",
       "      <td>344</td>\n",
       "      <td>144</td>\n",
       "    </tr>\n",
       "    <tr>\n",
       "      <th>2012-01-04</th>\n",
       "      <td>344</td>\n",
       "      <td>36</td>\n",
       "    </tr>\n",
       "    <tr>\n",
       "      <th>2012-01-05</th>\n",
       "      <td>344</td>\n",
       "      <td>84</td>\n",
       "    </tr>\n",
       "  </tbody>\n",
       "</table>\n",
       "</div>"
      ],
      "text/plain": [
       "            STN   RH\n",
       "YYYYMMDD            \n",
       "2012-01-01  344  207\n",
       "2012-01-02  344    0\n",
       "2012-01-03  344  144\n",
       "2012-01-04  344   36\n",
       "2012-01-05  344   84"
      ]
     },
     "metadata": {},
     "output_type": "display_data"
    },
    {
     "data": {
      "text/html": [
       "<div>\n",
       "<style scoped>\n",
       "    .dataframe tbody tr th:only-of-type {\n",
       "        vertical-align: middle;\n",
       "    }\n",
       "\n",
       "    .dataframe tbody tr th {\n",
       "        vertical-align: top;\n",
       "    }\n",
       "\n",
       "    .dataframe thead th {\n",
       "        text-align: right;\n",
       "    }\n",
       "</style>\n",
       "<table border=\"1\" class=\"dataframe\">\n",
       "  <thead>\n",
       "    <tr style=\"text-align: right;\">\n",
       "      <th></th>\n",
       "      <th>STN</th>\n",
       "      <th>RH</th>\n",
       "    </tr>\n",
       "    <tr>\n",
       "      <th>YYYYMMDD</th>\n",
       "      <th></th>\n",
       "      <th></th>\n",
       "    </tr>\n",
       "  </thead>\n",
       "  <tbody>\n",
       "    <tr>\n",
       "      <th>2012-01-01</th>\n",
       "      <td>344</td>\n",
       "      <td>20.7</td>\n",
       "    </tr>\n",
       "    <tr>\n",
       "      <th>2012-01-02</th>\n",
       "      <td>344</td>\n",
       "      <td>0.0</td>\n",
       "    </tr>\n",
       "    <tr>\n",
       "      <th>2012-01-03</th>\n",
       "      <td>344</td>\n",
       "      <td>14.4</td>\n",
       "    </tr>\n",
       "    <tr>\n",
       "      <th>2012-01-04</th>\n",
       "      <td>344</td>\n",
       "      <td>3.6</td>\n",
       "    </tr>\n",
       "    <tr>\n",
       "      <th>2012-01-05</th>\n",
       "      <td>344</td>\n",
       "      <td>8.4</td>\n",
       "    </tr>\n",
       "  </tbody>\n",
       "</table>\n",
       "</div>"
      ],
      "text/plain": [
       "            STN    RH\n",
       "YYYYMMDD             \n",
       "2012-01-01  344  20.7\n",
       "2012-01-02  344   0.0\n",
       "2012-01-03  344  14.4\n",
       "2012-01-04  344   3.6\n",
       "2012-01-05  344   8.4"
      ]
     },
     "metadata": {},
     "output_type": "display_data"
    }
   ],
   "source": [
    "rain = pd.read_csv('sample_data/rotterdam_rainfall_2012.txt', \n",
    "                skiprows=9,                         # skip 9 rows of header data\n",
    "                parse_dates=['YYYYMMDD'],           # create datetime object\n",
    "                index_col='YYYYMMDD',               # choose the index\n",
    "                skipinitialspace=True)              # skips spaces after the delimiter\n",
    "\n",
    "display(rain.head())\n",
    "rain.RH[rain.RH < 0] = 0  # remove negative values\n",
    "\n",
    "display(rain.head())\n",
    "rain.RH = rain.RH * 0.1   # convert 0.1mm/day to mm/day\n",
    "\n",
    "display(rain.head())"
   ]
  },
  {
   "cell_type": "markdown",
   "metadata": {
    "slideshow": {
     "slide_type": "slide"
    }
   },
   "source": [
    "`resample` is a method. We apply it to column rain.RH\n",
    "\n",
    "__Function arguments:__\n",
    " - desired sampling frequency <br> `'A'` (annually or yearly), `'M'` (monthly), `'W'` (weekly), `'D'` (daily), `'H'` (hourly). <br>There are many other options: see http://pandas.pydata.org/pandas-docs/version/0.12.0/timeseries.html.\n",
    " \n",
    " <br>\n",
    " - `kind`<br>Tell `pandas` which point in the original scale to assign the computed value to. <br>e.g. last day of the period, first day, entire period ...\n",
    " \n",
    " <br>\n",
    " - Specify how to resample by adding a numpy function e.g. `np.mean` (the default), `np.sum`, `np.min`, `np.max`, etc."
   ]
  },
  {
   "cell_type": "code",
   "execution_count": 159,
   "metadata": {
    "slideshow": {
     "slide_type": "slide"
    }
   },
   "outputs": [
    {
     "ename": "NameError",
     "evalue": "name 'rain' is not defined",
     "output_type": "error",
     "traceback": [
      "\u001b[0;31m---------------------------------------------------------------------------\u001b[0m",
      "\u001b[0;31mNameError\u001b[0m                                 Traceback (most recent call last)",
      "\u001b[0;32m<ipython-input-36-a9f2a92cd295>\u001b[0m in \u001b[0;36m<module>\u001b[0;34m()\u001b[0m\n\u001b[0;32m----> 1\u001b[0;31m monthlyrain = rain.RH.resample('M',             # Monthly sampling     \n\u001b[0m\u001b[1;32m      2\u001b[0m                                \u001b[0mkind\u001b[0m\u001b[0;34m=\u001b[0m\u001b[0;34m'period'\u001b[0m    \u001b[0;31m# Assign downsampled value to whole period\u001b[0m\u001b[0;34m\u001b[0m\u001b[0m\n\u001b[1;32m      3\u001b[0m                               ).sum()           # Sum all values to obtain new value\n\u001b[1;32m      4\u001b[0m \u001b[0;34m\u001b[0m\u001b[0m\n\u001b[1;32m      5\u001b[0m \u001b[0mprint\u001b[0m\u001b[0;34m(\u001b[0m\u001b[0mmonthlyrain\u001b[0m\u001b[0;34m)\u001b[0m\u001b[0;34m\u001b[0m\u001b[0m\n",
      "\u001b[0;31mNameError\u001b[0m: name 'rain' is not defined"
     ]
    }
   ],
   "source": [
    "monthlyrain = rain.RH.resample('M',             # Monthly sampling     \n",
    "                               kind='period'    # Assign downsampled value to whole period\n",
    "                              ).sum()           # Sum all values to obtain new value\n",
    "\n",
    "print(monthlyrain)"
   ]
  },
  {
   "cell_type": "markdown",
   "metadata": {
    "slideshow": {
     "slide_type": "slide"
    }
   },
   "source": [
    "Lastly make a bar graph using `pandas`:"
   ]
  },
  {
   "cell_type": "code",
   "execution_count": 65,
   "metadata": {
    "slideshow": {
     "slide_type": "-"
    }
   },
   "outputs": [
    {
     "data": {
      "image/png": "[encoded data removed]",
      "text/plain": [
       "<Figure size 432x288 with 1 Axes>"
      ]
     },
     "metadata": {},
     "output_type": "display_data"
    }
   ],
   "source": [
    "\n",
    "monthlyrain.plot(kind='bar')\n",
    "\n",
    "plt.ylabel('mm/month')\n",
    "plt.xlabel('month');"
   ]
  },
  {
   "cell_type": "markdown",
   "metadata": {
    "slideshow": {
     "slide_type": "slide"
    }
   },
   "source": [
    "### Saving a Data Frame\n",
    "<a id='SavingDataFrame'></a>\n",
    "The `to_csv` method can be used to save a `DataFrame`.\n",
    "\n",
    "In theory, this command can be used to save the data as *any* filetype. \n",
    "\n",
    "Only files that can be opened as unformatted text seperated by a text delimiter (default = , comma) will be able to be read.\n",
    "\n",
    "Function arguments may be used to format the output file.\n",
    "\n",
    "As an example, let's store the new, resampled data set, `monthlyrain` to a .csv, .txt, and .xls file:"
   ]
  },
  {
   "cell_type": "code",
   "execution_count": 66,
   "metadata": {
    "slideshow": {
     "slide_type": "slide"
    }
   },
   "outputs": [],
   "source": [
    "monthlyrain.to_csv('sample_data/rotterdam_monthly_rainfall_2012.csv')\n",
    "monthlyrain.to_csv('sample_data/rotterdam_monthly_rainfall_2012.txt')\n",
    "\n",
    "\n",
    "monthlyrain.to_excel('sample_data/rotterdam_monthly_rainfall_2012.xls')\n",
    "\n"
   ]
  },
  {
   "cell_type": "markdown",
   "metadata": {
    "slideshow": {
     "slide_type": "slide"
    }
   },
   "source": [
    "The full list of optional function arguments can be found here: https://pandas.pydata.org/pandas-docs/stable/generated/pandas.DataFrame.to_csv.html\n",
    "\n",
    "Five useful optional function arguments as examples:\n",
    "- `header` : new headers can be assigend as a list of strings OR the header can be omitted using\n",
    "- `float_format` : the number of decimal places\n",
    "- `sep`: delimter (default = \",\")\n",
    "- `mode` : the Python mode specifier (default = `w`)\n",
    " `header=False`.\n",
    "- `index` : write row names (default = True)"
   ]
  },
  {
   "cell_type": "code",
   "execution_count": 35,
   "metadata": {
    "slideshow": {
     "slide_type": "-"
    }
   },
   "outputs": [
    {
     "ename": "NameError",
     "evalue": "name 'monthlyrain' is not defined",
     "output_type": "error",
     "traceback": [
      "\u001b[0;31m---------------------------------------------------------------------------\u001b[0m",
      "\u001b[0;31mNameError\u001b[0m                                 Traceback (most recent call last)",
      "\u001b[0;32m<ipython-input-35-6e76398686a8>\u001b[0m in \u001b[0;36m<module>\u001b[0;34m()\u001b[0m\n\u001b[0;32m----> 1\u001b[0;31m monthlyrain.to_csv('sample_data/rotterdam_monthly_rain_formatted.csv',\n\u001b[0m\u001b[1;32m      2\u001b[0m                      \u001b[0mheader\u001b[0m\u001b[0;34m=\u001b[0m\u001b[0;32mFalse\u001b[0m\u001b[0;34m,\u001b[0m\u001b[0;34m\u001b[0m\u001b[0m\n\u001b[1;32m      3\u001b[0m                      \u001b[0mfloat_format\u001b[0m\u001b[0;34m=\u001b[0m\u001b[0;34m\"%.3f\"\u001b[0m\u001b[0;34m,\u001b[0m\u001b[0;34m\u001b[0m\u001b[0m\n\u001b[1;32m      4\u001b[0m                      \u001b[0msep\u001b[0m\u001b[0;34m=\u001b[0m\u001b[0;34m\"\\t\"\u001b[0m\u001b[0;34m,\u001b[0m\u001b[0;34m\u001b[0m\u001b[0m\n\u001b[1;32m      5\u001b[0m                      \u001b[0mmode\u001b[0m\u001b[0;34m=\u001b[0m\u001b[0;34m\"a\"\u001b[0m\u001b[0;34m,\u001b[0m\u001b[0;34m\u001b[0m\u001b[0m\n",
      "\u001b[0;31mNameError\u001b[0m: name 'monthlyrain' is not defined"
     ]
    }
   ],
   "source": [
    "monthlyrain.to_csv('sample_data/rotterdam_monthly_rain_formatted.csv',\n",
    "                     header=False,\n",
    "                     float_format=\"%.3f\",\n",
    "                     sep=\"\\t\",\n",
    "                     mode=\"a\",  \n",
    "                     index=False)"
   ]
  },
  {
   "cell_type": "markdown",
   "metadata": {
    "slideshow": {
     "slide_type": "slide"
    }
   },
   "source": [
    "## Other Ways to Save Program Output\n",
    "<a id='OtherWaysSaveProgramOutput'></a>\n",
    "Pandas data frames are very useful for handling data that can be represented as a spreadsheet.\n",
    "\n",
    "However, we need a more generic way to save output data\n",
    "\n",
    "Examples:\n",
    "- saving a block of text\n",
    "- saving a small collection of values"
   ]
  },
  {
   "cell_type": "markdown",
   "metadata": {
    "slideshow": {
     "slide_type": "slide"
    }
   },
   "source": [
    "Python has a collection of easy to use functions for reading and writing files: \n",
    "- `open()`\n",
    "- `read()`\n",
    "- `write()`\n",
    "- `close()` \n",
    "\n"
   ]
  },
  {
   "cell_type": "markdown",
   "metadata": {
    "slideshow": {
     "slide_type": "slide"
    }
   },
   "source": [
    "Before a file can be read or written to, it must be opened using the `open()` function. \n",
    "\n",
    "__Function arguments:__\n",
    "1. Path to the file (filename and location)\n",
    "2. The *mode specifier* with which to open the file:\n",
    "\n",
    "\n",
    "    \n",
    " \n",
    "\n"
   ]
  },
  {
   "cell_type": "markdown",
   "metadata": {
    "slideshow": {
     "slide_type": "slide"
    }
   },
   "source": [
    "<br>\n",
    "- `r`: open an existing file to read\n",
    "\n",
    "<br>   \n",
    "- `w`: open an existing file to write to. <br>If no file exists: creates a new file.<br>If file exists : over-writes previous contents.\n",
    "\n",
    "<br>    \n",
    "- `a`: open an existing file to write to. <br>If no file exists: creates a new file.<br>If file exists : appends text to end of file."
   ]
  },
  {
   "cell_type": "markdown",
   "metadata": {
    "slideshow": {
     "slide_type": "slide"
    }
   },
   "source": [
    "- `r+`: open a text file to read from __or__ write to. <br>File must already exist.<br>If file exists : over-writes previous contents.\n",
    "\n",
    "<br>\n",
    "- `w+`: open a text file to read from __or__ write to.<br>If no file exists: creates a new file.<br>If file exists : over-writes previous contents.\n",
    "\n",
    "<br>\n",
    "- `a+` : open a text file to read from __or__ write to.<br>If no file exists: creates a new file.<br>If file exists : appends text to end of file.\n"
   ]
  },
  {
   "cell_type": "markdown",
   "metadata": {
    "slideshow": {
     "slide_type": "slide"
    }
   },
   "source": [
    "Once the file is open, it creates a *file object*.  \n",
    "\n",
    "We can interrogate the file for various details including whether it is open or closed:\n",
    "\n",
    " - `name`: Name of the opened file\n",
    " - `mode`: Mode specifier with which the file was opened  \n",
    " - `closed`: Boolean True or False\n",
    " - `readable( )`: Read permission, Boolean True or False\n",
    " - `writable( )`: Write permission, Boolean True or False"
   ]
  },
  {
   "cell_type": "markdown",
   "metadata": {
    "slideshow": {
     "slide_type": "slide"
    }
   },
   "source": [
    "__Example__\n",
    "\n",
    "Once a file has been opened it's contents can be read, overwritten, or added to, depnding on the mode specifier used to open it. \n",
    "\n",
    "We are going to open an example file as if we were going to *write* some data to it. \n",
    "\n",
    "The mode specifier is `w`."
   ]
  },
  {
   "cell_type": "code",
   "execution_count": 7,
   "metadata": {
    "slideshow": {
     "slide_type": "-"
    }
   },
   "outputs": [],
   "source": [
    "file = open(\"sample_data/my_file.txt\", \"w\" )"
   ]
  },
  {
   "cell_type": "markdown",
   "metadata": {
    "slideshow": {
     "slide_type": "slide"
    }
   },
   "source": [
    "Once the file is open, we can *interrogate it for information."
   ]
  },
  {
   "cell_type": "code",
   "execution_count": 8,
   "metadata": {
    "slideshow": {
     "slide_type": "-"
    }
   },
   "outputs": [
    {
     "ename": "NameError",
     "evalue": "name 'file' is not defined",
     "output_type": "error",
     "traceback": [
      "\u001b[0;31m---------------------------------------------------------------------------\u001b[0m",
      "\u001b[0;31mNameError\u001b[0m                                 Traceback (most recent call last)",
      "\u001b[0;32m<ipython-input-34-96f100e12804>\u001b[0m in \u001b[0;36m<module>\u001b[0;34m()\u001b[0m\n\u001b[1;32m      1\u001b[0m \u001b[0;31m# Interrrogate the file:\u001b[0m\u001b[0;34m\u001b[0m\u001b[0;34m\u001b[0m\u001b[0m\n\u001b[0;32m----> 2\u001b[0;31m \u001b[0mprint\u001b[0m\u001b[0;34m(\u001b[0m \u001b[0;34m\"File Name:\"\u001b[0m\u001b[0;34m,\u001b[0m  \u001b[0mfile\u001b[0m\u001b[0;34m.\u001b[0m\u001b[0mname\u001b[0m \u001b[0;34m)\u001b[0m\u001b[0;34m\u001b[0m\u001b[0m\n\u001b[0m\u001b[1;32m      3\u001b[0m \u001b[0;34m\u001b[0m\u001b[0m\n\u001b[1;32m      4\u001b[0m \u001b[0mprint\u001b[0m\u001b[0;34m(\u001b[0m \u001b[0;34m\"Open Mode:\"\u001b[0m\u001b[0;34m,\u001b[0m  \u001b[0mfile\u001b[0m\u001b[0;34m.\u001b[0m\u001b[0mmode\u001b[0m \u001b[0;34m)\u001b[0m\u001b[0;34m\u001b[0m\u001b[0m\n\u001b[1;32m      5\u001b[0m \u001b[0;34m\u001b[0m\u001b[0m\n",
      "\u001b[0;31mNameError\u001b[0m: name 'file' is not defined"
     ]
    }
   ],
   "source": [
    "# Interrrogate the file:\n",
    "print( \"File Name:\",  file.name )\n",
    "\n",
    "print( \"Open Mode:\",  file.mode )\n",
    "\n",
    "print( \"Readable:\",  file.readable())\n",
    "\n",
    "print( \"Writable:\",  file.writable())"
   ]
  },
  {
   "cell_type": "markdown",
   "metadata": {
    "slideshow": {
     "slide_type": "slide"
    }
   },
   "source": [
    "An open file must then always be closed again by calling the close() method.\n",
    "\n",
    "Let's first write a function to show us if a file is open or closed."
   ]
  },
  {
   "cell_type": "code",
   "execution_count": 9,
   "metadata": {},
   "outputs": [],
   "source": [
    "# Write a function to determine the file's status:\n",
    "def get_status( f ):\n",
    "    if ( f.closed != False ) :\n",
    "        return \"Closed\"\n",
    "    else :\n",
    "        return \"Open\""
   ]
  },
  {
   "cell_type": "markdown",
   "metadata": {
    "slideshow": {
     "slide_type": "slide"
    }
   },
   "source": [
    "##### Why do we need to close a file? \n",
    "1. Python does not automatically close the file. Leaving it open means that you risk overwriting information.\n",
    "1. Closing the file saves any changes to it.\n",
    "1. Depending on your computer's operating system, you may not be able to open a file simultaneously for reading and writing. <br>__Example:__ If a program attempts to open a file that is already open (has not been closed), an error may be generated.\n",
    "\n"
   ]
  },
  {
   "cell_type": "markdown",
   "metadata": {
    "slideshow": {
     "slide_type": "slide"
    }
   },
   "source": [
    "Let's try out our function."
   ]
  },
  {
   "cell_type": "code",
   "execution_count": 10,
   "metadata": {
    "slideshow": {
     "slide_type": "-"
    }
   },
   "outputs": [
    {
     "ename": "NameError",
     "evalue": "name 'get_status' is not defined",
     "output_type": "error",
     "traceback": [
      "\u001b[0;31m---------------------------------------------------------------------------\u001b[0m",
      "\u001b[0;31mNameError\u001b[0m                                 Traceback (most recent call last)",
      "\u001b[0;32m<ipython-input-31-bd1f640c2b48>\u001b[0m in \u001b[0;36m<module>\u001b[0;34m()\u001b[0m\n\u001b[0;32m----> 1\u001b[0;31m \u001b[0mprint\u001b[0m\u001b[0;34m(\u001b[0m \u001b[0;34m\"File Status:\"\u001b[0m \u001b[0;34m,\u001b[0m \u001b[0mget_status\u001b[0m\u001b[0;34m(\u001b[0m\u001b[0mfile\u001b[0m\u001b[0;34m)\u001b[0m\u001b[0;34m)\u001b[0m\u001b[0;34m\u001b[0m\u001b[0m\n\u001b[0m\u001b[1;32m      2\u001b[0m \u001b[0;34m\u001b[0m\u001b[0m\n\u001b[1;32m      3\u001b[0m \u001b[0mfile\u001b[0m\u001b[0;34m.\u001b[0m\u001b[0mclose\u001b[0m\u001b[0;34m(\u001b[0m\u001b[0;34m)\u001b[0m\u001b[0;34m\u001b[0m\u001b[0m\n\u001b[1;32m      4\u001b[0m \u001b[0;34m\u001b[0m\u001b[0m\n\u001b[1;32m      5\u001b[0m \u001b[0mprint\u001b[0m\u001b[0;34m(\u001b[0m \u001b[0;34m\"File Status:\"\u001b[0m \u001b[0;34m,\u001b[0m \u001b[0mget_status\u001b[0m\u001b[0;34m(\u001b[0m\u001b[0mfile\u001b[0m\u001b[0;34m)\u001b[0m\u001b[0;34m)\u001b[0m\u001b[0;34m\u001b[0m\u001b[0m\n",
      "\u001b[0;31mNameError\u001b[0m: name 'get_status' is not defined"
     ]
    }
   ],
   "source": [
    "print( \"File Status:\" , get_status(file))  \n",
    "\n",
    "file.close()\n",
    "\n",
    "print( \"File Status:\" , get_status(file))"
   ]
  },
  {
   "cell_type": "markdown",
   "metadata": {
    "slideshow": {
     "slide_type": "slide"
    }
   },
   "source": [
    "__Try it yourself__\n",
    "\n",
    "1. Save the previous 4 code cells contents to a file, `interrogate_file.py`. \n",
    "\n",
    "1. Correct the following line to specify the path to `my_file.txt`, *relative* to the location of `interrogate.py`:\n",
    ">`file = open(\"sample_data/my_file.txt’\", \"w\" )`\n",
    "\n",
    "1. Run `interrogate_file.py` from the terminal to see the file get created and display information about `my_file.txt`. "
   ]
  },
  {
   "cell_type": "markdown",
   "metadata": {
    "slideshow": {
     "slide_type": "slide"
    }
   },
   "source": [
    "### Reading and Writing Text Files\n",
    "<a id='ReadingWritingTextFiles'></a>\n",
    "### Writing Files\n",
    "<a id='WritingFiles'></a>\n",
    "Data can be written to a files in a number of ways.\n",
    "\n",
    "This time, let's actually write some data to the file."
   ]
  },
  {
   "cell_type": "markdown",
   "metadata": {
    "slideshow": {
     "slide_type": "slide"
    }
   },
   "source": [
    "Let's first create a string to write to a text file:\n",
    "\n",
    "The inclusion of `\\n` anywhere in the string creates a line break."
   ]
  },
  {
   "cell_type": "code",
   "execution_count": 11,
   "metadata": {
    "slideshow": {
     "slide_type": "-"
    }
   },
   "outputs": [
    {
     "name": "stdout",
     "output_type": "stream",
     "text": [
      "I never saw a man who looked\n",
      "With such a wistful eye\n",
      "\n"
     ]
    }
   ],
   "source": [
    "poem = 'I never saw a man who looked\\nWith such a wistful eye\\n'\n",
    "print(poem)"
   ]
  },
  {
   "cell_type": "markdown",
   "metadata": {
    "slideshow": {
     "slide_type": "slide"
    }
   },
   "source": [
    "A string my be *concatenated* (stuck together end to end) using the `+=` arithmetic operator.\n",
    "\n",
    "This allows us to build the string over the course of the program."
   ]
  },
  {
   "cell_type": "code",
   "execution_count": 164,
   "metadata": {
    "slideshow": {
     "slide_type": "-"
    }
   },
   "outputs": [],
   "source": [
    "poem += \"Upon that little tent of blue\\n\" \n",
    "\n",
    "poem += \"Which prisoners call the sky\\n\""
   ]
  },
  {
   "cell_type": "markdown",
   "metadata": {
    "slideshow": {
     "slide_type": "slide"
    }
   },
   "source": [
    "Create an object to __write__ the string to a file:  "
   ]
  },
  {
   "cell_type": "code",
   "execution_count": 166,
   "metadata": {},
   "outputs": [],
   "source": [
    "file = open(\"sample_data/poem.txt\", \"w\" )"
   ]
  },
  {
   "cell_type": "markdown",
   "metadata": {
    "slideshow": {
     "slide_type": "slide"
    }
   },
   "source": [
    "Write the string to the file, then close it."
   ]
  },
  {
   "cell_type": "code",
   "execution_count": 167,
   "metadata": {},
   "outputs": [],
   "source": [
    "file.write(poem)\n",
    "\n",
    "file.close()"
   ]
  },
  {
   "cell_type": "markdown",
   "metadata": {
    "slideshow": {
     "slide_type": "slide"
    }
   },
   "source": [
    "You can open the file using a text editor to confirm it's contents."
   ]
  },
  {
   "cell_type": "markdown",
   "metadata": {
    "slideshow": {
     "slide_type": "slide"
    }
   },
   "source": [
    "## Reading and Editing Files\n",
    "We will now study some more functions to read and edit a file that has been opened using the `read` file specifier.\n",
    "- `read()`\n",
    "- `seek()`\n",
    "- `tell()`\n",
    "- `truncate()`"
   ]
  },
  {
   "cell_type": "markdown",
   "metadata": {
    "slideshow": {
     "slide_type": "slide"
    }
   },
   "source": [
    "#####  `read()`\n",
    "We studied read earlier in today's class.\n",
    "\n",
    "By default `read()` will read the entire contents of the file from the beginning (index 0) to the end (index -1).  \n",
    "\n",
    "An optional integer argument can be used to specify *how many characters to read*. \n",
    "\n"
   ]
  },
  {
   "cell_type": "markdown",
   "metadata": {
    "slideshow": {
     "slide_type": "slide"
    }
   },
   "source": [
    "##### `seek()`\n",
    "The position within a file:\n",
    " - from which to read or...\n",
    " - at which to write\n",
    "\n",
    "can be selected using `seek()`.\n",
    "\n",
    "An optional integer argument can be used to specify *how many characters to offset* the start position from the start of the file.\n",
    "\n",
    "\n"
   ]
  },
  {
   "cell_type": "markdown",
   "metadata": {
    "slideshow": {
     "slide_type": "slide"
    }
   },
   "source": [
    "##### `tell()`\n",
    "The current position within a file can be returned an integer location index at any time using `tell()`.\n"
   ]
  },
  {
   "cell_type": "markdown",
   "metadata": {
    "slideshow": {
     "slide_type": "slide"
    }
   },
   "source": [
    "##### `truncate()`\n",
    "Deletes all characters after the current position."
   ]
  },
  {
   "cell_type": "markdown",
   "metadata": {
    "slideshow": {
     "slide_type": "slide"
    }
   },
   "source": [
    "__Example :__`read`, `seek()`, `tell()` and `truncate()`.\n",
    "\n",
    "Let's first write some data to a file:"
   ]
  },
  {
   "cell_type": "code",
   "execution_count": 134,
   "metadata": {},
   "outputs": [],
   "source": [
    "with open(\"sample_data/twister.txt\" , \"w\" ) as file :  \n",
    "    file.write(\"How can a clam cram in a clean cream can?\")"
   ]
  },
  {
   "cell_type": "markdown",
   "metadata": {
    "slideshow": {
     "slide_type": "slide"
    }
   },
   "source": [
    "Now we are going to read and edit the data.\n",
    "\n",
    "We first:\n",
    "- open the file using a mode specifier to read *and* write\n",
    "- print the current position in the file:"
   ]
  },
  {
   "cell_type": "code",
   "execution_count": 135,
   "metadata": {},
   "outputs": [
    {
     "name": "stdout",
     "output_type": "stream",
     "text": [
      "Position In File Now: 0\n"
     ]
    }
   ],
   "source": [
    "file = open(\"sample_data/twister.txt\" , \"r+\")\n",
    "\n",
    "print(\"Position In File Now:\", file.tell()) "
   ]
  },
  {
   "cell_type": "markdown",
   "metadata": {
    "slideshow": {
     "slide_type": "slide"
    }
   },
   "source": [
    "The position changes, once the file has been read."
   ]
  },
  {
   "cell_type": "code",
   "execution_count": 136,
   "metadata": {},
   "outputs": [
    {
     "name": "stdout",
     "output_type": "stream",
     "text": [
      "How can a clam cram in a clean cream can?\n",
      "Position In File Now: 41\n"
     ]
    }
   ],
   "source": [
    "# reading the file moves the position \n",
    "print(file.read())\n",
    "print(\"Position In File Now:\", file.tell())\n",
    "    "
   ]
  },
  {
   "cell_type": "markdown",
   "metadata": {
    "slideshow": {
     "slide_type": "slide"
    }
   },
   "source": [
    "Let's move to a specific position, 31 characters into the file:\n",
    "\n",
    "*(This looks for a specific __position__. In next week's class we will learn to look for a specific __word__.)*"
   ]
  },
  {
   "cell_type": "code",
   "execution_count": 137,
   "metadata": {},
   "outputs": [
    {
     "name": "stdout",
     "output_type": "stream",
     "text": [
      "Position In File Now: 31\n"
     ]
    }
   ],
   "source": [
    "# seek\n",
    "file.seek( 31 )\n",
    "print(\"Position In File Now:\", file.tell())"
   ]
  },
  {
   "cell_type": "markdown",
   "metadata": {
    "slideshow": {
     "slide_type": "slide"
    }
   },
   "source": [
    "Position 31 is just before the words `' cream can?'`.\n",
    "\n",
    "We can see this by reading the file at this point."
   ]
  },
  {
   "cell_type": "code",
   "execution_count": 138,
   "metadata": {},
   "outputs": [
    {
     "name": "stdout",
     "output_type": "stream",
     "text": [
      "cream can?\n"
     ]
    }
   ],
   "source": [
    "print(file.read())"
   ]
  },
  {
   "cell_type": "markdown",
   "metadata": {
    "slideshow": {
     "slide_type": "slide"
    }
   },
   "source": [
    "We are going to replace:\n",
    "\n",
    "    'cream can?'\n",
    "\n",
    "...with:\n",
    "\n",
    "    'caravan?'"
   ]
  },
  {
   "cell_type": "markdown",
   "metadata": {
    "slideshow": {
     "slide_type": "slide"
    }
   },
   "source": [
    "We are now at the end of the file.\n",
    "\n",
    "Let's go back to position 31 and write `'caravan'`."
   ]
  },
  {
   "cell_type": "code",
   "execution_count": 139,
   "metadata": {},
   "outputs": [
    {
     "data": {
      "text/plain": [
       "8"
      ]
     },
     "execution_count": 139,
     "metadata": {},
     "output_type": "execute_result"
    }
   ],
   "source": [
    "# write starting at new position\n",
    "file.seek( 31 )\n",
    "file.write(\"caravan?\")"
   ]
  },
  {
   "cell_type": "markdown",
   "metadata": {
    "slideshow": {
     "slide_type": "slide"
    }
   },
   "source": [
    "What does the whole file look like now? \n",
    "\n",
    "We can go back to position 0 and read the file to check:"
   ]
  },
  {
   "cell_type": "code",
   "execution_count": 140,
   "metadata": {
    "scrolled": true
   },
   "outputs": [
    {
     "name": "stdout",
     "output_type": "stream",
     "text": [
      "How can a clam cram in a clean caravan?n?\n"
     ]
    }
   ],
   "source": [
    "# return to position 0 and print the file contents\n",
    "file.seek( 0 )\n",
    "print(file.read())"
   ]
  },
  {
   "cell_type": "markdown",
   "metadata": {
    "slideshow": {
     "slide_type": "slide"
    }
   },
   "source": [
    "`'cream can?'` has been *overwritten* with  `'caravan?'`.\n",
    "\n",
    "However, `'cream can?'` contains more letters than `'caravan?'` so the additional letters are note overwritten.  "
   ]
  },
  {
   "cell_type": "markdown",
   "metadata": {
    "slideshow": {
     "slide_type": "slide"
    }
   },
   "source": [
    "We can use `truncate` to remove any traling charcters:"
   ]
  },
  {
   "cell_type": "code",
   "execution_count": 141,
   "metadata": {
    "scrolled": true
   },
   "outputs": [
    {
     "name": "stdout",
     "output_type": "stream",
     "text": [
      "8\n"
     ]
    },
    {
     "data": {
      "text/plain": [
       "39"
      ]
     },
     "execution_count": 141,
     "metadata": {},
     "output_type": "execute_result"
    }
   ],
   "source": [
    "print(len('caravan?'))\n",
    "file.seek( 31 + len('caravan?'))\n",
    "# truncate deletes all characters from current position onwards\n",
    "file.truncate() "
   ]
  },
  {
   "cell_type": "markdown",
   "metadata": {
    "slideshow": {
     "slide_type": "slide"
    }
   },
   "source": [
    "What does the whole file look like now? \n",
    "\n",
    "We can go back to position 0 and read the file to check:"
   ]
  },
  {
   "cell_type": "code",
   "execution_count": 142,
   "metadata": {
    "scrolled": true
   },
   "outputs": [
    {
     "name": "stdout",
     "output_type": "stream",
     "text": [
      "How can a clam cram in a clean caravan?\n"
     ]
    }
   ],
   "source": [
    "# return to position 0 and print the file contents\n",
    "file.seek( 0 )\n",
    "print(file.read())"
   ]
  },
  {
   "cell_type": "markdown",
   "metadata": {
    "slideshow": {
     "slide_type": "slide"
    }
   },
   "source": [
    "Finally, remember to close the file:"
   ]
  },
  {
   "cell_type": "code",
   "execution_count": 143,
   "metadata": {},
   "outputs": [],
   "source": [
    "file.close()"
   ]
  },
  {
   "cell_type": "markdown",
   "metadata": {
    "slideshow": {
     "slide_type": "slide"
    }
   },
   "source": [
    "The full example, using `with`:"
   ]
  },
  {
   "cell_type": "code",
   "execution_count": 119,
   "metadata": {},
   "outputs": [
    {
     "name": "stdout",
     "output_type": "stream",
     "text": [
      "Position In File Now: 0\n",
      "How can a clam cram in a clean caravan?\n",
      "Position In File Now: 39\n",
      "Position In File Now: 31\n",
      "Position In File Now: 0\n"
     ]
    }
   ],
   "source": [
    "# write file\n",
    "with open(\"sample_data/twister.txt\" , \"w\" ) as file :  \n",
    "    file.write(\"How can a clam cram in a clean cream can?\")\n",
    "    \n",
    "\n",
    "# read and edit\n",
    "with open(\"sample_data/twister.txt\" , \"r+\" ) as file : \n",
    "    \n",
    "    # tell \n",
    "    print(\"Position In File Now:\", file.tell()) \n",
    "    \n",
    "    # reading the file moves the position \n",
    "    print(file.read())\n",
    "    print(\"Position In File Now:\", file.tell())\n",
    "    \n",
    "    # seek\n",
    "    file.seek( 31 )\n",
    "    print(\"Position In File Now:\", file.tell())\n",
    "    \n",
    "    # write starting at new position\n",
    "    file.write(\"caravan?\")\n",
    "    \n",
    "    # truncate deletes all characters from current position onwards\n",
    "    file.truncate()    \n",
    "    \n",
    "    # move back to start poistion\n",
    "    file.seek( 0 )\n",
    "    print(\"Position In File Now:\", file.tell())\n",
    "    \n",
    "    # print updated string\n",
    "    print(file.read())"
   ]
  },
  {
   "cell_type": "markdown",
   "metadata": {
    "slideshow": {
     "slide_type": "slide"
    }
   },
   "source": [
    "Alternatively, if we know the word to replace we can use the function `replace()`:"
   ]
  },
  {
   "cell_type": "code",
   "execution_count": 154,
   "metadata": {},
   "outputs": [
    {
     "name": "stdout",
     "output_type": "stream",
     "text": [
      "How can a clam cram in a clean caravan?\n"
     ]
    }
   ],
   "source": [
    "with open(\"sample_data/twister.txt\" , \"w+\" ) as file : \n",
    "    # write contents\n",
    "    file.write(\"How can a clam cram in a clean cream can?\")\n",
    "    \n",
    "    # go to start of file\n",
    "    file.seek( 0 )\n",
    "    \n",
    "    # create a new string with the words replaced \n",
    "    data = file.read().replace(\"cream can\", \"caravan\")\n",
    "    \n",
    "    # go to start of file\n",
    "    file.seek( 0 )\n",
    "    \n",
    "    # over-write the old string\n",
    "    file.write(data)\n",
    "    file.truncate()\n",
    "    \n",
    "    # go to start of file\n",
    "    file.seek( 0 )\n",
    "    print(file.read())"
   ]
  },
  {
   "cell_type": "markdown",
   "metadata": {
    "slideshow": {
     "slide_type": "slide"
    }
   },
   "source": [
    "A maximum file sixe can be specified when using truncate:"
   ]
  },
  {
   "cell_type": "code",
   "execution_count": 159,
   "metadata": {},
   "outputs": [
    {
     "name": "stdout",
     "output_type": "stream",
     "text": [
      "How can a \n"
     ]
    }
   ],
   "source": [
    "with open(\"sample_data/twister.txt\" , \"w+\" ) as file : \n",
    "    # write contents\n",
    "    file.write(\"How can a clam cram in a clean cream can?\")\n",
    "    \n",
    "    # set maximum length of string\n",
    "    file.truncate(10)\n",
    "    \n",
    "    # go to start of file\n",
    "    file.seek( 0 )\n",
    "    print(file.read())"
   ]
  },
  {
   "cell_type": "markdown",
   "metadata": {
    "slideshow": {
     "slide_type": "slide"
    }
   },
   "source": [
    "## Binary Files (\"Pickling\" Data)\n",
    "<a id='BinaryFilesPicklingData'></a>\n",
    "String data can easily be stored in text files, as shown. \n",
    "\n",
    "Other data types (e.g. numbers, lists, dictionaries) can also be stored in text files but require conversion to strings first. \n",
    "\n",
    "Restoring that stored data to their original data type, if read into a Python file, requires the opposite conversion. "
   ]
  },
  {
   "cell_type": "markdown",
   "metadata": {
    "slideshow": {
     "slide_type": "slide"
    }
   },
   "source": [
    "Unless the storage  file needs to be human-readable for some reason, it is more efficient to use `pickle` to store data as a machine-readable binary file.\n",
    "\n"
   ]
  },
  {
   "cell_type": "markdown",
   "metadata": {
    "slideshow": {
     "slide_type": "slide"
    }
   },
   "source": [
    "#### Advantages of pickling data.\n",
    "\n",
    "A binary file is essentially a computer file that __stored__ in a non-plain text file format(e.g. .py, .csv, .txt.....etc).\n",
    "\n",
    "A character stream is used to represent (typically non-text) information. \n",
    "\n",
    "<img src=\"img/binary-file-in-text-editor.png\" alt=\"Drawing\" style=\"width: 300px;\"/>"
   ]
  },
  {
   "cell_type": "markdown",
   "metadata": {
    "slideshow": {
     "slide_type": "slide"
    }
   },
   "source": [
    "This character stream contains all the information necessary to reconstruct the object in another (python) script.\n",
    "\n",
    "Many binary file formats contain parts that can be interpreted as text:\n",
    "\n",
    "__Example:__ A computer document file may contain:\n",
    "- un-formatted text\n",
    "- formatting information \n",
    "\n",
    "\n",
    "\n",
    "\n",
    "\n"
   ]
  },
  {
   "cell_type": "markdown",
   "metadata": {
    "slideshow": {
     "slide_type": "slide"
    }
   },
   "source": [
    "__Serialising__\n",
    "<br>Translating data structures or object state into a format that can be stored  or transmitted and reconstructed later.  \n",
    "\n",
    "The serialised character stream contains all the information necessary to reconstruct the object in another (python) script / computer environment."
   ]
  },
  {
   "cell_type": "markdown",
   "metadata": {
    "slideshow": {
     "slide_type": "slide"
    }
   },
   "source": [
    "Pickling a python object serialises the object:\n",
    "- converting it to a character stream\n",
    "- allowing it to be stored at a smaller size"
   ]
  },
  {
   "cell_type": "markdown",
   "metadata": {
    "slideshow": {
     "slide_type": "slide"
    }
   },
   "source": [
    "\n",
    "\n",
    "Read (`r`), write (`w`) and append (`a`) can be used to produce binary files simply by using the mode specifiers:\n",
    "- `rb` : read\n",
    "- `wb` : write\n",
    "- `ab` : append"
   ]
  },
  {
   "cell_type": "markdown",
   "metadata": {
    "slideshow": {
     "slide_type": "slide"
    }
   },
   "source": [
    "“Pickling” a data object stores a string representation of the object.\n",
    "\n",
    "The string representation can later be “unpickled” to its former state. "
   ]
  },
  {
   "cell_type": "markdown",
   "metadata": {
    "slideshow": {
     "slide_type": "slide"
    }
   },
   "source": [
    "The following example shows how to pickle data."
   ]
  },
  {
   "cell_type": "markdown",
   "metadata": {
    "slideshow": {
     "slide_type": "slide"
    }
   },
   "source": [
    "Import the `pickle` package:"
   ]
  },
  {
   "cell_type": "code",
   "execution_count": 187,
   "metadata": {},
   "outputs": [],
   "source": [
    "import pickle "
   ]
  },
  {
   "cell_type": "markdown",
   "metadata": {
    "slideshow": {
     "slide_type": "slide"
    }
   },
   "source": [
    "Create sample data:"
   ]
  },
  {
   "cell_type": "code",
   "execution_count": 188,
   "metadata": {},
   "outputs": [
    {
     "name": "stdout",
     "output_type": "stream",
     "text": [
      "['Numbers', [1, 2, 3, 4, 5]]\n"
     ]
    }
   ],
   "source": [
    "data = [ \"Numbers\" , \n",
    "         [1, 2, 3, 4, 5] ]\n",
    "\n",
    "print(data)"
   ]
  },
  {
   "cell_type": "markdown",
   "metadata": {
    "slideshow": {
     "slide_type": "slide"
    }
   },
   "source": [
    "In the `with` block:\n",
    " - Use the function `pickled.dump()` "
   ]
  },
  {
   "cell_type": "code",
   "execution_count": 189,
   "metadata": {
    "slideshow": {
     "slide_type": "-"
    }
   },
   "outputs": [],
   "source": [
    "with open( \"sample_data/pickled.dat\" , \"wb\" ) as file:\n",
    "    \n",
    "    pickle.dump( data, file )\n"
   ]
  },
  {
   "cell_type": "markdown",
   "metadata": {
    "slideshow": {
     "slide_type": "slide"
    }
   },
   "source": [
    "In the `with` block:\n",
    " - Use the function `pickled.load()` "
   ]
  },
  {
   "cell_type": "code",
   "execution_count": 190,
   "metadata": {},
   "outputs": [
    {
     "name": "stdout",
     "output_type": "stream",
     "text": [
      "recovered data: \n",
      "Numbers, type = <class 'str'> \n",
      "[1, 2, 3, 4, 5], type = <class 'list'> \n"
     ]
    }
   ],
   "source": [
    "with open( \"sample_data/pickled.dat\" , \"rb\" ) as file:\n",
    "    \n",
    "    data = pickle.load(file)\n",
    "    \n",
    "print(f\"recovered data: \\n{data[0]}, type = {type(data[0])} \\n{data[1]}, type = {type(data[1])} \")"
   ]
  },
  {
   "cell_type": "markdown",
   "metadata": {
    "slideshow": {
     "slide_type": "slide"
    }
   },
   "source": [
    "### Pickling a Pandas Data Frame\n",
    "<a id='PicklingPandasDataFrame'></a>\n",
    "`pandas DataFrame`s have a built-in method, `to_pickle`, that can be used to pickle the data that they contain. \n",
    "\n",
    "To demonstrate, let's use the `pandas`, `read_csv` function to read in the sample student data again:"
   ]
  },
  {
   "cell_type": "code",
   "execution_count": 192,
   "metadata": {},
   "outputs": [
    {
     "name": "stdout",
     "output_type": "stream",
     "text": [
      "Index(['Sex', 'DOB', 'Height', 'Weight', 'BP'], dtype='object')\n"
     ]
    }
   ],
   "source": [
    "students = pd.read_csv('sample_data/sample_student_data.csv', \n",
    "                    skiprows=[1],   \n",
    "                    index_col=0)\n",
    "\n",
    "print(students.keys())"
   ]
  },
  {
   "cell_type": "markdown",
   "metadata": {
    "slideshow": {
     "slide_type": "slide"
    }
   },
   "source": [
    "The cell below shows how to pickle (save) and read back the `students DataFrame`."
   ]
  },
  {
   "cell_type": "code",
   "execution_count": 193,
   "metadata": {},
   "outputs": [],
   "source": [
    "students.to_pickle(\"sample_data/pickled_student_data.dat\")"
   ]
  },
  {
   "cell_type": "code",
   "execution_count": 103,
   "metadata": {
    "slideshow": {
     "slide_type": "slide"
    }
   },
   "outputs": [
    {
     "name": "stdout",
     "output_type": "stream",
     "text": [
      "        Sex         DOB     Height        Weight      BP\n",
      "Student                                                 \n",
      "JW-1      M  19/12/1995      160.0  4.096000e+07  119/76\n",
      "JW-2      M  11/01/1996      160.0  4.096000e+07  114/73\n",
      "JW-3      F  02/10/1995  1680000.0  2.360104e+07  124/79\n",
      "JW-4      M  11/01/1996      160.0  4.096000e+07  114/73\n",
      "JW-5      F  02/10/1995  1680000.0  2.360104e+07  124/79\n",
      "JW-6      M  06/07/1995  1720000.0  3.249285e+07  110/60\n",
      "JW-7      F  28/03/1996  1660000.0  2.747605e+07       -\n",
      "JW-9      F  11/12/1995      160.0  4.096000e+07  115/75\n",
      "JW-10     F  07/04/1996  1600000.0  4.100625e+06     -/-\n",
      "JW-11     M  22/08/1995  1720000.0  3.551969e+07   97/63\n",
      "JW-12     M  23/05/1996      160.0  4.096000e+07  105/70\n",
      "JW-14     F  12/01/1996  1560000.0  1.004693e+07  108/72\n",
      "JW-15     F  01/06/1996  1640000.0  1.785062e+07   99/67\n",
      "JW-16     M  10/09/1995  1630000.0  2.839824e+07  131/84\n",
      "JW-17     M  17/02/1996      160.0  4.096000e+07  101/76\n",
      "JW-18     M  31/07/1996  1660000.0  3.180971e+07     -/-\n",
      "JW-19     F  30/10/1995  1590000.0  2.051447e+07  103/69\n",
      "JW-22     F  09/03/1996  1700000.0  4.100625e+06  119/80\n",
      "JW-23     M  15/05/1995      160.0  4.096000e+07  124/82\n",
      "JW-24     F  01/12/1995  1660000.0  1.656848e+07  100/78\n",
      "JW-25     F  25/10/1995  1630000.0  1.720059e+07     -/-\n",
      "JW-26     M  17/04/1996  1690000.0  9.150625e+06  121/82\n"
     ]
    }
   ],
   "source": [
    "from pandas import read_pickle\n",
    "read_back = read_pickle(\"sample_data/pickled_student_data.dat\")\n",
    "print(read_back)"
   ]
  },
  {
   "cell_type": "markdown",
   "metadata": {
    "slideshow": {
     "slide_type": "slide"
    }
   },
   "source": [
    "## Saving Data with Numpy\n",
    "<a id='SavingDataNumpy'></a>\n",
    "`numpy` provides a few options for saving data that has the form of a Numpy array only.\n",
    "\n",
    "Example array:"
   ]
  },
  {
   "cell_type": "code",
   "execution_count": 107,
   "metadata": {},
   "outputs": [],
   "source": [
    "# This is a numpy array\n",
    "A = np.zeros(4)\n",
    "\n",
    "# This is not a numpy array\n",
    "# A = [\"kit\", \"kat\"]"
   ]
  },
  {
   "cell_type": "markdown",
   "metadata": {
    "slideshow": {
     "slide_type": "slide"
    }
   },
   "source": [
    "##### `numpy.save()`\n",
    "\n",
    "You can use the argument `fix_imports` (default = `False`).\n",
    "<br>If `True` this will make sure your data is pickled in a way that is readable in Python 2.\n",
    "\n",
    "The file is stored as a binary file with extension `.npy`:\n",
    " - you do not need to specify a filetype.\n",
    " - this can only be opened using Python (numpy).\n",
    " \n",
    "The file is generally smaller than standard pickling (112 bytes vs 187 bytes) for this example. "
   ]
  },
  {
   "cell_type": "code",
   "execution_count": null,
   "metadata": {
    "slideshow": {
     "slide_type": "-"
    }
   },
   "outputs": [],
   "source": [
    "np.save(\"sample_data/np_save\", A)\n",
    "\n",
    "B = np.load(\"sample_data/np_save.npy\")\n",
    "\n",
    "print(B)"
   ]
  },
  {
   "cell_type": "markdown",
   "metadata": {
    "slideshow": {
     "slide_type": "slide"
    }
   },
   "source": [
    "##### `numpy.dump()`\n",
    "Numpy arrays also have a method:\n",
    "- concise \n",
    "- file type that is accessible outside of numpy\n",
    "- larger (this example 240 bytes)"
   ]
  },
  {
   "cell_type": "code",
   "execution_count": 108,
   "metadata": {},
   "outputs": [
    {
     "name": "stdout",
     "output_type": "stream",
     "text": [
      "[0. 0. 0. 0.]\n"
     ]
    }
   ],
   "source": [
    "A.dump(\"sample_data/np_dump.dat\")\n",
    "\n",
    "B = np.load(\"sample_data/np_dump.dat\")\n",
    "\n",
    "print(B)"
   ]
  },
  {
   "cell_type": "markdown",
   "metadata": {
    "slideshow": {
     "slide_type": "slide"
    }
   },
   "source": [
    "##### `numpy.savetxt`\n",
    "Lastly, to save a numpy array containing *only numerical values*:\n",
    "- in human readable form.\n",
    "- at small size (this examples 100 bytes)\n"
   ]
  },
  {
   "cell_type": "code",
   "execution_count": 109,
   "metadata": {},
   "outputs": [
    {
     "name": "stdout",
     "output_type": "stream",
     "text": [
      "[0. 0. 0. 0.]\n"
     ]
    }
   ],
   "source": [
    "# np.savetxt(\"sample_data/np_savetxt.txt\", A)\n",
    "\n",
    "np.savetxt(\"sample_data/np_savetxt.txt\", A)\n",
    "\n",
    "B = np.loadtxt(\"sample_data/np_savetxt.txt\")\n",
    "\n",
    "print(B)"
   ]
  },
  {
   "cell_type": "markdown",
   "metadata": {
    "slideshow": {
     "slide_type": "slide"
    }
   },
   "source": [
    "# Summary\n",
    "<a id='Summary'></a>\n",
    " - Data from external files (e.g. .csv files) can be imported using the standard Python library. \n",
    "     - A  file object has open(), read(), write(), and close() methods for working with  files, and features that describe the  file properties\n",
    "     - The open() method must specify a  file name string argument and a  file mode string argument, such as ’r’ to read the  file.\n",
    "     - Position in a  file, at which to read or write, can be specified with the seek() method and reported by the tell() method the Python with keyword groups  file operational statements within a block and automatically closes an open  file.\n",
    " - Pandas DataFrames can be used to store and manipulate data for anaysis.\n",
    " - The process of “pickling” objects stores a string representation of an object that can later be “unpickled” to its former state. \n",
    " - A pickle object’s dump() method requires arguments to specify an object for conversion and a  le name in which to store data. \n",
    " - Stored object data can be retrieved by specifying the  le name in which it is stored to the pickle object’s load() method. \n",
    " \n",
    "*(Adapted from) McGrath 2016*"
   ]
  },
  {
   "cell_type": "markdown",
   "metadata": {
    "slideshow": {
     "slide_type": "slide"
    }
   },
   "source": [
    "<a id='TestYourselfExercises'></a>\n",
    "# Test-Yourself Exercises\n",
    "\n",
    "Compete the Test-Youself exercises below.\n",
    "\n",
    "Save your answers as .py files and email them to:\n",
    "<br>philamore.hemma.5s@kyoto-u.ac.jp"
   ]
  },
  {
   "cell_type": "markdown",
   "metadata": {
    "collapsed": true,
    "slideshow": {
     "slide_type": "slide"
    }
   },
   "source": [
    "### Test-Yourself Excercise: Sorting Data Frames.\n",
    "\n",
    "1. Import the necessary libraries\n",
    "\n",
    "1. Import the dataset from https://raw.githubusercontent.com/justmarkham/DAT8/master/data/chipotle.tsv to a Pandas data frame. \n",
    "\n",
    "1. Print the names of all the columns\n",
    "\n",
    "1. Remove all duplicate items keeping only the first to appear in the data frame.\n",
    "\n",
    "1. Remove all items without a choice_description from the data set. \n",
    "\n",
    "1. Cast all prices as float data. <br>*Hint: Currently each price is a __string__ of which the __last 4 characters__ are a floating point number*. \n",
    "\n",
    "1. What is the price of each item? Generate a *new data frame* with only two columns item_name and item_priceipo.\n",
    "\n",
    "1. Sort this data frame by price in descending order.\n",
    "\n",
    "1. Save the new data frame as a .csv file. "
   ]
  },
  {
   "cell_type": "code",
   "execution_count": null,
   "metadata": {},
   "outputs": [],
   "source": [
    "# Example Solution\n",
    "# 1. Import the necessary libraries\n",
    "import pandas as pd\n",
    "\n",
    "# 2. Import the dataset \n",
    "url = 'https://raw.githubusercontent.com/justmarkham/DAT8/master/data/chipotle.tsv'  \n",
    "chipo = pd.read_csv(url, sep = '\\t')\n",
    "\n",
    "# 3. Print the names of all the columns\n",
    "print(chipo.columns)\n",
    "\n",
    "# 4. Remove all duplicate items\n",
    "chipo.drop_duplicates('item_name', inplace=True)\n",
    "\n",
    "# 5. Remove all items without a choice_description \n",
    "chipo.dropna()\n",
    "\n",
    "# 6. Cast all prices as float data.\n",
    "chipo.item_price = chipo.item_price.apply(lambda x : float(x[1:-1]))\n",
    "\n",
    "# 7. Generate a new data frame with only two columns item_name and item_priceipo\n",
    "price_per_item = chipo[['item_name', 'item_price']]\n",
    "\n",
    "# 8. Sort this data frame by price in descending order. \n",
    "price_per_item = price_per_item.sort_values(by = \"item_price\", ascending = False)\n",
    "\n",
    "# 9. Save the new data frame as a .csv file.\n",
    "price_per_item.to_csv('sample_data/price_per_item.csv')"
   ]
  },
  {
   "cell_type": "markdown",
   "metadata": {
    "collapsed": true,
    "slideshow": {
     "slide_type": "slide"
    }
   },
   "source": [
    "### Test-Yourself Excercise: Appending text files.\n",
    "\n",
    "Find out the origin of the quote in `dot.txt`.\n",
    "\n",
    "Write Python code directly into the terminal to append the file `dot.txt` with a citation. "
   ]
  },
  {
   "cell_type": "code",
   "execution_count": null,
   "metadata": {},
   "outputs": [],
   "source": [
    "# Example Solution \n",
    "file = open(\"sample_data/dot.txt\", \"a\" )\n",
    "file.write('\\nCarl Sagan, speech at Cornell University, October 13, 1994')\n",
    "file.close()"
   ]
  },
  {
   "cell_type": "code",
   "execution_count": null,
   "metadata": {},
   "outputs": [],
   "source": []
  }
 ],
 "metadata": {
  "celltoolbar": "Slideshow",
  "kernelspec": {
   "display_name": "Python 3",
   "language": "python",
   "name": "python3"
  },
  "language_info": {
   "codemirror_mode": {
    "name": "ipython",
    "version": 3
   },
   "file_extension": ".py",
   "mimetype": "text/x-python",
   "name": "python",
   "nbconvert_exporter": "python",
   "pygments_lexer": "ipython3",
   "version": "3.6.4"
  }
 },
 "nbformat": 4,
 "nbformat_minor": 2
}
