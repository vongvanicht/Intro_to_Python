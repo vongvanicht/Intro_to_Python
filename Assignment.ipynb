{
 "cells": [
  {
   "cell_type": "markdown",
   "metadata": {},
   "source": [
    "# Python for Engineers Assignment 2018\n",
    "Answer all questions.\n",
    "<br>すべての質問に答えなさい。\n",
    "\n",
    "Submission deadline 07/16 (July 16).\n",
    "<br>提出締め切り07/16 (7月16日）。\n",
    "\n",
    "Please submit your answer by email.\n",
    "<br>どうぞ、メールによってあなたの答えを提出してください。\n",
    "\n",
    "You may use the following file formats:\n",
    "<br>あなたは以下のファイル形式を使ってもよい:\n",
    "- .py\n",
    "- .ipynb\n",
    "- .txt\n",
    "\n",
    "You may use multiple files.\n",
    "<br>あなたは複数のファイルを使ってもよい。"
   ]
  },
  {
   "cell_type": "markdown",
   "metadata": {},
   "source": [
    "You will be awarded points for:\n",
    "あなたは以下のためのポイントを授与される：\n",
    "- correct solution. 正しい答え。\n",
    "- concise solution. 簡潔な答え。\n",
    "- optimising your code by importing relevant library functions. 外部や基準のライブラリやパッケージを利用します。\n",
    "- writing functions to avoid repetition. 重複を防ぐために関数（functions)を使いなさい。\n",
    "- using comments to explain what your code does. あなたのコードを説明するために、コメントを用いる。"
   ]
  },
  {
   "cell_type": "markdown",
   "metadata": {},
   "source": [
    "## Part A : Data Analysis　データ分析\n",
    "\n",
    "#### Question 1\n",
    "*(2 marks)*<br>\n",
    "Import the data from the url to a Pandas data frame:\n",
    "<br>`Pandas`を使って、以下urlからデータを読み込めよ\n",
    "<br>https://raw.githubusercontent.com/justmarkham/DAT8/master/data/u.user\n"
   ]
  },
  {
   "cell_type": "code",
   "execution_count": null,
   "metadata": {},
   "outputs": [],
   "source": []
  },
  {
   "cell_type": "markdown",
   "metadata": {},
   "source": [
    "#### Question 2\n",
    "*(2 marks)*<br>\n",
    "Remove all entries with occupation `other` or `retired` from the data set.\n",
    "<br>職業`occupation`の中に`other`と`retired`に関連するデータを取り除く。\n",
    "\n"
   ]
  },
  {
   "cell_type": "code",
   "execution_count": null,
   "metadata": {},
   "outputs": [],
   "source": []
  },
  {
   "cell_type": "markdown",
   "metadata": {},
   "source": [
    "#### Question 3\n",
    "*(6 marks)*<br>\n",
    "Plot a bar chart showing:\n",
    "<br>棒グラフをプロットしなさい：\n",
    "- the number of people per occupation for the 10 occupations that occur most frequently in the data set.\n",
    "<br>取り除かない各職業の総人数を計算し、総人数最も多い10つの職業を取り出し、各職業の総人数を棒グラフで書きなさい。\n",
    "- plot an additional bar, labelled other, showing the sum of all remaining entries in the data set.\n",
    "<br>その以外の職業の人数をまとめて、`other`という名前を付け、同じ棒グラフに書きなさい。\n",
    "\n"
   ]
  },
  {
   "cell_type": "code",
   "execution_count": null,
   "metadata": {},
   "outputs": [],
   "source": []
  },
  {
   "cell_type": "markdown",
   "metadata": {},
   "source": [
    "#### Question 4\n",
    "*(2 marks)*<br>\n",
    "Find the:\n",
    "- mean \n",
    "- standard deviaion \n",
    "\n",
    "of the age of people with the occupation: `administrator`.\n",
    "\n",
    "<br>`administrator`という職業`occupation`の人達を見つけ出す。その人達の年齢の\n",
    "- 平均値\n",
    "- 標準偏差\n",
    "\n",
    "を求めよ。"
   ]
  },
  {
   "cell_type": "code",
   "execution_count": null,
   "metadata": {},
   "outputs": [],
   "source": []
  },
  {
   "cell_type": "markdown",
   "metadata": {},
   "source": [
    "## Part B : Movement of a Particle 粒子の動き\n",
    "\n",
    "A particle moves along a curve.\n",
    "<br>粒子がある軌跡を沿って移動する。\n",
    "\n",
    "The cartesian coordinates of the position of the particle $(r_x, r_y)$ are: \n",
    "<br>粒子の位置$（r_x、r_y）$は時間$t$の変数である。その式は以下：\n",
    "\n",
    "\\begin{align}\n",
    "r_x &= \\exp \\left( -\\dfrac{t}{T_1} \\right) \n",
    "\\\\\n",
    "r_y &= 2 \\cos \\left(\\dfrac{t}{T_2}\\right)\n",
    "\\end{align}\n",
    "\n",
    "$t$ = time (s)\n",
    "\n",
    "Constants:　その中に、$T$は定数\n",
    "<br>$T_1 = 1$ s \n",
    "<br>$T_2 = 1/3$ s. \n",
    "\n",
    "#### Question 1\n",
    "*(8 marks)*\n",
    "\n",
    "Plot the trajectory of the particle in the $xy$-plane over the time interval $t = 0$ to $t = 2\\pi$ s. \n",
    "<br>時間$t=0$から$t=2\\pi$までの粒子の軌跡を書きなさい。軌跡を表す点の数は任意。\n",
    "\n",
    "On the graph, show the particle’s locations at $t = 0$, $\\pi/2$ and $2\\pi$ using:\n",
    "<br>同じ図に、以下のものを使って、$t=0$、$t=\\pi／2$と$t=2\\pi$の粒子の位置を強調せよ：\n",
    "- a marker \n",
    "- a label \n",
    "\n"
   ]
  },
  {
   "cell_type": "code",
   "execution_count": null,
   "metadata": {},
   "outputs": [],
   "source": []
  },
  {
   "cell_type": "markdown",
   "metadata": {},
   "source": [
    "#### Question 2\n",
    "\n",
    "The $x$ and $y$ components of the particle's acceleration $(a_x, a_y)$:\n",
    "<br>粒子の加速度$（a_x、a_y）$はの粒子の位置$（r_x、r_y）$の二階微分である：\n",
    "\n",
    "$$a_x=v_x'=r_x''$$\n",
    "$$a_y=v_y'=r_y''$$ \n",
    "\n",
    "velocity $(v_x, v_y)$\n",
    "<br>速度$(v_x, v_y)$\n",
    "\n",
    "__(a)__ Express the particles acceleration $(a_x、a_y)$ symbolically, i.e. show the equation. \n",
    "<br>粒子加速度$（a_x、a_y）$を計算せよ。方程式を示す。\n",
    "<br>*(5 marks)*<br>\n",
    "\n",
    "\n"
   ]
  },
  {
   "cell_type": "code",
   "execution_count": null,
   "metadata": {},
   "outputs": [],
   "source": []
  },
  {
   "cell_type": "markdown",
   "metadata": {},
   "source": [
    "__(b)__ Plot the *magnitude* of the acceleration of the particle against time over the time interval $t = 0$ to $t = 2\\pi$ s.\n",
    "<br>時間$t=0$から$t=2\\pi$までの粒子の加速度の絶対値（マグニチュード加速度）を計算し、時間$t$に対する図を書きなさい。つまり、X軸は時間$t$、Y軸は加速度の絶対値。絶対値の式は以下\n",
    "<br>*(5 marks)*<br>\n",
    "\n",
    "The magnitude of acceleration, $A$:\n",
    "$$A = \\sqrt{a_x^2 + a_y^2}$$\n",
    "\n"
   ]
  },
  {
   "cell_type": "code",
   "execution_count": null,
   "metadata": {},
   "outputs": [],
   "source": []
  },
  {
   "cell_type": "markdown",
   "metadata": {},
   "source": [
    "#### Question 3\n",
    "__(a)__\n",
    "Find the magnitude velocity of the particle at time $ t = 1$s.\n",
    "<br>$t=1$時刻の粒子の速度の絶対値（マグニチュード速度）を見つけ出す。\n",
    "<br>*(5 marks)*<br>"
   ]
  },
  {
   "cell_type": "code",
   "execution_count": null,
   "metadata": {},
   "outputs": [],
   "source": []
  },
  {
   "cell_type": "markdown",
   "metadata": {},
   "source": [
    "__(b)__\n",
    "Estimate the time/times when $r_y=0$\n",
    "<br>$r_y=0$を満足する時間（時間達）を逆計算せよ。\n",
    "<br>*(5 marks)*<br>"
   ]
  },
  {
   "cell_type": "code",
   "execution_count": null,
   "metadata": {},
   "outputs": [],
   "source": []
  },
  {
   "cell_type": "markdown",
   "metadata": {},
   "source": [
    "#### Question 4 \n",
    "*(10 marks)*<br>\n",
    "Animate the trajectory of the particle and save your work as a .mp4 file.\n",
    "<br>粒子の移動軌跡をアニメーション化し、.mp4ファイルとして保存しなさい。"
   ]
  },
  {
   "cell_type": "code",
   "execution_count": null,
   "metadata": {},
   "outputs": [],
   "source": []
  }
 ],
 "metadata": {
  "kernelspec": {
   "display_name": "Python 3",
   "language": "python",
   "name": "python3"
  },
  "language_info": {
   "codemirror_mode": {
    "name": "ipython",
    "version": 3
   },
   "file_extension": ".py",
   "mimetype": "text/x-python",
   "name": "python",
   "nbconvert_exporter": "python",
   "pygments_lexer": "ipython3",
   "version": "3.6.4"
  }
 },
 "nbformat": 4,
 "nbformat_minor": 2
}
