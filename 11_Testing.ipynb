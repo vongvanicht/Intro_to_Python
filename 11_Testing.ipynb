{
 "cells": [
  {
   "cell_type": "code",
   "execution_count": 2,
   "metadata": {},
   "outputs": [
    {
     "data": {
      "text/html": [
       "<style>\n",
       "\n",
       "body {\n",
       " counter-reset: h2counter;\n",
       "}\n",
       "h1 {\n",
       " counter-reset: h2counter;\n",
       "}\n",
       "h2:before {\n",
       " content: counter(h2counter) \".\\0000a0\\0000a0\";\n",
       " counter-increment: h2counter;\n",
       " counter-reset: h3counter;\n",
       "}\n",
       "\n",
       "\n",
       "</style>\n"
      ],
      "text/plain": [
       "<IPython.core.display.HTML object>"
      ]
     },
     "execution_count": 2,
     "metadata": {},
     "output_type": "execute_result"
    }
   ],
   "source": [
    "from IPython.core.display import HTML\n",
    "def css_styling():\n",
    "    styles = open(\"./styles/custom.css\", \"r\").read()\n",
    "    return HTML(styles)\n",
    "css_styling()"
   ]
  },
  {
   "cell_type": "markdown",
   "metadata": {
    "slideshow": {
     "slide_type": "slide"
    }
   },
   "source": [
    "### BEFORE YOU DO ANYTHING...\n",
    "In the terminal:\n",
    "1. Navigate to __inside__ your ILAS_Python repository.\n",
    "2. __COMMIT__ any un-commited work on your personal computer.\n",
    "3. __PULL__ any changes *you* have made using another computer.\n",
    "4. __PULL__ textbook updates (including homework answers).\n",
    "\n",
    "Then:\n",
    "1. __Open Jupyter notebook:__   Start >> Programs (すべてのプログラム) >> Programming >> Anaconda3 >> JupyterNotebook\n",
    "1. __Navigate to the ILAS_Python folder__. \n",
    "1. __Open today's seminar__  by clicking on 11_Testing."
   ]
  },
  {
   "cell_type": "markdown",
   "metadata": {
    "slideshow": {
     "slide_type": "subslide"
    }
   },
   "source": [
    "Some packages we will use today..."
   ]
  },
  {
   "cell_type": "code",
   "execution_count": 37,
   "metadata": {
    "collapsed": true
   },
   "outputs": [],
   "source": [
    "import numpy as np\n",
    "import sys"
   ]
  },
  {
   "cell_type": "markdown",
   "metadata": {
    "slideshow": {
     "slide_type": "slide"
    }
   },
   "source": [
    "# Testing\n",
    "\n",
    "# Lesson Goal\n",
    "To use a standard format to tests the code you have written against possible inputs. "
   ]
  },
  {
   "cell_type": "markdown",
   "metadata": {
    "slideshow": {
     "slide_type": "slide"
    }
   },
   "source": [
    "# Objectives\n",
    "\n",
    "- Learn the fundamentals of writing and running tests\n",
    "- Understand the effect of floating point number storage on comparison operations and how to deal with this in your code.\n",
    "- Learn how to structure your file system and `import`s to keep tests in seperate files from the main program. "
   ]
  },
  {
   "cell_type": "markdown",
   "metadata": {
    "slideshow": {
     "slide_type": "slide"
    }
   },
   "source": [
    "# Why we are studying this\n",
    "\n",
    "The programming examples in the preceding notebooks included little or no checking/testing. \n",
    "\n",
    "TDD (test driven development) is a successful and widely-accepted method of developing code.\n",
    "\n",
    "Testing is a critical part of software engineering:\n",
    " - enhancing program quality.\n",
    " - builds the confidence we (and others) have in a program to run."
   ]
  },
  {
   "cell_type": "markdown",
   "metadata": {
    "slideshow": {
     "slide_type": "slide"
    }
   },
   "source": [
    "# Lesson Structure\n",
    " - Introduction\n",
    " - The `assert` command.\n",
    " - Encapsulating Tests.\n",
    " - Test frameworks: `pytest`\n",
    " - Designing tests: two worked examples.\n",
    " - Testing in scientific computing:\n",
    "  - Floating point number storage\n",
    "  - Comparing floating point numbers using `Numpy`\n",
    "  - Writing tests for floating point numbers\n",
    " - Importing your program to a *suite* of tests\n",
    " "
   ]
  },
  {
   "cell_type": "markdown",
   "metadata": {
    "slideshow": {
     "slide_type": "slide"
    }
   },
   "source": [
    "# Introduction to Testing\n",
    "\n",
    "Testing is useful in developing a new program. \n",
    "\n",
    "Tests are code that is written to check the program performs exactly as you expect it to. \n",
    "\n",
    "Programs with dynamically changing input should also come with a *suite* of tests that can be run regularly."
   ]
  },
  {
   "cell_type": "markdown",
   "metadata": {
    "slideshow": {
     "slide_type": "subslide"
    }
   },
   "source": [
    "For example, any program used for engineering analysis should have a suite of tests.\n",
    "\n",
    "The data input by the user or imported, for example from the results of an experiment, may vary so the program's ability to repspond to this should be tested."
   ]
  },
  {
   "cell_type": "markdown",
   "metadata": {
    "slideshow": {
     "slide_type": "subslide"
    }
   },
   "source": [
    "When testing a program, we should test for:\n",
    " - valid input data. \n",
    " - invalid input data.\n",
    " \n",
    "For the valid cases the computed result should be checked against a known correct solution. \n",
    "\n",
    "For the invalid data cases, tests should check that an exception is raised. "
   ]
  },
  {
   "cell_type": "markdown",
   "metadata": {
    "slideshow": {
     "slide_type": "slide"
    }
   },
   "source": [
    "## `assert` : Checking your code against a *known* solution."
   ]
  },
  {
   "cell_type": "markdown",
   "metadata": {
    "slideshow": {
     "slide_type": "subslide"
    }
   },
   "source": [
    "Let's look again at an example from Seminar 5: Functions; a recursive function used to generate the Fibonacci number series; an integer sequence characterised by the fact that every number (after the first two) is the sum of the two preceding numbers in the sequence. \n",
    "\n",
    "$$\n",
    "f_n = f_{n-1} + f_{n-2}\n",
    "$$"
   ]
  },
  {
   "cell_type": "code",
   "execution_count": 1,
   "metadata": {
    "collapsed": true
   },
   "outputs": [],
   "source": [
    "def f(n): \n",
    "    \"Compute the nth Fibonacci number using recursion\"\n",
    "    if n == 0:\n",
    "        return 0  # Breaks out of the recursion loop\n",
    "    elif n == 1:\n",
    "        return 1  # Breaks out of the recursion loop\n",
    "    else:\n",
    "        return f(n - 1) + f(n - 2)  # Calls f for n-1 and n-2 (recursion)    "
   ]
  },
  {
   "cell_type": "markdown",
   "metadata": {
    "slideshow": {
     "slide_type": "subslide"
    }
   },
   "source": [
    "We can check a number of computed terms in the series against\n",
    "known results. \n",
    "\n",
    "| Term | 0  | 1 | 2 | 3 | 4 | 5 | 6 | 7 | 8 | 9 | 10 | 11 | 12 | 13 | 14 | 15 |\n",
    "|---|---|---|---|---|---|---|---|---|---|---|---|---|---|---|---|---|\n",
    "| Output | 0 | 1 | 1 | 2 | 3 | 5 | 8 | 13 | 21 | 34 | 55 | 89 | 144 | 233 | 377 | 610 |\n",
    "\n",
    "A useful tool for this is the `assert` keyword:"
   ]
  },
  {
   "cell_type": "code",
   "execution_count": 4,
   "metadata": {
    "slideshow": {
     "slide_type": "subslide"
    }
   },
   "outputs": [],
   "source": [
    "assert f(0) == 0\n",
    "assert f(1) == 1\n",
    "assert f(2) == 1\n",
    "assert f(3) == 2\n",
    "assert f(10) == 55\n",
    "assert f(15) == 610"
   ]
  },
  {
   "cell_type": "markdown",
   "metadata": {
    "slideshow": {
     "slide_type": "subslide"
    }
   },
   "source": [
    "If all the assertions are true, there should be no output. \n",
    "\n",
    "__Try it yourself__\n",
    "<br>Try changing one of the checks to raise an `AssertionError`."
   ]
  },
  {
   "cell_type": "markdown",
   "metadata": {
    "slideshow": {
     "slide_type": "slide"
    }
   },
   "source": [
    "## Error messages\n",
    "An error message can be added to the `AssertionError`.\n",
    "\n",
    "The error message is printed if the `assertion` fails.\n",
    "\n",
    "For example, in the cell below, try changing 610 to another number to rasie the exception."
   ]
  },
  {
   "cell_type": "code",
   "execution_count": 18,
   "metadata": {
    "collapsed": true
   },
   "outputs": [],
   "source": [
    "assert f(15) == 610, \"Fail: Fibonacci number, term 15, is incorrect\""
   ]
  },
  {
   "cell_type": "markdown",
   "metadata": {
    "slideshow": {
     "slide_type": "slide"
    }
   },
   "source": [
    "## Encapsulating Tests\n",
    "Placing the tests within the main body of a program can be visually crowding.\n",
    "\n",
    "It can also be time-consuming and unecessary to run the tests *every* time the code is executed.\n",
    "\n",
    "Tests, like other sections of code, can be placed within __functions__ to improve the tidiness and readablity of the program.\n",
    "\n"
   ]
  },
  {
   "cell_type": "markdown",
   "metadata": {
    "slideshow": {
     "slide_type": "subslide"
    }
   },
   "source": [
    "For example, several `assert` statements may be placed within a function, allowing them to be called using one line.\n",
    "\n"
   ]
  },
  {
   "cell_type": "code",
   "execution_count": 19,
   "metadata": {
    "collapsed": true
   },
   "outputs": [],
   "source": [
    "def test_fibonacci():\n",
    "    assert f(0) == 0\n",
    "    assert f(1) == 1\n",
    "    assert f(2) == 1\n",
    "    assert f(3) == 2\n",
    "    assert f(10) == 55\n",
    "    assert f(15) == 610, \"Fail: Fibonacci number, term 15, is incorrect\"\n",
    "    \n",
    "test_fibonacci()"
   ]
  },
  {
   "cell_type": "markdown",
   "metadata": {
    "slideshow": {
     "slide_type": "slide"
    }
   },
   "source": [
    "## Test frameworks \n",
    "\n",
    "Testing is so important to good software engineering that many packages have been developed to help write and run tests. "
   ]
  },
  {
   "cell_type": "markdown",
   "metadata": {
    "slideshow": {
     "slide_type": "subslide"
    }
   },
   "source": [
    "\n",
    "\n",
    "One of the most useful features is the ability to switch between running your code:\n",
    "- with tests (while developing and periodically testing a program)\n",
    "- without tests (for normal operation)"
   ]
  },
  {
   "cell_type": "markdown",
   "metadata": {
    "slideshow": {
     "slide_type": "slide"
    }
   },
   "source": [
    "### `pytest`\n",
    "Today we will learn to use a popular and powerful testing package for Python called `pytest` (http://doc.pytest.org/en/latest/). "
   ]
  },
  {
   "cell_type": "markdown",
   "metadata": {
    "slideshow": {
     "slide_type": "subslide"
    }
   },
   "source": [
    "Before using `pytest`, we need to check that it is installed. \n",
    "\n",
    "Do do this we can use `try` and `except` (Seminar 10: Error Handling)\n",
    "\n",
    "We try to import `pytest`, and if that fails we install it:"
   ]
  },
  {
   "cell_type": "code",
   "execution_count": 20,
   "metadata": {
    "collapsed": true,
    "slideshow": {
     "slide_type": "subslide"
    }
   },
   "outputs": [],
   "source": [
    "try: \n",
    "    import pytest\n",
    "except:\n",
    "    try:\n",
    "        !{sys.executable} -m pip -q install pytest\n",
    "        import pytest\n",
    "    except ImportError:\n",
    "        !{sys.executable} -m pip -q --user install pytest"
   ]
  },
  {
   "cell_type": "markdown",
   "metadata": {
    "collapsed": true,
    "slideshow": {
     "slide_type": "subslide"
    }
   },
   "source": [
    "Executing a program using `pytest`:\n",
    "- runs the code\n",
    "- calls any testing functions (the only requirement is that the function name starts with `test_` to be detected as a test)\n",
    "\n",
    "By using `pytest`, testing functions do not need to be *called* (and potentially later removed from) within the main body of the code.\n",
    "\n",
    "\n",
    "\n"
   ]
  },
  {
   "cell_type": "markdown",
   "metadata": {
    "collapsed": true,
    "slideshow": {
     "slide_type": "subslide"
    }
   },
   "source": [
    "Let's look at an example.\n",
    "\n",
    "You can find the file __`test_fib_example.py`__ within the ILAS_python repository\n",
    "<br>(`ILAS_python/sample_data/pytest_examples/test_fib_example.py`).\n",
    "\n",
    "The file contains the following code...\n",
    "\n"
   ]
  },
  {
   "cell_type": "markdown",
   "metadata": {
    "slideshow": {
     "slide_type": "subslide"
    }
   },
   "source": [
    "```Python\n",
    "    import pytest\n",
    "\n",
    "    def f(n): \n",
    "        \"Compute the nth Fibonacci number using recursion\"\n",
    "        if n == 0:\n",
    "            return 0  # Breaks out of the recursion loop\n",
    "        elif n == 1:\n",
    "            return 1  # Breaks out of the recursion loop\n",
    "        else:\n",
    "            return f(n - 1) + f(n - 2)  # Calls f for n-1 and n-2 (recursion) \n",
    "\n",
    "    def test_fibonacci():\n",
    "        assert f(0) == 0\n",
    "        assert f(1) == 1\n",
    "        assert f(2) == 1\n",
    "        assert f(3) == 2\n",
    "        assert f(10) == 55\n",
    "        assert f(15) == 610, \"Fail: Fibonacci number, term 15, is incorrect\"\n",
    "        ```"
   ]
  },
  {
   "cell_type": "markdown",
   "metadata": {
    "collapsed": true,
    "slideshow": {
     "slide_type": "subslide"
    }
   },
   "source": [
    "The code may be executed from the command line, <br>(from within ILAS_python/sample_data/pytest_examples/) using:\n",
    "> `python3 test_fib_example.py`\n",
    "\n",
    "To run `pytest` instead:\n",
    ">`pytest test_fib_example.py`"
   ]
  },
  {
   "cell_type": "markdown",
   "metadata": {
    "collapsed": true,
    "slideshow": {
     "slide_type": "subslide"
    }
   },
   "source": [
    "A message is shown to show that a test has been passed.\n",
    "\n",
    "    =========================== 1 passed in 0.01 seconds ==========================="
   ]
  },
  {
   "cell_type": "markdown",
   "metadata": {
    "slideshow": {
     "slide_type": "subslide"
    }
   },
   "source": [
    "To run `pytest` in *verbose* mode use `-v`:\n",
    "> `pytest -v test_fib_example.py`"
   ]
  },
  {
   "cell_type": "markdown",
   "metadata": {
    "slideshow": {
     "slide_type": "subslide"
    }
   },
   "source": [
    "This returns more information, for example the name of the the function tht passed.\n",
    "\n",
    "    test_fib_example.py::test_fibonacci PASSED\n",
    "\n",
    "    =========================== 1 passed in 0.02 seconds ==========================="
   ]
  },
  {
   "cell_type": "markdown",
   "metadata": {
    "slideshow": {
     "slide_type": "subslide"
    }
   },
   "source": [
    "To run all tests in all files in a directory:\n",
    ">`pytest *` "
   ]
  },
  {
   "cell_type": "markdown",
   "metadata": {
    "slideshow": {
     "slide_type": "slide"
    }
   },
   "source": [
    "## Designing a test: Calculator Example\n",
    "The general idea of *test driven development* (using tests to build and improve programs) is to:\n",
    "- write a test that fails\n",
    "- make the test pass \n",
    "- refactor (edit your code, keeping the same functionality)"
   ]
  },
  {
   "cell_type": "markdown",
   "metadata": {
    "collapsed": true,
    "slideshow": {
     "slide_type": "subslide"
    }
   },
   "source": [
    "Let's look at a very simple example.\n",
    "\n",
    "You can find the file __`calculator_example.py`__ within the ILAS_python repository\n",
    "<br>(`ILAS_python/sample_data/pytest_examples/calculator_example.py`)."
   ]
  },
  {
   "cell_type": "markdown",
   "metadata": {
    "slideshow": {
     "slide_type": "subslide"
    }
   },
   "source": [
    "The file contains the following code (and some commented code):\n",
    "```Python\n",
    "    def test_calculator_add_returns_correct_result():\n",
    "            result = calc_add(2,2)\n",
    "            assert result == 4\n",
    "            ```"
   ]
  },
  {
   "cell_type": "markdown",
   "metadata": {
    "slideshow": {
     "slide_type": "subslide"
    }
   },
   "source": [
    "At first the test fails because there is no function with the name `calc_add` defined in the file.\n",
    "\n",
    "    =================================== FAILURES ===================================\n",
    "    __________________ test_calculator_add_returns_correct_result __________________\n",
    "\n",
    "    def test_calculator_add_returns_correct_result():\n",
    "    >   \tresult = calc_add(2,2)\n",
    "    E    NameError: name 'calc_add' is not defined\n",
    "\n"
   ]
  },
  {
   "cell_type": "markdown",
   "metadata": {
    "slideshow": {
     "slide_type": "subslide"
    }
   },
   "source": [
    "Let's start by adding a function that does nothing.\n",
    "```Python\n",
    "    def calc_add(x,y):\n",
    "        pass\n",
    "        ```"
   ]
  },
  {
   "cell_type": "markdown",
   "metadata": {
    "slideshow": {
     "slide_type": "subslide"
    }
   },
   "source": [
    "This time the code fails as we expect.\n",
    "\n",
    "`pytest` shows the line causing the test to fail.  \n",
    "\n",
    "    =================================== FAILURES ===================================\n",
    "    __________________ test_calculator_add_returns_correct_result __________________\n",
    "\n",
    "    def test_calculator_add_returns_correct_result():\n",
    "    \tresult = calc_add(2,2)\n",
    "    >   \tassert result == 4\n",
    "    E    assert None == 4\n",
    "\n",
    "\n"
   ]
  },
  {
   "cell_type": "markdown",
   "metadata": {
    "slideshow": {
     "slide_type": "subslide"
    }
   },
   "source": [
    "Let's fix the function and see if our test passes now:\n",
    "```Python\n",
    "    def calc_add(x,y):\n",
    "        # pass\n",
    "        \n",
    "        return x + y\n",
    "        ```"
   ]
  },
  {
   "cell_type": "markdown",
   "metadata": {
    "slideshow": {
     "slide_type": "subslide"
    }
   },
   "source": [
    "We have defined `calc_add` and it works as expected. \n",
    "\n",
    "However, we have only tested the case we are interested in at the moment.\n",
    "\n",
    "There is more work needed to ensure the function has been fully tested.\n",
    "\n"
   ]
  },
  {
   "cell_type": "markdown",
   "metadata": {
    "slideshow": {
     "slide_type": "subslide"
    }
   },
   "source": [
    "What would happen if a user called the function, giving non-numeric inputs as arguments?\n",
    "\n",
    "Python allows for the addition of strings and other types.\n",
    "\n",
    "However, the calculator will only work correctly (add two numbers) if numeric inputs are given. \n",
    "\n"
   ]
  },
  {
   "cell_type": "markdown",
   "metadata": {
    "slideshow": {
     "slide_type": "subslide"
    }
   },
   "source": [
    "We can __test__ that an exception is raised when varibales of non-numeric type are entered using `try`, `except` and `assert`:\n",
    "```Python\n",
    "    def test_calculator_returns_error_message_if_both_args_not_numbers():\n",
    "\n",
    "        try:\n",
    "            calc_add(\"two\", \"three\")\n",
    "\n",
    "\n",
    "        except ValueError:\n",
    "            print(\"Exception caught\")\n",
    "            assert True, \"Fail: ValueError exception not caught\"\n",
    "\n",
    "\n",
    "        except:\n",
    "            assert False, \"Fail: Exception other than ValueError caught\"\n",
    "\n",
    "\n",
    "        else: \n",
    "            assert False, \"Fail: No exception caught\"\n",
    "            ```"
   ]
  },
  {
   "cell_type": "markdown",
   "metadata": {
    "slideshow": {
     "slide_type": "subslide"
    }
   },
   "source": [
    "If we are only interested in detecting the `ValueError` we can write:\n",
    "are rasied.\n",
    "```Python\n",
    "    try:\n",
    "        calc_add(\"two\", \"three\")\n",
    "\n",
    "    except ValueError:\n",
    "        print(\"Exception caught\")\n",
    "        assert True, \"Fail: ValueError exception not caught\"\n",
    "```\n",
    "far more concisely using a `pytest` method.\n",
    "<br>`pytest.raises()` is dedicated to testing wether exceptions are rasied.\n",
    "```Python        \n",
    "\n",
    "    with pytest.raises(ValueError):\n",
    "        calc_add(\"two\", \"three\")\n",
    "```"
   ]
  },
  {
   "cell_type": "markdown",
   "metadata": {
    "slideshow": {
     "slide_type": "subslide"
    }
   },
   "source": [
    "The test fails, indicating that we are not raising the ValueError when we expect to be. \n",
    "\n",
    "We now have a new failing test. \n",
    "\n",
    "Next, we code the solution to make it pass."
   ]
  },
  {
   "cell_type": "markdown",
   "metadata": {
    "slideshow": {
     "slide_type": "subslide"
    }
   },
   "source": [
    "To check only numeric values are entered, we need to write an exception.\n",
    "\n",
    "In this example, the built-in function `isinstance` is used to check the data type of a variable against a set of permissible types: \n",
    "\n",
    "\n",
    "```Python\n",
    "number_types = (int, float, complex)\n",
    "\n",
    "    def calc_add(x,y):\n",
    "        # pass\n",
    "        \n",
    "        # return x+y\n",
    " \n",
    "        if isinstance(x, number_types) and isinstance(y, number_types):\n",
    "            return x + y\n",
    "        else:\n",
    "            raise ValueError(\"Non-numeric input given\")\n",
    "            ```"
   ]
  },
  {
   "cell_type": "markdown",
   "metadata": {
    "slideshow": {
     "slide_type": "subslide"
    }
   },
   "source": [
    "The test now passes.\n",
    "\n"
   ]
  },
  {
   "cell_type": "markdown",
   "metadata": {
    "slideshow": {
     "slide_type": "subslide"
    }
   },
   "source": [
    "To complete the testing, the aim is to add test cases to cover all scenarios.\n",
    "\n",
    "For example, as there are two variables, it means that either could potentially not be a numeric value. \n",
    "\n",
    "A full set of tests is shown below:\n"
   ]
  },
  {
   "cell_type": "code",
   "execution_count": 21,
   "metadata": {
    "collapsed": true
   },
   "outputs": [],
   "source": [
    "def test_calculator_add_method_returns_correct_result():\n",
    "    result = calc_add(2,2)\n",
    "    assert result == 4\n",
    "\n",
    "def test_calculator_returns_error_message_if_both_args_not_numbers():\n",
    "     with pytest.raises(ValueError):\n",
    "            calc_add(\"two\", \"three\")\n",
    "            \n",
    "def test_calculator_returns_error_message_if_x_arg_not_number():\n",
    "     with pytest.raises(ValueError):\n",
    "            calc_add(\"two\", 3)\n",
    "\n",
    "def test_calculator_returns_error_message_if_y_arg_not_number( ):\n",
    "     with pytest.raises(ValueError):\n",
    "            calc_add(2, \"three\")"
   ]
  },
  {
   "cell_type": "markdown",
   "metadata": {
    "slideshow": {
     "slide_type": "subslide"
    }
   },
   "source": [
    "When we run all the tests, we can confirm that the function `calc_add` meets our requirements."
   ]
  },
  {
   "cell_type": "markdown",
   "metadata": {
    "slideshow": {
     "slide_type": "slide"
    }
   },
   "source": [
    "## Designing a test: Parameter Validity Checking Example\n",
    "\n",
    "Now let's look at the hydrostatic pressure function that we studied in:\n",
    " - Seminar 5: Functions\n",
    " - Seminar 10: Error Handling; where we studied how to raise an exception if the arguments to the function were invalid."
   ]
  },
  {
   "cell_type": "code",
   "execution_count": 2,
   "metadata": {
    "collapsed": true,
    "slideshow": {
     "slide_type": "subslide"
    }
   },
   "outputs": [],
   "source": [
    "def hp(h, *, rho = 1000, g = 9.81):\n",
    "    \"\"\"\n",
    "    Computes the hydrostatic pressure acting on a submerged object given:\n",
    "        - the height of fluid above the object, h\n",
    "        - the density of the fluid in which is it submerged, rho\n",
    "        - the acceleration due to gravity, g\n",
    "\n",
    "    \"\"\"\n",
    "    if h < 0:\n",
    "        raise ValueError(\"Height of fluid, h, must be greater than or equal to zero\")\n",
    "    if rho < 0:\n",
    "        raise ValueError(\"Density of fluid, rho, must be greater than or equal to zero\")\n",
    "    if g < 0:\n",
    "        raise ValueError(\"Acceleration due to gravity, g, must be greater than or equal to zero\")\n",
    "\n",
    "    return rho * g * h\n"
   ]
  },
  {
   "cell_type": "markdown",
   "metadata": {
    "slideshow": {
     "slide_type": "subslide"
    }
   },
   "source": [
    "When we add a new feature to a program, we should test it.\n",
    "\n",
    "In this case we should test that  a `ValueError` error *is*  raised if invalid data is input.\n",
    "\n",
    "You can find the file __`hydrostatic_pressure_example.py`__ within the ILAS_python repository\n",
    "<br>(`ILAS_python/sample_data/pytest_examples/calculator_example.py`).\n",
    "\n"
   ]
  },
  {
   "cell_type": "markdown",
   "metadata": {
    "collapsed": true,
    "slideshow": {
     "slide_type": "subslide"
    }
   },
   "source": [
    "The file contains the function `hp` and three tests to check the validity of each function argument; `h`, `rho` and `g`:\n",
    "```Python\n",
    "\n",
    "import pytest\n",
    "\n",
    "def test_hydrostatic_pressure_returns_error_if_h_less_then_0():\n",
    "    with pytest.raises(ValueError):\n",
    "        hp(-10)\n",
    "\n",
    "def test_hydrostatic_pressure_returns_error_if_rho_less_then_0():\n",
    "    with pytest.raises(ValueError):\n",
    "        hp(10, rho=-10)\n",
    "\n",
    "def test_hydrostatic_pressure_returns_error_if_g_less_then_0():\n",
    "    with pytest.raises(ValueError):\n",
    "        hp(10, g=-9.81)\n",
    "        ```"
   ]
  },
  {
   "cell_type": "markdown",
   "metadata": {
    "slideshow": {
     "slide_type": "slide"
    }
   },
   "source": [
    "## Testing in Scientific Computing\n",
    "There are two issues when testing scientific computing software. \n",
    "\n",
    "Direct comparison of:\n",
    "1. floats \n",
    "1. arrays\n",
    "\n",
    "is not possible"
   ]
  },
  {
   "cell_type": "markdown",
   "metadata": {
    "slideshow": {
     "slide_type": "subslide"
    }
   },
   "source": [
    "###  Floating point storage\n",
    "\n",
    "Most engineering calculations involve floating point numbers. \n",
    "\n",
    "Computers store floating point numbers by storing the sign, the significand (also known as the mantissa) and the exponent, e.g.: for $10.45$\n",
    "\n",
    "$$\n",
    "10.45 = \\underbrace{+}_{\\text{sign}} \\underbrace{1045}_{\\text{significand}} \\times \\underbrace{10^{-2}}_{\\text{exponent} = -2}\n",
    "$$\n",
    "\n"
   ]
  },
  {
   "cell_type": "markdown",
   "metadata": {
    "slideshow": {
     "slide_type": "subslide"
    }
   },
   "source": [
    "Python uses 64 bits to store a `float` (in C and C++ this is known as a `double`). \n",
    "\n",
    "One bit is used to store the sign.\n",
    "\n",
    "52 bits are used for the significance.\n",
    "\n",
    "11 bits are used for the exponent. "
   ]
  },
  {
   "cell_type": "markdown",
   "metadata": {
    "slideshow": {
     "slide_type": "subslide"
    }
   },
   "source": [
    "The precision with which numbers can be represented is limited by the number of bits used to store the number.\n",
    "\n",
    "A 64 bits a floating point number is usually __precise__ to 15 to 17 significant figures."
   ]
  },
  {
   "cell_type": "markdown",
   "metadata": {
    "slideshow": {
     "slide_type": "subslide"
    }
   },
   "source": [
    "The internal representation of floats, introduces minute errors to numerical values. \n",
    "\n",
    "$$\n",
    "10.45 = \\underbrace{+}_{\\text{sign}} \\underbrace{1045}_{\\text{significand}} \\times \\underbrace{10^{-2}}_{\\text{exponent}}\n",
    "$$\n",
    "\n",
    "This is because computers use base 2 binary representation (not base 10, for example) to store the significance and the exponent."
   ]
  },
  {
   "cell_type": "markdown",
   "metadata": {
    "slideshow": {
     "slide_type": "subslide"
    }
   },
   "source": [
    "Some fractions cannot be represented exactly by computers in base 2.\n",
    "\n",
    "$1/10 = 0.1$ \n",
    "<br>cannot be represented exactly in binary. \n",
    "\n",
    "$1/2 = 0.5 = 2^{-1}$ <br>can be represented exactly in binary. "
   ]
  },
  {
   "cell_type": "markdown",
   "metadata": {
    "slideshow": {
     "slide_type": "subslide"
    }
   },
   "source": [
    "To demonstrate, let's assign the number 0.1 to the variable `x`:"
   ]
  },
  {
   "cell_type": "code",
   "execution_count": 22,
   "metadata": {},
   "outputs": [
    {
     "name": "stdout",
     "output_type": "stream",
     "text": [
      "0.1\n"
     ]
    }
   ],
   "source": [
    "print(0.1)"
   ]
  },
  {
   "cell_type": "markdown",
   "metadata": {
    "slideshow": {
     "slide_type": "subslide"
    }
   },
   "source": [
    "This looks fine, but the `print` statement is hiding some details. \n",
    "\n",
    "We can use a user-defined number of decimal places to represent a number using the `str.format` method.\n",
    "\n"
   ]
  },
  {
   "cell_type": "code",
   "execution_count": 23,
   "metadata": {},
   "outputs": [
    {
     "name": "stdout",
     "output_type": "stream",
     "text": [
      "0.100000000000000005551115123126\n"
     ]
    }
   ],
   "source": [
    "print('{0:.30f}'.format(0.1))"
   ]
  },
  {
   "cell_type": "markdown",
   "metadata": {
    "slideshow": {
     "slide_type": "subslide"
    }
   },
   "source": [
    "\"Modulo-formatting\" can also be used and is suitable for older versions of Python (Python 2)."
   ]
  },
  {
   "cell_type": "code",
   "execution_count": 24,
   "metadata": {},
   "outputs": [
    {
     "name": "stdout",
     "output_type": "stream",
     "text": [
      "0.100000000000000005551115123126\n"
     ]
    }
   ],
   "source": [
    "print('%.30f' % 0.1)"
   ]
  },
  {
   "cell_type": "markdown",
   "metadata": {
    "collapsed": true,
    "slideshow": {
     "slide_type": "subslide"
    }
   },
   "source": [
    "Using 30 characters shows an inexact representation of 0.1.\n",
    "\n",
    "The stored value is the nearest representable binary fraction to 0.1."
   ]
  },
  {
   "cell_type": "markdown",
   "metadata": {
    "slideshow": {
     "slide_type": "subslide"
    }
   },
   "source": [
    "The difference between 0.1 and the binary representation is known as the *roundoff error*.\n",
    "\n",
    "We can see that the representation is accurate to about 17 significant figures.\n",
    "\n"
   ]
  },
  {
   "cell_type": "markdown",
   "metadata": {
    "slideshow": {
     "slide_type": "subslide"
    }
   },
   "source": [
    "Interestingly, there are sometimes different decimal numbers that share the same nearest approximate binary fraction. \n",
    "\n",
    "The numbers \n",
    "- 0.1\n",
    "- 0.10000000000000001\n",
    "- 0.1000000000000000055511151231257827021181583404541015625 \n",
    "\n",
    "are all approximated by:\n",
    "\n",
    "3602879701896397 / 2 ** 55. \n",
    "\n",
    "Since all of these decimal values share the same approximation, any one of them could be displayed.  "
   ]
  },
  {
   "cell_type": "markdown",
   "metadata": {
    "slideshow": {
     "slide_type": "subslide"
    }
   },
   "source": [
    "Checking for 0.5, we see that it appears to be represented exactly:`"
   ]
  },
  {
   "cell_type": "code",
   "execution_count": 26,
   "metadata": {},
   "outputs": [
    {
     "name": "stdout",
     "output_type": "stream",
     "text": [
      "0.500000000000000000000000000000\n"
     ]
    }
   ],
   "source": [
    "print('{0:.30f}'.format(0.5))"
   ]
  },
  {
   "cell_type": "markdown",
   "metadata": {
    "slideshow": {
     "slide_type": "subslide"
    }
   },
   "source": [
    "The round-off error for the 0.1 case is small.\n",
    "\n",
    "In many cases will not present a problem. \n",
    "\n",
    "However, sometimes accumulation of round-off errors can lead to significant inaccuracies. "
   ]
  },
  {
   "cell_type": "markdown",
   "metadata": {
    "slideshow": {
     "slide_type": "slide"
    }
   },
   "source": [
    "### Example: Inexact Representation of Floating Point Numbers\n",
    "\n",
    "Consider the expression\n",
    "\n",
    "$$\n",
    "x = 11x - 10x\n",
    "$$\n",
    "\n"
   ]
  },
  {
   "cell_type": "markdown",
   "metadata": {
    "slideshow": {
     "slide_type": "subslide"
    }
   },
   "source": [
    "$10x = 1$, where $x = 0.1$\n",
    "\n",
    "So if $x = 0.1$ we can  write the expression above as:\n",
    "\n",
    "$$\n",
    "x = 11x - 1\n",
    "$$\n",
    "\n"
   ]
  },
  {
   "cell_type": "markdown",
   "metadata": {
    "slideshow": {
     "slide_type": "subslide"
    }
   },
   "source": [
    "Now, starting with $x = 0.1$ we evaluate the right-hand side to get a 'new' $x$.\n",
    "\n",
    "The 'new' $x$ should be equal to the original value of $x$.\n",
    "\n",
    "In other words, $x$ should remain equal to $0.1$.\n",
    "\n"
   ]
  },
  {
   "cell_type": "markdown",
   "metadata": {
    "slideshow": {
     "slide_type": "subslide"
    }
   },
   "source": [
    "However, if we repeat this process 20 times the solution blows up, deviating widely from $x = 0.1$. "
   ]
  },
  {
   "cell_type": "code",
   "execution_count": 27,
   "metadata": {},
   "outputs": [
    {
     "name": "stdout",
     "output_type": "stream",
     "text": [
      "0.10000000000000009\n",
      "0.10000000000000098\n",
      "0.10000000000001075\n",
      "0.10000000000011822\n",
      "0.10000000000130038\n",
      "0.1000000000143042\n",
      "0.10000000015734622\n",
      "0.10000000173080847\n",
      "0.10000001903889322\n",
      "0.10000020942782539\n",
      "0.10000230370607932\n",
      "0.10002534076687253\n",
      "0.10027874843559781\n",
      "0.1030662327915759\n",
      "0.13372856070733485\n",
      "0.4710141677806834\n",
      "4.181155845587517\n",
      "44.992714301462684\n",
      "493.9198573160895\n",
      "5432.118430476985\n"
     ]
    }
   ],
   "source": [
    "x = 0.1\n",
    "\n",
    "for i in range(20):\n",
    "    x = x*11 - 1\n",
    "    print(x)"
   ]
  },
  {
   "cell_type": "markdown",
   "metadata": {
    "slideshow": {
     "slide_type": "subslide"
    }
   },
   "source": [
    "If we repeat this operation for $x = 0.5$, we see that the result is exact."
   ]
  },
  {
   "cell_type": "code",
   "execution_count": 28,
   "metadata": {},
   "outputs": [
    {
     "name": "stdout",
     "output_type": "stream",
     "text": [
      "0.5\n",
      "0.5\n",
      "0.5\n",
      "0.5\n",
      "0.5\n",
      "0.5\n",
      "0.5\n",
      "0.5\n",
      "0.5\n",
      "0.5\n",
      "0.5\n",
      "0.5\n",
      "0.5\n",
      "0.5\n",
      "0.5\n",
      "0.5\n",
      "0.5\n",
      "0.5\n",
      "0.5\n",
      "0.5\n"
     ]
    }
   ],
   "source": [
    "x = 0.5\n",
    "\n",
    "for i in range(20):\n",
    "    x = x*11 - 5\n",
    "    print(x)"
   ]
  },
  {
   "cell_type": "markdown",
   "metadata": {
    "slideshow": {
     "slide_type": "subslide"
    }
   },
   "source": [
    "By default, Python uses 64 bits to store a float. \n",
    "\n",
    "We can use the module NumPy to cast a float as a 32 bit number. \n",
    "\n",
    "Testing this for the $x = 0.1$ case:"
   ]
  },
  {
   "cell_type": "code",
   "execution_count": 29,
   "metadata": {
    "slideshow": {
     "slide_type": "subslide"
    }
   },
   "outputs": [
    {
     "name": "stdout",
     "output_type": "stream",
     "text": [
      "0.100000016391\n",
      "0.100000180304\n",
      "0.100001983345\n",
      "0.10002181679\n",
      "0.100239984691\n",
      "0.102639831603\n",
      "0.129038147628\n",
      "0.419419623911\n",
      "3.61361586303\n",
      "38.7497744933\n",
      "425.247519426\n",
      "4676.72271369\n",
      "51442.9498506\n",
      "565871.448356\n",
      "6224584.93192\n",
      "68470433.2511\n",
      "753174764.762\n",
      "8284922411.38\n",
      "91134146524.2\n",
      "1.00247561177e+12\n"
     ]
    }
   ],
   "source": [
    "x = np.float32(0.1)\n",
    "\n",
    "for i in range(20):\n",
    "    x = x*11 - 1\n",
    "    print(x)"
   ]
  },
  {
   "cell_type": "markdown",
   "metadata": {
    "slideshow": {
     "slide_type": "subslide"
    }
   },
   "source": [
    "The error blows up faster in this case compared to the 64 bit case.\n",
    "\n",
    "Using 32 bits leads to a poorer approximation of $0.1$ than when using 64 bits."
   ]
  },
  {
   "cell_type": "markdown",
   "metadata": {
    "slideshow": {
     "slide_type": "slide"
    }
   },
   "source": [
    "## Comparing floating point numbers using Numpy\n",
    "Due to this inherent inaccuracy, the equality of floating point numbers cannot be compared using regular comparison operators.\n",
    "\n"
   ]
  },
  {
   "cell_type": "code",
   "execution_count": 30,
   "metadata": {},
   "outputs": [
    {
     "data": {
      "text/plain": [
       "False"
      ]
     },
     "execution_count": 30,
     "metadata": {},
     "output_type": "execute_result"
    }
   ],
   "source": [
    "0.1 + 0.2 == 0.3"
   ]
  },
  {
   "cell_type": "markdown",
   "metadata": {
    "slideshow": {
     "slide_type": "subslide"
    }
   },
   "source": [
    "For example, the following test would fail:\n",
    "\n",
    "```Python\n",
    "def test_calculator_add_method_returns_correct_result(self):\n",
    "    result = calc_add(0.1,0.2)\n",
    "    assert result == 0.3\n",
    "    ```"
   ]
  },
  {
   "cell_type": "markdown",
   "metadata": {
    "slideshow": {
     "slide_type": "subslide"
    }
   },
   "source": [
    "The `Numpy` function `allclose` provides a way to evaluate this comparison:"
   ]
  },
  {
   "cell_type": "code",
   "execution_count": 31,
   "metadata": {},
   "outputs": [
    {
     "data": {
      "text/plain": [
       "True"
      ]
     },
     "execution_count": 31,
     "metadata": {},
     "output_type": "execute_result"
    }
   ],
   "source": [
    "np.allclose(0.1 + 0.2, 0.3)"
   ]
  },
  {
   "cell_type": "markdown",
   "metadata": {
    "slideshow": {
     "slide_type": "slide"
    }
   },
   "source": [
    "## Comparing arrays using Numpy\n",
    "An array can contain multiple values. \n",
    "\n",
    "The boolean `True` or `False` outcome of the conditional can potentially vary from element to element. "
   ]
  },
  {
   "cell_type": "code",
   "execution_count": 33,
   "metadata": {},
   "outputs": [
    {
     "ename": "ValueError",
     "evalue": "The truth value of an array with more than one element is ambiguous. Use a.any() or a.all()",
     "output_type": "error",
     "traceback": [
      "\u001b[0;31m---------------------------------------------------------------------------\u001b[0m",
      "\u001b[0;31mValueError\u001b[0m                                Traceback (most recent call last)",
      "\u001b[0;32m<ipython-input-33-37036b3725ff>\u001b[0m in \u001b[0;36m<module>\u001b[0;34m()\u001b[0m\n\u001b[1;32m      1\u001b[0m \u001b[0mA\u001b[0m \u001b[0;34m=\u001b[0m \u001b[0mnp\u001b[0m\u001b[0;34m.\u001b[0m\u001b[0marray\u001b[0m\u001b[0;34m(\u001b[0m\u001b[0;34m[\u001b[0m\u001b[0;36m1.\u001b[0m\u001b[0;34m,\u001b[0m\u001b[0;36m2.\u001b[0m\u001b[0;34m]\u001b[0m\u001b[0;34m)\u001b[0m\u001b[0;34m\u001b[0m\u001b[0m\n\u001b[1;32m      2\u001b[0m \u001b[0;34m\u001b[0m\u001b[0m\n\u001b[0;32m----> 3\u001b[0;31m \u001b[0;32mif\u001b[0m \u001b[0mA\u001b[0m \u001b[0;34m==\u001b[0m \u001b[0mA\u001b[0m\u001b[0;34m:\u001b[0m\u001b[0;34m\u001b[0m\u001b[0m\n\u001b[0m\u001b[1;32m      4\u001b[0m     \u001b[0;32mpass\u001b[0m\u001b[0;34m\u001b[0m\u001b[0m\n",
      "\u001b[0;31mValueError\u001b[0m: The truth value of an array with more than one element is ambiguous. Use a.any() or a.all()"
     ]
    }
   ],
   "source": [
    "A = np.array([1.,2.])\n",
    "\n",
    "if A == A: \n",
    "    pass"
   ]
  },
  {
   "cell_type": "markdown",
   "metadata": {
    "slideshow": {
     "slide_type": "subslide"
    }
   },
   "source": [
    "The `numpy.allclose` function is also used to specify that all values of an array are being considered. "
   ]
  },
  {
   "cell_type": "code",
   "execution_count": 34,
   "metadata": {},
   "outputs": [
    {
     "data": {
      "text/plain": [
       "True"
      ]
     },
     "execution_count": 34,
     "metadata": {},
     "output_type": "execute_result"
    }
   ],
   "source": [
    "np.allclose(A, A)"
   ]
  },
  {
   "cell_type": "markdown",
   "metadata": {
    "slideshow": {
     "slide_type": "slide"
    }
   },
   "source": [
    "## Writing tests for floating point numbers.\n",
    "\n",
    "`allclose` should be used to test equality of floats or matrices. \n",
    "\n",
    "For example, let's add the following function to calculator_example.py\n",
    "\n",
    "```Python\n",
    "def test_calculator_add_method_returns_correct_result_for_floats(self):\n",
    "    result = calc_add(0.1,0.2)\n",
    "    assert np.allclose(result, 0.3)\n",
    "    ```"
   ]
  },
  {
   "cell_type": "markdown",
   "metadata": {
    "slideshow": {
     "slide_type": "subslide"
    }
   },
   "source": [
    "### The `Numpy` testing module.\n",
    "\n",
    "A more concise way to write this is using `Numpy`'s dedicated testing module.\n",
    "\n",
    "```Python\n",
    "\n",
    "import numpy.testing as npt\n",
    "\n",
    "```\n",
    "\n"
   ]
  },
  {
   "cell_type": "markdown",
   "metadata": {
    "slideshow": {
     "slide_type": "subslide"
    }
   },
   "source": [
    "The tests for the comparisons above can be written:\n",
    "\n",
    "```Python\n",
    "\n",
    "npt.assert_allclose(0.1 + 0.2, 0.3)\n",
    "npt.assert_allclose(A, A)\n",
    "```"
   ]
  },
  {
   "cell_type": "markdown",
   "metadata": {
    "slideshow": {
     "slide_type": "slide"
    }
   },
   "source": [
    "## Importing your program to a *suite* of tests.\n",
    "\n",
    "As you write more and more tests, it can be beneficial to organise your code so that your tests are stored in a seperate file or directory."
   ]
  },
  {
   "cell_type": "markdown",
   "metadata": {
    "slideshow": {
     "slide_type": "subslide"
    }
   },
   "source": [
    "There are rules for running files using `pytest` that depend on the position of the file containing the tests, relative to the file containing the program, in the computer's file system.\n",
    "\n",
    "`pytest` supports three common test layouts:"
   ]
  },
  {
   "cell_type": "markdown",
   "metadata": {
    "slideshow": {
     "slide_type": "subslide"
    }
   },
   "source": [
    "### 1) Same directory for tests and program files \n",
    "\n",
    "    directory/\n",
    "        program.py\n",
    "        tests.py\n",
    "        \n",
    "######  `tests.py` must contain :\n",
    "\n",
    "```Python\n",
    "import pytest\n",
    "import program\n",
    "from program import *\n",
    "```\n",
    "\n",
    " \n",
    "\n"
   ]
  },
  {
   "cell_type": "markdown",
   "metadata": {
    "slideshow": {
     "slide_type": "subslide"
    }
   },
   "source": [
    "###### To run the tests:\n",
    "- In the terminal, use `cd` to navigate to within the directory containing both files.\n",
    "- run:<br>`pytest tests.py`"
   ]
  },
  {
   "cell_type": "markdown",
   "metadata": {
    "slideshow": {
     "slide_type": "subslide"
    }
   },
   "source": [
    "### 2) Inline test directories\n",
    "\n",
    "    main_directory/\n",
    "    \n",
    "        directory/\n",
    "\n",
    "            __init__.py\n",
    "\n",
    "            program.py\n",
    "\n",
    "            tests/\n",
    "                tests.py\n",
    "                \n",
    "\n",
    "\n"
   ]
  },
  {
   "cell_type": "markdown",
   "metadata": {
    "slideshow": {
     "slide_type": "subslide"
    }
   },
   "source": [
    "###### `tests.py` must contain :\n",
    "\n",
    "```Python\n",
    "import pytest\n",
    "import sys\n",
    "import os\n",
    "\n",
    "myPath = os.path.dirname(os.path.abspath(__file__))\n",
    "\n",
    "# The full path to the file is specified.\n",
    "# The 0 makes the next directory up the first place python looks. (important if a file of the name name exists elsewhere in directory).\n",
    "\n",
    "sys.path.insert(0, myPath + '/../')\n",
    "\n",
    "import program\n",
    "from program import *\n",
    "```"
   ]
  },
  {
   "cell_type": "markdown",
   "metadata": {
    "slideshow": {
     "slide_type": "subslide"
    }
   },
   "source": [
    "###### To run the tests:\n",
    "\n",
    "In the terminal, from within `main_directory`:\n",
    "\n",
    "     main_directory/\n",
    "            directory/\n",
    "                __init__.py\n",
    "                program.py\n",
    "                tests/\n",
    "                    tests.py\n",
    "                \n",
    "                \n",
    "- `pytest directory/tests/tests.py`   <br>to run tests in one file\n",
    "\n",
    "- `pytest *` <br>to run all tests below current directory\n",
    " \n",
    "- `pytest directory/*` <br>to run all tests below directory\n",
    "\n",
    "- `pytest directory/tests/* ` <br>to run all tests below directory/tests\n",
    "\n"
   ]
  },
  {
   "cell_type": "markdown",
   "metadata": {
    "slideshow": {
     "slide_type": "subslide"
    }
   },
   "source": [
    "In the terminal, from within `directory`:\n",
    "\n",
    "     main_directory/\n",
    "            directory/\n",
    "                __init__.py\n",
    "                program.py\n",
    "                tests/\n",
    "                    tests.py\n",
    "                    \n",
    "- `pytest tests/tests.py`   <br>to run tests in one file\n",
    "\n",
    "- `pytest *` <br>to run all tests below current directory\n",
    "\n",
    "- `pytest tests/* ` <br>to run all tests below directory/tests\n",
    "\n",
    "\n",
    "In other words you specify the path to the tests from wherever you are running `pytest`.\n",
    "\n",
    "This allows you to choose which tests you run and when. "
   ]
  },
  {
   "cell_type": "markdown",
   "metadata": {
    "slideshow": {
     "slide_type": "subslide"
    }
   },
   "source": [
    "### 3) Seperate directories for program and tests\n",
    "\n",
    "\n",
    "    directory\n",
    "    program/\n",
    "        __init__.py\n",
    "        program.py\n",
    "\n",
    "    tests/\n",
    "        tests.py"
   ]
  },
  {
   "cell_type": "markdown",
   "metadata": {
    "slideshow": {
     "slide_type": "subslide"
    }
   },
   "source": [
    "###### `tests.py` must contain :\n",
    "\n",
    "```Python\n",
    "import pytest\n",
    "import sys\n",
    "import os\n",
    "\n",
    "myPath = os.path.dirname(os.path.abspath(__file__))\n",
    "\n",
    "# The full path to the file is specified.\n",
    "# The 0 makes the next directory up the first place python looks. (important if a file of the name name exists elsewhere in directory).\n",
    "\n",
    "sys.path.insert(0, myPath + '/../tests')\n",
    "\n",
    "import program\n",
    "from program import *\n",
    "```"
   ]
  },
  {
   "cell_type": "markdown",
   "metadata": {
    "slideshow": {
     "slide_type": "subslide"
    }
   },
   "source": [
    "###### To run the tests:\n",
    "\n",
    "In the terminal, from within `directory`:\n",
    "\n",
    "    directory\n",
    "        program/\n",
    "            __init__.py\n",
    "            program.py\n",
    "        tests/\n",
    "            tests.py\n",
    "                \n",
    "- `pytest tests/tests.py`   <br>to run tests in one file\n",
    "\n",
    "- `pytest *` <br>to run all tests below current directory\n",
    "\n",
    "- `pytest tests/* ` <br>to run all tests below directory/tests\n",
    "\n"
   ]
  },
  {
   "cell_type": "markdown",
   "metadata": {
    "collapsed": true,
    "slideshow": {
     "slide_type": "slide"
    }
   },
   "source": [
    "# Summary\n",
    "\n",
    " - Tests are code that is written to check the program performs exactly as you expect it to. \n",
    " - The `assert` command can be used to check your code againsta  known solution.\n",
    " - Tests are usually placed within __functions__ to improve tidiness, readablity and to allow them to be recognised by packages such as `pytest`.\n",
    " The general format of *test driven development* is:\n",
    "  - write a test that fails\n",
    "  - make the test pass \n",
    "  - refactor\n",
    " - `with pytest.raises` can be used to test for exceptions.\n",
    " - Due to the way that computers store floating point numbers, it is not possible to directly compare:\n",
    "    1. floats \n",
    "    1. arrays\n",
    " - The method `Numpy.allclose` can be used to compare floating point numbers. \n",
    " - Numpy has its own testing module; `Numpy.testing` which makes writing tests on floting point numbers more concise.\n",
    " - Code can be made neater and more readable by storing your tests in a seperate file to your main program. "
   ]
  },
  {
   "cell_type": "code",
   "execution_count": null,
   "metadata": {
    "collapsed": true
   },
   "outputs": [],
   "source": []
  }
 ],
 "metadata": {
  "celltoolbar": "Slideshow",
  "kernelspec": {
   "display_name": "Python 3",
   "language": "python",
   "name": "python3"
  },
  "language_info": {
   "codemirror_mode": {
    "name": "ipython",
    "version": 3
   },
   "file_extension": ".py",
   "mimetype": "text/x-python",
   "name": "python",
   "nbconvert_exporter": "python",
   "pygments_lexer": "ipython3",
   "version": "3.6.2"
  }
 },
 "nbformat": 4,
 "nbformat_minor": 2
}
