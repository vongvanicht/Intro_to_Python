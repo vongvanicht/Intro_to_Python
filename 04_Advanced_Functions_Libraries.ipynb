{
 "cells": [
  {
   "cell_type": "markdown",
   "metadata": {
    "slideshow": {
     "slide_type": "slide"
    }
   },
   "source": [
    "## Please download the new class notes.\n",
    "### Step 1 : Navigate to the directory where your files are stored.  \n",
    "Open a terminal. \n",
    "<br>Using `cd`, navigate to *inside* the ILAS_Python_for_engineers folder on your computer. \n",
    "### Step 3 : Update the course notes by downloading the changes\n",
    "In the terminal type:\n",
    "\n",
    ">`git add -A\n",
    "git commit -m \"commit\"\n",
    "git fetch upstream\n",
    "git merge -X theirs upstream/master`\n"
   ]
  },
  {
   "cell_type": "markdown",
   "metadata": {
    "collapsed": true,
    "slideshow": {
     "slide_type": "slide"
    }
   },
   "source": [
    "# Advanced Functions and Building your own Function Library\n",
    "\n",
    "<br> <a href='#StoringFunctions'>Storing Functions</a>\n",
    "<br> <a href='#WritingYourOwnLibaray'>Writing Your Own Libaray</a> \n",
    "<br> <a href='#Namespaces'>Namespaces</a> \n",
    "\t<br> &emsp;&emsp; <a href='#LocalNamespace'>The Local Namespace</a> \n",
    "<br> <a href='#ModuleSearchPath'>The Module Search Path</a> \n",
    "    <br> &emsp;&emsp; <a href='#FilesLocatedSameDirectory'>Files Located in the Same Directory</a> \n",
    "    <br> &emsp;&emsp; <a href='#__init__.py'>__init__.py</a> \n",
    "    <br> &emsp;&emsp; <a href='#AddingModulesPathSpyder'>Adding Modules to the Path using Spyder</a> \n",
    "    <br> &emsp;&emsp; <a href='#AddingModulessitepackages'>Adding Modules to the 'site-packages’</a>\n",
    "<br> <a href='#VectorisingFunctions'>Vectorising Functions</a>\n",
    "    <br> &emsp;&emsp; <a href='#VectorisedFunctionsFucntionArguments'>Vectorised Functions as Fucntion Arguments</a> \n",
    "<br> <a href='#Broadcasting'>Broadcasting </a>\n",
    "<br> <a href='#LambdaFunctions'>Lambda Functions</a> \n",
    "<br> <a href='#RecursiveFunctions'>Recursive Functions</a> \n",
    "     <br> &emsp;&emsp; <a href='#FibonacciSequence'>The Fibonacci Sequence</a> \n",
    "<br> <a href='#Generators'>Optional Extension Topic: Generators</a> \n",
    "\t<br> &emsp;&emsp; <a href='#FibonacciSequenceContinued'>The Fibonacci Sequence (Continued)</a> \n",
    "<br> <a href='#Summary'>Summary</a> \n",
    "<br> <a href='#TestYourselfExercises'>Test-Yourself Exercises</a>\n",
    "<br> <a href='#ReviewExercises'>Review Exercises</a>"
   ]
  },
  {
   "cell_type": "markdown",
   "metadata": {
    "slideshow": {
     "slide_type": "slide"
    }
   },
   "source": [
    "### Lesson Goal\n",
    "\n",
    "1. Store functions that you have written in external files and import them to your programs.\n",
    "2. Write a __recursive function__, a __lambda function__ and (optionally) a generator. \n",
    "\n",
    "### Fundamental programming concepts\n",
    " - File hierarchy\n",
    " - Making your code more readable by storing it in multiple files\n",
    " - Using specific function constructs to write code more efficiently"
   ]
  },
  {
   "cell_type": "markdown",
   "metadata": {
    "slideshow": {
     "slide_type": "slide"
    }
   },
   "source": [
    "## Storing Functions.\n",
    "<a id='StoringFunctions'></a>\n",
    "Python function definitions and constants can be stored in one or more separate files.\n",
    "\n",
    "This keeps things tidy and allows the functions to be used in multiple programs without re-writing the code.  \n",
    "\n"
   ]
  },
  {
   "cell_type": "markdown",
   "metadata": {
    "slideshow": {
     "slide_type": "slide"
    }
   },
   "source": [
    "The file containig the function dfinitions is called a “module”.\n",
    "\n",
    "The module name is the file name without the “.py” extension.\n",
    "\n"
   ]
  },
  {
   "cell_type": "markdown",
   "metadata": {
    "slideshow": {
     "slide_type": "slide"
    }
   },
   "source": [
    "These are saved to you computer when you install Numpy.\n",
    "<br>(Note: Numpy and other widely used packages are automatically installed with Anaconda)."
   ]
  },
  {
   "cell_type": "markdown",
   "metadata": {
    "slideshow": {
     "slide_type": "slide"
    }
   },
   "source": [
    "For example, the functions of the Numpy library are stored as a system of:\n",
    "- __sub-packages__ (sub-folders)\n",
    "- __modules__ (.py files).\n",
    "\n",
    " <img src=\"img/directory_tree_numpy.png\" alt=\"Drawing\" style=\"width: 400px;\"/>"
   ]
  },
  {
   "cell_type": "markdown",
   "metadata": {
    "slideshow": {
     "slide_type": "slide"
    }
   },
   "source": [
    "By writing:\n",
    "\n",
    "    `numpy.linalg.norm([10, 15, 3])`\n",
    "\n",
    "We are telling the computer to use:\n",
    " - the function `norm`...\n",
    " - ...from the module `linalg`...\n",
    " - ...from the package `numpy`"
   ]
  },
  {
   "cell_type": "markdown",
   "metadata": {
    "slideshow": {
     "slide_type": "slide"
    }
   },
   "source": [
    "This function computes the magnitude of a vector described by the input arguments.\n",
    "<br>x = 20\n",
    "<br>y = 10\n",
    "<br>z = 3\n",
    "\n",
    "<img src=\"img/3d_position_vector.png\" alt=\"Drawing\" style=\"width: 200px;\"/>\n",
    "\n"
   ]
  },
  {
   "cell_type": "code",
   "execution_count": 2,
   "metadata": {
    "slideshow": {
     "slide_type": "-"
    }
   },
   "outputs": [
    {
     "data": {
      "text/plain": [
       "18.275666882497067"
      ]
     },
     "execution_count": 2,
     "metadata": {},
     "output_type": "execute_result"
    }
   ],
   "source": [
    "import numpy \n",
    "numpy.linalg.norm([10, 15, 3])\n",
    "\n",
    "\n",
    "import numpy as np\n",
    "np.linalg.norm([10, 15, 3])"
   ]
  },
  {
   "cell_type": "markdown",
   "metadata": {
    "slideshow": {
     "slide_type": "slide"
    }
   },
   "source": [
    "A directory should contain a file called `__init__.py` for Python to treat the Python files within it as packages.\n",
    "\n",
    "(However, the examples in this notebook should work without the `__init__.py file`.)\n",
    "\n",
    "<img src=\"img/directory_tree__init__.png\" alt=\"Drawing\" style=\"width: 200px;\"/>"
   ]
  },
  {
   "cell_type": "markdown",
   "metadata": {},
   "source": [
    "In the simplest case, `__init__.py` can just be an empty file\n",
    "\n",
    "It can also execute initialization code for a package.\n",
    "\n",
    "We will learn about the role of this file later in today's class."
   ]
  },
  {
   "cell_type": "markdown",
   "metadata": {
    "slideshow": {
     "slide_type": "slide"
    }
   },
   "source": [
    "## Writing Your Own Library\n",
    "<a id='WritingYourOwnLibrary'></a>\n",
    "It can be useful to store the functions that you write as multiple files."
   ]
  },
  {
   "cell_type": "markdown",
   "metadata": {
    "slideshow": {
     "slide_type": "slide"
    }
   },
   "source": [
    "Typically, you will have one main program into which the other modules are imported.\n",
    "\n",
    "<img src=\"img/importing_packages.png\" alt=\"Drawing\" style=\"width: 700px;\"/>"
   ]
  },
  {
   "cell_type": "markdown",
   "metadata": {
    "slideshow": {
     "slide_type": "slide"
    }
   },
   "source": [
    "This allows you to:\n",
    "- keep your code readable and tidy\n",
    "- re-use functions in multiple programs without re-writing the code"
   ]
  },
  {
   "cell_type": "markdown",
   "metadata": {
    "slideshow": {
     "slide_type": "slide"
    }
   },
   "source": [
    "Like other libraries, user-defined modules are made available within a program using the Python `import` keyword. \n",
    "\n",
    "Example\n",
    "\n",
    ">`import numpy`\n",
    "\n",
    "It is general practise to place all import statements at the beginning of the program."
   ]
  },
  {
   "cell_type": "markdown",
   "metadata": {
    "slideshow": {
     "slide_type": "-"
    }
   },
   "source": [
    "As we hae already studied, imported functions or constants can be called using the module name followed by the function name.\n",
    "\n",
    "Example\n",
    "\n",
    ">`numpy.pi`"
   ]
  },
  {
   "cell_type": "markdown",
   "metadata": {
    "slideshow": {
     "slide_type": "slide"
    }
   },
   "source": [
    "Let's learnt to import code from a user-defined library...\n",
    "\n",
    "Open Spyder.\n",
    "\n",
    "Create two new files with the names:\n",
    "- `file_A.py`\n",
    "- `file_B.py`\n",
    "\n",
    "Save them in a new folder called `functions_example`."
   ]
  },
  {
   "cell_type": "markdown",
   "metadata": {
    "slideshow": {
     "slide_type": "-"
    }
   },
   "source": [
    "<img src=\"img/fileA_fileB.png\" alt=\"Drawing\" style=\"width: 700px;\"/>"
   ]
  },
  {
   "cell_type": "markdown",
   "metadata": {
    "slideshow": {
     "slide_type": "slide"
    }
   },
   "source": [
    "Copy and paste the code from the cell below into `file_B.py`"
   ]
  },
  {
   "cell_type": "code",
   "execution_count": 3,
   "metadata": {},
   "outputs": [],
   "source": [
    "def print_a_number(number=2):\n",
    "    print(number)    \n",
    "    \n",
    "def type_interrogate(data):\n",
    "    print(type(data))"
   ]
  },
  {
   "cell_type": "markdown",
   "metadata": {
    "slideshow": {
     "slide_type": "slide"
    }
   },
   "source": [
    "Save the file :\n",
    "\n",
    "File >> Save"
   ]
  },
  {
   "cell_type": "markdown",
   "metadata": {
    "slideshow": {
     "slide_type": "slide"
    }
   },
   "source": [
    "In File_A:\n",
    "- import file_B.py\n",
    "\n",
    "        import file_B\n",
    "\n",
    "- call the two functions\n",
    "\n",
    "        file_B.print_a_number(4)\n",
    "        \n",
    "        file_B.type_interrogate('hello')\n",
    "\n"
   ]
  },
  {
   "cell_type": "markdown",
   "metadata": {
    "slideshow": {
     "slide_type": "slide"
    }
   },
   "source": [
    "*What happens if `print_a_number` is called without an argument?*\n",
    "\n"
   ]
  },
  {
   "cell_type": "markdown",
   "metadata": {
    "slideshow": {
     "slide_type": "slide"
    }
   },
   "source": [
    "*What happpens if `type_interrogate` is called without an argument? *"
   ]
  },
  {
   "cell_type": "markdown",
   "metadata": {
    "collapsed": true,
    "slideshow": {
     "slide_type": "slide"
    }
   },
   "source": [
    "## Namespaces\n",
    "<a id='Namespaces'></a>\n",
    "We prefix `print_a_number` and `type_interrogate` with the __namespace__,  `file_B`.\n",
    "\n",
    "This shows which package we want to import the functions from.\n",
    "\n",
    "\n",
    "\n"
   ]
  },
  {
   "cell_type": "markdown",
   "metadata": {
    "slideshow": {
     "slide_type": "slide"
    }
   },
   "source": [
    "For example, when using the function `numpy.cos()`, we use the name space `numpy` or `np`:"
   ]
  },
  {
   "cell_type": "code",
   "execution_count": 4,
   "metadata": {},
   "outputs": [
    {
     "data": {
      "text/plain": [
       "-1.0"
      ]
     },
     "execution_count": 4,
     "metadata": {},
     "output_type": "execute_result"
    }
   ],
   "source": [
    "import numpy as np\n",
    "\n",
    "np.cos(np.pi)"
   ]
  },
  {
   "cell_type": "markdown",
   "metadata": {
    "slideshow": {
     "slide_type": "slide"
    }
   },
   "source": [
    "The __namespace__ shows we want to use the `cos` function from the Numpy package.\n",
    "\n",
    "If `cos` appears in more than one package we import, then there will be more than one `cos` function available.\n",
    "\n",
    "We must make it clear which `cos` we want to use. \n",
    "\n",
    "\n"
   ]
  },
  {
   "cell_type": "markdown",
   "metadata": {
    "slideshow": {
     "slide_type": "slide"
    }
   },
   "source": [
    "Often, functions with the same name, from different packages, use different algorithms for performing the same or similar operation. \n",
    "\n",
    "They may vary in speed and accuracy. \n",
    "\n"
   ]
  },
  {
   "cell_type": "markdown",
   "metadata": {
    "slideshow": {
     "slide_type": "slide"
    }
   },
   "source": [
    "\n",
    "\n",
    "In some applications we might value accuracy over speed...\n",
    "\n",
    "\n",
    "\n"
   ]
  },
  {
   "cell_type": "markdown",
   "metadata": {
    "slideshow": {
     "slide_type": "slide"
    }
   },
   "source": [
    "#### Example: Square Root\n",
    "\n",
    "Below are two functions, both named `sqrt`. \n",
    "\n",
    "Both functions compute the square root of the input.\n",
    "\n",
    " - `math.sqrt`, from the package, `math`, gives an error if the input is a negative number. It does not support complex numbers.\n",
    " - `cmath.sqrt`, from the package, `cmath`, supports complex numbers.\n"
   ]
  },
  {
   "cell_type": "code",
   "execution_count": 5,
   "metadata": {
    "slideshow": {
     "slide_type": "slide"
    }
   },
   "outputs": [
    {
     "name": "stdout",
     "output_type": "stream",
     "text": [
      "2.0\n"
     ]
    }
   ],
   "source": [
    "import math\n",
    "import cmath\n",
    "print(math.sqrt(4))\n",
    "#print(math.sqrt-5)\n",
    "#print(cmath.sqrt(-5))"
   ]
  },
  {
   "cell_type": "markdown",
   "metadata": {
    "slideshow": {
     "slide_type": "slide"
    }
   },
   "source": [
    "Two people collaborating on the same program might choose the same name for two functions that perform similar tasks. \n",
    "\n",
    "If these functions are in different modules, there will be no name clash since the module name provides a 'namespace'. "
   ]
  },
  {
   "cell_type": "markdown",
   "metadata": {
    "slideshow": {
     "slide_type": "slide"
    }
   },
   "source": [
    "### The Local Namespace.\n",
    "<a id='LocalNamespace'></a>\n",
    "Internally, each Python module and program has its own local namespace.\n",
    "\n",
    "The local namesapce is a “symbol table” which contains the names of all functions and variables that you don't have to prepend with a namespace."
   ]
  },
  {
   "cell_type": "markdown",
   "metadata": {
    "slideshow": {
     "slide_type": "slide"
    }
   },
   "source": [
    "When you import a module with an import statement, only the module’s name gets added to the local namespace – <br>(i.e. the imported module’s local namespace does not get added.)\n",
    "\n",
    "This is to avoid possible conflicts due to functions with the same name appearing in multiple imported modules. \n",
    "\n",
    "This is why you must prefix the function name with the module name. "
   ]
  },
  {
   "cell_type": "markdown",
   "metadata": {
    "slideshow": {
     "slide_type": "slide"
    }
   },
   "source": [
    "You can change the module name in the local namespace.\n",
    "\n",
    "In file_A.py, you can change the line:\n",
    "\n",
    "    import file_B\n",
    "\n",
    "to \n",
    "\n",
    "    import file_B as fb\n",
    "    \n"
   ]
  },
  {
   "cell_type": "markdown",
   "metadata": {
    "slideshow": {
     "slide_type": "slide"
    }
   },
   "source": [
    "We can now call a function using a shortened version of the module name\n",
    "\n",
    "    file_B.print_a_number(4)\n",
    "    \n",
    "to\n",
    "\n",
    "    fb.print_a_number(4)"
   ]
  },
  {
   "cell_type": "markdown",
   "metadata": {
    "slideshow": {
     "slide_type": "slide"
    }
   },
   "source": [
    "If you don't have name collisions, you can import *individual functions* and remove the need for the module name altogether:\n",
    "\n",
    "        import file_B as fb\n",
    "        from file_B import print_a_number\n",
    "\n",
    "        print_a_number(4)\n",
    "        \n",
    "        fb.interrogate_type('hello')\n"
   ]
  },
  {
   "cell_type": "markdown",
   "metadata": {
    "slideshow": {
     "slide_type": "slide"
    }
   },
   "source": [
    "To import *all functions* from a module, and remove the need for the module name altogether:\n",
    "\n",
    "        from file_B import *\n",
    "\n",
    "        print_a_number(4)\n",
    "\n",
    "        interrogate_type('hello')"
   ]
  },
  {
   "cell_type": "markdown",
   "metadata": {
    "slideshow": {
     "slide_type": "slide"
    }
   },
   "source": [
    "It is inadvisable to use * where you do not know the full content of a module e.g. a library such as Numpy.\n",
    "\n",
    "It may be appropraite to use * with a small, *specific*, user-defined module. "
   ]
  },
  {
   "cell_type": "markdown",
   "metadata": {
    "slideshow": {
     "slide_type": "slide"
    }
   },
   "source": [
    "##### Try it yourself\n",
    "\n",
    "Edit the code in file_A.py to:\n",
    "- import *all* functions from file_B \n",
    "- remove the need to use the module name when calling the function"
   ]
  },
  {
   "cell_type": "markdown",
   "metadata": {
    "slideshow": {
     "slide_type": "slide"
    }
   },
   "source": [
    "### The Module Search Path\n",
    "<a id='ModuleSearchPath'></a>\n",
    "When a module is imported, the Python interpreter searches a collection of directories for a module with that name. \n",
    "\n",
    "The collection of directories is called the Python path.\n",
    "\n",
    "It is stored as a list of strings. \n",
    "\n"
   ]
  },
  {
   "cell_type": "markdown",
   "metadata": {
    "slideshow": {
     "slide_type": "slide"
    }
   },
   "source": [
    "You can display the Python path for your computer by running:"
   ]
  },
  {
   "cell_type": "code",
   "execution_count": 6,
   "metadata": {},
   "outputs": [
    {
     "name": "stdout",
     "output_type": "stream",
     "text": [
      "['', '/anaconda3/lib/python36.zip', '/anaconda3/lib/python3.6', '/anaconda3/lib/python3.6/lib-dynload', '/anaconda3/lib/python3.6/site-packages', '/anaconda3/lib/python3.6/site-packages/aeosa', '/anaconda3/lib/python3.6/site-packages/IPython/extensions', '/Users/hemma/.ipython']\n"
     ]
    }
   ],
   "source": [
    "import sys\n",
    "print(sys.path)"
   ]
  },
  {
   "cell_type": "markdown",
   "metadata": {
    "slideshow": {
     "slide_type": "slide"
    }
   },
   "source": [
    "`sys` is a module with useful functions for accessing your computer system."
   ]
  },
  {
   "cell_type": "markdown",
   "metadata": {
    "slideshow": {
     "slide_type": "slide"
    }
   },
   "source": [
    "For a module to be available for import, it must feature in the Python path. \n",
    "\n",
    "When you *install* a python module, the action you are doing is adding the module location to the python path.\n",
    "\n"
   ]
  },
  {
   "cell_type": "markdown",
   "metadata": {
    "slideshow": {
     "slide_type": "slide"
    }
   },
   "source": [
    "There are multiple ways to add a module to the search path.\n",
    "\n",
    "Today we will focus on the simplest, (and arguably the most useful) ways to import modules.  \n",
    "\n",
    "\n",
    "\n",
    "\n",
    "\n"
   ]
  },
  {
   "cell_type": "markdown",
   "metadata": {
    "slideshow": {
     "slide_type": "slide"
    }
   },
   "source": [
    "### Files Located in the Same Directory.\n",
    "<a id='FilesLocatedSameDirectory'></a>"
   ]
  },
  {
   "cell_type": "markdown",
   "metadata": {
    "slideshow": {
     "slide_type": "slide"
    }
   },
   "source": [
    "file_A and file_B are in the same folder.\n",
    "\n",
    "<img src=\"img/fileA_fileB.png\" alt=\"Drawing\" style=\"width: 600px;\"/>"
   ]
  },
  {
   "cell_type": "markdown",
   "metadata": {
    "slideshow": {
     "slide_type": "slide"
    }
   },
   "source": [
    "We therefore refer to them as 'sibling' files.\n",
    "\n",
    "The file can 'see' it's siblings.\n",
    "\n",
    "We can import code just by using the `import` keyword.\n",
    "\n"
   ]
  },
  {
   "cell_type": "markdown",
   "metadata": {
    "collapsed": true,
    "slideshow": {
     "slide_type": "slide"
    }
   },
   "source": [
    "The file can also 'see' folders in the same directory.\n",
    "\n",
    "Create a new folder, called `sibling_folder`, in the same directory as file_A.py and file_B.py.\n",
    "\n",
    "Within this folder, use spyder to create a new file called `file_C.py`. \n",
    "\n",
    "<img src=\"img/sibling_folder.png\" alt=\"Drawing\" style=\"width: 600px;\"/>"
   ]
  },
  {
   "cell_type": "markdown",
   "metadata": {
    "slideshow": {
     "slide_type": "slide"
    }
   },
   "source": [
    "Copy and paste the code from the cell below into file_C.py\n",
    "\n",
    "Save the file."
   ]
  },
  {
   "cell_type": "code",
   "execution_count": 7,
   "metadata": {},
   "outputs": [],
   "source": [
    "def subtract_and_increment(a, b):\n",
    "    \"\"\"\"\n",
    "    Return a minus b, plus 1\n",
    "    \"\"\"\n",
    "    c = a - b + 1\n",
    "    return c"
   ]
  },
  {
   "cell_type": "markdown",
   "metadata": {
    "collapsed": true,
    "slideshow": {
     "slide_type": "slide"
    }
   },
   "source": [
    "To import code from file_C to file_A or file_B\n",
    "\n",
    ">`import sibling_folder.file_C`\n",
    "\n",
    ">`print(sibling_folder.file_C.subtract_and_increment(8, 10))`"
   ]
  },
  {
   "cell_type": "markdown",
   "metadata": {
    "slideshow": {
     "slide_type": "slide"
    }
   },
   "source": [
    "Add the code below the cell below to file_A.py\n",
    "\n",
    "    from sibling_folder.file_C import *\n",
    "\n",
    "    print(subtract_and_increment(8, 10))"
   ]
  },
  {
   "cell_type": "markdown",
   "metadata": {
    "slideshow": {
     "slide_type": "slide"
    }
   },
   "source": [
    "If a file is located one level or more higher than a program, it cannot automatically be seen by the program. \n",
    "\n",
    "To import the file we need to add its location to the Python path. \n",
    "<br>(the places the Python interpreter looks for modules).\n",
    "\n",
    "The easiest way to do this is using the module `sys`."
   ]
  },
  {
   "cell_type": "markdown",
   "metadata": {
    "slideshow": {
     "slide_type": "slide"
    }
   },
   "source": [
    "Use spyder to create a new file in the same folder as `file_C.py`.\n",
    "\n",
    "Call it `file_D.py`.\n",
    "\n",
    "<img src=\"img/fileD.png\" alt=\"Drawing\" style=\"width: 400px;\"/>"
   ]
  },
  {
   "cell_type": "markdown",
   "metadata": {
    "slideshow": {
     "slide_type": "slide"
    }
   },
   "source": [
    "Copy and paste the following code to `file_D.py`\n",
    "\n",
    "The code `append`s the directory one level up (`../`) to the python path list.\n"
   ]
  },
  {
   "cell_type": "code",
   "execution_count": 8,
   "metadata": {},
   "outputs": [
    {
     "ename": "ModuleNotFoundError",
     "evalue": "No module named 'file_B'",
     "output_type": "error",
     "traceback": [
      "\u001b[0;31m---------------------------------------------------------------------------\u001b[0m",
      "\u001b[0;31mModuleNotFoundError\u001b[0m                       Traceback (most recent call last)",
      "\u001b[0;32m<ipython-input-8-612d870a2143>\u001b[0m in \u001b[0;36m<module>\u001b[0;34m()\u001b[0m\n\u001b[1;32m      1\u001b[0m \u001b[0;32mimport\u001b[0m \u001b[0msys\u001b[0m\u001b[0;34m\u001b[0m\u001b[0m\n\u001b[1;32m      2\u001b[0m \u001b[0msys\u001b[0m\u001b[0;34m.\u001b[0m\u001b[0mpath\u001b[0m\u001b[0;34m.\u001b[0m\u001b[0mappend\u001b[0m\u001b[0;34m(\u001b[0m\u001b[0;34m'../'\u001b[0m\u001b[0;34m)\u001b[0m\u001b[0;34m\u001b[0m\u001b[0m\n\u001b[0;32m----> 3\u001b[0;31m \u001b[0;32mimport\u001b[0m \u001b[0mfile_B\u001b[0m\u001b[0;34m\u001b[0m\u001b[0m\n\u001b[0m",
      "\u001b[0;31mModuleNotFoundError\u001b[0m: No module named 'file_B'"
     ]
    }
   ],
   "source": [
    "import sys\n",
    "sys.path.append('../')\n",
    "import file_B"
   ]
  },
  {
   "cell_type": "markdown",
   "metadata": {
    "slideshow": {
     "slide_type": "slide"
    }
   },
   "source": [
    "The functions from `file_B.py` can now be used within `file_D.py`\n",
    "\n",
    "e.g.\n",
    "\n",
    "    file_B.print_a_number()"
   ]
  },
  {
   "cell_type": "markdown",
   "metadata": {
    "slideshow": {
     "slide_type": "slide"
    }
   },
   "source": [
    "Notice the addition to the list when we append a directory to the path"
   ]
  },
  {
   "cell_type": "code",
   "execution_count": null,
   "metadata": {},
   "outputs": [],
   "source": [
    "import sys\n",
    "print(sys.path, end=\"\\n\\n\")\n",
    "\n",
    "# Add a directory\n",
    "sys.path.append('../')\n",
    "print(sys.path, end=\"\\n\\n\")\n",
    "\n",
    "# Remove a directory\n",
    "sys.path.remove('../')\n",
    "print(sys.path)"
   ]
  },
  {
   "cell_type": "markdown",
   "metadata": {
    "slideshow": {
     "slide_type": "slide"
    }
   },
   "source": [
    "The path allows us to import code located anywhere on the compter.\n",
    "\n",
    "<img src=\"img/fileEFG.png\" alt=\"Drawing\" style=\"width: 400px;\"/>\n",
    "\n",
    "\n",
    "- to import code from file_E.py to file_C.py, <br>in file_C.py:\n",
    "> `sys.path.append('../../another_example')`\n"
   ]
  },
  {
   "cell_type": "markdown",
   "metadata": {
    "slideshow": {
     "slide_type": "slide"
    }
   },
   "source": [
    "<img src=\"img/fileEFG.png\" alt=\"Drawing\" style=\"width: 400px;\"/>\n",
    "\n",
    "\n",
    "\n",
    "- to import code from file_B.py to file_G.py, <br>in file_G.p:\n",
    "> `sys.path.append('../functions_example)`"
   ]
  },
  {
   "cell_type": "markdown",
   "metadata": {
    "slideshow": {
     "slide_type": "slide"
    }
   },
   "source": [
    "### `__init__.py`\n",
    "<a id='__init__.py'></a>\n",
    "\n",
    "The Python interpreter will only check directories that contain a file with the name `__init__.py`.\n",
    "\n",
    "You should create an empty file with the name `__init__.py` within any directory you wish to import.\n",
    "\n",
    "The purpose of this is to prevent other python files with the same name (e.g. other projects) from being mistakenly imported. "
   ]
  },
  {
   "cell_type": "markdown",
   "metadata": {
    "slideshow": {
     "slide_type": "slide"
    }
   },
   "source": [
    "As mentioned earlier, the examples in this tutorial will probably work without `__init__.py`.\n",
    "\n",
    "It is best practise to use `__init__.py`.\n",
    "\n",
    "Create an empty file with the name `__init__.py` in folders:\n",
    "- `functions_example`\n",
    "- `another_example`"
   ]
  },
  {
   "cell_type": "markdown",
   "metadata": {
    "slideshow": {
     "slide_type": "slide"
    }
   },
   "source": [
    "### Adding Modules to the Path using Spyder.\n",
    "<a id='AddingModulesPathSpyder'></a>\n",
    "\n",
    "Spyder allows users to associate a directory with a *project*. \n",
    "\n",
    "The project’s path is added to the Python path. \n",
    "\n",
    "*Any* module can be imported directly to another Python file, regardless of file hierarchy within the project. <br>Equivalent functionality can be found in other IDEs.\n",
    "\n",
    "Projects are completely optional i.e. you can work without creating projects."
   ]
  },
  {
   "cell_type": "markdown",
   "metadata": {
    "slideshow": {
     "slide_type": "slide"
    }
   },
   "source": [
    "In the spyder toolbar click:\n",
    "\n",
    "Projects >> New project\n",
    "\n",
    "<img src=\"img/new_project.png\" alt=\"Drawing\" style=\"width: 300px;\"/>\n",
    "\n",
    "There are two options..."
   ]
  },
  {
   "cell_type": "markdown",
   "metadata": {
    "slideshow": {
     "slide_type": "slide"
    }
   },
   "source": [
    "__New directory__\n",
    "<br>e.g. \n",
    "<br>Create a new folder, navigate to *inside* the folder to select it.\n",
    "<br>All files within this folder will be associated with the same project."
   ]
  },
  {
   "cell_type": "markdown",
   "metadata": {
    "slideshow": {
     "slide_type": "slide"
    }
   },
   "source": [
    "__Existing drectory__ \n",
    "<br>e.g. You can select the folder `functions_example`\n",
    "\n",
    "To add new files to the folder:\n",
    "1. Right click on the project name in the *Project explorer* window on the left of the screen.\n",
    "1. Click New >> File..."
   ]
  },
  {
   "cell_type": "markdown",
   "metadata": {
    "slideshow": {
     "slide_type": "slide"
    }
   },
   "source": [
    "##### Try it yourself.\n",
    "\n",
    "Select Projects >> New Project >> Existing directory\n",
    "\n",
    "Choose the folder `functions_example`.\n",
    "\n",
    "*Uncomment* the following lines in file_A.py and run the code again."
   ]
  },
  {
   "cell_type": "markdown",
   "metadata": {
    "slideshow": {
     "slide_type": "slide"
    }
   },
   "source": [
    "### Adding Modules to the 'site-packages'.\n",
    "<a id='AddingModulessite-packages'></a>\n",
    "\n",
    "`site-packages` is the name of the directory of manually insalled python packages. \n",
    "\n",
    "You can find the location of `site-packages` by running:\n",
    ">`print(sys.path)`\n",
    "\n",
    "Installed packages such as `numpy` are found here.\n",
    "\n",
    "\n",
    "\n"
   ]
  },
  {
   "cell_type": "markdown",
   "metadata": {
    "slideshow": {
     "slide_type": "slide"
    }
   },
   "source": [
    "If you add a module to thuis directory, it will be universally accessible within the home directory of your computer system.\n",
    "\n",
    "i.e. You can call it from anywhere by using `import` just as for numpy or any other installed package. "
   ]
  },
  {
   "cell_type": "markdown",
   "metadata": {
    "slideshow": {
     "slide_type": "slide"
    }
   },
   "source": [
    "##### Try it yourself\n",
    "\n",
    "1. Find the location of `site-packages` in your computer system.\n",
    "\n",
    "1. Within `site-packages` create a folder called `my_package`.\n",
    "\n",
    "1. Within `my_package` create:\n",
    "  - an empty file called `__init__.py`\n",
    "  - a file called `my_module.py`.\n",
    "\n",
    "1. In `my_module.py` put a simple print statement e.g.\n",
    ">`print(2)`\n",
    "\n",
    "1. Save the file\n",
    "\n",
    "1. In the terminal type:\n",
    ">`python3` \n",
    "\n",
    "1. To execute the print statement type:\n",
    ">`import my_package.my_module`\n",
    "\n",
    "1. To quit the Python interpreter type:\n",
    ">`quit()`\n",
    "\n",
    "1. (You can delete the folder `my_package` from site packages. We have finished this example so it is no longer needed.)\n"
   ]
  },
  {
   "cell_type": "markdown",
   "metadata": {
    "slideshow": {
     "slide_type": "slide"
    }
   },
   "source": [
    "<a name=\"VectorisingFunctions\"></a>\n",
    "\n",
    "## Vectorising Functions\n",
    "\n",
    "Numpy functions applied to a single array, will be performed on each element in the array. \n",
    "\n",
    "The function takes an array of values as an input argument."
   ]
  },
  {
   "cell_type": "code",
   "execution_count": null,
   "metadata": {
    "slideshow": {
     "slide_type": "-"
    }
   },
   "outputs": [],
   "source": [
    "print(np.sqrt(a))\n",
    "print(a ** (1/2))"
   ]
  },
  {
   "cell_type": "markdown",
   "metadata": {
    "slideshow": {
     "slide_type": "slide"
    }
   },
   "source": [
    "For example, we can apply trigonometric functions, elementwise, to arrays, and lists. "
   ]
  },
  {
   "cell_type": "code",
   "execution_count": null,
   "metadata": {},
   "outputs": [],
   "source": [
    "x = np.array([0.0, np.pi/2, np.pi, 3*np.pi/2])\n",
    "y = [0.0, np.pi/2, np.pi, 3*np.pi/2]\n",
    "z = (0.0, np.pi/2, np.pi, 3*np.pi/2)\n",
    "\n",
    "print(np.sin(x))\n",
    "print(np.cos(y))\n",
    "print(np.tan(z))"
   ]
  },
  {
   "cell_type": "markdown",
   "metadata": {
    "slideshow": {
     "slide_type": "slide"
    }
   },
   "source": [
    "An array of values does not work as an input for all functions."
   ]
  },
  {
   "cell_type": "code",
   "execution_count": 10,
   "metadata": {},
   "outputs": [],
   "source": [
    "def func(x):\n",
    "    if x < 0:\n",
    "        f = 2 * x\n",
    "    else:\n",
    "        f = 3 * x\n",
    "    return f\n",
    "\n",
    "x = np.array([2, -2])\n",
    "# y = func(x) # Run this line after removing the # to see the error generated"
   ]
  },
  {
   "cell_type": "markdown",
   "metadata": {
    "slideshow": {
     "slide_type": "slide"
    }
   },
   "source": [
    "This doesn't work because Python doesn't know what to do with the line \n",
    "\n",
    "`if x < 0` \n",
    "\n",
    "when `x` contains many values. \n",
    "\n",
    "For some values of `x` the `if` statement may be `True`, for others it may be `False`. \n",
    "\n"
   ]
  },
  {
   "cell_type": "markdown",
   "metadata": {
    "slideshow": {
     "slide_type": "slide"
    }
   },
   "source": [
    "A simple way around this problem is to vectorise the function. \n",
    "\n",
    "We create a new function that is a *vectorized* form of the original function.\n",
    "\n",
    "The new function and can be called with an array as an argument.  "
   ]
  },
  {
   "cell_type": "code",
   "execution_count": 11,
   "metadata": {},
   "outputs": [
    {
     "name": "stdout",
     "output_type": "stream",
     "text": [
      "[ 6 -4]\n"
     ]
    }
   ],
   "source": [
    "funcvec = np.vectorize(func)\n",
    "\n",
    "print(funcvec(x))"
   ]
  },
  {
   "cell_type": "markdown",
   "metadata": {
    "slideshow": {
     "slide_type": "slide"
    }
   },
   "source": [
    "### Vectoried functions as function arguments\n",
    "<a name=\"VectorisedFunctionsFucntionArguments\"></a>\n",
    "Functions that receive vectorised arguments are automatically applied to all elements of array inputs. \n",
    "\n",
    "This is better exlpained with an example.\n",
    "\n"
   ]
  },
  {
   "cell_type": "markdown",
   "metadata": {
    "slideshow": {
     "slide_type": "slide"
    }
   },
   "source": [
    "Recall the function `is_positive`: "
   ]
  },
  {
   "cell_type": "code",
   "execution_count": 12,
   "metadata": {
    "slideshow": {
     "slide_type": "-"
    }
   },
   "outputs": [
    {
     "name": "stdout",
     "output_type": "stream",
     "text": [
      "False\n",
      "\n",
      "[ 2 -2]\n"
     ]
    },
    {
     "data": {
      "text/plain": [
       "array([ True, False])"
      ]
     },
     "execution_count": 12,
     "metadata": {},
     "output_type": "execute_result"
    }
   ],
   "source": [
    "x = np.array([2, -2])\n",
    "\n",
    "def is_positive(f, a):\n",
    "    \"Checks if the function value f(x) is positive\"\n",
    "    return f(a) > 0\n",
    "\n",
    "\n",
    "# Apply is_positive to a non-vectorised function\n",
    "print(is_positive(func, -3))\n",
    "print()\n",
    "\n",
    "\n",
    "# Apply is_positive to a vectorised function\n",
    "print(x)\n",
    "is_positive(funcvec, x)"
   ]
  },
  {
   "cell_type": "markdown",
   "metadata": {
    "slideshow": {
     "slide_type": "slide"
    }
   },
   "source": [
    "<a name=\"Broadcasting\"></a>\n",
    "## Broadcasting\n",
    "\n",
    "Another source of incompatibility that you are likely to encounter is in trying to use arrays with different shapes for arithmetic operations. \n",
    "\n",
    "For example, you have one array that larger and another array that is smaller.\n",
    "<br>You may want to use the smaller array multiple times to perform an operation (such as a sum, multiplication, etc.) on the larger array.\n",
    "\n",
    "This is achieved using the broadcasting mechanism. \n",
    "\n",
    "The arrays can be broadcast together if all dimensions of the arrays are *compatible*\n"
   ]
  },
  {
   "cell_type": "markdown",
   "metadata": {
    "collapsed": true,
    "slideshow": {
     "slide_type": "slide"
    }
   },
   "source": [
    "##### Dimensions are compatible when they are equal.\n",
    "\n",
    "Consider the example below. `x` and `y` are the same shape, so we can addd them."
   ]
  },
  {
   "cell_type": "code",
   "execution_count": 14,
   "metadata": {
    "slideshow": {
     "slide_type": "-"
    }
   },
   "outputs": [
    {
     "name": "stdout",
     "output_type": "stream",
     "text": [
      "[[1. 1. 1. 1.]\n",
      " [1. 1. 1. 1.]\n",
      " [1. 1. 1. 1.]]\n",
      "(3, 4)\n",
      "\n",
      "[[4 4 4 4]\n",
      " [4 4 4 4]\n",
      " [4 4 4 4]]\n",
      "(3, 4)\n"
     ]
    },
    {
     "data": {
      "text/plain": [
       "array([[5., 5., 5., 5.],\n",
       "       [5., 5., 5., 5.],\n",
       "       [5., 5., 5., 5.]])"
      ]
     },
     "execution_count": 14,
     "metadata": {},
     "output_type": "execute_result"
    }
   ],
   "source": [
    "x = np.ones((3,4))\n",
    "print(x)\n",
    "print(x.shape)\n",
    "\n",
    "print()\n",
    "\n",
    "y = np.full((3,4), 4)\n",
    "print(y)\n",
    "print(y.shape)\n",
    "\n",
    "# Add `x` and `y`\n",
    "x + y"
   ]
  },
  {
   "cell_type": "markdown",
   "metadata": {
    "slideshow": {
     "slide_type": "slide"
    }
   },
   "source": [
    "##### Dimensions are compatible when the length of at least one of them is equal to 1.\n",
    "\n",
    "<img src=\"img/broadcasting1x3.gif\" alt=\"Drawing\" style=\"width: 300px;\"/>\n"
   ]
  },
  {
   "cell_type": "code",
   "execution_count": null,
   "metadata": {},
   "outputs": [],
   "source": [
    "# 1 x 3 array\n",
    "a = np.arange(1,4)\n",
    "\n",
    "# integer\n",
    "b = 2\n",
    "\n",
    "# 1 x 3 array\n",
    "result = a * b\n",
    "\n",
    "print(a)\n",
    "print()\n",
    "print(b)\n",
    "print()\n",
    "print(result)"
   ]
  },
  {
   "cell_type": "markdown",
   "metadata": {
    "slideshow": {
     "slide_type": "slide"
    }
   },
   "source": [
    "In the dimension where `b` has size 1 and `a` has a size greater than 1 (i.e. 3), `b` behaves as if it were copied along that dimension."
   ]
  },
  {
   "cell_type": "code",
   "execution_count": 3,
   "metadata": {},
   "outputs": [
    {
     "ename": "NameError",
     "evalue": "name 'np' is not defined",
     "output_type": "error",
     "traceback": [
      "\u001b[0;31m---------------------------------------------------------------------------\u001b[0m",
      "\u001b[0;31mNameError\u001b[0m                                 Traceback (most recent call last)",
      "\u001b[0;32m<ipython-input-3-4527fc069b66>\u001b[0m in \u001b[0;36m<module>\u001b[0;34m()\u001b[0m\n\u001b[1;32m      1\u001b[0m \u001b[0;31m# 4 x 1 array\u001b[0m\u001b[0;34m\u001b[0m\u001b[0;34m\u001b[0m\u001b[0m\n\u001b[0;32m----> 2\u001b[0;31m x = np.array([[0],\n\u001b[0m\u001b[1;32m      3\u001b[0m               \u001b[0;34m[\u001b[0m\u001b[0;36m10\u001b[0m\u001b[0;34m]\u001b[0m\u001b[0;34m,\u001b[0m\u001b[0;34m\u001b[0m\u001b[0m\n\u001b[1;32m      4\u001b[0m               \u001b[0;34m[\u001b[0m\u001b[0;36m20\u001b[0m\u001b[0;34m]\u001b[0m\u001b[0;34m,\u001b[0m\u001b[0;34m\u001b[0m\u001b[0m\n\u001b[1;32m      5\u001b[0m               [30]])\n",
      "\u001b[0;31mNameError\u001b[0m: name 'np' is not defined"
     ]
    }
   ],
   "source": [
    "# 4 x 1 array\n",
    "x = np.array([[0],\n",
    "              [10],\n",
    "              [20],\n",
    "              [30]])\n",
    "\n",
    "# 1 x 3 array\n",
    "y = np.ones(3)\n",
    "\n",
    "# 4 x 3 array\n",
    "a = x * y\n",
    "\n",
    "print(x)\n",
    "print()\n",
    "print(y)\n",
    "print()\n",
    "print(a)\n"
   ]
  },
  {
   "cell_type": "markdown",
   "metadata": {
    "slideshow": {
     "slide_type": "-"
    }
   },
   "source": [
    "<img src=\"img/broadcasting4x3.gif\" alt=\"Drawing\" style=\"width: 300px;\"/>"
   ]
  },
  {
   "cell_type": "code",
   "execution_count": 2,
   "metadata": {},
   "outputs": [
    {
     "ename": "SyntaxError",
     "evalue": "invalid syntax (<ipython-input-2-9dce3db43401>, line 1)",
     "output_type": "error",
     "traceback": [
      "\u001b[0;36m  File \u001b[0;32m\"<ipython-input-2-9dce3db43401>\"\u001b[0;36m, line \u001b[0;32m1\u001b[0m\n\u001b[0;31m    a: 4 x 3 array (see cell above)\u001b[0m\n\u001b[0m         ^\u001b[0m\n\u001b[0;31mSyntaxError\u001b[0m\u001b[0;31m:\u001b[0m invalid syntax\n"
     ]
    }
   ],
   "source": [
    "# a: 4 x 3 array (see cell above)\n",
    "\n",
    "# 1 x 3 array\n",
    "b = np.arange(3)\n",
    "\n",
    "# 4 x 3 array\n",
    "result = a + b\n",
    "\n",
    "print(a)\n",
    "print()\n",
    "print(b)\n",
    "print()\n",
    "print(result)"
   ]
  },
  {
   "cell_type": "markdown",
   "metadata": {
    "slideshow": {
     "slide_type": "slide"
    }
   },
   "source": [
    "The size of the output array is the *maximum* size along each dimension of the input arrays."
   ]
  },
  {
   "cell_type": "markdown",
   "metadata": {
    "slideshow": {
     "slide_type": "slide"
    }
   },
   "source": [
    "The 4x3 and 1x4 arrays shown in the cell below cannot be broadcast together.\n",
    "<br>The dimensions 3 and 4 are incompatible."
   ]
  },
  {
   "cell_type": "markdown",
   "metadata": {},
   "source": [
    "<img src=\"img/broadcasting_mismatch.gif\" alt=\"Drawing\" style=\"width: 300px;\"/>"
   ]
  },
  {
   "cell_type": "markdown",
   "metadata": {
    "slideshow": {
     "slide_type": "slide"
    }
   },
   "source": [
    "Recall, the function `np.insert` that we used earlier.\n",
    "\n",
    "An integer (length=1) can be broadcast into an array of any size. "
   ]
  },
  {
   "cell_type": "code",
   "execution_count": 16,
   "metadata": {
    "slideshow": {
     "slide_type": "-"
    }
   },
   "outputs": [
    {
     "name": "stdout",
     "output_type": "stream",
     "text": [
      "[[1 4 1]\n",
      " [2 4 2]\n",
      " [3 4 3]]\n"
     ]
    }
   ],
   "source": [
    "# Add items to an array\n",
    "b = np.array([[1, 1], \n",
    "              [2, 2], \n",
    "              [3, 3]])\n",
    "\n",
    "# insert value 4, at position 1, on axis 1, in array b\n",
    "b = np.insert(b, 1, 4, axis=1)\n",
    "print(b)"
   ]
  },
  {
   "cell_type": "markdown",
   "metadata": {
    "collapsed": true,
    "slideshow": {
     "slide_type": "slide"
    }
   },
   "source": [
    "Here are some examples of practical applications of broadcasting."
   ]
  },
  {
   "cell_type": "markdown",
   "metadata": {
    "slideshow": {
     "slide_type": "slide"
    }
   },
   "source": [
    "### Broadcasting Example: Calorie Calculator\n",
    "\n",
    "Let's say we have a large data set; each datum is a list of parameters.\n",
    "\n",
    "Example datum: a type of food and the the amount of fat, protein and carbohydrate in a serving of that food.\n",
    "\n",
    "Our data set of food nutrients might look something like the table below:\n",
    "\n",
    "|Food (100g) |Fat(g)|Protein (g)|Carbohydrate (g)|\n",
    "|------------|----- |-----------|----------------|\n",
    "|Almonds     |    49|         21|              22|                         \n",
    "|Peas        |     0|          5|              14|   \n",
    "|Avocado     |    15|          2|               9|\n",
    "|Kale        |     1|          3|              10|  \n",
    "\n",
    "   \n"
   ]
  },
  {
   "cell_type": "markdown",
   "metadata": {
    "slideshow": {
     "slide_type": "slide"
    }
   },
   "source": [
    "By applying the following sclaing factors, we can calculate the number of calories in a food type due to fat, protein and carbohydrate:\n",
    " -  fat: 9 cal/g\n",
    " -  protein: 4 cal/g\n",
    " -  carbohydrate 4 cal/g\n",
    " \n",
    "Using what we have studied so far, we could convert the table to calories using a loop:\n"
   ]
  },
  {
   "cell_type": "markdown",
   "metadata": {
    "slideshow": {
     "slide_type": "slide"
    }
   },
   "source": [
    "```python\n",
    "\n",
    "nutrients = np.array([[49, 21, 22],\n",
    "                      [0,   5, 14],\n",
    "                      [15,  2,  9],\n",
    "                      [ 1,  3, 10]])\n",
    "\n",
    "cal_convert = np.array([9, 4, 4])\n",
    "\n",
    "calories = np.empty((4,3))\n",
    "\n",
    "for index, value in enumerate(nutrients):\n",
    "    calories[index] = value * cal_convert\n",
    "    \n",
    "```\n",
    "    "
   ]
  },
  {
   "cell_type": "markdown",
   "metadata": {
    "slideshow": {
     "slide_type": "slide"
    }
   },
   "source": [
    "However, it is faster and more concise to broadcast the two arrays together: "
   ]
  },
  {
   "cell_type": "code",
   "execution_count": 4,
   "metadata": {
    "slideshow": {
     "slide_type": "slide"
    }
   },
   "outputs": [
    {
     "ename": "NameError",
     "evalue": "name 'np' is not defined",
     "output_type": "error",
     "traceback": [
      "\u001b[0;31m---------------------------------------------------------------------------\u001b[0m",
      "\u001b[0;31mNameError\u001b[0m                                 Traceback (most recent call last)",
      "\u001b[0;32m<ipython-input-4-388779535012>\u001b[0m in \u001b[0;36m<module>\u001b[0;34m()\u001b[0m\n\u001b[0;32m----> 1\u001b[0;31m nutrients = np.array([[49, 21, 22],\n\u001b[0m\u001b[1;32m      2\u001b[0m                       \u001b[0;34m[\u001b[0m\u001b[0;36m0\u001b[0m\u001b[0;34m,\u001b[0m   \u001b[0;36m5\u001b[0m\u001b[0;34m,\u001b[0m \u001b[0;36m14\u001b[0m\u001b[0;34m]\u001b[0m\u001b[0;34m,\u001b[0m\u001b[0;34m\u001b[0m\u001b[0m\n\u001b[1;32m      3\u001b[0m                       \u001b[0;34m[\u001b[0m\u001b[0;36m15\u001b[0m\u001b[0;34m,\u001b[0m  \u001b[0;36m2\u001b[0m\u001b[0;34m,\u001b[0m  \u001b[0;36m9\u001b[0m\u001b[0;34m]\u001b[0m\u001b[0;34m,\u001b[0m\u001b[0;34m\u001b[0m\u001b[0m\n\u001b[1;32m      4\u001b[0m                       [ 1,  3, 10]])\n\u001b[1;32m      5\u001b[0m \u001b[0;34m\u001b[0m\u001b[0m\n",
      "\u001b[0;31mNameError\u001b[0m: name 'np' is not defined"
     ]
    }
   ],
   "source": [
    "\n",
    "nutrients = np.array([[49, 21, 22],\n",
    "                      [0,   5, 14],\n",
    "                      [15,  2,  9],\n",
    "                      [ 1,  3, 10]])\n",
    "\n",
    "cal_convert = np.array([9, 4, 4])\n",
    "\n",
    "calories = nutrients * cal_convert\n",
    "\n",
    "print(calories)"
   ]
  },
  {
   "cell_type": "markdown",
   "metadata": {
    "slideshow": {
     "slide_type": "slide"
    }
   },
   "source": [
    "### Broadcasting Example: Vector Quantisation Algorithm\n",
    "This is a simple algorithm used for catagorisation.\n",
    "<br>It determines which catagory a data point should belong to from its closest proximity to a set of values representing possible catagories.\n",
    "<br>Each value represents the mean of the corresponding catagory.\n",
    "\n",
    "\n",
    "\n"
   ]
  },
  {
   "cell_type": "markdown",
   "metadata": {
    "slideshow": {
     "slide_type": "slide"
    }
   },
   "source": [
    "<br>For example, colour quantisation is used in image processing reduces the number of distinct colors used in an image, while maintianing visual similarity to the original image. \n",
    "\n",
    "<table><tr><td> \n",
    "<img src=\"img/un_quantised_cat.png\" alt=\"Drawing\" style=\"width: 300px;\"/> </td><td> \n",
    "<img src=\"img/quantised_cat.png\" alt=\"Drawing\" style=\"width: 300px;\"/> </td><td> \n",
    "</table>\n",
    "\n",
    "CC BY-SA 3.0, https://commons.wikimedia.org/w/index.php?curid=1477223"
   ]
  },
  {
   "cell_type": "markdown",
   "metadata": {
    "slideshow": {
     "slide_type": "slide"
    }
   },
   "source": [
    "<br>In the plot below, each of the circles represents the mean height and weight of athletes grouped by type. \n",
    "<br>The square represents the height and weight of an athlete to be classified. \n",
    "<img src=\"img/vector_quantisation.png\" alt=\"Drawing\" style=\"width: 500px;\"/>"
   ]
  },
  {
   "cell_type": "markdown",
   "metadata": {
    "slideshow": {
     "slide_type": "slide"
    }
   },
   "source": [
    "\n",
    "To find the closet point:\n",
    "1. Use broadcasting to find the difference between the position of the __square__ and the position of each __circle__ in the x and y directions. <br>\n",
    "1. Find the distance, $d$ from the square, $s$ to each circle, $c$ using: <br>$d = \\sqrt{(x_{c}-x_{s})^2 + (y_{c}-y_{s})^2}$ <br>\n",
    "1. Choose the group corresponding to the minimum distance, $d_{min}$"
   ]
  },
  {
   "cell_type": "code",
   "execution_count": 18,
   "metadata": {
    "slideshow": {
     "slide_type": "slide"
    }
   },
   "outputs": [
    {
     "name": "stdout",
     "output_type": "stream",
     "text": [
      "0\n"
     ]
    }
   ],
   "source": [
    "athlete = np.array([111.0,188.0])\n",
    "\n",
    "categories = np.array([[102.0, 203.0],\n",
    "                       [132.0, 193.0],\n",
    "                       [45.0, 155.0],\n",
    "                       [57.0, 173.0]])\n",
    "\n",
    "# 1. broadcast\n",
    "diff = categories - athlete\n",
    "\n",
    "# 2. distance to each point (magnitude of values along axis 1 for each datum)\n",
    "# dist = np.linalg.norm(diff,axis=1)\n",
    "dist = np.sqrt(np.sum(diff**2,axis=1))\n",
    "\n",
    "# 3. which group?\n",
    "nearest = np.argmin(dist)\n",
    "print(nearest)"
   ]
  },
  {
   "cell_type": "markdown",
   "metadata": {
    "slideshow": {
     "slide_type": "slide"
    }
   },
   "source": [
    "The nearest group is index 0 of the array `catagories`.\n",
    "<br>Based on mean height and weight, the athlete is most likely to be a basketball player."
   ]
  },
  {
   "cell_type": "markdown",
   "metadata": {
    "slideshow": {
     "slide_type": "slide"
    }
   },
   "source": [
    "## Lambda Functions\n",
    "<a id='LambdaFunctions'></a>\n",
    "\n",
    "When we create a function using the `def` keyword we assign it to a function name. \n",
    "<br> e.g. in the function above we assign the name fibonacci:\n",
    "```python\n",
    "def sum_and_increment():\n",
    "```\n",
    "\n"
   ]
  },
  {
   "cell_type": "markdown",
   "metadata": {
    "slideshow": {
     "slide_type": "slide"
    }
   },
   "source": [
    "We can also create an un-named function using the `lambda` keyword.\n",
    "\n",
    "A lambda function: \n",
    " - may contain a single expression, only\n",
    " - must always return a value\n",
    " \n"
   ]
  },
  {
   "cell_type": "markdown",
   "metadata": {
    "slideshow": {
     "slide_type": "slide"
    }
   },
   "source": [
    "The next example shows the definition of a function and a lambda function.\n",
    "<br> Both perform exactly the same task; computing the value of `x`$^2$.\n",
    "\n",
    "Both can be called using:\n",
    "```python\n",
    "square(5)\n",
    "```\n",
    "with the number in brackets being the value that you want to square. "
   ]
  },
  {
   "cell_type": "code",
   "execution_count": 5,
   "metadata": {},
   "outputs": [
    {
     "name": "stdout",
     "output_type": "stream",
     "text": [
      "25\n",
      "25\n"
     ]
    }
   ],
   "source": [
    "# function definition expressed on two lines\n",
    "#def square(x):\n",
    "#    return x ** 2\n",
    "\n",
    "# function definition expressed on one line\n",
    "def square(x) :  return x ** 2\n",
    "\n",
    "print(square(5))\n",
    "\n",
    "# un-named function\n",
    "square = lambda x : x ** 2\n",
    "    \n",
    "print(square(5))"
   ]
  },
  {
   "cell_type": "markdown",
   "metadata": {
    "slideshow": {
     "slide_type": "slide"
    }
   },
   "source": [
    "Lambda functions can have multiple inputs and outputs.\n",
    "\n",
    "Outputs are returned as a data structure."
   ]
  },
  {
   "cell_type": "code",
   "execution_count": 6,
   "metadata": {},
   "outputs": [
    {
     "name": "stdout",
     "output_type": "stream",
     "text": [
      "[3, 1]\n"
     ]
    }
   ],
   "source": [
    "lam_func = lambda x, y: [x+y, x-y]\n",
    "\n",
    "print(lam_func(2, 1))"
   ]
  },
  {
   "cell_type": "markdown",
   "metadata": {
    "collapsed": true,
    "slideshow": {
     "slide_type": "slide"
    }
   },
   "source": [
    "So what is the point of the un-defined function? "
   ]
  },
  {
   "cell_type": "markdown",
   "metadata": {
    "slideshow": {
     "slide_type": "slide"
    }
   },
   "source": [
    "\n",
    "- Short functions can be written more concisely.\n",
    "- Functions can be embedded within main body of the code, for example within a list.\n",
    "- This is not possible with a regular function...\n"
   ]
  },
  {
   "cell_type": "code",
   "execution_count": 8,
   "metadata": {
    "slideshow": {
     "slide_type": "slide"
    }
   },
   "outputs": [
    {
     "name": "stdout",
     "output_type": "stream",
     "text": [
      "25\n",
      "125\n",
      "625\n"
     ]
    }
   ],
   "source": [
    "# Regular function definition\n",
    "\n",
    "# 1. Define functions\n",
    "def function1(x): return x ** 2\n",
    "def function2(x): return x ** 3\n",
    "def function3(x): return x ** 4\n",
    "\n",
    "# 2. Compile list\n",
    "funcs = [function1, function2, function3]\n",
    "\n",
    "# 3. Call each function\n",
    "for function in funcs:\n",
    "    print(function(5))\n",
    "    \n",
    "    \n",
    "    "
   ]
  },
  {
   "cell_type": "code",
   "execution_count": null,
   "metadata": {
    "scrolled": true,
    "slideshow": {
     "slide_type": "slide"
    }
   },
   "outputs": [],
   "source": [
    "# Lambda function\n",
    "\n",
    "# 1. Define lamda functions within list\n",
    "callbacks = [lambda x : x ** 2, lambda x : x ** 3, lambda x : x ** 4]\n",
    "\n",
    "# 3. Call each function\n",
    "for function in callbacks:\n",
    "    print(function(5))"
   ]
  },
  {
   "cell_type": "markdown",
   "metadata": {
    "slideshow": {
     "slide_type": "slide"
    }
   },
   "source": [
    "## Recursive Functions\n",
    "<a id='RecursiveFunctions'></a>\n",
    "A recursive function is a function that makes calls to itself.\n",
    "\n",
    "Let's consider a well-known example, the Fibonacci series of numbers."
   ]
  },
  {
   "cell_type": "markdown",
   "metadata": {
    "slideshow": {
     "slide_type": "slide"
    }
   },
   "source": [
    "### The Fibonacci Sequence\n",
    "<a id='FibonacciSequence'></a>\n",
    "An integer sequence characterised by the fact that every number (after the first two) is the sum of the two preceding numbers. \n",
    "\n",
    "i.e. the $n$th term $f(n)$ is computed from the preceding terms $f(n-1)$ and $f(n-2)$. \n",
    "\n",
    "$$\n",
    "f(n) = f(n-1) + f(n-2)\n",
    "$$\n",
    "\n",
    "for $n > 1$\n",
    "\n",
    "$f(0) = 0$ and $f(1) = 1$. \n",
    "\n",
    "Due to this dependency on previous terms, we say the series is defined __recursively__.\n",
    "\n",
    "\n",
    "\n",
    "\n",
    "\n",
    "\n",
    "\n"
   ]
  },
  {
   "cell_type": "markdown",
   "metadata": {
    "slideshow": {
     "slide_type": "slide"
    }
   },
   "source": [
    "The number sequence appears in many natural geometric arrangements: \n",
    "\n",
    "<img src=\"img/FibonacciSpiral.png\" alt=\"Drawing\" style=\"width: 200px;\"/> \n",
    "<img src=\"img/fibonacci-whelk.jpg\" alt=\"Drawing\" style=\"width: 200px;\"/>"
   ]
  },
  {
   "cell_type": "markdown",
   "metadata": {
    "slideshow": {
     "slide_type": "slide"
    }
   },
   "source": [
    "Below is a function that computes the $n$th number in the Fibonacci sequence using a `for` loop inside the function."
   ]
  },
  {
   "cell_type": "code",
   "execution_count": 9,
   "metadata": {
    "slideshow": {
     "slide_type": "slide"
    }
   },
   "outputs": [
    {
     "name": "stdout",
     "output_type": "stream",
     "text": [
      "55\n"
     ]
    }
   ],
   "source": [
    "def fib(n):\n",
    "    \"Compute the nth Fibonacci number\"\n",
    "    # Starting values for f0 and f1\n",
    "    f0, f1 = 0, 1\n",
    "\n",
    "    # Handle cases n==0 and n==1\n",
    "    if n == 0:\n",
    "        return 0\n",
    "    elif n == 1:\n",
    "        return 1\n",
    "    \n",
    "    # Start loop (from n = 2)    \n",
    "    for i in range(2, n + 1):\n",
    "        \n",
    "        # Compute next term in sequence\n",
    "        f = f1 + f0\n",
    "\n",
    "        # Update f0 and f1    \n",
    "        f0 = f1\n",
    "        f1 = f\n",
    "        \n",
    "    # Return Fibonacci number\n",
    "    return f\n",
    "\n",
    "print(fib(10))\n",
    "\n",
    "\n"
   ]
  },
  {
   "cell_type": "markdown",
   "metadata": {
    "slideshow": {
     "slide_type": "slide"
    }
   },
   "source": [
    "The __recursive function__ below return the same result.\n",
    "\n",
    "It is simpler and has a more \"mathematical\" structure."
   ]
  },
  {
   "cell_type": "code",
   "execution_count": null,
   "metadata": {
    "slideshow": {
     "slide_type": "slide"
    }
   },
   "outputs": [],
   "source": [
    "def f(n): \n",
    "    \"Compute the nth Fibonacci number using recursion\"\n",
    "    if n == 0:\n",
    "        return 0  # This doesn't call f, so it breaks out of the recursion loop\n",
    "    elif n == 1:\n",
    "        return 1  # This doesn't call f, so it breaks out of the recursion loop\n",
    "    else:\n",
    "        return f(n - 1) + f(n - 2)  # This calls f for n-1 and n-2 (recursion), and returns the sum \n",
    "\n",
    "print(f(2))\n",
    "\n"
   ]
  },
  {
   "cell_type": "markdown",
   "metadata": {
    "slideshow": {
     "slide_type": "slide"
    }
   },
   "source": [
    "Care needs to be taken when using recursion that a program does not enter an infinite recursion loop. \n",
    "\n",
    "There must be a mechanism to 'break out' of the recursion cycle. "
   ]
  },
  {
   "cell_type": "markdown",
   "metadata": {
    "slideshow": {
     "slide_type": "slide"
    }
   },
   "source": [
    "<a id='Generators'></a>\n",
    "## Optional Extension Topic: Generators \n",
    "\n",
    "When a Python function is called:\n",
    "1. It excutes the code within the function\n",
    "1. It returns any values \n",
    "<br>The state of the variables within the function are not retained.\n",
    "\n",
    "i.e. the next time the function is called it will process the code within the function exactly as before.\n",
    "\n"
   ]
  },
  {
   "cell_type": "markdown",
   "metadata": {
    "slideshow": {
     "slide_type": "subslide"
    }
   },
   "source": [
    "A generator is a special type of function.\n",
    " - They contain the keyword `yield`.\n",
    " - When called, any variables within the function retain their value at the end of the function call. \n",
    " - Values following the keyword `yield` are \"returned\" by the generator function.\n",
    "\n"
   ]
  },
  {
   "cell_type": "markdown",
   "metadata": {
    "slideshow": {
     "slide_type": "subslide"
    }
   },
   "source": [
    "Intuitively, generators can be used to increment a value. \n",
    "\n",
    "Let's consider an example.\n",
    "\n",
    "This function increments a value every time it is called. "
   ]
  },
  {
   "cell_type": "code",
   "execution_count": null,
   "metadata": {
    "slideshow": {
     "slide_type": "subslide"
    }
   },
   "outputs": [],
   "source": [
    "x = 1\n",
    "\n",
    "def process_value():\n",
    "    \n",
    "    # keyword global required to re-assign value of variable\n",
    "    global x\n",
    "\n",
    "    if x > 4:\n",
    "        i = (str(x) + \" > 4\")\n",
    "    elif x > 2:\n",
    "        i = (str(x) + \" > 2\")\n",
    "    elif x > 0:\n",
    "        i = (str(x) + \" > 0\")\n",
    "    else:\n",
    "        i = str(x)\n",
    "    \n",
    "    #\"Increment global x by +1 \"\n",
    "    x += 1 \n",
    "    \n",
    "    return i    \n",
    "    \n",
    "process_value()"
   ]
  },
  {
   "cell_type": "code",
   "execution_count": null,
   "metadata": {
    "slideshow": {
     "slide_type": "subslide"
    }
   },
   "outputs": [],
   "source": [
    "x = 1\n",
    "\n",
    "for i in range(5):\n",
    "    print(process_value())\n"
   ]
  },
  {
   "cell_type": "markdown",
   "metadata": {
    "slideshow": {
     "slide_type": "subslide"
    }
   },
   "source": [
    "A more concise way to express this is as a generator.\n",
    "\n",
    "A generator takes the following form:\n",
    "1. Use the function definition line as normal\n",
    "1. Initialise the variable(s) you are going to increment.\n",
    "1. Start a while loop. `while True` creates an infinite while loop. <br> The program won't get stuck as it will only execute .\n",
    "1. The value to yield each loop.\n",
    "1. The increment operation to perform each loop must come *after* `yield`."
   ]
  },
  {
   "cell_type": "code",
   "execution_count": null,
   "metadata": {
    "slideshow": {
     "slide_type": "subslide"
    }
   },
   "outputs": [],
   "source": [
    "# `def` is used as normal\n",
    "def incr():\n",
    "    \n",
    "    # create an initial value, i\n",
    "    i = 1\n",
    "    \n",
    "    # while loop\n",
    "    while True:\n",
    "        \n",
    "        # the value to return at each call\n",
    "        yield i \n",
    "        \n",
    "        # the operation to perform on i at each call\n",
    "        i += 1  \n"
   ]
  },
  {
   "cell_type": "markdown",
   "metadata": {
    "slideshow": {
     "slide_type": "subslide"
    }
   },
   "source": [
    "We create a *generator object* by assigning the generator to a name:"
   ]
  },
  {
   "cell_type": "code",
   "execution_count": null,
   "metadata": {
    "slideshow": {
     "slide_type": "subslide"
    }
   },
   "outputs": [],
   "source": [
    "inc = incr()"
   ]
  },
  {
   "cell_type": "markdown",
   "metadata": {
    "slideshow": {
     "slide_type": "subslide"
    }
   },
   "source": [
    "The next value can be called using the `next` keyword:"
   ]
  },
  {
   "cell_type": "code",
   "execution_count": null,
   "metadata": {
    "slideshow": {
     "slide_type": "subslide"
    }
   },
   "outputs": [],
   "source": [
    "print(next(inc))\n",
    "print(next(inc))\n",
    "print(next(inc))"
   ]
  },
  {
   "cell_type": "markdown",
   "metadata": {
    "slideshow": {
     "slide_type": "subslide"
    }
   },
   "source": [
    "To change the function process_value to a generator function:\n",
    "1. Use the function definition line as normal\n",
    "1. Initialise x inside the function (remove reference to global variable)\n",
    "1. Start a while loop. \n",
    "1. The value to `yield` each loop.\n",
    "1. The operation to perform each loop ( `x += 1` ) must come *after* `yield`.  "
   ]
  },
  {
   "cell_type": "code",
   "execution_count": null,
   "metadata": {
    "slideshow": {
     "slide_type": "subslide"
    }
   },
   "outputs": [],
   "source": [
    "# x = 1\n",
    "\n",
    "def process_value():\n",
    "    \n",
    "    # initial value of x defined inside function\n",
    "    x = 1\n",
    "    \n",
    "    # while loop\n",
    "    while True:\n",
    "    \n",
    "        # Return a value that depends on the input value y\n",
    "        if x > 4:\n",
    "            i = (str(x) + \" > 4\")\n",
    "        elif x > 2:\n",
    "            i = (str(x) + \" > 2\")\n",
    "        elif x > 0:\n",
    "            i = (str(x) + \" > 0\")\n",
    "        else:\n",
    "            i = str(x)\n",
    "\n",
    "        # the value to return at each call\n",
    "        yield i \n",
    "\n",
    "        # Increment global x by +1 \n",
    "        # global x\n",
    "        x += 1 \n",
    "    \n",
    "    #return i \n",
    "    \n",
    "process = process_value()"
   ]
  },
  {
   "cell_type": "code",
   "execution_count": null,
   "metadata": {
    "slideshow": {
     "slide_type": "subslide"
    }
   },
   "outputs": [],
   "source": [
    "for i in range(6):\n",
    "    print(next(process))\n"
   ]
  },
  {
   "cell_type": "markdown",
   "metadata": {
    "slideshow": {
     "slide_type": "subslide"
    }
   },
   "source": [
    "By creating an input variable, you can change the initial value of the variable to be incremented."
   ]
  },
  {
   "cell_type": "code",
   "execution_count": null,
   "metadata": {
    "slideshow": {
     "slide_type": "subslide"
    }
   },
   "outputs": [],
   "source": [
    "# x = 1\n",
    "\n",
    "def process_value(y):\n",
    "    \n",
    "    # initial value of x defined inside function\n",
    "    x = y\n",
    "    \n",
    "    # while loop\n",
    "    while True:\n",
    "    \n",
    "        # Return a value that depends on the input value y\n",
    "        if x > 4:\n",
    "            i = (str(x) + \" > 4\")\n",
    "        elif x > 2:\n",
    "            i = (str(x) + \" > 2\")\n",
    "        elif x > 0:\n",
    "            i = (str(x) + \" > 0\")\n",
    "        else:\n",
    "            i = str(x)\n",
    "\n",
    "        # the value to return at each call\n",
    "        yield i \n",
    "\n",
    "        # Increment global x by +1 \n",
    "        # global x\n",
    "        x += 1 \n",
    "    \n",
    "    #return i \n",
    "    \n",
    "process = process_value(3)"
   ]
  },
  {
   "cell_type": "code",
   "execution_count": null,
   "metadata": {
    "slideshow": {
     "slide_type": "subslide"
    }
   },
   "outputs": [],
   "source": [
    "for i in range(6):\n",
    "    print(next(process))"
   ]
  },
  {
   "cell_type": "markdown",
   "metadata": {
    "slideshow": {
     "slide_type": "subslide"
    }
   },
   "source": [
    "### The Fibonacci Sequence (Continued)\n",
    "<a id='FibonacciSequenceContinued'></a>\n",
    "The following example shows how a generator can be used to produce the Fibonacci number sequence. "
   ]
  },
  {
   "cell_type": "code",
   "execution_count": null,
   "metadata": {
    "slideshow": {
     "slide_type": "-"
    }
   },
   "outputs": [],
   "source": [
    "def fibonacci():\n",
    "    # first two values in the sequence\n",
    "    a = 0\n",
    "    b = 1\n",
    "    \n",
    "    # infinite while loop\n",
    "    while True:\n",
    "        \n",
    "        # value to return\n",
    "        yield a        \n",
    "        \n",
    "        # a and b are redefined at the same time\n",
    "        a, b = b, a + b\n",
    "        \n",
    "# Create a generator object called fib        \n",
    "fib = fibonacci()\n",
    "\n",
    "# Call single loops of the function\n",
    "for i in range(6):\n",
    "    print(next(fib))"
   ]
  },
  {
   "cell_type": "markdown",
   "metadata": {
    "collapsed": true,
    "slideshow": {
     "slide_type": "slide"
    }
   },
   "source": [
    "# Summary\n",
    "<a id='Summary'></a>\n",
    "- Python (.py) files can be written, saved (and run) in a text editor or IDE (Integrated Development Environment).\n",
    " - Python files can can run from the command line.\n",
    " - Storing functions and variables in seperate files and importing them for use can keep your program organised and tidy.\n",
    " - The python built-in `input` keyword can be used to generate user-input to the program while it is running.\n",
    "- An un-named function can be created using the `lamda` keyword.\n",
    "- A generator function is created when the keyword `yield` is included in the function block.\n",
    "- Varibales in a generator function their state from when the function was last called.\n",
    "- The python built in `next()` function can be used to continue execution of a generator function by one iteration.\n",
    " "
   ]
  },
  {
   "cell_type": "markdown",
   "metadata": {
    "slideshow": {
     "slide_type": "slide"
    }
   },
   "source": [
    "<a id='TestYourselfExercises'></a>\n",
    "# Test-Yourself Exercises\n",
    "\n",
    "Compete the Test-Youself exercises below.\n",
    "\n",
    "Save your answers as .py files and email them to:\n",
    "<br>philamore.hemma.5s@kyoto-u.ac.jp"
   ]
  },
  {
   "cell_type": "markdown",
   "metadata": {
    "slideshow": {
     "slide_type": "slide"
    }
   },
   "source": [
    "# Test-Yourself Exercise : User-defined Library\n",
    "1. Create a new folder with the name `library_homework`\n",
    "1. Inside the `library_homework` folder create:\n",
    "    - a file with the name `my_library.py`\n",
    "    - a folder with the name `my_project`\n",
    "1. Inside the `my_project` folder create a file with the name `my_program.py`.\n",
    "\n",
    "1. In the file `my_library.py`, define a function with the name `my_func`:\n",
    "\n",
    "    - Inputs: `x`, `y`\n",
    "\n",
    "    - Outputs: A list:\n",
    "        - Element 0 = $cos(x) + 10y$  \n",
    "        - Element 1 = $sin(x) - 20y$\n",
    "\n",
    "1. Call the function `my_func` from the program `my_program.py`"
   ]
  },
  {
   "cell_type": "code",
   "execution_count": null,
   "metadata": {},
   "outputs": [],
   "source": [
    "# User-defined library"
   ]
  },
  {
   "cell_type": "markdown",
   "metadata": {
    "slideshow": {
     "slide_type": "slide"
    }
   },
   "source": [
    "# Test-Yourself Exercise : Lambda functions\n",
    "\n",
    "Create a list of three elements, where each element is a lambda function that returns a function of variable `x`:\n",
    "- Element 0 = $cos(x)$  \n",
    "- Element 1 = $sin(x)$\n",
    "- Element 2 = $tan(x)$\n",
    "\n",
    "Use *nested loops* to call each function for all positive integers lower than 4. \n",
    "\n"
   ]
  },
  {
   "cell_type": "code",
   "execution_count": null,
   "metadata": {},
   "outputs": [],
   "source": [
    "# Lambda functions"
   ]
  },
  {
   "cell_type": "markdown",
   "metadata": {
    "slideshow": {
     "slide_type": "slide"
    }
   },
   "source": [
    "# Review Exercises\n",
    "\n"
   ]
  },
  {
   "cell_type": "markdown",
   "metadata": {
    "collapsed": true,
    "slideshow": {
     "slide_type": "slide"
    }
   },
   "source": [
    "### Review Exercise:  Recursive Functions\n",
    "\n",
    "The factorial of a positive integer $n$ is:\n",
    "\n",
    "\\begin{align}\n",
    "n! = \\prod_{i=1}^{n} i =1 \\cdot 2 \\cdot 3 \\cdot ... (n - 2) \\cdot (n - 1) \\cdot n\n",
    "\\end{align}\n",
    "\n",
    "We can write this *recursively*.\n",
    "<br>This means we use the value of $(n-1)!$ to compute the value of $n!$:\n",
    "\n",
    "$$\n",
    "n! = (n-1)! n \n",
    "$$\n",
    "\n",
    "Note: $0! = 1$\n",
    " \n",
    "e.g. \n",
    "<br> $1! = 1 \\cdot 0! = 1 $\n",
    "<br> $2! = 2 \\cdot 1! = 2 \\cdot 1 = 2$\n",
    "<br> $3! = 3 \\cdot 2! = 3 \\cdot 2 \\cdot 1 = 6$\n",
    "<br> $4! = 4 \\cdot 3! = 4 \\cdot 3 \\cdot 2 \\cdot 1 = 24$\n",
    "\n",
    "A recursive function is a function that calls itself. \n",
    "<br><a href='#RecursiveFunctions'>Jump to Recursive Functions</a>\n",
    "\n",
    "__(A)__ In the cell below, write a __recursive function__ called `factorial` to compute $n!$ of an input argument `n`:\n",
    "\n",
    "__Input:__ Numerical variable `n`\n",
    "\n",
    "__Output:__ `factorial(n) = factorial(n-1)*n` \n",
    "\n",
    "\n",
    "Include a doc-string to say what your function does. \n",
    "\n",
    "Test your function for correctness using hand calculations. \n",
    "\n",
    "<br>\n",
    "__(B)__ The formula above only applies to __positive integers__(with a specific exception for 0). \n",
    "<br>Include a check to make sure the input value is a positive integer or zero. \n",
    "\n",
    "Show the output of your function for several input values.\n",
    "\n"
   ]
  },
  {
   "cell_type": "code",
   "execution_count": null,
   "metadata": {},
   "outputs": [],
   "source": [
    "# A function to compute n! for input n"
   ]
  },
  {
   "cell_type": "code",
   "execution_count": null,
   "metadata": {},
   "outputs": [],
   "source": [
    "#Example solution\n"
   ]
  },
  {
   "cell_type": "code",
   "execution_count": null,
   "metadata": {},
   "outputs": [],
   "source": []
  }
 ],
 "metadata": {
  "celltoolbar": "Slideshow",
  "kernelspec": {
   "display_name": "Python 3",
   "language": "python",
   "name": "python3"
  },
  "language_info": {
   "codemirror_mode": {
    "name": "ipython",
    "version": 3
   },
   "file_extension": ".py",
   "mimetype": "text/x-python",
   "name": "python",
   "nbconvert_exporter": "python",
   "pygments_lexer": "ipython3",
   "version": "3.6.4"
  }
 },
 "nbformat": 4,
 "nbformat_minor": 2
}
