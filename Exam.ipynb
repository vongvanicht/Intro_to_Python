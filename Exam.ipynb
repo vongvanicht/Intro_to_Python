{
 "cells": [
  {
   "cell_type": "markdown",
   "metadata": {},
   "source": [
    "## ILAS : Introduction to Programming for Engineers\n",
    "## Exam 2018\n",
    "\n",
    "Answer all questions.\n",
    "\n",
    "Submit your work by email to philamore.hemma.5s@kyoto-u.ac.uk\n",
    "\n",
    "Format: .ipynb file.\n",
    "\n",
    "Deadline: 23:59 July 23 (07/23)\n",
    "\n",
    "Total: 50 marks\n",
    "\n",
    " "
   ]
  },
  {
   "cell_type": "markdown",
   "metadata": {
    "collapsed": true,
    "slideshow": {
     "slide_type": "subslide"
    }
   },
   "source": [
    "### Question 1\n",
    "###### 1 mark\n",
    "The gravitational potential, $V$, of a particle of mass $m$ at a distance $r$ from a body of mass $M$, is:\n",
    "\n",
    "$$\n",
    "V = \\frac{G M m}{r}\n",
    "$$\n",
    "\n",
    "In the cell below, find $V$ when:\n",
    "\n",
    "$G$ = *gravitational constant* = $6.674 \\times 10^{-11} \\textrm{Nm}^{2}\\textrm{kg}^{-2}$.\n",
    "<br>$M = 1.65 \\times 10^{12}\\textrm{kg}$\n",
    "<br>$m = 6.1 \\times 10^2\\textrm{kg}$\n",
    "<br>$r = 7.0 \\times 10^3\\textrm{kg}$\n",
    "\n",
    "Use variable names `G`, `M`, `m` and `r` to represnt $G, M, m$ and $r$. \n",
    "<br>Express the numbers using __scientific notation__."
   ]
  },
  {
   "cell_type": "code",
   "execution_count": null,
   "metadata": {},
   "outputs": [],
   "source": [
    "G = 6.674*10**(-11)\n",
    "#gravitational constant\n",
    "M = 1.65*10**12\n",
    "m = 6.1*10**2\n",
    "r = 7.0*10**3"
   ]
  },
  {
   "cell_type": "markdown",
   "metadata": {
    "slideshow": {
     "slide_type": "subslide"
    }
   },
   "source": [
    "### Question 2 \n",
    "#### Part A\n",
    "###### 1 mark\n",
    "The volume of a cone is:\n",
    "$$\n",
    "V = \\frac{1}{3}(base \\ area)\\times(perpendicular \\ height)\n",
    "$$\n",
    "\n",
    "![title](img/cone.png)\n",
    "\n",
    "Find the internal volume of a cone of internal dimensions:\n",
    "\n",
    "base radius, $r = 5cm$\n",
    "\n",
    "perpendicular height, $h = 15cm$\n",
    "\n",
    "Assign variables for $r$ and $h$ before solving."
   ]
  },
  {
   "cell_type": "code",
   "execution_count": 3,
   "metadata": {},
   "outputs": [
    {
     "name": "stdout",
     "output_type": "stream",
     "text": [
      "The volume is 392.74999999999994 cubic cm.\n"
     ]
    }
   ],
   "source": [
    "pi = 3.142\n",
    "# Internal volume\n",
    "r = 5.0\n",
    "# base radius (cm)\n",
    "h = 15.0\n",
    "# perpendicular height (cm)\n",
    "\n",
    "vol = 1.0/3.0*(pi*r**2)*h\n",
    "# volume of cone\n",
    "print('The volume is', vol, 'cubic cm.')\n"
   ]
  },
  {
   "cell_type": "markdown",
   "metadata": {
    "slideshow": {
     "slide_type": "subslide"
    }
   },
   "source": [
    "#### Part B\n",
    "###### 2 marks\n",
    "\n",
    "The cone is filled with liquid.\n",
    "\n",
    "The liquid is transferred to a hollow cylinder (base radius , $r_c = 4cm$).\n",
    "\n",
    "The __volume__ of liquid in the cylinder is:\n",
    "\n",
    "$V = (base \\ area)\\times(height \\ of \\ liquid)$\n",
    "\n",
    "Find the __height__ of the liquid in the cylinder?\n",
    "\n",
    "Create a variable for $r_c$ before solving.\n",
    "\n",
    "<img src=\"img/cone-cyl.gif\" alt=\"Drawing\" style=\"width: 200px;\"/>"
   ]
  },
  {
   "cell_type": "code",
   "execution_count": 4,
   "metadata": {},
   "outputs": [
    {
     "name": "stdout",
     "output_type": "stream",
     "text": [
      "height of liquid: 7.812499999999999 cm.\n"
     ]
    }
   ],
   "source": [
    "r_c = 4.0\n",
    "# cyliner base radius (cm)\n",
    "h_liq = vol/(pi*r_c**2)\n",
    "# height of liquid = the volume of liquid/ the base area of cylinder\n",
    "\n",
    "print('height of liquid:',h_liq, 'cm.')\n"
   ]
  },
  {
   "cell_type": "markdown",
   "metadata": {},
   "source": [
    "#### Part C\n",
    "###### 1 mark\n",
    "The total height of the cyclinder, $H_{tot}$ is 10cm.\n",
    "\n",
    "Use a __comparison operator__ to show if the height of the liquid, $H$, is more than half the total height of the cylinder.  "
   ]
  },
  {
   "cell_type": "code",
   "execution_count": 5,
   "metadata": {},
   "outputs": [
    {
     "name": "stdout",
     "output_type": "stream",
     "text": [
      " The height of the liquid is more than half the total height of the cylinder.\n"
     ]
    }
   ],
   "source": [
    "h_tot = 10.0\n",
    "#total height of cylinder (cm)\n",
    "\n",
    "if (h_liq > h_tot/2.0):\n",
    "    print(' The height of the liquid is more than half the total height of the cylinder.')\n"
   ]
  },
  {
   "cell_type": "markdown",
   "metadata": {
    "slideshow": {
     "slide_type": "subslide"
    }
   },
   "source": [
    "### Question 3\n",
    "#### Part A\n",
    "###### 2 marks\n",
    "Use a for loop to print the square roots of the first 25 odd positive integers.\n",
    "\n",
    "\n",
    "#### Part B\n",
    "###### 2 marks\n",
    "If the number generated is greater than 3 and smaller than 5, print \"`skip`\" and __`continue`__ to the next iteration *without* printing the number. \n"
   ]
  },
  {
   "cell_type": "code",
   "execution_count": 19,
   "metadata": {},
   "outputs": [
    {
     "name": "stdout",
     "output_type": "stream",
     "text": [
      "[ 1  2  3  4  5  6  7  8  9 10 11 12 13 14 15 16 17 18 19 20 21 22 23 24]\n",
      "[ 1.  3.  5.  7.  9. 11. 13. 15. 17. 19. 21. 23. 25. 27. 29. 31. 33. 35.\n",
      " 37. 39. 41. 43. 45. 47.]\n",
      "1.0\n",
      "1.7320508075688772\n",
      "2.23606797749979\n",
      "2.6457513110645907\n",
      "3.0\n",
      "skip\n",
      "skip\n",
      "skip\n",
      "skip\n",
      "skip\n",
      "skip\n",
      "skip\n",
      "5.0\n",
      "5.196152422706632\n",
      "5.385164807134504\n",
      "5.5677643628300215\n",
      "5.744562646538029\n",
      "5.916079783099616\n",
      "6.082762530298219\n",
      "6.244997998398398\n",
      "6.4031242374328485\n",
      "6.557438524302\n",
      "6.708203932499369\n",
      "6.855654600401044\n"
     ]
    }
   ],
   "source": [
    "import numpy as np\n",
    "\n",
    "def odd_n(i):\n",
    "    return 2.0*i-1.0\n",
    "\n",
    "n25 = np.arange(1,25,1)\n",
    "print(n25)\n",
    "print(odd_n(n25))\n",
    "\n",
    "# This is both parts A and B\n",
    "for i in odd_n(n25):\n",
    "    if(np.sqrt(i)>3 and np.sqrt(i)<5):\n",
    "        print('skip')\n",
    "        continue\n",
    "    print(np.sqrt(i))\n"
   ]
  },
  {
   "cell_type": "markdown",
   "metadata": {
    "slideshow": {
     "slide_type": "slide"
    }
   },
   "source": [
    "### Question 4\n",
    "\n",
    "#### Part A\n",
    "###### 3 marks\n",
    "Write a function called `is_even` that determines if a number is even by running:\n",
    "\n",
    "```python\n",
    "is_even(n)\n",
    "```\n",
    "\n",
    "Input: `n` (an integer). \n",
    "\n",
    "Output: \n",
    " - `True` if the argument is even\n",
    " - `False` if the argument is not even\n",
    " \n",
    "Include a __documentation string (docstring)__ to say what your function does.\n",
    "\n",
    "#### Part B\n",
    "###### 3 marks\n",
    "Edit `is_even` to:\n",
    "- take two input arguments:\n",
    " - a numeric variable, `n`\n",
    " - a numpy function that returns the sqaure root of the input argument. \n",
    "- return:\n",
    " - `True` if the square root of n is even\n",
    " - `False` if the square root of n is not even\n",
    "\n",
    "#### Part C\n",
    "###### 1 mark\n",
    "Make `square_root` the __default__ value of the function argument. \n",
    "<br>Force the function argument to be input using a named argument. \n",
    "\n",
    "#### Part D\n",
    "###### 1 mark\n",
    "Print the output ofthe function `is_even` for the first 25 natural numbers."
   ]
  },
  {
   "cell_type": "code",
   "execution_count": null,
   "metadata": {},
   "outputs": [],
   "source": [
    "int n\n",
    "\n",
    "def is_even(n):\n",
    "    return "
   ]
  },
  {
   "cell_type": "markdown",
   "metadata": {},
   "source": [
    "### Question 5\n",
    "###### 2 marks\n",
    "In the example below, complete the comments with definition (\"local variable\"/\"global variable\") describing the scope of variables a-c."
   ]
  },
  {
   "cell_type": "code",
   "execution_count": 6,
   "metadata": {},
   "outputs": [
    {
     "name": "stdout",
     "output_type": "stream",
     "text": [
      "3\n"
     ]
    }
   ],
   "source": [
    "# In the code below: \n",
    "# a is a local variable / global variable\n",
    "# b is a ...\n",
    "# c is a ...\n",
    "# d is a ...\n",
    "\n",
    "def my_function(a):\n",
    "    b = a - 2\n",
    "    return b\n",
    "\n",
    "c = 3\n",
    "\n",
    "if c > 2:\n",
    "    d = my_function(5)\n",
    "    print(d)"
   ]
  },
  {
   "cell_type": "markdown",
   "metadata": {},
   "source": [
    "### Question 6\n",
    "###### 3 marks\n",
    "Write a function called counter:\n",
    "\n",
    "Input: A list. e.g. `[7, 3, 5, 8, 50]`\n",
    "\n",
    "Output: Returns the numer of times a number greater than 5 appears in a list.\n"
   ]
  },
  {
   "cell_type": "code",
   "execution_count": null,
   "metadata": {},
   "outputs": [],
   "source": []
  },
  {
   "cell_type": "markdown",
   "metadata": {
    "slideshow": {
     "slide_type": "slide"
    }
   },
   "source": [
    "### Question 7\n",
    "\n",
    "The magnitude of an $n$ dimensional vector can be written\n",
    "\n",
    "$$\n",
    "|\\mathbf{x}|= \\sqrt{x_1^2 + x_2^2 + ... x_n^2} = \\sqrt{\\sum_{i = 1}^{n} (x_{n})^2 }\n",
    "$$\n",
    "\n",
    "Therefore...\n",
    "\n",
    "The magnitude of a 2D vector (e.g. $x = [x_1, x_2]$):\n",
    "\n",
    "$$\n",
    "|\\mathbf{x}|= \\sqrt{x_1^2 + x_2^2}\n",
    "$$\n",
    "<br>\n",
    "\n",
    "The magnitude of a 3D vector (e.g. $x = [x_1, x_2, x_3]$):\n",
    "\n",
    "$$\n",
    "|\\mathbf{x}|= \\sqrt{x_1^2 + x_2^2 + x_3^2}\n",
    "$$\n",
    "<br>\n",
    "\n",
    "#### Part A \n",
    "###### 3 marks\n",
    "In the cell below, write a function called `magnitude` that computes the magnitude of an n-dimensional vector.\n",
    "\n",
    "Input: `list` with n elements (e.g. [x, y]) if vector is 2D, [x, y, z]), if vector is 3D.\n",
    "\n",
    "Output: Return magnitude of the vector.\n",
    "\n",
    "Include a doc-string to say what your function does.\n",
    "\n",
    "\n",
    "#### Part B\n",
    "###### 1 marks\n",
    "Print the output of your function to show that it works for both 2D and 3D input vectors. \n",
    "<br>Check your function, for example use the numpy function `numpy.linalg.norm()` to verify the answer is correct.  "
   ]
  },
  {
   "cell_type": "code",
   "execution_count": 7,
   "metadata": {},
   "outputs": [],
   "source": [
    "# A function that computes the magnitude of an n-dimensional vector "
   ]
  },
  {
   "cell_type": "markdown",
   "metadata": {
    "collapsed": true,
    "slideshow": {
     "slide_type": "slide"
    }
   },
   "source": [
    "## Question 8\n",
    "\n",
    "The factorial of a positive integer $n$ is:\n",
    "\n",
    "\\begin{align}\n",
    "n! = \\prod_{i=1}^{n} i =1 \\cdot 2 \\cdot 3 \\cdot ... (n - 2) \\cdot (n - 1) \\cdot n\n",
    "\\end{align}\n",
    "\n",
    "We can write this *recursively*.\n",
    "<br>i.e. using the value of $(n-1)!$ to compute the value of $n!$:\n",
    "\n",
    "$$\n",
    "n! = (n-1)! n \n",
    "$$\n",
    "\n",
    "Note: $0! = 1$\n",
    " \n",
    "e.g. \n",
    "<br> $1! = 1 \\cdot 0! = 1 $\n",
    "<br> $2! = 2 \\cdot 1! = 2 \\cdot 1 = 2$\n",
    "<br> $3! = 3 \\cdot 2! = 3 \\cdot 2 \\cdot 1 = 6$\n",
    "<br> $4! = 4 \\cdot 3! = 4 \\cdot 3 \\cdot 2 \\cdot 1 = 24$\n",
    "\n",
    "\n",
    "\n",
    "#### Part A  \n",
    "###### 4 marks\n",
    "Write a __recursive function__ called `factorial` to compute $n!$ of an input argument `n`:\n",
    "\n",
    "- __Input:__ Numerical variable `n`\n",
    "- __Output:__ `factorial(n) = factorial(n-1)*n` \n",
    "\n",
    "Include a doc-string to say what your function does.  \n",
    "\n",
    "#### Part B  \n",
    "###### 3 marks\n",
    "The formula above only applies to __positive integers__(with a specific exception for 0). \n",
    "\n",
    "Edit your function to raise an error if the input value is a positive integer or zero. \n",
    "\n",
    "\n"
   ]
  },
  {
   "cell_type": "code",
   "execution_count": null,
   "metadata": {},
   "outputs": [],
   "source": []
  },
  {
   "cell_type": "markdown",
   "metadata": {
    "collapsed": true
   },
   "source": [
    "## Question 9\n",
    "###### 6 marks\n",
    "Create an array, `x` with 100 values from 0 to 20, inclusive. \n",
    "\n",
    "Compute $y=\\sin(x)$.\n",
    "\n",
    "Plot $y$ vs. $x$ with a blue line. \n",
    "\n",
    "Replace all values of $y$ that are larger than 0.5 with 0.5.\n",
    "\n",
    "Replace all values of $y$ that are smaller than $-$0.75 with $-0.75$.\n",
    "\n",
    "Plot $x$ vs. $y$ using a red line on the same graph. \n",
    "\n",
    "<img src=\"img/example_graph.png\" alt=\"Drawing\" style=\"width: 400px;\"/>"
   ]
  },
  {
   "cell_type": "code",
   "execution_count": null,
   "metadata": {},
   "outputs": [],
   "source": []
  },
  {
   "cell_type": "markdown",
   "metadata": {
    "collapsed": true,
    "slideshow": {
     "slide_type": "subslide"
    }
   },
   "source": [
    "## Question 10\n",
    "\n",
    "Using the example data set `a`,`b`:\n",
    "\n",
    "#### Part A\n",
    "###### 2 marks\n",
    "Plot a scatter graph of `a` against `b`, with `a` on the horizontal axis and `b` on the vertical axis. \n",
    "<br>Remember to use `%matplotlib inline` to make figures appear in Jupyter Notebook\n",
    "\n",
    "#### Part B\n",
    "###### 5 marks\n",
    "Try fitting 3 different polynomial functions to the data. Plot each curve as a line of on the graph.\n",
    "\n",
    "#### Part C\n",
    "###### 3 marks\n",
    "Show which polynomial function gives the best fit using the root mean squared error (RMSE). Print the equation of the *optimal* curve i.e. the curve with the *smallest* RMSE. \n",
    "\n",
    "#### Part D\n",
    "##### 1 mark\n",
    "Display the RMSE of each curve as a figure legend.\n"
   ]
  },
  {
   "cell_type": "code",
   "execution_count": 4,
   "metadata": {},
   "outputs": [],
   "source": [
    "import numpy as np\n",
    "a = np.array([88438,45505,75127,115571,89911,87432,100083,85589,73104,86890,78580,70785,41050,57610,107537,59262,73038,87891,75368,111638,74911,71599,96774,79667,90725,93816,75859,64969,205688,71500,53098,71250,89615,94747,50400,63673,78257,72785,83015,150000,84699,67191,86298,117705,88935,89643,106678,97894,132164,59387,60684,96151,68794,74559,29430,88362,111792,57205,83651,87518,80129,86801,110761,63274,66143,110694,52590,59994,80460,103589,68298,59056,40294,161848,103100,86354,37428,43307,80792,77368,109159,71538,84783,86250,82900,74728,48597,75549,106942,102167,62708,60630,70273,84918,88693,74141,46627,119112,88260,97262,86095,110472,82734,84761,91715,103292,86339,147993,77560,100625,68094,78250,75426,86138,112344,115000,98846,90499,80029,61959,76779,68833,81026,66361,92737,76692,64974,103869,51951,108854,61038,75938,75346,40639,73156,80067,82322,52353,\n",
    "              62832,207262,160106,77740,72011,167094,58458,41639,79528,66583,83993,138082,77366])\n",
    "b = np.array([1.7,-0.4,0.5,2.6,1.4,1.5,1.5,1.7,-0.5,1.6,0.9,1.1,-1.7,0.3,1.8,0.5,1,1.9,0.1,2,1.7,1,1.2,1.5,1,1.1,1.2,0,2.6,1.4,-0.8,1.6,1.1,1.2,-1.4,-0.5,1.9,0,1.5,2.4,1.5,0.7,1.8,2,2.4,1.6,2,2.3,2,0.1,0.3,2.3,0,0,-1.7,1.9,2,0,0.9,1.3,0.4,1.6,2.3,-0.1,1.7,2.1,-0.9,0.1,1,1.9,0.4,-0.3,-2.4,2.7,1.3,2,-1.3,-1.5,0.7,1.1,2.3,1.1,0.7,0.9,1.1,0.1,-0.9,1.4,2.1,1.2,0.1,0.8,0.3,1.4,1.5,1,-0.5,2.4,0.9,1.5,1.6,1.2,1.3,1.8,0.8,1.8,1.9,2.6,1.5,1.8,1.8,0.6,0.7,1.2,1.5,2.5,1.1,1.6,1.6,1,0,0,1,0.5,1.7,0.6,0.1,1.7,0.2,2.1,0.1,0.9,0.8,-1.3,1.3,0.5,1.5,-0.6,1.2,2.4,2.6,1.1,0.8,2.5,-0.2,-2,0.1,0.1,1.6,2.6,1.2])"
   ]
  },
  {
   "cell_type": "markdown",
   "metadata": {},
   "source": [
    "## Questionnare\n",
    "This is a question about your experience of the course this year.　\n",
    "<br>Please answer honestly and constructively.\n",
    "<br>You may give written answers in English or Japanese. \n",
    "\n",
    "この問題は、この授業の君の経歴を訪ねるアンケートである\n",
    "<br>ただし、真面目、かつ真剣な答案が望ましい。\n",
    "<br>英語や日本語で回答できる。勿論、点数に関係ないか、出来れば英語でお願いします。\n",
    "\n",
    "\n",
    "\n",
    "\n",
    "\n",
    "\n"
   ]
  },
  {
   "cell_type": "markdown",
   "metadata": {},
   "source": [
    "__a) ENTRY LEVEL__ \n",
    "<br>Please write the title of your major at your home university.　\n",
    "<br>君の大学の専門の名前を書きなさい。\n",
    "\n",
    "Please write which number best describes your knowledge of this subject before starting the course?　\n",
    "<br>この授業のする前に、授業の内容に対して、自分に最も近い状況を、次の番号の中から選んてください。\n",
    "1. No previous study.　全然知識無し\n",
    "1. A basic understanding.　基本の知識が持つ\n",
    "1. A good fundamental understanding.　ある程度の知識が持つ、深い理解した\n",
    "1. Comprehensive previous study.　私はプログラムマスター"
   ]
  },
  {
   "cell_type": "code",
   "execution_count": 1,
   "metadata": {},
   "outputs": [],
   "source": [
    "# Major 専門名: \n",
    "    \n",
    "# Knowledge of this subject before starting the course　この授業の前の知識レベル: "
   ]
  },
  {
   "cell_type": "markdown",
   "metadata": {},
   "source": [
    "__b) ENJOYMENT__\n",
    "<br>Write what you enjoyed most/found most interesting  about the course.　\n",
    "<br>この授業の最も面白いところを書きなさい。"
   ]
  },
  {
   "cell_type": "code",
   "execution_count": null,
   "metadata": {},
   "outputs": [],
   "source": []
  },
  {
   "cell_type": "markdown",
   "metadata": {},
   "source": [
    "Write what you enjoyed least / found least interesting about the course.　\n",
    "<br>この授業の最もつまらないところを書きなさい。"
   ]
  },
  {
   "cell_type": "code",
   "execution_count": null,
   "metadata": {},
   "outputs": [],
   "source": []
  },
  {
   "cell_type": "markdown",
   "metadata": {},
   "source": [
    "__c) KNOWLEDGE TRANSFER__\n",
    "\n",
    "Please choose the number indicating how much you feel your understanding improved as a result of taking this course.　\n",
    "<br>この授業した後、どのくらい上昇したが、次の番号の中から選んてください。\n",
    "\n",
    "1.\t__Dramatic improvement.__ I can confidently and independently use and apply my knowledge of programming in Python.　<br>__驚き激増した.__　自力でPythonを使える、思ったままPythonプログラムイング出来る。\n",
    "\n",
    "2.\t__Significant improvement.__ I have a much better understanding of this subject than when starting the course.　<br>__かなり増えた.__　授業の前と比べて、プログラムイングのことよく分かりました。\n",
    "\n",
    "3.\t__Slight improvement.__ My knowledge has improved but I do not feel confident in my understanding of this topic.　<br>__少し増えた.__　ある程度の知識を受けたが、まだ分からいことある。\n",
    "\n",
    "4.\t__No improvement.__ My knowledge of this topic has improved very little as a result of taking this course.　<br>__全然増えてない.__　授業を受けでも、前と比べて、あまり増えることはない。\n",
    "  \n",
    "\n",
    "\n",
    "\n",
    "\n"
   ]
  },
  {
   "cell_type": "code",
   "execution_count": null,
   "metadata": {},
   "outputs": [],
   "source": []
  },
  {
   "cell_type": "markdown",
   "metadata": {},
   "source": [
    "__d) DELIVERY__\n",
    "<br>Please rate the __use of english__ by writing the number you feel is most appropriate next to each of the communication formats listed below .　\n",
    "<br>先生の英語（文章）は読めやすさ、次の番号の中から選んてください。\n",
    "1. Easy to understand.　読め易い\n",
    "1. A few things were unclear / not well explained.　少し読めないところがある\n",
    "1. Many things were unclear / not explained well.　たくさん読めないところがある\n",
    "1. I could understand very little. 　読めるところも少ない\n",
    "\n"
   ]
  },
  {
   "cell_type": "code",
   "execution_count": 2,
   "metadata": {},
   "outputs": [],
   "source": [
    "# Written instructions in Jupyter notebooks `Jupyter notebooks`の使え方の説明（理解安さは何番）: \n",
    "    \n",
    "# Written instructions for Test-Yourself exercises 毎章の練習問題の説明（理解安さは何番）:\n",
    "\n",
    "# Written instructions for coursework assignement 最後の宿題の説明（理解安さは何番）:\n",
    "    \n",
    "# Verbal instructions/explanation 全体的の説明（理解安さは何番）:"
   ]
  },
  {
   "cell_type": "markdown",
   "metadata": {},
   "source": [
    "Please rate __how well-explained and understandable__ the course material was by writing the number you feel is most appropriate next to each of the communication formats listed below .　\n",
    "<br>先生の説明（文章）は理解やすかったが、次の番号の中から選んてください。\n",
    "1. Easy to understand.　理解易い\n",
    "1. A few things were unclear / not well explained.　少し理解できないところがある　\n",
    "1. Many things were unclear / not explained well.　たくさん理解できないところがある\n",
    "1. I could understand very little. 　理解できるところも少ない\n",
    "\n"
   ]
  },
  {
   "cell_type": "code",
   "execution_count": 3,
   "metadata": {},
   "outputs": [],
   "source": [
    "# Written instructions in Jupyter notebooks `Jupyter notebooks`の使え方の説明（理解安さは何番）: \n",
    "    \n",
    "# Written instructions for Test Yourself exercises 毎章の練習問題の説明（理解安さは何番）:\n",
    "\n",
    "# Written instructions for coursework assignement 最後の宿題の説明（理解安さは何番）:\n",
    "    \n",
    "# Verbal instructions/explanation 全体的の説明（理解安さは何番）:"
   ]
  },
  {
   "cell_type": "markdown",
   "metadata": {},
   "source": [
    "_e) FURTHER STUDY__\n",
    "\n",
    "Are you interested to continue studying programming?\n",
    "<br>プログラミングを引き続き学びたいですか.\n",
    "\n",
    "\n",
    "\n"
   ]
  },
  {
   "cell_type": "code",
   "execution_count": null,
   "metadata": {},
   "outputs": [],
   "source": []
  },
  {
   "cell_type": "markdown",
   "metadata": {},
   "source": [
    "__f) ADDITIONAL COMMENTS__\n",
    "<br>__[optional]__\n",
    "\n",
    "Please include any additional ideas you have about the course. \n",
    "<br>この授業についてコメントがあれば自由に記載してください"
   ]
  },
  {
   "cell_type": "code",
   "execution_count": null,
   "metadata": {},
   "outputs": [],
   "source": []
  },
  {
   "cell_type": "code",
   "execution_count": null,
   "metadata": {},
   "outputs": [],
   "source": []
  }
 ],
 "metadata": {
  "kernelspec": {
   "display_name": "Python 3",
   "language": "python",
   "name": "python3"
  },
  "language_info": {
   "codemirror_mode": {
    "name": "ipython",
    "version": 3
   },
   "file_extension": ".py",
   "mimetype": "text/x-python",
   "name": "python",
   "nbconvert_exporter": "python",
   "pygments_lexer": "ipython3",
   "version": "3.6.4"
  }
 },
 "nbformat": 4,
 "nbformat_minor": 2
}
