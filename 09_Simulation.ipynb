{
 "cells": [
  {
   "cell_type": "markdown",
   "metadata": {
    "slideshow": {
     "slide_type": "slide"
    }
   },
   "source": [
    "### Rescheduled Class\n",
    "You should all have received an email concerning the 2 rescheduled class.\n",
    "<br>Rescheduled classes will be held on: \n",
    "- 06/26 (June 26, Tuesday ), period 1, room CALL 23 \n",
    "- 06/29 (June 29, Friday ), period 5, room CALL 23 \n",
    "\n",
    "You may attend either class. \n",
    "\n",
    "These classes are for you to ask questions and get help with your assignment. \n",
    "\n",
    "There will be *no new taught material* in these classes.\n"
   ]
  },
  {
   "cell_type": "markdown",
   "metadata": {
    "slideshow": {
     "slide_type": "slide"
    }
   },
   "source": [
    "## Please download the new class notes.\n",
    "### Step 1 : Navigate to the directory where your files are stored.  \n",
    "Open a terminal. \n",
    "<br>Using `cd`, navigate to *inside* the ILAS_Python_for_engineers folder on your computer. \n",
    "### Step 3 : Update the course notes by downloading the changes\n",
    "In the terminal type:\n",
    "\n",
    ">`git add -A\n",
    "git commit -m \"commit\"\n",
    "git fetch upstream\n",
    "git merge -X theirs upstream/master`\n"
   ]
  },
  {
   "cell_type": "markdown",
   "metadata": {
    "collapsed": true,
    "slideshow": {
     "slide_type": "slide"
    }
   },
   "source": [
    "# Introduction to Simulation\n",
    "\n",
    "<br> <a href='#SolvingOrdinaryDifferentialEquations'>Recap: Solving Ordinary Differential Equations (ODE)</a>\n",
    "<br> <a href='#DiscontinuousFunctions'>Discontinuous Functions</a>\n",
    "    <br> &emsp;&emsp; <a href='#ExampleMixingTank'>Example : A Mixing Tank</a> \n",
    "<br> <a href='#SolvingODESpecificSolutionValue'>Solving an ODE for a Specific *Solution* Value</a> \n",
    "    <br> &emsp;&emsp; <a href='#ExampleReactorPart1'>Example : Reactor, Part 1</a> \n",
    "<br> <a href='#SolutionODESpecificInputValues'>Solution to an ODE evaluated at Specific *Input* Values</a> \n",
    "    <br> &emsp;&emsp; <a href='#ExampleReactorPart2'>Example : Reactor, Part 2</a>\n",
    "<br> <a href='#MatrixMultiplicationRules'>Matrix Multiplication Rules</a> \n",
    "<br> <a href='#UsefulMatrixOperations'>Useful Matrix Operations</a>\n",
    "<br> <a href='#SystemsDifferentialEquations'>Systems of Differential Equations </a>\n",
    "<br> <a href='#InteractivePlots'>Interactive Plots</a>\n",
    "<br> &emsp;&emsp; <a href='#InstallingFFmpeg'>Installing FFmpeg</a> \n",
    "<br> <a href='#AnimatedPlots'>Animated Plots</a>\n",
    "<br> &emsp;&emsp; <a href='#ExampleAnimatingLine'>Example: Animating a Line</a> \n",
    "<br> &emsp;&emsp; <a href='#ExampleSpringMassSystem'>Example : Simulating Physical Systems, Spring-Mass System</a> \n",
    "<br> &emsp;&emsp; <a href='#ExamplePlottingObject'>Example : Simulating Physical Systems, Trajectory : Plotting the Object</a> \n",
    "<br> &emsp;&emsp; <a href='#ExamplePlottingPath'>Example : Simulating Physical Systems, Trajectory : Plotting the Path</a> \n",
    "<br> &emsp;&emsp; <a href='#ExamplePlottingPathObject'>Example : Simulating Physical Systems, Trajectory : Plotting the Path and Object</a> \n",
    "<br> <a href='#Summary'>Summary</a>\n"
   ]
  },
  {
   "cell_type": "markdown",
   "metadata": {
    "slideshow": {
     "slide_type": "slide"
    }
   },
   "source": [
    "### Lesson Goal\n",
    "\n",
    "Produce simulations of systems to observe:\n",
    "- time-varying\n",
    "- parameter-varying\n",
    "\n",
    "effects.\n",
    "\n",
    "### Fundamental programming concepts\n",
    "Employing computational image generation to represet real-life problems.\n",
    "\n",
    "1. Graphical representation\n",
    "1. Animated representation\n"
   ]
  },
  {
   "cell_type": "markdown",
   "metadata": {
    "slideshow": {
     "slide_type": "slide"
    }
   },
   "source": [
    "## Recap: Solving Ordinary Differential Equations (ODE)\n",
    "<a id='SolvingOrdinaryDifferentialEquations'></a>\n",
    "In the previous seminar we studied the function `scipy.integrate.odeint`.\n",
    "\n",
    "The function gives a numerical solution to a first order differential equation for a given input parameter e.g. time.\n",
    "\n",
    "Estimation methods can provide an easier way to solve problems than finding an analytical soltion to the equation. "
   ]
  },
  {
   "cell_type": "code",
   "execution_count": 1,
   "metadata": {
    "slideshow": {
     "slide_type": "-"
    }
   },
   "outputs": [],
   "source": [
    "from scipy.integrate import odeint\n",
    "import numpy as np\n",
    "import matplotlib.pyplot as plt"
   ]
  },
  {
   "cell_type": "markdown",
   "metadata": {
    "slideshow": {
     "slide_type": "slide"
    }
   },
   "source": [
    "__Analytical solution (to an ODE) :__ \n",
    "<br>A function, which can be solved to get a particular value.\n",
    "\n",
    "e.g. solution to an ODE : $y(x) = exp(x)$\n",
    "<br>We can *solve* the solution to find the value of $x$ where $y(x) = 2$.\n",
    "\n",
    "Few practical systems lead to analytical solutions. Their use is limited use. \n",
    "\n",
    "\n",
    "__Numerical approximation (of an ODE) :__\n",
    "<br>Independent variable and approximation of corresponding function value at that variable. "
   ]
  },
  {
   "cell_type": "markdown",
   "metadata": {
    "slideshow": {
     "slide_type": "slide"
    }
   },
   "source": [
    "To recap last weeks class..."
   ]
  },
  {
   "cell_type": "markdown",
   "metadata": {
    "slideshow": {
     "slide_type": "-"
    }
   },
   "source": [
    "The function `odeint` takes a user-defined function as an argument.\n",
    "\n",
    "This input function should define the derivative you want to solve in the form: \n",
    "\n",
    "$f' = \\frac{df}{dt} = g(t)$\n",
    "\n",
    "For example:\n",
    "\n",
    "$f' = cos(t), \\quad f(t=0)=0$"
   ]
  },
  {
   "cell_type": "code",
   "execution_count": 2,
   "metadata": {},
   "outputs": [],
   "source": [
    "def dfdt(x, t):\n",
    "    return np.cos(t)"
   ]
  },
  {
   "cell_type": "markdown",
   "metadata": {
    "slideshow": {
     "slide_type": "slide"
    }
   },
   "source": [
    "Two additional arguments are needed:\n",
    "\n",
    "- the initial value of x\n",
    "- the value(s) of t at which to evaluate x, starting with the initial value\n",
    "- (if `dx_dt` takes any other argumemts they are entered as a tuple as the third argument)"
   ]
  },
  {
   "cell_type": "code",
   "execution_count": 3,
   "metadata": {
    "slideshow": {
     "slide_type": "-"
    }
   },
   "outputs": [],
   "source": [
    "ts = np.linspace(0,5,100) # the value(s) of t at which to evaluate x\n",
    "f0 = 0                    # the initial value\n",
    "\n",
    "# odeint returns x at each value of t\n",
    "fs = odeint(dfdt, # function\n",
    "            f0,   # initial value\n",
    "            ts)   # time span\n"
   ]
  },
  {
   "cell_type": "markdown",
   "metadata": {
    "slideshow": {
     "slide_type": "slide"
    }
   },
   "source": [
    "The function `odeint` returns an $n\\times 1$ array (2D column).\n",
    "\n",
    "To plot the output we have to \"flatten\" it to a 1D array.\n",
    "\n",
    "Recall, $f' = cos(t), \\quad f = sin(t)$"
   ]
  },
  {
   "cell_type": "code",
   "execution_count": 4,
   "metadata": {
    "scrolled": false,
    "slideshow": {
     "slide_type": "-"
    }
   },
   "outputs": [],
   "source": [
    "fs = np.array(fs).flatten()"
   ]
  },
  {
   "cell_type": "markdown",
   "metadata": {
    "slideshow": {
     "slide_type": "slide"
    }
   },
   "source": [
    "Plot the function"
   ]
  },
  {
   "cell_type": "code",
   "execution_count": 5,
   "metadata": {},
   "outputs": [
    {
     "data": {
      "text/plain": [
       "<matplotlib.legend.Legend at 0x11532b128>"
      ]
     },
     "execution_count": 5,
     "metadata": {},
     "output_type": "execute_result"
    },
    {
     "data": {
      "image/png": "[encoded data removed]",
      "text/plain": [
       "<matplotlib.figure.Figure at 0x10f1555f8>"
      ]
     },
     "metadata": {},
     "output_type": "display_data"
    }
   ],
   "source": [
    "plt.xlabel(\"t\")\n",
    "plt.ylabel(\"f\")\n",
    "plt.plot(ts, np.sin(ts), 'c', label='analytical solution');\n",
    "plt.plot(ts, fs, 'r--', label='numerical solution');\n",
    "plt.legend(loc='best')\n"
   ]
  },
  {
   "cell_type": "markdown",
   "metadata": {},
   "source": [
    "The numerical and analytical solutions agree."
   ]
  },
  {
   "cell_type": "markdown",
   "metadata": {
    "slideshow": {
     "slide_type": "slide"
    }
   },
   "source": [
    "## Discontinuous Functions\n",
    "<a id='DiscontinuousFunctions'></a>\n",
    "The computational solver to loops through the range of input values.\n",
    "\n",
    "It estimates the value of the function at each input value.\n",
    "\n",
    "This makes it easy to apply the solver to piecewise or discontinous functions."
   ]
  },
  {
   "cell_type": "markdown",
   "metadata": {
    "slideshow": {
     "slide_type": "slide"
    }
   },
   "source": [
    "An example of where this is useful is where a *forcing function* effects your solution."
   ]
  },
  {
   "cell_type": "markdown",
   "metadata": {
    "slideshow": {
     "slide_type": "slide"
    }
   },
   "source": [
    "##### Example : A Mixing Tank\n",
    "<a id='ExampleMixingTank'></a>\n",
    "<img src=\"img/salt_tank.png\" alt=\"Drawing\" style=\"width: 400px;\"/> \n",
    "    \n",
    "A tank initially contains a mixture: \n",
    "- 300 g of salt \n",
    "- 1000 L of water. \n",
    "\n",
    "From t=0 min:\n",
    "- inlet solution 4 g/L (salt/water)\n",
    "- inlet flow rate 6 L/min. \n",
    "\n",
    "From t=10 min:\n",
    "- inlet solution 2 g/L (salt/water)\n",
    "- inlet flow rate 6 L/min (unchanged)\n",
    "\n",
    "Oulet flow rate = inlet floow rate = 6 L/min (unchanged).\n",
    "\n",
    "The contents are mixed thoroughly."
   ]
  },
  {
   "cell_type": "markdown",
   "metadata": {
    "slideshow": {
     "slide_type": "slide"
    }
   },
   "source": [
    "A differential equation to represent the change in the mass of salt in the tank with respect to time:\n",
    "\n",
    "\n",
    "\n",
    "\n",
    "\\begin{align*}\n",
    "\\frac{dM_S}{dt} &= u_{in}C_{in}(t) - u_{out}C_{out}(t)\\\\\n",
    "                &= u_{in}C_{in}(t)-u_{out}\\frac{M_S}{V} \\\\\n",
    "\\end{align*}\n",
    "\n",
    "where\n",
    "<br>$u$ = inlet flow rate\n",
    "<br>$V$ = volume of liquid in tank\n",
    "<br>$C_{in}$ = salt concentration inflow g/L\n",
    "<br>$M_S$ = mass of salt in tank\n",
    "\n",
    "\n",
    "Initial condition:\n",
    "<br>$M_S(t=0) = 300$ "
   ]
  },
  {
   "cell_type": "markdown",
   "metadata": {
    "slideshow": {
     "slide_type": "slide"
    }
   },
   "source": [
    "We can first write a function to represent the change of $C_{in}$ with time:"
   ]
  },
  {
   "cell_type": "code",
   "execution_count": 6,
   "metadata": {},
   "outputs": [],
   "source": [
    "def Cs(t):\n",
    "    'inlet concentration of salt'\n",
    "    if t < 0:\n",
    "        cs = 0.0 # g/L\n",
    "    elif (t > 0) and (t <= 10):\n",
    "        cs = 4.0 \n",
    "    else:\n",
    "        cs = 2.0\n",
    "    return cs\n",
    "\n"
   ]
  },
  {
   "cell_type": "markdown",
   "metadata": {
    "slideshow": {
     "slide_type": "slide"
    }
   },
   "source": [
    "Then we write a function to define $\\frac{dM_S}{dt}$ just as we did in the last example."
   ]
  },
  {
   "cell_type": "code",
   "execution_count": 7,
   "metadata": {},
   "outputs": [],
   "source": [
    "V = 1000.0 # volume of liquid in tank\n",
    "u = 6.0    # inflow and outflow rate\n",
    "\n",
    "def salt_mass(Ms, t):\n",
    "    'mass of salt in the tank'\n",
    "    dMsdt = u * Cs(t) - u * Ms / V\n",
    "    return dMsdt\n",
    "\n"
   ]
  },
  {
   "cell_type": "code",
   "execution_count": 8,
   "metadata": {
    "slideshow": {
     "slide_type": "slide"
    }
   },
   "outputs": [],
   "source": [
    "# initial value (at t=0)\n",
    "M0 = 300 # g salt\n",
    "\n",
    "# time span \n",
    "tspan = np.linspace(0.0, 15.0, 50)\n",
    "\n",
    "# mass of salt in tank over time span\n",
    "Ms = odeint(salt_mass, M0, tspan)\n"
   ]
  },
  {
   "cell_type": "markdown",
   "metadata": {
    "slideshow": {
     "slide_type": "slide"
    }
   },
   "source": [
    "Plot the solution to observe the change in the rate of increase in salt concentration at $t=10$s."
   ]
  },
  {
   "cell_type": "code",
   "execution_count": 9,
   "metadata": {
    "scrolled": true
   },
   "outputs": [
    {
     "data": {
      "text/plain": [
       "Text(0,0.5,'Salt concentration (g/L)')"
      ]
     },
     "execution_count": 9,
     "metadata": {},
     "output_type": "execute_result"
    },
    {
     "data": {
      "image/png": "[encoded data removed]",
      "text/plain": [
       "<matplotlib.figure.Figure at 0x10f1554e0>"
      ]
     },
     "metadata": {},
     "output_type": "display_data"
    }
   ],
   "source": [
    "plt.plot(tspan, Ms/V, 'b.')\n",
    "plt.xlabel('Time (min)')\n",
    "plt.ylabel('Salt concentration (g/L)')\n"
   ]
  },
  {
   "cell_type": "markdown",
   "metadata": {
    "slideshow": {
     "slide_type": "slide"
    }
   },
   "source": [
    "## Solving an ODE for a Specific *Solution* Value.\n",
    "<a id='SolvingODESpecificSolutionValue'></a>\n",
    "The analytical solution to an ODE is a function the value of input variable $x$ that makes $y(x)$ equal to some value of interest. \n",
    "\n",
    "\n"
   ]
  },
  {
   "cell_type": "markdown",
   "metadata": {
    "slideshow": {
     "slide_type": "slide"
    }
   },
   "source": [
    "In a numerical solution to an ODE we get a vector of independent variable values, and the corresponding function values at those values. \n",
    "\n",
    "This may not include the function value of interest. \n",
    "\n",
    "To solve for a particular function value we need a dfferent approach. \n"
   ]
  },
  {
   "cell_type": "markdown",
   "metadata": {
    "slideshow": {
     "slide_type": "slide"
    }
   },
   "source": [
    "One approach to this is using interpolation, which we studied in `05_Plotting_Analysing.ipynb`..."
   ]
  },
  {
   "cell_type": "markdown",
   "metadata": {
    "slideshow": {
     "slide_type": "slide"
    }
   },
   "source": [
    "### Example : Reactor, Part 1\n",
    "<a id='ExampleReactorPart1'></a>\n",
    "The rate of change of the concentration $C_A$ of a substance within a reactor is:\n",
    "\n",
    "$$\\frac{dC_A}{dt}=-kC_A^2 $$\n",
    "\n",
    "where\n",
    "<br>$k = 0.23 \\quad \\textrm{L/mol/s}$\n",
    "\n",
    "Initial condition:\n",
    "<br>$C_A(t=0) = 2.3 \\quad \\textrm{mol/L}$ \n",
    "\n",
    "\n",
    "Compute the time it takes for $C_A$ to be reduced to $1 \\textrm{mol/L}$.\n",
    "\n",
    "*i.e. Find input variable $t$ when output variable $C_A = 1$*"
   ]
  },
  {
   "cell_type": "code",
   "execution_count": 10,
   "metadata": {
    "slideshow": {
     "slide_type": "slide"
    }
   },
   "outputs": [],
   "source": [
    "k = 0.23\n",
    "Ca0 = 2.3  # initial condition\n",
    "\n",
    "def dCadt(Ca, t):\n",
    "    return -k * Ca**2\n",
    "\n",
    "tspan = np.linspace(0, 10, 14)  # range of time values\n",
    "sol = odeint(dCadt, Ca0, tspan)\n",
    "\n"
   ]
  },
  {
   "cell_type": "code",
   "execution_count": 11,
   "metadata": {
    "slideshow": {
     "slide_type": "slide"
    }
   },
   "outputs": [
    {
     "data": {
      "text/plain": [
       "Text(0,0.5,'$C_A$ (mol/L)')"
      ]
     },
     "execution_count": 11,
     "metadata": {},
     "output_type": "execute_result"
    },
    {
     "data": {
      "image/png": "[encoded data removed]",
      "text/plain": [
       "<matplotlib.figure.Figure at 0x114c9c1d0>"
      ]
     },
     "metadata": {},
     "output_type": "display_data"
    }
   ],
   "source": [
    "plt.plot(tspan, sol)\n",
    "plt.xlabel('Time (s)')\n",
    "plt.ylabel('$C_A$ (mol/L)')\n"
   ]
  },
  {
   "cell_type": "markdown",
   "metadata": {},
   "source": [
    "We can see that the solution ($C_A = 1$) is close to 2s."
   ]
  },
  {
   "cell_type": "markdown",
   "metadata": {
    "slideshow": {
     "slide_type": "slide"
    }
   },
   "source": [
    "We create an interpolating function to estimate the solution.\n",
    "\n",
    "First, observe how the solution is represented."
   ]
  },
  {
   "cell_type": "code",
   "execution_count": 12,
   "metadata": {},
   "outputs": [
    {
     "name": "stdout",
     "output_type": "stream",
     "text": [
      "[[2.3       ]\n",
      " [1.63477314]\n",
      " [1.26802375]\n",
      " [1.03567716]\n",
      " [0.87529271]\n",
      " [0.75792139]\n",
      " [0.66830573]\n",
      " [0.59764138]\n",
      " [0.54049165]\n",
      " [0.4933179 ]\n",
      " [0.45371772]\n",
      " [0.42000278]\n",
      " [0.39095185]\n",
      " [0.36565974]] <class 'numpy.ndarray'>\n"
     ]
    }
   ],
   "source": [
    "print(sol, type(sol))\n",
    "\n"
   ]
  },
  {
   "cell_type": "markdown",
   "metadata": {
    "slideshow": {
     "slide_type": "slide"
    }
   },
   "source": [
    "We can plot this range without issue.\n",
    "\n",
    "However, when interpolating, we must specify the index of the range of values:"
   ]
  },
  {
   "cell_type": "code",
   "execution_count": 13,
   "metadata": {},
   "outputs": [],
   "source": [
    "Ca = sol[:,0]\n",
    "\n"
   ]
  },
  {
   "cell_type": "code",
   "execution_count": 14,
   "metadata": {
    "slideshow": {
     "slide_type": "slide"
    }
   },
   "outputs": [],
   "source": [
    "# interpolate : Method 1\n",
    "from scipy.interpolate import interp1d\n",
    "\n",
    "ca_func = interp1d(tspan, Ca, 'cubic')\n",
    "\n",
    "\n",
    "# # interpolate : Method 2\n",
    "# from scipy.interpolate import splrep\n",
    "# from scipy.interpolate import splev\n",
    "\n",
    "# order_poly = 3\n",
    "# ca_func = splrep(tspan, Ca, k=order_poly)\n"
   ]
  },
  {
   "cell_type": "code",
   "execution_count": 15,
   "metadata": {
    "slideshow": {
     "slide_type": "slide"
    }
   },
   "outputs": [
    {
     "data": {
      "text/plain": [
       "<matplotlib.legend.Legend at 0x115916ba8>"
      ]
     },
     "execution_count": 15,
     "metadata": {},
     "output_type": "execute_result"
    },
    {
     "data": {
      "image/png": "[encoded data removed]",
      "text/plain": [
       "<Figure size 432x288 with 1 Axes>"
      ]
     },
     "metadata": {},
     "output_type": "display_data"
    }
   ],
   "source": [
    "# plot the original data \n",
    "plt.plot(tspan, Ca, label='original data')\n",
    "\n",
    "# plot the interpolated data\n",
    "tspan_i = np.linspace(0, 10, 200)   # create a finer range of time variables\n",
    "\n",
    "# Method 1\n",
    "plt.plot(tspan_i, ca_func(tspan_i), 'r--', label='interpolation') # Method 1\n",
    "\n",
    "# Method 2\n",
    "#plt.plot(tspan_i, splev(tspan_i, ca_func), 'r--', label='interpolation') # Method 2\n",
    "\n",
    "plt.xlabel('Time (s)')\n",
    "plt.ylabel('$C_A$ (mol/L)')\n",
    "plt.legend()\n"
   ]
  },
  {
   "cell_type": "markdown",
   "metadata": {
    "slideshow": {
     "slide_type": "slide"
    }
   },
   "source": [
    "The interpolated data provides a good fit.\n",
    "\n",
    "Now we solve the problem : find time, $t$ when $C_A = 1$\n",
    "\n",
    "Remember, our approximation : $t \\approx 2$ when $C_A = 1$"
   ]
  },
  {
   "cell_type": "code",
   "execution_count": 16,
   "metadata": {},
   "outputs": [],
   "source": [
    "tguess = 2.0\n",
    "\n",
    "def func(t):\n",
    "    'returns 0 when interpolated function ca_func(t) = desired value, 1'\n",
    "    return 1.0 - ca_func(t)\n"
   ]
  },
  {
   "cell_type": "markdown",
   "metadata": {
    "slideshow": {
     "slide_type": "slide"
    }
   },
   "source": [
    "In `07_RootFinding_CoupledEquations.ipynb` we learnt to use the function `fsolve` for estimating the roots of a function given an initial estimate. \n",
    "\n",
    "Then we use `fsolve` to solve the function (find where function returns 0), usign initial guess = 2. "
   ]
  },
  {
   "cell_type": "code",
   "execution_count": 17,
   "metadata": {},
   "outputs": [
    {
     "name": "stdout",
     "output_type": "stream",
     "text": [
      "[2.45688986]\n"
     ]
    }
   ],
   "source": [
    "from scipy.optimize import fsolve\n",
    "\n",
    "tsol2 = fsolve(func, tguess)\n",
    "# tsol2, = fsolve(func, tguess)  # using a comma extracts a single varibale stored as array\n",
    "print(tsol2)\n"
   ]
  },
  {
   "cell_type": "markdown",
   "metadata": {
    "slideshow": {
     "slide_type": "slide"
    }
   },
   "source": [
    "We can express this more concisely as a `lambda` function:"
   ]
  },
  {
   "cell_type": "code",
   "execution_count": 18,
   "metadata": {},
   "outputs": [
    {
     "name": "stdout",
     "output_type": "stream",
     "text": [
      "2.4568898598165143\n"
     ]
    }
   ],
   "source": [
    "# input t\n",
    "# output 1.0 - ca_func(t\n",
    "tsol, = fsolve(lambda t: 1.0 - ca_func(t), tguess)\n",
    "print(tsol)\n"
   ]
  },
  {
   "cell_type": "markdown",
   "metadata": {
    "slideshow": {
     "slide_type": "slide"
    }
   },
   "source": [
    "## Solution to an ODE evaulated at Specific *Input* Values.\n",
    "<a id='SolutionODESpecificInputValues'></a>\n",
    "Sometimes it is desirable to get the solution at specific points\n",
    "<br>e.g. at $t = [0, 0.2, 0.4, 0.8]$ \n",
    "\n",
    "For example we might want to compare experimental measurements at those time points. "
   ]
  },
  {
   "cell_type": "markdown",
   "metadata": {
    "slideshow": {
     "slide_type": "slide"
    }
   },
   "source": [
    "To find the solution for specific input values, we simply set the range of input variables to the values of interest."
   ]
  },
  {
   "cell_type": "markdown",
   "metadata": {
    "slideshow": {
     "slide_type": "slide"
    }
   },
   "source": [
    "### Example : Reactor, Part 2\n",
    "<a id='ExampleReactorPart2'></a>\n",
    "The rate of change of the concentration $C_A$ of a substance within a reactor is:\n",
    "\n",
    "$$\\frac{dC_A}{dt}=-kC_A^2 $$\n",
    "\n",
    "where\n",
    "<br>$k = 0.23 \\quad \\textrm{L/mol/s}$\n",
    "\n",
    "Initial condition:\n",
    "<br>$C_A(t=0) = 2.3 \\quad \\textrm{mol/L}$ \n",
    "\n",
    "\n",
    "Compute the contration $C_A$ at time $t = [0, 2, 4, 8]$."
   ]
  },
  {
   "cell_type": "markdown",
   "metadata": {
    "slideshow": {
     "slide_type": "slide"
    }
   },
   "source": [
    "We can use the same function as in __Example : Reactor, Part 1__"
   ]
  },
  {
   "cell_type": "code",
   "execution_count": 19,
   "metadata": {},
   "outputs": [],
   "source": [
    "k = 0.23\n",
    "Ca0 = 2.3\n",
    "\n",
    "def dCadt(Ca, t):\n",
    "    return -k * Ca**2\n",
    "\n"
   ]
  },
  {
   "cell_type": "markdown",
   "metadata": {
    "slideshow": {
     "slide_type": "slide"
    }
   },
   "source": [
    "...we just apply the function to the new range of time values:"
   ]
  },
  {
   "cell_type": "code",
   "execution_count": 20,
   "metadata": {},
   "outputs": [
    {
     "data": {
      "text/plain": [
       "Text(0,0.5,'$C_A$ (mol/L)')"
      ]
     },
     "execution_count": 20,
     "metadata": {},
     "output_type": "execute_result"
    },
    {
     "data": {
      "image/png": "[encoded data removed]",
      "text/plain": [
       "<Figure size 432x288 with 1 Axes>"
      ]
     },
     "metadata": {},
     "output_type": "display_data"
    }
   ],
   "source": [
    "# previous problem solution\n",
    "tspan = np.linspace(0, 10, 14)\n",
    "plt.plot(tspan, odeint(dCadt, Ca0, tspan), label='range time')\n",
    "\n",
    "# specific value problem\n",
    "tspan = [0, 2, 4, 8]\n",
    "plt.plot(tspan, odeint(dCadt, Ca0, tspan), 'ro', label='range time')\n",
    "\n",
    "plt.xlabel('Time (s)')\n",
    "plt.ylabel('$C_A$ (mol/L)')\n"
   ]
  },
  {
   "cell_type": "code",
   "execution_count": 21,
   "metadata": {
    "slideshow": {
     "slide_type": "slide"
    }
   },
   "outputs": [
    {
     "name": "stdout",
     "output_type": "stream",
     "text": [
      "[[2.3       ]\n",
      " [1.11758989]\n",
      " [0.73812577]\n",
      " [0.43960241]]\n"
     ]
    }
   ],
   "source": [
    "print(odeint(dCadt, Ca0, tspan))\n",
    "\n",
    "# use index to access column 0\n",
    "# print(odeint(dCadt, Ca0, tspan)[:,0])\n"
   ]
  },
  {
   "cell_type": "markdown",
   "metadata": {
    "collapsed": true,
    "slideshow": {
     "slide_type": "slide"
    }
   },
   "source": [
    "## Matrix Multiplication Rules.\n",
    "<a id='MatrixMultiplicationRules'></a>\n",
    "The following section explains the process of matrix multiplication in case this is an unfamiliar topic for you.\n",
    "\n",
    "Read this section to understand the use of matrices in the examples that follow.\n",
    "\n",
    "\n",
    "\n",
    "\n"
   ]
  },
  {
   "cell_type": "markdown",
   "metadata": {
    "slideshow": {
     "slide_type": "subslide"
    }
   },
   "source": [
    "If the number of __columns in A__ \n",
    "<br>is the same as number of __rows in B__, \n",
    "<br>we can find the matrix product of $\\mathbf{A}$ and $\\mathbf{B}$.\n",
    "<br> $\\mathbf{C} = \\mathbf{A} \\cdot \\mathbf{B}$"
   ]
  },
  {
   "cell_type": "markdown",
   "metadata": {
    "slideshow": {
     "slide_type": "subslide"
    }
   },
   "source": [
    "For example:\n",
    "<br>$\\mathbf{A}$ has 3 rows and __3 columns__\n",
    "<br>$\\mathbf{B}$ has __3 rows__ and 1 column \n",
    "<br>($\\mathbf{B}$ is a vector represented as a matrix)\n",
    "\n",
    "\\begin{equation*}\n",
    "\\underbrace{\n",
    "\\begin{bmatrix}\n",
    "1 & 2 & 3 \\\\\n",
    "4 & 5 & 6 \\\\\n",
    "7 & 8 & 9 \\\\\n",
    "\\end{bmatrix}\n",
    "}_{\\mathbf{A} \\text{ 3 rows} \\text{ 3 columns}}\n",
    "\\cdot\n",
    "\\underbrace{\n",
    "\\begin{bmatrix}\n",
    "10 \\\\\n",
    "20 \\\\\n",
    "30 \\\\\n",
    "\\end{bmatrix}\n",
    "}_{\\mathbf{B} \\text{  3 rows} \\text{  1 column}}\n",
    "\\end{equation*}\n",
    "\n",
    "So we can multiply them..."
   ]
  },
  {
   "cell_type": "markdown",
   "metadata": {
    "slideshow": {
     "slide_type": "subslide"
    }
   },
   "source": [
    "In matrix $\\mathbf{C}$, the element in __row $i$__, __column $j$__ \n",
    "\n",
    "is equal to the dot product of the $i$th __row__ of $\\mathbf{A}$, $j$th __column__ of $\\mathbf{B}$.m"
   ]
  },
  {
   "cell_type": "markdown",
   "metadata": {
    "collapsed": true,
    "slideshow": {
     "slide_type": "subslide"
    }
   },
   "source": [
    "\n",
    "\n",
    "\\begin{equation*}\n",
    "\\underbrace{\n",
    "\\begin{bmatrix}\n",
    "\\color{red}1 & \\color{red}2 & \\color{red}3 \\\\\n",
    "4 & 5 & 6 \\\\\n",
    "7 & 8 & 9 \\\\\n",
    "\\end{bmatrix}\n",
    "}_{\\mathbf{A} \\text{ 3 rows} \\text{ 3 columns}}\n",
    "\\cdot\n",
    "\\underbrace{\n",
    "\\begin{bmatrix}\n",
    "\\color{red}{10} \\\\\n",
    "\\color{red}{20} \\\\\n",
    "\\color{red}{30} \\\\\n",
    "\\end{bmatrix}\n",
    "}_{\\mathbf{B} \\text{  3 rows} \\text{  1 column}}\n",
    "=\\underbrace{\n",
    "\\begin{bmatrix}\n",
    "\\color{red}{1 \\cdot 10 \\quad + \\quad 2 \\cdot 20 \\quad + \\quad 3 \\cdot 30} \\\\\n",
    "4 \\cdot 10 \\quad + \\quad 5 \\cdot 20 \\quad + \\quad 6 \\cdot 30 \\\\\n",
    "7 \\cdot 10 \\quad + \\quad 8 \\cdot 20 \\quad + \\quad 9 \\cdot 30 \\\\\n",
    "\\end{bmatrix}\n",
    "}_{\\mathbf{C} \\text{  3 rows} \\text{  1 column}}\n",
    "=\\underbrace{\n",
    "\\begin{bmatrix}\n",
    "\\color{red}{140} \\\\\n",
    "320 \\\\\n",
    "500 \\\\\n",
    "\\end{bmatrix}\n",
    "}_{\\mathbf{C} \\text{  3 rows} \\text{  1 column1}}\n",
    "\\end{equation*}"
   ]
  },
  {
   "cell_type": "markdown",
   "metadata": {
    "collapsed": true,
    "slideshow": {
     "slide_type": "subslide"
    }
   },
   "source": [
    "\\begin{equation*}\n",
    "\\underbrace{\n",
    "\\begin{bmatrix}\n",
    "1 & 2 & 3 \\\\\n",
    "\\color{red}4 & \\color{red}5 & \\color{red}6 \\\\\n",
    "7 & 8 & 9 \\\\\n",
    "\\end{bmatrix}\n",
    "}_{\\mathbf{A} \\text{ 3 rows} \\text{ 3 columns}}\n",
    "\\cdot\n",
    "\\underbrace{\n",
    "\\begin{bmatrix}\n",
    "\\color{red}{10} \\\\\n",
    "\\color{red}{20} \\\\\n",
    "\\color{red}{30} \\\\\n",
    "\\end{bmatrix}\n",
    "}_{\\mathbf{B} \\text{  3 rows} \\text{  1 column}}\n",
    "=\\underbrace{\n",
    "\\begin{bmatrix}\n",
    "1 \\cdot 10 \\quad + \\quad 2 \\cdot 20 \\quad + \\quad 3 \\cdot 30 \\\\\n",
    "\\color{red}{4 \\cdot 10 \\quad + \\quad 5 \\cdot 20 \\quad + \\quad 6 \\cdot 30} \\\\\n",
    "7 \\cdot 10 \\quad + \\quad 8 \\cdot 20 \\quad + \\quad 9 \\cdot 30 \\\\\n",
    "\\end{bmatrix}\n",
    "}_{\\mathbf{C} \\text{  3 rows} \\text{  1 column}}\n",
    "=\\underbrace{\n",
    "\\begin{bmatrix}\n",
    "140 \\\\\n",
    "\\color{red}{320} \\\\\n",
    "500 \\\\\n",
    "\\end{bmatrix}\n",
    "}_{\\mathbf{C} \\text{  3 rows} \\text{  1 column1}}\n",
    "\\end{equation*}"
   ]
  },
  {
   "cell_type": "markdown",
   "metadata": {
    "collapsed": true,
    "slideshow": {
     "slide_type": "subslide"
    }
   },
   "source": [
    "\\begin{equation*}\n",
    "\\underbrace{\n",
    "\\begin{bmatrix}\n",
    "1 & 2 & 3 \\\\\n",
    "4 & 5 & 6 \\\\\n",
    "\\color{red}7 & \\color{red}8 & \\color{red}9 \\\\\n",
    "\\end{bmatrix}\n",
    "}_{\\mathbf{A} \\text{ 3 rows} \\text{ 3 columns}}\n",
    "\\cdot\n",
    "\\underbrace{\n",
    "\\begin{bmatrix}\n",
    "\\color{red}{10} \\\\\n",
    "\\color{red}{20} \\\\\n",
    "\\color{red}{30} \\\\\n",
    "\\end{bmatrix}\n",
    "}_{\\mathbf{B} \\text{  3 rows} \\text{  1 column}}\n",
    "=\\underbrace{\n",
    "\\begin{bmatrix}\n",
    "1 \\cdot 10 \\quad + \\quad 2 \\cdot 20 \\quad + \\quad 3 \\cdot 30 \\\\\n",
    "4 \\cdot 10 \\quad + \\quad 5 \\cdot 20 \\quad + \\quad 6 \\cdot 30 \\\\\n",
    "\\color{red}{7 \\cdot 10 \\quad + \\quad 8 \\cdot 20 \\quad + \\quad 9 \\cdot 30} \\\\\n",
    "\\end{bmatrix}\n",
    "}_{\\mathbf{C} \\text{  3 rows} \\text{  1 column}}\n",
    "=\\underbrace{\n",
    "\\begin{bmatrix}\n",
    "140 \\\\\n",
    "320 \\\\\n",
    "\\color{red}{500} \\\\\n",
    "\\end{bmatrix}\n",
    "}_{\\mathbf{C} \\text{  3 rows} \\text{  1 column1}}\n",
    "\\end{equation*}"
   ]
  },
  {
   "cell_type": "markdown",
   "metadata": {
    "slideshow": {
     "slide_type": "subslide"
    }
   },
   "source": [
    "\\begin{equation*}\n",
    "\\underbrace{\n",
    "\\begin{bmatrix}\n",
    "1 & 2 & 3 \\\\\n",
    "4 & 5 & 6 \\\\\n",
    "7 & 8 & 9 \\\\\n",
    "\\end{bmatrix}\n",
    "}_{\\mathbf{A} \\text{ 3 rows} \\text{ 3 columns}}\n",
    "\\cdot\n",
    "\\underbrace{\n",
    "\\begin{bmatrix}\n",
    "10 \\\\\n",
    "20 \\\\\n",
    "30 \\\\\n",
    "\\end{bmatrix}\n",
    "}_{\\mathbf{B} \\text{  3 rows} \\text{  1 column}}\n",
    "=\\underbrace{\n",
    "\\begin{bmatrix}\n",
    "1 \\cdot 10 \\quad + \\quad 2 \\cdot 20 \\quad + \\quad 3 \\cdot 30 \\\\\n",
    "4 \\cdot 10 \\quad + \\quad 5 \\cdot 20 \\quad + \\quad 6 \\cdot 30 \\\\\n",
    "7 \\cdot 10 \\quad + \\quad 8 \\cdot 20 \\quad + \\quad 9 \\cdot 30 \\\\\n",
    "\\end{bmatrix}\n",
    "}_{\\mathbf{C} \\text{  3 rows} \\text{  1 column}}\n",
    "=\\underbrace{\n",
    "\\begin{bmatrix}\n",
    "140 \\\\\n",
    "320 \\\\\n",
    "500 \\\\\n",
    "\\end{bmatrix}\n",
    "}_{\\mathbf{C} \\text{  3 rows} \\text{  1 column1}}\n",
    "\\end{equation*}\n",
    "\n",
    "Matrix $\\mathbf{C}$ therefore has: \n",
    "- the same number of __rows__ as $\\mathbf{A}$,\n",
    "- the same number of __columns__ as $\\mathbf{B}$."
   ]
  },
  {
   "cell_type": "code",
   "execution_count": 22,
   "metadata": {
    "slideshow": {
     "slide_type": "subslide"
    }
   },
   "outputs": [
    {
     "name": "stdout",
     "output_type": "stream",
     "text": [
      "[140 320 500]\n"
     ]
    }
   ],
   "source": [
    "# In the equation above, vector B must be represented as a column vector\n",
    "A = np.array([[1, 2, 3], \n",
    "              [4, 5, 6],\n",
    "              [7, 8, 9]])\n",
    "\n",
    "\n",
    "# In Python, 1D arrays are ALWAYS represented horizontally \n",
    "# This does not define the array as a row vector\n",
    "B = np.array([10, 20, 30])\n",
    "\n",
    "\n",
    "# For example, C is represented horizontally \n",
    "C = np.dot(A,B)\n",
    "print(C)\n"
   ]
  },
  {
   "cell_type": "markdown",
   "metadata": {
    "slideshow": {
     "slide_type": "subslide"
    }
   },
   "source": [
    "As an example, if $\\mathbf{B}$ were a row vector: \n",
    "\n",
    "\\begin{equation*}\n",
    "\\underbrace{\n",
    "\\begin{bmatrix}\n",
    "1 & 2 & 3 \\\\\n",
    "4 & 5 & 6 \\\\\n",
    "7 & 8 & 9 \\\\\n",
    "\\end{bmatrix}\n",
    "}_{\\mathbf{A} \\text{ 3 rows} \\text{ 3 columns}}\n",
    "\\cdot\n",
    "\\underbrace{\n",
    "\\begin{bmatrix}\n",
    "10 & 20 & 30 \\\\\n",
    "\\end{bmatrix}\n",
    "}_{\\mathbf{B} \\text{  1 row} \\text{  3 columns}}\n",
    "\\end{equation*}\n",
    "\n",
    "We *cannot* find the dot product $\\mathbf{B}\\cdot\\mathbf{A}$.\n",
    "<br>The number of columns in $\\mathbf{A}$ __is not__ the same as number of rows in $\\mathbf{B}$."
   ]
  },
  {
   "cell_type": "markdown",
   "metadata": {
    "slideshow": {
     "slide_type": "subslide"
    }
   },
   "source": [
    "We can swap the order of $\\mathbf{A}$ and $\\mathbf{B}$.\n",
    "<br>The multiplication is now possible.\n",
    "<br>However, the outcome is different.\n",
    "\n",
    "\n",
    "\\begin{equation*}\n",
    "\\underbrace{\n",
    "\\begin{bmatrix}\n",
    "10 & 20 & 30 \\\\\n",
    "\\end{bmatrix}\n",
    "}_{\\mathbf{B} \\text{ 1 row} \\text{ 3 columns}}\n",
    "\\cdot\n",
    "\\underbrace{\n",
    "\\begin{bmatrix}\n",
    "\\color{red}1 & \\color{blue}2 & \\color{green}3 \\\\\n",
    "\\color{red}4 & \\color{blue}5 & \\color{green}6 \\\\\n",
    "\\color{red}7 & \\color{blue}8 & \\color{green}9 \\\\\n",
    "\\end{bmatrix}\n",
    "}_{\\mathbf{A} \\text{  3 rows} \\text{  3 columns}}\n",
    "=\\underbrace{\n",
    "\\begin{bmatrix}\n",
    "\\color{red}{10 \\cdot 1 + 20 \\cdot 4 + 30 \\cdot 7} &\n",
    "\\color{blue}{4 \\cdot 10 + 5 \\cdot 20 + 6 \\cdot 30} &\n",
    "\\color{green}{7 \\cdot 10 + 8 \\cdot 20 + 9 \\cdot 30} \\\\\n",
    "\\end{bmatrix}\n",
    "}_{\\mathbf{C} \\text{  1 row} \\text{  3 columns}}\n",
    "=\\underbrace{\n",
    "\\begin{bmatrix}\n",
    "\\color{red}{140} &\n",
    "\\color{blue}{320} &\n",
    "\\color{green}{500} \\\\\n",
    "\\end{bmatrix}\n",
    "}_{\\mathbf{C} \\text{  3 rows} \\text{  1 column1}}\n",
    "\\end{equation*}"
   ]
  },
  {
   "cell_type": "markdown",
   "metadata": {
    "slideshow": {
     "slide_type": "subslide"
    }
   },
   "source": [
    "In Python, normal matrix multiplication rules apply to 2D arrays.\n",
    "<br>This holds even if the length of one of the dimensions of the 2D array is equal to 1.\n",
    "\n"
   ]
  },
  {
   "cell_type": "code",
   "execution_count": 23,
   "metadata": {},
   "outputs": [
    {
     "name": "stdout",
     "output_type": "stream",
     "text": [
      "[[300 360 420]]\n",
      "[[140]\n",
      " [320]\n",
      " [500]]\n"
     ]
    }
   ],
   "source": [
    "A = np.array([[1, 2, 3], \n",
    "              [4, 5, 6],\n",
    "              [7, 8, 9]])\n",
    "\n",
    "# 2D array\n",
    "X = np.array([[10, 20, 30]])\n",
    "\n",
    "# 2D array\n",
    "Y = np.array([[10],\n",
    "              [20], \n",
    "              [30]])\n",
    "\n",
    "print(np.dot(X, A)) #, print(np.dot(A, X))\n",
    "print(np.dot(A, Y)) #, print(np.dot(Y, A))"
   ]
  },
  {
   "cell_type": "markdown",
   "metadata": {
    "slideshow": {
     "slide_type": "subslide"
    }
   },
   "source": [
    "However, the orientation with which 1D arrays are shown (always horizontal) does not impact their allowbale placement in an expression. \n",
    "\n",
    "Python will automatially treat the 1D as a column where appropriate."
   ]
  },
  {
   "cell_type": "code",
   "execution_count": 24,
   "metadata": {
    "slideshow": {
     "slide_type": "-"
    }
   },
   "outputs": [
    {
     "name": "stdout",
     "output_type": "stream",
     "text": [
      "[300 360 420]\n",
      "[140 320 500]\n"
     ]
    }
   ],
   "source": [
    "A = np.array([[1, 2, 3], \n",
    "              [4, 5, 6],\n",
    "              [7, 8, 9]])\n",
    "\n",
    "# 1D array\n",
    "Z = np.array([10, 20, 30])\n",
    "\n",
    "print(np.dot(Z, A))\n",
    "print(np.dot(A, Z))"
   ]
  },
  {
   "cell_type": "markdown",
   "metadata": {
    "slideshow": {
     "slide_type": "slide"
    }
   },
   "source": [
    "## Useful Matrix Operations\n",
    "<a id='UsefulMatrixOperations'></a>"
   ]
  },
  {
   "cell_type": "markdown",
   "metadata": {
    "slideshow": {
     "slide_type": "subslide"
    }
   },
   "source": [
    "#### Inverse of a square matrix"
   ]
  },
  {
   "cell_type": "code",
   "execution_count": 25,
   "metadata": {
    "slideshow": {
     "slide_type": "-"
    }
   },
   "outputs": [
    {
     "name": "stdout",
     "output_type": "stream",
     "text": [
      "A = \n",
      " [[1 2]\n",
      " [3 4]]\n",
      "Inverse of A = \n",
      " [[-2.   1. ]\n",
      " [ 1.5 -0.5]]\n"
     ]
    }
   ],
   "source": [
    "A = np.array([[1,2], \n",
    "              [3, 4]]) \n",
    "\n",
    "Ainv = np.linalg.inv(A)\n",
    "\n",
    "print(f\"A = \\n {A}\")\n",
    "print(f\"Inverse of A = \\n {Ainv}\")"
   ]
  },
  {
   "cell_type": "markdown",
   "metadata": {
    "slideshow": {
     "slide_type": "subslide"
    }
   },
   "source": [
    "#### Determinant of a square matrix"
   ]
  },
  {
   "cell_type": "code",
   "execution_count": 26,
   "metadata": {},
   "outputs": [
    {
     "name": "stdout",
     "output_type": "stream",
     "text": [
      "A = \n",
      " [[1 2]\n",
      " [3 4]]\n",
      "Determinant of A = -2.0\n"
     ]
    }
   ],
   "source": [
    "A = np.array([[1,2], \n",
    "              [3, 4]]) \n",
    "\n",
    "Adet = np.linalg.det(A)\n",
    "\n",
    "print(f\"A = \\n {A}\")\n",
    "print(f\"Determinant of A = {round(Adet, 2)}\")"
   ]
  },
  {
   "cell_type": "markdown",
   "metadata": {
    "slideshow": {
     "slide_type": "subslide"
    }
   },
   "source": [
    "#### Transpose of a matrix\n",
    "\n",
    "- The columns of the transpose matrix are the rows of the original matrix.\n",
    "- The rows of the transopse matrix are the columns of the original matrix.  "
   ]
  },
  {
   "cell_type": "code",
   "execution_count": 27,
   "metadata": {},
   "outputs": [
    {
     "name": "stdout",
     "output_type": "stream",
     "text": [
      "[[0. 0. 0. 0.]\n",
      " [0. 0. 0. 0.]]\n",
      "\n",
      "[[0. 0.]\n",
      " [0. 0.]\n",
      " [0. 0.]\n",
      " [0. 0.]]\n",
      "\n",
      "[[0. 0.]\n",
      " [0. 0.]\n",
      " [0. 0.]\n",
      " [0. 0.]]\n"
     ]
    }
   ],
   "source": [
    "a = np.zeros((2,4))\n",
    "print(a)\n",
    "print()\n",
    "\n",
    "\n",
    "print(a.T)\n",
    "print()\n",
    "\n",
    "#or \n",
    "\n",
    "print(np.transpose(a))"
   ]
  },
  {
   "cell_type": "markdown",
   "metadata": {
    "slideshow": {
     "slide_type": "subslide"
    }
   },
   "source": [
    "#### Generate Identity Matrix"
   ]
  },
  {
   "cell_type": "code",
   "execution_count": 28,
   "metadata": {
    "scrolled": true
   },
   "outputs": [
    {
     "name": "stdout",
     "output_type": "stream",
     "text": [
      "[[1. 0.]\n",
      " [0. 1.]]\n",
      "\n",
      "[[1. 0. 0. 0.]\n",
      " [0. 1. 0. 0.]\n",
      " [0. 0. 1. 0.]\n",
      " [0. 0. 0. 1.]]\n"
     ]
    }
   ],
   "source": [
    "I = np.eye(2)\n",
    "print(I)\n",
    "\n",
    "print()\n",
    "\n",
    "I = np.eye(4)\n",
    "print(I)"
   ]
  },
  {
   "cell_type": "markdown",
   "metadata": {
    "slideshow": {
     "slide_type": "slide"
    }
   },
   "source": [
    "## Systems of Ordinary Differential Equations \n",
    "<a id='SystemsOrdinaryDifferentialEquations '></a>\n",
    "`odeint` can also be used to solve *systems* of coupled differential equations. \n",
    "\n"
   ]
  },
  {
   "cell_type": "markdown",
   "metadata": {
    "slideshow": {
     "slide_type": "slide"
    }
   },
   "source": [
    "### Example : Migration problem\n",
    "A well known problem concerns an imaginary country with three cities, A, B and C. \n",
    "<br>At the end of each year, a fraction, $n$ of the people must leave each city.\n",
    "<br>Half of the people leaving a city move to one of the two options, and half to the other.\n",
    "\n",
    "<img src=\"img/cities3.png\" alt=\"Drawing\" style=\"width: 400px;\"/> "
   ]
  },
  {
   "cell_type": "markdown",
   "metadata": {
    "slideshow": {
     "slide_type": "slide"
    }
   },
   "source": [
    "This gives us a system of simultaneous equations\n",
    "\n",
    "\\begin{align*}\n",
    "\\Delta A = \\frac{Bn}{2} + \\frac{Cn}{2} - An \\\\\n",
    "\\Delta B = \\frac{An}{2} + \\frac{Cn}{2} - Bn\\\\\n",
    "\\Delta C = \\frac{An}{2} + \\frac{Bn}{2} -Cn \\\\\n",
    "\\end{align*}\n",
    "\n",
    "\n"
   ]
  },
  {
   "cell_type": "markdown",
   "metadata": {
    "slideshow": {
     "slide_type": "slide"
    }
   },
   "source": [
    "Matrices are a convenient way to represent this problem.  "
   ]
  },
  {
   "cell_type": "markdown",
   "metadata": {
    "slideshow": {
     "slide_type": "subslide"
    }
   },
   "source": [
    "\\begin{equation*}\n",
    "\\begin{bmatrix}\n",
    "\\Delta A \\\\\n",
    "\\Delta B \\\\\n",
    "\\Delta C \\\\\n",
    "\\end{bmatrix}\n",
    "=\n",
    "\\underbrace{\n",
    "\\begin{bmatrix}\n",
    "-n & \\frac{n}{2} & \\frac{n}{2} \\\\\n",
    "\\frac{n}{2} & -n & \\frac{n}{2} \\\\\n",
    "\\frac{n}{2} & \\frac{n}{2} & -n \\\\\n",
    "\\end{bmatrix}\n",
    "}_{\\mathbf{migration}}\n",
    "\\cdot\n",
    "\\underbrace{\n",
    "\\begin{bmatrix}\n",
    "A \\\\\n",
    "B \\\\\n",
    "C \\\\\n",
    "\\end{bmatrix}\n",
    "}_{\\mathbf{population}}\n",
    "\\end{equation*}\n",
    "\n"
   ]
  },
  {
   "cell_type": "markdown",
   "metadata": {
    "slideshow": {
     "slide_type": "slide"
    }
   },
   "source": [
    "Let's use variable names $\\mathbf{M}$ and $\\mathbf{P}$."
   ]
  },
  {
   "cell_type": "markdown",
   "metadata": {},
   "source": [
    "\\begin{equation*}\n",
    "\\begin{bmatrix}\n",
    "\\Delta a \\\\\n",
    "\\Delta b \\\\\n",
    "\\Delta c \\\\\n",
    "\\end{bmatrix}\n",
    "=\n",
    "\\underbrace{\n",
    "\\begin{bmatrix}\n",
    "-0.2 & 0.1 & 0.1 \\\\\n",
    "0.1 & -0.2 & 0.1 \\\\\n",
    "0.1 & 0.1 & -0.2 \\\\\n",
    "\\end{bmatrix}\n",
    "}_{\\mathbf{M}}\n",
    "\\cdot\n",
    "\\underbrace{\n",
    "\\begin{bmatrix}\n",
    "A \\\\\n",
    "B \\\\\n",
    "C \\\\\n",
    "\\end{bmatrix}\n",
    "}_{\\mathbf{P}}\n",
    "\\end{equation*}\n",
    "\n"
   ]
  },
  {
   "cell_type": "markdown",
   "metadata": {
    "slideshow": {
     "slide_type": "slide"
    }
   },
   "source": [
    "We can use `odeint` to solve coupled first order ordinary differential equations simultaneously (systems of ODEs)."
   ]
  },
  {
   "cell_type": "markdown",
   "metadata": {
    "slideshow": {
     "slide_type": "slide"
    }
   },
   "source": [
    "First create matrix $\\mathbf{M}$:"
   ]
  },
  {
   "cell_type": "code",
   "execution_count": 29,
   "metadata": {},
   "outputs": [
    {
     "name": "stdout",
     "output_type": "stream",
     "text": [
      "[[-0.02  0.01  0.01]\n",
      " [ 0.01 -0.02  0.01]\n",
      " [ 0.01  0.01 -0.02]]\n"
     ]
    }
   ],
   "source": [
    "import numpy as np\n",
    "M = np.full((3, 3), 0.01)\n",
    "np.fill_diagonal(M, -0.02)\n",
    "print(M)\n"
   ]
  },
  {
   "cell_type": "markdown",
   "metadata": {
    "slideshow": {
     "slide_type": "slide"
    }
   },
   "source": [
    "The initial value variable is a list.\n",
    "\n",
    "Note, the values are input as a single data structure.\n",
    "\n",
    "The elements are the initial populations $A$, $B$, and $C$."
   ]
  },
  {
   "cell_type": "code",
   "execution_count": 30,
   "metadata": {
    "slideshow": {
     "slide_type": "slide"
    }
   },
   "outputs": [],
   "source": [
    "# Initial population\n",
    "P0 = np.array([190.0, 500.0, 30.0])\n"
   ]
  },
  {
   "cell_type": "markdown",
   "metadata": {
    "slideshow": {
     "slide_type": "slide"
    }
   },
   "source": [
    "Timespan over which to evaluate the change in population:"
   ]
  },
  {
   "cell_type": "code",
   "execution_count": 31,
   "metadata": {},
   "outputs": [],
   "source": [
    "# Time steps to evaluate\n",
    "tspan = np.arange(0, 150)\n"
   ]
  },
  {
   "cell_type": "markdown",
   "metadata": {
    "slideshow": {
     "slide_type": "slide"
    }
   },
   "source": [
    "The change in population is the dot product (or matrix product) of matrix $\\mathbf{M}$, and the current populations, matrix $\\mathbf{P}$.\n",
    "\n",
    "Therefore the inputs to the function are:\n",
    "- current population (matrix $\\mathbf{P}$)\n",
    "- timespan to investigate\n",
    "- matrix $\\mathbf{M}$\n",
    "\n",
    "The function should output the __rate of change of each variable__ as a __single list__."
   ]
  },
  {
   "cell_type": "code",
   "execution_count": 32,
   "metadata": {
    "scrolled": true,
    "slideshow": {
     "slide_type": "-"
    }
   },
   "outputs": [],
   "source": [
    "def dP_dt(P, t, M):\n",
    "    \n",
    "    dP_dt = np.dot(P, M)\n",
    "    \n",
    "    return [dP_dt[0], \n",
    "            dP_dt[1], \n",
    "            dP_dt[2]]\n",
    "\n"
   ]
  },
  {
   "cell_type": "markdown",
   "metadata": {
    "slideshow": {
     "slide_type": "slide"
    }
   },
   "source": [
    "We run the `odeint` solver as before. \n",
    "<br>Inputs:\n",
    "- function\n",
    "- initial condition\n",
    "- timespan\n",
    "- additional arguments to function (matrix $\\mathbf{M}$)"
   ]
  },
  {
   "cell_type": "code",
   "execution_count": 33,
   "metadata": {},
   "outputs": [],
   "source": [
    "Ps = odeint(dP_dt, P0, tspan, args=(M,))\n"
   ]
  },
  {
   "cell_type": "markdown",
   "metadata": {
    "slideshow": {
     "slide_type": "slide"
    }
   },
   "source": [
    "As before, the output is retured as a vector, each time, there is one vector for each population."
   ]
  },
  {
   "cell_type": "code",
   "execution_count": 34,
   "metadata": {},
   "outputs": [
    {
     "name": "stdout",
     "output_type": "stream",
     "text": [
      "[[190.         500.          30.        ]\n",
      " [191.47772343 492.31583817  36.2064384 ]\n",
      " [192.91177343 484.85877818  42.22944839]\n",
      " [194.30344084 477.62210765  48.07445151]\n",
      " [195.65397826 470.59931305  53.74670869]]\n"
     ]
    }
   ],
   "source": [
    "# first 5 rows of Ps\n",
    "print(Ps[:5, :])\n"
   ]
  },
  {
   "cell_type": "code",
   "execution_count": 35,
   "metadata": {
    "slideshow": {
     "slide_type": "slide"
    }
   },
   "outputs": [
    {
     "data": {
      "image/png": "[encoded data removed]",
      "text/plain": [
       "<Figure size 432x288 with 1 Axes>"
      ]
     },
     "metadata": {},
     "output_type": "display_data"
    }
   ],
   "source": [
    "plt.plot(tspan, Ps[:,0], label=\"A\")\n",
    "plt.plot(tspan, Ps[:,1], label=\"B\")\n",
    "plt.plot(tspan, Ps[:,2], label=\"C\")\n",
    "plt.xlabel(\"Time\")\n",
    "plt.ylabel(\"Population\")\n",
    "plt.legend();\n"
   ]
  },
  {
   "cell_type": "markdown",
   "metadata": {
    "slideshow": {
     "slide_type": "slide"
    }
   },
   "source": []
  },
  {
   "cell_type": "markdown",
   "metadata": {
    "slideshow": {
     "slide_type": "slide"
    }
   },
   "source": [
    "We can check the solution by iteratively solving the equations over each time step using a `for` loop:"
   ]
  },
  {
   "cell_type": "code",
   "execution_count": 36,
   "metadata": {
    "slideshow": {
     "slide_type": "-"
    }
   },
   "outputs": [],
   "source": [
    "def dP_dt_manual(P, t, M):\n",
    "    \"Returns a vector of the population change over time t\"\n",
    "    \n",
    "    # make 2D array to store population per timestep\n",
    "    dPdt = P\n",
    "    for time in t[:-1]:\n",
    "        \n",
    "        # Increment population \n",
    "        P = P + np.dot(P, M)\n",
    "        \n",
    "        # Store population\n",
    "        dPdt = np.vstack((dPdt, P))\n",
    "        \n",
    "    return dPdt\n",
    "        \n",
    "dPdt = dP_dt_manual(P0, tspan, M) \n"
   ]
  },
  {
   "cell_type": "markdown",
   "metadata": {
    "slideshow": {
     "slide_type": "slide"
    }
   },
   "source": [
    "Now we can plot the manually computed solution on top of the numerical approximation using `odeint`:"
   ]
  },
  {
   "cell_type": "code",
   "execution_count": 37,
   "metadata": {
    "scrolled": false
   },
   "outputs": [
    {
     "data": {
      "image/png": "[encoded data removed]",
      "text/plain": [
       "<Figure size 432x288 with 1 Axes>"
      ]
     },
     "metadata": {},
     "output_type": "display_data"
    }
   ],
   "source": [
    "# Numerical Appproximation\n",
    "plt.plot(tspan, Ps[:,0], label=\"A\")\n",
    "plt.plot(tspan, Ps[:,1], label=\"B\")\n",
    "plt.plot(tspan, Ps[:,2], label=\"C\")\n",
    "\n",
    "plt.plot(tspan, dPdt[:,0], ':', label=\"A\")\n",
    "plt.plot(tspan, dPdt[:,1], ':', label=\"B\")\n",
    "plt.plot(tspan, dPdt[:,2], ':', label=\"C\")\n",
    "\n",
    "plt.xlabel(\"Years\")\n",
    "plt.ylabel(\"Population\")\n",
    "plt.legend();"
   ]
  },
  {
   "cell_type": "markdown",
   "metadata": {
    "slideshow": {
     "slide_type": "slide"
    }
   },
   "source": [
    "## Interactive Plots\n",
    "<a id='InteractivePlots'></a>\n",
    "Interactive plots allow us to dynamically observe the influence that changing different parameters has on an output.\n",
    "\n",
    "To produce animated plots, we first need to install a program, FFmpeg,  for handling multimedia data.\n",
    "\n",
    "Follow the instructions below to install ffmpeg:"
   ]
  },
  {
   "cell_type": "markdown",
   "metadata": {},
   "source": [
    "### Installing FFmpeg \n",
    "<a id='InstallingFFmpeg'></a>"
   ]
  },
  {
   "cell_type": "markdown",
   "metadata": {
    "slideshow": {
     "slide_type": "slide"
    }
   },
   "source": [
    "###### Installing FFmpeg on mac\n",
    "Open a terminal.\n",
    "Copy and paste the following command into the terminal to install homebrew (a linux-like package manager): \n",
    ">`ruby -e \"$(curl -fsSL https://raw.githubusercontent.com/Homebrew/install/master/install)\"`\n",
    "\n",
    "Press 'Enter' to install and enter your password when prompted.\n",
    "\n",
    "Copy and paste the following command into the terminal to install FFmpeg: \n",
    ">`brew install ffmpeg` \n",
    "\n",
    "To check ffmpeg has installed copy and paste the following command into the terminal:\n",
    ">`ffmpeg -version`\n",
    "\n",
    "If FFmpeg has installed a few lines of code will appear, starting with the version number which will be something like:\n",
    ">`ffmpeg version 3.4 Copyright (c) 2000-2017 `\n",
    "\n"
   ]
  },
  {
   "cell_type": "markdown",
   "metadata": {
    "collapsed": true,
    "slideshow": {
     "slide_type": "slide"
    }
   },
   "source": [
    "###### Installing FFmpeg on linux\n",
    "Open a terminal.\n",
    "Copy and paste the following commands into the terminal (one-by-one, pressing enter after one) to install ffmpeg: \n",
    ">`sudo add-apt-repository ppa:kirillshkrogalev/ffmpeg-next\n",
    "sudo apt-get update\n",
    "sudo apt-get install ffmpeg`\n",
    "\n",
    "To check ffmpeg has installed copy and paste the following command into the terminal:\n",
    ">`ffmpeg -version`\n",
    "\n",
    "If FFmpeg has installed a few lines of code will appear, starting with the version number which will be something like:\n",
    ">`ffmpeg version 3.4 Copyright (c) 2000-2017 `\n",
    "\n",
    "\n",
    "\n"
   ]
  },
  {
   "cell_type": "markdown",
   "metadata": {
    "slideshow": {
     "slide_type": "slide"
    }
   },
   "source": [
    "###### Installing FFmpeg on  windows\n",
    "\n",
    "Open a terminal.\n",
    "\n",
    "To find out what version of windows you have, copy and paste the following command into the terminal to see if your computer has a 32 or 64 bit CPU:\n",
    ">`wmic os get osarchitecture`\n",
    "\n",
    "Go to ffmpeg.zeranoe.com/builds/ \n",
    " - Click the appropraite __Architecture__ for your computer.\n",
    " - Click Static __Linking__\n",
    " - Leave __Version__ as the default.\n",
    " - Click __Download Build__\n",
    "\n",
    "Go to your computer's Downloads folder.\n",
    " - Right click on the newly downloaded .zip folder (it's name will start with `ffmpeg`).\n",
    " - Choose __Extract All__ from the drop-down menu.\n",
    " - If given the option to choose a location to extract the files to, choose your Program Files folder.<br>Otherwise, a non-.zip folder of the same name as the one you downloaded will appear in the Downloads folder. <br>Copy the folder to your Program Files folder.\n",
    " - Change rename of the folder you just copied into Program Files with the name:\n",
    " <br>`ffmpeg`\n",
    " \n",
    "Go back to the terminal and copy and paste the following command into the terminal to add ffmpeg to the windows path: \n",
    ">`PATH=C:\\Program Files\\ffmpeg\\bin;%PATH%`\n",
    "\n",
    "...or...\n",
    "\n",
    ">`PATH=C:¥Program Files¥ffmpeg¥bin;%PATH%` \n",
    "\n",
    "\n",
    "To check ffmpeg has installed copy and paste the following command into the terminal:\n",
    ">`ffmpeg -version`\n",
    "\n",
    "If FFmpeg has installed a few lines of code will appear, starting with the version number which will be something like:\n",
    ">`ffmpeg version 3.4 Copyright (c) 2000-2017 `\n",
    "\n",
    "\n",
    "Check that ffmpeg is available for use in your program by running the following two lines:"
   ]
  },
  {
   "cell_type": "code",
   "execution_count": null,
   "metadata": {},
   "outputs": [],
   "source": [
    "import matplotlib.animation\n",
    "print(matplotlib.animation.writers.list())"
   ]
  },
  {
   "cell_type": "markdown",
   "metadata": {},
   "source": [
    "## Troubleshooting\n",
    "\n",
    "### If ffmpeg cannot be found...\n",
    "\n",
    "Try running the following line in the __Anaconda terminal__. \n",
    "\n",
    ">`conda install -c menpo ffmpeg `\n",
    "\n",
    "Again run the cell above:\n",
    "\n",
    "        import matplotlib.animation\n",
    "        print(matplotlib.animation.writers.list())\n",
    "\n",
    "### If ffmpeg *still* cannot be found... \n",
    "Try manually installing the programusing the step-by-step instructions shown here: https://video.stackexchange.com/questions/20495/how-do-i-set-up-and-use-ffmpeg-in-windows"
   ]
  },
  {
   "cell_type": "markdown",
   "metadata": {
    "slideshow": {
     "slide_type": "slide"
    }
   },
   "source": [
    "As a simple example, we will plot\n",
    "\n",
    "$$\n",
    "f(t) = t^{\\alpha} \\sin(\\omega t)\n",
    "$$\n",
    "\n",
    "- independent variable, $t$\n",
    "- dependent variable, $f(t)$\n",
    "- input parameters, $\\alpha$ and $\\omega$\n",
    "\n",
    "We will create two sliders allowing us to change the value of $\\alpha$ and $\\omega$ *interactively*.\n",
    "\n",
    "We can observe the resulting change in $f(t)$ dynamically."
   ]
  },
  {
   "cell_type": "markdown",
   "metadata": {
    "slideshow": {
     "slide_type": "slide"
    }
   },
   "source": [
    "Interactive plots be can created using Python module `ipywidgets`. \n",
    "\n",
    "Run the following cell to install `ipywidgets`\n",
    "\n"
   ]
  },
  {
   "cell_type": "code",
   "execution_count": 38,
   "metadata": {
    "slideshow": {
     "slide_type": "-"
    }
   },
   "outputs": [],
   "source": [
    "try:\n",
    "    import ipywidgets\n",
    "except ImportError:\n",
    "    try:\n",
    "        !{sys.executable} -m pip -q install ipywidgets\n",
    "        import ipywidgets\n",
    "    except ImportError:\n",
    "        !{sys.executable} -m pip -q --user install ipywidgets\n",
    "    finally:\n",
    "        !jupyter nbextension enable --py widgetsnbextension\n",
    "        print(\"You will need to refresh your browser page\")        \n",
    "from ipywidgets import interact\n"
   ]
  },
  {
   "cell_type": "markdown",
   "metadata": {
    "slideshow": {
     "slide_type": "slide"
    }
   },
   "source": [
    "$$\n",
    "f(t) = t^{\\alpha} \\sin(\\omega t)\n",
    "$$\n",
    "\n",
    "Let's assign arbitrary values  $\\alpha = 0$ and $\\omega =1 $\n",
    "\n",
    "Start by plotting $f(t)$ against $t$ as usual.\n",
    "\n",
    "\n",
    "\n",
    "*(To generate symbols α or ω type `\\omega` or `\\alpha`, pressing  `Tab` key at the end.)*"
   ]
  },
  {
   "cell_type": "code",
   "execution_count": 39,
   "metadata": {},
   "outputs": [
    {
     "data": {
      "text/plain": [
       "Text(0.5,1,'$α$ = 0, $ω$ = 1')"
      ]
     },
     "execution_count": 39,
     "metadata": {},
     "output_type": "execute_result"
    },
    {
     "data": {
      "image/png": "[encoded data removed]",
      "text/plain": [
       "<Figure size 432x288 with 1 Axes>"
      ]
     },
     "metadata": {},
     "output_type": "display_data"
    }
   ],
   "source": [
    "\n",
    "α, ω = 0, 1\n",
    "t = np.linspace(0, 2*np.pi, 200)  \n",
    "\n",
    "plt.plot(t, (t**α)*np.sin(ω*t))\n",
    "\n",
    "plt.xlabel('$t$')\n",
    "plt.ylabel('$f$')\n",
    "plt.title(f\"$α$ = {α}, $ω$ = {ω}\")\n"
   ]
  },
  {
   "cell_type": "markdown",
   "metadata": {
    "slideshow": {
     "slide_type": "slide"
    }
   },
   "source": [
    "Next encasulate the code to generate the plot within a function.\n",
    "\n",
    "The parameters we want to vary are given as function arguments.\n",
    "\n",
    "The default values are the values used in the previous example.\n",
    "\n"
   ]
  },
  {
   "cell_type": "code",
   "execution_count": 40,
   "metadata": {},
   "outputs": [],
   "source": [
    "def plot(α=0, ω=1):\n",
    "    \"A plot of the function f(t)= (t**α)*np.sin(ω*t)\"\n",
    "    t = np.linspace(0, 2*np.pi, 200)  \n",
    "    \n",
    "    plt.plot(t, (t**α)*np.sin(ω*t))\n",
    "    \n",
    "    plt.xlabel('$t$')\n",
    "    plt.ylabel('$f$')\n",
    "    plt.title(r\"$\\alpha$ = {}, $\\omega$ = {}\".format(α, ω))\n",
    "    "
   ]
  },
  {
   "cell_type": "markdown",
   "metadata": {
    "slideshow": {
     "slide_type": "slide"
    }
   },
   "source": [
    "The `interact` function, takes the following arguments:\n",
    "- the plotting function \n",
    "- a tuple for each variable parameter:\n",
    " - maximum value (inclusive) \n",
    " - minimum value (inclusive) \n",
    " - step size between each possible value"
   ]
  },
  {
   "cell_type": "code",
   "execution_count": 41,
   "metadata": {},
   "outputs": [
    {
     "data": {
      "application/vnd.jupyter.widget-view+json": {
       "model_id": "992fe448715b4d61bc8af1d346d3a317",
       "version_major": 2,
       "version_minor": 0
      },
      "text/html": [
       "<p>Failed to display Jupyter Widget of type <code>interactive</code>.</p>\n",
       "<p>\n",
       "  If you're reading this message in the Jupyter Notebook or JupyterLab Notebook, it may mean\n",
       "  that the widgets JavaScript is still loading. If this message persists, it\n",
       "  likely means that the widgets JavaScript library is either not installed or\n",
       "  not enabled. See the <a href=\"https://ipywidgets.readthedocs.io/en/stable/user_install.html\">Jupyter\n",
       "  Widgets Documentation</a> for setup instructions.\n",
       "</p>\n",
       "<p>\n",
       "  If you're reading this message in another frontend (for example, a static\n",
       "  rendering on GitHub or <a href=\"https://nbviewer.jupyter.org/\">NBViewer</a>),\n",
       "  it may mean that your frontend doesn't currently support widgets.\n",
       "</p>\n"
      ],
      "text/plain": [
       "interactive(children=(FloatSlider(value=0.0, description='α', max=2.0, step=0.25), FloatSlider(value=1.0, description='ω', max=10.0, min=-10.0, step=0.25), Output()), _dom_classes=('widget-interact',))"
      ]
     },
     "metadata": {},
     "output_type": "display_data"
    }
   ],
   "source": [
    "interact(plot, α=(0, 2, 0.25), ω=(-10, 10, 0.25));\n"
   ]
  },
  {
   "cell_type": "markdown",
   "metadata": {},
   "source": [
    "You can now adjust the values by moving the sliders.\n",
    "\n",
    "The new values appear as the title to the plot."
   ]
  },
  {
   "cell_type": "markdown",
   "metadata": {
    "slideshow": {
     "slide_type": "slide"
    }
   },
   "source": [
    "## Animated Plots\n",
    "<a id='AnimatedPlots'></a>\n",
    "Plotting can be a very useful way to visualise what is happening in a dynamic physical system. \n",
    "\n",
    "Matplotlib can be used to create animated plots showing the change in a system over time."
   ]
  },
  {
   "cell_type": "markdown",
   "metadata": {
    "slideshow": {
     "slide_type": "slide"
    }
   },
   "source": [
    "We will use the `animation` and `rc` subpackages of matplotlib.   \n",
    "\n",
    "\n",
    "We will also use `IPython.display.HTML` to view the animated output within jupyter notebook."
   ]
  },
  {
   "cell_type": "code",
   "execution_count": 42,
   "metadata": {},
   "outputs": [],
   "source": [
    "from matplotlib import animation, rc\n",
    "from IPython.display import HTML\n"
   ]
  },
  {
   "cell_type": "markdown",
   "metadata": {
    "slideshow": {
     "slide_type": "slide"
    }
   },
   "source": [
    "Let's start with a simple example to learn how to build an animation.\n",
    "\n",
    "We will create an animation of a physical model. \n",
    "\n"
   ]
  },
  {
   "cell_type": "markdown",
   "metadata": {
    "slideshow": {
     "slide_type": "slide"
    }
   },
   "source": [
    "The set of steps to build an animated plot is:\n",
    "1. Create a figure window\n",
    "1. Create axes within the window\n",
    "1. Create object(s) to animate e.g. a line or point\n",
    "1. Define an animation function for the change you want to see at each timestep\n",
    "1. Use the function `animation.FuncAnimation` to create your animation and give it a name.\n",
    "1. Call the animation name to play it.\n",
    "1. (Save the animation)"
   ]
  },
  {
   "cell_type": "markdown",
   "metadata": {
    "slideshow": {
     "slide_type": "slide"
    }
   },
   "source": [
    "### Example: Animating a Line\n",
    "#### An Animated Sine Wave. \n",
    "<a id='ExampleAnimatingLine'></a>"
   ]
  },
  {
   "cell_type": "code",
   "execution_count": 44,
   "metadata": {
    "scrolled": false
   },
   "outputs": [
    {
     "data": {
      "image/png": "[encoded data removed]",
      "text/plain": [
       "<matplotlib.figure.Figure at 0x116547a58>"
      ]
     },
     "metadata": {},
     "output_type": "display_data"
    }
   ],
   "source": [
    "import matplotlib.pyplot as plt\n",
    "import numpy as np\n",
    "from matplotlib.animation import FFMpegWriter\n",
    "\n",
    "# 1. Create a figure window. \n",
    "fig = plt.figure()\n",
    "\n",
    "# 2. Creates axes within the window\n",
    "ax = plt.axes(xlim=(0, 2), ylim=(-2, 2))\n",
    "\n",
    "# 3. Empty object (no data points) to animate e.g. a line \n",
    "# Name must end with a `,` comma.  \n",
    "line, = ax.plot([], [], lw=2)\n",
    "\n",
    "# 4. Animation function: called sequentially\n",
    "# i = frame number.\n",
    "# Sine wave generated, phase shift proportional to i\n",
    "def animate(i):\n",
    "    x = np.linspace(0, 2, 1000)\n",
    "    y = np.sin(2 * np.pi * (x - 0.01 * i))\n",
    "    line.set_data(x, y)\n",
    "    # single return arguments should be given as a tuple with one value\n",
    "    return (line,)\n",
    "\n",
    "# 5. Animates the data; \n",
    "# 100 frames\n",
    "# 20ms delay between frames\n",
    "anim = animation.FuncAnimation(fig, animate, frames=100, interval=20)\n",
    "\n",
    "# Set the animation display format to html which the non-Python parts of this notebook are written in.\n",
    "rc('animation', html='html5')\n",
    "\n",
    "# 6. Play the animation \n",
    "#anim\n",
    "\n",
    "# 7. Save the animation as a .mp4 file - if you save the file, it won't play\n",
    "# 15 frames per second\n",
    "# 1800 bits of data processed/stored per second\n",
    "writer = FFMpegWriter(fps=15, metadata=dict(artist='Me'), bitrate=1800) \n",
    "anim.save(\"img/movie.mp4\", writer=writer)\n",
    "# writer = animation.writers['ffmpeg'](fps=15, bitrate=1800)\n",
    "# anim.save('img/sin_movie.mp4', writer=writer)"
   ]
  },
  {
   "cell_type": "markdown",
   "metadata": {},
   "source": [
    "## Truobleshooting\n",
    "\n",
    "If your animation does not save try changing the last two lines in the cell above from:\n",
    "\n",
    "    writer = FFMpegWriter(fps=15, metadata=dict(artist='Me'), bitrate=1800) \n",
    "    anim.save(\"img/movie.mp4\", writer=writer)\n",
    "    \n",
    "to:\n",
    "\n",
    "    writer = animation.writers['ffmpeg'](fps=15, bitrate=1800)\n",
    "    anim.save('img/sin_movie.mp4', writer=writer)\n",
    "    \n",
    "(These two lines are currently commented out at the end of the cell)."
   ]
  },
  {
   "cell_type": "markdown",
   "metadata": {},
   "source": [
    "When returning a single argument (e.g. `line`) it is returned as a tuple with one value i.e. `(line, )`."
   ]
  },
  {
   "cell_type": "markdown",
   "metadata": {
    "slideshow": {
     "slide_type": "slide"
    }
   },
   "source": [
    "### Example : Simulating Physical Systems\n",
    "#### Spring-Mass System\n",
    "<a id='ExampleSpringMassSystem'></a>\n",
    "If you are studying an engineering-related subject, you will most likely study simple harmonic motion; a type of periodic motion or oscillation motion.\n",
    "\n",
    "For this oscillation to happen, the restoring force is:\n",
    "- directly proportional to the displacement\n",
    "- in the direction opposite to the displacement.\n",
    "\n",
    "\n",
    "\n"
   ]
  },
  {
   "cell_type": "markdown",
   "metadata": {
    "slideshow": {
     "slide_type": "slide"
    }
   },
   "source": [
    "A typical example of this is a mass attached to a spring.\n",
    "\n",
    "<img src=\"img/spring_mass_system.gif\" alt=\"Drawing\" style=\"width: 500px;\"/>\n",
    "\n"
   ]
  },
  {
   "cell_type": "markdown",
   "metadata": {
    "slideshow": {
     "slide_type": "slide"
    }
   },
   "source": [
    "If we assume that:\n",
    " - the spring is ideal (it has no weight, mass, or damping losses)\n",
    " - there is no friction \n",
    " \n",
    "we can use a simple equation to give the position of the mass, $x$, as a function of time, $t$:\n",
    "\n",
    "$x(t) = A cos(\\omega t - \\phi)$ \n",
    "\n",
    "where:\n",
    "<br>$A$: Maximum amplitude (displacment from initial position), defined by the initial conditions of the system.\n",
    "<br>$\\phi$ : Phase (the initial angle of a sinusoidal function at its origin)\n",
    "<br>$\\omega$ : Angular frequency (frequency of oscillation expressed in radians)\n",
    "\n"
   ]
  },
  {
   "cell_type": "markdown",
   "metadata": {
    "slideshow": {
     "slide_type": "slide"
    }
   },
   "source": [
    "Angular frequency\n",
    "\n",
    "$\\omega=2\\pi f = \\sqrt{\\frac{k}{m}}$\n",
    "\n",
    "where\n",
    "<br>$k$ : spring constant\n",
    "<br>$m$ : mass (kg)\n",
    "<br>$f$ : frequency (Hz)"
   ]
  },
  {
   "cell_type": "code",
   "execution_count": 27,
   "metadata": {
    "slideshow": {
     "slide_type": "slide"
    }
   },
   "outputs": [
    {
     "data": {
      "text/html": [
       "<video width=\"432\" height=\"288\" controls autoplay loop>\n",
       "  <source type=\"video/mp4\" src=\"data:video/mp4;base64,AAAAHGZ0eXBNNFYgAAACAGlzb21pc28yYXZjMQAAAAhmcmVlAACH/21kYXQAAAKuBgX//6rcRem9\n",
       "5tlIt5Ys2CDZI+7veDI2NCAtIGNvcmUgMTUyIHIyODU0IGU5YTU5MDMgLSBILjI2NC9NUEVHLTQg\n",
       "QVZDIGNvZGVjIC0gQ29weWxlZnQgMjAwMy0yMDE3IC0gaHR0cDovL3d3dy52aWRlb2xhbi5vcmcv\n",
       "eDI2NC5odG1sIC0gb3B0aW9uczogY2FiYWM9MSByZWY9MyBkZWJsb2NrPTE6MDowIGFuYWx5c2U9\n",
       "MHgzOjB4MTEzIG1lPWhleCBzdWJtZT03IHBzeT0xIHBzeV9yZD0xLjAwOjAuMDAgbWl4ZWRfcmVm\n",
       "PTEgbWVfcmFuZ2U9MTYgY2hyb21hX21lPTEgdHJlbGxpcz0xIDh4OGRjdD0xIGNxbT0wIGRlYWR6\n",
       "b25lPTIxLDExIGZhc3RfcHNraXA9MSBjaHJvbWFfcXBfb2Zmc2V0PS0yIHRocmVhZHM9NiBsb29r\n",
       "YWhlYWRfdGhyZWFkcz0xIHNsaWNlZF90aHJlYWRzPTAgbnI9MCBkZWNpbWF0ZT0xIGludGVybGFj\n",
       "ZWQ9MCBibHVyYXlfY29tcGF0PTAgY29uc3RyYWluZWRfaW50cmE9MCBiZnJhbWVzPTMgYl9weXJh\n",
       "bWlkPTIgYl9hZGFwdD0xIGJfYmlhcz0wIGRpcmVjdD0xIHdlaWdodGI9MSBvcGVuX2dvcD0wIHdl\n",
       "aWdodHA9MiBrZXlpbnQ9MjUwIGtleWludF9taW49MjAgc2NlbmVjdXQ9NDAgaW50cmFfcmVmcmVz\n",
       "aD0wIHJjX2xvb2thaGVhZD00MCByYz1jcmYgbWJ0cmVlPTEgY3JmPTIzLjAgcWNvbXA9MC42MCBx\n",
       "cG1pbj0wIHFwbWF4PTY5IHFwc3RlcD00IGlwX3JhdGlvPTEuNDAgYXE9MToxLjAwAIAAAAp0ZYiE\n",
       "AD///vdonwKbWkN6gOSVxSXbT4H/q2dwfI/pAwAAAwAArqxz6KZIGF3rxgACfGz+ErDXEBPBgUAU\n",
       "1NdOcIkyZ8UjK8YMw2/VI7oMOGZ2/1dFfsqChMoeI/qLW/S3Tanl358MaS/QPJfh7n59YtY4PNoi\n",
       "0h4hNH9gqQXx4mIbpL9yq6n7xtQT5ee40dN/XQ6/2nC30BAiyeyA6v0OCk+QlRdWPWXiWvttwDTg\n",
       "lc6RqQ71oDCtsnTKZ8hlMxtVVTUUqRYmVgfLFt+U0zrLbkRwN/jS+2ZSj6lCNf3bovpFX1mG/+Jg\n",
       "ZxA8SVVwJJv3v+1YXTo7JMb/vxjZYAAIPbyUlutZ7RyNQYJv98onGOfXZfzz/uGELc9zYRVBHEIg\n",
       "GwpFvi4K3v5MjqJbOHX2IV6QCK8SnMcgb9Z1GcZ4LWOOIlQHDoEdkjIAQ9o6ub8soLMZTmuCZXDi\n",
       "TyUQ7vrTaIITZjbOgj38sbKY9pnZRfpJSDhooF6+Y7/N4JhpELZsB3ZzCUPBbFoL9n6uzLvWzaLh\n",
       "aFjL2oqrxLRZ+4cMN3g9dKV2zwNqwvecq3dEX3/B1HxpOdSwzSmArEIUHd51VsJT1TqO4jpT8Ki2\n",
       "/Zf1jW18fCPtO/U3C5PnjGVB58KLwzy2gyCfApsM8bGVBVGTX9hU+FFfmoxqlNxYgyKg47lNhUTc\n",
       "C+BNCDxvkWcloqvfZSfMldfs319ylIMT0uXu5qPFJaeUjLf8ssXh8ljPnEFJNyPBsGpuoLnQeSks\n",
       "vN+MDfE2gs3aDwBhDL0mOHXRHqI/1oVzge4yeDSHsoe56qHGesd3LAXhISL4DVXvUcLUxgRFCTFw\n",
       "xeDlyGm7t1j1nMrXkZXTsGcNUbfjRmP5zpnz/Hj20Mt2jij0ovHUUgHx5WVZ7+6DmETeMKySpmNT\n",
       "eDEEwtKvrmk3fglheSCFvvNL7NYgFnHqx15m7p6tfxSkY/uvtHwo5T2Py9X+/mLbEFIRnV+SQIRX\n",
       "zm4ZbZlGoeYW+kLoqMw+SDEk7jBRIy2ewQ2fRYoonxSd6kRK/geV+VtOY4kYzSTdD+Pfqf96htTD\n",
       "KB/o0fz0mjaB0YiGgnYASx0QHd8KjyhCyeihmPCkuQrMfphDOO1nk5OMytlNJkOLtD1KcCgz8aIp\n",
       "77zpb/QZLYMh3OuILNvB1d9MOdnDmxYOHbkti4LGX06CuiqHdPJ/QQ2X1olbBGdG3jtX3fs1C1n+\n",
       "TjaHl24tM/Dl8PDyE/txbBbi6uLkiLzgKga72Ytl7ddpHeadGMMXTokDBXfiXoTUnC6OSzhd65S3\n",
       "p7j4V27RGbgmAgqvZyKiMItTNd4FG6ZKprmUKe9jaiteFFR2tkfKv4SuALByaui/P08sWUBgklyn\n",
       "NSPqz6pJh2xjEZtLFighKDSfORVvQmb/qIPb+Nbi7EsSyCyPgUjoHZwfV5ki2Z/Q3BjrLef4yuHd\n",
       "2braR5XhneFyhSRjiK3pnjoVOXNqHo9iW5U8EpQhMmmWIpDffTHiQbH22iKVfumYwMKEg+Cp1MnK\n",
       "cqJZsAxTpcaydjLM3iqpv9zogXeE971Z8FPmZzpSbBiX/e2nl7uVdS+oYzoj33grShocMZbUoasF\n",
       "O7hCWXjOG1l/pTQ+fpeUSl1ZugiaW2MM/0fQwJPKqcAoFp4NPXojxU9iVq7S7MAyYh9msW3kBuPe\n",
       "MexnS5fFV1lBNJKnfCKXngwchGh5sibviDxnczqVCBJpaVd/Ved23tCFkTgoauBlFyolGgAKUN3j\n",
       "0+Fi3al/FBnnvuZMbJt+rA9v92qovT5Z+45J+RI/9iLC7TE/QHtH/x0NQ38zx9tl/9AmhwFSD90n\n",
       "PtLcDgM7VMEId0neTEP/2ynQNf8/vNGplhLn+jvK2gaYgRgifO7tLwxXzQRdZNHoMRhzissLYxr3\n",
       "lWOAC5JcCprWfiX+bEoIZ8IYq4uuLdJmVOdHFPlu14OlA5p99hSpxEagyBoaw7KAkm2VKAqgITIu\n",
       "ccdlh84PvzNX6k+gN4rzuGiOTEfvUEsdkA/vghB+XloVSvTqoMaoWIjQYUORxFBXlQslQyQFTjOu\n",
       "GnYs/KqpLmoed1y9yOWHeDYk3TKYUsIYuKMTXPHYS/k+fCSGULfHFmebPDLx5D/kWx2wKJWJhuhi\n",
       "6mK8JHQYmhzTXhTjXS5yKpcDQMYpv56M5cF6bmo1EIAD7Kx1TWV7S2wYuguh/6s36n/OetSh3ShI\n",
       "KMac06oCFSlAKCI76aWZ8kKZ7p5auUyIjvbts/iwYv2AuJ11HYlu6l3qWkB1DthPy/35zgpmSLZt\n",
       "QC/bpfTELtOFhSugOpMywwN20gzcYZ0mq0vRZH3z84HVG6gszeBo8KGRjTxhEevM/nA9wA00ey82\n",
       "OYLviECYl/1u4sEsOMD1NZG92Vzn3OjTWg2fleBtMURQwdCnVHVJqRswEek/kOyqsVs8kAEdLX5H\n",
       "Ng3e7HXOKdgp4Sv4jKM6qCPMlq/3m541Y85OoeSmNbRaODGp91zcYt94T+3I7R6fQApa6YFylcMf\n",
       "UQ9U2sw3+i0XRNuRf3Jus+Y2Um6xFTB1Cp2kQRj2PYRKMRb4/XbA4Xaxblz7ly4KFICtvBx/RL18\n",
       "uvlvHiYpefFa+LF1AqhZZgkrfUR1lA0dMj6NwdbIMDcZHM4OxePBTqDRUiKQ6QvCKz1551tqeJSb\n",
       "6Loyu6Ux3M3AS8FLl/Xpt7oKAoUnob0d3PqQhQaS143tMDT3snhTehraNI2E3KxPyTK1R+69+Fp4\n",
       "NwZzwmhco8/Z5Xi8AKfAArH2yw1mj3KhnLTPR3PucMy9aDvIiu96sIMea+4SU3YMreS3f6/6+irl\n",
       "pADJhj8hhQMYR1LZkscjg7Pf77fO2+IGQHyXLBSidiG79T4VF/FAlbwbmO/sTcDZJXAaaIK+gjr8\n",
       "XY92UqHhGQSV1WhhrR75fPDGbpbRE8spatYLqzdVmOEO0O4vnO31THqkcLvAThwTutpPDhRuVTbp\n",
       "cY4BAssevUmB468NOzLpsW0J8mg4Zg6zoMTLNa3hz7UmV13PDjpRgGQUCPZTec0U7hrBN16xBau+\n",
       "f6Nx+1+/y6IqdprDlLdCJJ+7YOT21uMzMeDcjbeLGrfxHK82JkYmER+FQwf8gdOhlo5D7kpHf39G\n",
       "ULicFGDQHKxDnhu1wnCBURepHloFCrimXfk4DT4F5evgR6/4JkS5lerEfO9wWOEMx2sCzlDQr4rI\n",
       "dJOsrSzrNG1igEmNxdlJ4JYYn/eLrRU87Vvr4UqfShh+r1dp/mGGTwiOaaDmIxz6hf2AVnhno9/s\n",
       "3ggyiZW7bSn7/+U0wB0Fd68A+NsfkwZhyxXp+mv3e3y5N2PCh5U4hlToboApKtmKgDwqfHWSARZJ\n",
       "rAzHbUs+9RrlxFTdg18wMjytq9CtrB9r+k6Hnf6O1CL/nPYwKzVFfyOxKWs5EShg2w3QyZDv/qx3\n",
       "TxZfkjnRdQ/woZ0T/zcj5MP3/oDiF72iyWJnuwNs2hjBfbC/wXvyyTj2d1m3yzL9wcOnbUwM2zwI\n",
       "i38YfCtbIswRurOB7hio4PgSkVmEuxLIZ6Kb3sLJXB+qofiITHBT8AAA2/BAABwIIm25AAABNEGa\n",
       "JGxD//6plgAOOvl4CFUC3/7/5+5Sbr6Jtk9cnig6UhwrwEUU2U4NogALH+QyiDlwGECz6XBGGCpx\n",
       "0dL/e0HZ84fyNPNddu3nk6OKeCMEa0db6BHd09icn3RjVsTUU7HHbhUo5QMpFl7CtQ1vJih+rEKZ\n",
       "Kqu5WEP/RRoHuMNI2FnuefOfLUX0JlFf5Ti6QwjpPYOFq5Kwl7fKsLK6AtHv7bB569vGRpQXKzze\n",
       "qXQDrNmtYZLNv1fCxML9QVfAJKSMDYptGWtqx1gFbJ+j0bKpwaqB3nXWyCzAeG0rrDrAUzJY8g1b\n",
       "lqtjNTQLdX2SJqqfUYkqE+vYp0aaRGMoAbyHJjId2rehD8VwojWYWoWy8aHBrh/nGjx4ZcRnnLAX\n",
       "BU1yo2OXaXmfnZ1P+d/EYGP2gdzQAAAAPEGeQniGfwAMj8Ytil3RAIreVVd7J1CRu8jZVQt1YLsN\n",
       "yzPQsMfbHI60dCAlBXvtmkFIccHRsnQhYAuY/wAAADABnmF0Qr8AF0TDSHJzTNPDXfme0hmw4Rfe\n",
       "b/mkACd6FFFirGyhyd47DPGcehq4oUkAAAApAZ5jakK/AAEd11+ZZN8rlT28tdcI+5W6AvZyAhGv\n",
       "1xZCyXtZ4dc1LfUAAAH7QZpoSahBaJlMCHf//qmWAAK7wsbrOy4B/H3f8Ahs/bB3SjUelDd6p50U\n",
       "CUENqPWpjpOInsoel8tLm1iYZaKOCGp4dQVd2JxZrJwXjgTdmlVQPIpz1+TgJ6XawfjWw6JiONh2\n",
       "MZ1VCiNGKckaBEYnW4P3qiRON7c8tfv2/QTWAXlNt72nwB8RWzF8aEBPxIEmMdRSTdeXz/v2vqaQ\n",
       "XwuNuz5aXMxu8vgErt/+BYiKOd97xPCnsExmO5/Wmt3352kr5yymYB81iIoVr4OEqzPWb9q/hBz6\n",
       "iF3Rz2P4xBp+emYJB/o2UvLoNG+2P17D64IqSG/LbMSxMGymbsOD740ISu1eeS+b4wDyw/OUuplg\n",
       "FVqR3oOl5EFnhPPAq3qwAYzisDt9M9RExJhvxxknOZYDSRiN5/SR4gbltI6hjeMm2DeQuidLj5Z2\n",
       "14d9qgA04sWgGf8R1BW6I7bfVxLfhz3rP8kA7xiXk3aQH5wFNl926ry1pXcOCOL+ib+Uv9HTqpbu\n",
       "r9kGHTwPsJ/+bjrI5ikYJ8l7ek/SCJB5av3YNlwDEjpJ6BcMfuftiof4+L/bLGiH4bdN4pkV33na\n",
       "2xeJSkkRIHWJtaRtqx2n0+wBnhxJ62SEVm9Vxm078jVONz3p+aKaQmPA6dNchOHKfqlyguGVHGrP\n",
       "thNOxMjkMo91AAAAKkGehkURLDP/AAJbcQD+OpZsihddBVVfmjtJ1KeKxQnxLDv45TxOjMJdMQAA\n",
       "ACMBnqV0Qr8AAivgyO40KMIGCnSrl4Ms9P7iUvFXIP1l/+zvmQAAAB4BnqdqQr8ABFddzC1XmYVE\n",
       "YCSCvaLOFVwkBGe6LHAAAABFQZqrSahBbJlMCHf//qmWAAre/4SiJKRIoL73YN+Eu4BtNhOHX1o8\n",
       "mP54z3lh1sE0MuEx/vVvT+vmEBuK+AcSWIT0Jw3AAAAALUGeyUUVLC//AAZxTIfh12l6O2QX943L\n",
       "/SJkr6K6fiQQAmXUx7+WhelS2X/OxQAAAB0BnupqQr8ACK67mFqvUMqVnYp5IqOrsu7M62IdRAAA\n",
       "AClBmu1JqEFsmUwUTD///qmWAArfzAdHertNUVRvx2zQNfIx4FcpM32oKAAAAB0BnwxqQr8AEV13\n",
       "MLSZShguKbKlJ6lsP2+/gzu5LQAAAQhBmxFJ4QpSZTAh3/6plgAre+jspK/9KhI+/5CL4W+BqJfZ\n",
       "DDywEk0j7Z+ZwZ8+jeaaiFtecgualrGMgkULepe2xlSPsRqTe9a1fK/qpR8ak6n/CjVTXo/Jdm1C\n",
       "4E94CvAbSVGLLlceGkbcp4gx7KEBBvEgvw35CejHNLHPW021+qfKvHjECKVCf5I5QeYsjRxuvJp1\n",
       "l5OXzS5xrb7Y5D7v60J9e+/wRZC7La+HIro19XmkEgR+oDrAZsm0ig/bsZC5cEnkxojh0hty2SJm\n",
       "lNyWLk/wIyZeipnnfWJuXrD6GLLrFTWwK+rLgK5uN2pkpgEv6V9+/BIdsh/slaRwz3U3FKnEslW3\n",
       "OV0AAAA1QZ8vRTRMM/8AE1uID9ATFCSfDbvU5XfOLo38GSvrA1UKSRHrGmCk1sZ8aq5PZ0kZNZwT\n",
       "8lkAAAAaAZ9OdEK/ABHYip+VyXjtntuyC3QeLOtGdIAAAAAZAZ9QakK/ACO6766ApRGtO+73/Mc/\n",
       "IHE1lgAAADNBm1NJqEFomUwU8P/+qZYAK4IcUEMzSe1diWsju6AeoRex+rGGmOBiV5a17tJ4OJ0m\n",
       "oKEAAAAdAZ9yakK/AEV13MLSYP35/un2BO8WUoLtfLv1xoAAAABTQZt2SeEKUmUwIf/+qZYALJ8u\n",
       "PkQvDggChkIZxj3cUK3qrwiUGtCDnQrxt4pq6Ixp8UpSfS1xiZ1AfYPxItnQMG9dEfoqJxqNSpOO\n",
       "lgj75/tr0qYAAAAiQZ+URTRML/8ANMplZWXcTJtH3wZVTM4du9MYvKbbayQu4QAAABkBn7VqQr8A\n",
       "R3pNbfUgocTcbBoGYHEzbAYEAAAAREGbukmoQWiZTAh///6plgBXfRUPmXJ4oOlIcKWBRTZTg/D/\n",
       "RdYtAvDnzs8lJFEwA4iJ1QpnmbNkhZ+k6S7ccK/vgPGVAAAAIEGf2EURLDP/ACa4RIbrezHGC2st\n",
       "O/AMqWESN8I8gG9jAAAAFgGf93RCvwBHbOYuoY6VhUd/LQyJXh4AAAAWAZ/5akK/AEd13KjmXK30\n",
       "ZGMRkdBgQQAAADBBm/5JqEFsmUwId//+qZYALN8AX17TNZ3FJyt7NUoaN0AXyC0ftRG8cbA1bOJI\n",
       "RJgAAAAhQZ4cRRUsM/8AJrFOKEs/hdY0HhDtD74pdfI1MMuOPewtAAAAGgGeO3RCvwBHYg6WsyxA\n",
       "5aEbyyOS98bykMCBAAAAGQGePWpCvwBFbTiaCZL4ulm4z/ENjry+4EAAAABUQZohSahBbJlMCHf/\n",
       "/qmWACu+4k0J6j4laGtIBpIHZjKcTM7JVErjir4Tr9sbLwlEp3u+UhFo4l+SdFqNztq4+ue9HIEE\n",
       "WMDS8OrpVmxAXX+kcN1mAAAAIEGeX0UVLC//ADOBf+la0ZX2i9m9/MvnK1s9o4UslnpBAAAAGgGe\n",
       "YGpCvwAjshkKAPpN6revDgZeQnxXBsZYAAAAW0GaZEmoQWyZTAh3//6plgAV33EmhPUfDqiFA0fb\n",
       "YrhXXbnkKooCe8HMqN7Hgs56GT/69NjxcqBknSpng5sxHMT8O+R5hRogHi7Mb3n4eidzKSP0RsdY\n",
       "ZCN80UUAAAAfQZ6CRRUsL/8AGcC/9K1pmb5oEQ8ZYpny0lsFPUlrGAAAABkBnqNqQr8AEdkMhQB9\n",
       "JvVb14TBVVSX6MCBAAAAKEGapkmoQWyZTBRMO//+qZYABZueeMEf5xupdgx2EVt/Au01FUTWWDEA\n",
       "AAAdAZ7FakK/AAjvTVBPCrJPxzcV/8jlGsCBh0KHCWEAAABaQZrJSeEKUmUwId/+qZYABW/kKCtC\n",
       "O1R66+BZRBpPL9MmQd4A1u5WHaTj6Tey9oxQCRp1FLC9tmFt4Q4pU30Yvx6iLYbWqscOjU46Jz5t\n",
       "s4bjVysQc7HF4PT5AAAAHkGe50U0TC//AAZwL/0rWrbvmgdzxlimfLKmfWL3WAAAABYBnwhqQr8A\n",
       "BHZDIcKcbffLacUEub0CAAAAPkGbC0moQWiZTBTw//6plgABZueeTXYlhhvtTzkn2Jd9fs3Vl7P2\n",
       "uQ/2qAXqX9u2EiQ6iGdtDUJqDqjtinfnAAAAGQGfKmpCvwACOyGQoA+k3qt68OBl5KkL/CoAAAB2\n",
       "QZsvSeEKUmUwId/+qZYAAV33EmhPUfDqiFgGKEAfwLGU1Zn2s5BCNvLvlKL/c5pSP7c4HJEOZWxv\n",
       "aj9nKtaAcwV5xwyzgrMJnOdGY4aGAddhWtLKuhj/ZTnMlUTBW1oslMcKpXL/shGQvY6y/w72x89v\n",
       "+rvntgAAACBBn01FNEwz/wABLYqf3NQbD+5dloKP18jspfkDheyJgQAAABgBn2x0Qr8AAirmxveL\n",
       "uxIeFtWP5IsuhpkAAAAZAZ9uakK/AAEV6XhwhuVWncmH/rVaFXmSJwAAAENBm3FJqEFomUwU8P/+\n",
       "qZYAAFm555G6rTiBB3AIuiI1XjaZwm7mBrNbDzXmdbQbSmaje9b9HxYS2hwQ6c9wFyO3dWHAAAAA\n",
       "GQGfkGpCvwAAjvSek5GxsRysP/J8tyOZnaAAAAAuQZuVSeEKUmUwIf/+qZYAAFb+Tr9pipAjln/H\n",
       "Ol7dk0ukYTjbjv2L83FdYNHtQQAAABZBn7NFNEwz/wAAS2Kn9zUa4oL3bJFzAAAAGAGf0nRCvwAA\n",
       "iwgi5By8GyS47dTRiWEUwAAAAAsBn9RqQr8AAAMBiwAAACpBm9lJqEFomUwIf//+qZYAAFk+Wzwb\n",
       "k3tVq96iNHAgATafAJ/mR5cku4AAAAAZQZ/3RREsM/8AAE1uINHPoCRPghAI5z4rmwAAABUBnhZ0\n",
       "Qr8AAIsIjkm4vi0zwi7nhdMAAAAXAZ4YakK/AACO66+hXW580x4DoNm/OSgAAAAnQZodSahBbJlM\n",
       "CH///qmWAACyfMRyBEJvwdGAKHr3uj8BJUdrpFIDAAAAG0GeO0UVLDP/AACa3EGfZewJE9xQQQ+s\n",
       "kfhNWAAAABoBnlp0Qr8AARXwZHeK5WAlYJ/EnJQq4nRkwQAAABgBnlxqQr8AAR3XX5mu78+dyPBW\n",
       "LkTzy+EAAAGjQZpBSahBbJlMCHf//qmWAAK7wsbkYbVRtQBG8tRuSkpTvxgBKh9B1JfvGdIZdxUw\n",
       "oZ5t8jiAwQ4zaAPlv4C+1MOfLhQVrz4OzbmYZk+VmjUTGA0SBbKG9czDTMkzh50b7OTh8KO2CoO6\n",
       "jM2xOftxLnWx3vzgWs28rg9RnosyWOCK35Qe9V5q877I+sAia3zBoHhTh8kkLzB9nAWAvHsO3Yjd\n",
       "Dc2jhUgW8AkKM4bYiPwIkX3r1VicO7VKzRESfRXWsqzz3lMD7doJppw7Lu1FBPAJeMQYO+5uX2cm\n",
       "VH1Epm3lfezc+PkJ1OQJD8y///Xkvq1uUaQ5Zq4yAgTHflcTssCsRa6/SDOp896l+tCMSwEfAAly\n",
       "ql+x7z64Nq2zPwRHzZGto6nw2UiTz0/7ESykKoLESWPnRJoVu7od67w6ZBX39Z6Dd8t9/Xzi6ac5\n",
       "x4Gl2TmAc3xhtf/gmkV4LdpRQjD4ZvJTKV3KB7KfKojwwp9wH/Ax5eqfeRz90noJRIgLWcfDslo7\n",
       "dJfY0xqCCymxGqwS9IrkvXy1bXrkKVZ1X/eP5sAAAAAtQZ5/RRUsM/8AAltxAP4AjBCYyeoM8oMZ\n",
       "/GNn8fF/VvfXTOWF97GJQXPc8tKwAAAAGAGennRCvwACO+EEZT1cTOFVwl8pVJA/3QAAABsBnoBq\n",
       "Qr8ABFddzCzVtJd7sZA7smkJTgFoYaQAAAApQZqDSahBbJlMFEw///6plgAK77whRrAdDTrgEI6S\n",
       "i2vhxEb638TBQfEAAAAfAZ6iakK/AAiuu5haTJuv0JzT7b3aTBM3g1TWrIJaoAAAAbtBmqdJ4QpS\n",
       "ZTAh//6plgALNwt+D1ZqAgpSrSMW/Vths/iRayf+GTAOsjGJQojEicDIt1W9V6cuC/qo8wNdLsm+\n",
       "uX+ks3ovFdOrDDutZwrdOYofNVBsy8Q3FkVAfRAm4V8K+MyURTnvYWeBcKSiOJxpzKW/M3fFfy4g\n",
       "QJNqesGmG4wkObJ37JvLH9v3sy6AtGrdVal4igrSSh1k7Z0NxJm5WVY4hUypvwZxbTTTJg6i0KjK\n",
       "OrIVoQBcJ93HVIXM8Q9fmmas5i1Xz77NtTQOtBOqrgdzuRZHNlm8+0HyMzt3/V/q2xG5JAr8Cibb\n",
       "bqfdN+3Vfs2sFXa9UEGJis6pmZ9Waj4mW5TgUQz0zvSt3QzRKGcevp4QRNQITV7N5CTqjhlweWok\n",
       "1OhbPmTPeeNUFS77N02pNEMvQt9dMN2iMGFnr2/9YKGVLQsWp4owtUBc5VeRR/je9+SGVkBpkgYw\n",
       "EE8ufrwViJMbTym75top5+fGDHp4lWO05elr4SL0VEwU6ie1g0CwM8nevUd83B17Ylgq4k7N5W9Q\n",
       "oHvCunHmALeZzjuYvX3tMVhovNcD7Q5tZJZgXxPQKReZfpJb8QAAACdBnsVFNEwz/wAJrcLWPM91\n",
       "S70VIrV8EeTEqkAzxta5D02l252jkbkAAAAaAZ7kdEK/ABFfBkdxoUYR8TeeXwD2jp1KX0kAAAAa\n",
       "AZ7makK/ABHdcZ5pa5Wa+XVtw1USGzJaVoUAAAA0QZrqSahBaJlMCH///qmWABZPmG5JCX0M/KEM\n",
       "CpWrwA4FJce9e1hGvU8ba2fzwf/ZNUyxgAAAAB9BnwhFESwv/wAaZTKz0N6qqtFrekgS2K3qlLxi\n",
       "puJAAAAAIAGfKWpCvwAjtqQAQ0DKi7BAC2P5UBvglot89IMrtmVBAAAAMEGbLkmoQWyZTAh///6p\n",
       "lgAsnzAdBDu2RE6qHpBtLatgPkg0+lbBs9dzHuUTE0Ji4AAAACFBn0xFFSwz/wAmtw9f1Z4Oxf0g\n",
       "5N/S6LlJb8Iom+Sn3MAAAAAZAZ9rdEK/AEViEGMdxVA+JeUpOPi9vVxlwQAAABgBn21qQr8AR20m\n",
       "AekGK5c9wGaATdRzGfEAAABFQZtySahBbJlMCH///qmWACzIBRikIasKwBA9MJad0I/6cSUivHm+\n",
       "oecjVEbX1rwGeohLh+CBs8hPBBfx29FlP6/EWTKzAAAAH0GfkEUVLDP/ACa4RIbrezG8sXlWZtkn\n",
       "KSyvieLJSmgAAAAWAZ+vdEK/AEds5i6hjpWFR38Bn0SRgAAAABUBn7FqQr8AR3XcqMaWjl/9pMIg\n",
       "DFkAAABKQZu2SahBbJlMCHf//qmWACzc88cWgHX/a+aAAoPOPfcTypTKQObnQ28poouR8X5q9WaE\n",
       "67+wNzVN37IhVO49pOusrscfi82rKuAAAAAiQZ/URRUsM/8AJrg9m7RZ879B8lU7NDl/H2IHzv9d\n",
       "3y+5eAAAABkBn/N0Qr8AR4QRcg36WApljB+g5TKdGHdBAAAAGAGf9WpCvwBHZDH+B5kk5PycmjbF\n",
       "krzipgAAAD1Bm/pJqEFsmUwId//+qZYAK77iTQnqPiBWXfdfNhkAZZLmKfECirb8UmtJKv5sohmO\n",
       "ufxHhN5ymXxX+ck5AAAAI0GeGEUVLDP/ACWxU++cNPi9hoJ6ymzCfQo2SEyM9TBI71LBAAAAGwGe\n",
       "N3RCvwBFXNihKKC+gt6qxrjJu+18YqjpgAAAABoBnjlqQr8AQXYEX9aOGgHPXypGGKOoUTpWwQAA\n",
       "AE1BmjxJqEFsmUwUTDv//qmWAAs3PPGm4WGjbQANS6vjxiImgrZKIf+6PoM8DshAKGNKCvXHDYdc\n",
       "0Knhq5B3JEEunc9Mh4MipuEG+iN8TAAAAB8BnltqQr8AQYMyq00G5yWf0cn1//IuTprt0NI5tqBh\n",
       "AAAAMEGaX0nhClJlMCHf/qmWAArvuJNCeo+IBcclRQhfnIAHIxLe9JCVXfJUvkWpkk70wQAAACNB\n",
       "nn1FNEwv/wAxDi9cqlShi/8eKETkDgT/j0NNcgee61QMuAAAABwBnp5qQr8AQXX8RfVirRQWmInc\n",
       "M8TrYTq0XKkqAAAAYkGagUmoQWiZTBTw7/6plgACzfAF9gT6Mghx/KbQOBAEZlvgPyizID/HrzWD\n",
       "GcMJdKAcl1xkZhsXjHikyYg2MwxAgOBSrZR4g7pD0bwDJPtTNERBJ/9uK67KVMNN2TGosu2BAAAA\n",
       "IAGeoGpCvwBBgzKrJWxkTWzpxFlOvT8T4aaRqbYC+/SgAAAAJkGao0nhClJlMFLD//6plgABZvhk\n",
       "BrPiIl9WchFOFTOFU1kdpWLBAAAAFwGewmpCvwACOyGQoA+k3qt68KbQcjBGAAAAPEGax0nhDomU\n",
       "wIf//qmWAAFb+Yp7qRAfeCmUdFXQ058JXvuh8ys2oQS5jgcQMoHFg42ONpdEd8695pjh/QAAACFB\n",
       "nuVFFTwz/wABLYqf3NPpC+4SPl8abk5PfElW5/zE+fEAAAAaAZ8EdEK/AAIq5sb3JWhAbTo4x8g/\n",
       "7P7lbMEAAAAZAZ8GakK/AAEV6Xizvi8AD8YAgbLpEctM+QAAADdBmwpJqEFomUwIf//+qZYAAFm5\n",
       "55RlVA15Kbas5q+ABh6h2Zgk3a9FKrD7ke3SkeLzkTmg24D0AAAAGUGfKEURLC//AABpmWcvvTLV\n",
       "Qt4v4186LmwAAAAWAZ9JakK/AACOyGSRAG0HB8I/D1aQgQAAACdBm05JqEFsmUwIf//+qZYAAFb+\n",
       "a3LhLnuPxOOcQ4gAUHpqz9Rfr1AAAAAVQZ9sRRUsM/8AAEtip/c1GuVfPaiEAAAAFgGfi3RCvwAA\n",
       "iwiiyiK+Lygsp3EvlEkAAAALAZ+NakK/AAADAYsAAABOQZuSSahBbJlMCH///qmWAABZWsd+3ePi\n",
       "qACjL+IDcxv6v8nM6VyJzcerJuRNNXsWIwfq7iuaWzocViEl/4V661xloVgChGQGOK0T717hAAAA\n",
       "GkGfsEUVLDP/AABNbiDNbZcqvAxBDvYMfndAAAAAFgGfz3RCvwAAiwgYVTXKuVieAAWD6qAAAAAW\n",
       "AZ/RakK/AACO2nikG81ELnuAf/DXMQAAAIBBm9ZJqEFsmUwId//+qZYAAVvjBICEn31Vpb3Putjt\n",
       "SJ4LA4GQN4iYfLYIyPZBnZwqPeo7fFSb4zoruq4pFceV/XDgpOzAXj7ENm4CfEyuaYyPwvqyHpcO\n",
       "DJTNRSApkj/YmrZVGSL9G9Rnjxu8hJkxo9YvAM1It2aaj9mtJEgD2AAAAB9Bn/RFFSwz/wABLbiA\n",
       "fx1H7FPYXXVA/ag/lNhZEJCAAAAAGAGeE3RCvwABFTBAVqIZrMCF/ar+8jJdgQAAABgBnhVqQr8A\n",
       "Aiuu5haTHXv0GnT7AX/CRpgAAAA2QZoZSahBbJlMCH///qmWAAK38xTGEQ7Or3IEhlBXrBYUAj+c\n",
       "kKJByuOzWJwpm/b549bbL2LhAAAAGkGeN0UVLC//AAM4pkPw65XVSAGwrUAurtSpAAAAGQGeWGpC\n",
       "vwAEV13MLSZN1+hOafYE7xZJ6EAAAAHeQZpdSahBbJlMCHf//qmWAAre+j2Byc3fKB5NStz/zGic\n",
       "+2nqZVcT1PXFQ6sr8lMFH2f8EHk+wQvVUgc8WcKq7fk4dZAaXOQoegzikjnIUM+fCPZ0ea2Q0T8i\n",
       "DTwYNN04lVHM+LVs4A9ooljRkv19KWgwuPs0sk63uTMpIzk+ZpAnRUjS2EUqK2/retzdheBriRUa\n",
       "kIjJ/+Zv57Q0SrQF2TwJpNszTzQcbDihYSPbPe85JKYwjRRjMAIoUNqrep8QTXEiZ8T3+3uSJpVE\n",
       "2NnftDNTbK2e4xHwISDbRxNlFnr5Ogbjo1cGeHfHOSFSa6wmgyKWVuqMQCONMJDaaHCVj9mhe59h\n",
       "CL+7+nxG+dlEYMyKfSNHRSuyaSMApGQob2R6s+2+qh8ZuEPfLv/JCaSI2V8AyrBltGmjE4430nSq\n",
       "+7dvAaPmaqtX0cwai90rW2V99Dd6ePmZgZTvt0HFJbTfPmHxyZN9tBNdjwHePlcHPEt9SHmJ7eop\n",
       "wZjOUPOvtAnpWMJgMJ8Tkn9mHKVbVjqCNY1x2NQ30sON79WwdfcfrNlSp7xnSvpwtFNMwQyTD7fr\n",
       "XjsVuTwnpUw+qRHvYvZe2IxR2AlV+uX4eJZkg7UeJTZhQ3mQXiLoNGD5tgCJRQAAAB9BnntFFSwz\n",
       "/wAE1uHsPkn5s6n5aqYnaZ/s1iH3ZyhAAAAAGgGemnRCvwAIr4MT6rkrUeLeuYMRfIEdE8qBAAAA\n",
       "GgGenGpCvwAI7aqhAt81Op+QpEQiWngAXxRRAAAAXUGan0moQWyZTBRMP//+qZYACyfL71EOSYIA\n",
       "oUbUHlg07tEER56GHYdcCim+uG8Ge5u/lmFsEcXqGtOZXZgey8/+kvhb7rZ3qZb+HN9956uVq/Jo\n",
       "yOsbRSoVzEFVgAAAABoBnr5qQr8AEd11+p/K4nhSuKrO/rHN6FrMWAAAALxBmqNJ4QpSZTAh3/6p\n",
       "lgArvCxuzom1AF/udj6um97FDfMDwmyupU4tSkT/8XgIfLOaT41qGfcKN/XMXs/+0GkHwaS36MN/\n",
       "yvkC77IUWaa3hRmSxg4jm4jTN+zeJzqA5JSPJ0+hBEJ1DwHrBwnOrVnD/q7kWmvBuqFJ3d+l41+W\n",
       "mOvubpeexMbzzt2y4y+dbRs2iQuN8evIEN+wwnZj8HbsIiSuC3Q9pTe0L6gXmlkUHyIUVJdHlosQ\n",
       "uJ8q2QAAACFBnsFFNEwz/wAltxAP46j9grsLrqfYtQuTeIPzSy8B6VsAAAAZAZ7gdEK/ACLB9wqd\n",
       "nvbmKWHgmHJGQteoIQAAABsBnuJqQr8ARXXcwtV4qlPg66BJFR3DiXYc+YAAAABUQZrnSahBaJlM\n",
       "CHf//qmWACyfHmWLJT3ABcv/ENAJW2Dxu8dfJjXnxuiThProl37yYQo5Q7xQWNWR/vROdDrR6HpX\n",
       "+horYIunq3VGejLhHPmWB3CTAAAAHEGfBUURLDP/AEluLb35nVlrPiAmFFkIW+jwYYEAAAAYAZ8k\n",
       "dEK/AEd8IHjN6OjrSLJu429iziihAAAAGQGfJmpCvwCG7AeTEXhdBqpI95GMZhNsJGEAAAAeQZsq\n",
       "SahBbJlMCHf//qmWABUt9CAL25P6Q/9ZDQNmAAAAIUGfSEUVLC//AGSiMTpM1ODegBwFVnIi8qAL\n",
       "SaIx0q0MCAAAABYBn2lqQr8AhuwHmL5g5fSlDaY23FBBAAAAYEGba0moQWyZTAh3//6plgAsnz8e\n",
       "oNYACjDR7RJ9iSyqa4dI0iAW5YU4PN3c0PD1bOChbYpF2H5dU56dADiU5bLs9NbtxHAP9lyWz5J+\n",
       "uTy+gcFvDmIqmXpi3ROt9CY7DAAAAC9Bm49J4QpSZTAh3/6plgAs3wBfYLIEru75Y+4F94Ofscx/\n",
       "i/+ZChSREhBGtODxgAAAACBBn61FNEwz/wBJcgwK7PgFwS17aLSfdxTN5BDZ0lCpgQAAABkBn8x0\n",
       "Qr8AhroljP2DOVvxGjDroX/l30K3AAAAGwGfzmpCvwCG7AaS4Xx+E6MVa5pHyuOoezCDLwAAAFVB\n",
       "m9JJqEFomUwId//+qZYAFm+AL7EHQkYst+Ray+MOsK8hOB/gZWvI6H5+PfXpDPgVZH5saFAWyAA5\n",
       "bWLb7GYb4o1L2ZhQojL2e2QpRfmMBY0ApQIkAAAAHkGf8EURLC//AGSiMGk2uzXluojTZ14BtcRb\n",
       "wVlQsAAAABkBnhFqQr8AhuwBCQlDhuDypIkwXTijSMqBAAAAVEGaFEmoQWyZTBRMO//+qZYACzc8\n",
       "8YI+03wBBMoeq6dkzOL2wXamnQFcJ5hXSFEzmc0CdjL2V//3Y5f8lR2pXWCIjdOjEMhmnlAQo8ZQ\n",
       "Jm7TuaIw2AAAABoBnjNqQr8AIMGaiwRs5VDMiX1nrft2dHDUgAAAAEhBmjdJ4QpSZTAh3/6plgAK\n",
       "4IcxcmsBx+9eBHFgPq7Yl1FIetwCfySNL+RcVnhpSigCT3ZGjnc770SomNU2+uAztD7P5hMD1ucA\n",
       "AAAhQZ5VRTRML/8AZJxfne6UqXLZzZI78PWU8Kg4z2KDUdrKAAAAGQGedmpCvwCG6/z5QsNUMIWQ\n",
       "SYAEJBMraSEAAAA+QZp5SahBaJlMFPDv/qmWAALN8ChJpMIbkGY37uDKLmbDBWjFggXaewyCgz2S\n",
       "W/szENQaFn+0Bh1CH2opXcEAAAAZAZ6YakK/ACDBmcP/niWnDrEkwAME8wtu6QAAAF9BmpxJ4QpS\n",
       "ZTAh3/6plgABZvgC+xPZHpZBCpbakUY/Wk8aW80+9n4b1FL2KKrs6MhJG9RhC3UCvAVb1H/pHr8g\n",
       "ZmkbY4Yg+NZOp0EI/s7Esej/tN9mpem7OcOjRRVXTQAAACFBnrpFNEwv/wBknF+d7o+N1A2bdMio\n",
       "fJVTy1WVP3zCUWAAAAAYAZ7bakK/AIbr+/ZQlDhiBvpsgKgd/x8lAAAAP0Ga3UmoQWiZTAh3//6p\n",
       "lgAAs3PPGKfnbRQ6AARv5N64iITwB0SHM/exojuUS24HOV3SVB5lxhvhTi5hqENTTQAAAChBmv5J\n",
       "4QpSZTAh//6plgAArfyrP7YY89x7S9ACKtNTsukwQWKmyeJ+AAAARkGbAknhDomUwIf//qmWAACu\n",
       "+8Hkd4xUQmf0Nzu7Jm1IBFzkUZGZUxpkMi5Vm2s/3zWXsG+WOpxW/m1pePyZKnrAeKYwpHoAAAAf\n",
       "QZ8gRRE8M/8ASXILrvSNnpvxhYM8hs8yxR3WQsvPcwAAABwBn190Qr8AhroZygSV3eocgsOOjA2H\n",
       "G8+ZQ6CAAAAAGAGfQWpCvwCG6/u1lCUsaGEEoHMk+WFrtwAAADdBm0ZJqEFomUwIf//+qZYAAFb+\n",
       "QqOgCdyPiGZdv492pQlj8LKSSKxCPkH8Zx3Wp/PirTYfnnWAAAAAGUGfZEURLDP/AEl13m3uLwIh\n",
       "VEEZObfoYmMAAAAZAZ+DdEK/AIa6GbUPXDCHarJxj5wRhcciWQAAAA0Bn4VqQr8Ahuv7oDphAAAA\n",
       "JkGbikmoQWyZTAh///6plgAAWT5dPAhjLmQBCD+66SRo8R7NtI7hAAAAHkGfqEUVLDP/AEl13m3u\n",
       "LwK7LEb/6P6KklNTe0DRYAAAABgBn8d0Qr8AhroZtQRY4srvwAlJRb2atsAAAAAZAZ/JakK/AIbr\n",
       "+7WaHckWrFmgBwUrmtNyEQAAAGNBm85JqEFsmUwId//+qZYAAVvfVgbH/GRj4PDV+4ZwecjGUV4G\n",
       "uhrLp6nrgUPiGB5NuL8/NdCuUxPbK2RDpRYre+Jd6Vb+lz11gDfEoxN4r8LWabNXrS1T2afudVQg\n",
       "jQ3751QAAAAgQZ/sRRUsM/8ASXXebe4vGXZYlyZ0dYfrzzTxTGUu0F4AAAAYAZ4LdEK/AIa6GcoZ\n",
       "JczSuXoHJg4+LURhAAAAGAGeDWpCvwCG6/vLLm6xYJo1zUdCvq26FQAAAb5BmhJJqEFsmUwId//+\n",
       "qZYAAs3C3wM58Aod0ARv0ka1g2p9b+CQD2KhuQbtf35r7rSfu035+k7td9RT2NUFDpxoaTzUnDd1\n",
       "MQefksDzGj4gM4H77Tz/Lmddashs23QX8G/aTnmSZM8n430YpSW+UqUS7YyPk7dEZ5vdhSQA+aPi\n",
       "RUfz+OW43Z+1vYupGKh2xadFdsxxs88x3MWSfzaBANgXvHRqLAM/Q+mpMZDBQN7o6DVH6U4lrK5e\n",
       "d5f+JkDbNG+XxIepwc95be8Yfrq23Yp49s109z3D4N+VGiMBmH8ycIhOEgVyoRAKbamNL0kZImFD\n",
       "dtFHVTv5q917pbXiSccnqC1pGPN0sKVcDDPnExHjRbdUH15yBM1ihdH8fADajbL7jJGfnDWUg7mO\n",
       "IUUzxPCEH3uUsBKAKQmcveDwxVzybNCyrjUEcq4oIO/kOipl1+Zms9zDIdt4pSqO0pIeAWENOI9r\n",
       "8caIyhf7QTyIwA54nIOBu8oC/AqUMw8Zs2KZlKfza7hmIQ30jtwzF7ap4lBl+aiOHD+dkKyuqqnt\n",
       "PZv6+oHeEEMWE7a//cfSfnhW8Q5v0kbU/iSenCcNST3zgQAAACZBnjBFFSwz/wBJdd5t7i+h2YMm\n",
       "iMJvy8YTXV0xGrgg34YlLpb3gQAAABkBnk90Qr8AhroZ9nJW3EFwnLfv6itia/kgAAAAGwGeUWpC\n",
       "vwCG6/xM0O4T/s89yUv9+0tXAdu/LQAAADJBmlRJqEFsmUwUTDv//qmWAAV1AB2g7yR96EvBVWMU\n",
       "aJAJDFSM9EkvxF7/yj5hEGdhgAAAAB4BnnNqQr8AIMGZ948p0zfvCWtqhfZlarEwrpNGO6QAAACE\n",
       "QZp1SeEKUmUwIf/+qZYACt86H2yZgwqiOGQgopkPFA8PvTKb+zk3zfew7pkiTq+Ii5nEEw0tABsi\n",
       "1chk/ELLwOqI1fv8RDHGw+y6V4dGOJ2mXLZeDH7MjGj8xFtMbZdqyG//6HIbSE2c+hdah/KeQ8Me\n",
       "fznUhEDDcNCQo6ZttAjBU5nTAAABREGamUnhDomUwIf//qmWACqfMwZ1r6eGItiAHB+x/4thPYpx\n",
       "baoIOHrTy+vO7PNGEUOt4ezT7V2bRqzZFyGIAYl3Y+N6t0kA+K52RZ09XVNYTxL01bc7EcerZAIT\n",
       "tp6DGvEgJbN2p0RdzWziEQpYCil39pin+zyflWTqIfkByy8YaXyXrsd6kv3h364SvQqnnY6Gh8Ww\n",
       "dvrBJAFzNMwnHbipld+UGChwgFLriTLSLKs19W9J3mgId0qSLYs+v0n1L6oo+QdmCG3f2vWc4rdw\n",
       "x0v8hIFHkAbq3JQWpSnxN7Ys04YWaTL5W3drjLAegVxvZ6tFhCL8b5RscG2TYF/TUd0wGvmBX3t0\n",
       "3FfeszjltQnMzTCgG3SmGF+2U3SxiO9by+Lsl8EM/hhJCDT+TkPwNh4G1kJPGxFzAOP/hH+Zg7Z8\n",
       "qArlYAAAACdBnrdFETwz/wBJcgu07izY0IGppWobiZDIk3Z/P39fDcEPZGCaaxcAAAAaAZ7WdEK/\n",
       "AIa6HFOStuILhOW/f1FP07GbXzEAAAAZAZ7YakK/AIbsAQqHcJ/3XwmpS/01z1QykgAAAFJBmt1J\n",
       "qEFomUwIf//+qZYAK6gBGg/AAijWbXQX+OfmdS+WcuuubgbAXbtJ5Cwrk95ggeA4zDUKidP+IDMB\n",
       "1xwWOLGlNMBbK0PC8Uwcrfdoph0xAAAAM0Ge+0URLDP/AEl13s0vEw290A18j15q0ivwKLslTHz+\n",
       "D3VaU4jE5n/xCP/wohDeHgJHiwAAABwBnxp0Qr8AhrokneiieYgZLFUZD4ccKAkvYRUbAAAAGQGf\n",
       "HGpCvwCG7AaS0Q0/PZEZSNAjV3BCStkAAABJQZsBSahBbJlMCHf//qmWACyfGUUoCTxAGxIO2CBY\n",
       "4+F+UtgwqsARVIjnZn5WotexRccZ0CBfgpvESdxnVqWkYpiyMSZXM8wpWAAAACBBnz9FFSwz/wBJ\n",
       "dd7dMvDsolk8K4UEhyhLdhkYDhLxYAAAABkBn150Qr8AhroljTJM/nzaIcWvPIbS6waFAAAAFQGf\n",
       "QGpCvwCG7AeMyXethhjmpzR6QAAAAFpBm0VJqEFsmUwId//+qZYALNzzxgjXjZAEQLKOVQnDG7jt\n",
       "BGWoljGtC3KlSPn5jj8CMPClfO1sPRpDoz52+PSvW9vdNgNGczVrafkaDoM87K4AsGGY7/+pJlcA\n",
       "AAAhQZ9jRRUsM/8ASXXe3ZF+pJsXHcvHvQJx/1FGOi5lEA9UAAAAGAGfgnRCvwCGuiWjbjAn6o1J\n",
       "VsLykoYNCQAAABkBn4RqQr8AhuwHm96kwN03Cm9jt/p1Z6FbAAAAO0Gbh0moQWyZTBRMO//+qZYA\n",
       "K7/WwgkpvVNvlEyM+n5A92ot5qlEd6JVCvmS58f5uXHvdwr5kpIzNQW1AAAAHAGfpmpCvwBFbTiG\n",
       "o2FGkKvpWwoErthIltpSsoEAAABLQZuqSeEKUmUwId/+qZYAFm554wSDaw2StvMTMo42xHhVknDL\n",
       "ZEBooSc5mho2w2aX81RDfHi92QxLyUOADxfzjhiOVtzG/uJQcqFWAAAAJEGfyEU0TC//AGScYCLd\n",
       "KigoPXnD/z7jVbrQZOwxK4moW9pBWwAAABoBn+lqQr8AhuwBCQlDhuDypIkwVMtoEdy2gQAAAE5B\n",
       "m+1JqEFomUwId//+qZYACzfAGaEtrcaAwvLNembpYH1QuqBe1HX/mu/dScX4LlstcVZn/3Aq094y\n",
       "q+D4FV7GkJKIgkEsSG4E9cwDlvwAAAAjQZ4LRREsL/8AZKIw/NU0DoA5B4zh9im8gh1m41GaymAb\n",
       "k4AAAAAcAZ4sakK/AIbr/lKFhmyjo2yoJbBdXWy7BYay7wAAAFxBmi9JqEFsmUwUTDv//qmWAAWb\n",
       "4AvsCfJMRvh8St/lcWZrYGjeFlreIs7ox2E/mYjSoREoHHEF8yJuy9pdwtGGclBAXJgCbSXHqem9\n",
       "AWzOVTDiTERU6be+T4T7kwAAAB4Bnk5qQr8AQYMz5V0XaOs8RyEaFa0DjSB9hbdompkAAAA6QZpR\n",
       "SeEKUmUwUsO//qmWAALNzzxpuDMKViVIddwRAvEXTWkB7j1mGIHWZAtz0ffxnbzE5dOngvP1IAAA\n",
       "ABcBnnBqQr8ABHZDIcMfnteLGAaAaVoW6QAAAHdBmnRJ4Q6JlMCHf/6plgACt/IRM6UMSTWbI9E8\n",
       "j3OZy8SjnzmEiqiKA0EY4cC2zfufJZu+SvtBH7dJTQ3hkzpd7mSQcYJ/be9qyXOfTKftkJ3x+Eht\n",
       "/Pso5nfoJkGf8IM/SXVszxZmbpGDxM6hqeLCQ9nuzYqRgQAAAB5BnpJFFTwv/wADOBf+la1HV9o2\n",
       "mb38y+Yg/xFpiAgAAAAZAZ6zakK/AAI7IfNUDJG+9j16O/z5Clg0CAAAADNBmrVJqEFomUwId//+\n",
       "qZYAALKIcPqm1+sf+5jNe5kXxBQ4sCY1TDghBDtLSRP9GBQ9GbUAAABEQZrXSeEKUmUwURLD//6p\n",
       "lgAAs3wpiXVHNrIID9hIAxnvaQpKydnXOACzL+V59G5BAHhmiINxPgkQ48YWUE0cZafMmzQAAAAW\n",
       "AZ72akK/AAEdkMf3nG33b6cUEucYIQAAACNBmvtJ4Q6JlMCH//6plgAAWbnnkbr2pjOnjUPuS9cq\n",
       "OniOgQAAABpBnxlFFTwz/wAATWKr6lsAvF7pALKF5Xv3UAAAABgBnzh0Qr8AAI7EHS06/udBnC8H\n",
       "QMokQTEAAAAWAZ86akK/AACK2vg89nfHC11Oaep0gAAAABVBmz9JqEFomUwIf//+qZYAAAMA8IEA\n",
       "AAAZQZ9dRREsM/8AAEtpkLAwOj6oX4YaXHTpCQAAABMBn3x0Qr8AAIq5sb3EWtWDd5qwAAAAEwGf\n",
       "fmpCvwAAiuu5hajBcFckrqoAAAAwQZtjSahBbJlMCH///qmWAACt8vULwiZJkJjj4GY8XlzvShh7\n",
       "dw5r86Ya3KHXQxFFAAAAHEGfgUUVLDP/AABNbh7A2H5EaIG5DzhHgz5BHdAAAAAWAZ+gdEK/AACL\n",
       "CBikCjwbBbwi7nhdIQAAABcBn6JqQr8AAI7aeKQbzUQue4OyqEW6gAAAAMpBm6dJqEFsmUwIf//+\n",
       "qZYAAV1ACYviZ/h1gBoSUqGfjk8OYubWm3HnoOXYVTChuXAsqnbYzknZlVo8bqpQHyYKHUFMOSC+\n",
       "uhX4Nl1El8HbUW2WMDKd7HjQ52X2X6WtxFjJSTXrgcaiNSAJUq5wA1KPt91ywAFlVVZiPIl841Dp\n",
       "5kd6IciEwgwX8v3g4P0ZfejnHKClXXJyNMajZn8aAjur5cA3rf9RqsKlcrZFN7i4yhf+NDa9gX50\n",
       "2eM4BNrn6+kgmImv/ytlVS5xAAAAKUGfxUUVLDP/AAE1uIBqdE/gAqPXgr+CMwHMlRC+TkVlQDSc\n",
       "PhOZ67NHAAAAFgGf5HRCvwABHfCCFN6uJmtK4S+UgPMAAAAaAZ/makK/AAI7ruVHOXq7ksqRz9nd\n",
       "1wdfIpEAAABeQZvqSahBbJlMCH///qmWAAV3+ZuSnKaSgPGVhAcCsV8lv+Cev2MiErvELYi5iJpV\n",
       "RfKd5hwD/06gmKaWF72A6rcpgzVF8yfgr2j7TXIACNIoK7KB04xxKOSOVbH9gAAAAB1BnghFFSwv\n",
       "/wADTKZDR3PsbKDGp9IXm0JXYkURgAAAABoBnilqQr8ABHddfuiTfK61twuvWYOKsknlgQAAAdJB\n",
       "mi5JqEFsmUwIf//+qZYACu8LJQ+Bz7wARih26F5lppmj3yOK6iC9yGZ2rA05KUG7/p6erfQiBpLM\n",
       "AeTN5Q/2gBvqbRGUmAyw0h/ll6w1TL5ot41GVDFI0/qMUkw3PEnufPvbChr5ABOZoXlRrfO0x+Ka\n",
       "URwwPIuq6VJ/jdL72g2bHH08fb78ufF6oIzSzdJHjE2x6GHAjlzrQksBNV2ZPb8dXAl285f311C1\n",
       "x8MQCUVNS8+2yx/aZC5FS60rIJTYyv0HPUxgoRFCyXaLP6N860W4aNnRaQz3QNqklZFWahgqmLWn\n",
       "vTY8xCLdj/Yau1VunG/YUnoCRxmdfngF61uXiUFIjeuJlypib15OodGP21ceezXyLkcLfDTPe7ZR\n",
       "ZTgyUGVDQE4flIK1Ep2oGlK2ZJjwpBbm2A6PgaUmhd3cDPJcqDlW0ABlsFb8o7yXPgiOc7vP5YrS\n",
       "deIuvqr3r9VjGQwAfroLACM9Dlr3VWmQd0mXsEtmXgU1SJ7xYE5QN2JIOwZ16ddvnQnmcZP0Bp6m\n",
       "xnucHNmcogVUVSeuqzOmA9igelJ5xr5WhEhnhzjtCEWjEFFp+JCAbPMMdCissReVK7U/uaTuZ04k\n",
       "611mT21fT7vTAAAAJEGeTEUVLDP/AAltxAMk7TPL/uZeX8Foi6YePfuy0+FvAbTOwAAAABwBnmt0\n",
       "Qr8AEFdEs7Xhz0rDrCRr8hHdbXNYL/vRAAAAHQGebWpCvwARXXcwtV5mFRG7FLaOqtashmT76NJB\n",
       "AAABgUGackmoQWyZTAh///6plgArv4/ouxr3Ppoy39V2RQ4JiATahQzNrx7pD2wGdEQ1UyuKKyJt\n",
       "aAFpNNbGWaVMqng4o1IQSK3XrEW+kWh2iowqa/HuxHupLuCW4f3dJ56l+8e3vKke7ZS3FxYjj1uy\n",
       "0zdXkJlquA3pY/NINYGLYu3XflP7IGkk6dWSR74fp2aZlFmc7BbMISr8zDozRKcRE8kutYAWvAiz\n",
       "ijCsmnG0pIzHU64VV66SBJ+LJapRnBIzImMpPlmpSXh0ivDAVkCPSUbB6P4ui14q1Zw5r96/fptd\n",
       "ApNVsXtSpVLpSofTD45wkQqSKXPOr8Y5qZE89O/DnBub+nIj3c7fyUh2rrBOHBPVPljTJ+Rwodyp\n",
       "fEawjULilfTa47MacpduYoIw6pBDMksshBKATTS9TdLmy9zp7C9Hs+egK/F2wSHvMduXa7vKtOOW\n",
       "HmGCUuSO3uBCPJcGQArP0Qpb+O1y9AmQaUrnKrHS4q4sEvCG239RcnTrlUGUYMEAAAArQZ6QRRUs\n",
       "M/8AJFC437Nx2+wLNo1eFBoG2BKTFJe2KVv+jBe+khF9enn8wAAAABwBnq90Qr8AIr4MjuNCjCPi\n",
       "bz33WoN896IHaB3QAAAAHgGesWpCvwBDdgPMXMVI2mY7HastoDUQPi5rFVY1IQAAADRBmrZJqEFs\n",
       "mUwId//+qZYALK1kB0nFXAlCYEPV3D9dmAEZljOqv21e+yJUvCdO+31o4QOAAAAAJ0Ge1EUVLDP/\n",
       "ACZQcNG6dYctbjiTXdS3wqCmpotvWsF10BPC85PRRgAAABwBnvN0Qr8AR1zsnh4B3jmtmESmg4sw\n",
       "0jyMwjlhAAAAFwGe9WpCvwBHdd9Xe9ZepBJ9Ivn6TEUkAAAAJ0Ga+UmoQWyZTAhX//44QAU/S95A\n",
       "dwVAhN7NomfagPiMNqhtlB4ZwQAAAB1BnxdFFSwr/wBHbYRejJyViW4Oyp/pCP7Q0dRJTwAAABYB\n",
       "nzhqQr8ARW3i/CK9IULraMMwsGhAAAALuWWIggAEf/73iB8yy2n5OtdyEeetLq0fUO5GcV6kvf4g\n",
       "AAADABacmUP7YcdOWsNAAEPob+ErIPgA81/eZw4Q8r4b0YYkNCMtgSdTXl+USdawtgNcoo3n2SQT\n",
       "2PK8u+PL/RNIAqTWbKJj+KR4R/RZ05v1UVMPoRJnMIBSL9X64M7qkithv0ordEfI9C+ECjbxHZ97\n",
       "ppaklDDVK+IuGSe0sQ+pyOrSdXvv9z6lSJIVe6mkYliWJ+gz9kG/8KEMes7tdrW17KWLZunNO76M\n",
       "bDZqfMoid9w6cmClS0ikEcU2wTHJTsbimPenzn8Af1IY0YXLsqL2wwyUpK6cXfD8kLpwCrqO+VUz\n",
       "E8ap9fhikarUL07/gdhf07LgS69BqqQJyny6flBU3wAoNjwWVJvKWZ++s79qyce5bJ9jxpSXaZDd\n",
       "ZAMSM2dOXxiXsHB8y5XlP8Lr9ZcfVUeWUzaHuS7BOym0rtui+Fndl0uYHv2Y0o4vOg16E4RfW4u7\n",
       "0IVtKbuabZkYyICgkZyuSLpVGeIM7+EX1xd5ziMF4F8KXxy0aAH5oZ/5zrIe3SQuub611nEkE+Ki\n",
       "7cLatbnDkRqvaqoh5w146wPRfkn8cdwBCUKzAzCeyOh9WQ13U4PQ5wCIslznV3hBnyWk40xEfv4L\n",
       "IpmnxFXv8azpksENFUDJBL0zEA9neHX1H9zVwiRwuv+u/7dThuv9u2oYFiaQsfY/sgFKkgzfh8CB\n",
       "MDwfUP/viTPJqDgT+VtbsoqK1lCVlhwdSxpJtjTlimbzj6QDedPq2ls6uMtIMkWQbI653gXyqP/b\n",
       "1UB74cfRBeXwKpE7XRjhYAArhm+SJmqlsYu6x1gQe4j/xGrDT1I/urOUdcY10a5cfLxNauzsGk27\n",
       "NBo54Y1zDC7mFkC3cHg1JkcHgxotXcr6Azgv2OsmZGfBPrdjg3+r8hOl96mF5IhKeEaHMmi4Nidq\n",
       "Z3CYrPiW9tM6QRPx16HR6HJ9o0H5cUy1UwwbJyQBVQBLl93SH4nndxtnySkKFsFeGU+C7aiDxrCQ\n",
       "OqXyGls1JOyOtYKr8Oj5bji4+zoKxANiK7WEkxbr+hGR8wdq9cPvBdQkJlmfBA8SgugBAMoLSaF/\n",
       "qF/wGqKvmBG4ryUxPRtUyT5LAOfvgVrEC6uZBk2acbZYfxiPn/TRSVzp6Jzi5JkNNaUzs9DA5Koc\n",
       "83uCszqxm1+eDGcqO1izmr006uYEC0pqAIPTtPf5m3GzInQRKH7J1osWgkSjPglsIyrYwOzp6xc1\n",
       "I4+Sd1R46umqf8bkqbPYb34C2Cm8z2l1NNHDC+xiiY+AYK240wFq9EABVI6h3gU8lQPFrCJnXcKF\n",
       "vU7ecKzcAKWspfNuz7Tr888lyolFZYPR3rgTZCG4SKX31lhqsaMLmxJQXLSaPbl5w2A9UYLVpiXr\n",
       "KIJCk3o42I1CcywBPUvSuIxp1Vf3DfvR9Zdrv9SCyq+X4LWIJr6OKavOAV+3X7pgiLs934SxssZB\n",
       "zdY2w3bYhAIr0lc7wBSAcfsh5Zh7/fpj8j7FCsznBnozNLrrno7Wny5fulsA8uCbkBvWibrHW/Un\n",
       "8jTsoRtYNP5OgzutVOAzSyD+DFrVLoLMP+7c+LPGkQPB88vn503t2O9GneFUA87PKInQAbF6FIKs\n",
       "4MPhfxtKoftHKFrD/Max/QVK5anThUrnv8QvmwmCvqqpg0sdI37lWOR/pyuxoZdigS6oYjFI5Xoy\n",
       "rHErEwjmGpXxEr11N846gQy85AZvwfyLmQHTFaQxgDRTGbxlwzpvl3DfiaAvFyoFf3gyDE3Jmjm/\n",
       "yTahc5Ayf3AsBI9bFCaiUJ+prtE3ZLh4YCT/Ol1IRvrD384a3aIhO7QbubooUH19j42P4DNsIW2D\n",
       "XEE5d9oDadVO9DIifeqYH4cStQFcwncI4KDRwDTfOi/wHQmibyQeoQ3UEcSZwJ/Mt8z7jmnnFKvh\n",
       "w6UOFgD1+FvZzNoSTlTxrL3+aUE8cX5uwaRRi/e+56sgw8EmKdVwayWc/////0g9h34xDE7e24qC\n",
       "Je1PRgnrEPYum89bXPpPiCI4Us94V+eSwQMK5nK5EF/btWx3LaocLx7LE87aDJMmst1zVqRiJ48s\n",
       "Oabyehv1OG3mBNjeqijSTGOjhf/RToZu0slQSNwpnroU3Vo1tAOF8hGT3ewD5Y3ZA5fbI/iHpDdn\n",
       "MTm7GTH/dDOCa8IZRG/BvYOpTgc5jaWQ+cS8WdpsZDQDaUegjlD5Y/EfVbYhqdfpgM0anqjy9W7o\n",
       "8kyS47jgf79wc8V2wBnOvDP7DBwpRpRO7+IFjDXglb4mG8lnsPFO/h8IrkZTu1kk03luzVoChIcm\n",
       "wtt000xQyAGbgOaPN+eWXKKgkfx9/Qv08lrRpASibX+oZ5Cs0PUnxd4/mbUYRPNDX0XjSqtIpebk\n",
       "kAxVKvpu4E1Bej5jaky2gJSzGbQMmOsv+Qi43fIznFHPkiVQfNmsGUduToED4eRLuRsMIr/PLhnG\n",
       "f5JhUapSiOTPF9Rx3Mj9mVSQPyx22lw+21KPs0d2IAfDEh00oESP+gbrJwR2H89LqsN6LnStLT5h\n",
       "ST5qRCPUEfhq9pN+Bcm0jGv8sYx7yhMtB3U7mucp7lSh8B6kSor813bXXyZ9EzzWncFMji11T9TE\n",
       "3ztm+Xl9mOvB18ddbf/sQQjD/B5Ut4LpORmxMSW8WUf1sdrs0/ameY1Nf4nvU1sRK7wrqhA1NYXy\n",
       "NDQ0urSGslRZPFEwr4WcOdIAgdtYPcpLF33vEj2U0H6YlWKUyadb6jrQ4eZxzH4+4ZoY+t8GZ4jT\n",
       "SbYnHQM7n5tPvuhm9Y0Ap8PjMFek0kj1tgu5B7r5KXKV7fo+ZixYYla7/N9tliXZxCWf9ParxNih\n",
       "hM9B45/ioSR38jn/2UrZqwGlalJfe/2YtAm57aG439EZSZWOz8DNieQbXWf9e3kUq1DBJsv3kCgk\n",
       "6rWo1AJ9qyCqAjp1FqzPq9YMecj0mpU329kiWXpuGdATbQU3tKh52HRxOEs7afbDlPR2p86MD7ir\n",
       "yAjR/LXP8H3vwuJwe0DVttFjhHF4Vn0g8SY5GpyuW9H+/1wsiET0igfap5oSPS7Fo3VbHw3/bQym\n",
       "nsOPd/QQM+E+bnYaT/1e6d2JDUxk1HDLq4BLIDjD7JNkKdS5ixixZ+wzok4u1d1KiU46lIoxbqjX\n",
       "Bd8P4zQ2ZC0osWGqkBT0S8kk8gVdPG7vw2GuRzTL+9L1Ljla2tFzlwhUG75qKQV7lTC0EShq0EaU\n",
       "qWT8jCuHLXmVPwbug13Da4THhTiaLclLI8F+Ipnnf3oK+885k7aNJmCnPeo0t6soUJDG8swlgiT3\n",
       "t64n0Bhp+Cljk+YZqj7RYI5ECRzmTUzF0Q1ciT6HEkQ8xOCFolVh9zQdKddCrej5L6Kq3mXq9jFG\n",
       "1f4Iytt58sRzAQWVK53tMSmu5Lw+Wg0Gp2zN55999RXeGjpVSFLPCLTY7liEmvVmKLmwZFkCuFde\n",
       "qA0q6KY7qHX/7gm8XzUGn/kz8wONq4csr/yaZCLQPn4BajC6OZPTdl1Kf/FMGieqUhyvKWtHiYg1\n",
       "I4l9p7ppJ84exxaKPThekC81DQsIz/ezFQRX2t/AqDCniXrJrToFm5yF+ZLHqlKyNJAKd7FAbe1J\n",
       "/5WexXAmg+6Ia0QwpQ/nBmMi8VJDX4f95z6LReRL0tKY3xyTJ9Vxa1eguhh6GFsMHzmEtzGJVbtn\n",
       "6kjaOFOQTofO5adnmFiWFk6qb/+IUKuCIo2XctQcoaqg9hgl1xxrkOS7SLbzwghcBpklwm1ELWmn\n",
       "iSBMcsR7cnx0PWnIu7Dp86wcKp0j+VO/I63//ZPr436sbmRiAQ7pLsyjSGuJYXZMqm3hhe7qNL61\n",
       "qDW+2pNieXoY4wg2BDbtVbqfz6LTZF+e+E0Ew+KE8MU1q5V9UlKMR1QVykNUB+cvhkfbrhe1n2nr\n",
       "CkCQ/EyicxS8EensVYvc7hw57TkPfDzng5e/xCk2em/UuFh9g0s42S09EB2Ax/TMnMpAAAKNygBH\n",
       "AGWAxoEAAAFJQZoibEO//qmWACymTntgfXXLPZfnQkAfPw0rj+3tAKxLMcPPLZuHaRTz4Gekruu4\n",
       "wJxf+uAnNYue3SLtM/pAAHfNBZJFP/5D+/cUUBkoz6uR1k9Q9OG5bvTNczhUS3lSxDfveEOVZJDI\n",
       "T7qOxrcEoHSqZOvEVmHdBKzbUHgUyZkv53tjE4Jdr3QM1MpWMXNFUUvxkjdX6qqgs3xFfsSP9l2T\n",
       "N+aIo+v3uFnHClq8W6Y6h0W9lpAmC8lLCThujaDurhtUoauKT9tR5twzT1Z8m7S1Kk59FCbZoVCX\n",
       "6gX4UoBXXIlfqhMaKoac9WCsENWKgkWj+IzjteUA5+Pt6vO742EPiDDZnVd5AshzbXdYNQi8/C41\n",
       "wv29Y6zok4sxS6k+vXPBpiJ65EoiDy1RWIPcclGdg/w37Y8Zy1tMML196ScmDVPSqn8/DZgAAAAt\n",
       "AZ5BeQr/AEdt0buyQfme4VFygppUFJDXQwQAM9yR5y7zuiPQ3GF7Mrmg6cTNAAAAUkGaRDwhkymE\n",
       "O//+qZYALNzzxgjIav8I8PZTQEwsn/gEsXwOt0tI8V8UXQDjuAvvBezWS1aXX3Yhoei0t35PEYb+\n",
       "Cq8SJq9U4UKNlZk6+ilTF8EAAAAiAZ5jakK/AEdkBw2uO/MW1wilDpb19GuYxCMxIeZ6Is+UUAAA\n",
       "ADNBmmVJ4Q8mUwId//6plgArfxSenlPtERRNg6ge2efXT9dmYOyUURen3k90/+HnJaGxnYAAAABB\n",
       "QZqISeEPJlMCHf/+qZYAK77iTQnqPiVhvkQbeOeP8kxk52W0Cg6XuEuMDI+CVl8Lj48mpvEW5iVD\n",
       "xpYNuIRO0MEAAAAgQZ6mRRE8L/8AM4F/6VrTM3ctc8I+5H9zX6nlg73JD4AAAAAZAZ7HakK/ACOy\n",
       "GQoA+k3qt6773fPXF9DBgQAAAE1BmstJqEFomUwId//+qZYAFd9xJoT1HxALjkqKEKCW3LQBX2YR\n",
       "f4pwjFSVV9enqQlm9bz82E+r7UfLiIFVrsIMSdbI/xByBz6R+d4+7AAAAB5BnulFESwv/wAZwL/i\n",
       "1FUj3bWTer3MP2GdUpkssoEAAAAbAZ8KakK/ABHZD5m0BpprZoHtKxAbrn7cnSqZAAAATkGbDUmo\n",
       "QWyZTBRMO//+qZYABZueeMEgX9IX+E6LGL2TY5WDknz74t2dCl8xsf2q5VRQzUajrA7zDJSk7m8E\n",
       "LhTMo35OrEWNi0GEFg2wFwAAABoBnyxqQr8AEGDNRNK0DNfJhDhquFgvKVuTsQAAADRBmzBJ4QpS\n",
       "ZTAh3/6plgACzfAGSldSsvgoA55Cl8DmxyKhOBqMHeAY+d9xXzA93RWMp+rzAAAAH0GfTkU0TC//\n",
       "ABiHF65TcU/dYzE5P+mUWirWj0b3E4AAAAAZAZ9vakK/ABBdgCWhKJaEC2nqa7AyYeoqBQAAAHVB\n",
       "m3JJqEFomUwU8P/+qZYAAWb4VvEtwHovYi6fYxi5ISMxljuRP9tQWpkFruHITYKSmYJiCowl1TlG\n",
       "VYXX+SZbPAi1m148ouJffK1HpPe7pshRxBVR63R5fl5Lf/k+h389r3x0iBblclPbCk+etxGZgaAr\n",
       "abAAAAAcAZ+RakK/ABBgzPlXRdpBBqKeCYmDslLpZ/jiwAAAAFVBm5VJ4QpSZTAh//6plgABVPhX\n",
       "H72XfkRaV79GCf9ej3lhLTPcNiv3NbJiIuQgYtn2ODqlLk7gf09XoNbrb0kXEUqNYI3DiH28NqTH\n",
       "lfmxJHIh7D+BAAAAIUGfs0U0TC//ABiHF65TVK0B5Ku0R24TtIMI1dcPBrUi8QAAABoBn9RqQr8A\n",
       "EF2AGFFd3p4e9Y5vssq99mSFgQAAAD9Bm9lJqEFomUwIf//+qZYAAFm555G6/KIz7Z8AvfoR11RM\n",
       "Rtb1M68FERv2ourN7VLMAUnu2BDxhOeNHhNKW8wAAAAhQZ/3RREsM/8AEd13fNsTtnPye9mAK4Wn\n",
       "Bs4U+trgccRYAAAAGgGeFnRCvwAQV0PYEzOw+PO3hvXf91nKPJ29AAAAGQGeGGpCvwAQXYAYUVbo\n",
       "m4pK41NA1wOb0AsAAAAVQZodSahBbJlMCH///qmWAAADAPCAAAAAKEGeO0UVLDP/ABHdd3zbE7Zz\n",
       "8nu6rqyABo4sMQSufoO+mNc7j9DW8UEAAAAXAZ5adEK/ABBXQ9gTM2kd5otjvYmRRoEAAAAYAZ5c\n",
       "akK/ABBdgBhRVumLn+f4cxTcOYNhAAAAckGaQUmoQWyZTAh3//6plgAArgfFtW/xYF1oVpSeIVHN\n",
       "azWjhfvQ/DwfbgRaqQBp39u31mQpKtphv9FU9StxhxBBkwJA8NQeaXxxyXE1/GKc4KbPd3qxA2Xd\n",
       "8yYNlI3v3MemTT0csPJmko/aKqMDneffgQAAACFBnn9FFSwz/wAR3Xd82xO2c/J719mHbgcE7Bls\n",
       "ouCWcHcAAAAaAZ6edEK/ABBXQ9gTM3EDG6cjgfV4ZO6WGIEAAAAZAZ6AakK/ABBdgBhRVxCTit+H\n",
       "calINmvHqgAAAOVBmoVJqEFsmUwId//+qZYAAV3hY3vshg1gDloMr/BX/HmWfRSCqt/BWvV2Rf0E\n",
       "unyNT+Iir1fm6aaZwm1POdvF8q6fCnG1NhRu1RuIUx6L0wzBItSzDqWCLeDqCVC+Xm5WPxh7+eQN\n",
       "7psXt5MPs+5oeH+uk2dYFP9DR4iF+2GVdEdUl+qDF72o6Yq+s5NRElc7+eDIX33YJJh1ap0ekkoP\n",
       "qVJf5Sk584KbbNJuNB0VOZoxGm85g80NZ4dHeZVsNDFnOYECRjXQrft9/gk8Muz4llDxYD1zsD5A\n",
       "CKDiouMu0V40ULnBAAAAKUGeo0UVLDP/ABHdd3zbE7aAJaPV1pG3JGtm3R9TuHV858KqGtbywa/x\n",
       "AAAAHQGewnRCvwAQV0PYEzuVKzRzRRprQrQcYpwZ2YyuAAAAIwGexGpCvwAQXYAYUWzsyhxErmnM\n",
       "qzlkBbU0VUvNjGavkw7gAAAAYUGax0moQWyZTBRMO//+qZYAArjWPvAwB5iDsarIIyuFyLT/Tye6\n",
       "ohdivEktxwrq9jRHzs1AI6r9JZKTfwmnFvfzNBmhSiVDtqv8E0EvbAQAQ6OlfrDX9rem2SYSfhe/\n",
       "oyEAAAAhAZ7makK/ABBgzPvNaJ3SqIaGXnT+mo/PBN3sRre9sQGAAAAAQUGa6knhClJlMCHf/qmW\n",
       "AAV1ACUE2XWpb9bD340HKQli/k1DoXiMubkkfjqJr4ljdP0Yd/VfIh/l62QN/7hjSK7BAAAAIkGf\n",
       "CEU0TC//ABiHF65VLTvUDxDGNkl1HL/k8Mop9HMQbKgAAAAdAZ8pakK/ABBdgPMX0GhVaFcFoEqF\n",
       "HQbwqr3F1IEAAAA5QZssSahBaJlMFPD//qmWAArfzAdHeSMA5UOjymRb//Bl1zZVbSgYJUZDwmjX\n",
       "sHcskQO1EPkBtKLtAAAAHQGfS2pCvwARXXcrywRegl1+ouc9KDMpGTEUhpuBAAABgkGbUEnhClJl\n",
       "MCH//qmWABZOm2gMb1VRBvO2UaipydF8N17we2vxfEbIoMzHGcZfXlXaMm1jLNFgnflWcMTespGx\n",
       "nP20mwlOX2qjo6U1l4dIFBOWWHO9pUrj0lIMsQO/kpsjlKe1vIA3ynLi7TdNK2hMZ8fXqcbB+4EE\n",
       "ILh1+4oIUEYw6qU0reFHM7Tk5LtA628uh91q6LFPxgVQZtJsz5k2hLDjLatVjCzpjAQdXu+GqRwl\n",
       "L9sfk/9HngBjW1koD7Pz69N5D+3nFzCvpigj2ktd+cu49G92XBg2MGNb6PadyZcfxdb+rJgAK5VX\n",
       "mOb5RJkz0/HvLOsSBwezv2wci6VzfZcWYCSIQ+REAxZ0X2coyh1so2X3ID/rKPdrnHDXYHpFAjuU\n",
       "T9MiOa/8FW70Ly3f9ANsCb65zOujVu917RXBjBpYVI1CcERoggmOpbp46aq8jt6Dj5lPuVuwL0bG\n",
       "4a/jlYAwT3nOAp0CCPo4nVlWholNXhBZDog6zZrlfv3lBeEPAAAAI0GfbkU0TDP/ABNbiAamhAl2\n",
       "RUz7kwqOMS01gDlOIkaT/12hAAAAGwGfjXRCvwAR2IqgKihh+sTpNWrNUmiQcmuVTAAAABwBn49q\n",
       "Qr8AI7rvroClEa077vdVeV56PlbHk0hJAAAAR0GblEmoQWiZTAh3//6plgAsnyBRizdNwAQivqyC\n",
       "U2a9TAfYcdyx6cqEuR6Q+Zcz8qV5wn4vChIF2HYbM6WzH46c4NwQtaMYAAAAI0GfskURLDP/ACa3\n",
       "ESxMseVkRhF7w5CR370UGpxI76N12jCsAAAAHAGf0XRCvwBFfBkdxn4hAvbpV6Wm3Db4r4gs+2EA\n",
       "AAAaAZ/TakK/AEd131eFInWmx3wBrVNUx/eSOLEAAABDQZvYSahBbJlMCHf//qmWACzH/xSKI1M7\n",
       "ayGuinD4BmOq83bkGjRGktFTT5J0GhHLDNCFwOjEYuqWDcvmV4sheBpkwQAAACBBn/ZFFSwz/wAm\n",
       "tMhjXD0HKRDQYrugriwnd+ktm231fAAAABwBnhV0Qr8AR4QMPA0Jd/2+higBvkludmG59bAIAAAA\n",
       "GQGeF2pCvwBHZBHpWEcIH/JV5aXs5UnckTEAAAAyQZoZSahBbJlMCH///qmWACyhMERC7TMdHVJw\n",
       "Ad6dFShRhfuOMJuG7m53/iYFsizeCkgAAAAvQZo9SeEKUmUwId/+qZYALNzzxgj3iNztEg+NWi9B\n",
       "maFLlw1NnMqeUkttSbPamtAAAAAgQZ5bRTRMM/8AJrFV+GmBeaL9SsNjNdreN1DBkMnqbZUAAAAa\n",
       "AZ56dEK/AEdiDpazLEDloRvLI5L4mgnOTcAAAAAXAZ58akK/AEVtOJoJkvi6WbjP7sLWUkEAAABf\n",
       "QZphSahBaJlMCHf//qmWACu+4k0J6j4gFxyVFCF+rbloAhUTkeXfKUkBU5cnFHMZUt7OhLpT2GKk\n",
       "zPoUw0ykAMEURp785bQyOLWp+bwTNLI/iW9fNAmNCGmcpSe4lkEAAAAgQZ6fRREsM/8AJbFT75wz\n",
       "4CtFsw0qLAScZwpNyd3WX6sAAAAaAZ6+dEK/AEVc2N7kqvwL3RKT0RFSMD+0grcAAAAXAZ6gakK/\n",
       "ACK2plDUgNVdKiZaITg6UkAAAABuQZqjSahBbJlMFEw7//6plgALN8A3SYeT0s5O2n8JnMvClfM7\n",
       "5AvkoMUGaqOgY9bWVt1uo8l2VVnJwdrvGaksHRuiD1XczeET0DW5Llj3L0GgKZ1MSj9a//fE7MJ+\n",
       "OkUbFgM0aIecI1SdBhOSa2EAAAAcAZ7CakK/AEGDMqtNBucln9H7j8po6kD3JRKskQAAAC1BmsVJ\n",
       "4QpSZTBSw7/+qZYABZueeMEf5xupQkApyhSKssdhlcIqermch4ejuEAAAAAZAZ7kakK/AAjvTVBP\n",
       "CrJPxzcV/8jlGs/KgAAAAGNBmuhJ4Q6JlMCHf/6plgAFb+QoK0oZOev1j8UEJx6oYPUqXzK9Xdgi\n",
       "bK72favUumPOQ3xZono3FuKkZc2cKl8aQhpwZ8+hnFF3fw48wj8SqO5kaaI/wRb/b7pZUR2bUcFW\n",
       "g8UAAAAeQZ8GRRU8L/8ABnAv/Statu+0c5N7+ZfOIqOalt1sAAAAGQGfJ2pCvwAEdkMhw2GPJVeS\n",
       "Skrn3zgr1IEAAABBQZsqSahBaJlMFPD//qmWAAFm555NdiULG+uJ3PfiEtsBuZi+QWr+nYUOWfhz\n",
       "8i0l/PAF40OgZA3E+nc3HePi6YAAAAAXAZ9JakK/AAI7IZCgD6Teq3rw4GXjpFUAAAB0QZtOSeEK\n",
       "UmUwId/+qZYAAV33EmdPUd1nDmSlIf1GpYptqSIAKMNHtEn2JLKm+7qWMr5gzKTuzB3DxoIzz45F\n",
       "nSaXPpzfcqrwwmH4H3lx3Gf8nZgwQ3Xw8W+Too5ljKJK7z+Vui9eAz8OO5JJvQnBwvydnfMAAAAf\n",
       "QZ9sRTRMM/8AAS2Kn9zUGw/uXZaCj9fI7KaGSTtSEQAAABgBn4t0Qr8AAirmxveLuxIeFtWP5Isu\n",
       "hpkAAAAZAZ+NakK/AAEV6XhwhuVWncmH/rawXGoUCAAAAD5Bm5BJqEFomUwU8P/+qZYAAFm555G6\n",
       "rTiBIicTeiAA6S9iFcM9VUaxTyKGnYqaTY1S1VxB6Bc+A8nOLIysOAAAABgBn69qQr8AAI70npOR\n",
       "sbEcrD/8jlGtuoEAAAAtQZu0SeEKUmUwIf/+qZYAAFb+Tr9pp57jwm0agFMDy/wpEqn85nsgJQ89\n",
       "UNISAAAAFUGf0kU0TDP/AABLYqf3NRrlXz2ohAAAABgBn/F0Qr8AAIrEiBSVHg46x+eo2tW4okEA\n",
       "AAALAZ/zakK/AAADAYsAAAAwQZv4SahBaJlMCH///qmWAABZPlszKCLFVyQnnkdbRDHJe6Pd5V/W\n",
       "1tOXOfVVcggDAAAAGUGeFkURLDP/AABNbiDR0yJrjMqtWOXDcTQAAAAVAZ41dEK/AACLCI5JuL4t\n",
       "M8Iu54XSAAAAFgGeN2pCvwAAjuuvoV1ufNMeCwbzfUMAAAAoQZo8SahBbJlMCHf//qmWAACytZEc\n",
       "icbcgle2BVWsnFDQ+y2IeUyc4AAAABpBnlpFFSwz/wAAmtxBn2XsCRPcUEEPrLd6kAAAABkBnnl0\n",
       "Qr8AARXwZHeK5WAlYJ/EnonEACbBAAAAGQGee2pCvwABHddfma7vz53I8FhMnEHF4IAAAAGfQZpg\n",
       "SahBbJlMCHf//qmWAAK7wsbkYbVRtQBG8tRuSkpTvxgBKh9B1JfvGdIZdxUwoZ5t8jiAwQ4zaAPl\n",
       "v4C+SSzfuD+mbGkhSiFsMyfKzRqJjAaJAtlDeuZhpmSZw86N9nJw+FHbBUHdRmbYnP24lzrY735w\n",
       "LWbeVweoz0WZLHBFb8oPeq81ed9kfWARNb5g0Dwpw+SSF5g+zgLAXj2HbsRuhucEnTfn67zevVsO\n",
       "wmNg2+xHeDsuQAzpUbgHDsHYBj4oUklB1QtWG9nUm9DGgVEzKmwP8o8zWypS2XJttIm3s1vSwSTo\n",
       "0FWsH8UFnJs7k0dHCa9l1NulpStoZNSsBPHhDYErw+DyKvUTfdwHJfeHG23RlXmj68h4CnkP2T1o\n",
       "JfPT/sgh27h9jMsdM6W6p8npGNWp6+zLwy/wwR2afr3EUgi1WPso58cNVxNutY0p1F/qfuhpnGi4\n",
       "3XN15Z/5sgVIeXTEEUnQxB/S0/gmdUVMVdYw9R5LandVCJt7S0IrtuLsAWLEBeijCzY/6w7L6IR0\n",
       "jH8wxedrLqdVzt3++QAAACNBnp5FFSwz/wACW3EA/jvOLIcGvGAOX3LtkjY6CAbvh4zzBQAAABYB\n",
       "nr10Qr8AAjvhBGU9XEzhVcJfKP/zAAAAGwGev2pCvwAEV13MLVeZdpSfht+u8EE66uvmBQAAAClB\n",
       "mqJJqEFsmUwUTDv//qmWAArvuJGH4VQDAeEUjaQ10JKAXWm36ateIQAAABsBnsFqQr8ACK67mFqv\n",
       "UOGVnxh1LSJfnbCallEAAAAuQZrESeEKUmUwUsP//qmWAArfzAdP6pv+DR/eMsevsB6bBB7D/ct9\n",
       "1ubrpwlvwQAAAB8BnuNqQr8AEV13MLSZShc2MkrJuYsxjznDLZdvxeasAAABdkGa6EnhDomUwId/\n",
       "/qmWABZuFvgZz4DJ+GjAeVuIV/tQFrf80nvQPaEi/zO7GWY8Vqo76Dl+r4cFuZFhzz6LwXgDo3SQ\n",
       "IM9useN/8TC1WmMdiK4RK+p3KP03f2yUd0ufJvkBh20sO8FyEQ9OVkbDJbmxfUekz6a6ZkR+at9m\n",
       "bpHmmu2aG8HuIKOW2+MQMhgfOY1k4QXVA44XRisD88LfrRnBi1PQ+UmA3hPAd4Zl0iGB98wmwLcy\n",
       "BW72/oTQc/lO7FkinCO01afGkbP7+NTwyOqCo//Y556C+KjqxFST99C2eF3g2k0/j03xMN5jd2PF\n",
       "+zC62rOnMS2e17hiozcU7Cd/O/0RFcmFtwAyDQ27JzLr0nmcZEHReFfpNb2LHwxTGgGDi3LJXMMN\n",
       "s1sfEKktvNdTL/nJte1ILnZuAUUEXIxZzxjZQy4jekMtxhAQxOMJYC7Apl/rPzrd6sRe2hWX2mUO\n",
       "cbV4/tHKz6w9nLYkE8Bw12pp3JvwAAAAIkGfBkUVPDP/ABNbiAanNoz6eT93ZNHCQ/DZ+sJN2oIY\n",
       "0lcAAAAaAZ8ldEK/ABHe+k0ZZXYwujFqJhTH7JAx4XcAAAAZAZ8nakK/ACO6765/SRFFxV0iyean\n",
       "Yb8iYQAAAEpBmytJqEFomUwId//+qZYAK6gAx1vAEBt8TIhu6Ug0I18D9CNZb+f4dAI7BGiIMvI3\n",
       "BtsO+rzrJyPHZJTqlem3MYyBXWD96hdHTAAAAB5Bn0lFESwv/wAzimQ/DfF8K0fb1PAzh39/nu2s\n",
       "SMEAAAAbAZ9qakK/AEd119C4SD9DKUpfmODBm13svMypAAAAKEGbbUmoQWyZTBRMP//+qZYALJ8q\n",
       "oA2BhCb6Cgh7404BsqlRQj7EY0MAAAAYAZ+MakK/AEdtHpHpBiuXPb3Xvv5Vjh3RAAAARUGbkUnh\n",
       "ClJlMCH//qmWACyfRdT00oAgA223ZVWiX32FdfjmOSPJUNS2Vh2mlEs0fRLIxP47XCzt7jUzoWN6\n",
       "tAR/MBcxIAAAACJBn69FNEwz/wAmtMM/Msw8NX6FQn34fFPgRRfBQuMRL4LYAAAAGgGfznRCvwBH\n",
       "bOYuoY6VhUd/AaDjMuTyhawJAAAAFwGf0GpCvwBHddyoxpaO0VS9saWhTBpIAAAAK0Gb1UmoQWiZ\n",
       "TAh3//6plgAs3PPHpg0DIsBq3tCQ8o4s7ZyLN/sU+sCNDVgAAAAeQZ/zRREsM/8AJrg9m7RZ879B\n",
       "8lU7M9DhZXBzUsDhAAAAGgGeEnRCvwBHhBFyDfpYCmWMQdY6rP7m4Ty5AAAAGgGeFGpCvwBHZDH+\n",
       "B5kk5PycpbzrUanxGOphAAAAMEGaGUmoQWyZTAh3//6plgArvuJNCeo+HVEM7MUIA/gWMlMQFkka\n",
       "aUh074eWItiuGwAAACFBnjdFFSwz/wAlsVPvnDT4vYaCespswnwFRwWU5aUxwIAAAAAbAZ5WdEK/\n",
       "AEVc2KEooL6C4mB2Xg0V3q6IY5yxAAAAHAGeWGpCvwBBdgRf1o4aAhWCiwVXoc41rf9pSCAAAABY\n",
       "QZpbSahBbJlMFEw7//6plgALNzzxpuFho20ADCAvzoEekEAz65n5tiyvaaYF43fL1ptnrGxGmV/k\n",
       "JaAW131OyTBJ7XhER3dr7tzdXS2ZqYP/aeHQmfZQgAAAAB8BnnpqQr8AQYMyq00G5yWf0cn1//Iu\n",
       "UcRFTKoVEvGZAAAAM0GafknhClJlMCHf/qmWAArvuJNCeo+IBcclRQhfq8W952ixQR0CAGwEfgAT\n",
       "Suc4Bp13pgAAACBBnpxFNEwv/wAxDi9cqlShi/8eKETkDgT/eJUy0BwNlQAAAB0Bnr1qQr8AQXX/\n",
       "MkJRLZJHDVKB/me5zsVpxr2JeQAAAG5BmqBJqEFomUwU8O/+qZYAAs3wBfYE+kbm8ORhWHyCsSIJ\n",
       "xsD8ospsPx72Yba+SzNy0tI64yMw2BcqBnyHDZNj60mTE3plqFvaqfMNjudpxKjzLBS+L9Knm/I7\n",
       "deZrx1J2dGdR6laoNIgnIBKtMAAAABwBnt9qQr8AQYMyqyVsZE1s6cRZTr0/E9LJJHRpAAAAKEGa\n",
       "wknhClJlMFLD//6plgABZvhkBrPiIl9WchFKX4KZtIVYTz+T6YAAAAAZAZ7hakK/AAI7IDiGVHfm\n",
       "NUqEgGamniExGQAAAEBBmuZJ4Q6JlMCH//6plgABW/mKeyvV2o+FbdHt9BV7aNZnyDFgX0jFpsuq\n",
       "BACETxGyL2etKNQ291WgB7nc4yJhAAAAH0GfBEUVPDP/ABHaAT8r9Ar5U3LOiOBqjuVV0mK6JoAA\n",
       "AAAaAZ8jdEK/AAIq5sb3JWhAbTo4x8g/7P7lbMAAAAAWAZ8lakK/AAEVtRTGpAaq3UTLRCcIiQAA\n",
       "ADpBmylJqEFomUwIf//+qZYAAFm555G65JfABAmGUH3Aec8PphvSRblsjChHstEq7qyuGeMzExrJ\n",
       "Et5gAAAAHUGfR0URLC//ABiIi/QfVPqt7E7N8MSdIvRf5aPVAAAAFgGfaGpCvwAAjshkkQBtBwfC\n",
       "Pw9WkIAAAAArQZttSahBbJlMCH///qmWAABW/mty4S58BIFRgFLk2ZX53lSODNZOGr9r5wAAABlB\n",
       "n4tFFSwz/wAR3XeKD3GOoc2/TI0rRWbbAAAAFwGfqnRCvwAAisTm52KMMyGK6jl1hwVhAAAACwGf\n",
       "rGpCvwAAAwGLAAAAUkGbsUmoQWyZTAh///6plgAAWT5d+UoCJYG6XNUDv+VdtavDzZKqJhkSCb1S\n",
       "RorVtYl+etWXEyfgFi0lgUnT8bTmGjuGFRsvvB2jHdQyw6fpoGAAAAAeQZ/PRRUsM/8AEd13ig9x\n",
       "kGIn49tP5P74lTuu4jqgAAAAFgGf7nRCvwAAiwgYVTXKuVieAAWD6qEAAAAWAZ/wakK/AACO2nik\n",
       "G81ELnuAf/DXMAAAAItBm/VJqEFsmUwId//+qZYAAVvjBICEn31Vpb3PutjtSJ4LA4GQN4iYfLYI\n",
       "yPiJ+C62GnqO33X2GM5ZwFXFIrjyv64cFJ2YC8fYhs3AT4mGuhgX8/DmD4wmjlM1FICmSP9iatp5\n",
       "4SLsJKqMcOWEyDurYDgyVPiZH3h9C4+3C0QgSK2Ec5v1TIezEB/AAAAAIkGeE0UVLDP/ABHdd4zl\n",
       "9ckXpZTgZoXyjgxBmcw3xJY8UsEAAAAZAZ4ydEK/AAEWD4VTs97cVLDwTDkk+YNSwQAAABgBnjRq\n",
       "Qr8AAiuu5haTHXv0GnT7AX/CRpkAAABBQZo4SahBbJlMCH///qmWAAK38xTGEQ7Or3IEhlBv49gd\n",
       "jUcNw8/vb1veaTQc9C3jfUR4s9Q6jVx0zdR93WSukMAAAAAhQZ5WRRUsL/8AGIiMBJlNJkG4KPMq\n",
       "PqlR5GWUj3vBr0lQAAAAGQGed2pCvwAEV13MLVeoZUrOxTyRUdXULmEAAAHdQZp8SahBbJlMCHf/\n",
       "/qmWAAre+jrelhRM4TNzeDXkBNBZL1MrbIGPWdzZQ7yflFH2f8EHk+wQvVUgc8WcKq7fk4dZAaXO\n",
       "QoehPikjZOUM+fbEptsKRdHn/ssPgwabpxKqOZ8WrZwB7RRLGjJfr6UtBhcfZpZJ1vcmZSRnJ45S\n",
       "BkHpShwQm4svcY9bmyXMDXJezKoOzw/9uf1knIlW76de2hoJE5FoipsN8My8o9e95ySUxhGijGYA\n",
       "RQobVW9T4gmuJEz4nv9vckTSqJsbO/aGam2chO/k8yQIjJHE2SOdMlrMMdGppzw/wbyOpdptpemR\n",
       "Kysv40ALnIRBNpob5WIqCO9zYBe/FP6fEb52URgzIp9I0VWnGwtyAB1kFatrmN2qz5ueoFQBSRX6\n",
       "GupkkRsr4BlWDLaNNGJxxvpOlV927eA0tt6PBFjm/XtrctqH1tVHA/vMzAxUf2Zf82ZxKJ1j4VMm\n",
       "+vTwWSObxHyuDniW+pDzE9vUU4MxnKHnX2gT0rGEwGE+JyT+zDlut1MeRtKKQ0NQ3msON79WoFfc\n",
       "frXVSJ7q9daD0s9NDARFDDrfrXjsWgPmh1Uw+qRHvYvge2Iz76AlTJBLzTcyZmLkhjHqqIQ7u3wu\n",
       "ggErB0W84EdZAAAAI0GemkUVLDP/ABHdd5231hkNPg0fK9IISVEfnhTkUNdSoH6kAAAAGAGeuXRC\n",
       "vwAIr4MjuNCjCBgp0q5kzMfnKwAAABsBnrtqQr8ACO2qoQLfNTqbR4BS29d45BKLpGAAAABdQZq+\n",
       "SahBbJlMFEw///6plgALJ8vvUQ5JggChRtQcQ/3aIInYTpocJin3Tg+G1Kmlp6CRoWtMw/ZGvfyf\n",
       "J9JQnyR7HmCfRjGNfw5vwIWIRb5uAlMjcys+KCYty+7LAAAAGwGe3WpCvwAR3XX6n8rwqoq25qCV\n",
       "US+aYMdJcQAAALxBmsJJ4QpSZTAh3/6plgArvCxuzom1AF/udj6um97FDfMDwmyupU4tSkT/8XgI\n",
       "fLOaQdM/KtqX5GD3JGnWmBVrExTZ9PLPLOOAu+yFFmmt4UZksYOI5uI0O26ku9NQHJKRtE/yC5bD\n",
       "Jb9/wOE51as4f9Xci014N1QpO7v0i4OHJw71xN0vPYmN6hib9s0zjdubMoXG+PXkCG/YYTswqDpQ\n",
       "iJZcRLgTL1EhKhWvbM3JDUdsUl0eWixC4nyrYAAAACVBnuBFNEwz/wAltxAMk7TN/8sq5W/8R+I6\n",
       "f9owzibsgjIcrFhTAAAAGwGfH3RCvwBBXRLRjP4q9m1RpSgRCi1tK02GLAAAABsBnwFqQr8ARXXc\n",
       "wtV4qlPg66BJFR3DiXYc+YEAAABZQZsGSahBaJlMCHf//qmWACyfHmWLJT3ABYDh3KKtxqtJpmMn\n",
       "p8+NDl0T6aJiRSr3WOm7m4VYHqoutvSSzcAQpJdCY/2VLEaYGOzK9qxhBJAux7Wx92mu4mEAAAAf\n",
       "QZ8kRREsM/8ASW4tvfmdWWs+f1K4UI5U+3eGJtw8wAAAABYBn0N0Qr8AR3wgeM3pnQai5/BtbwfM\n",
       "AAAAGQGfRWpCvwCG7AeTEXhdBqpI95GMZhNsJGEAAAAbQZtJSahBbJlMCHf//qmWAFU555GTP7eJ\n",
       "BBJuAAAAI0GfZ0UVLC//AGSDUrO2qsb9m75gR6KhOAA3Ex/Sf3gQUGLBAAAAFAGfiGpCvwBHddyo\n",
       "xpaO0VS9pqPSAAAAZUGbikmoQWyZTAh3//6plgAsnz8eoNYACkStud8oYD4WpE0XNYtEbqiLJtGV\n",
       "fbtTIPVs7bHKIGCjyVxt3V2AJtfQzuT/S8Aq5N8axGtRi4F88EGDyWk+cjP2wkwUJQS/zph+lxqz\n",
       "AAAALEGbrknhClJlMCHf/qmWACzfAF9hEcStr9EPBz8nxcpt54sqapI774M6cHjBAAAAIUGfzEU0\n",
       "TDP/ACaxVfoHggei/UvUYzXa3jcJnZ40kMl8WQAAABkBn+t0Qr8AR2IOlrMsQFnSOHaOh9FHB2Ej\n",
       "AAAAGwGf7WpCvwBFbTiGozKNOvcZVlZGJEHK4bJTFgAAAFZBm/FJqEFomUwId//+qZYAFm+AL7EH\n",
       "QjL0UJhUXPPQmAnGMCAX93j4p9fj316Qz4FWR+bGhWuW80C/BEM1T0hKlN+2UhI/e3VMZpbA/Al+\n",
       "YwFjQClAiQAAACBBng9FESwv/wAxERitIuzbVuqjTm76E8gh4xHk0l7owQAAABkBnjBqQr8AQXYE\n",
       "X9aOHQPMacfKm2LyuAHdAAAAUkGaM0moQWyZTBRMO//+qZYACzc88YI+03wBBMoeq6dkzOL2wXam\n",
       "nQFcJ5hXSzKlbA55/mjztU24fzoUzEszpX4mPGTGI2zycSmF8g4+BZYpWGwAAAAdAZ5SakK/AEGD\n",
       "MqtNKOopLE0SMGA/DoQViViYxYEAAABIQZpWSeEKUmUwId/+qZYACt/IUFaEdqj14UhC1QyUlm/x\n",
       "sShW9ImAD0GvmcubAk92Ro6Gn9q0qtk1BSvDXyM7Q/NlQ2DFHDTBAAAALUGedEU0TC//ADEOL1yq\n",
       "SULDVOa2awKok9sR6cjMAQAUO7uyfUgrapoZTFd4DQAAAB0BnpVqQr8AQXX8RmAQDTUNMa8E8Sq6\n",
       "auTKdAU2VAAAADdBmphJqEFomUwU8O/+qZYAAs3wKEmF8zQifH+ZSVQAx54349/na+dbt8FQrTUP\n",
       "+PhpmOT9fCr8AAAAHQGet2pCvwBBgzKrOT2TVKLhascN4jFAW+dkpsdPAAAAXUGau0nhClJlMCHf\n",
       "/qmWAAFm+AM0JpyLX9f5w5k7TxQBXn2AGoSzIIeQ3vF5kc8OIQwWVdPTFTICwFXugqnHqJFKDarF\n",
       "W4j1udNSCT8eHft1EMKIWhbILVqM4rFdoAAAACRBntlFNEwv/wAxDi9cpqlaA9L3MEAIQsGAbST0\n",
       "zp4NyvxmQIAAAAAeAZ76akK/AEF1/EZaK2LnLj4jT06SeHpBpV9OT+4JAAAAS0Ga/EmoQWiZTAh3\n",
       "//6plgAAs3PPGCMhjKAxTkOCSAKqwkplFUOoGOHGI/v7y5S3NZcXSxlp92O6gNrYxlE1ralrWF9z\n",
       "LnD0WGgPQAAAAHBBmx5J4QpSZTBREsP//qmWAACuCHCk4zSe97JzQrgApOQ1tmgX/Rmju5DZfNrz\n",
       "4P+cHc4SICmJ2wa+f1r+rh6+5WaKtg0qSvVgJI74aHm7uKEkObLJcRSd4y6iefeiKPfH5MEX9BV4\n",
       "vxRTeE7q8Mp9AAAAFwGfPWpCvwABFbTiFcxHVW7QrV4zhUTNAAAARUGbIknhDomUwIf//qmWAABZ\n",
       "vhTEvCbo0ii6AQda28fG0vOHUxOvHj1Ul4Fy4ihkabFEZR7GTq6Bme3wlwNTggLg6EfLUwAAABpB\n",
       "n0BFFTwz/wAATWKr5Nv7he2ILDO7O5jgfwAAABkBn390Qr8AAI7EHS06/uc8/43VVbg8VO6QAAAA\n",
       "FgGfYWpCvwAAitr4PPZ3xwtdTmnqdIEAAABBQZtmSahBaJlMCH///qmWAABW/osagBnRt/2TH8ak\n",
       "eq57ZjRmjcmOyk6fg1o3rCuluWQqS6o+i9t/3Hw7HEX8se8AAAAaQZ+ERREsM/8AAEtpUQsq8TgW\n",
       "vVMwR6sWLmAAAAATAZ+jdEK/AACKubG9xFrVg3easAAAABMBn6VqQr8AAIrruYWowXBXJK6rAAAA\n",
       "a0GbqkmoQWyZTAh3//6plgAArv9ZuoF0ROG3gF3CmpsuOY2jdVBy3gA9z3BWpC1SRtrmaPw1JCNt\n",
       "fcwulaoh97huMamUREGL0XTmfi9+zs2yR/0RQ5nn05FzPylFHPnsoDxbKuIYChIf5bf+AAAAGUGf\n",
       "yEUVLDP/AABNakIUgaATJEMUtw/fsaEAAAAWAZ/ndEK/AACKxJBUnl3kQ2bWBgxeqgAAABcBn+lq\n",
       "Qr8AAI7aeKQbzUQue4OyqEW6gQAAAItBm+5JqEFsmUwId//+qZYAArf1ufm+vlIqmhufUArigsQi\n",
       "nK33PzO7ZhNxdEQXF67qV8bDgN7dg2UeWHSv4G6fPy6an4DdafP6kCB4RvcWCxN0u1h7RBfU6Qr+\n",
       "Xd+Fnr8Ti14fwuZbE240aIq1zhE7aM6HNK2YD9+bQ/zlNqkN1tuAt6OO/QJL2XmBAAAAH0GeDEUV\n",
       "LDP/AAE1uIBqdGLA62B8JbCwlwTO9gr+buEAAAAXAZ4rdEK/AAEd8IIVDgDvQrQufwbXDzEAAAAa\n",
       "AZ4takK/AAI7ruVHNHpcmCmH6l9dA+h2P4AAAABKQZoxSahBbJlMCHf//qmWAAV33EqO2J+BocAF\n",
       "JugCN+kjWsG1PrfwSAexUNyC1kK6Jj0JPDLJFD2WfXUJQis+nYHX76b8rUvFeewAAAAhQZ5PRRUs\n",
       "L/8AA0ymQ0dz7EA5zF4+DTSVFEx2rZP56v2BAAAAFwGecGpCvwAEd11+6JN8+TlD5uxiDQVJAAAA\n",
       "L0Gac0moQWyZTBRMO//+qZYABW/j+tFmXQfmfKVX+d/u/WsWwh5NellFH/BP1mYQAAAAHQGekmpC\n",
       "vwAIppe06XbjDIRNeFUYgq0OlhPljhXxAAAAjEGalEnhClJlMCH//qmWAArfOiamFtScS2kzGg5d\n",
       "v0SgPD7E1ul2aK6xA4i1L4RRTsZ2c9dKn+f3MY23bxKyF+S8fz9QZ2KBY3+B1cjeW9qnpUKhBzLu\n",
       "68JLJiFEX//gEYf6KgVwe0H8zSJVy6mkw/itKRllnOBaIfW3Dq1n+g/7424ryiKG4gWI82W/AAAB\n",
       "PUGauEnhDomUwIf//qmWABXWpUEZ9NQAizsKfxUQbVQoCzMMocNErr4uU8oqb55B3sk44E8I2LHR\n",
       "kMQAxLvIwd7UlZ1VeOxc6er87KeWjuUn273bnOvQZdoSdtiMsoJoTesVlUlb4N8Uu90Omw2UyXYg\n",
       "JrsiNGGEgxNuoSm0uWyTGOzoThQnS9/l0zbQQrGjlAaMR/EKEMfNYSAblfjKwZhq7e3uUcISghNO\n",
       "sTnFjSxO7o7EuXBGUcr2bG4NdElW0tdw50wx69KfwHHKjSXIfzwNaRrCTyEFGKt8gtb4rRe2PaH8\n",
       "7RIe6jgXoMB0ZNlsBZFfzUXREiPpZLllN3Ga63dATXqexki4N8yPA1GUers6Y5mYaxVFEOAg+EwW\n",
       "p/2ZxjPT/LM25zixCWBcBog08biR7p///WCno/ZgACtnAAAAIkGe1kURPDP/ABLbiAfx3nHBb7fU\n",
       "fxI1haqJwLZDH/xjD5gAAAAXAZ71dEK/ABHfCCMs4PJb7wW19eLMlgQAAAAbAZ73akK/ACK9MyiI\n",
       "x72a42SLa+BmK+5sIdBBAAAAYUGa/EmoQWiZTAh///6plgArdhsiQVOTghfJmeCagCLSv+0x7RkA\n",
       "v/kphxdqoU2Fw6oypZA/ihIhkvomE1xhYIOHKLP9CjetX+AZQtVmSZAH5VyWWG/17bnHeifItyyz\n",
       "I2oAAAAzQZ8aRREsM/8AJagfVWLEaUNAI3Bx6SzqJPRF1w/ulEpGxXwMO8ek4Hh7BnT4RIx0ZwH3\n",
       "AAAAGwGfOXRCvwBFe2B3bFjSD9b4OWoFFCNb6zA/wQAAABgBnztqQr8ARXpcUO5kvZ2DB5jIJdAn\n",
       "AWUAAABVQZsgSahBbJlMCHf//qmWACyfGMooCOUAR48wh0iG32W4oIFjkOKTdnNjFUOBFfe7IKyg\n",
       "B6x0sSHLwVnv7EiEJglFCueKN/27u8R8CQmb/HiZlfq5TQAAACdBn15FFSwz/wAmtMhjXH/HKZYG\n",
       "c7ESI1SBwAZ9ypnbJ/vkIwOg6fsAAAAXAZ99dEK/AEdiSCpO29I6Ru0gKgKVE7AAAAAdAZ9/akK/\n",
       "AEdkPqtjACPDcH54j4QDklWQKxnIC4kAAAA8QZtkSahBbJlMCHf//qmWACygiVuWsUpcYLAAgSn9\n",
       "0VBPn7KobHp/c8PH9DLAyBab+X1l1R3yakRSmXETAAAAK0GfgkUVLDP/ACa4RWey4EYpSNhJH87M\n",
       "AP84uKFSwbBjB1tqzCDfbD4wHxsAAAAcAZ+hdEK/AEeEUTgCmABc0KAAzBIyDz5YRh4JmQAAABoB\n",
       "n6NqQr8AR3qCNvsomA2OenQ/oyaq7mgkYAAAADBBm6ZJqEFsmUwUTDv//qmWACu/1sIJNXWzlEyM\n",
       "+n43HafqSwIyFS7cqEREw8GaJmAAAAAcAZ/FakK/AEVtOIai5MWiiW9kv21pmWzs/xhDvQAAAElB\n",
       "m8lJ4QpSZTAh3/6plgAWbnnjBINq+rZOAOwlQ7tLcO2Y8/aNe2DnAuIcYkwIIy0R/rMu/CPVvG5I\n",
       "Fa9Z5raRwiwjFib1YGWAAAAAIkGf50U0TC//ABpmWuYMte3net0HSUAAtqsTqAkZxAfII60AAAAl\n",
       "AZ4IakK/ACOyHzGYUACc2KcJ6v0zKqH83spvn7d60Pt6nK1jUgAAAEFBmgxJqEFomUwId//+qZYA\n",
       "CzfAF9h0irXxL6oWFI1gBCLC+36dmBYZlCdVzPUAuwTYH5z75sbX+tSHKpoRZdj9YQAAADJBnipF\n",
       "ESwv/wANMy3dkFTMIgAmSeee4go602cRiV4iqfQ8VcTfdEZ37bN88Za9UI3poQAAAB8BnktqQr8A\n",
       "EdkPmqIG5n0APlbFMphrLnBy/vATNhWxAAAAX0GaTkmoQWyZTBRMO//+qZYABZvgG6S3b76BoW0D\n",
       "adG7GaVOkrg7XcNPxtaIZ+EYo9UjiTgj3s4x4EfWiqJEBeY79YxCnCyJU0om8cBBsfdSrABrTgof\n",
       "Y4pLovA01oUZAAAAHwGebWpCvwAI7IkYGbOBnAaVstxaUAJXuVLdMZaQHWAAAAA1QZpwSeEKUmUw\n",
       "UsO//qmWAALN8ChJ3GIlABCANN2AmWQDLJiOx9UUa6SJV0KboU7ywqRtvcQAAAAXAZ6PakK/AAR2\n",
       "QyHDH5+9XJHhwMvHQlUAAABDQZqTSeEOiZTAhv/+p4QABWPRRfrQrOgo4Tz9U+L96QwDXqVwzbgC\n",
       "M4eUGYPPcOzYiUGqScc2XKldTTEQg7gXM/+5IAAAAB1BnrFFFTwv/wADOBf+la1HV9o2mb38y+cs\n",
       "ekMHAgAAABYBntJqQr8AAjshkJ/ONvvY9OKCXOADAAAAKEGa1EmoQWiZTAhv//6nhAABYgqWRT8Z\n",
       "UITTwfhM5u8l0dGqO2qqaYEAAAA0QZr2SeEKUmUwURLDf/6nhAABY/eE2KRbtNhTvkIYWAFuPbLT\n",
       "XY885//svv5bDhVUwpDzdQAAABYBnxVqQr8AAR2Qx/ecbfdvpxQS5xggAAAAIEGbGUnhDomUwIV/\n",
       "/jhAAAqPtXx9bcK4LS8F5Z3JUQC4AAAAHEGfN0UVPC//AABpmWcvvTSEIHE9v6y3i8HOTSEAAAAY\n",
       "AZ9YakK/AACOyGO6jod6Y88OBnCtgNbAAAAZcm1vb3YAAABsbXZoZAAAAAAAAAAAAAAAAAAAA+gA\n",
       "AGGoAAEAAAEAAAAAAAAAAAAAAAABAAAAAAAAAAAAAAAAAAAAAQAAAAAAAAAAAAAAAAAAQAAAAAAA\n",
       "AAAAAAAAAAAAAAAAAAAAAAAAAAAAAAAAAAIAABicdHJhawAAAFx0a2hkAAAAAwAAAAAAAAAAAAAA\n",
       "AQAAAAAAAGGoAAAAAAAAAAAAAAAAAAAAAAABAAAAAAAAAAAAAAAAAAAAAQAAAAAAAAAAAAAAAAAA\n",
       "QAAAAAGwAAABIAAAAAAAJGVkdHMAAAAcZWxzdAAAAAAAAAABAABhqAAABAAAAQAAAAAYFG1kaWEA\n",
       "AAAgbWRoZAAAAAAAAAAAAAAAAAAAKAAAA+gAVcQAAAAAAC1oZGxyAAAAAAAAAAB2aWRlAAAAAAAA\n",
       "AAAAAAAAVmlkZW9IYW5kbGVyAAAAF79taW5mAAAAFHZtaGQAAAABAAAAAAAAAAAAAAAkZGluZgAA\n",
       "ABxkcmVmAAAAAAAAAAEAAAAMdXJsIAAAAAEAABd/c3RibAAAALNzdHNkAAAAAAAAAAEAAACjYXZj\n",
       "MQAAAAAAAAABAAAAAAAAAAAAAAAAAAAAAAGwASAASAAAAEgAAAAAAAAAAQAAAAAAAAAAAAAAAAAA\n",
       "AAAAAAAAAAAAAAAAAAAAAAAAABj//wAAADFhdmNDAWQAFf/hABhnZAAVrNlBsJaEAAADAAQAAAMA\n",
       "oDxYtlgBAAZo6+PLIsAAAAAcdXVpZGtoQPJfJE/FujmlG88DI/MAAAAAAAAAGHN0dHMAAAAAAAAA\n",
       "AQAAAfQAAAIAAAAAGHN0c3MAAAAAAAAAAgAAAAEAAAD7AAAOgGN0dHMAAAAAAAABzgAAAAEAAAQA\n",
       "AAAAAQAACgAAAAABAAAEAAAAAAEAAAAAAAAAAQAAAgAAAAABAAAKAAAAAAEAAAQAAAAAAQAAAAAA\n",
       "AAABAAACAAAAAAEAAAgAAAAAAgAAAgAAAAABAAAGAAAAAAEAAAIAAAAAAQAACgAAAAABAAAEAAAA\n",
       "AAEAAAAAAAAAAQAAAgAAAAABAAAGAAAAAAEAAAIAAAAAAQAACAAAAAACAAACAAAAAAEAAAoAAAAA\n",
       "AQAABAAAAAABAAAAAAAAAAEAAAIAAAAAAQAACgAAAAABAAAEAAAAAAEAAAAAAAAAAQAAAgAAAAAB\n",
       "AAAIAAAAAAIAAAIAAAAAAQAACAAAAAACAAACAAAAAAEAAAYAAAAAAQAAAgAAAAABAAAIAAAAAAIA\n",
       "AAIAAAAAAQAABgAAAAABAAACAAAAAAEAAAoAAAAAAQAABAAAAAABAAAAAAAAAAEAAAIAAAAAAQAA\n",
       "BgAAAAABAAACAAAAAAEAAAoAAAAAAQAABAAAAAABAAAAAAAAAAEAAAIAAAAAAQAACgAAAAABAAAE\n",
       "AAAAAAEAAAAAAAAAAQAAAgAAAAABAAAKAAAAAAEAAAQAAAAAAQAAAAAAAAABAAACAAAAAAEAAAoA\n",
       "AAAAAQAABAAAAAABAAAAAAAAAAEAAAIAAAAAAQAABgAAAAABAAACAAAAAAEAAAoAAAAAAQAABAAA\n",
       "AAABAAAAAAAAAAEAAAIAAAAAAQAACAAAAAACAAACAAAAAAEAAAoAAAAAAQAABAAAAAABAAAAAAAA\n",
       "AAEAAAIAAAAAAQAACgAAAAABAAAEAAAAAAEAAAAAAAAAAQAAAgAAAAABAAAKAAAAAAEAAAQAAAAA\n",
       "AQAAAAAAAAABAAACAAAAAAEAAAoAAAAAAQAABAAAAAABAAAAAAAAAAEAAAIAAAAAAQAABgAAAAAB\n",
       "AAACAAAAAAEAAAgAAAAAAgAAAgAAAAABAAAGAAAAAAEAAAIAAAAAAQAABgAAAAABAAACAAAAAAEA\n",
       "AAoAAAAAAQAABAAAAAABAAAAAAAAAAEAAAIAAAAAAQAACAAAAAACAAACAAAAAAEAAAoAAAAAAQAA\n",
       "BAAAAAABAAAAAAAAAAEAAAIAAAAAAQAACgAAAAABAAAEAAAAAAEAAAAAAAAAAQAAAgAAAAABAAAK\n",
       "AAAAAAEAAAQAAAAAAQAAAAAAAAABAAACAAAAAAEAAAgAAAAAAgAAAgAAAAABAAAKAAAAAAEAAAQA\n",
       "AAAAAQAAAAAAAAABAAACAAAAAAEAAAYAAAAAAQAAAgAAAAABAAAKAAAAAAEAAAQAAAAAAQAAAAAA\n",
       "AAABAAACAAAAAAEAAAoAAAAAAQAABAAAAAABAAAAAAAAAAEAAAIAAAAAAQAACAAAAAACAAACAAAA\n",
       "AAEAAAQAAAAAAQAACgAAAAABAAAEAAAAAAEAAAAAAAAAAQAAAgAAAAABAAAIAAAAAAIAAAIAAAAA\n",
       "AQAABgAAAAABAAACAAAAAAEAAAgAAAAAAgAAAgAAAAABAAAGAAAAAAEAAAIAAAAAAQAACAAAAAAC\n",
       "AAACAAAAAAIAAAQAAAAAAQAACgAAAAABAAAEAAAAAAEAAAAAAAAAAQAAAgAAAAABAAAKAAAAAAEA\n",
       "AAQAAAAAAQAAAAAAAAABAAACAAAAAAEAAAoAAAAAAQAABAAAAAABAAAAAAAAAAEAAAIAAAAAAQAA\n",
       "CgAAAAABAAAEAAAAAAEAAAAAAAAAAQAAAgAAAAABAAAKAAAAAAEAAAQAAAAAAQAAAAAAAAABAAAC\n",
       "AAAAAAEAAAYAAAAAAQAAAgAAAAABAAAEAAAAAAEAAAoAAAAAAQAABAAAAAABAAAAAAAAAAEAAAIA\n",
       "AAAAAQAACgAAAAABAAAEAAAAAAEAAAAAAAAAAQAAAgAAAAABAAAKAAAAAAEAAAQAAAAAAQAAAAAA\n",
       "AAABAAACAAAAAAEAAAoAAAAAAQAABAAAAAABAAAAAAAAAAEAAAIAAAAAAQAABgAAAAABAAACAAAA\n",
       "AAEAAAgAAAAAAgAAAgAAAAABAAAIAAAAAAIAAAIAAAAAAQAABgAAAAABAAACAAAAAAEAAAYAAAAA\n",
       "AQAAAgAAAAABAAAIAAAAAAIAAAIAAAAAAQAABAAAAAABAAAGAAAAAAEAAAIAAAAAAQAACgAAAAAB\n",
       "AAAEAAAAAAEAAAAAAAAAAQAAAgAAAAABAAAKAAAAAAEAAAQAAAAAAQAAAAAAAAABAAACAAAAAAEA\n",
       "AAoAAAAAAQAABAAAAAABAAAAAAAAAAEAAAIAAAAAAQAACgAAAAABAAAEAAAAAAEAAAAAAAAAAQAA\n",
       "AgAAAAABAAAIAAAAAAIAAAIAAAAAAQAACgAAAAABAAAEAAAAAAEAAAAAAAAAAQAAAgAAAAABAAAK\n",
       "AAAAAAEAAAQAAAAAAQAAAAAAAAABAAACAAAAAAEAAAoAAAAAAQAABAAAAAABAAAAAAAAAAEAAAIA\n",
       "AAAAAQAACAAAAAACAAACAAAAAAEAAAQAAAAAAQAABgAAAAABAAACAAAAAAEAAAYAAAAAAQAAAgAA\n",
       "AAABAAAEAAAAAAEAAAgAAAAAAgAAAgAAAAABAAAIAAAAAAIAAAIAAAAAAQAABgAAAAABAAACAAAA\n",
       "AAEAAAgAAAAAAgAAAgAAAAABAAAGAAAAAAEAAAIAAAAAAQAACAAAAAACAAACAAAAAAEAAAoAAAAA\n",
       "AQAABAAAAAABAAAAAAAAAAEAAAIAAAAAAQAACgAAAAABAAAEAAAAAAEAAAAAAAAAAQAAAgAAAAAB\n",
       "AAAKAAAAAAEAAAQAAAAAAQAAAAAAAAABAAACAAAAAAEAAAoAAAAAAQAABAAAAAABAAAAAAAAAAEA\n",
       "AAIAAAAAAQAABgAAAAABAAACAAAAAAEAAAgAAAAAAgAAAgAAAAABAAAGAAAAAAEAAAIAAAAAAQAA\n",
       "CgAAAAABAAAEAAAAAAEAAAAAAAAAAQAAAgAAAAABAAAKAAAAAAEAAAQAAAAAAQAAAAAAAAABAAAC\n",
       "AAAAAAEAAAoAAAAAAQAABAAAAAABAAAAAAAAAAEAAAIAAAAAAQAABAAAAAABAAAKAAAAAAEAAAQA\n",
       "AAAAAQAAAAAAAAABAAACAAAAAAEAAAoAAAAAAQAABAAAAAABAAAAAAAAAAEAAAIAAAAAAQAABgAA\n",
       "AAABAAACAAAAAAEAAAYAAAAAAQAAAgAAAAABAAAIAAAAAAIAAAIAAAAAAQAABgAAAAABAAACAAAA\n",
       "AAEAAAoAAAAAAQAABAAAAAABAAAAAAAAAAEAAAIAAAAAAQAABgAAAAABAAACAAAAAAEAAAoAAAAA\n",
       "AQAABAAAAAABAAAAAAAAAAEAAAIAAAAAAQAACgAAAAABAAAEAAAAAAEAAAAAAAAAAQAAAgAAAAAB\n",
       "AAAKAAAAAAEAAAQAAAAAAQAAAAAAAAABAAACAAAAAAEAAAoAAAAAAQAABAAAAAABAAAAAAAAAAEA\n",
       "AAIAAAAAAQAABgAAAAABAAACAAAAAAEAAAYAAAAAAQAAAgAAAAABAAAKAAAAAAEAAAQAAAAAAQAA\n",
       "AAAAAAABAAACAAAAAAEAAAgAAAAAAgAAAgAAAAABAAAGAAAAAAEAAAIAAAAAAQAACgAAAAABAAAE\n",
       "AAAAAAEAAAAAAAAAAQAAAgAAAAABAAAKAAAAAAEAAAQAAAAAAQAAAAAAAAABAAACAAAAAAEAAAoA\n",
       "AAAAAQAABAAAAAABAAAAAAAAAAEAAAIAAAAAAQAABgAAAAABAAACAAAAAAEAAAgAAAAAAgAAAgAA\n",
       "AAABAAAGAAAAAAEAAAIAAAAAAQAABgAAAAABAAACAAAAAAEAAAoAAAAAAQAABAAAAAABAAAAAAAA\n",
       "AAEAAAIAAAAAAQAACAAAAAACAAACAAAAAAEAAAoAAAAAAQAABAAAAAABAAAAAAAAAAEAAAIAAAAA\n",
       "AQAACgAAAAABAAAEAAAAAAEAAAAAAAAAAQAAAgAAAAABAAAKAAAAAAEAAAQAAAAAAQAAAAAAAAAB\n",
       "AAACAAAAAAEAAAgAAAAAAgAAAgAAAAABAAAKAAAAAAEAAAQAAAAAAQAAAAAAAAABAAACAAAAAAEA\n",
       "AAYAAAAAAQAAAgAAAAABAAAKAAAAAAEAAAQAAAAAAQAAAAAAAAABAAACAAAAAAEAAAoAAAAAAQAA\n",
       "BAAAAAABAAAAAAAAAAEAAAIAAAAAAQAACAAAAAACAAACAAAAAAEAAAQAAAAAAQAACgAAAAABAAAE\n",
       "AAAAAAEAAAAAAAAAAQAAAgAAAAABAAAIAAAAAAIAAAIAAAAAAQAABgAAAAABAAACAAAAAAEAAAgA\n",
       "AAAAAgAAAgAAAAABAAAGAAAAAAEAAAIAAAAAAQAACAAAAAACAAACAAAAAAEAAAQAAAAAAQAABgAA\n",
       "AAABAAACAAAAAAEAAAoAAAAAAQAABAAAAAABAAAAAAAAAAEAAAIAAAAAAQAACgAAAAABAAAEAAAA\n",
       "AAEAAAAAAAAAAQAAAgAAAAABAAAKAAAAAAEAAAQAAAAAAQAAAAAAAAABAAACAAAAAAEAAAoAAAAA\n",
       "AQAABAAAAAABAAAAAAAAAAEAAAIAAAAAAQAACAAAAAACAAACAAAAAAEAAAYAAAAAAQAAAgAAAAAB\n",
       "AAAEAAAAAAEAAAoAAAAAAQAABAAAAAABAAAAAAAAAAEAAAIAAAAAAQAACgAAAAABAAAEAAAAAAEA\n",
       "AAAAAAAAAQAAAgAAAAABAAAKAAAAAAEAAAQAAAAAAQAAAAAAAAABAAACAAAAAAEAAAoAAAAAAQAA\n",
       "BAAAAAABAAAAAAAAAAEAAAIAAAAAAQAABgAAAAABAAACAAAAAAEAAAgAAAAAAgAAAgAAAAABAAAI\n",
       "AAAAAAIAAAIAAAAAAQAABgAAAAABAAACAAAAAAEAAAYAAAAAAQAAAgAAAAABAAAIAAAAAAIAAAIA\n",
       "AAAAAQAABAAAAAABAAAGAAAAAAEAAAIAAAAAAQAACAAAAAACAAACAAAAABxzdHNjAAAAAAAAAAEA\n",
       "AAABAAAB9AAAAAEAAAfkc3RzegAAAAAAAAAAAAAB9AAADSoAAAE4AAAAQAAAADQAAAAtAAAB/wAA\n",
       "AC4AAAAnAAAAIgAAAEkAAAAxAAAAIQAAAC0AAAAhAAABDAAAADkAAAAeAAAAHQAAADcAAAAhAAAA\n",
       "VwAAACYAAAAdAAAASAAAACQAAAAaAAAAGgAAADQAAAAlAAAAHgAAAB0AAABYAAAAJAAAAB4AAABf\n",
       "AAAAIwAAAB0AAAAsAAAAIQAAAF4AAAAiAAAAGgAAAEIAAAAdAAAAegAAACQAAAAcAAAAHQAAAEcA\n",
       "AAAdAAAAMgAAABoAAAAcAAAADwAAAC4AAAAdAAAAGQAAABsAAAArAAAAHwAAAB4AAAAcAAABpwAA\n",
       "ADEAAAAcAAAAHwAAAC0AAAAjAAABvwAAACsAAAAeAAAAHgAAADgAAAAjAAAAJAAAADQAAAAlAAAA\n",
       "HQAAABwAAABJAAAAIwAAABoAAAAZAAAATgAAACYAAAAdAAAAHAAAAEEAAAAnAAAAHwAAAB4AAABR\n",
       "AAAAIwAAADQAAAAnAAAAIAAAAGYAAAAkAAAAKgAAABsAAABAAAAAJQAAAB4AAAAdAAAAOwAAAB0A\n",
       "AAAaAAAAKwAAABkAAAAaAAAADwAAAFIAAAAeAAAAGgAAABoAAACEAAAAIwAAABwAAAAcAAAAOgAA\n",
       "AB4AAAAdAAAB4gAAACMAAAAeAAAAHgAAAGEAAAAeAAAAwAAAACUAAAAdAAAAHwAAAFgAAAAgAAAA\n",
       "HAAAAB0AAAAiAAAAJQAAABoAAABkAAAAMwAAACQAAAAdAAAAHwAAAFkAAAAiAAAAHQAAAFgAAAAe\n",
       "AAAATAAAACUAAAAdAAAAQgAAAB0AAABjAAAAJQAAABwAAABDAAAALAAAAEoAAAAjAAAAIAAAABwA\n",
       "AAA7AAAAHQAAAB0AAAARAAAAKgAAACIAAAAcAAAAHQAAAGcAAAAkAAAAHAAAABwAAAHCAAAAKgAA\n",
       "AB0AAAAfAAAANgAAACIAAACIAAABSAAAACsAAAAeAAAAHQAAAFYAAAA3AAAAIAAAAB0AAABNAAAA\n",
       "JAAAAB0AAAAZAAAAXgAAACUAAAAcAAAAHQAAAD8AAAAgAAAATwAAACgAAAAeAAAAUgAAACcAAAAg\n",
       "AAAAYAAAACIAAAA+AAAAGwAAAHsAAAAiAAAAHQAAADcAAABIAAAAGgAAACcAAAAeAAAAHAAAABoA\n",
       "AAAZAAAAHQAAABcAAAAXAAAANAAAACAAAAAaAAAAGwAAAM4AAAAtAAAAGgAAAB4AAABiAAAAIQAA\n",
       "AB4AAAHWAAAAKAAAACAAAAAhAAABhQAAAC8AAAAgAAAAIgAAADgAAAArAAAAIAAAABsAAAArAAAA\n",
       "IQAAABoAAAu9AAABTQAAADEAAABWAAAAJgAAADcAAABFAAAAJAAAAB0AAABRAAAAIgAAAB8AAABS\n",
       "AAAAHgAAADgAAAAjAAAAHQAAAHkAAAAgAAAAWQAAACUAAAAeAAAAQwAAACUAAAAeAAAAHQAAABkA\n",
       "AAAsAAAAGwAAABwAAAB2AAAAJQAAAB4AAAAdAAAA6QAAAC0AAAAhAAAAJwAAAGUAAAAlAAAARQAA\n",
       "ACYAAAAhAAAAPQAAACEAAAGGAAAAJwAAAB8AAAAgAAAASwAAACcAAAAgAAAAHgAAAEcAAAAkAAAA\n",
       "IAAAAB0AAAA2AAAAMwAAACQAAAAeAAAAGwAAAGMAAAAkAAAAHgAAABsAAAByAAAAIAAAADEAAAAd\n",
       "AAAAZwAAACIAAAAdAAAARQAAABsAAAB4AAAAIwAAABwAAAAdAAAAQgAAABwAAAAxAAAAGQAAABwA\n",
       "AAAPAAAANAAAAB0AAAAZAAAAGgAAACwAAAAeAAAAHQAAAB0AAAGjAAAAJwAAABoAAAAfAAAALQAA\n",
       "AB8AAAAyAAAAIwAAAXoAAAAmAAAAHgAAAB0AAABOAAAAIgAAAB8AAAAsAAAAHAAAAEkAAAAmAAAA\n",
       "HgAAABsAAAAvAAAAIgAAAB4AAAAeAAAANAAAACUAAAAfAAAAIAAAAFwAAAAjAAAANwAAACQAAAAh\n",
       "AAAAcgAAACAAAAAsAAAAHQAAAEQAAAAjAAAAHgAAABoAAAA+AAAAIQAAABoAAAAvAAAAHQAAABsA\n",
       "AAAPAAAAVgAAACIAAAAaAAAAGgAAAI8AAAAmAAAAHQAAABwAAABFAAAAJQAAAB0AAAHhAAAAJwAA\n",
       "ABwAAAAfAAAAYQAAAB8AAADAAAAAKQAAAB8AAAAfAAAAXQAAACMAAAAaAAAAHQAAAB8AAAAnAAAA\n",
       "GAAAAGkAAAAwAAAAJQAAAB0AAAAfAAAAWgAAACQAAAAdAAAAVgAAACEAAABMAAAAMQAAACEAAAA7\n",
       "AAAAIQAAAGEAAAAoAAAAIgAAAE8AAAB0AAAAGwAAAEkAAAAeAAAAHQAAABoAAABFAAAAHgAAABcA\n",
       "AAAXAAAAbwAAAB0AAAAaAAAAGwAAAI8AAAAjAAAAGwAAAB4AAABOAAAAJQAAABsAAAAzAAAAIQAA\n",
       "AJAAAAFBAAAAJgAAABsAAAAfAAAAZQAAADcAAAAfAAAAHAAAAFkAAAArAAAAGwAAACEAAABAAAAA\n",
       "LwAAACAAAAAeAAAANAAAACAAAABNAAAAJgAAACkAAABFAAAANgAAACMAAABjAAAAIwAAADkAAAAb\n",
       "AAAARwAAACEAAAAaAAAALAAAADgAAAAaAAAAJAAAACAAAAAcAAAAFHN0Y28AAAAAAAAAAQAAACwA\n",
       "AABidWR0YQAAAFptZXRhAAAAAAAAACFoZGxyAAAAAAAAAABtZGlyYXBwbAAAAAAAAAAAAAAAAC1p\n",
       "bHN0AAAAJal0b28AAAAdZGF0YQAAAAEAAAAATGF2ZjU4LjEyLjEwMA==\n",
       "\">\n",
       "  Your browser does not support the video tag.\n",
       "</video>"
      ],
      "text/plain": [
       "<matplotlib.animation.FuncAnimation at 0x1166b0240>"
      ]
     },
     "execution_count": 27,
     "metadata": {},
     "output_type": "execute_result"
    },
    {
     "data": {
      "image/png": "[encoded data removed]",
      "text/plain": [
       "<matplotlib.figure.Figure at 0x11651bb70>"
      ]
     },
     "metadata": {},
     "output_type": "display_data"
    }
   ],
   "source": [
    "import matplotlib.pyplot as plt\n",
    "import numpy as np\n",
    "from matplotlib.animation import FFMpegWriter\n",
    "\n",
    "# 1. Create a figure window.\n",
    "fig = plt.figure()\n",
    "\n",
    "# 2. Create axes within the window\n",
    "ax = plt.axes(xlim=(-2, 2), ylim=(-3.5,3.5))\n",
    "\n",
    "# 3. Two objects to animate\n",
    "line,   = ax.plot([2,1], [4,3], marker=\"\" , ls=\"-\")  # a line\n",
    "point, = ax.plot([1], [1], marker='o', ms=30)        # a point\n",
    "\n",
    "# Spring data\n",
    "k = 100\n",
    "m = 20\n",
    "w = np.sqrt(k/m)\n",
    "phi = 2\n",
    "A = 2\n",
    "\n",
    "# Position of mass as function of time\n",
    "def fun(time):\n",
    "    return A*np.sin(w * time + phi)\n",
    "\n",
    "# 4. Animation function\n",
    "# Timestep = 1/20 = 0.05\n",
    "def animate(t):    \n",
    "    x = fun(t/20)     \n",
    "    line.set_data([0,0], [4, -x])    \n",
    "    point.set_data(0, -x)    \n",
    "    return line, point\n",
    "  \n",
    "    \n",
    "# 5. Create animation\n",
    "# 500 frames\n",
    "# 50ms (0.05s) delay between frames to match timestep\n",
    "anim = animation.FuncAnimation(fig, animate, frames=500, interval=50)\n",
    "\n",
    "rc('animation', html='html5')\n",
    "\n",
    "# 6. Play animation\n",
    "anim\n",
    "\n",
    "# 7. Save animation - if uncommented, animation won't move\n",
    "writer = FFMpegWriter(fps=15, metadata=dict(artist='Me'), bitrate=1800) \n",
    "anim.save(\"img/movie.mp4\", writer=writer)\n",
    "# writer = animation.writers['ffmpeg'](fps=15, bitrate=1800)\n",
    "# anim.save('img/spring_movie.mp4', writer=writer)\n"
   ]
  },
  {
   "cell_type": "markdown",
   "metadata": {
    "slideshow": {
     "slide_type": "slide"
    }
   },
   "source": [
    "### Example : Simulating Physical Systems\n",
    "#### Trajectory : Plotting the Object\n",
    "<a id='ExamplePlottingObject'></a>\n",
    "A projectile is launched with initial velocity $v$, at an angle of $\\theta$.\n",
    "\n",
    "If we neglect the force of drag on the projectile, it will travel in an arc. \n",
    "\n",
    "It's position in the horizontal (x) and vertical (y) direction at time $t$ can be found by.\n",
    "\n",
    "$x= vt\\cos(\\theta)$\n",
    "<br>$y= vt\\sin(\\theta) - \\frac{1}{2}gt^2$\n",
    "\n",
    "where gravity, $g=9.81$ms$^{-2}$ \n",
    "\n",
    "Initial conditions:\n",
    " - $\\theta = \\pi/2$\n",
    " - velocity, $v=10$ms$^{-1}$ \n",
    "\n",
    "<img src=\"img/projectile3.png\" alt=\"Drawing\" style=\"width: 300px;\"/>\n"
   ]
  },
  {
   "cell_type": "markdown",
   "metadata": {
    "slideshow": {
     "slide_type": "slide"
    }
   },
   "source": [
    "1. Create a figure window\n",
    "1. Create axes within the figure window.\n",
    "1. Create a point to animate\n",
    "1. Create variables for $g$, $v$, and $\\theta$\n",
    "1. Write a function, `fun` to find x and y position as a function of time, t (function argument = t)\n",
    "1. To animate the motion of the particle create a function, `animate`. Within animate call the function, `func`. Use a timestep of i/10.\n",
    "1. Use the function `animation.FuncAnimation` to create the animation."
   ]
  },
  {
   "cell_type": "code",
   "execution_count": 271,
   "metadata": {
    "slideshow": {
     "slide_type": "slide"
    }
   },
   "outputs": [
    {
     "data": {
      "text/html": [
       "<video width=\"432\" height=\"288\" controls autoplay loop>\n",
       "  <source type=\"video/mp4\" src=\"data:video/mp4;base64,AAAAHGZ0eXBNNFYgAAACAGlzb21pc28yYXZjMQAAAAhmcmVlAAAQOm1kYXQAAAKuBgX//6rcRem9\n",
       "5tlIt5Ys2CDZI+7veDI2NCAtIGNvcmUgMTUyIHIyODU0IGU5YTU5MDMgLSBILjI2NC9NUEVHLTQg\n",
       "QVZDIGNvZGVjIC0gQ29weWxlZnQgMjAwMy0yMDE3IC0gaHR0cDovL3d3dy52aWRlb2xhbi5vcmcv\n",
       "eDI2NC5odG1sIC0gb3B0aW9uczogY2FiYWM9MSByZWY9MyBkZWJsb2NrPTE6MDowIGFuYWx5c2U9\n",
       "MHgzOjB4MTEzIG1lPWhleCBzdWJtZT03IHBzeT0xIHBzeV9yZD0xLjAwOjAuMDAgbWl4ZWRfcmVm\n",
       "PTEgbWVfcmFuZ2U9MTYgY2hyb21hX21lPTEgdHJlbGxpcz0xIDh4OGRjdD0xIGNxbT0wIGRlYWR6\n",
       "b25lPTIxLDExIGZhc3RfcHNraXA9MSBjaHJvbWFfcXBfb2Zmc2V0PS0yIHRocmVhZHM9NiBsb29r\n",
       "YWhlYWRfdGhyZWFkcz0xIHNsaWNlZF90aHJlYWRzPTAgbnI9MCBkZWNpbWF0ZT0xIGludGVybGFj\n",
       "ZWQ9MCBibHVyYXlfY29tcGF0PTAgY29uc3RyYWluZWRfaW50cmE9MCBiZnJhbWVzPTMgYl9weXJh\n",
       "bWlkPTIgYl9hZGFwdD0xIGJfYmlhcz0wIGRpcmVjdD0xIHdlaWdodGI9MSBvcGVuX2dvcD0wIHdl\n",
       "aWdodHA9MiBrZXlpbnQ9MjUwIGtleWludF9taW49MjAgc2NlbmVjdXQ9NDAgaW50cmFfcmVmcmVz\n",
       "aD0wIHJjX2xvb2thaGVhZD00MCByYz1jcmYgbWJ0cmVlPTEgY3JmPTIzLjAgcWNvbXA9MC42MCBx\n",
       "cG1pbj0wIHFwbWF4PTY5IHFwc3RlcD00IGlwX3JhdGlvPTEuNDAgYXE9MToxLjAwAIAAAAT5ZYiE\n",
       "ADf//vbw/gU2O5jQlxHN6J0zH78VuLo0N73OAAADAAA33SOPBdk/UBkPNv8y80d95K1rqTpXIhMH\n",
       "/HxGhI67v7ASQWeqEo2cm3AAAA31iu0A+7wXL8XgefHxEWccgExDdHXPe9nxcm+rgt9BUD6J916U\n",
       "QAKk74jOdHEUdPv1xHRFr8TVu22HuQbnLwG1V/pNkKDSTKCXTAsC+ql3nk1t+HAnnQSv5vcAAF77\n",
       "4ruFvlHxljjzEBNdRsGgdcqDMOqx0XkO9LBIAYoOU+quEKAsv2Aq8lhNY5gZk4Pjv6KNmpHlAdeI\n",
       "9gWl20GWeKVzUNrO2eIHE/2uGYyXnvQRqGIV2IjwJByVA4cZ8gACJ5tCUDfvkjXuDi46+Zu4t8Do\n",
       "1JgQtY3FSdfHX7Yfx0BXDtALcmKLctadsdxXWyXpslJZxrIawTi6zUq79rMPdqB8bB6l4KwTT8pR\n",
       "yvgViYaeUHsilapEDSAPE6XCNQlKe6G7ZtZdN3v9XXvigUW9B1jbo5ACOxOAe6SRkNVH5ULWOq8P\n",
       "aYuzWrfCkh1YeFf/ro82mmgnRVyLn+0yjaF7+ZabnrDE3Y3TIoEVVSwO35G3hakBUvn2DzMnaQNJ\n",
       "4zBz0scUobUP5i5ku3zQowFXB2g2WhAkwD5WQDLFa7LQ8ej9B1h4Rb5Wb63Dqj/1uA1w4wa5zetY\n",
       "+o5cDs3xuCaU9nSt2BRC0wX9edeH7roU5nW7nt4ydx1ru1Mu35yHVESHTOBpivM8qQcME/hhD90h\n",
       "8n+8IfMC//ysW1TWly/rkZyy0wKV0gAYMuPNxKWEQ4vFAAIp3YWBpq+iSUfBNnSGnc3vMagEHiGb\n",
       "VlDRBzVGfotF3R+gAByZ+BkD4z+cbXN4tcfWUSQOoUWG/V0u4zhqaufguKlUI3WMh9DAWK9w3Mj+\n",
       "DPf01KdeQ0PVigXCRaTB9Zz6/7RjoWZ/JQfwLW9ezXdZjGOsCWW1vphEfcefMUg5DUOCwFMhVgmZ\n",
       "Im5+wNNvkqekYoLMjVWRgt5cEK6gSKPiflMEGzJqWgxbCh0Hc+VP/ftgRRgrtIx81TzPMsh3NTs2\n",
       "hCyJwUNXAvkCHCTyHLf9fBF4bvNeM+Ax2mkx62pzoZBWtqGcRSJgoriarDeZYwqYHpNAM6NPB1uO\n",
       "NW9nhM7Ve/7j70bEh/+bswo3+C+mkWXn7mNnPjRaNUCSo651J02GwJ1zOYNB0m8ymKafBOC1OFCo\n",
       "OWoYVSj9tk7r89D86tcYbBaJ45L+goAlUXh92OiRwIxL6fM+J4585rFFgsGYG6uEPGXxdjiXGBIb\n",
       "ScfZvYU3TwVcQAI4ZKAFJERgfmZwr95qlaNvWV4bMko6ItRyFEkdW4DX8/Z2Hp73I5e5Fnb9vvLK\n",
       "stQiy2criqYx3wkii/08GSh/JPVWlGBeQB8EA+0vG+9kh3iNSZYELtK+1TybwEYCffjsMSBhyKyh\n",
       "ADVw4xswNu2hjC4uVcJhVrtt2eF8Sjd5kSVEaOX5noRh01qC+PG31otYJHeUkDO16Cqh8V9I1EeD\n",
       "BMKi2kHU+hxf7WiWv2JVBdbKhrv7lMqHYPibqV0sRYvrszQOf1kKPokipJpeqpgl4HaK2AgQAhsj\n",
       "gKX+E4MUcNQYFrw1DgT14y2McPze4Dwi1CK46bDs5JnLT3kveU4CG07CtVQeB4tyGuzEoUfiuCEn\n",
       "Dc3j8jj8SgwBSb7+YesICQAAAgRBmiFsQ3/+p4QAAHEVyQB8+z80YRFkD5T2i/mLrCg+99bMFCVL\n",
       "3gPdDNpzz3X58BFP6hQ+8k0swkxFKSTP6dJc9TcnChIc7loPuzuLPd/UQcDXkBizMEk5X8k2dgkC\n",
       "OEYdLzjXfw4fTjSeNp9kRuKKVD18qzC1r0uSjarqJDE5FqH2s3Gjd+6Am+km+W3cLj7r+I+H2JUp\n",
       "BKjBZZQYu0yhupwLOcsI1SkyI9ZAiOJGno73apHNITdGyiT9SBMMRIO7XMLM4Y6JCBokQ44z9/fx\n",
       "pdTzw9CDoWPkGp6hX18SKrfCi9Azum5Qrh/BlxiYDT2qzbOrETgQK92mUoaKclqR9yaFOTtNKaKN\n",
       "48rJgXPoPYiacXZJO886FVBP2RWMtg7YXRVG9f+DTmKQBnSG8+C2iMVYFUc9gkvHX+oH/9rJC19k\n",
       "YedpM6ORdlFwdH46zhCcW+S/iVDb3GCWAtxFuFNpOG7KETJWxshI/SRVKDR+EWNxG4v7VZbX0S61\n",
       "9F8G/guny0WwkrQb2tSaN9Z2nWuPY42jqH/D/UjNBNWT/diCFqiFRKeLIVig2nzdT4WyJZoLSyow\n",
       "bFC21zov7l5rE9fInyja0uW/ybA4B4+dCJ7G0gJWemAJI4MwUMwVkCPM0rF+EzIfJb4GZG4fS3SJ\n",
       "89B4W1/UDkQUAE1kPMXqvP4ipkyTvc0AAAEDQZpCPCGTKYQ3//6nhAAA0usCzF1XxHQAIfqz92q0\n",
       "Ymdpb3DL6qBI/yqBKF2Ns8FfSH/n8y7XZ+z8vsJfDa0cX6Z82/qBrIbcct+R77s6aMN7WSgKpm31\n",
       "Fs0nEuOONULadRAktIiIk5XHLDZ7EIgb1cytu/a6K7xjIvUBC6KWHBe/TCqL7EYxJ5ws860uJXJw\n",
       "uRo3a3zkei0n3wSt1bM1m+CwaNuSCovyQ4gVp7IO6D7mqdUpHUDTGkGQJJXnSeL1F3iTQaJDxi0D\n",
       "sdf23ikqVSG1+og+nsyk0Fan2zdfZrCHBXVocqeddAFsXerGirR/+Kd5SFqJl9IR2HSs57MLsizf\n",
       "gQAAAK5BmmNJ4Q8mUwIb//6nhAADJ69+Czf3AESnqjo1+h1beQP9mHzzUcdvDwSZmvE5kpvZArn0\n",
       "o1WgfFV7sZY9qhs2usMYJy/Y/LsC0TUQZVEn5dA1wyas778E8t0c46F2UluHN/ir2wgG912yfzq0\n",
       "cEMvblmt1VKRWegvUd9sp9+FFoqdymkRF66QFmOrX3tHCCYGSXX4tGypVwpY+0BAea4xqNm5SBil\n",
       "nJGE3mWuJ5gAAAA8QZqESeEPJlMCG//+p4QABh4uSLtCM5PjF6NNGbXG+XT9N6RCf3CxiWH3VLnO\n",
       "wONjzCSfaBCVTj8vpTbdAAAATkGapUnhDyZTAhv//qeEAAYn2UVhYj4Zmb7YFXNFsytmf75mzbqA\n",
       "Da87k5GZeB+lr7UB7yrQctSLii5n8nMGaRvHjcLS5RQjAW7PrdiBiQAAAEdBmsZJ4Q8mUwIb//6n\n",
       "hAALVix9hLdHcNMnEDW+HzOUFzWYVP86OZdTAxcPY94/UknSp0TYOO+/BrRbY2wi4Iiy37VxsNyn\n",
       "UQAAADtBmudJ4Q8mUwIb//6nhAALZ7wDtVEMEALNbevf58UenwsbyAMmcyAADmwn3FZUmWc7xSGi\n",
       "q1C+q+CYgQAAAD1BmwhJ4Q8mUwIb//6nhAALH7wi/5gPXHnF2Lu4Vm9QFXdUe91YrR4rqgVLovd8\n",
       "jnuTnhsi4gz+0gCb/kwgAAAAVkGbKUnhDyZTAhv//qeEAAqPvCL/oDHTQXVT1w0kbAlfGZG9+5UT\n",
       "IVsHVPFDkEUWq78MVpwBskky/ZBX4Q7hZdS5B7xf0BiPFXlU7EQ+3pr4ezfl+26uAAAAQUGbSknh\n",
       "DyZTAhv//qeEAAUj3hF/g2ezavBC4/KXDvttUMjeBllLHybK8mAQ5tNce1L9g1iwCsJyPoxd/kXe\n",
       "C6ChAAAAQkGba0nhDyZTAhv//qeEAAn/vChl3sopQMXCB3sIeyknmJwo4U33t6vYY8O0LtZb+oAS\n",
       "DOoqKrwIs6s2IgG9WzWnoAAAAEpBm4xJ4Q8mUwIb//6nhAACXfI1bv4uwLJgepWx9imo3SLGkRxP\n",
       "2gXg7Bk5WRseEVsj23CuSNu54mu7SkTyL6Flb4xDW2LRs7YkGAAAAD1Bm61J4Q8mUwId//6plgAA\n",
       "kPyOtBY7zZ2ya8sY6M3tYtbqG8HAABdPlkBK2tpmcPjkot/k3YtN24/KSLBFAAAAd0GbzknhDyZT\n",
       "Ah///qmWAAAjDHmPooYHBsAFWJAKJDHoxSZr755b+AAqcOl8AQNP/5bmNoYcC80Yl+v70/J0tfwE\n",
       "z6WFEtQXD+5EP07zy8P1QVp+4bJtHSI1W33mIP1+JuF9TTPmHPLLTxtpZepQ1i8AQnRKHJxhAAAA\n",
       "JEGb8knhDyZTAh3//qmWAAAQn5Gm03R+i8mv2wk8gMC+La6Y3QAAAB9BnhBFETwz/wADG8Rz7QWg\n",
       "9er5jb0pnoBR4KtzgR74AAAAGQGeL3RCvwAF0TDY7oE75PzRbHrySxur7kAAAAAPAZ4xakK/AAXS\n",
       "v+jzdQ+JAAAAFUGaNkmoQWiZTAh3//6plgAAAwDwgAAAABhBnlRFESwz/wADJMOTvO0o26ZVFcmT\n",
       "xZwAAAAPAZ5zdEK/AAXRMNjuf/7xAAAADwGedWpCvwAF0r/o83UPiAAAABRBmnpJqEFsmUwIb//+\n",
       "p4QAAAMB3QAAABhBnphFFSwz/wADJMOTvO0o26ZVFcmTxZ0AAAAPAZ63dEK/AAXRMNjuf/7wAAAA\n",
       "DwGeuWpCvwAF0r/o83UPiQAAABNBmr1JqEFsmUwIV//+OEAAABxwAAAAGEGe20UVLC//AAQ3zmd6\n",
       "ZyS0m+f37tupUQAAAA8BnvxqQr8ABdK/6PN1D4kAAAQebW9vdgAAAGxtdmhkAAAAAAAAAAAAAAAA\n",
       "AAAD6AAABdwAAQAAAQAAAAAAAAAAAAAAAAEAAAAAAAAAAAAAAAAAAAABAAAAAAAAAAAAAAAAAABA\n",
       "AAAAAAAAAAAAAAAAAAAAAAAAAAAAAAAAAAAAAAAAAgAAA0h0cmFrAAAAXHRraGQAAAADAAAAAAAA\n",
       "AAAAAAABAAAAAAAABdwAAAAAAAAAAAAAAAAAAAAAAAEAAAAAAAAAAAAAAAAAAAABAAAAAAAAAAAA\n",
       "AAAAAABAAAAAAbAAAAEgAAAAAAAkZWR0cwAAABxlbHN0AAAAAAAAAAEAAAXcAAAEAAABAAAAAALA\n",
       "bWRpYQAAACBtZGhkAAAAAAAAAAAAAAAAAAAoAAAAPABVxAAAAAAALWhkbHIAAAAAAAAAAHZpZGUA\n",
       "AAAAAAAAAAAAAABWaWRlb0hhbmRsZXIAAAACa21pbmYAAAAUdm1oZAAAAAEAAAAAAAAAAAAAACRk\n",
       "aW5mAAAAHGRyZWYAAAAAAAAAAQAAAAx1cmwgAAAAAQAAAitzdGJsAAAAs3N0c2QAAAAAAAAAAQAA\n",
       "AKNhdmMxAAAAAAAAAAEAAAAAAAAAAAAAAAAAAAAAAbABIABIAAAASAAAAAAAAAABAAAAAAAAAAAA\n",
       "AAAAAAAAAAAAAAAAAAAAAAAAAAAAAAAAGP//AAAAMWF2Y0MBZAAV/+EAGGdkABWs2UGwloQAAAMA\n",
       "BAAAAwCgPFi2WAEABmjr48siwAAAABx1dWlka2hA8l8kT8W6OaUbzwMj8wAAAAAAAAAYc3R0cwAA\n",
       "AAAAAAABAAAAHgAAAgAAAAAUc3RzcwAAAAAAAAABAAAAAQAAAIhjdHRzAAAAAAAAAA8AAAAPAAAE\n",
       "AAAAAAEAAAoAAAAAAQAABAAAAAABAAAAAAAAAAEAAAIAAAAAAQAACgAAAAABAAAEAAAAAAEAAAAA\n",
       "AAAAAQAAAgAAAAABAAAKAAAAAAEAAAQAAAAAAQAAAAAAAAABAAACAAAAAAEAAAgAAAAAAgAAAgAA\n",
       "AAAcc3RzYwAAAAAAAAABAAAAAQAAAB4AAAABAAAAjHN0c3oAAAAAAAAAAAAAAB4AAAevAAACCAAA\n",
       "AQcAAACyAAAAQAAAAFIAAABLAAAAPwAAAEEAAABaAAAARQAAAEYAAABOAAAAQQAAAHsAAAAoAAAA\n",
       "IwAAAB0AAAATAAAAGQAAABwAAAATAAAAEwAAABgAAAAcAAAAEwAAABMAAAAXAAAAHAAAABMAAAAU\n",
       "c3RjbwAAAAAAAAABAAAALAAAAGJ1ZHRhAAAAWm1ldGEAAAAAAAAAIWhkbHIAAAAAAAAAAG1kaXJh\n",
       "cHBsAAAAAAAAAAAAAAAALWlsc3QAAAAlqXRvbwAAAB1kYXRhAAAAAQAAAABMYXZmNTguMTIuMTAw\n",
       "\">\n",
       "  Your browser does not support the video tag.\n",
       "</video>"
      ],
      "text/plain": [
       "<matplotlib.animation.FuncAnimation at 0x116518c88>"
      ]
     },
     "execution_count": 28,
     "metadata": {},
     "output_type": "execute_result"
    },
    {
     "data": {
      "image/png": "[encoded data removed]",
      "text/plain": [
       "<matplotlib.figure.Figure at 0x1166b0fd0>"
      ]
     },
     "metadata": {},
     "output_type": "display_data"
    }
   ],
   "source": [
    "import matplotlib.pyplot as plt\n",
    "import numpy as np\n",
    "\n",
    "\n",
    "# Creates a figure window.\n",
    "fig = plt.figure()\n",
    "\n",
    "# Creates axes within the window\n",
    "ax = plt.axes(xlim=(0, 10), ylim=(0, 5))\n",
    "\n",
    "# Object to animate\n",
    "point, = ax.plot([1], [1], marker='o', ms=40)  # for points\n",
    "\n",
    "g = 9.81\n",
    "v = 10\n",
    "theta = np.pi/4\n",
    "\n",
    "# Position of mass as function of time\n",
    "def fun(t):\n",
    "    x = v * t * np.cos(theta)\n",
    "    y = v * t * np.sin(theta) - (0.5 * g * t**2)\n",
    "    return x, y\n",
    "\n",
    "def animate(i):   \n",
    "    x, y = fun(i/10)   \n",
    "    point.set_data(x, y)    \n",
    "    return  (point,)\n",
    "    \n",
    "# Animates the data\n",
    "# 50 frames\n",
    "# 50ms delay between frames : animation plays at double speed of time-varying system\n",
    "anim = animation.FuncAnimation(fig, animate, frames=30, interval=50, blit=True)\n",
    "\n",
    "anim\n",
    "\n"
   ]
  },
  {
   "cell_type": "markdown",
   "metadata": {
    "slideshow": {
     "slide_type": "slide"
    }
   },
   "source": [
    "### Example : Simulating Physical Systems\n",
    "#### Trajectory : Plotting the Path\n",
    "<a id='ExamplePlottingPath'></a>"
   ]
  },
  {
   "cell_type": "code",
   "execution_count": 6,
   "metadata": {},
   "outputs": [
    {
     "ename": "ModuleNotFoundError",
     "evalue": "No module named 'matplotlib'",
     "output_type": "error",
     "traceback": [
      "\u001b[0;31m---------------------------------------------------------------------------\u001b[0m",
      "\u001b[0;31mModuleNotFoundError\u001b[0m                       Traceback (most recent call last)",
      "\u001b[0;32m<ipython-input-6-d3fc5c45151e>\u001b[0m in \u001b[0;36m<module>\u001b[0;34m()\u001b[0m\n\u001b[0;32m----> 1\u001b[0;31m \u001b[0;32mimport\u001b[0m \u001b[0mmatplotlib\u001b[0m\u001b[0;34m.\u001b[0m\u001b[0mpyplot\u001b[0m \u001b[0;32mas\u001b[0m \u001b[0mplt\u001b[0m\u001b[0;34m\u001b[0m\u001b[0m\n\u001b[0m\u001b[1;32m      2\u001b[0m \u001b[0;32mimport\u001b[0m \u001b[0mmatplotlib\u001b[0m\u001b[0;34m.\u001b[0m\u001b[0manimation\u001b[0m \u001b[0;32mas\u001b[0m \u001b[0manimation\u001b[0m\u001b[0;34m\u001b[0m\u001b[0m\n\u001b[1;32m      3\u001b[0m \u001b[0;31m#import time\u001b[0m\u001b[0;34m\u001b[0m\u001b[0;34m\u001b[0m\u001b[0m\n\u001b[1;32m      4\u001b[0m \u001b[0;34m\u001b[0m\u001b[0m\n\u001b[1;32m      5\u001b[0m \u001b[0mg\u001b[0m \u001b[0;34m=\u001b[0m \u001b[0;36m9.81\u001b[0m\u001b[0;34m\u001b[0m\u001b[0m\n",
      "\u001b[0;31mModuleNotFoundError\u001b[0m: No module named 'matplotlib'"
     ]
    }
   ],
   "source": [
    "import matplotlib.pyplot as plt\n",
    "import matplotlib.animation as animation\n",
    "#import time\n",
    "\n",
    "g = 9.81\n",
    "v = 10\n",
    "theta = np.pi/4\n",
    "\n",
    "t = np.linspace(0, 500)\n",
    "# x = v * t * np.cos(theta)\n",
    "# y = v * t * np.sin(theta) - (0.5 * g * t**2)\n",
    "\n",
    "fig = plt.figure()\n",
    "ax = plt.axes(xlim=(0, 10), ylim=(0, 5))\n",
    "\n",
    "def animate(i):\n",
    "\n",
    "    i /= 10\n",
    "    if i == 0:\n",
    "        s = i\n",
    "    else:\n",
    "        s = np.linspace(0, i)\n",
    "\n",
    "    x = v * s * np.cos(theta)\n",
    "    y = v * s * np.sin(theta) - (0.5 * g * s**2)\n",
    "    ax.plot(x,y, 'c')\n",
    "    \n",
    "ani = animation.FuncAnimation(fig, animate, frames=15, interval=50)\n",
    "ani"
   ]
  },
  {
   "cell_type": "markdown",
   "metadata": {
    "slideshow": {
     "slide_type": "slide"
    }
   },
   "source": [
    "### Example : Simulating Physical Systems\n",
    "#### Trajectory : Plotting the Path & Object\n",
    "<a id='ExamplePlottingPathObject'></a>"
   ]
  },
  {
   "cell_type": "code",
   "execution_count": 30,
   "metadata": {},
   "outputs": [
    {
     "data": {
      "text/html": [
       "<video width=\"432\" height=\"288\" controls autoplay loop>\n",
       "  <source type=\"video/mp4\" src=\"data:video/mp4;base64,AAAAHGZ0eXBNNFYgAAACAGlzb21pc28yYXZjMQAAAAhmcmVlAAAafG1kYXQAAAKuBgX//6rcRem9\n",
       "5tlIt5Ys2CDZI+7veDI2NCAtIGNvcmUgMTUyIHIyODU0IGU5YTU5MDMgLSBILjI2NC9NUEVHLTQg\n",
       "QVZDIGNvZGVjIC0gQ29weWxlZnQgMjAwMy0yMDE3IC0gaHR0cDovL3d3dy52aWRlb2xhbi5vcmcv\n",
       "eDI2NC5odG1sIC0gb3B0aW9uczogY2FiYWM9MSByZWY9MyBkZWJsb2NrPTE6MDowIGFuYWx5c2U9\n",
       "MHgzOjB4MTEzIG1lPWhleCBzdWJtZT03IHBzeT0xIHBzeV9yZD0xLjAwOjAuMDAgbWl4ZWRfcmVm\n",
       "PTEgbWVfcmFuZ2U9MTYgY2hyb21hX21lPTEgdHJlbGxpcz0xIDh4OGRjdD0xIGNxbT0wIGRlYWR6\n",
       "b25lPTIxLDExIGZhc3RfcHNraXA9MSBjaHJvbWFfcXBfb2Zmc2V0PS0yIHRocmVhZHM9NiBsb29r\n",
       "YWhlYWRfdGhyZWFkcz0xIHNsaWNlZF90aHJlYWRzPTAgbnI9MCBkZWNpbWF0ZT0xIGludGVybGFj\n",
       "ZWQ9MCBibHVyYXlfY29tcGF0PTAgY29uc3RyYWluZWRfaW50cmE9MCBiZnJhbWVzPTMgYl9weXJh\n",
       "bWlkPTIgYl9hZGFwdD0xIGJfYmlhcz0wIGRpcmVjdD0xIHdlaWdodGI9MSBvcGVuX2dvcD0wIHdl\n",
       "aWdodHA9MiBrZXlpbnQ9MjUwIGtleWludF9taW49MjAgc2NlbmVjdXQ9NDAgaW50cmFfcmVmcmVz\n",
       "aD0wIHJjX2xvb2thaGVhZD00MCByYz1jcmYgbWJ0cmVlPTEgY3JmPTIzLjAgcWNvbXA9MC42MCBx\n",
       "cG1pbj0wIHFwbWF4PTY5IHFwc3RlcD00IGlwX3JhdGlvPTEuNDAgYXE9MToxLjAwAIAAAATZZYiE\n",
       "ADf//vbw/gU2O5jQlxHN6J0zH78VuLo0N73OAAADAAA33SOPBdk/UAse7YInhFbS1HCo45psSBgn\n",
       "jWOoIDu/sBJBZ6oSjZybcAAADfWL9en8w5FKc6TNHlEEbeTiePqff5XLSm6WrH7gAwSG/VbVvXmH\n",
       "4RLrmlYdgch0mQEGS6+9zjjmLsJDGwoYdWAoBxXRmfGyXmhi/Dj7MdIjDTtZ070jsUZplAJQe2gk\n",
       "nvnLLBvhl3jGa4nxOeJ5VjS7wgHHrl0P0sXICAAAAwBe4J8vn/WgEBhe+mYkE/GDwH6n2Mize02B\n",
       "bfkJ/2BK2Va6kJiTB0Q0jOXRDjGfGC2vunIjSXFBKHX3bCd4F40zzdxWQA1RaXNKI6HvbKYN79sO\n",
       "9eZw72k71QAET5iQS4UuCs9cPGntrFj6F/UxT5gztDzSZdQu4uzU0KXNr+sJGfTqVh6eOBy2mcxW\n",
       "zma9kada1+OgOcmMv0maOlzzomW8Ao3yvpMZ3AbmVM/hs6RhXMcmeo5gC+9mA9X1iMjaTAw4R3sZ\n",
       "Cb/Wekq9gCyBMfK3ODNVAqVB8oaJmvOsuWYs7QPRsmRE/Bfj5mWDxnbSFoJnCiiM6/inFY9yZ9FN\n",
       "zUGIW35WJou6Fi53cSpjirKnAiO+ZgEEr9RjQ/g7LpZJiNzrqfMuUUibwkQi+Riytk7oRaEjBWIG\n",
       "Zbz2k3/JAGK8UP8MkkZCxsIuhhJHpZH3UFEqv2iVZqm7IYbeRUUSLAaVQnq/shDcAcVqWkV5S/7j\n",
       "MfokshDesBsJGv/PzdFdzC9gjnLLTApXSAHkU/3x3p99ChFcGJvvJASj4Js6Q07m95Y9AWPQWCnO\n",
       "s3sxG/0vrox/sf8mWQZGMkufkcRi0ci9Rq3JXIi5NLzbuIL/AGptUTm7Y186/ktg4gpT0B7+mpTr\n",
       "yGh4hsPiM0QpCcU8og1poyT/NryP8zevZrusxjHWBLLa2NyZQpNRD1LnLmRr1f8cIiSG7zJAjPHj\n",
       "6n9EiCCvHhT0ZEWCen4MC5d405n2TkRVB6HDYH1zm4pshaL9bG+liv7KOZHXZSjV0Y3z0ENWHU3X\n",
       "fqXKCBhn75XnVaEREAYFGU0mMbrev7C4N0hGBOfZOGf+VIb0g+ZNaE0UmyLynSFbss9cab/lVPaA\n",
       "oMoL850l9E8qhpyTl8FIZZRTt9jly7wvKdUa6Xx0hP31PtCjUC/A7TkDXiu2jVAz5CedXhApp77g\n",
       "aLZs1ABy2I7kUl/Ffcf8/mYTKOEuCW2QaCyQKbigR4SPy0fkxhz2Uhhb6w8mFc48R29MkcjglBaT\n",
       "Vj4AHrVjz91hEQUMVCbSDCI9DHSpf3HKGb1WzvV4s3YQFOv+hdWFA/zkP365O4ULT2qAKCNSQqsP\n",
       "6KhdDddm10hw/OxXQZAxTO777Tw8n034QXOwUsfZNOdG+cNmdDaTZWfeojLY3I/5qPwVA02oIro6\n",
       "d4tD+09O6skzHOEPO8Y708BETYPS4BAmTCZxL10YP6k3k5/EJ4+fMlf33XpozRJGGviPJV9tdt0L\n",
       "sTkeEQj/JqCX1Ewvz2ngw8/CoEU5whUkhETd21mVnerxXzF+hoptdkCo9xs57C7EwhzFrUc0WyHs\n",
       "qnk1dTA2fRGnQPXr1qsiCTyO6mcDhGfE75QsaqB1lr4AGKl5KHZMC5kAAAKLQZohbEN//qeEJpka\n",
       "4rN8sAcubN8u/sPZe+5JUSt54kUdBYpzTLEeFFQuvru5wWY2gf1oc2ZSmSquRkzmknp8RB0xLFvX\n",
       "drRlgFX7PmLq8jfh48lm9FPmVF8/MYXi9xwXQnowCeTSzCTEUpJM/p0lz1NycKc0hlVGN/9FaNTT\n",
       "6fxQ2plEtwSTlfyTZ2CQI4Rhf3sWZHD5fiACMuFPkTaYjFuFiW/KS4NkcQj3oPcIMoGm/VUoLh5u\n",
       "o599y27hcfdfxHw+xKkdzIZee8cKUiXNC8NU3vJkrIgzWX2RuDW+qFDqh6cDFwY2niBUVmW79zjc\n",
       "ME6w3KCfad1SJzvpAoUBYV+Iw25c5E097LTp1iEqJZvp6x6GMqflmM5eJIV6VHTSZxtoa5+N8FPZ\n",
       "oYVDbeFpOxjHBTB+aipGrMWZBRh1yWSj/cJeqZhnutVSE7zIMOziT9qpUHf3BV2lFzSWQpIt1hHh\n",
       "+povLHP8rXTMNB2Kva2R6+1ZRKJRSBkrKwv/5KK0W7L4SU7rilKFwIG0enyPG41c+X9a1IoIdC/b\n",
       "FihZSD6U3ye8WBMRYFfAyVRe8KG/1FxJIgCCJWnWws3ggNezuD+BrPlX/tdQapzI4hiWnZR0SJn4\n",
       "s5Joh7DMsEtE35/oVyCoGmW6Lxeor0RBHx80/n2Ir3D7lnsg8BWUqPXiPic+EO4DU02c9cUVHzY1\n",
       "rtw749sbfGqh9aH67YirE25jRr03RoVsHv5+OBQhtMAW5BLbxcH0kyy4FA7Y2N6Tj2flw3pP+ymu\n",
       "xUVHlZ3CTr7NTMn/uEW31hLexvfWpC2r6ILMDOm3GbaXHwm8ZB5hRPJf+IrMsgaCEgH710Hgijnu\n",
       "uJaeqjYNHElqnwTAAAACEUGaQjwhkymEN//+p4QC7dKNXb2gXnZT0tUjXicWYWrqGWTI74e6Zs+9\n",
       "21PCA6JpwmqxeX7AACH6s/dqtGJnaW9wy+qgSBQVPKvg0YVXwdtv/ozL07pHatpr9OKyfBFi2Etw\n",
       "6SdDc8/Lfke+7OnSvHtZKBaq+rsIrv38w/LpmbzH3Nvkd7BrAvNZoEfhHVrvsVK0LyvPn8D3ZmHH\n",
       "Xic5xCCfcNFv5b6pVzFYOE90F4s+owd3gFCCRRMuVdZD1cdOni7hwgcOKwGzEaOas2NCClg0LEC6\n",
       "NcUeY2KZAJIKUZJ+mPZd2PSdxBDjmCNSdBbe+xyLhfa8qjIyUxJaK67An1CTj5JaBKo1hR/19OjD\n",
       "SKGPA04Ovu+NpxYiUEBUxB/SGQX06AjlYpqckkSw7pwnFLSFSC37wZdqFkcEekxOeExx1TNan9LJ\n",
       "QKPhL6vHXly4q4mwZe1t+7eH/PWOn7UglKrYtoOytn1lTgCLpUDkPr+3PXqiudfimkZgr0zyj8wY\n",
       "LMob/MVeaToh+LL3pzJoB+nE5HjHO0AeWJ2OJ9L934uh+05eETPF2sEtrFUgMH2gn+DXtFX0+sB2\n",
       "KPEqiSgV++YcTg9ssbg8VVWTcVOytd/rVcTXRxlFBZj+/mXipcwUPrYnUokLH5B9yGQU2cbUpnAI\n",
       "pSVTMaGw+/l+7VJ4V5tUytiAUq7kxisEpZkLSzfD1zkAAAHfQZpjSeEPJlMCG//+p4QAAyevfgs3\n",
       "9wBEp6o6NfodW3kD/Zh881HHbw8EmZrxOZKb2QK59KNVoHxVe7GWPaobNrrC+FPMfigFF9Hy8mwk\n",
       "UdcbyRrxzjBPnCWAkJOqdlOymqvAP8Ve2EA3uu2UTMtHBNMs9HZGQMlqajYLTW7MPYHfZKTFcfDj\n",
       "yIWo0IlLYPziRtSvCbcfnkck31uqOJmnSMNVfseAMPZTTDShsfTbBl+MBx1fc/fgIYGJEpsnleny\n",
       "Y2QMmPuU05Wlqwro9NUD3Z3fde9tTLWff83jv8Xzqenx0YBWRYlchjgf5KUgAZGzRP9UzYiAr7wl\n",
       "cfBGhnGcnOsDm8oZWqKwBo9IbiGlr3NqXZNg8HL9CDn4DtCLN8R0+QhEZj4TyG0MOHl3nw0pET9w\n",
       "icb8w1Uzt/9hXSza62hMU0/szjsyvkS/NwMRmJZooH42S7r2lrTmSrWskCuvZIGqEUQg5RtVqXEu\n",
       "iixCa/Tia3bAJ2skUilpD+LRgVQEsr84asY5WcNhBDWGfgZm4CBfxYHFvZ+A9B77Iz+oFnNbnvLH\n",
       "HQHeYS+NoOSpl4/jMnlhv51tx7jCqrz2sJ+WGdqIyVPYM8sKpZ9aKsTBKUKmaWXirTDfj50CtLHg\n",
       "e5gAAAEZQZqESeEPJlMCG//+p4QABieS4E+CzfiT4Uvy0M1UTWvgtRYegXlss4YyGJtM35JquEhZ\n",
       "oGM1WOIkr0Nk2p8Lcuk5d3OBO5Ygbj4MTZNFYnctuHyPJOFbdhFGKSx7uo8FDfC9yOuH4QC44jcQ\n",
       "U2gjgTalI2xWdBZFhCFA7gw0M58yY7AU0BTon5Hcrb4ksw9dH6yqw81m+X/szuhaT1LT8HnqdozU\n",
       "7LdaHkf/EcgijM4lRhwQrFI0/Jby1uCrhPcPFhqtcolRex9fPV9CLLpSkHDdvUqJBr2ZNfDVHRUM\n",
       "6+ZRq51ub99dqu3K5p7QxpddlRFaUPuV71SLhZhrPCX+xLPRW6UBs7vmvOk8XBSAI4wq9fxNrUu/\n",
       "05EAAAE3QZqlSeEPJlMCG//+p4QABifZRWFiPhmZvtgVc0WzK2Z/tv8nz3yfqADOXXRCWpK6meX4\n",
       "syNDNtKLzO0He8KCPDpyr668Ircm4ymDpI/cS34WwZvE/15GPMqvytVqb9hvjDcrGBxUkkwTy9CL\n",
       "stQFl993QIAcBEf+17nvztjFf96WSQiKKqw/Qt4tB3LnQSP6rKteiznchYh2XkB533vzyD2FgKWP\n",
       "4SmFSqhwq8L10UgHQUYoBaxNsqhFYHjv44UBLVyHWNKbZIHI1x64k0RcdTiwATqJRhmTiP2K6rW1\n",
       "6slTXYukapa5fTg/0wzaPFzPi1I8msY3J+wNErd5H2NtzULBS/+ehZ5BEGuedS/JGB319czml6Q7\n",
       "cgCMKVY1f5ILxu28k5JhEp7tC3VudJdRLV/yfqaVhYEAAAFsQZrGSeEPJlMCG//+p4QAC1YsfYS3\n",
       "R3DTJxA1vh8zlBc1mFT/OjmXUwMXXNXjY3SzZT3SJYBu3cHvZKWvE9t810//qCkXhguX0Ov6/UME\n",
       "pXzgS1YZ4ECiJjMNcLT9OrADPwNJrYb45XEB5jEMUM/T4W2WCtePKRVWoDyOWvQSWwWkzjF033c+\n",
       "3jo7kUXEm5V6Jf8wA5hHoU/vgfqRkyawHE15tWmffZ+7Q9UmdlyqeKn+w4PBjv/mDjE3xCsV9T1A\n",
       "6G4u6Za59R2tCbgLPiAUQbWvRR7OHW6OXrtN/Nk0sliC1J/m3m6ytaTPhI9lUPIPJjnXE6lRNp3T\n",
       "R2KX6ln+OUzUoqPQo2xTb7FE6rRGegqMzUR9V7wF5caQ78nPgutR4G40WIPMzbLLV3D/HVit+Dir\n",
       "HsXasIiVcid84xQ95IWDKQVb5Yrlai7y+4ub6vIi1wPK2mxc6u9xS8u2ZUOKy8UFxPid4QMSRZWb\n",
       "WQAAARJBmudJ4Q8mUwIb//6nhAALZ7wDtE7xYAjIzqLoRgkVwN/Eqq+7tnXb9S0qPcZ8f0Lkx/BS\n",
       "Ij7rCoOtiqch72u7h3y4MBKs8invFEQTFuB4AIbytLpV1J0631H6TFc2I7nkA4wrGis1HvEAoDUG\n",
       "trrKYP1itTWZ4/MiHNLAbIDVauYtAtYXKFdgYMshy0IWSpPTnGRdb8mFADGlesoE1ciNZQ0sWnDv\n",
       "TTL20SzAucSUu9AWaSXN5iUMBPfmMjoBWHfzJHB6cbiNFV33pXo+soVlwEGKPI3mTDZL/H+CV5E9\n",
       "yVFkBhN29/Qx7rDValm074xttssm61pcEq+yCblboUnFalfqCCo9YxeABRfSIC4PERBpAAABbkGb\n",
       "CEnhDyZTAhv//qeEAAsfvCW/E6euPPKA+gnjGwtU5WSh/jJAHv9s2BTvKnG9fOq8Do9J9efyvhOD\n",
       "o25udQ0gB6Oe69gRMrYX7fbCEiEqnGx3O1nfoTZAw5zYjXkXqyAxL7pcV8r+/GI0Ig22By+S88kj\n",
       "P5QQXP0XWpmw6xvs8TUXFkrhGRY4+uUm2wV3vBFeVISU/csH1KkyLTaFC9vBc2zZ7uW4b+4UKEyG\n",
       "71YsZbfGWJ9vaOV8l5SSuBJtETt7gBAvrjqunVsMjQZEjsTIHsnnTDrlqM8bnYj2OqOuygVQULxd\n",
       "ZZ5YHj2SSMaGXnSNSCWjshWDz9RDfTw6j6jxQaTRr3r7dTDr4go+HTGrfFMP+fekml9BYOLDFqrg\n",
       "hnTvNXCUJbfcxptzZ8EN+ce5ebHOlFbyQO9dyPYZL3sUFKxqaIejeCO9lQUpW1gKM00kHsaro5WK\n",
       "bGbB1eIg7A1MUglzTBJJ3ppckLOwfAAAAQFBmylJ4Q8mUwIb//6nhAAKj7wi/6Ax00F1U9cNJGwJ\n",
       "XxmRvfuVEyF5YD8BD2fkNEIp57pSPFGyzyiSElUW/K4uaynsBoM6MW1swQL+NLkAehb1/CKN3lXG\n",
       "iyz6wMNKpnjdwIgGvio+kkcZXSKNn7A81lOgUEAKAMm+Ph7s33dhJKY3wSGDx2WAV4T1hCp2aDbY\n",
       "2j4rNdLaObeHHM5jw6c/iIiV8MQrKKNXD8WP7e4TlOF4npcbYf7qiFps5GQAX//0ew2Xm8H1rLKB\n",
       "THP5aoWiQQczvSpIw1lIKDIDXRVR5lA573hmFpQBG4EZ2PeEN9dtL41yh8n+ypsegqbcuJe/gAAA\n",
       "ASpBm0pJ4Q8mUwIb//6nhAAFiWzVIAIwi9F8SuJ+jlorTKd/R1S3no3zNIKBTY2uXQ4rd2CFn+70\n",
       "1JRqbQytb4cgz2+WJHZhsyxyMcjRYqu4Rk1D03D43Qh0SeOy2P3bbKoS84vEWRw5GkFdBcuIx7yq\n",
       "U4QY4Whjru0/bxVV1+kekjZ6TTKXjc4ej8mxWtCMZguKkkALtZAxGkNTIcPw3eWOwBzPVoK5KrgR\n",
       "0WxkoMPH0Gdapp7QeUkxSwLhVvSm/5t++PhpRgrJPXtrTsTEYY7gI9yrJcs8eJfLidJHj4sEfVMP\n",
       "xlQ9RPElKGNMcLi+Hc4uNCJWxdSvDl8+bLpTVaP6vMpy14JhTBSxtiXLzeTX0HgSTJg+/Aij+RIi\n",
       "hlDJHtn81k32jeFTIY9jAAABEEGba0nhDyZTAhn//p4QACbfFjEhg1Vi0AVqTT98Eynn/wyHKrTv\n",
       "UzYKMR/vA7JwaFe3NVI8QnS3vze89Y1bdyJYlP2FM5T1VxclU3XAm9pm7H7TX4eY9twaIz1pZsKk\n",
       "5OrCDdxOx/EyDN9jUm3DlJSbznhd9J8RZeg51Sz1IlcLdntpP3FlOm4BWNLSeeYNMnTWTfJy6Hxf\n",
       "qdo6QaRfxmaGJY41eSaEpnQ6CxxUJT4xHW/Wzal2Nn0zSTUypd0AdrZMuLn+DUq38d6YCborTfx/\n",
       "TVGeZg0GSlr+rsnB9kiY0DHAcoOgAUXUFs6zK4SQte/n1563HZ6JA9LMUzRqllI2Xy+2cgWBEA8/\n",
       "ReNoXC1MAAABEkGbjEnhDyZTAhn//p4QABT3tDf1+oAVoZN5Lxrc6RfsO4ODEM6pkXpCieH2Nm+m\n",
       "5KiYVFXMcAj2E8YaRQ85m0ivEYJ5Fh7WPAdymkstsE7ojT6jPzbmdQxLF8BwlHKv82Ef56Rq1Hip\n",
       "sFPFrwEPSRZ+rzdRpPqBysubKe2Wdc/TXrGF6QqZ+eRyexXsqh0Dje9fS63CM/NYv2oeBJ/Cy2s7\n",
       "2xofz7MG7CW5ugbaCULveLGHj56bg+1hrN/ZQiESSWoTc+Tl5J3djPNULgKNZRebUH6YLtK2cUWf\n",
       "qbMRaT4zzPcNRebjxveKGXAPbc23ohAl5UqQiCTXIHAamBMaFe4TOtJxF876AAWRJbwbrDLBYdAA\n",
       "AADNQZutSeEPJlMCGf/+nhAAFZPN6UALZNCG6E1RfnjexWmGCrdDb1GnFW7T0AdMgHRMl2z7sJxA\n",
       "GLUrix1nPRjSaPN+PkVF0Dm/PR/HM531lNst2C/XQbRSQXwi/J5P0cJK9WtJA5cKwBPgF757UboQ\n",
       "fh0Dj8RRZt9LC3mRuF3EV589cNaIEAV/Uq/6uJIh3hlartfG7EBoXbdwjx0lqK8Wm3M8jEdptD/4\n",
       "Q/CTlpkD7P4M1f7/BBPTAO6ImrJOdEPlNl3F/hLk0U2BQUkqqwAAANxBm85J4Q8mUwIV//44QAAI\n",
       "aH0IAWC/RlR0FwS22bhmumbOCq3E0BhT7X2z/qvTv5jwyPR5JNab9RLrtDPkp76D5DjCM0nyRpPM\n",
       "QoaCv2TXIemKJmjRorhiNh3k0i+Tl23XhBVcWuAB66yJQZ2Z6dzb3gduYnO1yal94G1pYa9+0SYb\n",
       "66d0Adv0xeODpXmgHnCsCMwd+m2mNxRk+xKibSZ2ofLO3sOgBtJMyqa3CdPulZnlp8A7bQBWkrGB\n",
       "44k7xShRVJHrN76ZQD5DxjJQw2e3TJIL8rqvXQwnIxBBAAADcm1vb3YAAABsbXZoZAAAAAAAAAAA\n",
       "AAAAAAAAA+gAAALuAAEAAAEAAAAAAAAAAAAAAAABAAAAAAAAAAAAAAAAAAAAAQAAAAAAAAAAAAAA\n",
       "AAAAQAAAAAAAAAAAAAAAAAAAAAAAAAAAAAAAAAAAAAAAAAIAAAKcdHJhawAAAFx0a2hkAAAAAwAA\n",
       "AAAAAAAAAAAAAQAAAAAAAALuAAAAAAAAAAAAAAAAAAAAAAABAAAAAAAAAAAAAAAAAAAAAQAAAAAA\n",
       "AAAAAAAAAAAAQAAAAAGwAAABIAAAAAAAJGVkdHMAAAAcZWxzdAAAAAAAAAABAAAC7gAABAAAAQAA\n",
       "AAACFG1kaWEAAAAgbWRoZAAAAAAAAAAAAAAAAAAAKAAAAB4AVcQAAAAAAC1oZGxyAAAAAAAAAAB2\n",
       "aWRlAAAAAAAAAAAAAAAAVmlkZW9IYW5kbGVyAAAAAb9taW5mAAAAFHZtaGQAAAABAAAAAAAAAAAA\n",
       "AAAkZGluZgAAABxkcmVmAAAAAAAAAAEAAAAMdXJsIAAAAAEAAAF/c3RibAAAALNzdHNkAAAAAAAA\n",
       "AAEAAACjYXZjMQAAAAAAAAABAAAAAAAAAAAAAAAAAAAAAAGwASAASAAAAEgAAAAAAAAAAQAAAAAA\n",
       "AAAAAAAAAAAAAAAAAAAAAAAAAAAAAAAAAAAAABj//wAAADFhdmNDAWQAFf/hABhnZAAVrNlBsJaE\n",
       "AAADAAQAAAMAoDxYtlgBAAZo6+PLIsAAAAAcdXVpZGtoQPJfJE/FujmlG88DI/MAAAAAAAAAGHN0\n",
       "dHMAAAAAAAAAAQAAAA8AAAIAAAAAFHN0c3MAAAAAAAAAAQAAAAEAAAAYY3R0cwAAAAAAAAABAAAA\n",
       "DwAABAAAAAAcc3RzYwAAAAAAAAABAAAAAQAAAA8AAAABAAAAUHN0c3oAAAAAAAAAAAAAAA8AAAeP\n",
       "AAACjwAAAhUAAAHjAAABHQAAATsAAAFwAAABFgAAAXIAAAEFAAABLgAAARQAAAEWAAAA0QAAAOAA\n",
       "AAAUc3RjbwAAAAAAAAABAAAALAAAAGJ1ZHRhAAAAWm1ldGEAAAAAAAAAIWhkbHIAAAAAAAAAAG1k\n",
       "aXJhcHBsAAAAAAAAAAAAAAAALWlsc3QAAAAlqXRvbwAAAB1kYXRhAAAAAQAAAABMYXZmNTguMTIu\n",
       "MTAw\n",
       "\">\n",
       "  Your browser does not support the video tag.\n",
       "</video>"
      ],
      "text/plain": [
       "<matplotlib.animation.FuncAnimation at 0x11624e9b0>"
      ]
     },
     "execution_count": 30,
     "metadata": {},
     "output_type": "execute_result"
    },
    {
     "data": {
      "image/png": "[encoded data removed]",
      "text/plain": [
       "<matplotlib.figure.Figure at 0x11624cb00>"
      ]
     },
     "metadata": {},
     "output_type": "display_data"
    }
   ],
   "source": [
    "import matplotlib.pyplot as plt\n",
    "import matplotlib.animation as animation\n",
    "import time\n",
    "\n",
    "g = 9.81\n",
    "v = 10\n",
    "theta = np.pi/4\n",
    "\n",
    "t = np.linspace(0, 500)\n",
    "x = v * t * np.cos(theta)\n",
    "y = v * t * np.sin(theta) - (0.5 * g * t**2)\n",
    "\n",
    "fig = plt.figure()\n",
    "ax = plt.axes(xlim=(0, 10), ylim=(0, 5))\n",
    "\n",
    "# # Object to animate\n",
    "point, = ax.plot([1], [1], marker='o', ms=40)  # for points\n",
    "\n",
    "def animate(i):\n",
    "\n",
    "    i /= 10\n",
    "    if i == 0:\n",
    "        s = i\n",
    "    else:\n",
    "        s = np.linspace(0, i)\n",
    "    \n",
    "\n",
    "    x = v * s * np.cos(theta)\n",
    "    y = v * s * np.sin(theta) - (0.5 * g * s**2)\n",
    "    ax.plot(x, y, 'c')\n",
    "    \n",
    "    if i == 0:\n",
    "        point.set_data(x, y)   \n",
    "    else:  \n",
    "        point.set_data(x[-1], y[-1])    \n",
    "    return  (point,)\n",
    "    \n",
    "ani = animation.FuncAnimation(fig, animate, frames=15, interval=50)\n",
    "ani"
   ]
  },
  {
   "cell_type": "markdown",
   "metadata": {
    "slideshow": {
     "slide_type": "slide"
    }
   },
   "source": [
    "# Summary\n",
    "<a id='Summary'></a>\n",
    " - `scipy.integrate.odeint` can be used to find a numerical approximation for the change in a parameter over a given range of input values (expressed as an ordinary differential equation, ode).\n",
    " - This allows us to easily deal with dicontinuous functions.\n",
    " - An can be solved for a specific *solution* value by interpolating.\n",
    " - We can find the value of the function at a specific value by selecting the points at which the function is approximated.\n",
    " - We can create interactive plots with `ipywidgets`. \n",
    " - `matplotlib.animation` and `matplotlib.rc` can be used to produce animated plots.\n",
    " - `IPython.display.HTML` allows us to view and play these animations within Jupyter notebook.\n",
    " - Installing the program `ffmpeg` allows us to save an animation in a format we can view outside of the Python environment."
   ]
  },
  {
   "cell_type": "code",
   "execution_count": null,
   "metadata": {},
   "outputs": [],
   "source": []
  },
  {
   "cell_type": "code",
   "execution_count": null,
   "metadata": {},
   "outputs": [],
   "source": []
  },
  {
   "cell_type": "code",
   "execution_count": null,
   "metadata": {},
   "outputs": [],
   "source": []
  }
 ],
 "metadata": {
  "celltoolbar": "Slideshow",
  "kernelspec": {
   "display_name": "Python 3",
   "language": "python",
   "name": "python3"
  },
  "language_info": {
   "codemirror_mode": {
    "name": "ipython",
    "version": 3
   },
   "file_extension": ".py",
   "mimetype": "text/x-python",
   "name": "python",
   "nbconvert_exporter": "python",
   "pygments_lexer": "ipython3",
   "version": "3.6.4"
  }
 },
 "nbformat": 4,
 "nbformat_minor": 2
}
