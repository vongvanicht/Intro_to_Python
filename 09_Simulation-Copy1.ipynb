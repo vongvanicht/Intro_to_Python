{
 "cells": [
  {
   "cell_type": "markdown",
   "metadata": {
    "slideshow": {
     "slide_type": "slide"
    }
   },
   "source": [
    "### Rescheduled Class\n",
    "You should all have received an email concerning the 2 rescheduled class.\n",
    "<br>Rescheduled classes will be held on: \n",
    "- 06/26 (June 26, Tuesday ), period 1, room CALL 23 \n",
    "- 06/29 (June 29, Friday ), period 5, room CALL 23 \n",
    "\n",
    "You may attend either class. \n",
    "\n",
    "These classes are for you to ask questions and get help with your assignment. \n",
    "\n",
    "There will be *no new taught material* in these classes.\n"
   ]
  },
  {
   "cell_type": "markdown",
   "metadata": {
    "slideshow": {
     "slide_type": "slide"
    }
   },
   "source": [
    "## Please download the new class notes.\n",
    "### Step 1 : Navigate to the directory where your files are stored.  \n",
    "Open a terminal. \n",
    "<br>Using `cd`, navigate to *inside* the ILAS_Python_for_engineers folder on your computer. \n",
    "### Step 3 : Update the course notes by downloading the changes\n",
    "In the terminal type:\n",
    "\n",
    ">`git add -A\n",
    "git commit -m \"commit\"\n",
    "git fetch upstream\n",
    "git merge -X theirs upstream/master`\n"
   ]
  },
  {
   "cell_type": "markdown",
   "metadata": {
    "collapsed": true,
    "slideshow": {
     "slide_type": "slide"
    }
   },
   "source": [
    "# Introduction to Simulation\n",
    "\n",
    "<br> <a href='#SolvingOrdinaryDifferentialEquations'>Recap: Solving Ordinary Differential Equations (ODE)</a>\n",
    "<br> <a href='#DiscontinuousFunctions'>Discontinuous Functions</a>\n",
    "    <br> &emsp;&emsp; <a href='#ExampleMixingTank'>Example : A Mixing Tank</a> \n",
    "<br> <a href='#SolvingODESpecificSolutionValue'>Solving an ODE for a Specific *Solution* Value</a> \n",
    "    <br> &emsp;&emsp; <a href='#ExampleReactorPart1'>Example : Reactor, Part 1</a> \n",
    "<br> <a href='#SolutionODESpecificInputValues'>Solution to an ODE evaluated at Specific *Input* Values</a> \n",
    "    <br> &emsp;&emsp; <a href='#ExampleReactorPart2'>Example : Reactor, Part 2</a>\n",
    "<br> <a href='#MatrixMultiplicationRules'>Matrix Multiplication Rules</a> \n",
    "<br> <a href='#UsefulMatrixOperations'>Useful Matrix Operations</a>\n",
    "<br> <a href='#SystemsDifferentialEquations'>Systems of Differential Equations </a>\n",
    "<br> <a href='#InteractivePlots'>Interactive Plots</a>\n",
    "<br> &emsp;&emsp; <a href='#InstallingFFmpeg'>Installing FFmpeg</a> \n",
    "<br> <a href='#AnimatedPlots'>Animated Plots</a>\n",
    "<br> &emsp;&emsp; <a href='#ExampleAnimatingLine'>Example: Animating a Line</a> \n",
    "<br> &emsp;&emsp; <a href='#ExampleSpringMassSystem'>Example : Simulating Physical Systems, Spring-Mass System</a> \n",
    "<br> &emsp;&emsp; <a href='#ExamplePlottingObject'>Example : Simulating Physical Systems, Trajectory : Plotting the Object</a> \n",
    "<br> &emsp;&emsp; <a href='#ExamplePlottingPath'>Example : Simulating Physical Systems, Trajectory : Plotting the Path</a> \n",
    "<br> &emsp;&emsp; <a href='#ExamplePlottingPathObject'>Example : Simulating Physical Systems, Trajectory : Plotting the Path and Object</a> \n",
    "<br> <a href='#Summary'>Summary</a>\n"
   ]
  },
  {
   "cell_type": "markdown",
   "metadata": {
    "slideshow": {
     "slide_type": "slide"
    }
   },
   "source": [
    "### Lesson Goal\n",
    "\n",
    "Produce simulations of systems to observe:\n",
    "- time-varying\n",
    "- parameter-varying\n",
    "\n",
    "effects.\n",
    "\n",
    "### Fundamental programming concepts\n",
    "Employing computational image generation to represet real-life problems.\n",
    "\n",
    "1. Grpahical representation\n",
    "1. Animated representation\n"
   ]
  },
  {
   "cell_type": "markdown",
   "metadata": {
    "slideshow": {
     "slide_type": "slide"
    }
   },
   "source": [
    "## Recap: Solving Ordinary Differential Equations (ODE)\n",
    "<a id='SolvingOrdinaryDifferentialEquations'></a>\n",
    "In the previous seminar we studied the function `scipy.integrate.odeint`.\n",
    "\n",
    "The function gives a numerical solution to a first order differential equation for a given input parameter e.g. time.\n",
    "\n",
    "Estimation methods can provide an easier way to solve problems than finding an analytical soltion to the equation. "
   ]
  },
  {
   "cell_type": "code",
   "execution_count": 2,
   "metadata": {
    "slideshow": {
     "slide_type": "-"
    }
   },
   "outputs": [],
   "source": [
    "from scipy.integrate import odeint\n",
    "import numpy as np\n",
    "import matplotlib.pyplot as plt"
   ]
  },
  {
   "cell_type": "markdown",
   "metadata": {
    "slideshow": {
     "slide_type": "slide"
    }
   },
   "source": [
    "__Analytical solution (to an ODE) :__ \n",
    "<br>A function, which can be solved to get a particular value.\n",
    "\n",
    "e.g. solution to an ODE : $y(x) = exp(x)$\n",
    "<br>We can *solve* the solution to find the value of $x$ where $y(x) = 2$.\n",
    "\n",
    "Few practical systems lead to analytical solutions. Their use is limited use. \n",
    "\n",
    "\n",
    "__Numerical approximation (of an ODE) :__\n",
    "<br>Independent variable and approximation of corresponding function value at that variable. "
   ]
  },
  {
   "cell_type": "markdown",
   "metadata": {
    "slideshow": {
     "slide_type": "slide"
    }
   },
   "source": [
    "To recap last weeks class..."
   ]
  },
  {
   "cell_type": "markdown",
   "metadata": {
    "slideshow": {
     "slide_type": "-"
    }
   },
   "source": [
    "The function `odeint` takes a user-defined function as an argument.\n",
    "\n",
    "This input function should define the derivative you want to solve in the form: \n",
    "\n",
    "$f' = \\frac{df}{dt} = g(t)$\n",
    "\n",
    "For example:\n",
    "\n",
    "$f' = cos(t), \\quad f(t=0)=0$"
   ]
  },
  {
   "cell_type": "code",
   "execution_count": 3,
   "metadata": {},
   "outputs": [],
   "source": [
    "def dfdt(x, t):\n",
    "    return np.cos(t)"
   ]
  },
  {
   "cell_type": "markdown",
   "metadata": {
    "slideshow": {
     "slide_type": "slide"
    }
   },
   "source": [
    "Two additional arguments are needed:\n",
    "\n",
    "- the initial value of x\n",
    "- the value(s) of t at which to evaluate x, starting with the initial value\n",
    "- (if `dx_dt` takes any other argumemts they are entered as a tuple as the third argument)"
   ]
  },
  {
   "cell_type": "code",
   "execution_count": 4,
   "metadata": {
    "slideshow": {
     "slide_type": "-"
    }
   },
   "outputs": [],
   "source": [
    "ts = np.linspace(0,5,100) # the value(s) of t at which to evaluate x\n",
    "f0 = 0                    # the initial value\n",
    "\n",
    "# odeint returns x at each value of t\n",
    "fs = odeint(dfdt, # function\n",
    "            f0,   # initial value\n",
    "            ts)   # time span\n"
   ]
  },
  {
   "cell_type": "markdown",
   "metadata": {
    "slideshow": {
     "slide_type": "slide"
    }
   },
   "source": [
    "The function `odeint` returns an $n\\times 1$ array (2D column).\n",
    "\n",
    "To plot the output we have to \"flatten\" it to a 1D array.\n",
    "\n",
    "Recall, $f' = cos(t), \\quad f = sin(t)$"
   ]
  },
  {
   "cell_type": "code",
   "execution_count": 5,
   "metadata": {
    "scrolled": false,
    "slideshow": {
     "slide_type": "-"
    }
   },
   "outputs": [],
   "source": [
    "fs = np.array(fs).flatten()"
   ]
  },
  {
   "cell_type": "markdown",
   "metadata": {
    "slideshow": {
     "slide_type": "slide"
    }
   },
   "source": [
    "Plot the function"
   ]
  },
  {
   "cell_type": "code",
   "execution_count": 6,
   "metadata": {},
   "outputs": [
    {
     "data": {
      "text/plain": [
       "<matplotlib.legend.Legend at 0x114b6ce48>"
      ]
     },
     "execution_count": 6,
     "metadata": {},
     "output_type": "execute_result"
    },
    {
     "data": {
      "image/png": "[encoded data removed]",
      "text/plain": [
       "<matplotlib.figure.Figure at 0x10f1555f8>"
      ]
     },
     "metadata": {},
     "output_type": "display_data"
    }
   ],
   "source": [
    "plt.xlabel(\"t\")\n",
    "plt.ylabel(\"f\")\n",
    "plt.plot(ts, np.sin(ts), 'c', label='analytical solution');\n",
    "plt.plot(ts, fs, 'r--', label='numerical solution');\n",
    "plt.legend(loc='best')\n"
   ]
  },
  {
   "cell_type": "markdown",
   "metadata": {},
   "source": [
    "The numerical and analytical solutions agree."
   ]
  },
  {
   "cell_type": "markdown",
   "metadata": {
    "slideshow": {
     "slide_type": "slide"
    }
   },
   "source": [
    "## Discontinuous Functions\n",
    "<a id='DiscontinuousFunctions'></a>\n",
    "The computational solver to loops through the range of input vlaues.\n",
    "\n",
    "It estimates the value of the function at each input value.\n",
    "\n",
    "This makes it easy to apply the solver to piecewise or discontinous functions."
   ]
  },
  {
   "cell_type": "markdown",
   "metadata": {
    "slideshow": {
     "slide_type": "slide"
    }
   },
   "source": [
    "An example of where this is useful is where a *forcing function* effects your solution."
   ]
  },
  {
   "cell_type": "markdown",
   "metadata": {
    "slideshow": {
     "slide_type": "slide"
    }
   },
   "source": [
    "##### Example : A Mixing Tank\n",
    "<a id='ExampleMixingTank'></a>\n",
    "<img src=\"img/salt_tank.png\" alt=\"Drawing\" style=\"width: 200px;\"/> \n",
    "    \n",
    "A tank initially contains a mixture: \n",
    "- 300 g of salt \n",
    "- 1000 L of water. \n",
    "\n",
    "From t=0 min:\n",
    "- inlet solution 4 g/L (salt/water)\n",
    "- inlet flow rate 6 L/min. \n",
    "\n",
    "From t=10 min:\n",
    "- inlet solution 2 g/L (salt/water)\n",
    "- inlet flow rate 6 L/min (unchanged)\n",
    "\n",
    "Oulet flow rate = inlet floow rate = 6 L/min (unchanged).\n",
    "\n",
    "The contents are mixed thoroughly."
   ]
  },
  {
   "cell_type": "markdown",
   "metadata": {
    "slideshow": {
     "slide_type": "slide"
    }
   },
   "source": [
    "A differential equation to represent the change in the mass of salt in the tank with respect to time:\n",
    "\n",
    "\n",
    "\n",
    "\n",
    "\\begin{align*}\n",
    "\\frac{dM_S}{dt} &= u_{in}C_{in}(t) - u_{out}C_{out}(t)\\\\\n",
    "                &= u_{in}C_{in}(t)-u_{out}\\frac{M_S}{V} \\\\\n",
    "\\end{align*}\n",
    "\n",
    "where\n",
    "<br>$u$ = inlet flow rate\n",
    "<br>$V$ = volume of liquid in tank\n",
    "<br>$C_{in}$ = salt concentration inflow g/L\n",
    "<br>$M_S$ = mass of salt in tank\n",
    "\n",
    "\n",
    "Initial condition:\n",
    "<br>$M_S(t=0) = 300$ "
   ]
  },
  {
   "cell_type": "markdown",
   "metadata": {
    "slideshow": {
     "slide_type": "slide"
    }
   },
   "source": [
    "We can first write a function to represent the change of $C_{in}$ with time:"
   ]
  },
  {
   "cell_type": "code",
   "execution_count": 7,
   "metadata": {},
   "outputs": [],
   "source": [
    "def Cs(t):\n",
    "    'inlet concentration of salt'\n",
    "    if t < 0:\n",
    "        cs = 0.0 # g/L\n",
    "    elif (t > 0) and (t <= 10):\n",
    "        cs = 4.0 \n",
    "    else:\n",
    "        cs = 2.0\n",
    "    return cs\n",
    "\n"
   ]
  },
  {
   "cell_type": "markdown",
   "metadata": {
    "slideshow": {
     "slide_type": "slide"
    }
   },
   "source": [
    "Then we write a function to define $\\frac{dM_S}{dt}$ just as we did in the last example."
   ]
  },
  {
   "cell_type": "code",
   "execution_count": 8,
   "metadata": {},
   "outputs": [],
   "source": [
    "V = 1000.0 # volume of liquid in tank\n",
    "u = 6.0    # inflow and outflow rate\n",
    "\n",
    "def salt_mass(Ms, t):\n",
    "    'mass of salt in the tank'\n",
    "    dMsdt = u * Cs(t) - u * Ms / V\n",
    "    return dMsdt"
   ]
  },
  {
   "cell_type": "code",
   "execution_count": 9,
   "metadata": {
    "slideshow": {
     "slide_type": "slide"
    }
   },
   "outputs": [],
   "source": [
    "# initial value (at t=0)\n",
    "M0 = 300 # g salt\n",
    "\n",
    "# time span \n",
    "tspan = np.linspace(0.0, 15.0, 50)\n",
    "\n",
    "# mass of salt in tank over time span\n",
    "Ms = odeint(salt_mass, M0, tspan)\n"
   ]
  },
  {
   "cell_type": "markdown",
   "metadata": {
    "slideshow": {
     "slide_type": "slide"
    }
   },
   "source": [
    "Plot the solution to observe the change in the rate of increase in salt concentration at $t=10$s."
   ]
  },
  {
   "cell_type": "code",
   "execution_count": 10,
   "metadata": {
    "scrolled": true
   },
   "outputs": [
    {
     "data": {
      "text/plain": [
       "Text(0,0.5,'Salt concentration (g/L)')"
      ]
     },
     "execution_count": 10,
     "metadata": {},
     "output_type": "execute_result"
    },
    {
     "data": {
      "image/png": "[encoded data removed]",
      "text/plain": [
       "<matplotlib.figure.Figure at 0x10f1554e0>"
      ]
     },
     "metadata": {},
     "output_type": "display_data"
    }
   ],
   "source": [
    "plt.plot(tspan, Ms/V, 'b.')\n",
    "plt.xlabel('Time (min)')\n",
    "plt.ylabel('Salt concentration (g/L)')\n"
   ]
  },
  {
   "cell_type": "markdown",
   "metadata": {
    "slideshow": {
     "slide_type": "slide"
    }
   },
   "source": [
    "## Solving an ODE for a Specific *Solution* Value.\n",
    "<a id='SolvingODESpecificSolutionValue'></a>\n",
    "The analytical solution to an ODE is a function the value of input variable $x$ that makes $y(x)$ equal to some value of interest. \n",
    "\n",
    "\n"
   ]
  },
  {
   "cell_type": "markdown",
   "metadata": {
    "slideshow": {
     "slide_type": "slide"
    }
   },
   "source": [
    "In a numerical solution to an ODE we get a vector of independent variable values, and the corresponding function values at those values. \n",
    "\n",
    "This may not include the function value of itnerest. \n",
    "\n",
    "To solve for a particular function value we need a dfferent approach. \n"
   ]
  },
  {
   "cell_type": "markdown",
   "metadata": {
    "slideshow": {
     "slide_type": "slide"
    }
   },
   "source": [
    "One approach to this is using interpolation, which we studied in `05_Plotting_Analysing.ipynb`..."
   ]
  },
  {
   "cell_type": "markdown",
   "metadata": {
    "slideshow": {
     "slide_type": "slide"
    }
   },
   "source": [
    "### Example : Reactor, Part 1\n",
    "<a id='ExampleReactorPart1'></a>\n",
    "The rate of change of the concentration $C_A$ of a substance within a reactor is:\n",
    "\n",
    "$$\\frac{dC_A}{dt}=-kC_A^2 $$\n",
    "\n",
    "where\n",
    "<br>$k = 0.23 \\quad \\textrm{L/mol/s}$\n",
    "\n",
    "Initial condition:\n",
    "<br>$C_A(t=0) = 2.3 \\quad \\textrm{mol/L}$ \n",
    "\n",
    "\n",
    "Compute the time it takes for $C_A$ to be reduced to $1 \\textrm{mol/L}$.\n",
    "\n",
    "*i.e. Find input variable $t$ when output variable $C_A = 1$*"
   ]
  },
  {
   "cell_type": "code",
   "execution_count": 11,
   "metadata": {
    "slideshow": {
     "slide_type": "slide"
    }
   },
   "outputs": [],
   "source": [
    "k = 0.23\n",
    "Ca0 = 2.3  # initial condition\n",
    "\n",
    "def dCadt(Ca, t):\n",
    "    return -k * Ca**2\n",
    "\n",
    "tspan = np.linspace(0, 10, 14)  # range of time values\n",
    "sol = odeint(dCadt, Ca0, tspan)"
   ]
  },
  {
   "cell_type": "code",
   "execution_count": 12,
   "metadata": {
    "slideshow": {
     "slide_type": "slide"
    }
   },
   "outputs": [
    {
     "data": {
      "text/plain": [
       "Text(0,0.5,'$C_A$ (mol/L)')"
      ]
     },
     "execution_count": 12,
     "metadata": {},
     "output_type": "execute_result"
    },
    {
     "data": {
      "image/png": "[encoded data removed]",
      "text/plain": [
       "<matplotlib.figure.Figure at 0x114c9c1d0>"
      ]
     },
     "metadata": {},
     "output_type": "display_data"
    }
   ],
   "source": [
    "plt.plot(tspan, sol)\n",
    "plt.xlabel('Time (s)')\n",
    "plt.ylabel('$C_A$ (mol/L)')\n"
   ]
  },
  {
   "cell_type": "markdown",
   "metadata": {},
   "source": [
    "We can see that the solution ($C_A = 1$) is close to 2s."
   ]
  },
  {
   "cell_type": "markdown",
   "metadata": {
    "slideshow": {
     "slide_type": "slide"
    }
   },
   "source": [
    "We create an interpolating function to estimate the solution.\n",
    "\n",
    "First, observe how the solution is represented."
   ]
  },
  {
   "cell_type": "code",
   "execution_count": 13,
   "metadata": {},
   "outputs": [
    {
     "name": "stdout",
     "output_type": "stream",
     "text": [
      "[[2.3       ]\n",
      " [1.63477314]\n",
      " [1.26802375]\n",
      " [1.03567716]\n",
      " [0.87529271]\n",
      " [0.75792139]\n",
      " [0.66830573]\n",
      " [0.59764138]\n",
      " [0.54049165]\n",
      " [0.4933179 ]\n",
      " [0.45371772]\n",
      " [0.42000278]\n",
      " [0.39095185]\n",
      " [0.36565974]] <class 'numpy.ndarray'>\n"
     ]
    }
   ],
   "source": [
    "print(sol, type(sol))\n",
    "\n"
   ]
  },
  {
   "cell_type": "markdown",
   "metadata": {
    "slideshow": {
     "slide_type": "slide"
    }
   },
   "source": [
    "We can plot this range without issue.\n",
    "\n",
    "However, when interpolating, we must specify the index of the range of values:"
   ]
  },
  {
   "cell_type": "code",
   "execution_count": 15,
   "metadata": {},
   "outputs": [],
   "source": [
    "Ca = sol[:,0]"
   ]
  },
  {
   "cell_type": "code",
   "execution_count": 16,
   "metadata": {
    "slideshow": {
     "slide_type": "slide"
    }
   },
   "outputs": [],
   "source": [
    "# interpolate : Method 1\n",
    "from scipy.interpolate import interp1d\n",
    "\n",
    "ca_func = interp1d(tspan, Ca, 'cubic')\n",
    "\n",
    "\n",
    "# # interpolate : Method 2\n",
    "# from scipy.interpolate import splrep\n",
    "# from scipy.interpolate import splev\n",
    "\n",
    "# order_poly = 3\n",
    "# ca_func = splrep(tspan, Ca, k=order_poly)\n"
   ]
  },
  {
   "cell_type": "code",
   "execution_count": 241,
   "metadata": {
    "slideshow": {
     "slide_type": "slide"
    }
   },
   "outputs": [
    {
     "data": {
      "text/plain": [
       "<matplotlib.legend.Legend at 0x181ed230b8>"
      ]
     },
     "execution_count": 241,
     "metadata": {},
     "output_type": "execute_result"
    },
    {
     "data": {
      "image/png": "[encoded data removed]",
      "text/plain": [
       "<Figure size 432x288 with 1 Axes>"
      ]
     },
     "metadata": {},
     "output_type": "display_data"
    }
   ],
   "source": [
    "# plot the original data \n",
    "plt.plot(tspan, Ca, label='original data')\n",
    "\n",
    "# plot the interpolated data\n",
    "tspan_i = np.linspace(0, 10, 200)   # create a finer range of time variables\n",
    "\n",
    "# Method 1\n",
    "plt.plot(tspan_i, ca_func(tspan_i), 'r--', label='interpolation') # Method 1\n",
    "\n",
    "# Method 2\n",
    "#plt.plot(tspan_i, splev(tspan_i, ca_func), 'r--', label='interpolation') # Method 2\n",
    "\n",
    "plt.xlabel('Time (s)')\n",
    "plt.ylabel('$C_A$ (mol/L)')\n",
    "plt.legend()"
   ]
  },
  {
   "cell_type": "markdown",
   "metadata": {
    "slideshow": {
     "slide_type": "slide"
    }
   },
   "source": [
    "The interpolated data provides a good fit.\n",
    "\n",
    "Now we solve the problem : find time, $t$ when $C_A = 1$\n",
    "\n",
    "Remember, our approximation : $t \\approx 2$ when $C_A = 1$"
   ]
  },
  {
   "cell_type": "code",
   "execution_count": 17,
   "metadata": {},
   "outputs": [],
   "source": [
    "tguess = 2.0\n",
    "\n",
    "def func(t):\n",
    "    'returns 0 when interpolated function ca_func(t) = desired value, 1'\n",
    "    return 1.0 - ca_func(t)\n"
   ]
  },
  {
   "cell_type": "markdown",
   "metadata": {
    "slideshow": {
     "slide_type": "slide"
    }
   },
   "source": [
    "In `07_RootFinding_CoupledEquations.ipynb` we learnt to use the function `fsolve` for estimating the roots of a function given an initial estimate. \n",
    "\n",
    "Then we use `fsolve` to solve the function (find where function returns 0), usign initial guess = 2. "
   ]
  },
  {
   "cell_type": "code",
   "execution_count": 243,
   "metadata": {},
   "outputs": [
    {
     "name": "stdout",
     "output_type": "stream",
     "text": [
      "[2.45688986]\n"
     ]
    }
   ],
   "source": [
    "from scipy.optimize import fsolve\n",
    "\n",
    "tsol2 = fsolve(func, tguess)\n",
    "# tsol2, = fsolve(func, tguess)  # using a comma extracts a single varibale stored as array\n",
    "print(tsol2)\n"
   ]
  },
  {
   "cell_type": "markdown",
   "metadata": {
    "slideshow": {
     "slide_type": "slide"
    }
   },
   "source": [
    "We can express this more concisely as a `lambda` function:"
   ]
  },
  {
   "cell_type": "code",
   "execution_count": 244,
   "metadata": {},
   "outputs": [
    {
     "name": "stdout",
     "output_type": "stream",
     "text": [
      "2.4568898598165143\n"
     ]
    }
   ],
   "source": [
    "# input t\n",
    "# output 1.0 - ca_func(t\n",
    "tsol, = fsolve(lambda t: 1.0 - ca_func(t), tguess)\n",
    "print(tsol)\n"
   ]
  },
  {
   "cell_type": "markdown",
   "metadata": {
    "slideshow": {
     "slide_type": "slide"
    }
   },
   "source": [
    "## Solution to an ODE evaulated at Specific *Input* Values.\n",
    "<a id='SolutionODESpecificInputValues'></a>\n",
    "Sometimes it is desirable to get the solution at specific points\n",
    "<br>e.g. at $t = [0, 0.2, 0.4, 0.8]$ \n",
    "\n",
    "For example we might want to compare experimental measurements at those time points. "
   ]
  },
  {
   "cell_type": "markdown",
   "metadata": {
    "slideshow": {
     "slide_type": "slide"
    }
   },
   "source": [
    "To find the solution for specific input values, we simply set the range of input variables to the values of interest."
   ]
  },
  {
   "cell_type": "markdown",
   "metadata": {
    "slideshow": {
     "slide_type": "slide"
    }
   },
   "source": [
    "### Example : Reactor, Part 2\n",
    "<a id='ExampleReactorPart2'></a>\n",
    "The rate of change of the concentration $C_A$ of a substance within a reactor is:\n",
    "\n",
    "$$\\frac{dC_A}{dt}=-kC_A^2 $$\n",
    "\n",
    "where\n",
    "<br>$k = 0.23 \\quad \\textrm{L/mol/s}$\n",
    "\n",
    "Initial condition:\n",
    "<br>$C_A(t=0) = 2.3 \\quad \\textrm{mol/L}$ \n",
    "\n",
    "\n",
    "Compute the contration $C_A$ at time $t = [0, 2, 4, 8]$."
   ]
  },
  {
   "cell_type": "markdown",
   "metadata": {
    "slideshow": {
     "slide_type": "slide"
    }
   },
   "source": [
    "We can use the same function as in __Example : Reactor, Part 1__"
   ]
  },
  {
   "cell_type": "code",
   "execution_count": 245,
   "metadata": {},
   "outputs": [],
   "source": [
    "k = 0.23\n",
    "Ca0 = 2.3\n",
    "\n",
    "def dCadt(Ca, t):\n",
    "    return -k * Ca**2"
   ]
  },
  {
   "cell_type": "markdown",
   "metadata": {
    "slideshow": {
     "slide_type": "slide"
    }
   },
   "source": [
    "...we just apply the function to the new range of time values:"
   ]
  },
  {
   "cell_type": "code",
   "execution_count": 246,
   "metadata": {},
   "outputs": [
    {
     "data": {
      "text/plain": [
       "Text(0,0.5,'$C_A$ (mol/L)')"
      ]
     },
     "execution_count": 246,
     "metadata": {},
     "output_type": "execute_result"
    },
    {
     "data": {
      "image/png": "[encoded data removed]",
      "text/plain": [
       "<Figure size 432x288 with 1 Axes>"
      ]
     },
     "metadata": {},
     "output_type": "display_data"
    }
   ],
   "source": [
    "# previous problem solution\n",
    "tspan = np.linspace(0, 10, 14)\n",
    "plt.plot(tspan, odeint(dCadt, Ca0, tspan), label='range time')\n",
    "\n",
    "# specific value problem\n",
    "tspan = [0, 2, 4, 8]\n",
    "plt.plot(tspan, odeint(dCadt, Ca0, tspan), 'ro', label='range time')\n",
    "\n",
    "plt.xlabel('Time (s)')\n",
    "plt.ylabel('$C_A$ (mol/L)')\n"
   ]
  },
  {
   "cell_type": "code",
   "execution_count": 247,
   "metadata": {
    "slideshow": {
     "slide_type": "slide"
    }
   },
   "outputs": [
    {
     "name": "stdout",
     "output_type": "stream",
     "text": [
      "[[2.3       ]\n",
      " [1.11758989]\n",
      " [0.73812577]\n",
      " [0.43960241]]\n"
     ]
    }
   ],
   "source": [
    "print(odeint(dCadt, Ca0, tspan))\n",
    "\n",
    "# use index to access column 0\n",
    "# print(odeint(dCadt, Ca0, tspan)[:,0])\n"
   ]
  },
  {
   "cell_type": "markdown",
   "metadata": {
    "collapsed": true,
    "slideshow": {
     "slide_type": "slide"
    }
   },
   "source": [
    "## Matrix Multiplication Rules.\n",
    "<a id='MatrixMultiplicationRules'></a>\n",
    "The following section explains the process of matrix multiplication in case this is an unfamiliar topic for you.\n",
    "\n",
    "Read this section to understand the use of matrices in the examples that follow.\n",
    "\n",
    "\n",
    "\n",
    "\n"
   ]
  },
  {
   "cell_type": "markdown",
   "metadata": {
    "slideshow": {
     "slide_type": "subslide"
    }
   },
   "source": [
    "If the number of __columns in A__ \n",
    "<br>is the same as number of __rows in B__, \n",
    "<br>we can find the matrix product of $\\mathbf{A}$ and $\\mathbf{B}$.\n",
    "<br> $\\mathbf{C} = \\mathbf{A} \\cdot \\mathbf{B}$"
   ]
  },
  {
   "cell_type": "markdown",
   "metadata": {
    "slideshow": {
     "slide_type": "subslide"
    }
   },
   "source": [
    "For example:\n",
    "<br>$\\mathbf{A}$ has 3 rows and __3 columns__\n",
    "<br>$\\mathbf{B}$ has __3 rows__ and 1 column \n",
    "<br>($\\mathbf{B}$ is a vector represented as a matrix)\n",
    "\n",
    "\\begin{equation*}\n",
    "\\underbrace{\n",
    "\\begin{bmatrix}\n",
    "1 & 2 & 3 \\\\\n",
    "4 & 5 & 6 \\\\\n",
    "7 & 8 & 9 \\\\\n",
    "\\end{bmatrix}\n",
    "}_{\\mathbf{A} \\text{ 3 rows} \\text{ 3 columns}}\n",
    "\\cdot\n",
    "\\underbrace{\n",
    "\\begin{bmatrix}\n",
    "10 \\\\\n",
    "20 \\\\\n",
    "30 \\\\\n",
    "\\end{bmatrix}\n",
    "}_{\\mathbf{B} \\text{  3 rows} \\text{  1 column}}\n",
    "\\end{equation*}\n",
    "\n",
    "So we can multiply them..."
   ]
  },
  {
   "cell_type": "markdown",
   "metadata": {
    "slideshow": {
     "slide_type": "subslide"
    }
   },
   "source": [
    "In matrix $\\mathbf{C}$, the element in __row $i$__, __column $j$__ \n",
    "\n",
    "is equal to the dot product of the $i$th __row__ of $\\mathbf{A}$, $j$th __column__ of $\\mathbf{B}$.m"
   ]
  },
  {
   "cell_type": "markdown",
   "metadata": {
    "collapsed": true,
    "slideshow": {
     "slide_type": "subslide"
    }
   },
   "source": [
    "\n",
    "\n",
    "\\begin{equation*}\n",
    "\\underbrace{\n",
    "\\begin{bmatrix}\n",
    "\\color{red}1 & \\color{red}2 & \\color{red}3 \\\\\n",
    "4 & 5 & 6 \\\\\n",
    "7 & 8 & 9 \\\\\n",
    "\\end{bmatrix}\n",
    "}_{\\mathbf{A} \\text{ 3 rows} \\text{ 3 columns}}\n",
    "\\cdot\n",
    "\\underbrace{\n",
    "\\begin{bmatrix}\n",
    "\\color{red}{10} \\\\\n",
    "\\color{red}{20} \\\\\n",
    "\\color{red}{30} \\\\\n",
    "\\end{bmatrix}\n",
    "}_{\\mathbf{B} \\text{  3 rows} \\text{  1 column}}\n",
    "=\\underbrace{\n",
    "\\begin{bmatrix}\n",
    "\\color{red}{1 \\cdot 10 \\quad + \\quad 2 \\cdot 20 \\quad + \\quad 3 \\cdot 30} \\\\\n",
    "4 \\cdot 10 \\quad + \\quad 5 \\cdot 20 \\quad + \\quad 6 \\cdot 30 \\\\\n",
    "7 \\cdot 10 \\quad + \\quad 8 \\cdot 20 \\quad + \\quad 9 \\cdot 30 \\\\\n",
    "\\end{bmatrix}\n",
    "}_{\\mathbf{C} \\text{  3 rows} \\text{  1 column}}\n",
    "=\\underbrace{\n",
    "\\begin{bmatrix}\n",
    "\\color{red}{140} \\\\\n",
    "320 \\\\\n",
    "500 \\\\\n",
    "\\end{bmatrix}\n",
    "}_{\\mathbf{C} \\text{  3 rows} \\text{  1 column1}}\n",
    "\\end{equation*}"
   ]
  },
  {
   "cell_type": "markdown",
   "metadata": {
    "collapsed": true,
    "slideshow": {
     "slide_type": "subslide"
    }
   },
   "source": [
    "\\begin{equation*}\n",
    "\\underbrace{\n",
    "\\begin{bmatrix}\n",
    "1 & 2 & 3 \\\\\n",
    "\\color{red}4 & \\color{red}5 & \\color{red}6 \\\\\n",
    "7 & 8 & 9 \\\\\n",
    "\\end{bmatrix}\n",
    "}_{\\mathbf{A} \\text{ 3 rows} \\text{ 3 columns}}\n",
    "\\cdot\n",
    "\\underbrace{\n",
    "\\begin{bmatrix}\n",
    "\\color{red}{10} \\\\\n",
    "\\color{red}{20} \\\\\n",
    "\\color{red}{30} \\\\\n",
    "\\end{bmatrix}\n",
    "}_{\\mathbf{B} \\text{  3 rows} \\text{  1 column}}\n",
    "=\\underbrace{\n",
    "\\begin{bmatrix}\n",
    "1 \\cdot 10 \\quad + \\quad 2 \\cdot 20 \\quad + \\quad 3 \\cdot 30 \\\\\n",
    "\\color{red}{4 \\cdot 10 \\quad + \\quad 5 \\cdot 20 \\quad + \\quad 6 \\cdot 30} \\\\\n",
    "7 \\cdot 10 \\quad + \\quad 8 \\cdot 20 \\quad + \\quad 9 \\cdot 30 \\\\\n",
    "\\end{bmatrix}\n",
    "}_{\\mathbf{C} \\text{  3 rows} \\text{  1 column}}\n",
    "=\\underbrace{\n",
    "\\begin{bmatrix}\n",
    "140 \\\\\n",
    "\\color{red}{320} \\\\\n",
    "500 \\\\\n",
    "\\end{bmatrix}\n",
    "}_{\\mathbf{C} \\text{  3 rows} \\text{  1 column1}}\n",
    "\\end{equation*}"
   ]
  },
  {
   "cell_type": "markdown",
   "metadata": {
    "collapsed": true,
    "slideshow": {
     "slide_type": "subslide"
    }
   },
   "source": [
    "\\begin{equation*}\n",
    "\\underbrace{\n",
    "\\begin{bmatrix}\n",
    "1 & 2 & 3 \\\\\n",
    "4 & 5 & 6 \\\\\n",
    "\\color{red}7 & \\color{red}8 & \\color{red}9 \\\\\n",
    "\\end{bmatrix}\n",
    "}_{\\mathbf{A} \\text{ 3 rows} \\text{ 3 columns}}\n",
    "\\cdot\n",
    "\\underbrace{\n",
    "\\begin{bmatrix}\n",
    "\\color{red}{10} \\\\\n",
    "\\color{red}{20} \\\\\n",
    "\\color{red}{30} \\\\\n",
    "\\end{bmatrix}\n",
    "}_{\\mathbf{B} \\text{  3 rows} \\text{  1 column}}\n",
    "=\\underbrace{\n",
    "\\begin{bmatrix}\n",
    "1 \\cdot 10 \\quad + \\quad 2 \\cdot 20 \\quad + \\quad 3 \\cdot 30 \\\\\n",
    "4 \\cdot 10 \\quad + \\quad 5 \\cdot 20 \\quad + \\quad 6 \\cdot 30 \\\\\n",
    "\\color{red}{7 \\cdot 10 \\quad + \\quad 8 \\cdot 20 \\quad + \\quad 9 \\cdot 30} \\\\\n",
    "\\end{bmatrix}\n",
    "}_{\\mathbf{C} \\text{  3 rows} \\text{  1 column}}\n",
    "=\\underbrace{\n",
    "\\begin{bmatrix}\n",
    "140 \\\\\n",
    "320 \\\\\n",
    "\\color{red}{500} \\\\\n",
    "\\end{bmatrix}\n",
    "}_{\\mathbf{C} \\text{  3 rows} \\text{  1 column1}}\n",
    "\\end{equation*}"
   ]
  },
  {
   "cell_type": "markdown",
   "metadata": {
    "slideshow": {
     "slide_type": "subslide"
    }
   },
   "source": [
    "\\begin{equation*}\n",
    "\\underbrace{\n",
    "\\begin{bmatrix}\n",
    "1 & 2 & 3 \\\\\n",
    "4 & 5 & 6 \\\\\n",
    "7 & 8 & 9 \\\\\n",
    "\\end{bmatrix}\n",
    "}_{\\mathbf{A} \\text{ 3 rows} \\text{ 3 columns}}\n",
    "\\cdot\n",
    "\\underbrace{\n",
    "\\begin{bmatrix}\n",
    "10 \\\\\n",
    "20 \\\\\n",
    "30 \\\\\n",
    "\\end{bmatrix}\n",
    "}_{\\mathbf{B} \\text{  3 rows} \\text{  1 column}}\n",
    "=\\underbrace{\n",
    "\\begin{bmatrix}\n",
    "1 \\cdot 10 \\quad + \\quad 2 \\cdot 20 \\quad + \\quad 3 \\cdot 30 \\\\\n",
    "4 \\cdot 10 \\quad + \\quad 5 \\cdot 20 \\quad + \\quad 6 \\cdot 30 \\\\\n",
    "7 \\cdot 10 \\quad + \\quad 8 \\cdot 20 \\quad + \\quad 9 \\cdot 30 \\\\\n",
    "\\end{bmatrix}\n",
    "}_{\\mathbf{C} \\text{  3 rows} \\text{  1 column}}\n",
    "=\\underbrace{\n",
    "\\begin{bmatrix}\n",
    "140 \\\\\n",
    "320 \\\\\n",
    "500 \\\\\n",
    "\\end{bmatrix}\n",
    "}_{\\mathbf{C} \\text{  3 rows} \\text{  1 column1}}\n",
    "\\end{equation*}\n",
    "\n",
    "Matrix $\\mathbf{C}$ therefore has: \n",
    "- the same number of __rows__ as $\\mathbf{A}$,\n",
    "- the same number of __columns__ as $\\mathbf{B}$."
   ]
  },
  {
   "cell_type": "code",
   "execution_count": 248,
   "metadata": {
    "slideshow": {
     "slide_type": "subslide"
    }
   },
   "outputs": [
    {
     "name": "stdout",
     "output_type": "stream",
     "text": [
      "[140 320 500]\n"
     ]
    }
   ],
   "source": [
    "# In the equation above, vector B must be represented as a column vector\n",
    "A = np.array([[1, 2, 3], \n",
    "              [4, 5, 6],\n",
    "              [7, 8, 9]])\n",
    "\n",
    "\n",
    "# In Python, 1D arrays are ALWAYS represented horizontally \n",
    "# This does not define the array as a row vector\n",
    "B = np.array([10, 20, 30])\n",
    "\n",
    "\n",
    "# For example, C is represented horizontally \n",
    "C = np.dot(A,B)\n",
    "print(C)\n"
   ]
  },
  {
   "cell_type": "markdown",
   "metadata": {
    "slideshow": {
     "slide_type": "subslide"
    }
   },
   "source": [
    "As an example, if $\\mathbf{B}$ were a row vector: \n",
    "\n",
    "\\begin{equation*}\n",
    "\\underbrace{\n",
    "\\begin{bmatrix}\n",
    "1 & 2 & 3 \\\\\n",
    "4 & 5 & 6 \\\\\n",
    "7 & 8 & 9 \\\\\n",
    "\\end{bmatrix}\n",
    "}_{\\mathbf{A} \\text{ 3 rows} \\text{ 3 columns}}\n",
    "\\cdot\n",
    "\\underbrace{\n",
    "\\begin{bmatrix}\n",
    "10 & 20 & 30 \\\\\n",
    "\\end{bmatrix}\n",
    "}_{\\mathbf{B} \\text{  1 row} \\text{  3 columns}}\n",
    "\\end{equation*}\n",
    "\n",
    "We *cannot* find the dot product $\\mathbf{B}\\cdot\\mathbf{A}$.\n",
    "<br>The number of columns in $\\mathbf{A}$ __is not__ the same as number of rows in $\\mathbf{B}$."
   ]
  },
  {
   "cell_type": "markdown",
   "metadata": {
    "slideshow": {
     "slide_type": "subslide"
    }
   },
   "source": [
    "We can swap the order of $\\mathbf{A}$ and $\\mathbf{B}$.\n",
    "<br>The multiplication is now possible.\n",
    "<br>However, the outcome is different.\n",
    "\n",
    "\n",
    "\\begin{equation*}\n",
    "\\underbrace{\n",
    "\\begin{bmatrix}\n",
    "10 & 20 & 30 \\\\\n",
    "\\end{bmatrix}\n",
    "}_{\\mathbf{B} \\text{ 1 row} \\text{ 3 columns}}\n",
    "\\cdot\n",
    "\\underbrace{\n",
    "\\begin{bmatrix}\n",
    "\\color{red}1 & \\color{blue}2 & \\color{green}3 \\\\\n",
    "\\color{red}4 & \\color{blue}5 & \\color{green}6 \\\\\n",
    "\\color{red}7 & \\color{blue}8 & \\color{green}9 \\\\\n",
    "\\end{bmatrix}\n",
    "}_{\\mathbf{A} \\text{  3 rows} \\text{  3 columns}}\n",
    "=\\underbrace{\n",
    "\\begin{bmatrix}\n",
    "\\color{red}{10 \\cdot 1 + 20 \\cdot 4 + 30 \\cdot 7} &\n",
    "\\color{blue}{4 \\cdot 10 + 5 \\cdot 20 + 6 \\cdot 30} &\n",
    "\\color{green}{7 \\cdot 10 + 8 \\cdot 20 + 9 \\cdot 30} \\\\\n",
    "\\end{bmatrix}\n",
    "}_{\\mathbf{C} \\text{  1 row} \\text{  3 columns}}\n",
    "=\\underbrace{\n",
    "\\begin{bmatrix}\n",
    "\\color{red}{140} &\n",
    "\\color{blue}{320} &\n",
    "\\color{green}{500} \\\\\n",
    "\\end{bmatrix}\n",
    "}_{\\mathbf{C} \\text{  3 rows} \\text{  1 column1}}\n",
    "\\end{equation*}"
   ]
  },
  {
   "cell_type": "markdown",
   "metadata": {
    "slideshow": {
     "slide_type": "subslide"
    }
   },
   "source": [
    "In Python, normal matrix multiplication rules apply to 2D arrays.\n",
    "<br>This holds even if the length of one of the dimensions of the 2D array is equal to 1.\n",
    "\n"
   ]
  },
  {
   "cell_type": "code",
   "execution_count": 249,
   "metadata": {},
   "outputs": [
    {
     "name": "stdout",
     "output_type": "stream",
     "text": [
      "[[300 360 420]]\n",
      "[[140]\n",
      " [320]\n",
      " [500]]\n"
     ]
    }
   ],
   "source": [
    "A = np.array([[1, 2, 3], \n",
    "              [4, 5, 6],\n",
    "              [7, 8, 9]])\n",
    "\n",
    "# 2D array\n",
    "X = np.array([[10, 20, 30]])\n",
    "\n",
    "# 2D array\n",
    "Y = np.array([[10],\n",
    "              [20], \n",
    "              [30]])\n",
    "\n",
    "print(np.dot(X, A)) #, print(np.dot(A, X))\n",
    "print(np.dot(A, Y)) #, print(np.dot(Y, A))"
   ]
  },
  {
   "cell_type": "markdown",
   "metadata": {
    "slideshow": {
     "slide_type": "subslide"
    }
   },
   "source": [
    "However, the orientation with which 1D arrays are shown (always horizontal) does not impact their allowbale placement in an expression. \n",
    "\n",
    "Python will automatially treat the 1D as a column where appropriate."
   ]
  },
  {
   "cell_type": "code",
   "execution_count": 250,
   "metadata": {
    "slideshow": {
     "slide_type": "-"
    }
   },
   "outputs": [
    {
     "name": "stdout",
     "output_type": "stream",
     "text": [
      "[300 360 420]\n",
      "[140 320 500]\n"
     ]
    }
   ],
   "source": [
    "A = np.array([[1, 2, 3], \n",
    "              [4, 5, 6],\n",
    "              [7, 8, 9]])\n",
    "\n",
    "# 1D array\n",
    "Z = np.array([10, 20, 30])\n",
    "\n",
    "print(np.dot(Z, A))\n",
    "print(np.dot(A, Z))"
   ]
  },
  {
   "cell_type": "markdown",
   "metadata": {
    "slideshow": {
     "slide_type": "slide"
    }
   },
   "source": [
    "## Useful Matrix Operations\n",
    "<a id='UsefulMatrixOperations'></a>"
   ]
  },
  {
   "cell_type": "markdown",
   "metadata": {
    "slideshow": {
     "slide_type": "subslide"
    }
   },
   "source": [
    "#### Inverse of a square matrix"
   ]
  },
  {
   "cell_type": "code",
   "execution_count": 251,
   "metadata": {
    "slideshow": {
     "slide_type": "-"
    }
   },
   "outputs": [
    {
     "name": "stdout",
     "output_type": "stream",
     "text": [
      "A = \n",
      " [[1 2]\n",
      " [3 4]]\n",
      "Inverse of A = \n",
      " [[-2.   1. ]\n",
      " [ 1.5 -0.5]]\n"
     ]
    }
   ],
   "source": [
    "A = np.array([[1,2], \n",
    "              [3, 4]]) \n",
    "\n",
    "Ainv = np.linalg.inv(A)\n",
    "\n",
    "print(f\"A = \\n {A}\")\n",
    "print(f\"Inverse of A = \\n {Ainv}\")"
   ]
  },
  {
   "cell_type": "markdown",
   "metadata": {
    "slideshow": {
     "slide_type": "subslide"
    }
   },
   "source": [
    "#### Determinant of a square matrix"
   ]
  },
  {
   "cell_type": "code",
   "execution_count": 252,
   "metadata": {},
   "outputs": [
    {
     "name": "stdout",
     "output_type": "stream",
     "text": [
      "A = \n",
      " [[1 2]\n",
      " [3 4]]\n",
      "Determinant of A = -2.0\n"
     ]
    }
   ],
   "source": [
    "A = np.array([[1,2], \n",
    "              [3, 4]]) \n",
    "\n",
    "Adet = np.linalg.det(A)\n",
    "\n",
    "print(f\"A = \\n {A}\")\n",
    "print(f\"Determinant of A = {round(Adet, 2)}\")"
   ]
  },
  {
   "cell_type": "markdown",
   "metadata": {
    "slideshow": {
     "slide_type": "subslide"
    }
   },
   "source": [
    "#### Transpose of a matrix\n",
    "\n",
    "- The columns of the transpose matrix are the rows of the original matrix.\n",
    "- The rows of the transopse matrix are the columns of the original matrix.  "
   ]
  },
  {
   "cell_type": "code",
   "execution_count": 253,
   "metadata": {},
   "outputs": [
    {
     "name": "stdout",
     "output_type": "stream",
     "text": [
      "[[0. 0. 0. 0.]\n",
      " [0. 0. 0. 0.]]\n",
      "\n",
      "[[0. 0.]\n",
      " [0. 0.]\n",
      " [0. 0.]\n",
      " [0. 0.]]\n",
      "\n",
      "[[0. 0.]\n",
      " [0. 0.]\n",
      " [0. 0.]\n",
      " [0. 0.]]\n"
     ]
    }
   ],
   "source": [
    "a = np.zeros((2,4))\n",
    "print(a)\n",
    "print()\n",
    "\n",
    "\n",
    "print(a.T)\n",
    "print()\n",
    "\n",
    "#or \n",
    "\n",
    "print(np.transpose(a))"
   ]
  },
  {
   "cell_type": "markdown",
   "metadata": {
    "slideshow": {
     "slide_type": "subslide"
    }
   },
   "source": [
    "#### Generate Identity Matrix"
   ]
  },
  {
   "cell_type": "code",
   "execution_count": 254,
   "metadata": {
    "scrolled": true
   },
   "outputs": [
    {
     "name": "stdout",
     "output_type": "stream",
     "text": [
      "[[1. 0.]\n",
      " [0. 1.]]\n",
      "\n",
      "[[1. 0. 0. 0.]\n",
      " [0. 1. 0. 0.]\n",
      " [0. 0. 1. 0.]\n",
      " [0. 0. 0. 1.]]\n"
     ]
    }
   ],
   "source": [
    "I = np.eye(2)\n",
    "print(I)\n",
    "\n",
    "print()\n",
    "\n",
    "I = np.eye(4)\n",
    "print(I)"
   ]
  },
  {
   "cell_type": "markdown",
   "metadata": {
    "slideshow": {
     "slide_type": "slide"
    }
   },
   "source": [
    "## Systems of Ordinary Differential Equations \n",
    "<a id='SystemsOrdinaryDifferentialEquations '></a>\n",
    "`odeint` can also be used to solve *systems* of coupled differential equations. \n",
    "\n"
   ]
  },
  {
   "cell_type": "markdown",
   "metadata": {
    "slideshow": {
     "slide_type": "slide"
    }
   },
   "source": [
    "### Example : Migration problem\n",
    "A well known problem concerns an imaginary country with three cities, A, B and C. \n",
    "<br>At the end of each year, a fraction, $n$ of the people must leave each city.\n",
    "<br>Half of the people leaving a city move to one of the two options, and half to the other.\n",
    "\n",
    "<img src=\"img/cities3.png\" alt=\"Drawing\" style=\"width: 400px;\"/> "
   ]
  },
  {
   "cell_type": "markdown",
   "metadata": {
    "slideshow": {
     "slide_type": "slide"
    }
   },
   "source": [
    "This gives us a system of simultaneous equations\n",
    "\n",
    "\\begin{align*}\n",
    "\\Delta A = \\frac{Bn}{2} + \\frac{Cn}{2} - An \\\\\n",
    "\\Delta B = \\frac{An}{2} + \\frac{Cn}{2} - Bn\\\\\n",
    "\\Delta C = \\frac{An}{2} + \\frac{Bn}{2} -Cn \\\\\n",
    "\\end{align*}\n",
    "\n",
    "\n"
   ]
  },
  {
   "cell_type": "markdown",
   "metadata": {
    "slideshow": {
     "slide_type": "slide"
    }
   },
   "source": [
    "Matrices are a convenient way to represent this problem.  "
   ]
  },
  {
   "cell_type": "markdown",
   "metadata": {
    "slideshow": {
     "slide_type": "subslide"
    }
   },
   "source": [
    "\\begin{equation*}\n",
    "\\begin{bmatrix}\n",
    "\\Delta A \\\\\n",
    "\\Delta B \\\\\n",
    "\\Delta C \\\\\n",
    "\\end{bmatrix}\n",
    "=\n",
    "\\underbrace{\n",
    "\\begin{bmatrix}\n",
    "-n & \\frac{n}{2} & \\frac{n}{2} \\\\\n",
    "\\frac{n}{2} & -n & \\frac{n}{2} \\\\\n",
    "\\frac{n}{2} & \\frac{n}{2} & -n \\\\\n",
    "\\end{bmatrix}\n",
    "}_{\\mathbf{migration}}\n",
    "\\cdot\n",
    "\\underbrace{\n",
    "\\begin{bmatrix}\n",
    "A \\\\\n",
    "B \\\\\n",
    "C \\\\\n",
    "\\end{bmatrix}\n",
    "}_{\\mathbf{population}}\n",
    "\\end{equation*}\n",
    "\n"
   ]
  },
  {
   "cell_type": "markdown",
   "metadata": {
    "slideshow": {
     "slide_type": "slide"
    }
   },
   "source": [
    "Let's use variable names $\\mathbf{M}$ and $\\mathbf{P}$."
   ]
  },
  {
   "cell_type": "markdown",
   "metadata": {},
   "source": [
    "\\begin{equation*}\n",
    "\\begin{bmatrix}\n",
    "\\Delta a \\\\\n",
    "\\Delta b \\\\\n",
    "\\Delta c \\\\\n",
    "\\end{bmatrix}\n",
    "=\n",
    "\\underbrace{\n",
    "\\begin{bmatrix}\n",
    "-0.2 & 0.1 & 0.1 \\\\\n",
    "0.1 & -0.2 & 0.1 \\\\\n",
    "0.1 & 0.1 & -0.2 \\\\\n",
    "\\end{bmatrix}\n",
    "}_{\\mathbf{M}}\n",
    "\\cdot\n",
    "\\underbrace{\n",
    "\\begin{bmatrix}\n",
    "A \\\\\n",
    "B \\\\\n",
    "C \\\\\n",
    "\\end{bmatrix}\n",
    "}_{\\mathbf{P}}\n",
    "\\end{equation*}\n",
    "\n"
   ]
  },
  {
   "cell_type": "markdown",
   "metadata": {
    "slideshow": {
     "slide_type": "slide"
    }
   },
   "source": [
    "We can use `odeint` to solve coupled first order ordinary differential equations simultaneously (systems of ODEs)."
   ]
  },
  {
   "cell_type": "markdown",
   "metadata": {
    "slideshow": {
     "slide_type": "slide"
    }
   },
   "source": [
    "First create matrix $\\mathbf{M}$:"
   ]
  },
  {
   "cell_type": "code",
   "execution_count": 255,
   "metadata": {},
   "outputs": [
    {
     "name": "stdout",
     "output_type": "stream",
     "text": [
      "[[-0.02  0.01  0.01]\n",
      " [ 0.01 -0.02  0.01]\n",
      " [ 0.01  0.01 -0.02]]\n"
     ]
    }
   ],
   "source": [
    "import numpy as np\n",
    "M = np.full((3, 3), 0.01)\n",
    "np.fill_diagonal(M, -0.02)\n",
    "print(M)"
   ]
  },
  {
   "cell_type": "markdown",
   "metadata": {
    "slideshow": {
     "slide_type": "slide"
    }
   },
   "source": [
    "The initial value variable is a list.\n",
    "\n",
    "Note, the values are input as a single data structure.\n",
    "\n",
    "The elements are the initial populations $A$, $B$, and $C$."
   ]
  },
  {
   "cell_type": "code",
   "execution_count": 256,
   "metadata": {
    "slideshow": {
     "slide_type": "slide"
    }
   },
   "outputs": [],
   "source": [
    "# Initial population\n",
    "P0 = np.array([190.0, 500.0, 30.0])\n"
   ]
  },
  {
   "cell_type": "markdown",
   "metadata": {
    "slideshow": {
     "slide_type": "slide"
    }
   },
   "source": [
    "Timespan over which to evaluate the change in population:"
   ]
  },
  {
   "cell_type": "code",
   "execution_count": 257,
   "metadata": {},
   "outputs": [],
   "source": [
    "# Time steps to evaluate\n",
    "tspan = np.arange(0, 150)"
   ]
  },
  {
   "cell_type": "markdown",
   "metadata": {
    "slideshow": {
     "slide_type": "slide"
    }
   },
   "source": [
    "The chnage in population is the dot product (or matrix product) of matrix $\\mathbf{M}$, and the current populations, matrix $\\mathbf{P}$.\n",
    "\n",
    "Therefore the inputs to the function are:\n",
    "- current population (matrix $\\mathbf{P}$)\n",
    "- timespan to investigate\n",
    "- matrix $\\mathbf{M}$\n",
    "\n",
    "The function should output the __rate of change of each variable__ as a __single list__."
   ]
  },
  {
   "cell_type": "code",
   "execution_count": 258,
   "metadata": {
    "scrolled": true,
    "slideshow": {
     "slide_type": "-"
    }
   },
   "outputs": [],
   "source": [
    "def dP_dt(P, t, M):\n",
    "    \n",
    "    dP_dt = np.dot(P, M)\n",
    "    \n",
    "    return [dP_dt[0], \n",
    "            dP_dt[1], \n",
    "            dP_dt[2]]\n",
    "\n"
   ]
  },
  {
   "cell_type": "markdown",
   "metadata": {
    "slideshow": {
     "slide_type": "slide"
    }
   },
   "source": [
    "We run the `odeint` solver as before. \n",
    "<br>Inputs:\n",
    "- function\n",
    "- initial condition\n",
    "- timespan\n",
    "- additional arguments to function (matrix $\\mathbf{M}$)"
   ]
  },
  {
   "cell_type": "code",
   "execution_count": 259,
   "metadata": {},
   "outputs": [],
   "source": [
    "Ps = odeint(dP_dt, P0, tspan, args=(M,))\n"
   ]
  },
  {
   "cell_type": "markdown",
   "metadata": {
    "slideshow": {
     "slide_type": "slide"
    }
   },
   "source": [
    "As before, the output is retured as a vector, each time, there is one vector for each population."
   ]
  },
  {
   "cell_type": "code",
   "execution_count": 260,
   "metadata": {},
   "outputs": [
    {
     "name": "stdout",
     "output_type": "stream",
     "text": [
      "[[190.         500.          30.        ]\n",
      " [191.47772343 492.31583817  36.2064384 ]\n",
      " [192.91177343 484.85877818  42.22944839]\n",
      " [194.30344084 477.62210765  48.07445151]\n",
      " [195.65397826 470.59931305  53.74670869]]\n"
     ]
    }
   ],
   "source": [
    "# first 5 rows of Ps\n",
    "print(Ps[:5, :])\n"
   ]
  },
  {
   "cell_type": "code",
   "execution_count": 261,
   "metadata": {
    "slideshow": {
     "slide_type": "slide"
    }
   },
   "outputs": [
    {
     "data": {
      "image/png": "[encoded data removed]",
      "text/plain": [
       "<Figure size 432x288 with 1 Axes>"
      ]
     },
     "metadata": {},
     "output_type": "display_data"
    }
   ],
   "source": [
    "plt.plot(tspan, Ps[:,0], label=\"A\")\n",
    "plt.plot(tspan, Ps[:,1], label=\"B\")\n",
    "plt.plot(tspan, Ps[:,2], label=\"C\")\n",
    "plt.xlabel(\"Time\")\n",
    "plt.ylabel(\"Population\")\n",
    "plt.legend();\n"
   ]
  },
  {
   "cell_type": "markdown",
   "metadata": {
    "slideshow": {
     "slide_type": "slide"
    }
   },
   "source": [
    "For example we can use `odeint` to solve the population problem from earlier.\n",
    "\n",
    "The function dP_dt is exactly the same as the function `change_pop` that we used  earlier. The only difference is that `dP_dt` returns the individual rates of chnage of each population as a list. "
   ]
  },
  {
   "cell_type": "markdown",
   "metadata": {
    "slideshow": {
     "slide_type": "slide"
    }
   },
   "source": [
    "We can check the solution by iteratively solving the equations over each time step using a `for` loop:"
   ]
  },
  {
   "cell_type": "code",
   "execution_count": 262,
   "metadata": {
    "slideshow": {
     "slide_type": "-"
    }
   },
   "outputs": [],
   "source": [
    "def dP_dt_manual(P, t, M):\n",
    "    \"Returns a vector of the population change over time t\"\n",
    "    \n",
    "    # make 2D array to store population per timestep\n",
    "    dPdt = P\n",
    "    for time in t[:-1]:\n",
    "        \n",
    "        # Increment population \n",
    "        P = P + np.dot(P, M)\n",
    "        \n",
    "        # Store population\n",
    "        dPdt = np.vstack((dPdt, P))\n",
    "        \n",
    "    return dPdt\n",
    "        \n",
    "dPdt = dP_dt_manual(P0, tspan, M) \n"
   ]
  },
  {
   "cell_type": "markdown",
   "metadata": {
    "slideshow": {
     "slide_type": "slide"
    }
   },
   "source": [
    "Now we can plot the manually computed solution on top of the numerical approximation using `odeint`:"
   ]
  },
  {
   "cell_type": "code",
   "execution_count": 263,
   "metadata": {
    "scrolled": false
   },
   "outputs": [
    {
     "data": {
      "image/png": "[encoded data removed]",
      "text/plain": [
       "<Figure size 432x288 with 1 Axes>"
      ]
     },
     "metadata": {},
     "output_type": "display_data"
    }
   ],
   "source": [
    "# Numerical Appproximation\n",
    "plt.plot(tspan, Ps[:,0], label=\"A\")\n",
    "plt.plot(tspan, Ps[:,1], label=\"B\")\n",
    "plt.plot(tspan, Ps[:,2], label=\"C\")\n",
    "\n",
    "plt.plot(tspan, dPdt[:,0], ':', label=\"A\")\n",
    "plt.plot(tspan, dPdt[:,1], ':', label=\"B\")\n",
    "plt.plot(tspan, dPdt[:,2], ':', label=\"C\")\n",
    "\n",
    "plt.xlabel(\"Years\")\n",
    "plt.ylabel(\"Population\")\n",
    "plt.legend();"
   ]
  },
  {
   "cell_type": "markdown",
   "metadata": {
    "slideshow": {
     "slide_type": "slide"
    }
   },
   "source": [
    "## Interactive Plots\n",
    "<a id='InteractivePlots'></a>\n",
    "Interactive plots allow us to dynamically observe the influence that changing different parameters has on an output.\n",
    "\n",
    "To produce animated plots, we first need to install a program, FFmpeg,  for handling multimedia data.\n",
    "\n",
    "Follow the instructions below to install ffmpeg:"
   ]
  },
  {
   "cell_type": "markdown",
   "metadata": {},
   "source": [
    "### Installing FFmpeg \n",
    "<a id='InstallingFFmpeg'></a>"
   ]
  },
  {
   "cell_type": "markdown",
   "metadata": {
    "slideshow": {
     "slide_type": "slide"
    }
   },
   "source": [
    "###### Installing FFmpeg on mac\n",
    "Open a terminal.\n",
    "Copy and paste the following command into the terminal to install homebrew (a linux-like package manager): \n",
    ">`ruby -e \"$(curl -fsSL https://raw.githubusercontent.com/Homebrew/install/master/install)\"`\n",
    "\n",
    "Press 'Enter' to install and enter your password when prompted.\n",
    "\n",
    "Copy and paste the following command into the terminal to install FFmpeg: \n",
    ">`brew install ffmpeg` \n",
    "\n",
    "To check ffmpeg has installed copy and paste the following command into the terminal:\n",
    ">`ffmpeg -version`\n",
    "\n",
    "If FFmpeg has installed a few lines of code will appear, starting with the version number which will be something like:\n",
    ">`ffmpeg version 3.4 Copyright (c) 2000-2017 `\n",
    "\n"
   ]
  },
  {
   "cell_type": "markdown",
   "metadata": {
    "collapsed": true,
    "slideshow": {
     "slide_type": "slide"
    }
   },
   "source": [
    "###### Installing FFmpeg on linux\n",
    "Open a terminal.\n",
    "Copy and paste the following commands into the terminal (one-by-one, pressing enter after one) to install ffmpeg: \n",
    ">`sudo add-apt-repository ppa:kirillshkrogalev/ffmpeg-next\n",
    "sudo apt-get update\n",
    "sudo apt-get install ffmpeg`\n",
    "\n",
    "To check ffmpeg has installed copy and paste the following command into the terminal:\n",
    ">`ffmpeg -version`\n",
    "\n",
    "If FFmpeg has installed a few lines of code will appear, starting with the version number which will be something like:\n",
    ">`ffmpeg version 3.4 Copyright (c) 2000-2017 `\n",
    "\n",
    "\n",
    "\n"
   ]
  },
  {
   "cell_type": "markdown",
   "metadata": {
    "slideshow": {
     "slide_type": "slide"
    }
   },
   "source": [
    "###### Installing FFmpeg on  windows\n",
    "\n",
    "Open a terminal.\n",
    "\n",
    "To find out what version of windows you have, copy and paste the following command into the terminal to see if your computer has a 32 or 64 bit CPU:\n",
    ">`wmic os get osarchitecture`\n",
    "\n",
    "Go to ffmpeg.zeranoe.com/builds/ \n",
    " - Click the appropraite __Architecture__ for your computer.\n",
    " - Click Static __Linking__\n",
    " - Leave __Version__ as the default.\n",
    " - Click __Download Build__\n",
    "\n",
    "Go to your computer's Downloads folder.\n",
    " - Right click on the newly downloaded .zip folder (it's name will start with `ffmpeg`).\n",
    " - Choose __Extract All__ from the drop-down menu.\n",
    " - If given the option to choose a location to extract the files to, choose your Program Files folder.<br>Otherwise, a non-.zip folder of the same name as the one you downloaded will appear in the Downloads folder. <br>Copy the folder to your Program Files folder.\n",
    " - Change rename of the folder you just copied into Program Files with the name:\n",
    " <br>`ffmpeg`\n",
    " \n",
    "Go back to the terminal and copy and paste the following command into the terminal to add ffmpeg to the windows path: \n",
    ">`PATH=C:\\Program Files\\ffmpeg\\bin;%PATH%`\n",
    "\n",
    "To check ffmpeg has installed copy and paste the following command into the terminal:\n",
    ">`ffmpeg -version`\n",
    "\n",
    "If FFmpeg has installed a few lines of code will appear, starting with the version number which will be something like:\n",
    ">`ffmpeg version 3.4 Copyright (c) 2000-2017 `\n",
    "\n"
   ]
  },
  {
   "cell_type": "markdown",
   "metadata": {
    "slideshow": {
     "slide_type": "slide"
    }
   },
   "source": [
    "As a simple example, we will plot\n",
    "\n",
    "$$\n",
    "f(t) = t^{\\alpha} \\sin(\\omega t)\n",
    "$$\n",
    "\n",
    "- independent variable, $t$\n",
    "- dependent variable, $f(t)$\n",
    "- input parameters, $\\alpha$ and $\\omega$\n",
    "\n",
    "We will create two sliders allowing us to change the value of $\\alpha$ and $\\omega$ *interactively*.\n",
    "\n",
    "We can observe the resulting change in $f(t)$ dynamically."
   ]
  },
  {
   "cell_type": "markdown",
   "metadata": {
    "slideshow": {
     "slide_type": "slide"
    }
   },
   "source": [
    "Interactive plots be can created using Python module `ipywidgets`. \n",
    "\n",
    "Run the following cell to install `ipywidgets`\n",
    "\n"
   ]
  },
  {
   "cell_type": "code",
   "execution_count": 264,
   "metadata": {
    "slideshow": {
     "slide_type": "-"
    }
   },
   "outputs": [],
   "source": [
    "try:\n",
    "    import ipywidgets\n",
    "except ImportError:\n",
    "    try:\n",
    "        !{sys.executable} -m pip -q install ipywidgets\n",
    "        import ipywidgets\n",
    "    except ImportError:\n",
    "        !{sys.executable} -m pip -q --user install ipywidgets\n",
    "    finally:\n",
    "        !jupyter nbextension enable --py widgetsnbextension\n",
    "        print(\"You will need to refresh your browser page\")        \n",
    "from ipywidgets import interact"
   ]
  },
  {
   "cell_type": "markdown",
   "metadata": {
    "slideshow": {
     "slide_type": "slide"
    }
   },
   "source": [
    "$$\n",
    "f(t) = t^{\\alpha} \\sin(\\omega t)\n",
    "$$\n",
    "\n",
    "Let's assign arbitrary values  $\\alpha = 0$ and $\\omega =1 $\n",
    "\n",
    "Start by plotting $f(t)$ against $t$ as usual.\n",
    "\n",
    "\n",
    "\n",
    "*(To generate symbols α or ω type `\\omega` or `\\alpha`, pressing  `Tab` key at the end.)*"
   ]
  },
  {
   "cell_type": "code",
   "execution_count": 265,
   "metadata": {},
   "outputs": [
    {
     "data": {
      "text/plain": [
       "Text(0.5,1,'$α$ = 0, $ω$ = 1')"
      ]
     },
     "execution_count": 265,
     "metadata": {},
     "output_type": "execute_result"
    },
    {
     "data": {
      "image/png": "[encoded data removed]",
      "text/plain": [
       "<Figure size 432x288 with 1 Axes>"
      ]
     },
     "metadata": {},
     "output_type": "display_data"
    }
   ],
   "source": [
    "α, ω = 0, 1\n",
    "t = np.linspace(0, 2*np.pi, 200)  \n",
    "\n",
    "plt.plot(t, (t**α)*np.sin(ω*t))\n",
    "\n",
    "plt.xlabel('$t$')\n",
    "plt.ylabel('$f$')\n",
    "plt.title(f\"$α$ = {α}, $ω$ = {ω}\")\n"
   ]
  },
  {
   "cell_type": "markdown",
   "metadata": {
    "slideshow": {
     "slide_type": "slide"
    }
   },
   "source": [
    "Next encasulate the code to generate the plot within a function.\n",
    "\n",
    "The parameters we want to vary are given as function arguments.\n",
    "\n",
    "The default values are the values used in the previous example.\n",
    "\n"
   ]
  },
  {
   "cell_type": "code",
   "execution_count": 266,
   "metadata": {},
   "outputs": [],
   "source": [
    "def plot(α=0, ω=1):\n",
    "    \"A plot of the function f(t)= (t**α)*np.sin(ω*t)\"\n",
    "    t = np.linspace(0, 2*np.pi, 200)  \n",
    "    \n",
    "    plt.plot(t, (t**α)*np.sin(ω*t))\n",
    "    \n",
    "    plt.xlabel('$t$')\n",
    "    plt.ylabel('$f$')\n",
    "    plt.title(r\"$\\alpha$ = {}, $\\omega$ = {}\".format(α, ω))\n",
    "    "
   ]
  },
  {
   "cell_type": "markdown",
   "metadata": {
    "slideshow": {
     "slide_type": "slide"
    }
   },
   "source": [
    "The `interact` function, takes the following arguments:\n",
    "- the plotting function \n",
    "- a tuple for each variable parameter:\n",
    " - maximum value (inclusive) \n",
    " - minimum value (inclusive) \n",
    " - step size between each possible value"
   ]
  },
  {
   "cell_type": "code",
   "execution_count": 267,
   "metadata": {},
   "outputs": [
    {
     "data": {
      "application/vnd.jupyter.widget-view+json": {
       "model_id": "df8b1f53e40a466db6b29e9df5a4eb88",
       "version_major": 2,
       "version_minor": 0
      },
      "text/plain": [
       "interactive(children=(FloatSlider(value=0.0, description='α', max=2.0, step=0.25), FloatSlider(value=1.0, desc…"
      ]
     },
     "metadata": {},
     "output_type": "display_data"
    }
   ],
   "source": [
    "interact(plot, α=(0, 2, 0.25), ω=(-10, 10, 0.25));"
   ]
  },
  {
   "cell_type": "markdown",
   "metadata": {},
   "source": [
    "You can now adjust the values by moving the sliders.\n",
    "\n",
    "The new values appear as the title to the plot."
   ]
  },
  {
   "cell_type": "markdown",
   "metadata": {
    "slideshow": {
     "slide_type": "slide"
    }
   },
   "source": [
    "## Animated Plots\n",
    "<a id='AnimatedPlots'></a>\n",
    "Plotting can be a very useful way to visualise what is happening in a dynamic physical system. \n",
    "\n",
    "Matplotlib can be used to create animated plots showing the change in a system over time."
   ]
  },
  {
   "cell_type": "markdown",
   "metadata": {
    "slideshow": {
     "slide_type": "slide"
    }
   },
   "source": [
    "We will use the `animation` and `rc` subpackages of matplotlib.   \n",
    "\n",
    "\n",
    "We will also use `IPython.display.HTML` to view the animated output within jupyter notebook."
   ]
  },
  {
   "cell_type": "code",
   "execution_count": 268,
   "metadata": {},
   "outputs": [],
   "source": [
    "from matplotlib import animation, rc\n",
    "from IPython.display import HTML"
   ]
  },
  {
   "cell_type": "markdown",
   "metadata": {
    "slideshow": {
     "slide_type": "slide"
    }
   },
   "source": [
    "Let's start with a simple example to learn how to build an animation.\n",
    "\n",
    "We will create an animation of a physical model. \n",
    "\n"
   ]
  },
  {
   "cell_type": "markdown",
   "metadata": {
    "slideshow": {
     "slide_type": "slide"
    }
   },
   "source": [
    "The set of steps to build an animated plot is:\n",
    "1. Create a figure window\n",
    "1. Create axes within the window\n",
    "1. Create object(s) to animate e.g. a line or point\n",
    "1. Define an animation function for the change you want to see at each timestep\n",
    "1. Use the function `animation.FuncAnimation` to create your animation and give it a name.\n",
    "1. Call the animation name to play it.\n",
    "1. (Save the animation)"
   ]
  },
  {
   "cell_type": "markdown",
   "metadata": {
    "slideshow": {
     "slide_type": "slide"
    }
   },
   "source": [
    "### Example: Animating a Line\n",
    "#### An Animated Sine Wave. \n",
    "<a id='ExampleAnimatingLine'></a>"
   ]
  },
  {
   "cell_type": "code",
   "execution_count": 269,
   "metadata": {
    "scrolled": true
   },
   "outputs": [
    {
     "data": {
      "text/html": [
       "<video width=\"432\" height=\"288\" controls autoplay loop>\n",
       "  <source type=\"video/mp4\" src=\"data:video/mp4;base64,AAAAHGZ0eXBNNFYgAAACAGlzb21pc28yYXZjMQAAAAhmcmVlAABeLW1kYXQAAAKuBgX//6rcRem9\n",
       "5tlIt5Ys2CDZI+7veDI2NCAtIGNvcmUgMTUyIHIyODU0IGU5YTU5MDMgLSBILjI2NC9NUEVHLTQg\n",
       "QVZDIGNvZGVjIC0gQ29weWxlZnQgMjAwMy0yMDE3IC0gaHR0cDovL3d3dy52aWRlb2xhbi5vcmcv\n",
       "eDI2NC5odG1sIC0gb3B0aW9uczogY2FiYWM9MSByZWY9MyBkZWJsb2NrPTE6MDowIGFuYWx5c2U9\n",
       "MHgzOjB4MTEzIG1lPWhleCBzdWJtZT03IHBzeT0xIHBzeV9yZD0xLjAwOjAuMDAgbWl4ZWRfcmVm\n",
       "PTEgbWVfcmFuZ2U9MTYgY2hyb21hX21lPTEgdHJlbGxpcz0xIDh4OGRjdD0xIGNxbT0wIGRlYWR6\n",
       "b25lPTIxLDExIGZhc3RfcHNraXA9MSBjaHJvbWFfcXBfb2Zmc2V0PS0yIHRocmVhZHM9NiBsb29r\n",
       "YWhlYWRfdGhyZWFkcz0xIHNsaWNlZF90aHJlYWRzPTAgbnI9MCBkZWNpbWF0ZT0xIGludGVybGFj\n",
       "ZWQ9MCBibHVyYXlfY29tcGF0PTAgY29uc3RyYWluZWRfaW50cmE9MCBiZnJhbWVzPTMgYl9weXJh\n",
       "bWlkPTIgYl9hZGFwdD0xIGJfYmlhcz0wIGRpcmVjdD0xIHdlaWdodGI9MSBvcGVuX2dvcD0wIHdl\n",
       "aWdodHA9MiBrZXlpbnQ9MjUwIGtleWludF9taW49MjUgc2NlbmVjdXQ9NDAgaW50cmFfcmVmcmVz\n",
       "aD0wIHJjX2xvb2thaGVhZD00MCByYz1jcmYgbWJ0cmVlPTEgY3JmPTIzLjAgcWNvbXA9MC42MCBx\n",
       "cG1pbj0wIHFwbWF4PTY5IHFwc3RlcD00IGlwX3JhdGlvPTEuNDAgYXE9MToxLjAwAIAAABL7ZYiE\n",
       "AC///vau/MsrRwuVLh1Ze7NR8uhJcv2IMH1oAAADAADVayF8oYJVUBjgvNA9NyX0pOD8+0aEKaS/\n",
       "W+kRxFrWNzf+eSO4TQp9X9rSQjTItyhp18FcAAFYwPSb9MNj7345mZM2SCpqc/4dq8TkXuq00M8Q\n",
       "OvVEaAcaB8dFKy0nxv6lS/KsJVTGkw7kt4VpUBgOXNkT5vbbHpQLGFTaisacVyNWLNCImwHFb8yP\n",
       "CePMeSBVDHNL2XEMBl5TMwvoCjHau9D7RwBgcKfh2rz+BOgXuunyP8n78SBHX2YS9/lTVsUPVMzG\n",
       "LNxfvZecE5fhiqSuvtFQDPgaVLXZbeoO85oh4ZAnrx8itOqWDDaRmiI0BFP8Sq6+LZ0CjvnoE7/S\n",
       "DZjm5DXL3c1fWFQQWXF3enmOeIfPtNwAABGHNGPtgy+Op+pATlL/x7pbX3TbzLm5jX7zDnXsPT9C\n",
       "Ezy0T5J9vl0L81Nz1wcjuuAAANlC66FoXlsClhtzbcUtq8DImZZbTpnxmjoJ8+OVhb6V5OJGLw6o\n",
       "rtUXNVslFxPb4pLFAN1T6/3VSVgg4rExc6fp7b6ZA/rwh1zncBQeC+BPwWWGZWjKT520x8pMfUSi\n",
       "OUU1dOEPrsefWBB62d02HffLPASIU3KYcuVLGP9/AlkV+d7HQI7tH+Tup1aGArUFHb5qLfzKLsTF\n",
       "UjahiNVIMErlGfCKhNztvSsYyHNO6c+Fqdz7Y/ot9ghWeMksuj+9qGEzxIvovPXKBqMbEsombUwn\n",
       "kc4DqbrkZbK4gLDWjgeBTQbIw5Z9JvAruoDMmK7M1bWCfpt5u87a9zBSuVyOzaW29hxzgHP5B7ls\n",
       "KId2xuTTuSaHMHvZHLpi3JabgWaS+NN7a3+89ky0MUK3lq1uyRSl29LYCD/QviFKh7D1wfeYoxEJ\n",
       "tv5juWmZJyVamy1Y3L44+Jdg4MDrv0Hc4y1TtkGFlTJFWyd2DYONbmXqfp7TjjYc126bHXun2vDr\n",
       "LuP3nGLzQ+3fSlX5QZBMBBNxqmeFR9pfPzdv6tGFr4ZRf9PTnyTOcDUKQO9KekOzdHruh7DGhG8A\n",
       "2QPkDDuPscywFNfAFaepkeYPl42ARmpqOukvK4wcXWbJ1P8PspfN326rpK/kWPGQloStsMm5t8mq\n",
       "oUv4M1LSABlfoclQ1iZFwVf8HVqKPUkRI+e1v8KnhnA0ivFqqk1OUutb2bGvKcETlEEb7PfOZGsy\n",
       "gSyOfl2rruFIeBzmrFj8XIuofWycOAKQz0xqFLVt/RPfJpgwKKwGh0t07XPZpsDQt7srRKXdKvAu\n",
       "uQuzLXcGzTWRmPoxarrP418Lz9QvO2kz9GutMP0vKNnUo2IECMRQeqfTl2Dp4zYyF2qK9vUwhw/+\n",
       "mFZkgEIatWa9ZyHozf+z5YRc+RDu7dz7Hb2DMzd1NyR1II9Yz46bODpVaOL/qW514gJ7kpoHQUkT\n",
       "Iw5xdJs9gLQpqNhENWPeldqaznFXPvV/yVQGzOl98gGaM6SpsB3Oww3b3mUEsLREn7cDE6zqGg4a\n",
       "dluZj52Z0py+bdZWBc/3zVcuAfeVfDPFT17joDXPDePe4BLqW62OhGZh0PYgYAJs7QRPdUOkfDgf\n",
       "FnpYDJR4MFsX9B4B2tZ7u9pNOYO578j7L+xGnUXrjNmmkdql6FQFYPhpYmcu/iRrz1vhKudIRF8s\n",
       "kBhjW48DI74gVwJfCRv+1piKe2RLWxcUcp3Z+wG1nZCpz+o77JED4/w5YN6KC8tYnk8JkHOwzsy0\n",
       "GiNaWPR7LHUzIZwlwZDsH2v9ZoMkHy9PXwPCz91y5AxLDwRkVhsJRNTMsK+segyW9pYnVxPyYpiv\n",
       "rxTul0gegIBot8S35piaICJSKydEayA6Jfl5LN1nf/zTeL04ozqrGsN2Hbo2FGgbkRWY9FfpPxn2\n",
       "rOZH329qDANcvGD69lVnsDtIc8888DiMtRsNnQzynKWMrAndLq7KgbvXKkV5oVBsVPuqCiF0hbCz\n",
       "qGjN6kXo3pvlYE9uyhbQhfqGo+kPb9lNDYG5EvMC0oNCX/UUO+ZuWARHMakWFFnLwpeBVQIs0h69\n",
       "SJ1jOCcsbgF4CWhpiPRowBkLrFJ6JC7g5oNwKydbYma0x5x+A39PHG7xcwDYXxxSEiGqZgr1UT93\n",
       "kNhr601VNriuR1hvOQ2K89TZW7PUTSsK5AmDXkcnfhMyS+gvENFetvvw/SgFL6b0G8mLqnbtYIC5\n",
       "5xopNXyA326XOM83IBBxco4thil0VQJTTE3dYjZDJ4zx3NDcTy1Ft2y+t+5sRFh1I2wk4+uRNVt4\n",
       "fmE2R32+0r2dcrsut8bq//BZO19WGVaH/YHm9dH7vYui7wu6v3hHHV9UpZmN9TbH68oYEMa9Yr9/\n",
       "DvwM0R3EzCLAMUzLXqfQgRwqg2ILi42N+yClUFq4knFCxl+2lzWGAZWJRQNTMz7+nTlENYhpMjYu\n",
       "g0Cu/lG8eJbSvIVAMbE0p9tb1vvNZx5r8laPwp+PHpEuOhBmToSbFZE/Aw87tHP1MWuGDGpVujkG\n",
       "SQ9oeu5Iakifn308/Li6CCsXIbKGbokCQ4bb3E9crVdn/dqQqKreaNo2fXXqvsWLHnbC3mAVKtd7\n",
       "AtluCNCKYN1rvjM/dzYd9HRFBRnUIysxVs3wU2qwUcQ3HFwOXvXB/HLpAJMFWuib7AiSunBC0/1S\n",
       "oHBjNJLHFbMv+aeaTlHXrVjGITgIsJ3Y12EW8z5DWo8PmdxXrkOKLEM0i/8zLtq4Lkq+hVDL7B8w\n",
       "pNSjcemqoOHnHb+BZ8MCPsqAPceEUOC5XdzxDvcOqEfmT1n7slUuphwWTyl605Nux3zj8PN8+AlY\n",
       "kk/yrbFDbL7OVbXPjKqOpq38bcrQ1XiCShw+Ofzv2U/FCa/TVYqrk5cEUeaWoE3FMSIzJRk54OG6\n",
       "D70SMXxVe8uFzUj2odZ+58If5MbEwyL2pLOn8zuDsZIrmGYbmsa36ztvR6/u0t66ejXDWi9p/2rD\n",
       "vFGUc/XOWQsty3ACpaFtv/OgAsQoxPdubdHTArv+IiDgjKV+1JlziWLdrQfGJsb7wv2qhZcCGP7W\n",
       "jdQRzFMv6Z6EsL0+RlUQRegu7ctrQ+LLByVA6NM8SLtWV4nRuXtcWdCFEf7tzkRp1zgxnKo8R60W\n",
       "OcyLlhA/c/BwASzwaZfJ8AX5703I9ntuCIRyXMFgGXXvF8aW2EPThfGX2MpHlnhqBvNpyXMV0ut5\n",
       "vAjO2AkTbS8U6NfyyrNTEhVo0WVJOHDvayIWoNVrhEuje7l5/HHBYhtPV79FQN7FhGI4RWebJZ/g\n",
       "YS3NFXIA175XPSGd0+a6+qKVLsrdhCamPrn+vhuN1gpCasMLuQYqv7yTv2pam6jd/0/hGt9GG4VU\n",
       "bQlLH7TxZT/tyjCbxh9DMPqBroW1v9LQGkF5C9pYx11hj+84Bqx4eURspAebKRU7l+Jbxl81+mTe\n",
       "paC8pkG3Olq88Xa4KAjYej5x+uKZpDfKSD/R26lR9vdUz1VpjoZ0U+qd+SwBvQtpL7yuHMf552a2\n",
       "pLQWyjF8KKGr0A68WLrfT8eKCIvs/ULsqe4v+Ofwf4PXV30uPdbNxPtbGElAYEUnC3Iv6I0NpP6o\n",
       "FHbE4rVWt8fCgXX2XOcHmTHv3SRk0BwiS0j5GYq11mvONgAM4Y/pZkRq5xwDjh98tlztfMDUAU5a\n",
       "c5H4IY4ozkC6a5yoPCpz9q6gF5pFpSij7EcZ1SZuecGnVxcCPUP+80JN2axgEpwRhDOLyTMcD9bR\n",
       "/enW0a48A45l0m/cSr83NTvnSN0H2HjZ+QtlpUqHzkFj55fXIBSg2fvT9HUyNmnEk3MXxdet30Cu\n",
       "vu8d8L/Nmyl6QqI2l/z4z7XJAiBLGzPhgK1TGV/plhq8snfwHfX/3yAJFAAqbAfKJ+mgrrlqmWJL\n",
       "LtjD0g1/4OSfvVGYj4aASAMXJsSnx4A2xsxMBG65t5zMyFv6nzLNF18vCVzocTyQJXGj27v2iB3+\n",
       "O4H86L4/hswJgT1abAgRBBH6bvHn69Bv+oFfeHPSVMGCvCT/HoTnTeXHnhNOT6/ifrreotMraMFj\n",
       "EdY89EXoGVvrA4eoXHljz9rvFKgP5xH+TrdNuJ5yjGwgioSneN/k13VPO7FbxDc8Jh/NjFnXe6x/\n",
       "1lKiBlRuxhMVKGdGgUE0B7/HXUtVHdbQXwBS8R16dKcChXrk6s3wAsWtuxEQgkeWypax3qCqXL1F\n",
       "vLbTFzoQIG87qStCoVnGQYGa3xaK6wk7h4bxLM/nHmoNCwPtt+gAANS4WTnTOlQ6Ub5/h/Umy1SD\n",
       "FmAQlL5cG4xvwGnANtmRZCj7zEat/5l+Z4aOKX6+JquJPumX5DhvoqS5/cFQjfTDkX1bZJVaSu8K\n",
       "RPis4Byjr2ThVxEoD8r740NAR8YMTriHJ8RznDPJL8h8+HCwfRMwXSHMoNje9I2xRkSD+4f+iNtZ\n",
       "KXegTJ7gvkcF3HSSSUlF/CfkPnfW7+omQk//417lR91LBEJBzOZvYsE6gjZIWk2EdxxDrmlr4nHO\n",
       "NCG3+LPoVXtA8hftM6qY4nmLlqnOPPS+EyOKNSnp9g9z/tm65sVeDk+waykPmvPjP2kEjs7rIILd\n",
       "Y/+lBxdOGRnc1WZ6+cP0rdcFXzZLcIBntTaw48zGPW84qFYwFwsu4VBj6WNUKZGn/hE8cfsrrzFw\n",
       "RE+L8HuwfXo5j1vy6Lza/8Xu8oowe2iVlnPt2bpbcfkKPgNzgbdGUZjhaDeduT1Hqp1nt5bZricR\n",
       "C7Enz2WkRLF+fjSRzYEC7bJuOyGk4H6akPB0dJSjcz7p1U16cFgL1FX7dVFFGH/ecanjfmbT6WX3\n",
       "7GO+ATEg2OhswyMn1vLSFDyx1veT2G7u6JezLN4+E+5GiBvJGoFVXITIVRnnGdCv5K4r9lCay/A2\n",
       "t/akAY+YSWO02od5z2roPAdYKiGM9bt5Fq34/IVo/rCKYPkP9hjaARHMfgzubhlqSJjPbfTo5Ayv\n",
       "JCML5n9KYRe1x+KAoGpv3HmEft6PvM9uc9cW0ix99MBdCoYLce8Y/yEuhFtpSMohBmR9nThLAYVk\n",
       "7b3m27GcGpcYWqsxo7W1q1QNKLSgFk5TeLamn3JGY/vcKBr9n+GaBCptXnfDfFM8ZZwrQt17HLAk\n",
       "F0PbAQURR+in33BsSlKbL6PItN3jtAj094aa6jHKI11k8i8Eia8BXqGHORWk8Vnd5A5S1LzEsGXl\n",
       "vuEDlJJbykx4nBruddIz+o5sVPJ29BrdmIyBJ8PZXtSseMyMzK0f4IpC5AZzBChEq61dRKRXcJp9\n",
       "i+cSgkrApbAfMbBhpueg8ZcyGiwIerIb6gPOuGUTV96RZbZLd+n6PfRE2HIEJQB6bN+K95p74+5c\n",
       "BvyKIcAd110F01H+Ka0NilKUcnvt+iLkgt3bumQHE/6lWV8Wdzl81rpXP7aRO5tqI1UATjDlJLN5\n",
       "gkNjKiV0HOqg8G+fCSgw/YsL9u57o3klIJrKUwxz1h43nv3UCD0OY8SROzYdHRpLm7gGM8brE1zl\n",
       "S2GSzKWXtb30klJ/CkQlmVhVk4grtXUAilZKeoKHW+KAVwuWfzLs1P5KGZdkbvSkX4N591ZhdRz8\n",
       "r8D+41FNPnnSvMRXknM/GM/0ba/4Jpb7QfV4AcEepP3U0PgaZUdLZMzvXIJI+cUPnawZsw0//WKi\n",
       "mln29Nqot+89OZ7kQzleDs5d85XhGbl+Ep1FkynXZ7+yBg55/3p83L65EmVqPJFeP10ZGUM9LGvv\n",
       "jO5dgMc2paVOtfT8dzVQ8jKJJLmUv0SGL5pn8uC6r8nDdm/cUsxsTc/6B96Ng8r4iQLfIz9RlT7R\n",
       "vb9dZiYniSq07V5zkAMzYkZWiG1SnNP4muvSZYRqZuC90rKpv2d3KQ5mrp2gvoFcCWMJUK5g1rMw\n",
       "AEOij5Xi/DhbgskpRJztU6fpVVjQ1+qlEO97xoRS9YkHGkWwKCHaaE4hDzph3vUg9puaaFdd0zOW\n",
       "j9fi8dsjmkuHZjxJrvFBlvIIhBXDHOtlwaZujOipMaVQU8lhhE6G5XlL4Ahq1TQZZ8RJr59/3QUt\n",
       "s0HxyBJCe4ETUmTAlnimHqp9QPPcjY4KhIDHs+mcjcKJ2JSdihh2hM2IUIAuxogn7SBj0c00Tys3\n",
       "Z3gcXjJh4Ht//GPrR3HKoE+5KzvOk3CMe+D9Yu0+Xe0uLtGk5WuaAeExtBbFPFHPMp3mGc3OfIRD\n",
       "0+Sl0m0xUcBfKdoATIXDgl8XgfBqRa+zt+9jmX62BgzuRz0ZU/9VxCoJU0e0yC1ZUDFFuTPAOLLP\n",
       "SLn9KFamxeKKcoDjJ0/2DgOZ4sWRWoGST0DfvMOJoW1qZc8lzs4E48W9BN51xC7Nu6uStUG+rAXj\n",
       "cjA4oDuJRwtUPDe31IJ8M0bZ8FNMhRyMEl6K6J8Ite4QRZesiqkxliHvXnezsD9S/iXEguQfNqpH\n",
       "/elDyL718S6zDV4JEoAza2XZIRgC4xnefiWdS0x9K5wPIYdMX47SaOx3/Rk2urL56y2O/12AAAMK\n",
       "Pg4MFbxRX/vUjsEAAAGHQZojbEL//oywA3lbkALVn2SM41ftpb1akY3rfJtPI37WZnq2wnjAGoV0\n",
       "QAFZJdZxCu/p/pibMH2ngH3gJfSToyUq4CNJ5TPeB7F4B2NhCu4kGh3i1hf4I8g33oOYu9BXobJp\n",
       "eJv5SqX+hHgYTZKiHp7u7plTguiJJNu/tWkZVT8DBQtho76yyfnr3kWM3Lwkm6X9F8MjyZMCftS7\n",
       "ACUQ+fPco6up3Ah5/JrBEIfq42MtbgaXQpJF82RwK93X0wEWsV4rEq47+jUJYNydix5SG/r00LMB\n",
       "IhabpILU6rFxaoT0aQB93rZ7gt4js9oScZrUOM7/2plVSK62+7u3Uo97ERkjUxacr4lg24YSpP22\n",
       "5HDjqRCxq4er3aaXd7g9KJu60Vno5oo7zNAVKUm8lkSST5cUxwc3IdjeSWGPwMx/A51O9gau9b0M\n",
       "8mWlWu4PD5ziqKTU3lfdGiyPtheIqJV4DRYXa5EWoetD32bBr//CCV4pZ9jl7zn9KMWf8CmSCNR3\n",
       "gD2B9hkBJwAAAKBBnkF4hH8AR2Dv1N5/xHFzD0BzGCnKaEyRw9oIDJfTaR44xyuilvcRn3KOdoV1\n",
       "gWKjT8y0VWWLUcfACc/D5hwvsJMVTOJsgSJytCI3n31rr2OejXHJXonDCddJYevIVIGSqczTbOJJ\n",
       "TpoOs9qC4cSYfhf+N4zCNlO1drywy1dTj4qgykFvIwmf3PmVJf/S1zKjj9Dj5I/rsew8tjPUq8CB\n",
       "AAAAkwGeYmpH/wBpn+3AaDJGL4do1+QwPOiPNIekSu5sOidhRQpFySVfmVQoIqqcxVBGbAR7EOoV\n",
       "zLSoaKeQL9DsfXvIoKhwxYkYQR4NlP8Cwb0VUPjZRBIBEflIzj9SYjIjlZg2PQqySgCljaVeRvV5\n",
       "ZLZFBZhSK+3pTHlGMZO2Bh4JMXAcGBiUhhvZH6V/sdhIXP0FJAAAAXRBmmdJqEFomUwIX//+jLAA\n",
       "3j26IBNKKeqgwBKW7nRczYbsACQwbFhvkFIUQomW+MJi5On+ULdrlc+p61NgxEsZqOVirOxnNkRK\n",
       "qHBmSiTK9w5ba1TjRmqz6MqB4ZfFtCG2rjagIqE4SJ01FawL3h6NJPOyo4XZgFTatC7Gy3vXSukg\n",
       "SA3Uh4G4ycNvsBITTdJ3nF4jSBQc657j1UuX5jBDf0ztGCUa7IeSomc5gyrMz/is9FJ+6p+SacsK\n",
       "BYG2nPAut1pX/heHdH3E4DKYxJN3l5jbXE5n6Yp9oKDslRRVyFD7AsAos9iBsM1pfb3WWWcGoJgc\n",
       "ab4/fZ6OhjXVZlfbLUR2BZRTLcV/b00w2XDSUvVttAGUFuB5dTNLGQCP3czS8taO0r9fcxry1h5a\n",
       "qrdM8/W+pxe0gejt+15/m9K3FVSOjer93MIIMYmWoW0JN92RRJVyV/0IIwVsmkumotyMlvgDxg+n\n",
       "pn1z/IfoBFFg/tJdMtEAAACvQZ6FRREsI/8AQVcb4ebdoi5jIoSxPBpGeqNBJjMA+jSpeLbexhI1\n",
       "jeCTB5tAndMJWYFKQ7R2kykJLihzAjWFa3pqsMNhYOZ+LOn24l3FQt3Modo2HhaXcYbYi7zypmlp\n",
       "CnZPzhUgjSKGnTjMCwPde/Ku4kXjOy9R16WexMnUOF8yjh2SBic+PKzoJAL9JH95x5SzA6XzbIbn\n",
       "xuptEA4dYh8tggRjeBXSX7zBlP2O2wAAAGkBnqR0R/8AaY14VjL58pFFAPhvVpr40gULXU9SO5OW\n",
       "NcX2NnVAgNvcTAlrKcEysp81VWmWIpY4ATejJTKrOLgbMRBRdhXH3Pk7HV542LBF2+048Nv3SUTY\n",
       "68htYTcvVC+6xgsV7nOFjUEAAAB9AZ6makf/AGlx+iVTscdBSxFk1oSpQjqAA0F4mBB0IVXPJIkF\n",
       "60Y/Dj2HDmGrWoIT6HlYUylzADNuwYWQLDBLRzZt0uMvU0BRPyknZQAfhOI8PAwsi6yh+ZVlGrSp\n",
       "7ma6dvqd9X1rLNjZIvWbX9fcDrF9KioIf2HUKZ0roacAAAE8QZqqSahBbJlMCF///oywANBwnPc5\n",
       "lsu1lH2qG6KaXgRKb6bqA07YygmoEIQpsIGRNHzg3i0cYjK+cUSXB7PmtnRHb9yrAX7BrLPrWuW3\n",
       "5Cb26X7xZZff/TPR4IiaxLDIO9tu2Ko2zk28pNnHsqLjSsCAWnfxmh8jioa54k505FW1mXPFWcwa\n",
       "PHFygjMi1fDbDdGxVwYwzpA6Hx/myH6UYp1ADm+FwjmrDL6KROjizfK9H+OMiCj1AlOKCX6CAMf5\n",
       "/3Y9MIt7UeJWdCRqiaunrkQGS5/UffO0YnXAcOG9oMuYH1GLWfhAhmjwxFj81SlCzJcjq0Lm1JdT\n",
       "2u1qI3ohBib7WcM/5HdR5a8ID3Y5raQYCD1nznFt59GPU1ZOZZBZ7II+wDkOtGaRToXKYi5P7d+4\n",
       "C8ieyT8cilSsYAAAAJZBnshFFSwj/wBBVxvj/kgcbayPrcHLfMY7emAnCxLmvFONF2NWg3BXK4zd\n",
       "9UGAJZPY/pqiLDm548AKj3OhoywAy+wSyAjDuh8r5vfj+RdmDM2GfbO52olBpuXoHugGyU4pFAS9\n",
       "z1NV07Z19Y36I8x6K5heZNyNNEykq7vIYtw+rC1IIkYOlPf4VeuOV3UQ9EacCJfcywQAAACPAZ7p\n",
       "akf/AGl5DHf9eJR6H1I0zs8fTgSn3Xzb/rDn2wfBZi0PQ3OyD/KVYPc6ZtXyBTlrdm/TpFv/eWuX\n",
       "Gw72DVUoN92ZSEhpafX8yawAfhDt4hsgYT5hXjLRmpY44kBD2zJ9b01JCSHu8tQia0bFs4rG2yNf\n",
       "b5NBInUCvIUQk1GB2H8I2d3802fdpwSp5GEAAAEaQZrtSahBbJlMCGf//p4QAMjawAP8yoApCeRp\n",
       "gl5obktpG6m/WygAh9QLHEFdVI+jTzTOHT9I7c1bwPfk0YvQW7hKwynCEDziMOBJX5Sbv8RxCo3K\n",
       "rjQctaZ4MhQUjzKf37e2PfENImUD4lv25+ASRku6useJLnB2hvO34zLwjioQItbOQP/u/ztCQhHF\n",
       "KGWGaiXhTt5EfBbzrVwx4JgYWxSEqH8amnAwbL7iX8gly7RqEJyJSRp0C3SRX9jMwXPKKvWdDtKs\n",
       "2hSJ33hlGBblXkQ4nFSmkbEY7sowcdBfUkWtiVQnMEnv5uQCOz+6MijeWTiPDrqmozB0xz5MfA0z\n",
       "4EkMVB3ZuMEn+8yRllj10q+8f3y3xM9e7BiAAAAAnUGfC0UVLCP/AD94mVKl5xALm4lU6cI+Dvrr\n",
       "K3kPJWVVbh/fSA3rpqNMpPpUFQZb15zSjOEAuV3az2FUy1N/+QOJqQ1D5tM1jxd8iKmpAC2kl7wl\n",
       "vqpBJInaZzcjBcFnM9K4zgRByf/mf09fvjj3RhX/C2doZGhkWrZWGGtfQmwj1ff6QP9XGGIdyJ6t\n",
       "/zkzRyZRCxKjHUAHlC5j+SEAAAB/AZ8sakf/AGbx+QdKWkqNB1a/pMZS+rYfZy0N/xtpV9H3DeSK\n",
       "Du/LaWs4HNAISSyXapRd585xsUYXGG/lbCoprX2j4euP7KTiYxUNtR4Py0nZ6YlczPniR4hU9tsF\n",
       "LFhLmZykbmyIa1XAeCWOKAMfdto6JprlDetV3V0YOvD1vQAAAU5BmzFJqEFsmUwIX//+jLAAyiyO\n",
       "nhTaAC9ELMORiXbpZP0ZZL/Pe/c6/g8cDYDTCNZHoH9EcDGLiuOwBKXpScQxNc1xien7CBE7kOlq\n",
       "Lcr7RmCRm/TEaYaicganqVXxnzlCF2ykmueBqZGryrtUd/iKKh6B74yUTkfX1BoKBCPbY3VnSQSx\n",
       "cC/NOhlhvuGedZLU8r/NAoTca5/+fLojhKJxuTsiEmfg+V7pxeqKhJjSlRgSqJZDk3DIQeC1u6fa\n",
       "uUB3CSO0H+7tQqYeQjDzuY3oUPJ1hAAA4e89LuEDJ/2wHiaDriyaoV5MDlVLcP6BwAghHHOwEr3L\n",
       "FCa4KDMjByOP3UJY9lpvHeda+w9nwLiW5v4F9sOZic6JQBDyh9FVe6Gjw9WjB2t8Uxpcks6bubrw\n",
       "A7P5nTNblZVXYkeAt+PyuA2YnwZ0q8vw/cuAvnLBAAAAnEGfT0UVLCP/AD+N0EELSWjac8/f2HoJ\n",
       "r1CNoPlP3zKd9aRadkX92jtIJL0gYGONnF6j8rzvR08BxRieg9A6TnzLbxUDoFRVAfuAcM64vGhO\n",
       "hoNk5UAUZob6ADpxd2ZQKz/cqu12QvqMr+5fjR6zJf3rMWke7AAcTAAAAwAF7QxubiaO9vliZRDs\n",
       "1iebbmGVA3NHbGfWLuuCbtNabQAAAGMBn250R/8AZw14VjMGK7efdQCcu4DSuYuNUgy4pWgwfXkJ\n",
       "pi3LPqPy+IpmSrGVM2RsBM24v/e5bAPaFGmrQpoD+c/qJy4EonUKx0EI99RRfaXE80thJ0/oYmkh\n",
       "6AtK/GyBl9AAAABnAZ9wakf/AGbx+tI8zqd3PQ0lGqO2/PC3sn3dENRpjTxyNn8Jl8/BfH8y5yW0\n",
       "pbfjo6oidljWSp/wlWOcIkpKlH7kWqllMcdpSIhi3zaiGSQei+zKDrNVlwGfMDGoDkRRfL2L3iWh\n",
       "KgAAAThBm3RJqEFsmUwIZ//+nhAAyfCc6z/8eZu8WexgDFt4ua/jS9AEmZYTYgt52imvMndIxe4A\n",
       "iwpbHi5oWRthWDLtmzrjLEsWNzPuDkpe6hLjZGN1Fpjt4XS/Rjd84pT6XCx4ZhluJXEzCEJEPXV9\n",
       "FVLedH2bo6esgSxTfb8/hn+5ZbxG/i3ky/pRr2bgmPWpAg+Da8x2KS9aplQ7SyXAD9yrqzI6z3c8\n",
       "LvkTD58Ujce0Mfsxv5sLLDPbfdID7xeqSL5rhMMlAi0OPauFzIgnQ/KOdcjTpRLVrZljCfa+Wc3R\n",
       "9Rvtxv72d0NQemXLfDP/U1pGpVKbnNDY7zSRufRzO2iiWOh9cgcUmfFR0jmaLLNq1Joqkm3+etfU\n",
       "m2lB5BQ3RTmzGXrCR0zkRXl/m+cQwQKkOxlp+Z5pG8EAAAB7QZ+SRRUsI/8AP46KXUfX3bZlN1V/\n",
       "HBav/SRS6Z5HIHK4VYL9vXVoCgFfpiJ7LFYZSGa3iPQnnuVLbY10q9Yjr9h7ysmqJuQoN0CT+akE\n",
       "liAFAHX+6X37O2tnyXGnIeBrivAS1Yr+0JFOJlRNIqySGqUn6BiP0GRqqPqEAAAAiQGfs2pH/wBm\n",
       "/ZAXgsO/N6BS0GX+CnBlpti42fNkCeepmUqOv7WhFDhgAwNdRj5Fo+YS6oZh5Mhfyv+XtGCccnqj\n",
       "SnOwBomM57lIKJCzUDnprlZmPNh5X1RDThPrtxRdsGV6UJ99JNUG9+NN7fbAAfh4k7+7s01pa0DI\n",
       "IfxBbEq65YR+0mMhhQSUAAABcEGbuEmoQWyZTAhn//6eEADDz6HVzo/A+AOM0zHrufscSCZQxkAJ\n",
       "tYGIBxT4uBi9W21f7md10JSa6SNZ4FU3bK8KK3l7OdN067eCEoccLGs+mrQmHcfnRn6JRe/6EAAE\n",
       "QRfTdA9it/9D/sMt0J562SL6uWE/+90Z9bg9/OJG2VXcUNZGUtgIz0MpQKeuRIV5/zgHNCAP7cGF\n",
       "UbdR/oAb2Qsr0zDe7nV8rO9414gPkJv9Vxr/0d36LvsPk/vkfyWWZods9yxurIrdI/U1yCwezxRy\n",
       "HJZc2hyW/g416tqr3s2rXEchbeYz8iiNc39cu/uKRUgv/WZAa7FFdtoYMmgxZSbDZi5AQpGFPvXG\n",
       "vDHQvYK2885uguFTeMBp0mooTOr4gNEKrsccUy6O5qPQ9vPg7ZDsWxAp03mzfKwQzx0qOTH6JtHq\n",
       "LFPWwulr7u4w2d20kgykIomrYWZvLJnc3N+oZJ/eZKHBAYl6y8t/anvtFj5hAAAAukGf1kUVLCP/\n",
       "AD4YtXvO20ajEvOaFNOzbHcl+VJ8KSgwANRMZxenLUxGRnRrM1ejPclsTrqb7SrpW87DAj0c52qB\n",
       "TulyeUSOSrfT9/KttrZwnowfIW2o+521Arh6Vhjy8a61Ws1XzFxmuWPPrdzfXOPV6kEbE3dwBqU9\n",
       "bBsbNCIrXNwqMU+8woMtxfyyQiv4Xr00f5PXQQM+u5iylbVNBfOg7FSEDyuf9VMv7NexM4LSm8En\n",
       "m6Q01gWy0AAAAHEBn/V0R/8AZGlzxHds77Uagb8l6vszDRZCMlRiNi70Q7HmeVslKMVV1wBuNXpw\n",
       "KmZ0Wut6Hq5r1yy94OUMCBub7jVYNxiWqHFEKM0olOIoekhPwcANbbi4HXMYKsT1Pf1EQgej07KS\n",
       "gGPIvyNlRk+nbQAAAGgBn/dqR/8AZLpOnp5zu3LRz/QhQ3Muf41TaX8IJkfmOHsJR8E4N4t7eGfb\n",
       "Umz334loyPgBVhvQ++8RD0ovVPlXg9qXhAcg9MROG2jasxVolOTwsTohd8LqP8ZVYdlaKKXGJW/s\n",
       "bPM1AwAAAXtBm/xJqEFsmUwIZ//+nhAAw9rEWUq7uHBBVoAOHcWC/gBVdZJfokv0nVQQODBFqhGq\n",
       "d//SqBkPIn/GC/yZk/GLVuuc4GbFm41WRqxLTuoAAAMAFcJ5kmo/tWS02UxDZ15ciBn0lrfr7Yqf\n",
       "mDcB/Z1iVySMwRIXzOuiKNpaz+TkoNg/loZBgupQSiQI7CxDqHGfEZnYGV8fgRcn87BdfVRWgpxi\n",
       "x5aZiZWABknI8m2IvRnognN36kR3n+FLMq1WFuljKAM3ocCOdjIFezFmZdFN9894xqDEpbL+fToh\n",
       "zk+jeuB6bXZ9x8yL30sgMpcl3NaylOYrmDTHnulg7w3gaKTDlK/ahktu/gAAG0MMkCCmi2GQsFBm\n",
       "1VxNKdkXCQTlG1stxaTajAQmNOe5Qwf+03ODkmzgXstRA8flZCe1mULEhGePC9RC3LWGB90gKfLB\n",
       "fWtGaryIddJKr4KE3bCQPD4TYxC+76C6oMx7reMSk4Db3z8zGCImbEOu/IE9AAAAfkGeGkUVLCP/\n",
       "AD4YmYueuxoNheO96zoInXl7GqUPgbWRsQ4dPRiFfKKH5veL/o5WRc/RR87/PBJX5jLzQQvGvTV6\n",
       "Ls8wuwZW+qh5jR6SAwGPNLKu0TvwEdfgBUsLxh8AcZVF8pWj71qbtoc4tSRjTZSJQzVG7zVfQjta\n",
       "qof03QAAAFMBnjl0R/8AZI14VjMFq/E52Ua9Gb8AEgFt+hXD73hCZn40EFtG+GZA4pbjaScMQXn+\n",
       "hhsFm1nGrMy5C0x+6wzKy5IDcXZ64pfve33gn3lYRieSkAAAAHEBnjtqR/8AZHH6IwIkZEbaMCuG\n",
       "SFOHn4oPwsgaiHuYo1OUGaEZyKfeOmL05IRzmkTWqjQxL5AKRD1OxqyNQBfFVvyqFc41ajMG4zla\n",
       "gJxKvVPxP+2f8U1VmOmSztKnuX4hPhEpsv3jxmOXBJislfVDIQAAAZZBmiBJqEFsmUwIX//+jLAA\n",
       "xnCc/bMwpgBm1gTemHFsB6jkGUREIOnhOfm8jZwhn3CBp8eh6KYklNXerv/O3MswXQFh/YjwDYSe\n",
       "z+Cuvq6qgZ9wAAADAtsANDA3uzVYTNkzS2fyk0BQsV2n9+mTq6CrUSFsxGklak6AFC7nC0N6MSBU\n",
       "RUBxufT8x58X0IAFIN3ZqivMfVvqFmAWhk0E+EI6a08IwkZQwdeoAgi6nRf+HLf+iXxQaWzY8tBh\n",
       "NGGOz+WUQOosYCt9JdOPaWJ4nKbwfoQM2ScHJ+HuIm4R2jTVht2w5Im0zUhiAoUDi2GHVehdoIT6\n",
       "JH233e9eJlbKQoVH3HiB0ZXe0g+X73cFKq3SIYqCGikN5//s13ShElYwXYrGkBK1rN9K02XdPc3v\n",
       "JYzzgiilFyJEyNMIdFxBBWE3Z7EiwaeftdNQ5vXAowqokBPQL8Ep9a+a+bRYERJtVxL4O6qzG6vP\n",
       "wgfcmZx8gtHHKdM8OXs1G/3WX6t/r5KRVVg5QPUogYsRa82SiBrCs5ncIAdYUhnhAAAAhkGeXkUV\n",
       "LCP/AD4f+Yc9RaZX4szVJEliGx4d7DN2HeLyIzUN8E1bQCrrt5XaQ7iN7VZen4/PMzB/SWRiAkIz\n",
       "kfvFUoUHPorgHCw5iOO2WtqNN9N6q3NSn9xF6t6zwpVFbWP+/IwAs9e4eJDorKW20R6P8MEwKjSX\n",
       "oVSSzC0rCQJHx1r3RXxwAAAAUgGefXRH/wBkcCrb7sS30G8C9LMZti1jjX3BMGAvCk72dcvyV7cH\n",
       "Rgs0IBQzZM/tLY2bEOe7MGjCfXG3z8VmpDGs3/ZpElIiQVpuoaEoUUpTZowAAABoAZ5/akf/AGHx\n",
       "+QcyzTh+B/5u6CZwvmUIQUQiCXVgfB8GJ9493qhRDVh2ob/Y4bAuKkKCGatxOWszqg7UEJb44a8W\n",
       "uRXxfpGIRndw6ECcFEcFiKO4r0MRlR5gKWBI7G35uE1yL9dvE5cAAAFlQZpjSahBbJlMCGf//p4Q\n",
       "AL6u9f7B5Z7De7T0uxq3AYgCJfINplDIDziW10nqDPKDGa3sWKMZdy9dyHjWMJP2LKqOkUSLOAY0\n",
       "ARWvvC3DBil3WN1lRJakpWn9nFV/8Ldaa9KzoNKVLmFlwKv6p6OVa5JJWpWr1oQUakgPJZgg+uV/\n",
       "I6diofvjasJeOOqILqlmwMVgNZGvSMyqzVxVyv1+Wq1/uNwhtPf7d0LaDsanJXiS+72Z0BhNgNQ2\n",
       "wJ/jbVW6U3dq38MheDIQ/5eUBrwdZJgmXq89tImvDObfEXF4aFkzsMGyohEqDufFkIavJfVQApIP\n",
       "+KpGwCjf93QMo1+n1oDaBJGalAv0No7GUkjfy9PHyLJyNOsPwwTorM/zDD0F98wuSMK+9OEPxMDw\n",
       "CZZoApWpN4pMJh4t65lJa7H5krI4bwvGs3pqrGTBfGhbXzoaBRMlSCB/NwOIwLztNJO5HZ5xCa7g\n",
       "AAAAjUGegUUVLCP/ADzOil1H1++vqlicCLFzatx4Cse8hETCQY50Jyh5CTFgrVOzwoMMoGBmtBil\n",
       "nFp4dUkLqjcEUF+JopPji9aoHfB6I6eVBF1EEhPQ+kGLwYmorGeGeIBkL6NhLG8FAjfJrGNqSMoI\n",
       "ggNbgAC217iiIuMa85dyrrvDZHEPKihHTt7JUQ6CzQAAAHwBnqJqR/8AYfH5BzLNL4Tfu5n3l1im\n",
       "I9D+qHbndHVw5SvDwH4v/qDpoemQs597B9DPY9+sv8DQNFLqRQYjStVivV4lzMNeLkIcl20l2QTV\n",
       "V0eNVUs0oyYcR+QjeVxuoJx+pDe0b6LYEM4xgLf2idKsjjj/xgNiY4dy0WFkAAABr0Gap0moQWyZ\n",
       "TAhf//6MsADBcJz9sy203Ga4hWyVYEHPzdzwBx+AQMFVYAAdQ3dsp4iyVhL7Mh0DgXrQuouGDMJC\n",
       "2w2tydYtnU71SdGVret0POFimnwwgSptGl+7MOIjqp9PwMzCpUG84bFcVIgUdmhNVkc0aZNq7fP0\n",
       "cnSpYfu8s69swzs0RU/7LssbY76xpf3LIKOdxXM7OKzcPJv+nvWwpphdXFL8h5Yl7woa5VKhhdXu\n",
       "EcU/lXSyDLNPFq1jdjfEooNC1AqhwmAgPLchC+8nqckm/YQ4UsXy9f/c/0ezHxiM0VTHM78KrYml\n",
       "MlmrLTVRSx9zBnY6ZLikYcpvoXTlR6deHK0ICvPC6RNFXmrxX6lTIhEI63azAdS4dVfbsAVK/PGr\n",
       "ZEmuFpMYjDkZg3vbaZhvKL5R0Qe5OwtvA9V5mQtLHt/B/gWMqIvBatW0abyTeWX//eGwPT/1V1YA\n",
       "bgpal8WyGQ3pFfzqO53HfVWqeThBno/EKyQFNzTFs4Gl2lk3ovZR9MS+WV4ctZ0ri4CDVM/G3Rtm\n",
       "o996Hs68gRwcxNMWqQwW1yrR93zHiCWXAAAAoEGexUUVLCP/ADy4tXvrKjk2ZiSp43XibU2ncWnZ\n",
       "hWe0nwA3MOkrtjMZmPySx2glPX1iZveIO7ZckoPFvdPoGXjAo85hJr/dwsthSYzUIf35WtSwnNp4\n",
       "QZIBg7nb3OIHaAvSvtJqRQBbUwny8CxTWCKlLOwZyiHO/DbD/qKNbZfDZle8NA/idr5ASY9PQnA7\n",
       "k3PWl+vC96SKuP5VpHTeBUMAAABfAZ7kdEf/AGImGZ5oanckQqajInNDtTy8btfxHGHGdaaK9Fzv\n",
       "C/pxog3NcvIDC9YDwHQ/gNWrQZRf4jjgQR7AH/NSKTBJMqvDqisKeCPlSIU+fElEBoYTVB6Y+JYO\n",
       "jZEAAABjAZ7makf/AGH+Op1PTChwSLBRZFUTye7GEgvH1/13Nd7wNRa2VcrmJCMEZxV4gLCG8wie\n",
       "w/hpPO4++m9OwgiPFW78dg08yY7wggJu58a0JcbR/bpn9w9C4+Nalzj0B2kwz2XdAAABMEGa6kmo\n",
       "QWyZTAhn//6eEAC51vX+we4VI/JtkCEEAH+RkKg1nLAjMBkwHJSGWUyQEyUo6+3DgwW8KZNavWQ6\n",
       "s3yHsI/2kCO56LxG4Zo8aT8OeWjaY+TGUcHJhn9RbCIRTxLljOI6EQ7bGl73nHYapNE4OWMEe/KF\n",
       "5KCyR5dJcj0BrffcaMR3hnguKhorZWG5EVgAaaqaQW7++oPIsVCjINroBxmTp298al+SKjtT3w6p\n",
       "3xcHEc5xQYPpzJRnRyrzFEWgpjftsSRjZ5eDgIJ8Qz/FWNdF5pFIavDbYikobzPgvQPYiu1vSmEi\n",
       "PjKV6bhldfE2/AB2gJeaK3FQ3tYdBbKwPZkRx0ODPCX+lPMXKPEi64jvhsPyvcZRSwcvJUC5aO2E\n",
       "LYrJtcuk7OjcFOlUZsAAAAB/QZ8IRRUsI/8AO26KeV2irSY0yrwM3CWvMB6xzRBm/htOhrmwJTET\n",
       "boWoIyhA5KaCb3ryYgR6Y7SBGsA1NehUA/CRI3d0k6a3n9k+Frg+76XhQ2N46miX8FIMSCH19y3c\n",
       "Uxu4LkquGcViJlKrAQrE2eJ/RbgPsXqLvXPOFOSBVAAAAH8BnylqR/8AX5/tFQJbGMur45qjaFkb\n",
       "NxyA9/sptM4ITXS+2cnHz/IX9yVo+i+NU69+hoilH4wRxLi6gADavDty+7OSSPLn6ZjM3ACauhdd\n",
       "AZa+tZDFQHzh9hbtyM2a13CHF4OkYOTi7HzJjD/86XGke9DzBtTeo9fSQt2Cf7mBAAABhkGbLkmo\n",
       "QWyZTAhn//6eEAC596HkyAGplSXYBo9PPNvdp6BpcBn6F+zrhstTbUeihe6A5jLneFSd1Mzhe5DM\n",
       "AEXcAAqqhkWIpYql+zp3yekdj71asGusQm05EsG1TyAB6pxkYkgsNAIX1jQOna89bqoPCe2ntNTi\n",
       "d88/zVatz7NjZHoSjQrl14dUPhH9YRfHPO3rS8dyMArCbBTpWWQ0luh/cqjJ+AzUQkHEDH9NyZ74\n",
       "AXHBAHGMIzrcyRXRBcVOXzHPbB2JfCN6bOLvmiza9K8GPSgppEVW+H0gtrCUUWRAH3NjHPxVLJyL\n",
       "IJNuoEn0+PumAmHd2rnSMvu6lqzR2LHrr5QFAxyzuwph5iC4FklrNRqPNWsQvJ+WBKSExmJ4/rws\n",
       "APf1ov+Gaw0fWMef89gjesdlhrzKEvLlCrm6sxeIylezUAVtF7+mWPxw44h9Pj3R4zpPn+MFML1M\n",
       "6QN0ehmszBo+Lz7QsepLjWKBMZp/Y9mNj7+U6fiGqipZ3zTt7KGeYDjNgAAAAK1Bn0xFFSwj/wA7\n",
       "bdyZC3APDWUlBaSfNa6JeOoLgDqiexz2cbjJVbYjJJiMvWfTeaQqCEUYUnkzwAqrs/qo2MzSEK6R\n",
       "mK7kIGfU1Zt1YFmcsdI9wglbBh7cmWRq9ThQ9Jvo7B+7x9fw5ox3/eGb7HHwJmdAaLsPfvh5x/g1\n",
       "WZwXpDDs/EBo6qV47d4eCTyncQLn5BqAHcqFpgpmriLPqR78AKtdKDy9TqRQDLZJQAAAAGUBn2t0\n",
       "R/8AX414VjMGGREAJidyV+wVAJ1kSO32NlAL8uQ12rAidTJK99orvrEuGN/CYE2NOKvzPsS4pIGk\n",
       "V1IAJxewu0UYlUMGxfRUWU4UzJ3g9OCD++4BZlzLzyl6l2PlTTBTDQAAAHoBn21qR/8AX3H6JV4U\n",
       "pP277RwjUkl8kJbR0BDUNarzIoKmHsKpkKSOcDEc+LRH1vqoyuytTCVxpF5kGXxTmi/9FP0nYDwj\n",
       "nkeP/paFuowxDJiI9+TLPJpnpWQUkZd5BwU7pIjn0/sWtoWj5Yi4H+CStNCuTrOjKIITcQAAAWRB\n",
       "m3JJqEFsmUwIZ//+nhAAuvMud84hTjHtvR58BQRgEpMaRi3U1cFQKK+ilHg6BFiPv8IXbr6dyuRR\n",
       "RwT+NGk78ugUAIxxmrvFOHNHdxS8xp67I9ZLIr7NEn0hd3QYNxwoxwcnH+Wk5gsDVW2bhFu11i8g\n",
       "yXB1p6fAnecLYhDaBL1M5ISAShv+DFxMl9ApOQ4zsbAVIjRpV9ZxydcpZyxem77kJuec1s3TNDye\n",
       "e0Tc6HOoWtzzv8+wzv7Gus3cyvVsSb437Lvp3+xfL7/LtLVoeE6IprghJQo39b6KJTfSrqXLL/c1\n",
       "FfP9lnj3YjKUuwZXcqK73DY6LNg13k3EuaJhaLmkvAEzkyXmEvv4uJvjdZAvUFFlFH127/FupkIW\n",
       "WRRxuSM62MKxBayKPY2ScmO2SImcODiFUBnZiF98Ixyw8cerL51Qo5rGgMDfhRdjc2Sa4cdoxTjc\n",
       "tBN+YrjRZ0KvZlA94QAAAJpBn5BFFSwj/wA7X8Ya4v1zxjFdF4jCF5ns3960iyn0XGtbxI1I6xWi\n",
       "LZ9FZtBZR3xrQQDCoguLEmhjPAYYDmjBCCf+eO/CgAuouAvmr9J5zrb6JD8J70G1NOf0rkyu8tXG\n",
       "IjY4A6qdooWPzer035aHrmzkSh07rUmh+2d0MlmH9nqD1sIeNMN93ZzbatEblfR6Di2ixi2RtO5A\n",
       "AAAAaQGfr3RH/wBfphkgLOSasKBU6/wpC577efEdfEME/ljmszgAqA3qBBG4L304oK/4HDmkjPCy\n",
       "Yb9CJPCCGkKe/BaWaQSJmDbcTCn6djbf/nFQhrbJEa1dW3CXGZEFrT+aLQMtP9F7LLizgAAAAG0B\n",
       "n7FqR/8AXQhl/SOtJUaDr5WC0eVSAcVJiAnbOdOYfC558pRUPCYbHbrJL465d5iuAS0t6f3sqBal\n",
       "o5G7kqOqlFjnEAbQGFXNnHwsCvVtchTJznDrptHOhqk7HglAaPt8svZJLTGOxIwF9Lz9AAABt0Gb\n",
       "tkmoQWyZTAhn//6eEAC1gsQ/6AA6PkC9oQpMK/d5UoCFNbTB9bNZZ+Mtz+a0fL3q0f2n4Ur3cedI\n",
       "E/2ohxHM96Qpmq+m0p1GZOSPQSPlPU05EiD3xOvxe5AKIO6l9LwUD5EdNBj1xLwBYAsIBdT8nEAV\n",
       "Amp5Sg3QWGndOfh76SfanXBWEX3f/D2Cdfg6BLPrFcFRaChKdHZnhbvdIF3wYcpru9vPaOC21AHP\n",
       "R9G9/zWoVJPhejxVL5EOb+/HPWzKvz3RdlWCz6XQe7oI248enZM4b22vzHkLFueNnuwkzEn7SqXx\n",
       "HF8Mc4q4qiBtCiih+7Avt33mtjvqqz1pe5axx2nJdbZKoyxL46PDOWo8B8VIsRr9QqTLIPDp2zAG\n",
       "c8WP6qnu29Nk5qbnsHppY4fmbNKtuVc6h/X8M/nRQZAxwSK9lZXHzTuLaWsDfF7zaDZsjo0lsBgs\n",
       "Gfi7lRUmjDFYmKzOxJtJ9G1oAAADAASYFRRkTWZjCkD2uyvN/yBzqi1BYBSxMbgR9xIxRSrS9BUS\n",
       "ZQoH/CXjSqJR1ysMkT3aOhJ9yP0MVe4A2LArP1waiIPIR+3jC7sAAACXQZ/URRUsI/8AOfi1UxQP\n",
       "iM72AhcL5IL7Wn8yGUo2KymQ8COdgmC+Nkq15Ww2oRaGbQmaMlJi2fINmSRfEjACD4qdv7Ed0WDY\n",
       "NU3XEtwUblJdlZqcnRAOrxFzgz7Bti4EdnYrKHk4A4r2E4bwC0sfkVepnzUdTdgNCRPaH1T8VROe\n",
       "h3q4nkCVeM6mBd6c/L3cJXhSswdhoAAAAGIBn/N0R/8AXSCGpNlcK/E52IGGiDeloRhitB9BhjB8\n",
       "hF4U/9K0GJlbAxgAJ20uAxgHCTlj4AwL0Vthv4DSgePunAUZsAYffwbRTCaLlNbXO5dH1erVWwCf\n",
       "QGm9N5t5VbSg6QAAAIEBn/VqR/8AXQhmvm/JooYgqUwWrjPrC55uNX6xKSS3g5L7yRGew7opaDgx\n",
       "b3sjvOtroU1L7eIX9IAB/OxTZNIVet841Az8XzEWNn9tKhBiOLCU/D9h/9AvluNuCeCqXKlhjeou\n",
       "iSZbEh5yvOr1eSk/aJ8kZ5/Bd1sBG+ja62J5EIAAAAFuQZv6SahBbJlMCGf//p4QALZzLnWkNY86\n",
       "KU+9dtAD7wbAJYm3bVVXxi3OeHbgpBQY+yl4pWuoA4kdfxsyRD/C9uHMDrJD9fP31M/xUu6jJvFa\n",
       "WHxP0lNKcqEJELFKPlMW3rJXaeY+7NJV6BU0RvoBCIjKLPfqhj6D5Dj4JGo0M7VpaXVB+5qOpgEm\n",
       "CjH0XFJ/IKL9tnP2rce8ROpQIK/OMP1LwMfvnIhgWUuyhBYuSPKykrg43USniRBME57v+HbX4j6p\n",
       "KAicsQV61I+H7qL9J1C8A4I3uIMKcPtYuypB9Opwv/fp7XuiUnMRBJDE5Y1JdOq1ZdnWjy4Jk6Qt\n",
       "TWpeSr22awtOnvGjF8A8OtTkkNll19LS95fPG37YWWEmV83cgAIj36eH36yQwbPV/Tc21nNxJ9fQ\n",
       "pi+iOEcNS6Qad+sdjUXU0+6FfuKVS3p6jZe+sghwNbX7dqj84qzfrMJxpJ+IdgLaSwSf3WRE86vB\n",
       "AAAAgUGeGEUVLCP/ADoN0ED2sA8NL5gmQuA3J8N704iSZrLfxzOXh0J7AG6+AEtSjR5mqP3u+sEI\n",
       "QEsupDadb/X8mkwMM6TTfmJQLnCVQziJl/pZyG4K+5F0Mjc5wU+n2eXWigPvC2UC1qQ+ZPkZJ+xN\n",
       "N01VuZJW04YAZx07BvydWSz9QQAAAHcBnjd0R/8AXP9dKimBHlC6Ccoeh1bBIzvyxT0noIEQmiC4\n",
       "yQ8Jc/Lg12S+R6GWwUgou/Meh63q3IjpkQM/FpNcqh9ank8q+vDFf8O1hWQ2W5/XJElm1yINtVpi\n",
       "1rkMQgVdB5Q8FcOw7gtd5MYkQIQLcTcZGQFjZgAAAHQBnjlqR/8AXRN6nU9MKHBHijefzIvvu/ms\n",
       "iIrLuePeycUWBW6QPnKvCcRs7wBpWbzru8n96dDqixI/0NnCVL2mclo6jKdoaN07Dadi2qK7Prw5\n",
       "svDx/U/mh2fQEJzR2ba2XkZ9o/fHylALA42DpM2w2vOD+QAAAW1Bmj5JqEFsmUwIZ//+nhAAsar0\n",
       "Qmo1whl+FBAHLDHhkNYFcKXx9Ntg5/PnaebFPwauP4fZ7e+VgWWoq77ItuDv/P7i/GqjiD9H+oRx\n",
       "SOkZetvLN05I9QbCuY1b08xbuZ8DUQhbnAaKN/JQP72G/XxlhSUP52u3SQSnadqCAcsiGt+kP6aq\n",
       "67bhfuZt32fqCYdoFNLkdeZUT+T/txybztigYYTgxPqsyHJINXFn4pupi3yWPblVuhzpkBX3Sflq\n",
       "0KsPO9eMG6isRj5S0Nqv/KtfHo1SwyYPWSonKVVVju27Pw5x+pHqZfQVnyCJ1Hz3CyyRg07yhcIV\n",
       "Wjw92wPJrAIqUP744ihtY2cxcRpFxDP2H/y+u4/xiW3mMKNMujwo4oYUUosyOHLlQjU5n5QzclvL\n",
       "g1JEbZ63OqfHioc2nLLETUMV+cEMECceg37ErosgcyRhO3twqsLDSTo8t8Hg/ZpW4s+kcCptRJ6I\n",
       "jlP6wAAAAJxBnlxFFSwj/wA4tkOd3sJbrjK60D1ZbJdGNIuWha4PV2HAmQGEokCs8e+TT706G/UA\n",
       "ATh0rgkdfE79WlkchVmeQxRIPMTOaq3yNnnUkDcYzhEn0okCWjoDKolMIzoKLsLZolZhoCrqer7c\n",
       "myVAg+HD2bWfikNUirCe1eR+m1V0xlFOoTQt9fOTWgWCl786JzFe27JYtb0oVUypE30AAAB4AZ57\n",
       "dEf/AFq/XNx1R/c6heDKnOJfMPR8jWSRiL3rYa9mHuwAJnImZsdhHcGZEtZoV63RdNNvDJAMH0iV\n",
       "rejjJBEiLqq0hK/OAIj3nSdawtaVk31j9ij5nUacDUBI1GTKKQaE9TF1LxbsDQoDILdpVLZgMmjx\n",
       "QX1LAAAAcgGefWpH/wBayOmC/2XGMBhXYODRFH8LIkKQ79lRv+TIN3EhbsbhQEk8BLrfY2KBRLUc\n",
       "p9K7XvskIkS0RILO+/lFOVIe2yNQQx8GWW0aFNfARaY/4HOAsc4K+CoTs2wMo9Rfj4m6BaCjvqvg\n",
       "gozQ0sYYgAAAAV1BmmJJqEFsmUwIX//+jLAAsnn+pn0EDwXbP75Rf/XSvj9eGATPKg+mn4G22j1o\n",
       "sPR97fVmhvVLGuivB70qYPQBuj6zCo1FrTUFD4kuLUzEfM+zs6FOuikGkJin5/Z7QL8XRN77ky+B\n",
       "ZIOT1nEcMPlzlL/eA4jJet6seJoGrS7OJKR+czSpQveR7S4OmNO7Lg7NHI6SNRlAugKdYoG1vxFV\n",
       "bKUMsBYq/Gt7fUCKfqPXgx5+J0FDCEGG8XbSqw49vl4Moz+9yYJhV6Q2j+mTqNp/uD6BvCEj9gHp\n",
       "IpLNlNryOXpqd/beginf2YvizkOdy5/ub+BVzWatfyTqB9F9DfhKRpZrICbVZIFLRXDmNMZzWCB0\n",
       "OG0SZ2O/fAmg1TdOndK1OPwMbF7lWuHhtbHNpXJHvMMpr0x4v4SQiXHT72+vkNLGPyQkcitga72x\n",
       "jSH19VMR8ZwI62H7t8eUgjLAAAAAnUGegEUVLCP/ADiYmVKkz26OUZLXw/HbSAIssklQLhMf4A3a\n",
       "ly0anst+/yda4AZ40xmt5UX+lbMuWwqZy75NQ8Uwdj9DfsNEOfcfAi/U/PwJEkM3t1P0Xg/xJmCD\n",
       "jgabnGXLoZE1yRW8s3WYNjBxLu48Fz59UvRjdfu2wz7wiOy5wkjRIWqK7ubdKOOcN7ibzzVlzu32\n",
       "vG8AVdHoqoEAAABcAZ6/dEf/AFrghqTZW6vTP0dXQ04qCns0ieOX0ci7yMlE58Gs6dR9zlz8EHFQ\n",
       "T3mF9DIx/Uxi4usO9f106Vd3LkmIwTLEeE5hywNGLxVk8oRj65cYkAuR1MlkJAQAAABsAZ6hakf/\n",
       "AFrIZf0YQUdYe35snIRNlOZw986l2WhIvTqDwN1vAo9b24S52vNnToiwjJpXxZ9qV8T8at0eWSH+\n",
       "8ntzKMayJtcjnKN07zlebl//MN8bkAkeEF69Q08TK2Pbg9xEfcbI5eVyA4mvAAABX0GapUmoQWyZ\n",
       "TAhn//6eEADXvOjACauhj40PSThAxQlWaZ8sMg8yBgilhPFZ1JNRnSQRvIwvTHh9tuRdLbHqf6/p\n",
       "p2LBKstySxHhq50NPEH4bEBAla14mHJtMaLgQd3CNDhcWXb77FSE7n9GgXIM3YdufXI9RKqGVryZ\n",
       "xFgznWjIb2lvcQP63ZTir6UQp36HNi3nIkzSepdu4i2u9yGVx2sOsYz0OAUzLSSu7j9B3dXSTfBH\n",
       "goZ85ZTJSnsQuf7KZyrh6LLLTtWO9AyK/qskHiv45sp6VpKylzSiB14mALD5qHqNiFwCdjZv3PHT\n",
       "zJWgipZo3XTH54oRug2kJvhX/Pqp0mycuSU2ivmIYQQmxU1WdfOvMGZDf71fRIiVjbg0rs6VzlJx\n",
       "apYydagbDc4HRpddKyK3nA5TWz4A8qmWSFtxtlXG317S1FmREftNIY7nf2Mno8H7bnAmfLBI2ZeB\n",
       "YQAAAHJBnsNFFSwj/wBFeWcSQwJqxhjDKl/HQjJezlPb4UemwdSvhOE+78J5h3q/4u324AFaLIGs\n",
       "QOPaX13mi5sKzwGI3Q82R2qHQJgCx4oYCaMD9cLCbT1bMNrtMclWcURt9c0AMH5a7fkDhH5xO1Yq\n",
       "xUHh8YEAAAB/AZ7kakf/AG20CYsUAE7c4/jzry7+t0QSLW+j5jdoVGy2vtz+cgaB7bNhaQyUfyB/\n",
       "7DQZDWQ0o5yYMxXXXjn2q6RrtBIagiaSD5IEoCkdgapSIYZ3JOY/YqvKx/aGC+3ccZf1354zStrk\n",
       "7YRTQANAboLi+KAxn004mTlYUmdRQQAAAZtBmulJqEFsmUwIZ//+nhAA19QYYAJxex8aHmDw7jkT\n",
       "SD9OJj5YTmOrc3yUI0b8Ig70v68NQRk+Nlp+LaEGjhi+lZSNjJi3kXUZHoiDF4ga7pgl+axAPAJl\n",
       "mj774nhNR18PDq7kYTxZN9iGyMhS9kQ3pjr3PW6QlwaDpmPbqnl6pDT5w3RJg+opypDveNK01XP+\n",
       "FN3W7/QYsYuAqDWMZdflwnh02wZl6wt2Sw4e+iWwbR364fcDIMBwwj4Q8I+2vFX/10ALRyxQbkW/\n",
       "RZ7AszQGs6pHiBepokOnsj5uaJXAquLrvvdFe4pb15NYpBEYWhnSHwfgbflIwzr0zaaom7he0t7C\n",
       "p84tcDwTP8nlVxUwSxeOlhgk+ut+KjFZ6vghVrEJSTbcKzqMqeEbQV6cewn7j4vE/9lnyNWqFaeZ\n",
       "oTD6ohKIlmRPy4xWo7Q141xtVj5yuuvcrEQbpvbuWs7HPXz55UyHQFqTcIeiil0Iofa1vh2Xbfme\n",
       "jqJclTWd77fL9X+hilweqTvCrv0QxWvgZ5nbUozq5Gy7G3X2/qkAAACrQZ8HRRUsI/8ARLY9LsDd\n",
       "hagAJTBdJ/dtAVdm1EPVBlr+0QTFgE6vaoWd2G+mrR9dLu0DYDurFcplxuxlQxiQjvYffTNInHJY\n",
       "j41wCNsrBZNzsyBkhBzhCCrgGSu5qx1rtQ2evatyAwae4Ne0e2CMc1iXn5fZO74UhJIEQvLvF9wH\n",
       "laACD+7+o4IA2xWdVB3DCIuydn9el9AJMYPlehh8kJILskrN35Ll8JBbAAAAcwGfJnRH/wBtsA33\n",
       "vSAE1Wz3KJKAG/Cs9blOS4hyXpWzrV3kJH07QVlkS7wV9we977faipgblafOJbAm0QDAdypWFaEH\n",
       "VvJaWm/oTwTM88Cir4idZs/1Bmj+Vxdi3+jl7kweP0S7NvTHpkkT2d2ZD1slybIAAABpAZ8oakf/\n",
       "AG2SiPRcnUyeSLCPUzsJiOCmvljI6/xU/nv0T/FBSQj7QyWbHm3ojUDXXG1KiCpJbO8VCCieJaum\n",
       "+YE4DrNKsJYht6lDTTcAN9yY38C+5Q4MwX91rM44nAEeJPtpXG8y0D1gAAABgEGbLUmoQWyZTAhf\n",
       "//6MsADZGaveB96gAN5Ozk2Pj1SUEfRsirl3e2ngl0xlda2IQjCzMHv0Mw6u9PpvPNIARlrBJMAA\n",
       "JeWHUUC5K4A11Iw3d9VByGIeYqjxQ0PDleOUlKaTUVioYlRmwLavAjey1ZxFrkFuKPBhKGbfr0Kz\n",
       "oG+pMzNi1fDkZtuMdDuykP/wvCGYSI2SB3t7fuxTYQYm5Kf1JLEpQu42UtzBFmbDWjnlhf7KIGb5\n",
       "Xw8m6ddYpRpBaZAGxgkEsmMEHnQKf+7X1n/6luuCutRSy4WgMcDqz3B5rPGwHYL1l7pkkY6nFfCD\n",
       "5I+iJXsdGjlZbj0Je2j8kC0Nf6BBPtzXMX+I3IYiMUJaw2hzIXsc3HMcnkbmTH1c8luA6+DkYlSD\n",
       "kAgACjAVmn3ZjItFtwZQNoRb2vlfvz6npt7gfrvIaCXPsUt90Pjd72Y7zkrve9FBdj8A+MpCp3Xb\n",
       "m5R41+0Wv1ZPEN9lBpbJywiugQ4ve2nr/FBFX2GgDwAAAGxBn0tFFSwj/wBFNB3QmEy/KZef2kHq\n",
       "GK3F9khSw2XA8ypzfFmcgPc8QDDdh3i/rtB4ehdNQJTmaYhBfYRZYxFWEuLZoHODCq6kGOdFuccg\n",
       "c5pKpBJykrK4ogcORpZx1m+a80hur7Is659U8ggAAABmAZ9qdEf/AG5AhhSIAXqDCyEojP3jLgQN\n",
       "QYAunK47c3NfFw+K1vos2RM9MU0SBOqmDDazwK56u9xan3R3eMKSFW6CmknBKVqLh/bjlc37EBi4\n",
       "9jqv4QxknDcACIx3E26oXd/4at+EAAAAZQGfbGpH/wBuQr9AWhRl58gKgI+tC8Mn8iP/OqNlk1+f\n",
       "1KoLjo4eyZqckaArcZr2OH2VllhXFiE6jIHX+3f/Iak51koG+d1yviGSttLApSLQg07fEHplT2O/\n",
       "CEHMElLiaIl+7HERAAABUEGbcEmoQWyZTAhf//6MsADZisAhABZ43DM3zDDj1P3u+Y6iI9izpLUQ\n",
       "S/qjJB9W6ETsX7Cfa3vELtGbsG06DN7p5W9rsWNdNpuhhWCNcP7BHA7KSBPpkucTIqyc+5nOu+YW\n",
       "Hx3FAo3KegABRY1CiC+jYQELkaXDLjKQzxewObxKngLC+8e+S14AoCFNXCOV7P4BzyWAvw+PQPYH\n",
       "n5LMs8qMEBkCALFIMEQEpriBfctgQhv53TvFtcgJqSZ4dZLLo5X9J7jMC263/26hgxUZFKNLbepu\n",
       "ltwKoSbrDxb+3xLQujU6c7pByh6R1GQW0bsRUsR7TAKOlQLAX0M5XkN4i3ZIM3RuWsx8YeEvZGRy\n",
       "lbqCs2lViAKCofewL3QCQGWgBeYTMFiRKz92NC0RkD1y79iTEiZeTPG2JsksF6xBeWnEJXTu8ZqY\n",
       "ARuweVRp6xYPYQAAAH9Bn45FFSwj/wBEyXg9SGePo8FofaednAyMtDxD0yRE6mUNLHDK8OuaqJO2\n",
       "6ddHPL4oMdN/B8vTblgAGfJipxAmmiFZP3JDJLzZPSbZmWglouB2BdIQ+xZkgSE61sakgMmAScwt\n",
       "hTXQxZG5BL/RV3UgjHybG3B1BunLFxSbgmDhAAAAdgGfr2pH/wBsH+4lU0X5MN6l4EYHMCnssS6j\n",
       "BeA1LHlwg6N3b1i5jIsAdx7e+c2tx6wqE1xCbp5qvRScvknjsZWO8sTcgJGYnkuAgPItbd9L9/lS\n",
       "G0hgbevfg3692Zu2qZtPmfdToPt61Zqu8/cvdFTH7TtFNaEAAAFpQZu0SahBbJlMCF///oywANnF\n",
       "gIUc8gBLC1IftFb4SyDIecC6VRfnHjUKS4bS8kkgYqRFmdUQzBe5hYpos7HJCeNbOexkeBFuK8GP\n",
       "KmGE6QRHR5Bi9qtF46eHWLZN0DDb96Mpfj+yAgljaZ0oaqs1HIbpvto5s5Vc/ut+tc11GOHdBUtG\n",
       "32DmTqezLKd3N/HCtFO99/augkgTC/Vnzg6Gy9/k5TS7bmK5ZHfILpaPSGLyZI9oEGx4+DtQVL7a\n",
       "FqWO3AZs7QQrOhzzry7CSMLCho/8+2+jkKJjfkTpRQ5CJN+1zVbSgZSfqbAau/qmiAabMtsHEg4R\n",
       "pxBbrLzzWfCiNI3c2ogLl8bgrDeZIOWDh8QWPYhkoCbVwvCrrvqRag0o+etA/NFsGdPaNaEMJkOK\n",
       "yYiKspi4HsCqucOWgO8Bkp8vSsblkAw6lwuwd9XpOJuEk6FQKoh3FqVUlfx7kCGPqO67yQ4j59xk\n",
       "oAAAAJtBn9JFFSwj/wBE97EG7GVoAB/O5025QbMK415FAl41ijAwox1MJIrlAbeGS+tnm4QILjw/\n",
       "EN9J3+cwDxKNx77bHE3lJkjs6Ab3jFYiT+MvLbytCfHsaz4O6k132zJyUTxEEHmV1DtsF2AbGUMS\n",
       "S3ziZQByybtZ8YDJFXYrQnWZldCoDsT78xH3wDlKbcY2yhotGu3+0H++05MF6wAAAF8Bn/F0R/8A\n",
       "bbCZ5QHccgj7pnsScTkiLrGhBxgtq+CZ5Fd4ftsaLoB+hWLPHI/kgn1hKRJe4kwxjC7iBdb74iCU\n",
       "nG4wFU4Cm2RslQaIiLP3BOwY1JdNihBnPMxql6QcuAAAAGIBn/NqR/8AbZKP5YMt6PXPk6bN6SvH\n",
       "+/9zbxbTRg4YjogdB8lx54biyim8oRFJ1Fxj2MtP8lND9XJa3cAlFdgOWmBO/frQcGnr62HQ2txQ\n",
       "OLvF7fQCSy8XqetEb/mMCU3V1wAAARRBm/hJqEFsmUwIX//+jLAA2c+jD0bADbTTOz1u555P3bGx\n",
       "ujVt5LNJcwMnonRCfwvGPiq9YbR2P+Paaf3YG6TksmFVThYNCSjuTE47JsGXLDAYvkLIlG6lEeZH\n",
       "hkgBzXVhMRblbk4rMCQ5U+U07w2Q93VD266pSo7bC9LV10AFMhL3LX5f+fozt7Y9a7LQXmkqfuk8\n",
       "obfDzfZ2w4oLIjcplAbc/O3JC5KA6il2R27WSFYesz/ZNGRBBVUm90cwuKev3EGpluklgS5RuMcP\n",
       "maMO+OAywRcfVwASfONg4/CTMWThSKDiQXyhd1/sYihqkWl3X84vUC8Zj55xIg7WKCRR0Aoz/YOD\n",
       "ofzpaY+O6KUTKgXCOnMAAAB9QZ4WRRUsI/8ARTQXnas/3uHwPhNc9MNfl83rMw1TP1cXUJr0R3gH\n",
       "4e/aeRMh2QT5KAEknGBt0uwPqXZF8///UVU1zTdUyXKXMZqnum0PTCxPj/lpqvZM87gadPavVVaP\n",
       "NIiWKLMLsBLsPM88FeRnye1rWu5jow1834stW4AAAABxAZ41dEf/AG3urJB6aX09gp21XP8UoJcc\n",
       "ZvJVxMBIxA5zOaQkdXLOM3TbzXZs5+/zvkHE/oqVf4nI2radd9FNrX2BVeWFJZ9ZRwGE3D+vlNNu\n",
       "IwElO/gaFWog4Rp6DGSd4z0zMaOPROz2WDozdNNgb58AAABlAZ43akf/AG5CvzaL4VfiMwHM6xte\n",
       "fDOiLjdgYkjjUjww2IYzVeRi6saxnZGvxzaLVwiUBwIUXCy2UWuqsT6cjZPYtDQ9f2tQZVyb9LDk\n",
       "PYLJQj+dPIc6xHqlnZKzn6aUZ6Tjg00AAAD9QZo7SahBbJlMCF///oywANmPT56Y1a/keh1HEzaU\n",
       "0AtNq0cEkC4owUADrRtWqS/xbeB/pzg+9kmZCIwoO0Klm5soef2uSHOHs7W/+j2nw30Bwhw4Fwi9\n",
       "eD/GaCSHE6MYE7J+zez6e145BYIHi97+lb2R7Br+zsKUzJsyasawT/cHLI73dXeJGlzEoBCr9jQV\n",
       "XMTfc1mcqCsPWAv6lJT+g4R7dyxZWCvPJUA/Eue9nFg1sF1Lsz/ofSCjPSf71bB+vA+NDweB0ows\n",
       "ZrPCVWnZMMnm9O69nGhrYNAkDlI246EGu9lbTHf/EFNCCnCUqD9RIfbYFt+QcYhaFDZ2IAAAAHZB\n",
       "nllFFSwj/wBEfQ7XIHsBlK4q6cEAQ8yh+3HtlvCGQKWfpaEnwuPv7WDZvtwA5v8bmGmnZz5Rj2MR\n",
       "9t+yb+UNCKXPl8JI/eVOr4iH+ToQKjs9jXx1oVe+aAv4mtTfPuv5fq/0I9EU2oCVeUhk+wVWJzfR\n",
       "8405AAAAdgGeempH/wBufZATf8DnFxGymnb0fgLrkhwrhhV2CYd0euogXVWCV8Cyc12n253Fe7Z8\n",
       "ZY/67HZrPabE9ylISad9UmLnVnNnQtCTvFrBhbEkI6qBZNxkN4s04hVl3nu6mbLNygcTIdplDbNJ\n",
       "okgNVEPetYteZRgAAADaQZp/SahBbJlMCFf//jhAAzZ5w20BiGMAE9wLv857/WLDOhI6ofqRjKkK\n",
       "VJtlBbxuF02RdfMkLHpCvdbdgYugPNJpLNLlbM2b438Eknln64TL2YUbRQfPiE9fY+U1/kInSjjL\n",
       "t1ks53F1yO3DtcVjZqftqD7Nh/6E3CTleE2Fyq7Kxa3ADMXOl6H59OQ5wJHBhLKyIKDE6DLxljSF\n",
       "LElfxAP0sKuyUG0j3KskaKmjcJ+7L6HWvrZqCefeGj8rLfm5QRyfXULXQMmvn1QowCW8mYFCuidN\n",
       "STO2tOkAAACbQZ6dRRUsI/8AQ3Smckiq84YDp/hg3oC3X8Fe3F0VIf7BLsSJ4Z4eZP5V5cLzWfjv\n",
       "kAJrssdTleT2n5ZHRL/CPnincjKvltnOP/ECOvKwv70CK2q0st311x7OQ2zYN6017vLvd/SjSCV1\n",
       "lKKWI14b6AYt7gxBvflVcxvmdnUUY1rU+JocnsA+J+WNoO/3jc5X4zlRBu1w0yqRPt8AAAB0AZ68\n",
       "dEf/AGwmGaHSeWw0AeouY4N/vNA7Sz1zT5MqSfr2EOlLUe9AAmV68F7/rQSLhCdM/1DY9NX+uuW+\n",
       "9TozxF8yhfk98c5jQfdc6Kxq5INN7MQur45aYsrJ6q+pacTCiiTPgJ49ELJE7B6DYlrM9yo8WfAA\n",
       "AABsAZ6+akf/AGw6Tp6ec7R2Hv0PYWdD5llrNIxvJzx6JSlUy7XfjaGHoVE8zgBNR6JziXtZ4qKG\n",
       "XEh+0QsNhPl8cl2Y6gUk2RIoy5aJVTRHslLHwciB+XsS/lhPp4aeFtyFZer1iuwjG00QuD4gAAAA\n",
       "nUGao0moQWyZTAj//IQAMN/cs879BiekUrLGaQUe3WoXrDlN+VIJFn/lPjuf0Nj+a4axAB6dGVuG\n",
       "7Z8+tgAJXbLpC2iDdb/uDspRXdhI+4r85EvKyfeaYzxOJz2968OI3CdlpiSec3yDimeoIwVneXmG\n",
       "S7AW/D07HPet1QPWCzJlQG1iQsNj5baT2m4QiYnVh1eGRP94Zc0iIdAeXjcAAAB1QZ7BRRUsI/8A\n",
       "Q3SmkC0vCyo5JfmX5zga2AKAtEpkdP5q3OmD2vaZ9JI8NWCW41wW9KGrIQh+3Guu1occVuQMXrJ5\n",
       "snGiii4flmREY6KakMRP/ZL8U38lP0vSnns90bQUmtH+ZX5gz21Q03reE6RVku6CukIPAAAAagGe\n",
       "4HRH/wBsJpIio9qOraa+IM2sT+sg2iEIhZk4YkeAoHRu2cuqULb28zh2SZMDHiqHfxkKlvGCBbB4\n",
       "tcfbjxIiyRZ4W6M2D0cGrVISgGF0TU4YgoFDBx5UAn0Y5KIMp0PqF1ze2M+Mmo0AAABhAZ7iakf/\n",
       "AGw6Tp6ec7X591Wcuf021epMqspXgKusXDVyzARvL36Dwv48Ai2QwxA6U9TO4PMO4o3xxGuM8SJb\n",
       "1i4zXAky6UXWTLQlpl37gORhKll/T4CoWSMi3VT9K+fcIAAAB5Ztb292AAAAbG12aGQAAAAAAAAA\n",
       "AAAAAAAAAAPoAAAH0AABAAABAAAAAAAAAAAAAAAAAQAAAAAAAAAAAAAAAAAAAAEAAAAAAAAAAAAA\n",
       "AAAAAEAAAAAAAAAAAAAAAAAAAAAAAAAAAAAAAAAAAAAAAAACAAAGwHRyYWsAAABcdGtoZAAAAAMA\n",
       "AAAAAAAAAAAAAAEAAAAAAAAH0AAAAAAAAAAAAAAAAAAAAAAAAQAAAAAAAAAAAAAAAAAAAAEAAAAA\n",
       "AAAAAAAAAAAAAEAAAAABsAAAASAAAAAAACRlZHRzAAAAHGVsc3QAAAAAAAAAAQAAB9AAAAIAAAEA\n",
       "AAAABjhtZGlhAAAAIG1kaGQAAAAAAAAAAAAAAAAAADIAAABkAFXEAAAAAAAtaGRscgAAAAAAAAAA\n",
       "dmlkZQAAAAAAAAAAAAAAAFZpZGVvSGFuZGxlcgAAAAXjbWluZgAAABR2bWhkAAAAAQAAAAAAAAAA\n",
       "AAAAJGRpbmYAAAAcZHJlZgAAAAAAAAABAAAADHVybCAAAAABAAAFo3N0YmwAAACzc3RzZAAAAAAA\n",
       "AAABAAAAo2F2YzEAAAAAAAAAAQAAAAAAAAAAAAAAAAAAAAABsAEgAEgAAABIAAAAAAAAAAEAAAAA\n",
       "AAAAAAAAAAAAAAAAAAAAAAAAAAAAAAAAAAAAAAAY//8AAAAxYXZjQwFkAB7/4QAYZ2QAHqzZQbCW\n",
       "hAAAAwAEAAADAZA8WLZYAQAGaOvjyyLAAAAAHHV1aWRraEDyXyRPxbo5pRvPAyPzAAAAAAAAABhz\n",
       "dHRzAAAAAAAAAAEAAABkAAABAAAAABRzdHNzAAAAAAAAAAEAAAABAAAC6GN0dHMAAAAAAAAAWwAA\n",
       "AAEAAAIAAAAAAQAABAAAAAACAAABAAAAAAEAAAUAAAAAAQAAAgAAAAABAAAAAAAAAAEAAAEAAAAA\n",
       "AQAABAAAAAACAAABAAAAAAEAAAQAAAAAAgAAAQAAAAABAAAFAAAAAAEAAAIAAAAAAQAAAAAAAAAB\n",
       "AAABAAAAAAEAAAQAAAAAAgAAAQAAAAABAAAFAAAAAAEAAAIAAAAAAQAAAAAAAAABAAABAAAAAAEA\n",
       "AAUAAAAAAQAAAgAAAAABAAAAAAAAAAEAAAEAAAAAAQAABQAAAAABAAACAAAAAAEAAAAAAAAAAQAA\n",
       "AQAAAAABAAAEAAAAAAIAAAEAAAAAAQAABQAAAAABAAACAAAAAAEAAAAAAAAAAQAAAQAAAAABAAAE\n",
       "AAAAAAIAAAEAAAAAAQAABQAAAAABAAACAAAAAAEAAAAAAAAAAQAAAQAAAAABAAAFAAAAAAEAAAIA\n",
       "AAAAAQAAAAAAAAABAAABAAAAAAEAAAUAAAAAAQAAAgAAAAABAAAAAAAAAAEAAAEAAAAAAQAABQAA\n",
       "AAABAAACAAAAAAEAAAAAAAAAAQAAAQAAAAABAAAFAAAAAAEAAAIAAAAAAQAAAAAAAAABAAABAAAA\n",
       "AAEAAAUAAAAAAQAAAgAAAAABAAAAAAAAAAEAAAEAAAAAAQAABAAAAAACAAABAAAAAAEAAAUAAAAA\n",
       "AQAAAgAAAAABAAAAAAAAAAEAAAEAAAAAAQAABQAAAAABAAACAAAAAAEAAAAAAAAAAQAAAQAAAAAB\n",
       "AAAEAAAAAAIAAAEAAAAAAQAABQAAAAABAAACAAAAAAEAAAAAAAAAAQAAAQAAAAABAAAFAAAAAAEA\n",
       "AAIAAAAAAQAAAAAAAAABAAABAAAAAAEAAAQAAAAAAgAAAQAAAAABAAAFAAAAAAEAAAIAAAAAAQAA\n",
       "AAAAAAABAAABAAAAAAEAAAUAAAAAAQAAAgAAAAABAAAAAAAAAAEAAAEAAAAAHHN0c2MAAAAAAAAA\n",
       "AQAAAAEAAABkAAAAAQAAAaRzdHN6AAAAAAAAAAAAAABkAAAVsQAAAYsAAACkAAAAlwAAAXgAAACz\n",
       "AAAAbQAAAIEAAAFAAAAAmgAAAJMAAAEeAAAAoQAAAIMAAAFSAAAAoAAAAGcAAABrAAABPAAAAH8A\n",
       "AACNAAABdAAAAL4AAAB1AAAAbAAAAX8AAACCAAAAVwAAAHUAAAGaAAAAigAAAFYAAABsAAABaQAA\n",
       "AJEAAACAAAABswAAAKQAAABjAAAAZwAAATQAAACDAAAAgwAAAYoAAACxAAAAaQAAAH4AAAFoAAAA\n",
       "ngAAAG0AAABxAAABuwAAAJsAAABmAAAAhQAAAXIAAACFAAAAewAAAHgAAAFxAAAAoAAAAHwAAAB2\n",
       "AAABYQAAAKEAAABgAAAAcAAAAWMAAAB2AAAAgwAAAZ8AAACvAAAAdwAAAG0AAAGEAAAAcAAAAGoA\n",
       "AABpAAABVAAAAIMAAAB6AAABbQAAAJ8AAABjAAAAZgAAARgAAACBAAAAdQAAAGkAAAEBAAAAegAA\n",
       "AHoAAADeAAAAnwAAAHgAAABwAAAAoQAAAHkAAABuAAAAZQAAABRzdGNvAAAAAAAAAAEAAAAsAAAA\n",
       "YnVkdGEAAABabWV0YQAAAAAAAAAhaGRscgAAAAAAAAAAbWRpcmFwcGwAAAAAAAAAAAAAAAAtaWxz\n",
       "dAAAACWpdG9vAAAAHWRhdGEAAAABAAAAAExhdmY1OC4xMi4xMDA=\n",
       "\">\n",
       "  Your browser does not support the video tag.\n",
       "</video>"
      ],
      "text/plain": [
       "<matplotlib.animation.FuncAnimation at 0x181f8fa390>"
      ]
     },
     "execution_count": 269,
     "metadata": {},
     "output_type": "execute_result"
    },
    {
     "data": {
      "image/png": "[encoded data removed]",
      "text/plain": [
       "<Figure size 432x288 with 1 Axes>"
      ]
     },
     "metadata": {},
     "output_type": "display_data"
    }
   ],
   "source": [
    "import matplotlib.pyplot as plt\n",
    "import numpy as np\n",
    "# 1. Create a figure window. \n",
    "fig = plt.figure()\n",
    "\n",
    "# 2. Creates axes within the window\n",
    "ax = plt.axes(xlim=(0, 2), ylim=(-2, 2))\n",
    "\n",
    "# 3. Empty object (no data opints) to animate e.g. a line \n",
    "# Name must end with a `,` comma.  \n",
    "line, = ax.plot([], [], lw=2)\n",
    "\n",
    "# 4. Animation function: called sequentially\n",
    "# i = frame number.\n",
    "# Sine wave generated, phase shift proportional to i\n",
    "def animate(i):\n",
    "    x = np.linspace(0, 2, 1000)\n",
    "    y = np.sin(2 * np.pi * (x - 0.01 * i))\n",
    "    line.set_data(x, y)\n",
    "    # single return arguments should be given as a tuple with one value\n",
    "    return (line,)\n",
    "\n",
    "# 5. Animates the data; \n",
    "# 100 frames\n",
    "# 20ms delay between frames\n",
    "anim = animation.FuncAnimation(fig, animate, frames=100, interval=20)\n",
    "\n",
    "# Set the animation display format to html which the non-Python parts of this notebook are written in.\n",
    "rc('animation', html='html5')\n",
    "\n",
    "# 6. Play the animation \n",
    "anim\n",
    "\n",
    "# 7. Save the animation as a .mp4 file - if you save the file, it won't play\n",
    "# 15 frames per second\n",
    "# 1800 bits of data processed/stored per second\n",
    "#writer = animation.writers['ffmpeg'](fps=15, bitrate=1800)\n",
    "#anim.save('img/sin_movie.mp4', writer=writer)"
   ]
  },
  {
   "cell_type": "markdown",
   "metadata": {},
   "source": [
    "When returning a single argument (e.g. `line`) it is returned as a tuple with one value i.e. `(line, )`."
   ]
  },
  {
   "cell_type": "markdown",
   "metadata": {
    "slideshow": {
     "slide_type": "slide"
    }
   },
   "source": [
    "### Example : Simulating Physical Systems\n",
    "#### Spring-Mass System\n",
    "<a id='ExampleSpringMassSystem'></a>\n",
    "If you are studying an engineering-related subject, you will most likely study simple harmonic motion; a type of periodic motion or oscillation motion.\n",
    "\n",
    "For this oscillation to happen, the restoring force is:\n",
    "- directly proportional to the displacement\n",
    "- in the direction opposite to the displacement.\n",
    "\n",
    "\n",
    "\n"
   ]
  },
  {
   "cell_type": "markdown",
   "metadata": {
    "slideshow": {
     "slide_type": "slide"
    }
   },
   "source": [
    "A typical example of this is a mass attached to a spring.\n",
    "\n",
    "<img src=\"img/spring_mass_system.gif\" alt=\"Drawing\" style=\"width: 500px;\"/>\n",
    "\n"
   ]
  },
  {
   "cell_type": "markdown",
   "metadata": {
    "slideshow": {
     "slide_type": "slide"
    }
   },
   "source": [
    "If we assume that:\n",
    " - the spring is ideal (it has no weight, mass, or damping losses)\n",
    " - there is no friction \n",
    " \n",
    "we can use a simple equation to give the position of the mass, $x$, as a function of time, $t$:\n",
    "\n",
    "$x(t) = A cos(\\omega t - \\phi)$ \n",
    "\n",
    "where:\n",
    "<br>$A$: Maximum amplitude (displacment from initial position), defined by the initial conditions of the system.\n",
    "<br>$\\phi$ : Phase (the initial angle of a sinusoidal function at its origin)\n",
    "<br>$\\omega$ : Angular frequency (frequency of oscillation expressed in radians)\n",
    "\n"
   ]
  },
  {
   "cell_type": "markdown",
   "metadata": {
    "slideshow": {
     "slide_type": "slide"
    }
   },
   "source": [
    "Angular frequency\n",
    "\n",
    "$\\omega=2\\pi f = \\sqrt{\\frac{k}{m}}$\n",
    "\n",
    "where\n",
    "<br>$k$ : spring constant\n",
    "<br>$m$ : mass (kg)\n",
    "<br>$f$ : frequency (Hz)"
   ]
  },
  {
   "cell_type": "code",
   "execution_count": 270,
   "metadata": {
    "slideshow": {
     "slide_type": "slide"
    }
   },
   "outputs": [
    {
     "data": {
      "text/html": [
       "<video width=\"432\" height=\"288\" controls autoplay loop>\n",
       "  <source type=\"video/mp4\" src=\"data:video/mp4;base64,AAAAHGZ0eXBNNFYgAAACAGlzb21pc28yYXZjMQAAAAhmcmVlAACZ9G1kYXQAAAKuBgX//6rcRem9\n",
       "5tlIt5Ys2CDZI+7veDI2NCAtIGNvcmUgMTUyIHIyODU0IGU5YTU5MDMgLSBILjI2NC9NUEVHLTQg\n",
       "QVZDIGNvZGVjIC0gQ29weWxlZnQgMjAwMy0yMDE3IC0gaHR0cDovL3d3dy52aWRlb2xhbi5vcmcv\n",
       "eDI2NC5odG1sIC0gb3B0aW9uczogY2FiYWM9MSByZWY9MyBkZWJsb2NrPTE6MDowIGFuYWx5c2U9\n",
       "MHgzOjB4MTEzIG1lPWhleCBzdWJtZT03IHBzeT0xIHBzeV9yZD0xLjAwOjAuMDAgbWl4ZWRfcmVm\n",
       "PTEgbWVfcmFuZ2U9MTYgY2hyb21hX21lPTEgdHJlbGxpcz0xIDh4OGRjdD0xIGNxbT0wIGRlYWR6\n",
       "b25lPTIxLDExIGZhc3RfcHNraXA9MSBjaHJvbWFfcXBfb2Zmc2V0PS0yIHRocmVhZHM9NiBsb29r\n",
       "YWhlYWRfdGhyZWFkcz0xIHNsaWNlZF90aHJlYWRzPTAgbnI9MCBkZWNpbWF0ZT0xIGludGVybGFj\n",
       "ZWQ9MCBibHVyYXlfY29tcGF0PTAgY29uc3RyYWluZWRfaW50cmE9MCBiZnJhbWVzPTMgYl9weXJh\n",
       "bWlkPTIgYl9hZGFwdD0xIGJfYmlhcz0wIGRpcmVjdD0xIHdlaWdodGI9MSBvcGVuX2dvcD0wIHdl\n",
       "aWdodHA9MiBrZXlpbnQ9MjUwIGtleWludF9taW49MjAgc2NlbmVjdXQ9NDAgaW50cmFfcmVmcmVz\n",
       "aD0wIHJjX2xvb2thaGVhZD00MCByYz1jcmYgbWJ0cmVlPTEgY3JmPTIzLjAgcWNvbXA9MC42MCBx\n",
       "cG1pbj0wIHFwbWF4PTY5IHFwc3RlcD00IGlwX3JhdGlvPTEuNDAgYXE9MToxLjAwAIAAAAq7ZYiE\n",
       "AD///vdonwKbWkN6gOSVxSXbT4H/q2dwfI/pAwAAAwAArqxz6KZIGF3rxgACfGz+ErDXEBPBgUAU\n",
       "1NdOcIkyZ8UjK8YMw2/VI7oMOGZ2/1dFfsqChMoeI/qLW/S3Tanl358MaS/QPJfh7n59YtY4PNoi\n",
       "0h4hNH9gqQXx4mIbpL9yq6n7xtQT5ee40dN/XQ6/2nC30BAiyeyA6v0OCk+QlRdWPWXiWvttwDTg\n",
       "lc6RqQ71oDCtsnTKZ8hlMxtVVTUUqRYmVgfLFt+U0zrLbkRwN/jS+2ZSj6lCNf3bovpFX1mG/+Jg\n",
       "ZxA8SVVwJJv3v+1YXTo7JMb/vxjZYAAIPbyUlutZ7RyNQYJv98onGOfXZfzz/uGELc9zYRVBHEIg\n",
       "GwpFvi4K3v5MjqJbOHX2IV6QCK8SnMcgb9Z1GcZ4LWOOIlQHDoEdkjIAQ9o6ub8soLMZTmuCZXDi\n",
       "TyUQ7vrTaIITZjbOgj38sbKY9pnZRfpJSDhooF6+Y7/N4JhpELZsB3ZzCUPBbFoL9n6uzLvWzaLh\n",
       "aFjL2oqrxLRZ+4cMN3g9dKV2zwNqwvecq3dEX3/B1HxpOdSwzSmArEIUHd51VsJT1TqO4jpT8Ki2\n",
       "/Zf1jW18fCPtO/U3C5PnjGVB58KLwzy2gyCfApsM8bGVBVGTX9hU+FFfmoxqlNxYgyKg47lNhUTc\n",
       "C+BNCDxvkWcloqvfZSfMldfs319ylIMT0uXu5qPFJaeUjLf8ssXh8ljPnEFJNyPBsGpuoLnQeSks\n",
       "vN+MDfE2gs3aDwBhDL0mOHXRHqI/1oVzge4yeDSHsoe56qHGesd3LAXhISL4EwEbAUtrWlmypi8y\n",
       "ZSuTLRIOXIabu3WPWcyteRldOwZw1Rt+FWZAa0v0jbNnJ9sP0tmhTfVE34duhrvGG0jwAUOYiVEh\n",
       "bD6uF1/iDcc+Ha315aVpwgOfrnTaZG1dB8HbrIRiGIYGd/awe6e4OsVSyMawVOdPM9iGFLLr/iL+\n",
       "bF3tNgehl6YNdEUcgZD966oMtas86S4LGpNMJw3t++6UXZCLrH03TRmSdiRDV3R/228FosF2wkll\n",
       "7RhkT5JsgdkAA9+znfAm1ntXjGJNNAK9HnPzZia5LcygNZK48jeYZQDnVW+znR23QP+i2tTj4IbC\n",
       "P1/+Hh/M0EPopBZQNagJqOJvA0rUg4aTjMrZTSZDorRH5OdMM/GiKe2yML/yGWXcDt4LU12lpSYW\n",
       "LVnRJb/gwVWHISUBoVD+S+0A1XXE8a3YB/P5KP2InunWE7BvHS+aE2Gx0TRPmT3j0yMVXG47VpR4\n",
       "UbT0m21uZMNhBAAvjP/HfKe0f/HZ3+/KlznYsYPoDrDJAWtdiEMPK0MaMMD8OPPI0x5sgQcS3Jge\n",
       "N7kXod3xsE90MCbFRDGQYlMBYG4xS/f9deZlvZ7GIzagF8ntpCLByTwCjZz+4YurT5MzD4x/ejEv\n",
       "9RQJmdvHLTtrYJcxyoHbhqk1Jcus5PIXwIdngES+X8g/r8NSZdLesW85YfkU0St8+OveBG2Yu/QE\n",
       "TrcYKQerQbFlChZJv7/n7qhX0cof7wfSmuZXo2Zqvu4IHkIxTgyYLiYSohzI3zULb6b6eBLhPnvo\n",
       "JFB35z/XbmucqPBkdWXfDVIKq/lbun/pClYiVHP4SszkI/qHBw6Gjg3H3Rnr1qx/qOsTOVWIJXQP\n",
       "B8AIR7ePDZsUNvD/PofxVv5TGGpDYT5aW3mu0dIeF+y6CNwMvpiAt3cLQsvc5WcQstMSpNu688tY\n",
       "Fz06JTr4K0HsMMcgz+Sx6XSyKDzREwt4YaJ2Cj5RV6TOKXSpdh4g4b3M6lQgQTR7ZSY9gcg2hCyJ\n",
       "wUNXAyH4+2vnNwlkNcQBdno1Qf+DtXmrSG91yLarYViXoH2VNiJCiB4vdEGU6O7TFCmES+pQewd4\n",
       "nMpGshkHpgC8CMCo1NyWbpEBfiuzeQz2rU6J+ar/ngVcRLXRqZXjX9tmMzNWfBVxBw/M+uztP7QR\n",
       "dZNHoMP2zW0kc8Pr2bQj+E5JcCprWfEz6pRnpL2vSOBB210UiCGILCJ/vRPCrA5p99hSpxD81VF8\n",
       "AXTKAkcwKDPWsnzyqN0psIvWH35mr9SfQElf3MyLgV5oNPV82fdEnxBo8vq0KpXp1UGNULDpZwKH\n",
       "I4igryoWSART8MoFzRsEvAGS4a5qHndcvcjk6/H2JNOK9L2MXFGJrngLwBr+tL1FfX+EyDMoo0n0\n",
       "NUj0lHbAolYmQx3rqYrwkdBiaHMuPlONdLnIqicbn130+yyhEXjUnkL3mVTN9xBWYJAmzfFm4C5+\n",
       "tLu/U/5tt8EFCbxNLbf4dPF0P7iBQRHfTSzPkdxFmwbehTIiO81L5e+7ZGwFxOuo+uRWb28aQJU5\n",
       "DDu7StsEV4nO+97gYpqMTzzSmZo5oNUjKjmSD/nCTASVuE6WQ9NEB98/OB1Qw3FtyDlcyYpmdwSL\n",
       "21aSpbg/xBpmldlkcwXfEIExB/ETXMqfB+uzrI3uywc950aa0Gz8rwNpYdqGDoU6o6pNSNmAdpB2\n",
       "Q7KqxWzyNAR0tbh5XfGpsdc4p2Cng5gvjlPUCH8nbxLfmVeax5ydQ8UWa2i0cGNT7rm4xbd3R9Tf\n",
       "WSAZ9rnTIjNG7z8uvujbxDiz+i0XRNuRf3JOs+Y2Um6xFOFoN70yNDGKC6aaVdXveQEWtxp5xlLs\n",
       "blwUKQBkpwleiXr5dfLdvExS8+K18WLqBT3qazhyszzMmxKwZH0bg62QYG4wdzZ7Ti/6UOGipEUX\n",
       "6heEVnrzzrbU1FwYcRtK7pTHcrLhDO/O+ivkDKPcBQpPQ3o7ufUs5H0XtBVaYGnsDG/+HfLu6Wr7\n",
       "uzBmPqTqj9172yXwbgznhNC5R0gq1Dfe0ThAIWPtlhrNHuVDOWmLxhXItuFNMkzcPd71YQY819wk\n",
       "peQZW8lu/1/19FW/SAGTDH5DCgWos0790HxtD+gOq8oLb3lZf5dfl+vKKhm4w8pWOB0CVvBuY7+x\n",
       "NwNklbUWY7n0Edfi+FuylQ8IyCSuqsNVmefa+RnRPE1qMnyP9slbcwkWY4Q7Q7i+d2fVMeqRwu8B\n",
       "OHAm63C8OFG5VIzlxjgECyx69SX5jrw07MumxbQnyaDhmDrOgxMs1reGftSZXXc8OOlGAWxQI9lN\n",
       "5zRTuFrw3XrEFq75/o3ILW7/Lnip2msOWBy0jMvffSxgthxAWINyNt4sat+7NGuxMjEwhfuqGD/k\n",
       "Dp0MtHIfbNI7+/oyhcTgowZ9ZWIc8N2izgS++zmGrgaPU4pl35OA0+BeTr4Eev+CZEuZXqn3zvcF\n",
       "jhDMdrAs5QkK+KyHSTrK0s629NYoBJjcXZSeCWX2s+hpjOQt1b6+FKn0oYfq9X5PZhhk8Ijmmg+5\n",
       "pq1oX9gFZ4Z6Pf7N4wMomVu20p+//lNEAdBXevAPjbH5MGYUsV6fpr93t8pIdjwoeVOIZU6G6AKS\n",
       "ot8sliUUNQj8ECoawMx21LPvUa5sRU3YNfMDI8ranQraofa/pOh53+jtQi/5z2MHpNAz7k6o2DhL\n",
       "2R/VhyIQkMb/6seU8WX5I50XUP8KAdE/83I+TD1/6A4he9osliZ7sGbNoYwX2wv8F98sk49ndZt8\n",
       "sy/cHDp21MDNs8CIt/GIDkv3qwCtlHA9wxUcHwJSCzCXYlkM9FN61jkrg/VUPxEJjgp+AAAYospq\n",
       "wgAASxnpJFEAAAFeQZokbEP//qmWAA46+XgIVQLf/v/n7lJugJNnUJVxv55CoGDBqgVEE4+lx8Iv\n",
       "bdCj2UO6yQOiUkDHFFB8L2TNR5dNfy/3tB2fOH8jNiFEE8PVxgBIo7S9RIgBgn4MHLgn/PdVHUfu\n",
       "tDmS9rdAc7eoHj66fM2lkKLnk8SM8x9G0gUkEZzUYlgOUjxZ//4kfG09Oheh07uhO5WL//31eeeJ\n",
       "5CwzVoU7Jgt+m1km05dLrzbMx4ImgnfUlSg15LlsyooF3BZT0PotTBb/gH0/oG29kVSGDnI1ClfZ\n",
       "3XKfF0betBKLv7ShXX63i4qXsTZfpF0kwpOuRKd5pIaVu57t8tYksCPz3tRyFCXJcMd+KfDzYwOx\n",
       "UkXun/kOkgnjhJcCwPoBOzI5ZehVx3JdYB3mZm9/WWyBEKoKNiEnOEIwVBIfallrUPcXkINDZldU\n",
       "x12HwmYt8XCGM/8hSdS3kWqDO+AAAAA6QZ5CeIZ/AAyPxi2KW6AUdLGw8cR/ZQWoUj9/R+U48sOu\n",
       "YSndD9HHiPcDVOuuwOSMAN3ZeRn4BxQ4QQAAACwBnmF0Qr8AF0TDUmjsySj8RWZy2RvHBTCSCTmH\n",
       "uz+HwAABCSyAt/DTxhh+QAAAACsBnmNqQr8AAR21GHubAsygo4Y9HAkdzZW4w5WAnJ5f7S5WsE6g\n",
       "Q9BxBxqpAAAB/EGaaEmoQWiZTAh3//6plgACycYJXCGJXIDY+Xwif1UCuW/gkA9ioco20Zs3UgdP\n",
       "giC+KvG+ITkDwxMOkEdfM3MuU6UK4Gp8CenW4zPMwememyCXZ8HrlQAiweUM8dNb70mKHV/F8TM8\n",
       "oCrh/rAGbEIbd6kSSIhx5dq11cziB0vKCn5GIyXzMs6Vt8w7ItavC5Aq39n9MPlvklIkyueuv0yx\n",
       "irDAEvcRB//ni/B1if7uUYCYkA54jFlfrumZZMGa8OJhLxIaIsZh18wHpxCz0DyZV65ePnCLna/j\n",
       "Ivo4WR+adMYaOYEm/nTpu6+3blXUp2+rHMgI5t2OKAT9/Svah8jsJzbEroB0uMVDrzbi0Xxh4DgS\n",
       "o7CO04ExSDxrPFCcELI9brtmMdZ8CVcsHENB/eJ/vd+xkMO5qXpoDLZz/DU0hBvaYcVq963YiBW6\n",
       "WcbIslj1bOq7GylA+wI0HY/4KJ8A8ySAp9J/Vi/OoexqMWiaWHwZ/vO26zmFzHLnI/4pfT9E9qia\n",
       "yZ/Usg1RYifTOx1aX6xqdw2Fa/8ERIC2mJllX4JRLr+JTrtZ9UrFJewD5u3dRAUTQV2cEiE0Vsg8\n",
       "7nq7cKnlHGUT2iPccUAetQSZEayGGutRETlAZIwC2PJVXyt7PIo1FndKJ9Oo5VUJjQ3BeU/zKkPu\n",
       "KipPZzcAAABEQZ6GRREsM/8AAmtxAfoAXGP2kQ8/dqLoNqjQItiIU7ukY3AoIs4gvA5pv0CKOrlt\n",
       "MMLb5me4Go372l5bNQfHJMcmCXUAAAAqAZ6ldEK/AAI74QRlPVxM4TQjhkn/jl82JSi/ZJTv41eZ\n",
       "RGCd5ppAkC3pAAAAIAGep2pCvwAEd13KjGlyXMNUfDmEC/3UN2ETr2/2MkmAAAACF0GarEmoQWyZ\n",
       "TAh3//6plgAK3xgkAX4++nLPcyv/GbcGWUf/2KSAaUHPlvOOzWAg34rdJ0WfaHX/P/fkKTmarIYy\n",
       "WWknLlGyCLM8kclICz5L+YTUBhqd1tH0Txhnx6hvPPNjLW9cGkmRJ+Nj0X5wpz9zfZdS9JTcaIUO\n",
       "S3ODIiGyeHuAb2PJEU6sa+4qK5bviS10BIWoOu6ZiVIE6bBspVBdG+UYLA43QU/HXyrBemLFGanH\n",
       "EvwNSQpn+1TdDjYFcfZdhasFpIKZUu491e8jwDYQYEd/xZRu0okGFlfV/gegSIxnpxzeBPYS3zRe\n",
       "osdNcHK8OzmWKhp99FqKxUEARo4ql4YTNj0SMiKuEJV8E9nZthQ9gHb0f43JRxUJBABP/27A6PkR\n",
       "pvnGK/BpPdkN2yvTQKxat66sljnCl/thGDUUNTb3I/gcJPNQv89PAeol2xVzGRHRzmw2qK+0BFvl\n",
       "4kGwIVPDSCGDPA/muM+KkPHuu+hmX/icjSnyQGnLc8sf12WRrpKiSsrJ9zU4meudFxg2G0PmT4PI\n",
       "6DCjGgKnpKnbaD/kQII+SGvlSs9wje+Z5KWYDxZwiKmKJDAQ2vENzvfPnAKDIv/w2+u9riizaIR6\n",
       "U4LwW9wQI77QB8O6CRgykGghb7O2EfRnJjlQ/KOSCNp+I92+Nd/kt+ldmR7NZ8QibamHvlJ5RqMG\n",
       "anvoiZueJ0+6bCnRitMAAAApQZ7KRRUsM/8ACW3EA/jqP2hj26SWXlNZG0Sr6gQ8P7Xm5m1c9Upe\n",
       "zBEAAAAjAZ7pdEK/AAivgyO8WS3DnF8pbp4AO+/iIala6oO7pvqWg4AAAAAnAZ7rakK/ABFddzC1\n",
       "XqGVKwCvMJGeKAKGAUdaxfVETYM0xrJVogcYAAAAg0Ga7UmoQWyZTAh///6plgALK1jBqUBEhons\n",
       "1S9wrTsvadfUd8a+IDzvl7Xe7uMR2f7RQWuaizSAPHw1gF8M/tbl69bnO9kUW/XaTrUzyCHkDlnv\n",
       "jnfW0QbDO/Grxb1am8rbn/mvq6unsHm97rGFg9EpFuMsIEcZeRyD85vnfU+aEz8JAAABWkGbEUnh\n",
       "ClJlMCHf/qmWACt76EIQdNKiBEWGePZmwY1Rgsq/MVk8PNtGThhuB+MwAHXVCaAUHIGWbbCBhDzo\n",
       "OmHWuQWy9GwuD/5BB5dzPK5ZHM57SnZbgzABdVORogeATVwKZT1b4IJr+Pb8tjAgLlKLHyXtR0pX\n",
       "0332xmc9+Ggiea2LEeQX1NARI7MFcruBV1j2VF++7P/MeWWP8ieR4e3Vfiz8IQprmNXZRgjDoMI9\n",
       "jdFYSy0yI1LdEH/N7od9TCynziK73unoDG2qIxRgKyLs2arUr2QA03MTo83vNrKqxP4Ovzhu4FJa\n",
       "K9mnmc3HJQSnyGOYEasK0WriW5wbdud+01GStn12GgqfB7TOJLsiGI4N5Og+4FMnzrtr/KSyfzaZ\n",
       "AjaOKWgtKd8ThKNn914EwQYS8W1T2p7tjzFiPcAETLig8DHDTmLiIojBD7cP+DUI0PxVLprrWBEA\n",
       "AAApQZ8vRTRMM/8AE1uINBE2iW5xy9QxwqsARKKYNzZl/OK6BvUh5lNyGCEAAAAcAZ9OdEK/ACK+\n",
       "DI7jQowj4UOe9M59fvyrELC9IgAAAB4Bn1BqQr8AI70zKh6QsqGgEMmS3gWFYJ8s4qTVYRAAAABO\n",
       "QZtVSahBaJlMCHf//qmWAFb30PFuD+hqMjliFCP3qUlWffBVFLXzhX59GFsN6I5/+1AAIRVZy73a\n",
       "0oBHUmXsBKrGSRg//RHbEfv5rQcHAAAAIUGfc0URLDP/ACa7cTLEAVGAaELvjIOcj1YNKRYPL7mq\n",
       "QAAAABwBn5J0Qr8AR3v8A8tVICnLJ7VEfqv2Djo7TE2sAAAAHAGflGpCvwBHbR6bLFaOT9mf2w+u\n",
       "ShFDV4YFNYEAAAA5QZuYSahBbJlMCHf//qmWAFb+J1Xx6619l/2zgYHAzpgF3ODjgxKwtidPsvKY\n",
       "nhS3pM20rfaCHY0YAAAAHkGftkUVLC//AGcMjm/tXVlGPktz8dq4xLbqXAj3mwAAABsBn9dqQr8A\n",
       "itvF+EV6QoXKuefS/h+b+qBY+EUAAABAQZvaSahBbJlMFEw7//6plgBW/n5PxVACfIcDHFEz7WWu\n",
       "OxJRpJXkeRPNYO4kgripWcbjIfidTw/COPdjP3E6MAAAABkBn/lqQr8Aiuu5hajBaidNTeH7bmG8\n",
       "/ndBAAAASkGb+0nhClJlMCHf/qmWAFb+HX8hKaJgkwyOZ/RStobAJRLiUefaOdaOQHQVqEaKHQ3S\n",
       "9r7IjnxR2HuR15PCwy3cp7RryrFHBpNwAAAAY0GaHUnhDomUwU0TDv/+qZYAV1RlWZclQ5z+9Voi\n",
       "06tw+eFd4Q9b3anfU833GNV4p8bCBSWHMTNkOOCe7KrWQHo7dbV31/qyH83ef2fG+a7AIWneYTaA\n",
       "ejsqnQUfFK/2FCPMqQAAACABnjxqQr8AR0ch0l5jIq/Jw20KclQ7rO/cmFd9iaLkUQAAAFhBmiFJ\n",
       "4Q8mUwId//6plgAs3wDZHHnYB7E3mC3qgcAAgd3SczVaAhqFdnlM183DcU3ONSfb+8GEuM6ROURD\n",
       "QH7Utv1iA/+ljtCa5Gkvo2IZVE7kbzBPbgPQAAAAIUGeX0URPDP/ACaxWKEDNJkTTYoFDsO0Z5Z9\n",
       "0BjCiOPTRAAAAB4Bnn50Qr8AR4PjqVJmNIRXXBXypkcedMKw7sdXTukAAAAdAZ5gakK/AEVkJ6sx\n",
       "BaC6aNi88YHqa3wAEy5AgYsAAABEQZpjSahBaJlMFPDv/qmWABZvgGyOPOwD17QjAIynJjBNXemU\n",
       "x2P7if1V3RZvarRB1Ha60NF23eIiA2mbc2fBn/q/6hkAAAAbAZ6CakK/ACOyGQ4U42++W00yHz2a\n",
       "XWarup7qAAAAN0Gah0nhClJlMCG//qeEABY/eEsfA2VWYzDxHpTe2k2EtvLX/AMod9mur9gbIS7B\n",
       "dp92AcfeQ8EAAAAkQZ6lRTRMM/8ACaxU+kE90GYbHTFYrEjpxnEgkCj6F9Za6IIFAAAAGwGexHRC\n",
       "vwAR1zcmhJYDuTg1L4v+ZLgQy5DLKwAAAB8BnsZqQr8ACO2qgtFaVf5TRSqWpWO40xXmQs4v0b/B\n",
       "AAAAK0GayUmoQWiZTBTw3/6nhAAFj5l2AwPI9Pe8E8UgGaskDat1/IssI+qbzMAAAAAgAZ7oakK/\n",
       "AAR21UForSr/KaKVS1Kx3GmK8yHUM8vydbAAAABCQZrqSeEKUmUwId/+qZYAArghxRgrAcfd1q74\n",
       "j4RpMz/X8L4tDg8TdwPOUpeEhHNOh1fRrmLLdhlKDdZoLNnWZ/1NAAAAO0GbDEnhDomUwU0TDv/+\n",
       "qZYAAWbnnjBHu6/sOweGZ3W4Fdwe9fMK6ZgVrPRbmT5B2bEd+jkVXXDqlQ1aAAAAHAGfK2pCvwAC\n",
       "O9M2NZZUkt9uGayFnl7YEtRkaZgAAAA0QZstSeEPJlMCHf/+qZYAALJ8ZB6gRLj7gLsIcFGoHEfh\n",
       "VQZJqE72nLDsvvtcpbTBeWMpawAAADRBm1BJ4Q8mUwId//6plgAAs3PPGIOO3FowsLk0PtZbd4Cj\n",
       "HEnxts7tnauZACf2oC962//xAAAAH0GfbkURPC//AADTMs5Erqu2cSTummpXpTMBFi8sJYEAAAAY\n",
       "AZ+PakK/AAEdkMd0nG33CaaZD57NMEm4AAAAfEGbkUmoQWiZTAh///6plgAAWT5Co6AXgR5Kb5DA\n",
       "HhfGwiYgmJ2KBFPRtZ4RJw/+eck4BeHs87C8bR7Qu2MxmCliQKaleRnBP/pIchthBgLCOO5eigbA\n",
       "/yS9sJfmVIObXP2FlAiIhjA9qV3FdSzEUsHPRPf+D48T611HoFgAAAAxQZu1SeEKUmUwIf/+qZYA\n",
       "AFk+Tr9poC/W96f/BagT1n3GRyiEHgO6X0SwfvGFOlz4rwAAABtBn9NFNEwz/wAATWKn0gkimnl3\n",
       "BcTAusgDniAAAAAdAZ/ydEK/AACPCCLkG/S3T7g8+GuzJZJIgpWAiZgAAAALAZ/0akK/AAADAYsA\n",
       "AABGQZv5SahBaJlMCH///qmWAACt85suLrMDdugicR0jy3pv/BdgI17xt+mSLjh4yOdBUXyPsPkv\n",
       "hW1Bkas7UD+l/bCMKOM10AAAAC1BnhdFESwz/wAATXCJDdb2Y3li8b7bN9N6a63G/N7tR0CFGmGE\n",
       "3RuBqEJPbikAAAAcAZ42dEK/AACPCI5JtF3874Szznsq7FYFQ3zgUQAAAB0BnjhqQr8AAI7aPSPS\n",
       "DFWY8xCG9vvpbwKztqJ1gAAAADNBmj1JqEFsmUwId//+qZYAAVv5CPVgL11sMnL/r4xm/53qAESS\n",
       "b+J1cMwrz+Z3srZVBIEAAAAmQZ5bRRUsM/8AAS24gH8d5oL4whPKlw0AYqScYOPYE/4damqInH8A\n",
       "AAAYAZ56dEK/AAEd8IHieriZiq2vJ4OiySn1AAAAHwGefGpCvwACK67mFpMUC/QNlB4ajWP+viM3\n",
       "kRX7cM0AAABZQZp/SahBbJlMFEw///6plgABZPl96iHJMEAQJwAEledXenISt8/RsnaIcl5dgXjE\n",
       "1/q36po2ExspFEnBcBH1wZoIDBRZJ2+fGZ1Vze2oo8/4yfeO6HLXy0AAAAAiAZ6eakK/AAI70zKh\n",
       "6QsqGgELlb5c6P54nFlMzMRIpQMYYAAAAKhBmoJJ4QpSZTAh//6plgAFd4WSee7PwALqugwYm95K\n",
       "N+egjq/ph+LBaNqQ7OK+lEu8YxddgK+1AWEgh+2mPTkje0JWyX/6W2huKNgQ73PhCgztzXVfycHb\n",
       "2yQJfXn5fsYSNJ7b5XUeHIgxezdCu2D2XXWTwc1ATAYZHpozzMbiIHkUlBHXdxek0EAdEKVGMQpo\n",
       "mS7uSibdLnzqHSLVvxv3YmcKE95XmwUAAAAjQZ6gRTRML/8ABnFMh+HXaXorQRhLIuFWUAa+Td4y\n",
       "gXI/uygAAAAdAZ7BakK/AAiuu5har1CtKT8Y9125ZHIKFMjIe80AAAH5QZrGSahBaJlMCH///qmW\n",
       "AAs3C34Zu1iAE8KWYSOnGjRcaHuA0fydLMMf30Kewq7/i27EJYLNRg83uuN1T+b6mxGs2WQxGe4p\n",
       "UW2/ss5yd35WAG0AZiU5aJtf4TbuEcuM54zZZJ/2jvaI3tmkNMKUIydMJq2q57LoUi/Ui5Jf149l\n",
       "E76q1hDctZcx1RulkZ24z4FELsRqU/ExfpBthbWFGyZCBHUKNy+33NK5DoCT30KNqEIei+ceanT9\n",
       "GaH2sz2+KurrvoLw0b8ppe5462wQLlmS3qS8hv9hMSiCWaW+8BVbuZsFuWHhMXnwxPcJMS0/POqu\n",
       "28dVOgY++EvexHoR1ieWPrempf6aGGkkbQS1LSBu3t5NhtJmFlWRRiqWpkdY9gwUho6GQtMU3ex/\n",
       "FA6+oZOVC6ZiH8ogMp3HRliFISBVhapdj+M5G/S9SSLz4Ox5s0T6idrDI7UFQJLORxeIgHR6HqUF\n",
       "oAzP9QgBr9dKLzq116SrDRIEpPnZUU4JbbA01f1CqYcAd9FrM0li3ieM+019ygMiONCWRomk6Z87\n",
       "omZa4kJMI8xSurQvqWk+l1mFlRXUuKbQCRHlz3wD3RkQK8z0krirRuTXqGGhnGtE/sHNaMsqs0Oh\n",
       "fsCM7xgVhy48eQGJxZY6UVOoBCOt76hRFbJhJpzNLgbyHgAAAC1BnuRFESwz/wAJrcQH6AgNcZqu\n",
       "TzxeZUeav+yNgQ18Ms+7ZQpIl5LQdDrkfaUAAAAfAZ8DdEK/AAjsRdLK+jyBHfjEOELPRahvAk7J\n",
       "7CORgQAAACABnwVqQr8AEdtVQbMoWmDP2aDfZQkZjdsqXuaqL4l6QQAAARlBmwpJqEFsmUwId//+\n",
       "qZYAK7wsb32eptQAthBNtosqYfFq8GF6Fu1+iK61P3QPlGA3bKTpgTMQOdmCXDXO8Gm3/IPaDiJM\n",
       "aKcB1O69jbYfvoV+ihq4GnegjyOfQHnJ5QfIxzoVlQjyn5eDqnvZczrF070b2Q+6ZGMLCBk8ZZir\n",
       "tUJaBNL4tr/3T4aMRIeU5jLZvZ+WaWEGLH/4A10ysoV0SeonMfjJMVF3+B1DtbsEGNOfkzrhpoBY\n",
       "gtKfYxwiIxTnj+9PJsWUItEXcMWp8uL+MqvGrzpGnLiTy5OdjPyyUHyVUafq/nsOd6I9yQLRPii6\n",
       "wlO14rgcEb+2QjaJ9u/Pgk13ZOKlbf3rAjhZcOv+samEqLe3A3TugQAAAD1BnyhFFSwz/wAltxAP\n",
       "44MCuLpTY0SiQCogJIqPTGf04FErXVFMgCYK03ZwGQNmkC8KrETwqn2UjE797zRDAAAAHgGfR3RC\n",
       "vwAjvf4HTuajXCYcYIIjDK1aIka2cMmOqAAAACMBn0lqQr8ARXXcwtJigtUz7XYp1CDFqmbm8wX/\n",
       "Vhp59p1nTQAAACxBm05JqEFsmUwId//+qZYAVxrIDqGK31eJeAoqNvsVh0zqyLVRhdHV1REMYAAA\n",
       "AC1Bn2xFFSwz/wBLbiAfxwVl4sJwbh9k71qoJQVrDhf/zMOwVHOHqS9/d3nEQ7QAAAAdAZ+LdEK/\n",
       "AEdiEI9r+g8+wTj13D57o4L+KKQgy4EAAAAeAZ+NakK/AIrruYWkuIwPHMsunzC2KsklvT794NWB\n",
       "AAAAK0GbkEmoQWyZTBRMO//+qZYAVv5KcgY31sIBvXxi1aAw+05LOZZSFaDjsTMAAAAfAZ+vakK/\n",
       "AIrbxfhFekKFyrnnNeVi28c6oQN4Tu/XgAAAADZBm7JJ4QpSZTBSw7/+qZYAVv5+OCdH4gj4yfUL\n",
       "KAYRYklLo7JIQfBfkAvUYxdvDI2dpxdQW0AAAAAaAZ/RakK/AIrruYWowNZBZOYyELMryUS2RR0A\n",
       "AABHQZvUSeEOiZTBRMO//qmWAFd/rYRF+KZyb81mstELA49kWU9yy29O4KTsiMFtL4tF/T4FIe3j\n",
       "wnwqDBKZ0UQiFXKeqgTYcDAAAAAaAZ/zakK/AIrIT1abIUaGvsukcK/4DxOnCvgAAAA+QZv1SeEP\n",
       "JlMCHf/+qZYALJ8M04AMIDxp2uaOb0sOinQ0LY8otU+QZog6jtdaLb4EAgKof9u9VnxbEnA+P8EA\n",
       "AAAwQZoYSeEPJlMCHf/+qZYALNzzxgj/JfItYr6bMFBTy6W5Esa4RniyqNVn2c4loMWAAAAAH0Ge\n",
       "NkURPC//ADTMs5Erqu2cSR3Mwy0H7mCU3I+vOLEAAAAZAZ5XakK/AEdkPl4mSOKp43NcG9yBSFGN\n",
       "6QAAADdBmllJqEFomUwIf//+qZYAFlEN7wUAF9aCkHX4F1fcDS+a46dQIROw10eqHuwGhZgWZHmn\n",
       "T0p2AAAATUGafUnhClJlMCHf/qmWABZvgGyOObe9rUB+p/KjGNaV0xLo8JzJIXAJJjQYTuuYZYUw\n",
       "E9pj0b3Rxm5PuIzHfKVShpraTeIAvVsHdrG5AAAAKUGem0U0TDP/ABNYqv5edaJxlDoaeN75j482\n",
       "WeiKkAp/xkZ2KmCLkxBYAAAAHQGeunRCvwAjrnlNP1fCdhV0l56pP59kkH7t9rXdAAAAGwGevGpC\n",
       "vwAR3pmxrLKklvtw0CMr+HziRuNgQQAAAFBBmqFJqEFomUwId//+qZYABZvgC+xxxa4TqT4MWWpB\n",
       "xt/ArRCU+7UEo712RGmEkzXB0tPPatEpn7ZnwEUoPF5UuHLqBZBRSq6VHg/qciLO3AAAACJBnt9F\n",
       "ESwz/wAE1isUPklIvbZxKZSMNN/jEcWzGdv28WrQAAAAGQGe/nRCvwAI8H5sSoyjHq8TPMEKsuNf\n",
       "TcEAAAAaAZ7gakK/AAishPVprS3a8U1eCxxwltMJO8wAAABBQZrjSahBbJlMFEw7//6plgACu+4k\n",
       "0J6iIiImHFoBQyk4WWADW9ibsBWYDJDvBbWP6Mn5ZvHlRTv+f0GFdb+iOYEAAAAhAZ8CakK/AARW\n",
       "Qnq01pbteKaxMsRCqy3T9f4fmNKHBpxAAAAAR0GbBUnhClJlMFLDf/6nhAACx+4p0/4vYQaCS4S6\n",
       "0MwwNcMIxOVNuBquVim5PeZs8Zp0c0V0V2AYcNcqrjPiq8+v6V6Z6GwNAAAAGgGfJGpCvwACOyGQ\n",
       "n842+9j00yHz2aYJDKm7AAAASkGbJ0nhDomUwUTDf/6nhAABY+ZdgpjOKG8Q6MC3GgHfjrH2SPdz\n",
       "11eE91IIVx9b+jJ5lrx6WGUbjXAcl2Z7OSPrjmejn4Dgc1FxAAAAHAGfRmpCvwABHel4ay6ROt7C\n",
       "ZkiZqMST2/NDkIEAAAA2QZtISeEPJlMCHf/+qZYAAK77iTQ0Q4J90wOnJ8WKgTvsWIiHthgRG/xb\n",
       "DmdvHnBRN/2HFvoQAAAAM0GbaUnhDyZTAh3//qmWAABZRn42+WhNBvZMcwu0ITtQlZNYI3XZ4Xbu\n",
       "QdFLtKt/YX/ECwAAAEhBm4pJ4Q8mUwIf//6plgAAWT5rcuEQ1pa9P/fCieI901+IeUrcKwsL5pFn\n",
       "Bt7hXmSqWCcDf94g+4tKWMkRoX6CcO8kpjMCy/EAAAAvQZuuSeEPJlMCH//+qZYAAFk+a3LhENaW\n",
       "vUAD7BQJtb6W5UGQ/vqexUdVIUP1HSAAAAAbQZ/MRRE8M/8AAE1ip9IJNHrjPV7fHmoSJiuIAAAA\n",
       "HAGf63RCvwAAjwih4GZdoHJjg7IA6l44ydabQMEAAAALAZ/takK/AAADAYsAAABIQZvySahBaJlM\n",
       "CH///qmWAACt/LvylAD8PNQBrUcJyYxcfacVrq1kUvxIRWweJnI8JLwb5oqv1ZG5agJDxzZ/aGl4\n",
       "5UEib+hdAAAAIEGeEEURLDP/AACW3EA/jvJP8DiaBuGjstk9bV95PTqAAAAAFwGeL3RCvwAAjwgY\n",
       "pAl0aVA2nBCby+y2AAAAGwGeMWpCvwABFddzC0mD9+f5qGOt6Uxqg7EDJwAAAGNBmjZJqEFsmUwI\n",
       "f//+qZYAAWTptopbsrzvvLczITLUTA2VmogHRfcaI0fQlNK08dnWMopg5Lzga3OliR1o0ndlNrWV\n",
       "a87ZMd2RFUGKBVbMzO1/uZQIne3foGcr9l828zbHJCAAAAAnQZ5URRUsM/8AATW4gGpz+YqFVZBU\n",
       "Y4VJbPvyeamyQDVZCoG/FCSAAAAAHQGec3RCvwABHYiZopxYcQXIiDiUvb6/LvZkXg6xAAAAHAGe\n",
       "dWpCvwACO67lRywlG90tJWsb5Ar5ScIW4TAAAAIZQZp6SahBbJlMCH///qmWAAVvptoAWCypZxsq\n",
       "kWsa92bAJ8E3+Qz+Ikk0lBUj7l1tSOsZAfM1ObtR7Dy0ceNFIK8g8n65ac1aFUudc+Di3YOWwxLt\n",
       "6/I0eNshHk9PbQOo0KzpK1x6RCexL1Wkk0QE1d2s4KcMWErughd8TQR8hU0reAPbpAC2iiKAKMWO\n",
       "acr/vKRoV8tp/2j+K8UtNXDOdHPhiDeZDFjUhY0EUYMUnwWO7DNJkN/xnNWwg6vZDekeR5U8QiNx\n",
       "hnjTx/bxHmupANkJX00S+SgxQpK/ncCL9U05Gj4kW0aIn5OEp/cqmRFbACQ6VOTbyfqusLREFy9+\n",
       "ZfkX9MXgYEtw8aLwCI2MuxJMemXc75tRV9iXDWDWbzNm76FxmMtcPa+02yZM8j1X25pH3tfKtc4H\n",
       "4Fe/s9xG4tLDZNKqeZPPjm/OJxj3oo3XdlDKiXwIb3iDYvd3Xl09zQdRJTByUehE0deNOE7ErEEI\n",
       "91YFLRx1TXgOcabCHBTgUSbD8dLvwoVqVK9NfAwBvyndxTVlHTeTaGtirbc1oI0dZ4z3NSA55diF\n",
       "UKiPNRFYwiGzNyIMIWvyG5enBRIcVxTGyYib/MAXkyVBP21YE2vt96XNXeTJ69Pnk+IXgOiBp15X\n",
       "SoBjaI3B5m53I6j2GTNMxj+RH08aukCljzE1u0zXXfftxjgKcNjvZ+cX16eAGScQcz6dfjKZAAAA\n",
       "M0GemEUVLDP/AAS24gH8dR+0Me3SSy8prI2h8PWzTTtwpJomNacqDcuS6VdO3d4aKBXBMwAAAB8B\n",
       "nrd0Qr8ABFfBkd4sl2EJWddjgmRivjM3hrd1aDcwAAAAIgGeuWpCvwAIrruYWq9QrSk/GPdeV6yw\n",
       "P7l4JW37ztpI4RkAAAHsQZq+SahBbJlMCH///qmWABW/mH8zSVMI4dHe3P4Zu/BXOfUqz3GxCDZr\n",
       "qIIF9pFckSpjKo1AHiNXw56nBeOdNa3+Dzegxk+xpC4/J09D6cyNEcMn3/2EYTxigctpV5leRTBO\n",
       "fTmmegg3wRagzyfpFA6if9yBNsm0C7T1STAMGhSS+7z733tn5pfdxdcOE9sdD2MaCOPQROs0qU2Y\n",
       "47fElWmJfp0pFB8+ZQ9at4jEEcqC9//Q5/GTh438xzkPGdNj7HJ1t8GmCRSNFkys09RmHUB/cRAo\n",
       "Gl/0JmQhAEk6T+EsORacaIHWZrF7Hf5CBe9GHW9uTJ1PBi3HXKq+daILp0nijj2AMTZuvBMLFKIM\n",
       "wRBfTVOC0VT928/AbBN+DklVic37DPwybB/vrSADKJYvFnxhTJ7FpnFfTtmvYOXQPSzxIUnq9pYu\n",
       "1VBKXLYVe9uCi9ZVmjJLz8W9TJVE6J0Ntha/47xhhjaElg43ZwOut2q+OpYqJ92X0nX2f1dPHBIr\n",
       "RND+uOWNsNRJ+wdnKx80yMKhsO7+EiPG08TQg7iKOdlEn5SHqjk047ToNxcYI+IIYUeM6HDptVcC\n",
       "35oEKdb+CPBh/jprIJ1oZeCGcSsygGwfD9s3CXo8ULXBwkq1apn2bFxUAvHCiiodFhJbAAAAK0Ge\n",
       "3EUVLDP/AAmtxANVfXiAQidfvzGV5nTmpMbWQ0wWEwISkT7hBqs2WKEAAAAhAZ77dEK/AAjsRdJO\n",
       "XY4e/alOO592fz51VfbzjHEK48CBAAAAIgGe/WpCvwAR3XfXw3+RCp/nIEybvfvdo09Kx8ZxDRMW\n",
       "a7gAAAEqQZriSahBbJlMCHf//qmWACu8LG7OibUAH9IL5JYJSGJT4xI5TLqQ61ankzndSroDaE9t\n",
       "X/z6ZFGPcYDHLT4OhO14oSSlI4HvNEeyR0g6XYsdTgq4OUogV7kIaLcRdDv7ap8JVi4Gb5Mym+vd\n",
       "jzEx/X0ulyODDeRapCYWlcs6dAefdOy4Z1zV8/QIyyShd5/1djqpKbZ/bwfF9V6DeKZyyRv/WL3r\n",
       "6y2XOy2YPUif9V4h2FUjT1wTjxKn2kOGr4RNZUXuAZ2Rebi9l3d5H31Cv+S/e9ruqI0pD0xWcw6v\n",
       "QUfVJl4ZeIx70Ob2yGTJmEydv/zZcViBqRvn+N3kdtGzhhNU7XDHSs8+2mpRptOlSDtg94Hu+vIR\n",
       "SxxKwoMX4bZ3F0F/b7XgMg0KaAAAADBBnwBFFSwz/wBJYs/hcEKxLpFF41gh/1i16BD6yXxMRFCo\n",
       "NZDfPf+dfI1XJ2+1MiEAAAAfAZ8/dEK/AIa6HwslbcMh+ElkCgTWyY5qzfVPQuxiwAAAACABnyFq\n",
       "Qr8ARXXcws1bQ2O5gQJRbLHGu+vTH7z6/ZK6oQAAAFVBmyZJqEFsmUwId//+qZYAVvfQ+KyH+TTX\n",
       "28T8eZM71hA5nW8hY7tNsIpAB8yogU5M19n6+cNHixhZAUmHOXdQrDNJ16p5mVzVICG7z2zfsVez\n",
       "h8i4AAAALEGfREUVLDP/ACa7cS4MAVGAaELqlE8CTQkvU8ruZFSYWItaSmfJQWa7ZdbpAAAAIAGf\n",
       "Y3RCvwBHYiDva/o6Pra5XdSDjsBT3x6QuyhAWHdBAAAAGgGfZWpCvwBHbYRejOSt0IcmNdinN/n7\n",
       "TnTBAAAAKEGbakmoQWyZTAhv//6nhACr+j6nZ/THcLsPwAy7rEnbROLUI5dOmZEAAAAjQZ+IRRUs\n",
       "M/8AS2mGU0HXEYjUx1bHNvzHdOXm0bb8DyvQCkgAAAAcAZ+ndEK/AIrZzGu6HvYSW8AbqYXRRUKu\n",
       "rDIGBAAAABcBn6lqQr8Aiuu5hajBaidNTeJL1LSPgQAAADxBm6tJqEFsmUwIb//+p4QAq/rJzs/p\n",
       "bYHrUAJXizncB0Fp0IuBLessA8bkmW8bzvalHGmGQNVmWJInRkAAAABLQZvMSeEKUmUwId/+qZYA\n",
       "V3+thSaTab4OLVkTBtNmUThosl0tk8fraxXCG29Oq8CTzH1+2NOP5MPyYMuGQpO+LBT8xXoKnbvs\n",
       "Am0EAAAATkGb7knhDomUwU0TDv/+qZYAV3+thEVxD8k0dMOn0xL2vlPwpgqL8wNMbQKOVy5unPTG\n",
       "KU1hXPHh0c4iswZsPTk1e1VGGJ9mFoBlLAEb8QAAACEBng1qQr8AR204mgldNCD88G1cbPkjmuEb\n",
       "bvrCh5V/CqEAAAAzQZoSSeEPJlMCG//+p4QAWP3hLHv/GPbGYN73luftpvlFdw76PEj+Aw3e2ZVN\n",
       "KwPcOn8DAAAAKEGeMEURPDP/ACaxVFfQ/RdUma7N5FOLRLbcqIKqyYzXZoS0bRa00+MAAAAcAZ5P\n",
       "dEK/AEdc8pEaJSDNZOqKTdlmIOFyENYjYAAAACEBnlFqQr8AI7amU0RCVwxNFV4Th8QWEjvFPo2L\n",
       "f28SoIEAAAA1QZpTSahBaJlMCG///qeEACsegCiyc3hH2BrsoLTjFWP7dQl3Xazb0G0KFzJ/51pN\n",
       "Shyc0kAAAAA6QZp0SeEKUmUwId/+qZYACyfGvPXnyamTejSFZz9Dl9gKC/fjUxERRea/AYej2wQM\n",
       "EBoFEQs13jKBiwAAAFFBmpdJ4Q6JlMCG//6nhAAWP3FOoCsG/P6B4NfoSLKzYgImbFwwl0ZhrI4K\n",
       "fNQJF/abKMpuGBNLHd880CmF8jlvlP7sLlEQesfJhAK78LUEbj0AAAAjQZ61RRE8L/8ADTBisBwq\n",
       "udEokmuxhmbGyS9gRWxmGoazOdwAAAAdAZ7WakK/ABFZCerTW+C3qZ/sFjjhLaYYQHVYlbEAAAB7\n",
       "QZrYSahBaJlMCHf//qmWAAVv4uLjQGF3r3qtFZ816mGuyaBf9fKa1i9WYVoNleCrdBLBEqsz9n1M\n",
       "KLjSzrtdVBbjNwTSlUCXVGbdHf+9qzp6BRfrZ05RLGjQ+riyiIhCFCyvE2m2jtaE3sO3Wcbs3JGW\n",
       "rC43XfOkda+ZAAAAUkGa+knhClJlMFESw7/+qZYAAs3PPInA9W46WKDpNjlSu7zW5wEzy21Kw9gV\n",
       "TmPAcvw9pYG6JSSnobgYGadp10AR+AS6i626KxZupketllncJoAAAAAeAZ8ZakK/AAR2QyHDH5+9\n",
       "XIZ5AmWMeOyAlGBmAlIZAAAAPkGbG0nhDomUwIf//qmWAAFk+VZ/bCqkAOCa/5OLBauuPywzU5/e\n",
       "fnVh7am81Z6tvMadxDeMXZM/0Ak8j6fsAAAAd0GbPknhDyZTAh///qmWAAFm+FbS/65QTYg9N/cX\n",
       "hsACh8l20CvcXWNuMqpdNc7xTU+2T8oudnH1+/tHTrhWLAjyd/2B2R1s5S3kon7t030DwqdSgQJs\n",
       "KIqBdagyYRLcMIuTFT9QbANdd0YqJ29+Kk32ytq3dW+hAAAAIEGfXEURPC//AAGmDFYDhjhUAhUM\n",
       "woi+zgQGuPMF7FqLAAAAHgGffWpCvwACKyE9WYgtBdNGxeeL3LNbosSNZwZ6jgAAAG5Bm2JJqEFo\n",
       "mUwIf//+qZYAALNzzyw7saT17ufagoBmNwU6aW8+RjDRKgHOTONrInxojXJsrpM9KXslW2reJ3hf\n",
       "cwUgwcS0DhfKCnCH3a/rZlrotJ9SDJef0mybYbK2TG8oOpx9JLKR1tuFTwlkBgAAAChBn4BFESwz\n",
       "/wAAmsVRX0H4Q7qmTeRTYYHf+bT40Ps1AWQwF7qPZgShAAAAGQGfv3RCvwABHXNyMWRpu3wrjb21\n",
       "C/fNhPoAAAAbAZ+hakK/AACO2vg89DhehpBdX/SOVkDAfbMxAAAARkGbpkmoQWyZTAh///6plgAA\n",
       "WT5Co6A1NeCTupNdENQV4JW7fIkA5SLkjaFT0NHFm+7Gz+D6bkTRkoetRomd+WbLnLhDoFgAAAAZ\n",
       "QZ/ERRUsM/8AAE1ip9IJNHrjPV7d0Qe4DQAAAB4Bn+N0Qr8AAI8IIuQb9LdPuSgBlKovWhhh91Op\n",
       "SMEAAAALAZ/lakK/AAADAYsAAABCQZvqSahBbJlMCH///qmWAACuNY6dSkAbbM47ApX9DTfYLz3K\n",
       "LNnzazTPpeq2OaRZeoQlGAv+men8rU9A8307yfHRAAAAJ0GeCEUVLDP/AACW3EA/jgrLxkQRw9GR\n",
       "UoeXZluy0jH7kOKgwKwSUAAAABsBnid0Qr8AAI7EkFSdt6HLSvJ/3UE5TD4QBjAAAAAdAZ4pakK/\n",
       "AAEV13MLNW3DfdhoFqa4XK1REXsZtVEAAABEQZouSahBbJlMCHf//qmWAAFdQAlBNl1qW/Ww992N\n",
       "qcVk35UPmOdR5o13oEeORayeXHJZBhgIHzX/s9IHm7WvUbuVVBgAAAApQZ5MRRUsM/8AAS24gH8c\n",
       "GFPnH4FFxAM8q8vVapepXOXhz0cQu6WYzoAAAAAcAZ5rdEK/AAEd8IHjN6Z0GijtkdN3IyBCiyKz\n",
       "3wAAABoBnm1qQr8AAiuu5haTHXv0GkE+mu63hd/TMQAAAgVBmnJJqEFsmUwId//+qZYABW/kI9hN\n",
       "bM2fPZCPT3OYq5KJ6Xms7PgCckLOejOL54CATf7q4wyu7YZBRRJmYmoiIySfss2RgggZ/2VBTs3/\n",
       "bHHS//TJqRw/Vr5Zb0nvWAWpU94wDHUXZ5kfTFk8ltgJSY/ZGwifGzYAYdRSPNmv7CXKmvkvcI0H\n",
       "/wheNFgzho3pYA3/6ARO1HCOSLtUlA4yqyGT3p8dVV335+rrsj42YL17REuPd6IwQ92ofrSf0l+R\n",
       "NW2JvXgkqNr/fFRZVUvvCVg3L/+D1EkuMBli24m/V8c62sfytGWI+Y8Aub6TpfnVW+D8G1Exo/qi\n",
       "OnH9QUVUeCNVASFwX6/1qdHRHYpxHTi+tMWes8ViwSOVKPyAnA96at4vL/MJoCKcxkwQOlZtzmLk\n",
       "NtkAl8ASZUuIumcWuXr45y433Cxu5hFm505dS8LkHLk4WnImb0QTj7h03KbWdlLu+0JuuUy4JoRd\n",
       "6qUgtX6X4EZ9r7YkPym8xgtZ+KWkoEJzXc94Qog/DyDjgywsESWCjjYRvokLXH+/9m4won0Pkz2P\n",
       "o03IM4qQGAJbNM2JfGSm//nBfqggGGNZsblirWv7VJDWf13qACy+2EX/18KudQklJtWx8JTyGeXR\n",
       "HdJcSJsA2XswsZ1UUNueqLpqpyBcCUX4/ZqPXBb7e0l3hokrgYynAAAAK0GekEUVLDP/AAJrcPYc\n",
       "yPzrX+yJVyjL9Mop/oAFQ5YdV2coqrm4ABrm3oAAAAAgAZ6vdEK/AARXwZHeLJdhCVnXY4QZ/Yph\n",
       "o1iXrnpdSFgAAAAbAZ6xakK/AAR3pmUVJZsRXP7HCzpyD1hTm0+hAAAATUGatEmoQWyZTBRMO//+\n",
       "qZYACt/IFIPJczv/6Or01P8zic9t7b59rBlPDTT1UetqPLh7/va61UDSOubnyOR+XJVlFty3hB0o\n",
       "BB0pz913AAAAJAGe02pCvwAI7aqf3NgWZQUcU3I4ElZvXQEp7sehAseD1S3tEAAAAidBmthJ4QpS\n",
       "ZTAh3/6plgAWbhb4Gc+AyfhpKvv6EFo51D0++0KPRzzVD0yTfYwXLvmEcENTkcY/P9QKqWffc7iN\n",
       "73lvcl0RrYs7jEjmHBKp6/3BsXAFgcLNnt/Rnt9SRtPewdntzOD7Vix1cMKnB+Ol9sfCNTSATDoc\n",
       "JcUWufuqnQr0EgrxLGvGpWE8ubWRDM6ArYZtiCU3J7gOYSArf36xT4MLgIEVQIqTLQXzNOdISB/B\n",
       "b5qQmnt9cXgMbn6nWb+NhaYwXRTiZW+6mCsHk3t03/jAhS1NjzPEF1y7z31gDyOUIVwJ2nTP+IcC\n",
       "02UvnY7loCCVx+ZYTSW3e382u+0pEudTYrvOngtxNZ5Ns1vm74UDNP/cE8J2kBETYRtJv4tO2PsX\n",
       "BkijfO8sCzMaIcUDHYeKGhcy4tCh8nM4xSnRFmpET76t1SpgdGJDzK2gtdaOecRMb3x2L+gQtVSs\n",
       "ARDITP9maav98Y/y//Jsp42y12TGLQqOOKzHJl7p3c7KP1Ynx/BUyJszV1I+B3Y2rxSXRXggNHbt\n",
       "mtvtxrTXyWVlg8aLXMLASNpZRbsQ0FPAwZVZgY+sZjJ/coTsyZ9sR9l3ZC8yCdKfV15xJELrXUqC\n",
       "ewIPK47aQFYqArynrSfH00WG2SZbLoCRKAuriV7sjDaYf1XcRV85Ys+kUcAmZeoYn0Xn/BeM4LI/\n",
       "6sKLO46XjO4fZ/+g5XgfNm6IPXXh3fx9FUvTQ7HLfwAAAC9BnvZFNEwz/wATW4gGpz+Zn+Zps9If\n",
       "kL1CGlR70opvtrphKI4NuCGm8/F8jFT8gAAAAB4BnxV0Qr8AEd7/A638m2cj1O2EixK2LATx/10B\n",
       "YP8AAAAkAZ8XakK/ACO64hu8LFvubMnZv9Pf7iWMxSvIx9ep33rRfJdxAAAATkGbGkmoQWiZTBTw\n",
       "7/6plgArjWOnjVur6y0GmD+voBUCi6XYipoU9q1IP6uRtCYpj5kbe3zSqVxIJ2jGx+ayiqdxFz9j\n",
       "3S338O00tXEowQAAACQBnzlqQr8ARXXcwtJigX6BsoPDKMCDygzkU3369rHMPrCgnhEAAABeQZs+\n",
       "SeEKUmUwId/+qZYAVvfQ+KyH+X9K+3h0O4gHfWEDjab4YGPE9b8QIVBz7/7oY4f1SIpmNks8L374\n",
       "trUnfev48HzuSTFIwHzznIwIxq2Mp2IgSwa8b9cWbV0wcgAAADFBn1xFNEwz/wAmtJdU+pa3xrZH\n",
       "vZHNBBA5iaFQ8btVoxBZ+dtJmkdZtDR1Lay6No2BAAAAHAGfe3RCvwBHYiDva/o5+aVsCPQQV9dx\n",
       "L09YkYEAAAAiAZ99akK/AEdtHpHpBipVU6sV77U+gHLZZijJzavQJxh/gAAAADdBm2JJqEFomUwI\n",
       "b//+p4QAq/o+p2f0tnJpWfgDUP+PQGu1PB29aBCchuWo55s7vg9X8mFbMLm6AAAAKkGfgEURLDP/\n",
       "AEtphlNHFADRuYNDiMPLJcTwWgc3e/DNu9YSIA9YetZXwQAAABYBn790Qr8AitnMa7oe2Uy6xmgD\n",
       "ukLAAAAAFQGfoWpCvwCK67mFqMFqJ01N4fsOmQAAAFdBm6NJqEFsmUwIb//+p4QAq/rJSYSpQFw0\n",
       "9xekAT6kW6npSRmamqgYIfVOUu+39jYzDvcQb4Y5VG/n3Pw5QIoF5S9asYQYYOLNynn6wzW0r92H\n",
       "SkIgUUAAAABOQZvESeEKUmUwId/+qZYAV3+thSaTab4OLVkTBtNmUThoe8fBVF8zdFoIWPQH990z\n",
       "EsyMEGksPqxmuZQJUIwhXXFVTCFiA0ttZN+0uUSBAAAATkGb5knhDomUwU0TDv/+qZYAVT3EqR+K\n",
       "ssYBq7cPUfW5n3sivM6h9Pm8SrtlpvPywbxB5fFg3YCiHsFpb2KdmRfXrxCqP6Qi4y3L2vpBRQAA\n",
       "AB0BngVqQr8AR20a2eRqG6aKoIlLo9HOqJPnp3ELCQAAAFZBmglJ4Q8mUwId//6plgAs3wBmhEim\n",
       "VDUzyfQMGTgG6SsrmWLMPYJ+qE4j8lz9DIJPWZUa9SiwztGcTRc1S4tGPfHo9nU48pNL4jV2SAbz\n",
       "KkTM9n1kYQAAACBBnidFETwv/wA0wYq9iefODyv+qSl0nqbPNDE8pK1kYAAAAB0BnkhqQr8ARWQn\n",
       "q01jY1j5Ez1qjVh5jCeWGPaRgAAAAC9BmktJqEFomUwU8N/+p4QALHzLsBgO56aZ9LqR/evtG2JK\n",
       "adWKzk87QxXqfd2aTQAAAB8BnmpqQr8AI7IZCgD6Teq3U8gTJHrD1gSZGJ91cSygAAAALEGabEnh\n",
       "ClJlMCHf/qmWABVPcSpH4q0IOgaZY+dAERmxmXC3YTny3FONI5JBAAAANUGajknhDomUwU0TDv/+\n",
       "qZYACzfAF9eEd2AorXHO/iXwJpq4/cCGu05007hNijvjANFBbReRAAAAGwGerWpCvwAR2QyHCnG3\n",
       "3y2mmlDZ6LbkIZSkIQAAAFJBmrBJ4Q8mUwU8O//+qZYABZueeROB6tx0sUHSjD4SmTtN90YPYFbJ\n",
       "jwJ4KTr2fpFX1hjevw29OLzi9U3+I8RW4u27zEMkpvPpr/qenTI2T0xZAAAAHwGez2pCvwAI7IZD\n",
       "hj8/erkju0wIbxWyOhgOkk1Gv8AAAABfQZrRSeEPJlMCHf/+qZYAAsnxrs7B2sr6AQkXAFhsiUmg\n",
       "ne1PUZpqVE5yKsaWG3SA1MVV8/R7oYjCs9jvpxc+Xw7o13DJSxwCQu0ftVe4dFjlb6O0rI2TYAXa\n",
       "dWc4iuAAAAA6QZrzSeEPJlMFETw///6plgACzfDI/vs1Z0OiIUWxJMghARr3rRpL/2AFQVoIugQf\n",
       "+VmfNYODmNQQfwAAABwBnxJqQr8ABHZCcltEal1h8pKvavrjFPy16UAUAAAASEGbFknhDyZTAh//\n",
       "/qmWAAFm+FbS/9XblkNWVV8k5OP0tsR4CgjM7e2ZpCR9OeSSNnxhIX2CJCWKkwiOQNRWXzTC1sPc\n",
       "8U5xgAAAACNBnzRFETwv/wABpgxWA4Y4VAIVDMKIvfpLtYkJx4MqX4SOIQAAABkBn1VqQr8AAish\n",
       "PVprS3a8U1aekcK/4D5WAAAARkGbWkmoQWiZTAh3//6plgAAs3PPIohFHr/Ax7ydARJ60OI+Zdxg\n",
       "j+K7lPW6U7cn50DRH27UhKd36bfUpG+XVAiIvrlA5aEAAAAmQZ94RREsM/8AAJrFUV9CJqbuqVTz\n",
       "1U2wp6s5kgljFqcBhMpQ+oEAAAAbAZ+XdEK/AAEdc8pEaJR7GCypgRQ6659rdt3fAAAAHAGfmWpC\n",
       "vwAAjto1xkiLArAN7txQJ81Cc+c6C/0AAABVQZueSahBbJlMCHf//qmWAABZPhm40CZ5f3KiAiaO\n",
       "T7upuglm+/9tNYAlIoXn6JwYa2P9e+bjdsc5jUxXhm3qZ1s4TG54ol/fZeY0gqImJkM1fAktJgAA\n",
       "ABpBn7xFFSwz/wAATWKn0gksc2IENENMd9IwgQAAABwBn9t0Qr8AAI8IInAzKvc4jytKl/oE3j2w\n",
       "w+BZAAAADQGf3WpCvwAARXX+COAAAABSQZvCSahBbJlMCG///qeEAAFY1QfCh6aauyznVP4mFipI\n",
       "B825p04Cn4x0uqyXz6tFLwrcBIgaxrZzQqRu2+iOQGHiXWrGyAZteiv7zXgNzMMSwAAAACZBn+BF\n",
       "FSwz/wAATXIHoHdfukt/P4TjfmMEAs5jMYsR1m0qdoH+gQAAABsBnh90Qr8AAI7EkFSdt6R0jd8S\n",
       "jc9c+NqPyOAAAAAbAZ4BakK/AACO9JrblOG6TEF6mAjzkM2KiqpzAAAAOEGaA0moQWyZTAh3//6p\n",
       "lgAAs390iDnOyTv1R6anPaYRi3DPc/Cvv9iEmWY6e+F9j40I8rLt45DgAAAAPEGaJUnhClJlMFFS\n",
       "w7/+qZYAALJ8d6NgAvpOMRpwGrJOPSkXLtyLfwOhyXVrcY0Mqf2ZFhH8ZKhLcqjcyQAAADUBnkRq\n",
       "Qr8AAR21GJIaAbHsx5w4d3q6hxjFiBTpge3HECfICAdcj8+sfjTCG8OMRShNn1fhQQAAAEpBmkhJ\n",
       "4Q6JlMCHf/6plgACt76En5SHtKG50/FukqipA1IHR26RNFICOj2pKDCnNbCF76FlJbf9kj9YCCHD\n",
       "MLiR+9yWan7xps09gQAAAB5BnmZFFTwv/wABplMR5LPujae99KrM4agYKlFNDYEAAAAaAZ6HakK/\n",
       "AAI7amy2ZQnMKfMU/KZePthOluwAAAAmQZqKSahBaJlMFPDv/qmWAALJ8f1osy4M3MPfxGj/fMZp\n",
       "t0pHFF4AAAAeAZ6pakK/AAR21U/ubAsygpWlETIyec8fXRszKDGFAAAAQUGarEnhClJlMFLDv/6p\n",
       "lgAK38gcM8nlP3ygHEpT3tw5XneDs+knfF9MDlPDcStn+vb1Q3Zv0VB4/MZYTF2Iq6XAAAAAHwGe\n",
       "y2pCvwAI7rr90uV4VVq0kRbQeXpfLdU9nSrxPiAAAABNQZrPSeEOiZTAh3/+qZYAFb+QjxsgpMQZ\n",
       "eqqEYwOpu+AKI4gwK2m+F9jxPW++E66hwt0KKKc6JwvyO6nd7X/unENcYIHJ/NgIEsbvAWcAAAAe\n",
       "QZ7tRRU8L/8ADTKZWeghHnVnipXjBSN+JvIDkSqhAAAANAGfDmpCvwAR3pqC3hvEpHMrQ8Oopl3+\n",
       "UScGCNTpge3HECfICAdcj7Cx+NMIbw4xFKE1t00AAABxQZsSSahBaJlMCHf//qmWACuNZEEoMAkC\n",
       "kBQF/LxflvT9Cjl/KuZgUVLEk9WD9XHcIu3XlFfnrS6dXH6v9rOUN54FpmjccqZ2cPpq457IpWI8\n",
       "Xf10gbAADC3uVDKTXsLRhB3IG6msIx8BgfuXTG9PDGAAAAAmQZ8wRREsL/8AM4pkPw3yAMyGWipB\n",
       "XM7XQskkzBYtNxgTCU3bLFwAAAAkAZ9RakK/AEV13MLVeKlotWirfuw24oJS0FjraegOBWKJDOHd\n",
       "AAAAQ0GbVkmoQWyZTAh3//6plgBXVOBr8zepr3jshK11oPiaNSoQwcQsAvPYUn2q+wiZwsGm8wEW\n",
       "6hD71ulSqj67DTbHwCAAAABGQZ90RRUsM/8AJrSXVPqWt8a2R72Hn4OOV/XZcOUDKH4vcd3+/gZc\n",
       "chBja4bemNwxcQEc9zIs/uN6GZHwDUlYeSaonyQRgAAAABsBn5N0Qr8AR3v8A8tVHuNdjyxcqCjI\n",
       "J/Fwm4EAAAAaAZ+VakK/AEdthF6MnI2yNenJZZJYqKqSKmAAAABIQZuZSahBbJlMCHf//qmWAFb+\n",
       "J1Xx6619yDgBzD4dNV59Q/vRyxcWaTnWC49uNb2GVGeGaE+MhUY1raMtCJ/VyUyOHnr9d/PBAAAA\n",
       "HEGft0UVLC//AGcMjm/tXVlGPktz8dq4xLGbIo8AAAAXAZ/YakK/AIrbxfhFekKFyrnn0v5OEUkA\n",
       "AAwIZYiCAAQ//veBvzLLXyK6yXH5530srM885DxyXYmuuNAAAAMADN2InuDwrXQ9FeAAIN5X4SsN\n",
       "cQMNP36NArDFn9cTkNhoRR2ncMSUfpR+C0gil3MP12/UbLq0llPzOcLDX1/OfTBOv5ygNuVRor5Q\n",
       "0nOHuf9mXAIs0olvtTEW5Y2I6JH3f0lXLhGrbdXbFy3UslzVs63gkkGN41CnLO+I+oI+gc6Hf9pw\n",
       "vqqXcme+cVKkSQq91NDjkJGB8iZ8eAUesA04JDco+aqyQSgUTzVm2r4XX1inc4wAmVgiLxrhlJyX\n",
       "TDaG7d02WHvpFzoh0tcFrfGLT6Fhx4yOmmC79wA4i21AS6aUIl2iBdsaCyTBdZywBVbF2VczgfIv\n",
       "WWFniLkP+FDGCNphQshqoLDBKNeVlnkWKMATFXWYzlNepUKbf78a4LL3TAI8U8Xo9GIeSQMmxeKC\n",
       "lpVmJ+6kKzc1eKp89XXBoX6WjqkxAEfXkCOpmsQvS5wgXKALzcjeOard+abg1XU3PxJDIlmd8cAB\n",
       "EObLC3YEyPoVP7HwdatSlxHXg415pOpaZxfMKlcARi6sG9Fbfe7u1ZAFSRDxbc5cPsgssBvK8c0m\n",
       "g6WtZEVD97L8hA8nbiEaK9vczkqIyxcaqSkXc2ACLDyzm2Mm8GWK9oVYcu5uhxr0c7yIKjfhpjEJ\n",
       "gH0DXiUVCtbzjfVBSorYsL0ry9j5gF8paUTk49xEtHhF7thPbGLTVR5UEmCzmB/aaRuhP6W8zxsm\n",
       "sAgNGJEK73XDLEjuboO6cRxInDLJAGAoJAyw40Xy8m/JDGlsHRj0GQDWrsDhwflmm6pJEj6vM/UZ\n",
       "GkMedjFFRb63TZs6PsPY1Mi6qPceY7bBx2ZhH2BCOz8T4BN3NJALtgfU6Ec6XIFOcDGspyx1AGxc\n",
       "SfPikdRLbICaGZwT8t9LF5+c7T5P/7DROF/vp+3rk+9NMn4cPH8HPW/ufb175vsAuS/VhuAbtoU2\n",
       "gFK5sAgr55N7nlMxqgx1vSoP1EKUW/7cO9BU7TsNEsPp/UNjKIEPBBI5V7sj5kypQx3TozzfYcA8\n",
       "nuW6EkGaz3y958BmCb4bLGMaA3dgNJMLOjfc8SwKbgEnS/uIExL+ge2c/YvRLrNcoRpv5Pcq3Hvp\n",
       "BnA/Whp+X7uIjiRXZnz4uERNM2UlDnt+q8SBkIDJOx2j7wF2xrDOzwf5PhizTHfXld1prwHBRurc\n",
       "dVh6DX/lhPmDaf/oEdIBK53FGap0X+WUpTn/xry4tRguVEcoXAcBztpIDKejZEx91caDRaKd3ytj\n",
       "y/qdArXmiv/oJIGig+Zf3EWvPWMOpfQClHEKkFQ8rg7O9S/LABzCB+rAxMmEkcb8StiGgkX7ztKY\n",
       "AuRLGSXf5CrlKGF4Ios0XNDujgvktqxqFSID71olygwOD7aLgB+p5I2vZSxiYtWmKgME8ja7Adxu\n",
       "7OWSLIwd7q/WjMnB/IQcWr4kUVimWbr8J8v+5tfe5aZf5TIFa6P1MQuw6gG2IPETOfTxh8Mw56AB\n",
       "vRwV1cmShVIgSfewHUmvSuIxp1Vf3DfvPZRCWRtg8IET0KNUoAUrAj4UXJLpE784wRxDquyxssZA\n",
       "waa3K1vSl2VUInvKDK1F+sI0GR8e/36Y965aE3AnbkCZml11z0drSU9No6WwDy33aM3AZUVACvbj\n",
       "duP5M9/Y7T9+yBFI2mI30wGk2oRKXhncUt3Wv6/Hu8dnUiOuADDvHZeighv19gnhbnvfXB941kha\n",
       "pFHi9CkFWcGHwv3aaC3tHKFrD/Max/QVKjUdwaAbnv8Qvi6SDwVVUwaWOkb9yk6H/tSuxoZcYSNK\n",
       "6lWMWTH0ZWMYE0TCOYahVt6PC94vrgA/nR99NRhRbwRIophSr4cWHlH9LeQ/+f+997IBHNN4nu9t\n",
       "K/2AwhPa0OJ/YfPddmo56EjQ14b1a4jybjF+kydOwwp8xoFGXPfLmLgqB/vKLN07C07tBu5uihQf\n",
       "X2PjV/bxnDbc0LF8fo2RqIWL8NVTvQyIn33z9uNRoSCzNsfAqE4rAOgxRW8DBU61d3ISBw14NuCf\n",
       "J1tgqWpj0zVl0QOr24BlSTP+elDHw0mVKc4U8ay9/mlBJ1fiasxxpxgsZqGsgw8EmKdKGPQqJH//\n",
       "/+mHqlhe6ve3tuKgiXtT0YJ6xECowAPqb99nxBEcKWe8K/PJPWxJObKeRKFuP+NICSbD4DgMk0wj\n",
       "+0qUcu4lxj5I37TDjy6rTW4rscBGIK91DQ2N6qJXBqoqYX/2jeGVnbqeR7zxNBHNdabcMlmk8xUy\n",
       "VvGHoYPOWe2KoqEEgPe2hO8EuPhvf8f6AKrwhirk9ulFjRlnrD5L0TpETTxUwMhoBtKPQI647xcm\n",
       "PqtsQ1OvzabJyj1R5erd0eSb8wOxwP9+4OeK7YAznKFPka9w3phZe5NAcWPYgIjEmGAdzgIsZkBd\n",
       "Ymv/KrewO7hQjbdznMYK0PRECeuAY1snzZNrRDWHoOh6hNiZLD33N0E5jfOE4XYFCs0PUnrH3GmV\n",
       "VFOgoRJmkdUWJa75dCfPMpZNOGBq2mpMZKWOFptxYFf7xCDu1Dl0N3ApisRWxrt5wLXA7DKPFTDc\n",
       "3xQWlNqIne3TjW9vX50nCU2z3NqgnbJ2LmKF/4v0oohcKdijJ1orCkD9IwUoee7At3oGE4681XMn\n",
       "D/5xYqaswbobFlfHv1AAnwSEwCIx1/cSKcjutvn3FV8tqvr80JEimvyE3cHTC6MmFCLN/Wo/h6Nj\n",
       "9TJbOZ9lyOR2ZvoypPtEk/n1nbDf8eTd7MjX/97kEVEdR0NQRdUnxjKLpd3BxabIipx/kj0QY2va\n",
       "nPlvyw7q1JBfA1NFN0qJw5trklR0FkniiYV5nYc6QBA96we5SWLvveI8dEMVfocNXtbPhm+/dEg7\n",
       "f9vDoJ9wzQx9b4MzxGmlWtQqV6zOe6ZInNAUjylAKn55QQSBvN/USctWQvC98PG8A00wvdT2F4Re\n",
       "brcfMsR/8j6z/p7VeJsUJMbdVcTr8k2dv23pRpMGBx9lSBxw0IYr918BAll/iALwjTbfBSjV+ONh\n",
       "G0tOrL7fF6S7172YLDTChDgp9ZmlR2QFUBHTqLVLTkY3jSaeVHfu1RFLI7SrNDU2JSt9zYrpW/F5\n",
       "v0b9rfq2WPcCVrZcj17O1Gjfrrfi4UIensir7qWjGJYVxMfMYXRS0/XDI2G8QYd0LTv5k92+yiT/\n",
       "TCit1Bl03bYa7pL9ZqVuQan4FyGSdMIZvfoBwz/nJIupK3gyT341F9K9qCgNQ69tzMXLXBshAxdG\n",
       "pcMXw33eIOww8ZP1UFYotJ8k2kagboQkpIIk+5stvlDIi35sx1O3QpO+fHCur3tVdI9OwoNbaQTJ\n",
       "s+eNaFdbTvtwGtINHU06ghu9Gssi+9rsNj7MZKABEYvHx63/kbQZL85gI1bz0PyRRwU5zwsgPJO2\n",
       "U/z9OjmCJx793qe7y+K7QTCTVyl6t7EXhplq/BBACdDvIYQal6wo/udgxrp+JUdd+7bi81yU7nFO\n",
       "U7RVE7qNAX6LR/m3Ee7oxN9Je5afVFGfd1oQkLuX6SSnm4LY7itkZP4pJ9LmPYkuytG2u7Yq1JEJ\n",
       "7CbrobOP6MosfeTOGARTbeWoAGCaI+yRDra4FvBQaRBxQbeY+knkXuRjBVndnBw7lb0DzMMJrBlR\n",
       "g08Zw5pilm2VjbaaEAnSnypCKV+UsRDMlS6RTwqIVuNZjZWclxq573ANQ8V/PQ/b43R9/KBsTqed\n",
       "E8e08M9csY9cHBkiKoI9F9mtLKtF1a7sAdjywyY7N2cxVoKNjhlWF/YyVHDUnFxy3XwjG53QpjyJ\n",
       "MnAHT1noQ3HCOMvV8KLn6kcuX61KU8iTc+tkW15d5CQMgeCk9cTw7fuzUG2OLeV+36cwr+qOGPfM\n",
       "EdsW+NCEynZcUc+3bJExv9D+NfE3FFfwlHR/er/+9dL8I7JWTlpIY7ogcJWSZuJYXZLuueD7R27x\n",
       "Uv7ZtHqtSbE8vRcblBsCG3aqq9l/E8HDesEwZkJvKDoy0Fjb4X1SUow5RsqEHvSZbbhBuf8xtNPd\n",
       "sgdTUa0MLAdZ52d8Dpsse8BK5P7qGFEL8MG39wE0+84WW/UuFg0mJWRnG35gB2Ax/TMk2UTqsqvA\n",
       "kw8g04EAAAFhQZoibEO//qmWAFd9HgrO6F+KSp3+tHKXF3fEVj4BTDUPpbw/w/h9Aqj8OgQzsPdz\n",
       "jEPTcVit4B0CaTE96a10ARnzhKt5FvMlOkdevDU/o7wnkKtv8dRvirnoA4WiPTK/tcl40/ewW7sQ\n",
       "ZFf2nzLL/sL8aw6IBtttguOSVXcR3Ni2jCdv5YOM3RRqfiQ1kMkrnFzxtbGtFJv1XMLFIn1N+QA4\n",
       "tb6m0HaXXr8ITUifx11SSc6BXZloV/VQmy+k/OHtcg8hQrmQDEf4rsIw4hBCoPUs7aSx7D8y1VFM\n",
       "WQw4Zx9HTNb4jcf6ifSqtP77EKJlT1eLuFMVcAQwEo8sggZg8YICGMeEnbecqAivn0UMD2FE2UyA\n",
       "fMCJlBqJPUSyZoyZrp2ApZmSvNFrkBdDwD3NyppkRX9UjnLNsTf/iXHac2e3fgOkyr0jCwpc1AM/\n",
       "2XqJUFNQh29I6dH1hIKqFOupPQQAAAAvAZ5BeQr/AIrbo3dxej5l1OaYjh9QnL17nTSEy4PfuQuY\n",
       "zD9jD1mvRRHG/IclFZEAAAB8QZpEPCGTKYQ7//6plgBVPcSpIDRN+H9g3GtCnfoBIUuj5vhefYCg\n",
       "+JXG30uQb8CpqmoVfTKvXce2HCpgaDnRzhs8fbfr64sFIIkvJG/5yLwvGU+R0/lJJ+hE8N0SOn4m\n",
       "lhG1juvqu9FLeo2Wbhl/62DTt2deRX+XxKrRiQAAACgBnmNqQr8AR0ch0qUTjouhea5KKKX0kkpc\n",
       "iLvvIDcIoAf2V6o970bkAAAAP0GaZ0nhDyZTAh3//qmWACzfAF9gsunLUSOPHT83XpoYh9/y61uC\n",
       "0ODxN3A85Sl4SEaPhDFb9Igc2cA8TRfEMgAAACRBnoVFETwv/wA0zLORK6rtnEj0v94LzgmRn5IA\n",
       "RX+cseTTIUkAAAAZAZ6makK/AEdkMgvJxt95hppkPns0wQCbgAAAAC1BmqlJqEFomUwU8N/+p4QA\n",
       "LHzLs0fiIKV7FJa/kignblPjFwTPJC9szAVw43UAAAAcAZ7IakK/ACO9M2NZZUkt9uGayFnl7YEs\n",
       "zTULNAAAAChBmspJ4QpSZTAh3/6plgALJ8ZB9egaaZN6NIVpdm+55QoC6oCCNtgTAAAAMEGa7Enh\n",
       "DomUwU0TDv/+qZYACzc88Yg4fcU+gpw2Ap2wN9CHyUbWaOVpl4lWtaDjgQAAABwBnwtqQr8AEdkM\n",
       "hwpxt98tppkPh+Iq+rQJ4zehAAAAK0GbD0nhDyZTAh3//qmWAAWb4Bsjjm3cEijBxj1t9xiFWOUf\n",
       "4ktGaBITGJEAAAAiQZ8tRRE8L/8ABpgxWDZVXPIFJt8Z4s7ql5eS5nvYLW9ruAAAABkBn05qQr8A\n",
       "CKyE9Wre7Dcarz5sRdY+ZMxYAAAAQEGbUUmoQWiZTBTw7/6plgACzfANkcc27k4Qw3jvaHTExm4r\n",
       "LiBq8YBWHXBQ2M4DJq/Oo7oghD1IFOVw081R+DkAAAAZAZ9wakK/AAR2QyE/nG33semmQ+ezTBCb\n",
       "gAAAAFtBm3NJ4QpSZTBSw7/+qZYAAWbnnkWLPF8DuSrjgW94lhkQWThUfONw9QxLF9oyfKkRY7s6\n",
       "zoPeHEuMoQgYo+KgjyQEbIjJXjVi3lEXy6S+R7JhmLdWIULGgXUgAAAAGQGfkmpCvwACOyHzVDZm\n",
       "d5ArO4JzqR14xYEAAABQQZuUSeEOiZTAh3/+qZYAAVT3EqR+KtBWgA3OebAFdcrTS/xQ1Kn8sHNX\n",
       "hcPZa6IVF3Nm9w/vfKNzlkGz0zif5cMkapcerSN8CMsJth0JBMcAAAA9QZu3SeEPJlMCHf/+qZYA\n",
       "ALNzzxiDjtiJJKymM0j2RPevh4iCOXfCOxwX6hweJutVA0kuqC0SpKToof1ZyQAAABxBn9VFETwv\n",
       "/wAA0wYVLaBlwgasgQ/VWiFlzJZuAAAAGAGf9mpCvwABFbTiGpAaRt2aWQMJWbfNpAAAAHFBm/hJ\n",
       "qEFomUwIf//+qZYAAFk+QqOgF4C0O9WVf3snhgBCD/d0YFJ3wpepc5hXcxhiqF4MrGltxunDr8up\n",
       "zrRqo/d/rG0K7t5Fn9FdRP/4cYabN0kfUMBbADe6uS/8WHiP9YXsGYTW9UuY2kUiDJ2bfQAAADpB\n",
       "mhxJ4QpSZTAh//6plgAAWT5CsEgW3r4SkKekEY/LRdQasmhZzxUc1JsSh5CSNPUHFwWpXySJtisW\n",
       "AAAAGEGeOkU0TDP/AABNYqfSCTR64z1e3dB7gAAAABwBnll0Qr8AAI8IInAzKvc4jFB7o90PD9tF\n",
       "XVAtAAAACwGeW2pCvwAAAwGLAAAATEGaQEmoQWiZTAh///6plgAArfObK7fn9Gxuxa09kBqPgfsk\n",
       "iqnjBv/CkdS+Fxw8XN4Kftr8C/n2ExPoEk0HEo/e7OxyYLBU5NmQLiEAAAAkQZ5+RREsM/8AAE1y\n",
       "B6B3X7pLfz+E435jBALOYzGLEdZtKkvhAAAAHAGenXRCvwAAjwiN7wvYuw5ZVLEDpNK9Y2m7hYAA\n",
       "AAAYAZ6fakK/AACO9Pwt7SrMQQ6gH0J8HjlDAAAASUGahEmoQWyZTAh3//6plgABW/kK4WAvXYOJ\n",
       "YOY6YXtlwAvvU59k6dMazeVRxHLkqxepAqv6rEP6Dw404OaeXCZNP9t/kNZUR4AAAAAfQZ6iRRUs\n",
       "M/8AAS24gH8d5q37yczRMwDJGHIvOBlFMwAAABgBnsF0Qr8AAR3wgeJ6uJmKra8ng6LJKfUAAAAe\n",
       "AZ7DakK/AAIrruYWq8VLRatFSmqHKwFkj2KD6UlYAAAAQ0GaxkmoQWyZTBRMP//+qZYAArfObK7g\n",
       "rKXHGTi4E4WyFmWo+E/xKagISpVMU2Kaf/cUox7A5h/aC65v30WA/SQCskAAAAAaAZ7lakK/AAI7\n",
       "amykRnNyqY84cO71dPUQG4EAAAIJQZrqSeEKUmUwId/+qZYABZuFvgk19wE+C9UnMyB6lU3aFacH\n",
       "I5Vc7AM83c0nxrUM9/80Ecew6JWjdFj8Y3UW6mo7EnYNK9rv10W3th80CTwTjAkLj7w0HVCiy3xy\n",
       "Zrop5j73y2CH/Ah/53sxRhp1eKpu/bFE+ruTEhebN33Gj9hRbpXZHfLleUYzTJGC6+PioUD6ZkBi\n",
       "QuArc5p0yd7HcGBMuXqwKZbYIy7tSb7FrkWV886mUcQTHwWWA6M9NFoPAUC9BPsqzUUrBZoNlnyR\n",
       "SQL3Q100xH4SLw82oYUQL3FLKjr52YzEJ/dDIREGeiPMJVqbCTPR548HcjsIDEUvBBJtJsfnz1ea\n",
       "SWAbXa6YVfwL2SmTsUuO4w8NU0KXx2AqIOz3UD3bzZisFbMB8OVtDS92ulmokHv1vuuvgInnWq7+\n",
       "WE8FJhvwAq4ukaYKJesnEt0JYQUczrtLbVeaXYpdPG9n4jDkC81l847hoLX3P42vx0ZZ5FFIVNfh\n",
       "8aAk+X/2+vX7UUVbOr5+MCIJr9W48NbylpS9rJyzLfpfFRVmL3rLNR3XmInztHnob/uYECX5prWr\n",
       "zwYwKFGWRe/iGYvICrFofhZc/BE3YI5bgWmjVm35zgGrGZJu9rBMxaMJYA5oXrkNxITEKjMFnwzP\n",
       "rdh+dRNjqwmv3J1tAAZctZTXN1WcUzAQSwTeh4AAAAAjQZ8IRTRMM/8ABNbiA/QEJVysIh6FZUdu\n",
       "bcdgRozDXaGdCjEAAAAZAZ8ndEK/AAR2Iqe9ru1x/A9ivc2Mz7ZNwAAAABsBnylqQr8ACO66/dPC\n",
       "ZrzOoMnKtuXPs23h+tkAAABmQZssSahBaJlMFPD//qmWABXfx/QA2pEU5OYDpxX+yrwfoZ2qBV4A\n",
       "WhMB96aahm2Ko5+xaMkk0JabkIfn2qRSUyA0M94oT/k5rEj4LblK4hFaNsf98f0//y9w+nwjFl0f\n",
       "3SxiWrdhAAAAHwGfS2pCvwAR3XX7pvBU+fFO/hExmbXVgNoX0BRy9K0AAAGTQZtQSeEKUmUwId/+\n",
       "qZYAK3voQ1k9s+36erJDF7Jx7KG5ylHg9RaPTGEthKVt7A5JycympVqGzWhQG/VZAyW1T8CbWwu8\n",
       "HDpioJKajpIcdaIb4dRIqFAvnUiAUgY6bwhRedTEKoIWMaZsswyBc5kWmfjYKBi+xapciknpZveY\n",
       "O3CMkk0ORSvIrzGyzvxX2OReNOM+asx+VlJE7VYz5LPKai1Glj1GyQ0UORtuRPXvn8F9CW/oHVQ1\n",
       "PUwDHqntQVCvSCQ/RGf0Ph/TGf0pFHxLbAz2yMEcg044H7Xro0KX7HvWO5IWBiNs5Nve0LzhUsx6\n",
       "uNuTNQ7DdLIBf0GQJQ0M9exE+rBQS8ZYJ+WGiG+6lY6ZqtAEF71TgaTC210TPl1BnQYZYZk4TWrf\n",
       "lX0T9tCAAzlMABlckWHq9Lj8T50QPjQaT22mFqKijXmgx90ubWRZBGIPflTXIGDLZ/dcmRuFtMu1\n",
       "O9zJbI2W7Ycfku1k5o5949eOQWql4g/e6Qzhi9+r2SCZ6W0g/6jXOa7y51H4VBbW/QAAAClBn25F\n",
       "NEwz/wAktxbfgvM5As8P3LU45mwOrREUjxQpnWRdcYOj6hVgYAAAAB4Bn410Qr8AIr4MjuNCjBcy\n",
       "z7R6/i93LXKRgrYSaCAAAAAdAZ+PakK/AEN2A83jh3ZJnHxUQoOaI8m5mYoeEbEAAACHQZuUSahB\n",
       "aJlMCHf//qmWAFb9L48fbGqGr/NUkKs3nF0zfLwSCn2kxTg16Tfu8Ffmri2BDCKZcErO7If3U5fC\n",
       "HXj8BP9inBi+fzmadJBSJRaAT4SDOsyDW1oVVd12Yw1j14Hh6q6lpo9srvyw/RX0m5OAO+W9H3cm\n",
       "anuB/hYxOYPK+yBgmM6mAAAAIUGfskURLDP/ACa0mbG2FCwEbULdnCIkf5VW0zrhNoM+YAAAAB4B\n",
       "n9F0Qr8AR3wgeM3pms1AaireHy2vL9nQiFZxFlEAAAAaAZ/TakK/AEd6XFDuVkpQCGTGw80Jx5Ze\n",
       "GVEAAABFQZvXSahBbJlMCHf//qmWAFb+J1Xx6619kgLFheLgGFg8KiclzoHqQSU9I7+7VnOe18ky\n",
       "pwLsZn94GDd6O8zXnwW+cM5JAAAAIUGf9UUVLC//AGcZg6Kr9Nj+WGHxZt2dhqus5btLCYyJmAAA\n",
       "ABoBnhZqQr8AivVRwrbveUOwBnucT0Lv9ejAgAAAAGRBmhlJqEFsmUwUTDv//qmWAFcTWupUlVAD\n",
       "OPcGOKJVKjHWVQchugpOLyORujQTNrA/dPVs2n6pNp2oxY/1TFiG0rod1jm6rRBUEXMs7hKr38rj\n",
       "6KRKEFysD6Ogk/1vQFm4oKwxAAAAGAGeOGpCvwCK67mFqMJHeeigTJN/2xDpgAAAAFVBmjpJ4QpS\n",
       "ZTAh3/6plgBW/h1/XYZ01QB1Y+A4I8l8w1YfkmF1Y6bpYF6X/WsK+lsrIL527guOf4u5gcEELfYW\n",
       "DyCGHv906PrI7VNvZJ91zd2GNJRgAAAATkGaXEnhDomUwU0TDv/+qZYAV2UEQvUx89/1lJBkSzS4\n",
       "xMvfdYs+6X9K1zkrR2k+lgYVwH6WBvhR3ct12NrEbvix9KGgpcW6QIS87mwf4QAAAB0BnntqQr8A\n",
       "R0ch0l5jIq6tL5+hg4CzVg3OYeikzAAAAGtBmmBJ4Q8mUwId//6plgAs3wDZHHoQPlcEiQVxj1QI\n",
       "YGoEuRN1sYvhZGtCK7ueW3u9BOet3UWMLqWcWxuSj0WweuNu5MFD0+4+FhfA9ywYoe3h8Gh/YeGH\n",
       "xFZlx+H2x1ZZv+sMVqouUGIToQAAACFBnp5FETwz/wAmsVihAzSZE02KBQ7DsR5p0Ii4XQSJVd0A\n",
       "AAAeAZ69dEK/AEeD46lSGSnEWBwW8jaHmS8F6HqE0xxwAAAAHQGev2pCvwBFZCerMQWgumjYvPGB\n",
       "6mt7/d4KJEYtAAAAOkGao0moQWiZTAh3//6plgAWb4BsjjzsMH5BBEISJs9wj67TrHyeCI4mAg0v\n",
       "NestEb0NbQ7TmNAxLWgAAAAdQZ7BRREsL/8AGmDFYDhjhSnDMmdWmRTFdmzgllEAAAAaAZ7iakK/\n",
       "ACKyE9WmtLdrxTV4LHHCW0wk180AAAA3QZrlSahBbJlMFEw7//6plgAK77iTQnqIWPezk/gRsZDz\n",
       "Y3sXOl0yuogA1u8CAcxBF8QHoNYhkAAAABoBnwRqQr8AEVkJ6tNb4Lepn+T0jhX+/eGDVgAAADtB\n",
       "mwdJ4QpSZTBSw7/+qZYABZueeRRCKPX+Bj3yve2AIqa1KwgEIp24VrVK6AZCn66sYyAG64rVSf0k\n",
       "gQAAABwBnyZqQr8ACOyE5LVDxIJafNNeQrgTzzgn/TZQAAAAYUGbKknhDomUwId//qmWAALN8A2R\n",
       "xzbuCRIAXB2srWEdTV9TKUcAfu5qGKO9TlasTXruIBhZChWHp/fb3aP5pUqD4tbGB2uiFy3tavmS\n",
       "zGYc2yY5Ygstm2NofPW90DSME0EAAAAoQZ9IRRU8L/8AA0wYVPuVdrnIZkitPwzguwnXkHEpeuvA\n",
       "hYqE+D1XoAAAABoBn2lqQr8ABFZCerTWlu14pq8FjjhLaYShzQAAAGZBm2xJqEFomUwU8O/+qZYA\n",
       "AWb4BuDAgMyDs9QIUpO0Zz/ogBjox72tD3jMDB4wZBRetINBli5d1c9WJzJ1ZMuUXS5g4pSJkjQK\n",
       "uAqV7C3VF623oM0OCkcxVRU6rilCAkJtnqP+kdcAAAAZAZ+LakK/AAI7ITktUNBgYwlWepHoZFl0\n",
       "3QAAAElBm49J4QpSZTAh3/6plgAAs3PPGKfsaeg9ApwzfJ2u3e5dcwaMSI3Yn0TFacTbWwc1Wm2t\n",
       "XTKLY2eha2jlt1B4y2yL0q64KbqBAAAAHEGfrUU0TC//AADTMs5Erqu2cSa467TXSZikefQAAAAY\n",
       "AZ/OakK/AAEdkMd0nG33CaaZD57NMEm4AAAAd0Gb0EmoQWiZTAh///6plgAAWT5Co6AXFJkXAjAC\n",
       "kEpAwEPjaBnjtxU0FyI/Ip6bduzKESBhWfsT/PrefSeZ6+juuu/5+kZIro37SNPeXDoYYtc8q7iI\n",
       "Zft/gC89Ji9tVZ3VBKgSqBffGfSJYQpwlnlJJbGc9kO5AAAAQ0Gb9EnhClJlMCH//qmWAABZPk6/\n",
       "aaAvr0AD/ohcSwD/Hl9yzcgGWyO/kWAe6ttgueRhrnxfKnCFmaefLWjHDWzbE2AAAAAYQZ4SRTRM\n",
       "M/8AAE1ip9IJNHrjPV7d0HuAAAAAHQGeMXRCvwAAjsSIFJR3g/SMYuwWGY13drQfyhAxAAAACwGe\n",
       "M2pCvwAAAwGLAAAAWkGaOEmoQWiZTAh3//6plgAArv9bDaYpMjvH4t0C656qKcf14Wo3EqYW0Ja1\n",
       "Xb7/FwxYy1pEF2ffh/j1cjyf9Or5KIDaOOgXEDMYJUOzBU6utUQ0vyOh1kQ/+QAAADBBnlZFESwz\n",
       "/wAATXCJDdb0hAtaOS8CAdHLFxkLkDko/fbgVrJOF4LTJWSrlBEs0KAAAAAcAZ51dEK/AACPCI5J\n",
       "0YAAnBETpF4kGszp5FMtgAAAABwBnndqQr8AAI7aPTZGNvmfMSr56e9HhyLJBIsXAAAANUGafEmo\n",
       "QWyZTAh3//6plgABW/kI9WAvXWwycv+vjGb4aF7LJFH8BLzd8tMbZSNdHoRVsz+AAAAAIUGemkUV\n",
       "LDP/AAEqgI4c8c8HjJfWgfA/CQbZIAmEeMrygAAAABgBnrl0Qr8AAR3wgeJ6uJmKra8ng6LJKfUA\n",
       "AAAfAZ67akK/AAIrruYWkxQL9A2UHjhXd6OspOr+zGI1wAAAAFhBmr5JqEFsmUwUTDv//qmWAAK4\n",
       "EnhaGwSkb75j+lRBgX6jadijQ9I0c4f26aiZOdGTt1Z5H8FSLKA4JNvM/4nxwCZCGViX4KvuBL0v\n",
       "UtqXAu/6oLjozSvlAAAAGwGe3WpCvwACO9MyoekLKhoBDJkt4FhWCbXu7wAAAJpBmsFJ4QpSZTAh\n",
       "3/6plgAFd4WN2dE2oANquOWxAS9kAgArnKfwiDOLD5ntSvkklYz6vnFZxgtPxgMad7nlkCxRsCPC\n",
       "B5LT19kqknZ1m1L9s6Ob53Cc5NHb4nHKK0ftOQogWvQrk9BqwVcpsG0VI4TYlJ2jHBdO1ppQo99X\n",
       "Xy9tbuvrefd5XUHn3UQL17YERrIhxlNzOicxYjowAAAAM0Ge/0U0TC//AAZxTIfh12l6K0EYTXL7\n",
       "6KSM2wCUs+kVoMAO87xnyK8132G7FHyu7OysXQAAABwBnwBqQr8ACK67mFpMmrqC28cPjI0rUcto\n",
       "MGrAAAAAVEGbA0moQWiZTBTw7/6plgAK3voeOokzTrcw16Jd7fC6DhGbq4L4fy2FucYrcpmtFIAP\n",
       "vc34rjyycUmUcHvP+ULzkT6Yal7n2B4KEBArex+SBLrsQQAAADUBnyJqQr8ACO2qoJFjjgXmPOHD\n",
       "u9XT107KyRI+3OZGtMvlAnyApqg16AHG11CrqVAeKl89SQAAAH5BmyRJ4QpSZTAh//6plgALJ8sG\n",
       "pQLb11miaMh356RTrxUVDo5YdCFCrfQXOhXo7FAOl+gv34o4L+PT4X3aTFmytE1J7qmZ/GD0PDU6\n",
       "PRlG9tka49N7T6Y5R1iCNgEY2LFLwFqIdljdy6RI3/MY1gTnebZ3FWcKiH1PEG+2PYAAAAGRQZtI\n",
       "SeEOiZTAh3/+qZYAKlu3WY+DTLFpmSQLvDUAOlah16/mMU26vu2kvu1LxJmSZlzy4hFLt9ggr5LR\n",
       "T/8IGzfy1tD/z2+QiVpjgpNGaaEKC9HYBFK1qjcDCnDTIsX3oG3haeGGBJZeTHdNpt1QuJRc3LkE\n",
       "Ubi4pOZUWjK3zof9BXei7YEXiNFve1ZD0jI3hr+cDsvqOhKHSsczpKK90ZGfR1sazoD+6xFHabv6\n",
       "JJ9Cb1ERx4s1cPQGO2NDP5/PssIVKSwG9cjgB1yn+tAyo0LfszDW5c+bGCfkHPujM1810gsnHaBR\n",
       "roXoAebdslgV0IQ6d77s0QcrcZi/OFVWpM33JXH46N/y0zNZUnsUk07+UX0LgLFNoVEtS1oxb9yU\n",
       "AsjL6C+eaIM7jY1MrH/ECqEdn+oks3MpXyPzye0PWIxYmX11+Ickge9QPyQokO9LooJose7wjgrL\n",
       "3t9VVUgom5ckD4IIQGUJtUo5RRKqnl79GnpFrdLBiM5pic0uZKXfIqi+5VyqEA8MoV2rlUR35UAA\n",
       "AAAhQZ9mRRE8M/8AE1uINBEvYvWVMampiRDG0EvhbFph6OOBAAAAHwGfhXRCvwAivgyO40KMIGCk\n",
       "+fmjO4nFgC4trPC1RcAAAAAaAZ+HakK/ACO9MyoekLKhoBDJpRouu5D6cqcAAABcQZuMSahBaJlM\n",
       "CHf//qmWACyfIFGLN03AA1Kg0MkWiPAsfqWs849C3e0MhO5mJIU2+eeD5PIvyZ9hl/Iwke5lNpga\n",
       "tTbemSAgTfHxQARWK3oVmnmI5TuekVHqGNAAAAAlQZ+qRREsM/8AJrtxN3wC+0AH6BoQdWJCsZTU\n",
       "9ZbVK0WQ/HWfMQAAACIBn8l0Qr8AR3v8CiioAS0nUAeD9g9hEOpBL7Etx3sgzkWVAAAAHwGfy2pC\n",
       "vwBHek1w5XJQAfqOvASMuYvvw52srLtgu4EAAAA6QZvOSahBbJlMFEw7//6plgBW/idV8eu2xTfZ\n",
       "Jz3Soyl5nya40BBdHqykzNM7ERP5uzAC7lvYP3BHoQAAACEBn+1qQr8AitvF+EV6QoiYzfxoASW5\n",
       "lQbRNGIWJ/GsStgAAAA9QZvySeEKUmUwIb/+p4QArKHlB53DeOQdX92yQ3DdwDbM6gD1Ts8Iy3PX\n",
       "qeqHFTYm6T3/l2lggBMRKZgNUQAAACdBnhBFNEwz/wBLaQ5kaHXD9QYBdADc/CL0UNkT5W2m9Hi3\n",
       "tFiCh6UAAAAVAZ4vdEK/AIq5sb3EWsKwTEXAmHTAAAAAGQGeMWpCvwCK2vg89nfHC10LV1GzlLjV\n",
       "jqgAAAA3QZozSahBaJlMCHf//qmWAFd9HgiJIwvxOuqB29Uf9YD7pmKVkYLiW99k/S1jtrqJy8L3\n",
       "cUjHmQAAAG9BmlRJ4QpSZTAh3/6plgAsnwzTgAwltLCSCn8fho1DUjH/8ruczpPkMgpNJ72WW5N3\n",
       "cZGo6I40Cz5AlRn97vid+peZtQlmnonI9tfj3edHs/pV7ULL9xo/Lpw6NIxKBfMtWqtrdnpsxn7k\n",
       "dr1GJIEAAAA2QZp3SeEOiZTAh3/+qZYALNzzyKIRR6/wMdznxU4T/TIJT2viYqSp5YUAGAOGz20v\n",
       "xH2QBvInAAAAH0GelUURPC//ADTMs5Erqu2cSR3Mwy0H7mAkaPpRkzAAAAAaAZ62akK/AEdkPl4m\n",
       "SOKp43NcG9yBR4GPpGAAAAA5QZq4SahBaJlMCH///qmWABZRDe88Y7SAEylRrrpDGp6OfUmLtYds\n",
       "07mC+jS+uxsNMFZJsip5pXRNAAAAREGa3EnhClJlMCHf/qmWABZvgGyOObe9rqCG+Jw7aULUePiE\n",
       "C/QNjrFq6w5DptpNDSLubVEQxPKlDTW0m8QBerYO7WNwAAAAKkGe+kU0TDP/ABNYqivogPi3BrQm\n",
       "LifgVtsd3hlBVuBjj1ffatsnb/bHXQAAABsBnxl0Qr8AI655TUNGKQZ3qdX12pafFfxf5GEAAAAa\n",
       "AZ8bakK/ABHembGssqSW+3DNZYTy9sCWZNwAAABmQZsASahBaJlMCHf//qmWAAWb4AvscE56XOW0\n",
       "h5uRcsGQvOwZEGlxKjGxHkEPx5Ro6TzTKXlnZz//D28iHPuAYdw/7w/pAsTUhDBV2+V1XtcHoCAZ\n",
       "WlEAH3MQy4l7oYaMbpb4nvQ9AAAAIEGfPkURLDP/AATWKxQ+SUi9tnEplIw03+MRxefOyCWBAAAA\n",
       "GQGfXXRCvwAI8H5sSoyjHq8TPMEKsuNfTcAAAAAcAZ9fakK/AAishPVprS3a8U1eCxxwltMMIHdF\n",
       "UQAAAEFBm0JJqEFsmUwUTDv//qmWAAK77iTQnqIiIiYcWgKDolJPgATpNQ1OFwGl9loNSI8QJQGC\n",
       "tzwMjjQrL1nXLVkQfgAAAB0Bn2FqQr8ABFZCerTWlu14prEyxEFL2Dn/DTcZQQAAAE5Bm2RJ4QpS\n",
       "ZTBSw3/+p4QAAsfuKdP+L2EGgksLxzAFd8KuZ8QsaxL11Ui4m1QqDCAO4VKeaTmmpRa72bwvKiec\n",
       "5/OVn4hJRODTae9g1KEAAAAZAZ+DakK/AAI7IZCfzjb72PTTIfPZpgibgAAAAEhBm4ZJ4Q6JlMFE\n",
       "w3/+p4QAAWPmXYKYzihvEOTT/5XGgGmZuaYDVnVxZWEOlq0ltbAlSJTYLQtbpq2lGXIzAFjVMZ74\n",
       "XvdAesgAAAAaAZ+lakK/AAEd6XhrLpE63rzcQhVNmU3X7W8AAABEQZunSeEPJlMCHf/+qZYAAK77\n",
       "iTQ0Q4J90wOPX9ikBzzpl8xPIeSPzZ32EYtoZpk/gU44StbBzVaMgiL+TVcBTEePZJAAAAAvQZvI\n",
       "SeEPJlMCHf/+qZYAAFlGfjb5ZVIAoVF9/wlHbuXekp7pRigA4NAF4AjG10EAAABaQZvpSeEPJlMC\n",
       "H//+qZYAAFk+a28OIKvXrtx053Rf7Sd8PaKV8cj4bJ5CLo4I/3MEiGfPgf/+kYqOMRcdspQlv2gd\n",
       "HDjOEN9NbXlk309iNAaB4KkpD22c9zSwAAAANkGaDUnhDyZTAh///qmWAABZPmty4RDWlrrwAGdr\n",
       "xLA2vCOdyUUDIJc3dTr6Q4pPX45zr/bo6QAAABhBnitFETwz/wAATWKn0gk0euM9Xt3Qe4EAAAAb\n",
       "AZ5KdEK/AACOxObnXGr8WdI1L2Vp9OjAk/IHAAAACwGeTGpCvwAAAwGLAAAAZkGaUUmoQWiZTAh/\n",
       "//6plgAArfy78pQA/H1UCJ5/oD8mONBVfFdtWlGDd40vxIWqxD42p3EFoYC6t3ZxWh/wIc+MYhvj\n",
       "sJWLhTUZc6zBNf8CKyXUCrYAIbEFktsbk1NpdY1F/798wAAAACBBnm9FESwz/wAAltxAP47yT/A4\n",
       "mf4XnbS3mGfb1Sm5MAAAABcBno50Qr8AAI8IGKQJdGlQNpwQm8vstwAAABoBnpBqQr8AARXXcwtJ\n",
       "g/fn+ahjs9lWR0emmAAAAGFBmpVJqEFsmUwIf//+qZYAAWTptopbsrzvvLczITLUTA2VmogHRfca\n",
       "I0lt0ppWaySfIAvALEftlHO7QhnCAIcu5tSUsbqIy1cIGsww4cguCd/piB2dj/o0inOJr9pTrkVg\n",
       "AAAAKkGes0UVLDP/AAE1uIBqc/mKhVWQSbSGCweh3B4S1Mmb0fap1/tuEjLeLQAAAB0BntJ0Qr8A\n",
       "AR2ImaKcWHEIzaQAaS+pFIw+LsYFwQAAABsBntRqQr8AAjuu5UcsJRvdLSVrHAui/zkIpmEAAAIT\n",
       "QZrZSahBbJlMCH///qmWAAVvptoAWCypZxsqkWsa92bAJ8E3+Q0GFXJDHdeiL+ZvxVdTI0e1IqvS\n",
       "j2Hlo48aKQV5B5P1yTg1cDWzx58HF2vWo/wXb1+Ro8bZCPJ6e3ee2Uy1CAIYmL/1D0DVpJJIqLZY\n",
       "GaQHEF3dHfJSikeduG5yt4i92MGBgsZQIq4BXmcb+8pGhXzPS4jVtC20fSQ1BQ/QbM5mRD04MazA\n",
       "oe0E/no/ScAHlyJcHkDNeL5dG3OZX+WpJzRuMM8af23ONAqS+uXvDwmoTQqPt6nLa01MWws+0EcQ\n",
       "GsjOExrD/PGd4vDx9/GSCU3eZtcSZ2Zz3ooJoTTqu/0xeBgf3DxpUgIzYyzHbbEngp+hXi12Ja9P\n",
       "UPPM1SnN2K8YNxDescjneXSoEtT4JK73EzIOt3QcUlBTKklQ+G6XY+/myav8JS00rrvBQcRqHCW9\n",
       "/srwwSXvzrzRQd/WOCu5BPhkKm1YMZKbwVMiSkI5H9dKj3H/Yvu/VlK7dUyEJHoa4dTHBlV6BJ7z\n",
       "ix+bPE5QCvMDzImrwGEBOAE3TJsyDDIE3JlBl3JmJz145Dr0BYI1v+gR7VVEwb/5XqXVMLjXf2CY\n",
       "bPOF8hEuNRVLe5RGx5e6v0FyUXBd0rCW69iQhpriSSs/6T6xQGxhEFGSpb/APkYJVYOKqZ7r4cxQ\n",
       "duXL3RjwYHzueB+t0KQJQM2AAAAAOkGe90UVLDP/AAS24gH8dR+0Me3SRNzqXvbC00izgrjj5kux\n",
       "HJAJzucxMbXD6QTGEJhQbWEZ5yfyiAsAAAAgAZ8WdEK/AARXwZHeLJdhCfelvWWfJGqERrla9VEZ\n",
       "0IEAAAAjAZ8YakK/AAiuu5har1CtKT8Y915YF8FvU6SQDnvtOUj76YAAAAHyQZsdSahBbJlMCH//\n",
       "/qmWABW+e+CXq3J5X/hm78Fc59SrPcbEINmuoggX2kVyRKmMqjUAeNw9DnqdNESya1v8Hm9BjJ9j\n",
       "SFx+Tp6H05kaI4ZPv/sIwnjFA5bSrzK8imCc+nNM9BBvgi1Bnk/S5vVfv8ElUFCaBdp6pJgGDRBN\n",
       "iMH+MrwVv2EuaC3mT2nMPYzgJE9BE6zSpTZjjt8SVaYl+nSkUHz5lD1q3iMQRyoL3/9DlPC5eD5i\n",
       "kkPGdhj8Ovrb4NMvT2fMVqeU6jEOoD+4iI7dPWmhZe3Ln0/AMuGQpyVeN3IFG7yj3zfCwqnDDrZr\n",
       "5f2BzN/AGmW8VW3PTEdwF8wBiVgYV+UxqVUyBMwRBfTVOC0VT90Ut7Ne+XFSSqv4X+58F8Kt1ozb\n",
       "J+ZBFCPpXiROA7rNOq4eyemV73DggSwr1F7oKinESRMdZxd9DzWgKyrJCCZDAoMqvFtpU/U7isAF\n",
       "5CPc45ZPHSthQYZLLmpHVOm0or5u4vPXRHyv27CrjKUCV3LIP9kQnOwROh6LiFDxBARR0InD/TN2\n",
       "faLBG7dFrkBrTS5JRdYimA7zRAdPQd50Dh7iutCxQJCGyAX1vsANPghBVTJ9yu5PPWRI9GKyTX6V\n",
       "8Sd2LYFuE/hk4z2tRBV4eZoEbcBUAvHCiiodFhJbAAAAKkGfO0UVLDP/AAmtxANVfXiAQidfvzGV\n",
       "5nTmpLmT3xdRLC6ENpOhGuUy3QAAAB8Bn1p0Qr8ACOxF0k5djh79qU47niIIImAoWafS8neYAAAA\n",
       "IAGfXGpCvwAR3XfXw3+RCp/hbvwMaYqVLGIMLT0p/OphAAABJ0GbQUmoQWyZTAh3//6plgArvCxu\n",
       "zom1ACWrjmLaFq1P+Px8k8erk28nssq8oe6n1KugNoQZA0jXo4EmfbrwoPBCc3BjrawU/Aj1tc0G\n",
       "DCv2G4W0ZuoClXBylvOd5BDRbktbes3wfcJVi4Gi02zPdQmSJmzJ1udgR5oisnizDrVHKNgH8wC1\n",
       "td/2/HmGty/htPDs32EBx6CVf00kEJx5TSRynSIrvliSWgNgP6B3qinLzO8Vu2r5B3Z5xaRmy/uF\n",
       "rDj4tgZK9mXAqILInJyiSJ1iLsQk2oQdf88dra6VdS3LpDu1Vs4gfrhGFcGGvTkj2+SskojXbw7c\n",
       "Q/EXJyRWL/0ZGB62zQvB8RSWdKA6wWYg33lNlQUnr5NmoMlwyM6wk0J7qKjS6YEAAAAtQZ9/RRUs\n",
       "M/8AJbcQD+O833N5LASSBxcjQsdZKQWO1Mz6dK0vIaep4ufuR9cnAAAAHAGfnnRCvwAjvf4HTuaj\n",
       "XCq1PlBnBjvqGBOMd0EAAAAhAZ+AakK/AEV13MLSYoGB6hz1Pu4aBgyHBATIC8RIOyu6AAAAWUGb\n",
       "hUmoQWyZTAh3//6plgBW99Dx0uRfaOUtE1VuPCwHfWc7eo24V89wljft/EB9kcsjEyGK1BsvoNPA\n",
       "5kCDFAfcbr35W743x4xzEawm/G8L70rK17ijVHm1AAAALUGfo0UVLDP/ACa0lPj6I3FvwNnSikEv\n",
       "Ypy4kxUlxp4TxQPlgv3M0tY57XhmUQAAABwBn8J0Qr8AR2Ig72v6Oj66OOtDkpTgQyy9Q89WAAAA\n",
       "HAGfxGpCvwBHbYRejC+ZZraBHU4aVjgwNprdVRYAAAAoQZvJSahBbJlMCG///qeEAKv6Pn2tfvNC\n",
       "+rYUPRUiqV2GZNamE+8wYQAAACNBn+dFFSwz/wBLaYZTQdcRiNTHVsc2/Md0yhMuURUFypBMoAAA\n",
       "AB8BngZ0Qr8AitnMa7oe2DePk0/vXiD3Z1LqBimIkg5dAAAAFwGeCGpCvwCK67mFqMFqJ01N4g7E\n",
       "+slOAAAAPEGaCkmoQWyZTAhv//6nhACr+sk5ft7smLjNPBKgAHFoyZ4SvAUTUVrfUHrfJM1+lF8n\n",
       "Zl8X7Q9/Mx2vNQAAAD5BmitJ4QpSZTAh3/6plgBXZK4hQ6pc141wZMfI2YPZiWgUul5vO9ZBrrPo\n",
       "nJHXdW8FDU4T5KTv3Q7UWy9swwAAAEdBmk1J4Q6JlMFNEw7//qmWAFU55nI6U6xSnai1GckWDH69\n",
       "TgPl+B19dWCFGLrjowEbz8g7vUqcnmhpJefFrSDM609Sb7Do/wAAAB0BnmxqQr8AR204mgldNCD9\n",
       "IE57XXRI0waZIZ2IWQAAADxBmnFJ4Q8mUwIb//6nhABY/eA5AyLHj5RwAIGxQqGlL0iKywKgYPKn\n",
       "nYtFRC2paDmB5eBbjSov0jPV3FgAAAAiQZ6PRRE8M/8AJrFT6TFTeRTi0opcDyrzChtAOilRqdBh\n",
       "dwAAAB0Bnq50Qr8AR1zykRolIM1k6pXJ3FdcDuY/MgY1IQAAABwBnrBqQr8AI7amU0RCVwxNFVyj\n",
       "wisXbMSnnGhAAAAAN0GaskmoQWiZTAh3//6plgAV33EmVDp9MOScn1iQNK3d71BpqcGB2pwwPBqg\n",
       "9gCFowvY2FfU9DAAAAAzQZrUSeEKUmUwURLDf/6nhAAWPmWd6dNTDxBNEBFGbfXCG9IqyRhCM9RB\n",
       "sQIPeIoVgrglAAAAHQGe82pCvwAR21UForSr/KaKVS1Kx3GmK8yDhVu5AAAAR0Ga9UnhDomUwId/\n",
       "/qmWAAWT4yAcANV4RSuWDENCcJkWBfcB5o/sY7WzsdpQ81mPoj7cvERrTLBHRO1y6mv3xh0UdejS\n",
       "r2yRAAAAPkGbF0nhDyZTBRU8O//+qZYABZvgDJSSJ3YIkfAwWoB2069uScQ7FBqvNp/a9xsqQKvX\n",
       "J3WaOE0fSb7/TpI4AAAAGQGfNmpCvwAI7IZDhTjb75bTTIfPZpggm4AAAAAyQZs5SeEPJlMFPDv/\n",
       "/qmWAALNzzyLFnvwyGnUOO1mMAUHsCvpbwJ4Xs0sIF6Y1ZBXbMEAAAAcAZ9YakK/AAR2QyHDH5+9\n",
       "XIZ5AmWMeOyAlGBkVgAAADVBm1pJ4Q8mUwIf//6plgABZPlWf2wwDLVqM0/2zQmCZUYOc7rb2QqV\n",
       "oEAhCNODQd5Ytk1RqQAAAGdBm31J4Q8mUwIf//6plgABZvhW0v+uUE2IPE3QIAZmaWUfnLosh7cm\n",
       "ZkxK35h9XLf0KcHd53gnUjQ76lKuky7k7ZMhOLajdgqqLsKAx8ioCAAJ1PEXJFGGUgytt42/ravZ\n",
       "iTCi7LVBAAAAIEGfm0URPC//AAGmDFYDhjhUAhUMwoi+MmFbZnYVdREIAAAAHAGfvGpCvwACKyE9\n",
       "Wre7DdoxN5XmlZtnMzOs6a8AAABAQZuhSahBaJlMCH///qmWAACzc88sY8qVbAXmMboiHb6I8SHg\n",
       "qWWHKxPwa9ntuHYJmh5aFXfNSp8WeHDrjjAs8QAAAClBn99FESwz/wAAmsVRX0H4Q7qmTeRTYYHf\n",
       "+bT40PsyaaCae8BcwvXeYAAAABwBn/50Qr8AAR1zykPq+E6qumYNGodr3CFZoxbBAAAAGAGf4GpC\n",
       "vwAAjtr4PPQ4XoaRiqRi5ywZgAAAAD9Bm+VJqEFsmUwIf//+qZYAAFk+QsdlHQRDTQHiuZjnsO6m\n",
       "0aMbtTOtesANe7RqKUJfUK0niDv3IS8lYCc3KxcAAAAYQZ4DRRUsM/8AAE1ip9IJNHrjPV7d0HuB\n",
       "AAAAHgGeInRCvwAAjwgi5Bv0t1Ay3LSS2KWrOFsOaglAwAAAAAsBniRqQr8AAAMBiwAAADlBmilJ\n",
       "qEFsmUwIf//+qZYAAK41jp4T9dpZ1hbeB4A/7ECiqDmq8ls69ukUFE++S/wAhEGnhIFePjsAAAAh\n",
       "QZ5HRRUsM/8AAJbcQD+POqfFdRRyhPSOdkhxlCuXLD2oAAAAHAGeZnRCvwAAjwgYd52zlW1y+uip\n",
       "k/bdv8imu5kAAAAbAZ5oakK/AAEV13MLNW3DfdhoBUMmqWxvCc1YAAAAVUGabUmoQWyZTAh3//6p\n",
       "lgABW/kK4RaCUB+H5v/hPMAVttUuY9q6hLYA/eoB+S5JwBeYNm/Wv/xoK7Q8myw5v5O6Jtmh2UUH\n",
       "blmYlUiNEGLv/PeLeYEAAAAiQZ6LRRUsM/8AAS24gH8cGFPnH4FFw/8pX1MGkGLDuzVL1wAAABsB\n",
       "nqp0Qr8AAR3wgeM3pnQZpy5TC9NW5RKWFIEAAAAcAZ6sakK/AAIrruYWkx179BpBPprOWzesLY5/\n",
       "GQAAAf5BmrFJqEFsmUwId//+qZYABW99CGg2X1prptK1oc6Pfw39j9eGVpFlK51fw5fImEefTuc3\n",
       "5hSObiKJIFagCCVV+jWu3WsIFN3g5M/y4+UDAcnDihuTEPWNtZr280nA4/Jz57GaISXmoFoQuiwC\n",
       "c5NVXobG0qqHMwJDHf4eAj8/gM55BNzpP7W/vaftcNf5FxavjPcTVKUQz+moJ5UUwJLsQTfEGSSP\n",
       "LhjGLddE7yAnXgsCpMX0GY40tEZJIPLo//Xbe7HDpDu0PNdV9x/cFjuENbYFu4kb98vaZSyF8ppF\n",
       "I2RJSiQFJdXz5ugxoHy7YvaTPVSe5tqTYm73+Gg9pteSMxzjx7BsYxJDm91EeYO3JnezmCJ9pGcL\n",
       "+d4Eevibaq/tgQgrQra8nrwVtesSmm8lu3LsTkyVvExnfdWHOQaTC8yGWFg6fYy5JIVp/MPYGcTy\n",
       "SmZj+IaLpsQl4eFg4HsqoLH5yRNgTNNE1ul3EN5hdbqnBhznoc1IXZZe4FV2AWmQS3DE78JVhmWf\n",
       "q2UT0b28saT/TxS047VlmWhPv925RldW+TVFkWVnNgcHR/KUe7UGduCRoTlpioq6J3dKGw6ZkbtJ\n",
       "7jn6FduHGuNZT5F3XvFLudDTbxidmwTALDRQMPsvj4Bwi4dh9kFfZrlnQj5E7khI9Lnp9aBEFxX7\n",
       "xlMAAAAhQZ7PRRUsM/8AAmtxBoMd7F6ypjXjNeS+hX4UQuyZwhiwAAAAIwGe7nRCvwAEV8GR3iyX\n",
       "YQlZ12OCYGCKkXAKZ5+J2Qw4r0dhAAAAHQGe8GpCvwAEd6ZlQ9ILtltMi7cNRSVSQIsbva1uAAAA\n",
       "YUGa80moQWyZTBRMO//+qZYACu/1sPmbHJzErux0w6e14k/qlBASwFGU356HznuYDh2cmcdI3oVB\n",
       "pYbH/2GYWH/3Ctsc/wARGjoBfMTVQk5eDVSfSF7HhBccFg/XsWr3kPAAAAAhAZ8SakK/AAjtqp/c\n",
       "3h0pXSvF68H6QIOZZpBCJay0teP9AAAB90GbF0nhClJlMCHf/qmWABZOMEgkqGJK0ixw8nzbY+YJ\n",
       "v2ywPz2UPTJQtZsR9tnXY4O6nI3bWw26xw27GzNTYXveWKqXKCF3jW/o1/TMoZ4P4bsW/mvseZ2p\n",
       "PH+zr98tPewdnuMED7ViZ923KnB+QLFssfxnQdawd9kaxy/zuCbN0DkQSi26FN4BKMyrXflwfbR8\n",
       "xIR8M2l6T3Bf+MORJagnFh0NiHECKub4WRvILo4C6sBS5LPaNKQudneF/O4CNxs5BeXs52ait7wU\n",
       "VAHnN2r0jQpGB+6B+9W0MxRFSghnu6n90ZqHztDH0IkzF1dHtVZzy01EQAYuD0iribFtDfbkFEE5\n",
       "JtI7jrQizBu4LtKQVFbk0YPa2j86/r9od7cU5rhoKVNgh66dIdodZYLaia90AA2cbW8VTX2ajgXa\n",
       "lkFFz+pp1IYRAyH0SAnARhwsj+Fdr3OG4o1AKwlzqTQAon3BM4dKNelA7FMivFDO4jPLHtICIuR8\n",
       "LGhNID6aCM1rA8Ana1mgMG6/qRsI1qZAUyQfm4TQvl6X498A68zWAQfudUU19iYUmrFzW20k0sqv\n",
       "mQB9oKRtbrgMg8WsY1X7Vz1MQ5dO8FxLdiPGftfswK/kdx8Nuin3zwfUOn2aWoDnR3+J7wm4bGLy\n",
       "aURSpPws0o5ccaM/UUt/AAAALkGfNUU0TDP/ABNbiAanP5mg1g1tNVaBniDy31/xshsbSW3/8vP9\n",
       "FR9nabKG3SUAAAAdAZ9UdEK/ABHfCCUHJdLUg9Sh7K+Rht41ErTsmjYAAAAeAZ9WakK/ACO676+F\n",
       "Q/wBxb3P0oXfro9ITYSfBK+6AAAATkGbWEmoQWiZTAh3//6plgAWT4trsAGDoeKlSRhe6J5bz09G\n",
       "z2l8rogdrhR00mBNSG4a6cDM6u/amzjbG8OHktXbp29ztt/N2I1e6RHBgQAAAHhBm3xJ4QpSZTAh\n",
       "3/6plgBW/rJqMJ9Z0A86qFFD6+ktIvBmfW10gevlnahhaLVSVYzSMqwriLJw20AV4qW66AXzE1UJ\n",
       "mmkXOZK5QNLCwBvLwph9XRee6J61ghLwSuuz1coUadUFNeRKlGSbgdtnCj9SZZ+52DA1Me0AAAAo\n",
       "QZ+aRTRMM/8AJrSZsXNPRoxks82PMz3/xTYeMOb+XmxZ0qny1RA5QAAAAB4Bn7l0Qr8AR3wgjKer\n",
       "haiiAEN8or4aRaFLUm+B1E0AAAAfAZ+7akK/AEd6XFDuVkpQCGDHUpsIIqIZbYsm3EybwgAAAEhB\n",
       "m6BJqEFomUwId//+qZYAVv4xlXx662A2vP5ZANL14A6VB2Y4uclZEqe1UYVeU4ctVUpfpwUoZi+7\n",
       "kF5jNg0/pRVLqlKkb00AAAAjQZ/eRREsM/8AS2mQsDA6pS7ZF0TjZ4yjokIVUBWyFh733AkAAAAc\n",
       "AZ/9dEK/AIr4MjuNNp1Mc0qaiKKt/EdKhgEFTAAAABcBn/9qQr8AishPVov2u7fitoJJPl4+EQAA\n",
       "ACpBm+JJqEFsmUwUTDf//qeEAKw9BunjCqalkbW/nnd4oPsH8a0Z01Co8tkAAAAaAZ4BakK/AIrb\n",
       "pAL4wlAa3HO1JP8h1xOX8CEAAAAyQZoDSeEKUmUwId/+qZYAVv5N/hEpqCI0m0pvQiVnxBQP1QPb\n",
       "0xNtze1Icj7EwqZfcs0AAABNQZolSeEOiZTBTRMO//6plgAsnxkHqBEuPuByKGFsCq+ARx0y4vl+\n",
       "vv1Nz+v6X1qo4as2b+rRGemBvnQWDFFPewraMZEb1o8mtzARBVgAAAAbAZ5EakK/AEdtGtnkahvW\n",
       "mRipP5TEw9vUMDLAAAAAPUGaSEnhDyZTAhv//qeEAFj94C4FrhML2hynctnu34O77nw+PN6bW4O5\n",
       "Q9wMPblC74Ehs48r0nVspx/9YyEAAAAjQZ5mRRE8L/8ANMGKvYnnzg8rvJLU2vBZSOlBGK2YeAYy\n",
       "XqcAAAAdAZ6HakK/AEVkJ6tNY1rQblYT0jhX/Ap4aq015hEAAAA1QZqKSahBaJlMFPDf/qeEACx8\n",
       "y7ThCJK3B/PNRrJuzaEmc0KNDXdtJSOyAzTD7fTYheCiI4AAAAAgAZ6pakK/ACOyGQoA+k3qt1OZ\n",
       "Y24Pu9TrTCxrax18CAUAAABTQZqrSeEKUmUwId/+qZYACyfGuzgAwXVCwTU9gmi9TUylhGtHf+S/\n",
       "3JzrAHSCr4Sg35MNkm2h75Eq2zRaSajKA6n6/idavvcctbEkQvre2LHnqE8AAAAsQZrNSeEOiZTB\n",
       "TRMO//6plgALN8AZKSc1L4JphpE9fGX4zYU5cD7wCEBR8g8AAAAfAZ7sakK/ABHZD5m0BprlNepx\n",
       "DICDm7ehfBPD4LpI4QAAACtBmu9J4Q8mUwU8N//+p4QACx8y7S8iLL2OgHmCuHcll5k53rhdBhg3\n",
       "eEnAAAAAKAGfDmpCvwAI7IZDhwW+idV5JNudwutXr8YOfTXNc3u2icogVgBqKkAAAABAQZsQSeEP\n",
       "JlMCHf/+qZYAAsnxrs4HlmTUSmwXodqdqzu2j+7hzmxzk1IHBQqbUq0gtSYONjuS6mWxmWkhAyEq\n",
       "wQAAAC5BmzJJ4Q8mUwURPDv//qmWAALN8A2Rx6F/XJwV/vHe0OmJspvFavdf/hrMm4g/AAAAGgGf\n",
       "UWpCvwAEdkJyW0RqXWHybYWut2QL5mOYAAAAMUGbVUnhDyZTAhv//qeEAALH7wlj4GyjYaQ0zI6v\n",
       "Mg798y31ERaSPwu9SqwALrbHpJkAAAAfQZ9zRRE8L/8AAaYMVgOFVzyAty8JJZtpq+3WMXvXWQAA\n",
       "AB0Bn5RqQr8AAishPVprS3a8U1aekcK/4GrLJJWuuQAAAClBm5lJqEFomUwIV//+OEAAFR9rZLg0\n",
       "ifh/lucR9KpM39rlcYTrs26/YAAAACFBn7dFESwz/wAAmsVPpMRTz1U2wuKl+JCGaLg4UI8zSyAA\n",
       "AAAcAZ/WdEK/AAEdc3IxZGm7fCuNvbUL+AMl6acbwQAAABoBn9hqQr8AAI7aNcZIhPVFXmnO90eJ\n",
       "Ji8ZgAAAGZptb292AAAAbG12aGQAAAAAAAAAAAAAAAAAAAPoAABhqAABAAABAAAAAAAAAAAAAAAA\n",
       "AQAAAAAAAAAAAAAAAAAAAAEAAAAAAAAAAAAAAAAAAEAAAAAAAAAAAAAAAAAAAAAAAAAAAAAAAAAA\n",
       "AAAAAAACAAAYxHRyYWsAAABcdGtoZAAAAAMAAAAAAAAAAAAAAAEAAAAAAABhqAAAAAAAAAAAAAAA\n",
       "AAAAAAAAAQAAAAAAAAAAAAAAAAAAAAEAAAAAAAAAAAAAAAAAAEAAAAABsAAAASAAAAAAACRlZHRz\n",
       "AAAAHGVsc3QAAAAAAAAAAQAAYagAAAQAAAEAAAAAGDxtZGlhAAAAIG1kaGQAAAAAAAAAAAAAAAAA\n",
       "ACgAAAPoAFXEAAAAAAAtaGRscgAAAAAAAAAAdmlkZQAAAAAAAAAAAAAAAFZpZGVvSGFuZGxlcgAA\n",
       "ABfnbWluZgAAABR2bWhkAAAAAQAAAAAAAAAAAAAAJGRpbmYAAAAcZHJlZgAAAAAAAAABAAAADHVy\n",
       "bCAAAAABAAAXp3N0YmwAAACzc3RzZAAAAAAAAAABAAAAo2F2YzEAAAAAAAAAAQAAAAAAAAAAAAAA\n",
       "AAAAAAABsAEgAEgAAABIAAAAAAAAAAEAAAAAAAAAAAAAAAAAAAAAAAAAAAAAAAAAAAAAAAAAAAAY\n",
       "//8AAAAxYXZjQwFkABX/4QAYZ2QAFazZQbCWhAAAAwAEAAADAKA8WLZYAQAGaOvjyyLAAAAAHHV1\n",
       "aWRraEDyXyRPxbo5pRvPAyPzAAAAAAAAABhzdHRzAAAAAAAAAAEAAAH0AAACAAAAABhzdHNzAAAA\n",
       "AAAAAAIAAAABAAAA+wAADqhjdHRzAAAAAAAAAdMAAAABAAAEAAAAAAEAAAoAAAAAAQAABAAAAAAB\n",
       "AAAAAAAAAAEAAAIAAAAAAQAACgAAAAABAAAEAAAAAAEAAAAAAAAAAQAAAgAAAAABAAAKAAAAAAEA\n",
       "AAQAAAAAAQAAAAAAAAABAAACAAAAAAEAAAQAAAAAAQAACgAAAAABAAAEAAAAAAEAAAAAAAAAAQAA\n",
       "AgAAAAABAAAKAAAAAAEAAAQAAAAAAQAAAAAAAAABAAACAAAAAAEAAAgAAAAAAgAAAgAAAAABAAAG\n",
       "AAAAAAEAAAIAAAAAAQAABAAAAAABAAAGAAAAAAEAAAIAAAAAAQAACgAAAAABAAAEAAAAAAEAAAAA\n",
       "AAAAAQAAAgAAAAABAAAGAAAAAAEAAAIAAAAAAQAACgAAAAABAAAEAAAAAAEAAAAAAAAAAQAAAgAA\n",
       "AAABAAAGAAAAAAEAAAIAAAAAAQAABAAAAAABAAAGAAAAAAEAAAIAAAAAAQAABAAAAAABAAAIAAAA\n",
       "AAIAAAIAAAAAAQAABAAAAAABAAAKAAAAAAEAAAQAAAAAAQAAAAAAAAABAAACAAAAAAEAAAoAAAAA\n",
       "AQAABAAAAAABAAAAAAAAAAEAAAIAAAAAAQAACgAAAAABAAAEAAAAAAEAAAAAAAAAAQAAAgAAAAAB\n",
       "AAAGAAAAAAEAAAIAAAAAAQAACAAAAAACAAACAAAAAAEAAAoAAAAAAQAABAAAAAABAAAAAAAAAAEA\n",
       "AAIAAAAAAQAACgAAAAABAAAEAAAAAAEAAAAAAAAAAQAAAgAAAAABAAAKAAAAAAEAAAQAAAAAAQAA\n",
       "AAAAAAABAAACAAAAAAEAAAYAAAAAAQAAAgAAAAABAAAGAAAAAAEAAAIAAAAAAQAABgAAAAABAAAC\n",
       "AAAAAAEAAAQAAAAAAQAACAAAAAACAAACAAAAAAEAAAQAAAAAAQAACgAAAAABAAAEAAAAAAEAAAAA\n",
       "AAAAAQAAAgAAAAABAAAKAAAAAAEAAAQAAAAAAQAAAAAAAAABAAACAAAAAAEAAAYAAAAAAQAAAgAA\n",
       "AAABAAAGAAAAAAEAAAIAAAAAAQAABgAAAAABAAACAAAAAAMAAAQAAAAAAQAACgAAAAABAAAEAAAA\n",
       "AAEAAAAAAAAAAQAAAgAAAAABAAAKAAAAAAEAAAQAAAAAAQAAAAAAAAABAAACAAAAAAEAAAoAAAAA\n",
       "AQAABAAAAAABAAAAAAAAAAEAAAIAAAAAAQAACgAAAAABAAAEAAAAAAEAAAAAAAAAAQAAAgAAAAAB\n",
       "AAAKAAAAAAEAAAQAAAAAAQAAAAAAAAABAAACAAAAAAEAAAoAAAAAAQAABAAAAAABAAAAAAAAAAEA\n",
       "AAIAAAAAAQAACgAAAAABAAAEAAAAAAEAAAAAAAAAAQAAAgAAAAABAAAKAAAAAAEAAAQAAAAAAQAA\n",
       "AAAAAAABAAACAAAAAAIAAAQAAAAAAQAABgAAAAABAAACAAAAAAEAAAoAAAAAAQAABAAAAAABAAAA\n",
       "AAAAAAEAAAIAAAAAAgAABAAAAAABAAAIAAAAAAIAAAIAAAAAAQAABAAAAAABAAAGAAAAAAEAAAIA\n",
       "AAAAAQAABAAAAAABAAAIAAAAAAIAAAIAAAAAAQAACgAAAAABAAAEAAAAAAEAAAAAAAAAAQAAAgAA\n",
       "AAABAAAKAAAAAAEAAAQAAAAAAQAAAAAAAAABAAACAAAAAAEAAAoAAAAAAQAABAAAAAABAAAAAAAA\n",
       "AAEAAAIAAAAAAQAACgAAAAABAAAEAAAAAAEAAAAAAAAAAQAAAgAAAAABAAAKAAAAAAEAAAQAAAAA\n",
       "AQAAAAAAAAABAAACAAAAAAEAAAYAAAAAAQAAAgAAAAABAAAKAAAAAAEAAAQAAAAAAQAAAAAAAAAB\n",
       "AAACAAAAAAEAAAYAAAAAAQAAAgAAAAABAAAKAAAAAAEAAAQAAAAAAQAAAAAAAAABAAACAAAAAAEA\n",
       "AAoAAAAAAQAABAAAAAABAAAAAAAAAAEAAAIAAAAAAgAABAAAAAABAAAGAAAAAAEAAAIAAAAAAQAA\n",
       "CAAAAAACAAACAAAAAAEAAAYAAAAAAQAAAgAAAAABAAAEAAAAAAEAAAYAAAAAAQAAAgAAAAABAAAG\n",
       "AAAAAAEAAAIAAAAAAQAABAAAAAABAAAGAAAAAAEAAAIAAAAAAQAACAAAAAACAAACAAAAAAEAAAoA\n",
       "AAAAAQAABAAAAAABAAAAAAAAAAEAAAIAAAAAAQAACgAAAAABAAAEAAAAAAEAAAAAAAAAAQAAAgAA\n",
       "AAABAAAKAAAAAAEAAAQAAAAAAQAAAAAAAAABAAACAAAAAAEAAAQAAAAAAQAABgAAAAABAAACAAAA\n",
       "AAEAAAgAAAAAAgAAAgAAAAABAAAGAAAAAAEAAAIAAAAAAQAABgAAAAABAAACAAAAAAEAAAgAAAAA\n",
       "AgAAAgAAAAABAAAIAAAAAAIAAAIAAAAAAQAACgAAAAABAAAEAAAAAAEAAAAAAAAAAQAAAgAAAAAB\n",
       "AAAIAAAAAAIAAAIAAAAAAQAABAAAAAABAAAGAAAAAAEAAAIAAAAAAQAABgAAAAABAAACAAAAAAEA\n",
       "AAgAAAAAAgAAAgAAAAABAAAGAAAAAAEAAAIAAAAAAQAABAAAAAABAAAGAAAAAAEAAAIAAAAAAQAA\n",
       "CAAAAAACAAACAAAAAAEAAAYAAAAAAQAAAgAAAAABAAAGAAAAAAEAAAIAAAAAAQAABAAAAAABAAAI\n",
       "AAAAAAIAAAIAAAAAAQAABAAAAAABAAAKAAAAAAEAAAQAAAAAAQAAAAAAAAABAAACAAAAAAEAAAoA\n",
       "AAAAAQAABAAAAAABAAAAAAAAAAEAAAIAAAAAAQAACgAAAAABAAAEAAAAAAEAAAAAAAAAAQAAAgAA\n",
       "AAABAAAGAAAAAAEAAAIAAAAAAQAACgAAAAABAAAEAAAAAAEAAAAAAAAAAQAAAgAAAAABAAAGAAAA\n",
       "AAEAAAIAAAAAAQAACgAAAAABAAAEAAAAAAEAAAAAAAAAAQAAAgAAAAABAAAKAAAAAAEAAAQAAAAA\n",
       "AQAAAAAAAAABAAACAAAAAAEAAAgAAAAAAgAAAgAAAAABAAAGAAAAAAEAAAIAAAAAAQAABAAAAAAB\n",
       "AAAGAAAAAAEAAAIAAAAAAQAACgAAAAABAAAEAAAAAAEAAAAAAAAAAQAAAgAAAAABAAAIAAAAAAIA\n",
       "AAIAAAAAAQAABgAAAAABAAACAAAAAAEAAAYAAAAAAQAAAgAAAAABAAAIAAAAAAIAAAIAAAAAAQAA\n",
       "BgAAAAABAAACAAAAAAEAAAgAAAAAAgAAAgAAAAABAAAEAAAAAAEAAAoAAAAAAQAABAAAAAABAAAA\n",
       "AAAAAAEAAAIAAAAAAQAACgAAAAABAAAEAAAAAAEAAAAAAAAAAQAAAgAAAAABAAAKAAAAAAEAAAQA\n",
       "AAAAAQAAAAAAAAABAAACAAAAAAEAAAYAAAAAAQAAAgAAAAABAAAIAAAAAAIAAAIAAAAAAQAABgAA\n",
       "AAABAAACAAAAAAEAAAQAAAAAAQAACgAAAAABAAAEAAAAAAEAAAAAAAAAAQAAAgAAAAABAAAKAAAA\n",
       "AAEAAAQAAAAAAQAAAAAAAAABAAACAAAAAAEAAAYAAAAAAQAAAgAAAAABAAAKAAAAAAEAAAQAAAAA\n",
       "AQAAAAAAAAABAAACAAAAAAIAAAQAAAAAAQAACAAAAAACAAACAAAAAAEAAAQAAAAAAQAACgAAAAAB\n",
       "AAAEAAAAAAEAAAAAAAAAAQAAAgAAAAABAAAKAAAAAAEAAAQAAAAAAQAAAAAAAAABAAACAAAAAAEA\n",
       "AAYAAAAAAQAAAgAAAAABAAAGAAAAAAEAAAIAAAAAAQAABgAAAAABAAACAAAAAAMAAAQAAAAAAQAA\n",
       "CgAAAAABAAAEAAAAAAEAAAAAAAAAAQAAAgAAAAABAAAKAAAAAAEAAAQAAAAAAQAAAAAAAAABAAAC\n",
       "AAAAAAEAAAoAAAAAAQAABAAAAAABAAAAAAAAAAEAAAIAAAAAAQAACgAAAAABAAAEAAAAAAEAAAAA\n",
       "AAAAAQAAAgAAAAABAAAKAAAAAAEAAAQAAAAAAQAAAAAAAAABAAACAAAAAAEAAAoAAAAAAQAABAAA\n",
       "AAABAAAAAAAAAAEAAAIAAAAAAQAACgAAAAABAAAEAAAAAAEAAAAAAAAAAQAAAgAAAAABAAAKAAAA\n",
       "AAEAAAQAAAAAAQAAAAAAAAABAAACAAAAAAIAAAQAAAAAAQAABgAAAAABAAACAAAAAAEAAAoAAAAA\n",
       "AQAABAAAAAABAAAAAAAAAAEAAAIAAAAAAQAABAAAAAABAAAGAAAAAAEAAAIAAAAAAQAABAAAAAAB\n",
       "AAAGAAAAAAEAAAIAAAAAAQAABgAAAAABAAACAAAAAAEAAAQAAAAAAQAACAAAAAACAAACAAAAAAEA\n",
       "AAoAAAAAAQAABAAAAAABAAAAAAAAAAEAAAIAAAAAAQAACgAAAAABAAAEAAAAAAEAAAAAAAAAAQAA\n",
       "AgAAAAABAAAKAAAAAAEAAAQAAAAAAQAAAAAAAAABAAACAAAAAAEAAAoAAAAAAQAABAAAAAABAAAA\n",
       "AAAAAAEAAAIAAAAAAQAACgAAAAABAAAEAAAAAAEAAAAAAAAAAQAAAgAAAAABAAAGAAAAAAEAAAIA\n",
       "AAAAAQAACgAAAAABAAAEAAAAAAEAAAAAAAAAAQAAAgAAAAABAAAEAAAAAAEAAAoAAAAAAQAABAAA\n",
       "AAABAAAAAAAAAAEAAAIAAAAAAQAACgAAAAABAAAEAAAAAAEAAAAAAAAAAQAAAgAAAAABAAAGAAAA\n",
       "AAEAAAIAAAAAAQAABAAAAAABAAAGAAAAAAEAAAIAAAAAAQAACAAAAAACAAACAAAAAAEAAAYAAAAA\n",
       "AQAAAgAAAAABAAAEAAAAAAEAAAYAAAAAAQAAAgAAAAABAAAGAAAAAAEAAAIAAAAAAQAABAAAAAAB\n",
       "AAAGAAAAAAEAAAIAAAAAAQAACAAAAAACAAACAAAAAAEAAAoAAAAAAQAABAAAAAABAAAAAAAAAAEA\n",
       "AAIAAAAAHHN0c2MAAAAAAAAAAQAAAAEAAAH0AAAAAQAAB+RzdHN6AAAAAAAAAAAAAAH0AAANcQAA\n",
       "AWIAAAA+AAAAMAAAAC8AAAIAAAAASAAAAC4AAAAkAAACGwAAAC0AAAAnAAAAKwAAAIcAAAFeAAAA\n",
       "LQAAACAAAAAiAAAAUgAAACUAAAAgAAAAIAAAAD0AAAAiAAAAHwAAAEQAAAAdAAAATgAAAGcAAAAk\n",
       "AAAAXAAAACUAAAAiAAAAIQAAAEgAAAAfAAAAOwAAACgAAAAfAAAAIwAAAC8AAAAkAAAARgAAAD8A\n",
       "AAAgAAAAOAAAADgAAAAjAAAAHAAAAIAAAAA1AAAAHwAAACEAAAAPAAAASgAAADEAAAAgAAAAIQAA\n",
       "ADcAAAAqAAAAHAAAACMAAABdAAAAJgAAAKwAAAAnAAAAIQAAAf0AAAAxAAAAIwAAACQAAAEdAAAA\n",
       "QQAAACIAAAAnAAAAMAAAADEAAAAhAAAAIgAAAC8AAAAjAAAAOgAAAB4AAABLAAAAHgAAAEIAAAA0\n",
       "AAAAIwAAAB0AAAA7AAAAUQAAAC0AAAAhAAAAHwAAAFQAAAAmAAAAHQAAAB4AAABFAAAAJQAAAEsA\n",
       "AAAeAAAATgAAACAAAAA6AAAANwAAAEwAAAAzAAAAHwAAACAAAAAPAAAATAAAACQAAAAbAAAAHwAA\n",
       "AGcAAAArAAAAIQAAACAAAAIdAAAANwAAACMAAAAmAAAB8AAAAC8AAAAlAAAAJgAAAS4AAAA0AAAA\n",
       "IwAAACQAAABZAAAAMAAAACQAAAAeAAAALAAAACcAAAAgAAAAGwAAAEAAAABPAAAAUgAAACUAAAA3\n",
       "AAAALAAAACAAAAAlAAAAOQAAAD4AAABVAAAAJwAAACEAAAB/AAAAVgAAACIAAABCAAAAewAAACQA\n",
       "AAAiAAAAcgAAACwAAAAdAAAAHwAAAEoAAAAdAAAAIgAAAA8AAABGAAAAKwAAAB8AAAAhAAAASAAA\n",
       "AC0AAAAgAAAAHgAAAgkAAAAvAAAAJAAAAB8AAABRAAAAKAAAAisAAAAzAAAAIgAAACgAAABSAAAA\n",
       "KAAAAGIAAAA1AAAAIAAAACYAAAA7AAAALgAAABoAAAAZAAAAWwAAAFIAAABSAAAAIQAAAFoAAAAk\n",
       "AAAAIQAAADMAAAAjAAAAMAAAADkAAAAfAAAAVgAAACMAAABjAAAAPgAAACAAAABMAAAAJwAAAB0A\n",
       "AABKAAAAKgAAAB8AAAAgAAAAWQAAAB4AAAAgAAAAEQAAAFYAAAAqAAAAHwAAAB8AAAA8AAAAQAAA\n",
       "ADkAAABOAAAAIgAAAB4AAAAqAAAAIgAAAEUAAAAjAAAAUQAAACIAAAA4AAAAdQAAACoAAAAoAAAA\n",
       "RwAAAEoAAAAfAAAAHgAAAEwAAAAgAAAAGwAADAwAAAFlAAAAMwAAAIAAAAAsAAAAQwAAACgAAAAd\n",
       "AAAAMQAAACAAAAAsAAAANAAAACAAAAAvAAAAJgAAAB0AAABEAAAAHQAAAF8AAAAdAAAAVAAAAEEA\n",
       "AAAgAAAAHAAAAHUAAAA+AAAAHAAAACAAAAAPAAAAUAAAACgAAAAgAAAAHAAAAE0AAAAjAAAAHAAA\n",
       "ACIAAABHAAAAHgAAAg0AAAAnAAAAHQAAAB8AAABqAAAAIwAAAZcAAAAtAAAAIgAAACEAAACLAAAA\n",
       "JQAAACIAAAAeAAAASQAAACUAAAAeAAAAaAAAABwAAABZAAAAUgAAACEAAABvAAAAJQAAACIAAAAh\n",
       "AAAAPgAAACEAAAAeAAAAOwAAAB4AAAA/AAAAIAAAAGUAAAAsAAAAHgAAAGoAAAAdAAAATQAAACAA\n",
       "AAAcAAAAewAAAEcAAAAcAAAAIQAAAA8AAABeAAAANAAAACAAAAAgAAAAOQAAACUAAAAcAAAAIwAA\n",
       "AFwAAAAfAAAAngAAADcAAAAgAAAAWAAAADkAAACCAAABlQAAACUAAAAjAAAAHgAAAGAAAAApAAAA\n",
       "JgAAACMAAAA+AAAAJQAAAEEAAAArAAAAGQAAAB0AAAA7AAAAcwAAADoAAAAjAAAAHgAAAD0AAABI\n",
       "AAAALgAAAB8AAAAeAAAAagAAACQAAAAdAAAAIAAAAEUAAAAhAAAAUgAAAB0AAABMAAAAHgAAAEgA\n",
       "AAAzAAAAXgAAADoAAAAcAAAAHwAAAA8AAABqAAAAJAAAABsAAAAeAAAAZQAAAC4AAAAhAAAAHwAA\n",
       "AhcAAAA+AAAAJAAAACcAAAH2AAAALgAAACMAAAAkAAABKwAAADEAAAAgAAAAJQAAAF0AAAAxAAAA\n",
       "IAAAACAAAAAsAAAAJwAAACMAAAAbAAAAQAAAAEIAAABLAAAAIQAAAEAAAAAmAAAAIQAAACAAAAA7\n",
       "AAAANwAAACEAAABLAAAAQgAAAB0AAAA2AAAAIAAAADkAAABrAAAAJAAAACAAAABEAAAALQAAACAA\n",
       "AAAcAAAAQwAAABwAAAAiAAAADwAAAD0AAAAlAAAAIAAAAB8AAABZAAAAJgAAAB8AAAAgAAACAgAA\n",
       "ACUAAAAnAAAAIQAAAGUAAAAlAAAB+wAAADIAAAAhAAAAIgAAAFIAAAB8AAAALAAAACIAAAAjAAAA\n",
       "TAAAACcAAAAgAAAAGwAAAC4AAAAeAAAANgAAAFEAAAAfAAAAQQAAACcAAAAhAAAAOQAAACQAAABX\n",
       "AAAAMAAAACMAAAAvAAAALAAAAEQAAAAyAAAAHgAAADUAAAAjAAAAIQAAAC0AAAAlAAAAIAAAAB4A\n",
       "AAAUc3RjbwAAAAAAAAABAAAALAAAAGJ1ZHRhAAAAWm1ldGEAAAAAAAAAIWhkbHIAAAAAAAAAAG1k\n",
       "aXJhcHBsAAAAAAAAAAAAAAAALWlsc3QAAAAlqXRvbwAAAB1kYXRhAAAAAQAAAABMYXZmNTguMTIu\n",
       "MTAw\n",
       "\">\n",
       "  Your browser does not support the video tag.\n",
       "</video>"
      ],
      "text/plain": [
       "<matplotlib.animation.FuncAnimation at 0x181fac8128>"
      ]
     },
     "execution_count": 270,
     "metadata": {},
     "output_type": "execute_result"
    },
    {
     "data": {
      "image/png": "[encoded data removed]",
      "text/plain": [
       "<Figure size 432x288 with 1 Axes>"
      ]
     },
     "metadata": {},
     "output_type": "display_data"
    }
   ],
   "source": [
    "# 1. Create a figure window.\n",
    "fig = plt.figure()\n",
    "\n",
    "# 2. Create axes within the window\n",
    "ax = plt.axes(xlim=(-2, 2), ylim=(-3.5,3.5))\n",
    "\n",
    "# 3. Two objects to animate\n",
    "line,   = ax.plot([2,1], [4,3], marker=\"\" , ls=\"-\")  # a line\n",
    "point, = ax.plot([1], [1], marker='o', ms=40)        # a point\n",
    "\n",
    "# Spring data\n",
    "k = 100\n",
    "m = 20\n",
    "w = np.sqrt(k/m)\n",
    "phi = 2\n",
    "A = 2\n",
    "\n",
    "# Position of mass as function of time\n",
    "def fun(time):\n",
    "    return A*np.sin(w * time + phi)\n",
    "\n",
    "# 4. Animation function\n",
    "# Timestep = 1/20 = 0.05\n",
    "def animate(t):    \n",
    "    x = fun(t/20)     \n",
    "    line.set_data([0,0], [4, -x])    \n",
    "    point.set_data(0, -x)    \n",
    "    return line, point\n",
    "  \n",
    "    \n",
    "# 5. Create animation\n",
    "# 500 frames\n",
    "# 50ms (0.05s) delay between frames to match timestep\n",
    "anim = animation.FuncAnimation(fig, animate, frames=500, interval=50)\n",
    "\n",
    "rc('animation', html='html5')\n",
    "\n",
    "# 6. Play animation\n",
    "anim\n",
    "\n",
    "# 7. Save animation - if uncommented, animation won't move\n",
    "# writer = animation.writers['ffmpeg'](fps=15, bitrate=1800)\n",
    "# anim.save('img/spring_movie.mp4', writer=writer)\n"
   ]
  },
  {
   "cell_type": "markdown",
   "metadata": {
    "slideshow": {
     "slide_type": "slide"
    }
   },
   "source": [
    "### Example : Simulating Physical Systems\n",
    "#### Trajectory : Plotting the Object\n",
    "<a id='ExamplePlottingObject'></a>\n",
    "A projectile is launched with initial velocity $v$, at an angle of $\\theta$.\n",
    "\n",
    "If we neglect the force of drag on the projectile, it will travel in an arc. \n",
    "\n",
    "It's position in the horizontal (x) and vertical (y) direction at time $t$ can be found by.\n",
    "\n",
    "$x= vt\\cos(\\theta)$\n",
    "<br>$y= vt\\sin(\\theta) - \\frac{1}{2}gt^2$\n",
    "\n",
    "where gravity, $g=9.81$ms$^{-2}$ \n",
    "\n",
    "Initial conditions:\n",
    " - $\\theta = \\pi/2$\n",
    " - velocity, $v=10$ms$^{-1}$ \n",
    "\n",
    "<img src=\"img/projectile3.png\" alt=\"Drawing\" style=\"width: 300px;\"/>\n"
   ]
  },
  {
   "cell_type": "markdown",
   "metadata": {
    "slideshow": {
     "slide_type": "slide"
    }
   },
   "source": [
    "1. Create a figure window\n",
    "1. Create axes within the figure window.\n",
    "1. Create a point to animate\n",
    "1. Create variables for $g$, $v$, and $\\theta$\n",
    "1. Write a function, `fun` to find x and y position as a function of time, t (function argument = t)\n",
    "1. To animate the motion of the particle create a function, `animate`. Within animate call the function, `func`. Use a timestep of i/10.\n",
    "1. Use the function `animation.FuncAnimation` to create the animation."
   ]
  },
  {
   "cell_type": "code",
   "execution_count": 271,
   "metadata": {},
   "outputs": [
    {
     "data": {
      "text/html": [
       "<video width=\"432\" height=\"288\" controls autoplay loop>\n",
       "  <source type=\"video/mp4\" src=\"data:video/mp4;base64,AAAAHGZ0eXBNNFYgAAACAGlzb21pc28yYXZjMQAAAAhmcmVlAAAQOm1kYXQAAAKuBgX//6rcRem9\n",
       "5tlIt5Ys2CDZI+7veDI2NCAtIGNvcmUgMTUyIHIyODU0IGU5YTU5MDMgLSBILjI2NC9NUEVHLTQg\n",
       "QVZDIGNvZGVjIC0gQ29weWxlZnQgMjAwMy0yMDE3IC0gaHR0cDovL3d3dy52aWRlb2xhbi5vcmcv\n",
       "eDI2NC5odG1sIC0gb3B0aW9uczogY2FiYWM9MSByZWY9MyBkZWJsb2NrPTE6MDowIGFuYWx5c2U9\n",
       "MHgzOjB4MTEzIG1lPWhleCBzdWJtZT03IHBzeT0xIHBzeV9yZD0xLjAwOjAuMDAgbWl4ZWRfcmVm\n",
       "PTEgbWVfcmFuZ2U9MTYgY2hyb21hX21lPTEgdHJlbGxpcz0xIDh4OGRjdD0xIGNxbT0wIGRlYWR6\n",
       "b25lPTIxLDExIGZhc3RfcHNraXA9MSBjaHJvbWFfcXBfb2Zmc2V0PS0yIHRocmVhZHM9NiBsb29r\n",
       "YWhlYWRfdGhyZWFkcz0xIHNsaWNlZF90aHJlYWRzPTAgbnI9MCBkZWNpbWF0ZT0xIGludGVybGFj\n",
       "ZWQ9MCBibHVyYXlfY29tcGF0PTAgY29uc3RyYWluZWRfaW50cmE9MCBiZnJhbWVzPTMgYl9weXJh\n",
       "bWlkPTIgYl9hZGFwdD0xIGJfYmlhcz0wIGRpcmVjdD0xIHdlaWdodGI9MSBvcGVuX2dvcD0wIHdl\n",
       "aWdodHA9MiBrZXlpbnQ9MjUwIGtleWludF9taW49MjAgc2NlbmVjdXQ9NDAgaW50cmFfcmVmcmVz\n",
       "aD0wIHJjX2xvb2thaGVhZD00MCByYz1jcmYgbWJ0cmVlPTEgY3JmPTIzLjAgcWNvbXA9MC42MCBx\n",
       "cG1pbj0wIHFwbWF4PTY5IHFwc3RlcD00IGlwX3JhdGlvPTEuNDAgYXE9MToxLjAwAIAAAAT5ZYiE\n",
       "ADf//vbw/gU2O5jQlxHN6J0zH78VuLo0N73OAAADAAA33SOPBdk/UBkPNv8y80d95K1rqTpXIhMH\n",
       "/HxGhI67v7ASQWeqEo2cm3AAAA31iu0A+7wXL8XgefHxEWccgExDdHXPe9nxcm+rgt9BUD6J916U\n",
       "QAKk74jOdHEUdPv1xHRFr8TVu22HuQbnLwG1V/pNkKDSTKCXTAsC+ql3nk1t+HAnnQSv5vcAAF77\n",
       "4ruFvlHxljjzEBNdRsGgdcqDMOqx0XkO9LBIAYoOU+quEKAsv2Aq8lhNY5gZk4Pjv6KNmpHlAdeI\n",
       "9gWl20GWeKVzUNrO2eIHE/2uGYyXnvQRqGIV2IjwJByVA4cZ8gACJ5tCUDfvkjXuDi46+Zu4t8Do\n",
       "1JgQtY3FSdfHX7Yfx0BXDtALcmKLctadsdxXWyXpslJZxrIawTi6zUq79rMPdqB8bB6l4KwTT8pR\n",
       "yvgViYaeUHsilapEDSAPE6XCNQlKe6G7ZtZdN3v9XXvigUW9B1jbo5ACOxOAe6SRkNVH5ULWOq8P\n",
       "aYuzWrfCkh1YeFf/ro82mmgnRVyLn+0yjaF7+ZabnrDE3Y3TIoEVVSwO35G3hakBUvn2DzMnaQNJ\n",
       "4zBz0scUobUP5i5ku3zQowFXB2g2WhAkwD5WQDLFa7LQ8ej9B1h4Rb5Wb63Dqj/1uA1w4wa5zetY\n",
       "+o5cDs3xuCaU9nSt2BRC0wX9edeH7roU5nW7nt4ydx1ru1Mu35yHVESHTOBpivM8qQcME/hhD90h\n",
       "8n+8IfMC//ysW1TWly/rkZyy0wKV0gAYMuPNxKWEQ4vFAAIp3YWBpq+iSUfBNnSGnc3vMagEHiGb\n",
       "VlDRBzVGfotF3R+gAByZ+BkD4z+cbXN4tcfWUSQOoUWG/V0u4zhqaufguKlUI3WMh9DAWK9w3Mj+\n",
       "DPf01KdeQ0PVigXCRaTB9Zz6/7RjoWZ/JQfwLW9ezXdZjGOsCWW1vphEfcefMUg5DUOCwFMhVgmZ\n",
       "Im5+wNNvkqekYoLMjVWRgt5cEK6gSKPiflMEGzJqWgxbCh0Hc+VP/ftgRRgrtIx81TzPMsh3NTs2\n",
       "hCyJwUNXAvkCHCTyHLf9fBF4bvNeM+Ax2mkx62pzoZBWtqGcRSJgoriarDeZYwqYHpNAM6NPB1uO\n",
       "NW9nhM7Ve/7j70bEh/+bswo3+C+mkWXn7mNnPjRaNUCSo651J02GwJ1zOYNB0m8ymKafBOC1OFCo\n",
       "OWoYVSj9tk7r89D86tcYbBaJ45L+goAlUXh92OiRwIxL6fM+J4585rFFgsGYG6uEPGXxdjiXGBIb\n",
       "ScfZvYU3TwVcQAI4ZKAFJERgfmZwr95qlaNvWV4bMko6ItRyFEkdW4DX8/Z2Hp73I5e5Fnb9vvLK\n",
       "stQiy2criqYx3wkii/08GSh/JPVWlGBeQB8EA+0vG+9kh3iNSZYELtK+1TybwEYCffjsMSBhyKyh\n",
       "ADVw4xswNu2hjC4uVcJhVrtt2eF8Sjd5kSVEaOX5noRh01qC+PG31otYJHeUkDO16Cqh8V9I1EeD\n",
       "BMKi2kHU+hxf7WiWv2JVBdbKhrv7lMqHYPibqV0sRYvrszQOf1kKPokipJpeqpgl4HaK2AgQAhsj\n",
       "gKX+E4MUcNQYFrw1DgT14y2McPze4Dwi1CK46bDs5JnLT3kveU4CG07CtVQeB4tyGuzEoUfiuCEn\n",
       "Dc3j8jj8SgwBSb7+YesICQAAAgRBmiFsQ3/+p4QAAHEVyQB8+z80YRFkD5T2i/mLrCg+99bMFCVL\n",
       "3gPdDNpzz3X58BFP6hQ+8k0swkxFKSTP6dJc9TcnChIc7loPuzuLPd/UQcDXkBizMEk5X8k2dgkC\n",
       "OEYdLzjXfw4fTjSeNp9kRuKKVD18qzC1r0uSjarqJDE5FqH2s3Gjd+6Am+km+W3cLj7r+I+H2JUp\n",
       "BKjBZZQYu0yhupwLOcsI1SkyI9ZAiOJGno73apHNITdGyiT9SBMMRIO7XMLM4Y6JCBokQ44z9/fx\n",
       "pdTzw9CDoWPkGp6hX18SKrfCi9Azum5Qrh/BlxiYDT2qzbOrETgQK92mUoaKclqR9yaFOTtNKaKN\n",
       "48rJgXPoPYiacXZJO886FVBP2RWMtg7YXRVG9f+DTmKQBnSG8+C2iMVYFUc9gkvHX+oH/9rJC19k\n",
       "YedpM6ORdlFwdH46zhCcW+S/iVDb3GCWAtxFuFNpOG7KETJWxshI/SRVKDR+EWNxG4v7VZbX0S61\n",
       "9F8G/guny0WwkrQb2tSaN9Z2nWuPY42jqH/D/UjNBNWT/diCFqiFRKeLIVig2nzdT4WyJZoLSyow\n",
       "bFC21zov7l5rE9fInyja0uW/ybA4B4+dCJ7G0gJWemAJI4MwUMwVkCPM0rF+EzIfJb4GZG4fS3SJ\n",
       "89B4W1/UDkQUAE1kPMXqvP4ipkyTvc0AAAEDQZpCPCGTKYQ3//6nhAAA0usCzF1XxHQAIfqz92q0\n",
       "Ymdpb3DL6qBI/yqBKF2Ns8FfSH/n8y7XZ+z8vsJfDa0cX6Z82/qBrIbcct+R77s6aMN7WSgKpm31\n",
       "Fs0nEuOONULadRAktIiIk5XHLDZ7EIgb1cytu/a6K7xjIvUBC6KWHBe/TCqL7EYxJ5ws860uJXJw\n",
       "uRo3a3zkei0n3wSt1bM1m+CwaNuSCovyQ4gVp7IO6D7mqdUpHUDTGkGQJJXnSeL1F3iTQaJDxi0D\n",
       "sdf23ikqVSG1+og+nsyk0Fan2zdfZrCHBXVocqeddAFsXerGirR/+Kd5SFqJl9IR2HSs57MLsizf\n",
       "gQAAAK5BmmNJ4Q8mUwIb//6nhAADJ69+Czf3AESnqjo1+h1beQP9mHzzUcdvDwSZmvE5kpvZArn0\n",
       "o1WgfFV7sZY9qhs2usMYJy/Y/LsC0TUQZVEn5dA1wyas778E8t0c46F2UluHN/ir2wgG912yfzq0\n",
       "cEMvblmt1VKRWegvUd9sp9+FFoqdymkRF66QFmOrX3tHCCYGSXX4tGypVwpY+0BAea4xqNm5SBil\n",
       "nJGE3mWuJ5gAAAA8QZqESeEPJlMCG//+p4QABh4uSLtCM5PjF6NNGbXG+XT9N6RCf3CxiWH3VLnO\n",
       "wONjzCSfaBCVTj8vpTbdAAAATkGapUnhDyZTAhv//qeEAAYn2UVhYj4Zmb7YFXNFsytmf75mzbqA\n",
       "Da87k5GZeB+lr7UB7yrQctSLii5n8nMGaRvHjcLS5RQjAW7PrdiBiQAAAEdBmsZJ4Q8mUwIb//6n\n",
       "hAALVix9hLdHcNMnEDW+HzOUFzWYVP86OZdTAxcPY94/UknSp0TYOO+/BrRbY2wi4Iiy37VxsNyn\n",
       "UQAAADtBmudJ4Q8mUwIb//6nhAALZ7wDtVEMEALNbevf58UenwsbyAMmcyAADmwn3FZUmWc7xSGi\n",
       "q1C+q+CYgQAAAD1BmwhJ4Q8mUwIb//6nhAALH7wi/5gPXHnF2Lu4Vm9QFXdUe91YrR4rqgVLovd8\n",
       "jnuTnhsi4gz+0gCb/kwgAAAAVkGbKUnhDyZTAhv//qeEAAqPvCL/oDHTQXVT1w0kbAlfGZG9+5UT\n",
       "IVsHVPFDkEUWq78MVpwBskky/ZBX4Q7hZdS5B7xf0BiPFXlU7EQ+3pr4ezfl+26uAAAAQUGbSknh\n",
       "DyZTAhv//qeEAAUj3hF/g2ezavBC4/KXDvttUMjeBllLHybK8mAQ5tNce1L9g1iwCsJyPoxd/kXe\n",
       "C6ChAAAAQkGba0nhDyZTAhv//qeEAAn/vChl3sopQMXCB3sIeyknmJwo4U33t6vYY8O0LtZb+oAS\n",
       "DOoqKrwIs6s2IgG9WzWnoAAAAEpBm4xJ4Q8mUwIb//6nhAACXfI1bv4uwLJgepWx9imo3SLGkRxP\n",
       "2gXg7Bk5WRseEVsj23CuSNu54mu7SkTyL6Flb4xDW2LRs7YkGAAAAD1Bm61J4Q8mUwId//6plgAA\n",
       "kPyOtBY7zZ2ya8sY6M3tYtbqG8HAABdPlkBK2tpmcPjkot/k3YtN24/KSLBFAAAAd0GbzknhDyZT\n",
       "Ah///qmWAAAjDHmPooYHBsAFWJAKJDHoxSZr755b+AAqcOl8AQNP/5bmNoYcC80Yl+v70/J0tfwE\n",
       "z6WFEtQXD+5EP07zy8P1QVp+4bJtHSI1W33mIP1+JuF9TTPmHPLLTxtpZepQ1i8AQnRKHJxhAAAA\n",
       "JEGb8knhDyZTAh3//qmWAAAQn5Gm03R+i8mv2wk8gMC+La6Y3QAAAB9BnhBFETwz/wADG8Rz7QWg\n",
       "9er5jb0pnoBR4KtzgR74AAAAGQGeL3RCvwAF0TDY7oE75PzRbHrySxur7kAAAAAPAZ4xakK/AAXS\n",
       "v+jzdQ+JAAAAFUGaNkmoQWiZTAh3//6plgAAAwDwgAAAABhBnlRFESwz/wADJMOTvO0o26ZVFcmT\n",
       "xZwAAAAPAZ5zdEK/AAXRMNjuf/7xAAAADwGedWpCvwAF0r/o83UPiAAAABRBmnpJqEFsmUwIb//+\n",
       "p4QAAAMB3QAAABhBnphFFSwz/wADJMOTvO0o26ZVFcmTxZ0AAAAPAZ63dEK/AAXRMNjuf/7wAAAA\n",
       "DwGeuWpCvwAF0r/o83UPiQAAABNBmr1JqEFsmUwIV//+OEAAABxwAAAAGEGe20UVLC//AAQ3zmd6\n",
       "ZyS0m+f37tupUQAAAA8BnvxqQr8ABdK/6PN1D4kAAAQebW9vdgAAAGxtdmhkAAAAAAAAAAAAAAAA\n",
       "AAAD6AAABdwAAQAAAQAAAAAAAAAAAAAAAAEAAAAAAAAAAAAAAAAAAAABAAAAAAAAAAAAAAAAAABA\n",
       "AAAAAAAAAAAAAAAAAAAAAAAAAAAAAAAAAAAAAAAAAgAAA0h0cmFrAAAAXHRraGQAAAADAAAAAAAA\n",
       "AAAAAAABAAAAAAAABdwAAAAAAAAAAAAAAAAAAAAAAAEAAAAAAAAAAAAAAAAAAAABAAAAAAAAAAAA\n",
       "AAAAAABAAAAAAbAAAAEgAAAAAAAkZWR0cwAAABxlbHN0AAAAAAAAAAEAAAXcAAAEAAABAAAAAALA\n",
       "bWRpYQAAACBtZGhkAAAAAAAAAAAAAAAAAAAoAAAAPABVxAAAAAAALWhkbHIAAAAAAAAAAHZpZGUA\n",
       "AAAAAAAAAAAAAABWaWRlb0hhbmRsZXIAAAACa21pbmYAAAAUdm1oZAAAAAEAAAAAAAAAAAAAACRk\n",
       "aW5mAAAAHGRyZWYAAAAAAAAAAQAAAAx1cmwgAAAAAQAAAitzdGJsAAAAs3N0c2QAAAAAAAAAAQAA\n",
       "AKNhdmMxAAAAAAAAAAEAAAAAAAAAAAAAAAAAAAAAAbABIABIAAAASAAAAAAAAAABAAAAAAAAAAAA\n",
       "AAAAAAAAAAAAAAAAAAAAAAAAAAAAAAAAGP//AAAAMWF2Y0MBZAAV/+EAGGdkABWs2UGwloQAAAMA\n",
       "BAAAAwCgPFi2WAEABmjr48siwAAAABx1dWlka2hA8l8kT8W6OaUbzwMj8wAAAAAAAAAYc3R0cwAA\n",
       "AAAAAAABAAAAHgAAAgAAAAAUc3RzcwAAAAAAAAABAAAAAQAAAIhjdHRzAAAAAAAAAA8AAAAPAAAE\n",
       "AAAAAAEAAAoAAAAAAQAABAAAAAABAAAAAAAAAAEAAAIAAAAAAQAACgAAAAABAAAEAAAAAAEAAAAA\n",
       "AAAAAQAAAgAAAAABAAAKAAAAAAEAAAQAAAAAAQAAAAAAAAABAAACAAAAAAEAAAgAAAAAAgAAAgAA\n",
       "AAAcc3RzYwAAAAAAAAABAAAAAQAAAB4AAAABAAAAjHN0c3oAAAAAAAAAAAAAAB4AAAevAAACCAAA\n",
       "AQcAAACyAAAAQAAAAFIAAABLAAAAPwAAAEEAAABaAAAARQAAAEYAAABOAAAAQQAAAHsAAAAoAAAA\n",
       "IwAAAB0AAAATAAAAGQAAABwAAAATAAAAEwAAABgAAAAcAAAAEwAAABMAAAAXAAAAHAAAABMAAAAU\n",
       "c3RjbwAAAAAAAAABAAAALAAAAGJ1ZHRhAAAAWm1ldGEAAAAAAAAAIWhkbHIAAAAAAAAAAG1kaXJh\n",
       "cHBsAAAAAAAAAAAAAAAALWlsc3QAAAAlqXRvbwAAAB1kYXRhAAAAAQAAAABMYXZmNTguMTIuMTAw\n",
       "\">\n",
       "  Your browser does not support the video tag.\n",
       "</video>"
      ],
      "text/plain": [
       "<matplotlib.animation.FuncAnimation at 0x181fac8080>"
      ]
     },
     "execution_count": 271,
     "metadata": {},
     "output_type": "execute_result"
    },
    {
     "data": {
      "image/png": "[encoded data removed]",
      "text/plain": [
       "<Figure size 432x288 with 1 Axes>"
      ]
     },
     "metadata": {},
     "output_type": "display_data"
    }
   ],
   "source": [
    "# Creates a figure window.\n",
    "fig = plt.figure()\n",
    "\n",
    "# Creates axes within the window\n",
    "ax = plt.axes(xlim=(0, 10), ylim=(0, 5))\n",
    "\n",
    "# Object to animate\n",
    "point, = ax.plot([1], [1], marker='o', ms=40)  # for points\n",
    "\n",
    "g = 9.81\n",
    "v = 10\n",
    "theta = np.pi/4\n",
    "\n",
    "# Position of mass as function of time\n",
    "def fun(t):\n",
    "    x = v * t * np.cos(theta)\n",
    "    y = v * t * np.sin(theta) - (0.5 * g * t**2)\n",
    "    return x, y\n",
    "\n",
    "def animate(i):   \n",
    "    x, y = fun(i/10)   \n",
    "    point.set_data(x, y)    \n",
    "    return  (point,)\n",
    "    \n",
    "# Animates the data\n",
    "# 50 frames\n",
    "# 50ms delay between frames : animation plays at double speed of time-varying system\n",
    "anim = animation.FuncAnimation(fig, animate, frames=30, interval=50, blit=True)\n",
    "\n",
    "anim"
   ]
  },
  {
   "cell_type": "markdown",
   "metadata": {
    "slideshow": {
     "slide_type": "slide"
    }
   },
   "source": [
    "### Example : Simulating Physical Systems\n",
    "#### Trajectory : Plotting the Path\n",
    "<a id='ExamplePlottingPath'></a>"
   ]
  },
  {
   "cell_type": "code",
   "execution_count": 272,
   "metadata": {},
   "outputs": [
    {
     "data": {
      "text/html": [
       "<video width=\"432\" height=\"288\" controls autoplay loop>\n",
       "  <source type=\"video/mp4\" src=\"data:video/mp4;base64,AAAAHGZ0eXBNNFYgAAACAGlzb21pc28yYXZjMQAAAAhmcmVlAAAWoW1kYXQAAAKuBgX//6rcRem9\n",
       "5tlIt5Ys2CDZI+7veDI2NCAtIGNvcmUgMTUyIHIyODU0IGU5YTU5MDMgLSBILjI2NC9NUEVHLTQg\n",
       "QVZDIGNvZGVjIC0gQ29weWxlZnQgMjAwMy0yMDE3IC0gaHR0cDovL3d3dy52aWRlb2xhbi5vcmcv\n",
       "eDI2NC5odG1sIC0gb3B0aW9uczogY2FiYWM9MSByZWY9MyBkZWJsb2NrPTE6MDowIGFuYWx5c2U9\n",
       "MHgzOjB4MTEzIG1lPWhleCBzdWJtZT03IHBzeT0xIHBzeV9yZD0xLjAwOjAuMDAgbWl4ZWRfcmVm\n",
       "PTEgbWVfcmFuZ2U9MTYgY2hyb21hX21lPTEgdHJlbGxpcz0xIDh4OGRjdD0xIGNxbT0wIGRlYWR6\n",
       "b25lPTIxLDExIGZhc3RfcHNraXA9MSBjaHJvbWFfcXBfb2Zmc2V0PS0yIHRocmVhZHM9NiBsb29r\n",
       "YWhlYWRfdGhyZWFkcz0xIHNsaWNlZF90aHJlYWRzPTAgbnI9MCBkZWNpbWF0ZT0xIGludGVybGFj\n",
       "ZWQ9MCBibHVyYXlfY29tcGF0PTAgY29uc3RyYWluZWRfaW50cmE9MCBiZnJhbWVzPTMgYl9weXJh\n",
       "bWlkPTIgYl9hZGFwdD0xIGJfYmlhcz0wIGRpcmVjdD0xIHdlaWdodGI9MSBvcGVuX2dvcD0wIHdl\n",
       "aWdodHA9MiBrZXlpbnQ9MjUwIGtleWludF9taW49MjAgc2NlbmVjdXQ9NDAgaW50cmFfcmVmcmVz\n",
       "aD0wIHJjX2xvb2thaGVhZD00MCByYz1jcmYgbWJ0cmVlPTEgY3JmPTIzLjAgcWNvbXA9MC42MCBx\n",
       "cG1pbj0wIHFwbWF4PTY5IHFwc3RlcD00IGlwX3JhdGlvPTEuNDAgYXE9MToxLjAwAIAAAARVZYiE\n",
       "ADv//vdOvwKbRZdqA5JXCvbKpCZZuVJrAfKmAAADAAARsIY/wXZtYgEwl5tinGsi4cYpCGtPyQME\n",
       "8ax1A1vndgjdnULuvwAAe+u4bi8EDGwhS010LaPWL9glvKE9Z6noP28XX8Xcbr6H6rtVhjuGz/7i\n",
       "RnVLfbfmf8oKNkQ3h+qvOSp407T+3/Wuq2uvtVYYRHFJzUK8c9fCPqQBaoF2fK2d4P6IfbDFp46B\n",
       "/2ovjA9YBxCdL+LaSrP42b1AAAADApYFW/VXCCTCEmIS7Kf3NGfdN/DorgK6mRuO2hTGEUoOTdq8\n",
       "s52Efzq6Fsoc3pfdsOfemHaSae7T+LlobH9AAAA5I1vSfS1MRBcTpfZF392DVa3WgFTktZ4oIr+o\n",
       "aP58UU1lrIUS7OTCboldm6CAnLtLBf2XWZwD9oQmwkaahZ87Fo818uFaQ9CJS4NS3Z4chRZbwWtm\n",
       "VZD62DvxbsfZX8lVvMmYZ+AaFEPM+iUFwHQWwC2RyveHihIjy3Pf0JvptrATw/+DJBIjMYhjCDmG\n",
       "ANfeXJ51lyzFxqB6NkyIn4KLlImva47aQtBN1eK4CtlC2oeumfgA2mPxgWKDK7odV3xsGRLe3XAC\n",
       "XmOOAWLegmHyGJV9aTPFZSwS+j5RSJvCRCL4QBVujxibnm/vQ6p4MkkZCxsLHLnPjl6XBqB7ZO5I\n",
       "znkvhj9jsq/IoYPwr9nBhXBSuANl/6ivFnPIdtC0GT9j/kyyDIxklz8jiMWjkXqNW5K5EXHXETqq\n",
       "anfHQHu2+KZO6+1xVnh9+FpvSmuwgdUZ95/+AnXlWQx0/WJK/jltr6RrQc7SciJSxCocMlQypm0C\n",
       "LMCdsAiaGgy4ldrwm8u5c53bkbmlaZsOcsAv/rN9UdADvQJb/RngA09v4J5UrWXbsDB8SCU1Pu7q\n",
       "1UyeekSAixzSY9bU5QUERrBgDejbG3qjaBNcZJUeBaUIJ2z/rzs84BudjpGmP6+gTMCiays91xXn\n",
       "b1Y1F2djNDK95rnOJFEQ9wck3rjVSrBHRPp8IsDTRfSKp9VdM4Y2Un5A5uEyvDhDB2rZ/zhRUZeo\n",
       "pAejChu+6iwzPNbC+732cKo0gWRjbhgfZ9SuuWE5TD9bBy0RL8mC7rSN2yhLGONQVXTcFKdrWQo2\n",
       "xxKNwMHQs1XZBbxX3uZ4YbPQ14aLY9bS2noFgoS0FSwFrhCgjUkKrDfhOshuuza6Q4foEkpBjMhN\n",
       "AVbTw8pnlFNu7nNCKt101do9OZ0NpNptmgHnEpYAPzUg+x3+eF2yDTfGB6Tw0BTMmY5wh53jIB8P\n",
       "JSbB6XAIEyYSgE2YNfqTR7HQb5jKwUgryvymZQiUwLr4jyWYd4J6bhlq0spJg+m7M2cNTJR5TGJL\n",
       "0tKeDCQBrPv/rpK4iXjKgKfrVE0p9mUtiOKmouo2E6CoGOKQVGcx2/FnGz8JLE8Ds9/2qoXLPDl/\n",
       "TtHUGw4/qaNOErRGisCJABirvbU+Ee0AAALPQZojbEN//qeEAADO69+BoXwCk3IJooa0Dut2/UtR\n",
       "VA1mM2JmfGzj4u6/+e73L6iZuZk1kJYCvj7YGIsEsTwer5S5IWtR7fmHH514smhCdS3vwtEmw495\n",
       "0rEt1HUbjfpGfdskeoluXRBRjBZS89tfK29poikkC/dzRTcrMrViquDV+NogHvp6gqFcWBTv2iS8\n",
       "mpa4WWuI9T7wn2J3838yo2OEzePBjrVzJSb+iNzSyUQfAcv7ji0pdJy1FRzKMxEKKc/KLXFbduxl\n",
       "Q/+OaDkD54CvKXE4suxzXgniUaCfxlVOL5PAmbm45wiBhoeGy9Hikv/dIJu2v0kYKXeX5iBotUyI\n",
       "8A1fv83sNOyLWUxv7rEuAA8a3xd2J6qfj/w2uRHrZ19Qr5SF3oJdHKdJmumUYelxWCNKyEQkduby\n",
       "FGcnQ27Fb8pawO28ZVO5PTQds0P7ynCOlmDp39dwp8Q4qrzTannYTn9qhNyBHjPut5A74pTdznKJ\n",
       "KtGqfSHbZgXDHqa3mGN+J5ucDVW8R2VN2tGHIVEGGdRSxEmnKh4C020kgW4C6QY3ujP/foLcFm6u\n",
       "VNtnkxIb+cUd0W1GE1U3TZL++2ISLFXW20kRw4tZ2zpTOts4TU8H/bPQftfUk/POqvfujKvjYBF8\n",
       "+den1clyiM8gmoEVSmg9kuYPQYlYpMJtvf1dxqAR+pkqpPOOFex1pvXvAAnBMVrqMw5eB0Cf6Vsu\n",
       "ReFHJG8GDiDZqPRrBM1z5CmgpKVRSVJHj/ovf1qfsn6BN0LJe6+2ig0AXaQP0HthHRryT1EQRzUz\n",
       "NfzkSgMrRqhh5wtps8386UbRnTN6Mx7231kgR+pcJtR368Nstphli2tuoYVcfxVZYY3qLQaDqk3d\n",
       "ZXv6Iw7wYmzPz7ziEEz4nrpP71vZMx0+pWjVYJYl+Cvby6U1sLMbanvJ2hYiWbU0dll4TYB3Tnpf\n",
       "lgtdQZoAAABhQZ5BeIX/AAB5mVb5WrpdwEP2wA6MFA5WaFLskU0brr2C703baZ/bjcyLuQ+Saerg\n",
       "QOzd7Kvb1bmQzHDjfv0QUCzBnPvuOYmRkPuxkD/vYuwozNC+OnH4MRyNbabc/wBvwQAAAFYBnmJq\n",
       "Qr8AAUewDTHF0T/SSAK3444kw0vY1R4ixZfT3Uu5xMV1PXj86lw6eoCF5WLbaC4Wq3nRK0GEVf+E\n",
       "wwk5eKqSnEDTBqSk4YfbnJ/coZBQtEOKwAAAAT9BmmRJqEFomUwIb//+p4QAAYnXv1djER8Acy5C\n",
       "VWocIPGg91TJdjHBeeWG97FpaGyOx2Ro01gxGRiDFR0CC6UH9k7Pa3tfnFWBSbnjr+G/ovF7ZXCD\n",
       "PdJxb5AcKflAuH3VoUA2MhXj/6glKKe9JeB4fdH3fq6/3w5y7ZUrmo7y1rDlyB8yKV+KwF2UW6sE\n",
       "ksg0Lkw+RPVBGEp6S2D262FjDCVjZecgg64uUtWDFcK8pMy1Ga4VzSatzEQDL99EoLDHS9EuUbUn\n",
       "nGPviMIfDbggyIofmdjVqWW/+Vb09+wLjs8gzskM9EHLb5+DMmoFqAYAW+O0O8av554xF43T3+2D\n",
       "TN/69jQvtvDyBe3m+0gD6iKcjElIrWULHT1OhB35bW4/g11oIOj7+R7Bsrjs8D1pt78DFYo7/l8Q\n",
       "L2mNK7mBAAABYkGahUnhClJlMCG//qeEAAL/r34GhfAG2PJrXTXSxB4dWnvVnRMEOrMMXFjS5pNV\n",
       "ySWjWrPXckiYeq8v0mf7JKicRHlN/rRrqkriWRiJRM0Rv294h8ACZKLuqgiQ35pmFXl8pkLM6JtD\n",
       "ZNZPHA4+2oTAWepSypu5p3w9DpAHzDXPtIGV1+ojua7hv+Ltc+btie1G30+2awleuC/l8K4l9AMI\n",
       "pV8+BpGXtMJCAMl0xEjLUgvTSjfFCDSLuBiJM7BSWf0NGX+WhHTm7NRhm37HzfpScA7djbZz7tNP\n",
       "Sc+NLGTDUnyKTDwui+/hN0q1V1ezRC5gFlecdejrNbre6OWK0dZEFUUpYZKQhLDA/+t6Xf8hxtAh\n",
       "q9qAdthJzSAsMu09YSKGGsKhl54BDFIN3FVrsSoopq54U/uHXM0/QGcCZnrmHav41jRUkKsrT9sl\n",
       "dsnOikweH9/87fSluqYLhVXNWihQgQAAAUFBmqZJ4Q6JlMCG//6nhAAFj3988QjeAFqP/TF69ODD\n",
       "yv773avS4DtTaOJ8Ft8dZKIu2q4YMIzC73S5xyBjEKKWBQcjqHSZpuZM/cHGIEHqjb57b+jjEa71\n",
       "akYczeobqSTUE0ttYJZt+Kz8c993BEjwMrCOA7qAnwAP4yLpeuESqttlna3jpLNFKULMTCbFvroY\n",
       "jt5lA0b3LroCwgtP5185Q0YEcviqhbrYmdcn+9TbjQNKAKYAoYbldIo1f4fWW/m1S21rYNLcAwZF\n",
       "GJXC+jSdryMJ+L7uy640SHPi7CtHmuyGequ2R52vEA1CJt/xyTYWGFn31BA8EXa1AFkyvO6ijszL\n",
       "YFzlebZ+4+zPAt3C2iH3Kp5ZSqxrfq+AZbzf0B6IysXddZt7iZdTEI7PkEeeSFIGNOta2isCs5UO\n",
       "KGRmkrEAAAEPQZrHSeEPJlMCG//+p4QABY9/fOEDjgDln/pmgWBmp0kmhH+EpH85i/Fk5v8Dqvsa\n",
       "HOsxHR4NYbDr5Rkab6pcov0ECI4vCCcVuMmqPfpT+PurhJxag2ql6t0aye5Yqr5sG8Yor4vzhmYA\n",
       "otc4c4bgR4z8uU26IailIksSR1j7f3rATBJo6cIrW4pAxTozdfrQpnEdokvt0K+GCh1o0UQNJ2/Z\n",
       "+uT7C51wQYs4X+tGBka15D62v0ABK2xCjpqeM5Fumk9SLrVtvJWJqKgqG3f2sq2XbPptF5g4wVx5\n",
       "BEqJWT5erP49DqjWKRfBm5La/wYmtM+qsBSuv/yTW5CIU0Af6ETjoCoPsjutbeX73VpkUQAAAO5B\n",
       "muhJ4Q8mUwIb//6nhAAFiWzIaADomp72M1scwREbJ9DbxwmTeKBiS2f/N+jWx4M+UCEpMn446EZy\n",
       "5PAq7xepMyFG3/2Du+86A+b+as990SK9AeSDnt8l57K7IHwlK6I2qeD8WrwszcgUd8ynxN3bmvF+\n",
       "2UiTTG2jnoVSb8gfk6fMUo4DmTtKO4faY+M70fh7bvW7qNCFJnFs07z93xwWDHLD5DEPeZq6Dbts\n",
       "DnN/Re5G3o4sGgZvNhIWXJtdXs4Z1tGucx5TKzT9HcrMaKk/m3g2hERXJai32JdDAf+LxZkXNvil\n",
       "SaayA22PcXbwAAABG0GbCUnhDyZTAhv//qeEAAWHclwAsOcEGwzlNkFo65x6vgUoPaNgBvhbDhxO\n",
       "kIXxgFqQ0xFX3Hi5QnC7T1U5p6d0vudjUleuAiCdOPuBl1TEWiRAvXUH2ux6dE5ZaGOSnLnlCShm\n",
       "dRy9+9qWKxK7q7iLXBXwzWlT1lG/XpnYaLhHWJeNM/wQwLNy41xlnsOUanJROqHD0oes6ZJFMc8l\n",
       "hZIyIy+Mgz+BJfjlQubT5CTzZ3GmNBqgqugcZdUJroxW9xRXSutShw2HRwEAQ4vNRFmXOcORa+XC\n",
       "YcEUKpCKuv/XNVAJD92mQgVvp2mio6iw4ELzH/OO1xW+nR76h/kydWWBqJky4SmKtnc03X3A2nsJ\n",
       "6U9qsvcLKzleJ3AAAAEAQZsqSeEPJlMCG//+p4QABWN4/ADjy9mUisjR+fiUPOY2mVgDpnU6N33E\n",
       "3JQu+09JxJSSb3Vchvdl0AMNk6zPnFd3J6xE9rT9jc8quLwcZCxlCgl8/srncL5SouAPhHIo1olF\n",
       "PPQne8pYXyMB2xusTgUNGa+GVfg4LT8hvvVgsQ8DmnS+iNmMQrsCLUGnuzIMDD14mZK0jp7pBQ/y\n",
       "l11kUmCQ3CePua061x5Yc0R6IRjVifm0T1gkygajWqmMJHbUhuRF4Kd156f6uUTPMPsKlhBrIABC\n",
       "ne0eBBFd+Ae/kLKwOc755Vo3DhAISlRfOnbbqu0DEE+0qrwKYS7TDA7qgQAAAUNBm0tJ4Q8mUwIZ\n",
       "//6eEAAVk8xEAFbmlaIh2FBrAEp26/87Ec2YccryJpUAIddk6wUimwKqkjBcM8FLXeY6mT5c0MYW\n",
       "KKW+9xYRF1l21o8xuXpVfgZqoYeiTpOTpBUcgYdJ9tGy2vO3XHOd4xirxkYPZk8gAxTHD2S8y2hJ\n",
       "hsp/mSgj7YjTOKanArHbnDrDJVa6R8XGMELl6IR7Um7yU34eRuXV8UqKBuUZCBENjfmk191Zw3UB\n",
       "JzoVotOU+wyZtMhfzY1LvDjfVVbiLabPDx+3Zz6psXbGrR1OLBpMKN+kd9vM9Ak8BOeycbMRcHg2\n",
       "OxMC5xp3M+JSiOmsbe79Q5nISb95o0v964Jgy6Sz5uzkg+nesR1kXjxDcv5vCC3hej7qxoDcaLBE\n",
       "PfVbrpilfopmybkOrnQitXhfnvG7BZuC5Z4GCgAAAOxBm2xJ4Q8mUwIZ//6eEAAT5nElABF/BmkM\n",
       "ZGToTKEDiwv6MUEZEO59pSbcb5VRfDwHfmMq+oXOe+SeYvAyCjO1oIE4k0FDu3RNft+pH9W/JHZ2\n",
       "bo5uzilh3tixknV7fGubzy6TsP8QM05Ch23x6ckgTsyf79IGF+qZ1IKhV+ZDmS2Dp86Ed4QF2CBp\n",
       "xb8eLGzTPw1zuebvDHCwOq3MD+OcU6AZpG8tFXQ9K4W6LKbzjOUW9E2Bh/hEmrRa0tCvbTs7mN0G\n",
       "uNhvuj04gC1Rq+d6vOTQo8v/j/QzGDd+l8h35Fr8W+xslmraWW+J3AAAAN9Bm41J4Q8mUwIZ//6e\n",
       "EAAKR/paCTL9KUV3JGa3bXt6tVUUbDRdQzOSgY9jvE+JV0Y37IEh9SDTf9BUvB81t9OhH0k8Uuhj\n",
       "5i8wuUcnPTuBtycknxFUVpRHPV19+9BY2OihUJL8jVgkoqdDZtXksJjegFfGi+fbE7yrvdRpOaxC\n",
       "YU11qpDfikF+dGYXxZANqUROFm/2pjyVjKV7COki/EtIjYWRbR+LfrnJdqbF2ooJnkY45rrlrgi8\n",
       "qurgTEY/i0g/CjkUodRkG7Lo3cwue/qZqkvSfS1XG2uW+f1fgqyBAAAAyEGbrknhDyZTAhX//jhA\n",
       "ACSWGIDsABYuxHQElTwuYAZsGc/rTGqNAPVK8NGCI040FXM1/OUCMH6QFoWCP1PgF508qXGZs3pe\n",
       "YFPFddSazjpOX2WxpuL2GVjCy0kmQTVkNAE6I5Vi7eTnL9wzjqaF96CMZP7YsRoFCTEHMrcwyZRZ\n",
       "+p5r/z+drF+lNyGOyJhc09pXrsbTVJS6bG2IGQNcUXhUQ32i7Qj7d5y7hV7oYB1pcFLwx5qhs5UP\n",
       "7EzJp1zKeOFEZDbtUqdbAAADim1vb3YAAABsbXZoZAAAAAAAAAAAAAAAAAAAA+gAAALuAAEAAAEA\n",
       "AAAAAAAAAAAAAAABAAAAAAAAAAAAAAAAAAAAAQAAAAAAAAAAAAAAAAAAQAAAAAAAAAAAAAAAAAAA\n",
       "AAAAAAAAAAAAAAAAAAAAAAIAAAK0dHJhawAAAFx0a2hkAAAAAwAAAAAAAAAAAAAAAQAAAAAAAALu\n",
       "AAAAAAAAAAAAAAAAAAAAAAABAAAAAAAAAAAAAAAAAAAAAQAAAAAAAAAAAAAAAAAAQAAAAAGwAAAB\n",
       "IAAAAAAAJGVkdHMAAAAcZWxzdAAAAAAAAAABAAAC7gAABAAAAQAAAAACLG1kaWEAAAAgbWRoZAAA\n",
       "AAAAAAAAAAAAAAAAKAAAAB4AVcQAAAAAAC1oZGxyAAAAAAAAAAB2aWRlAAAAAAAAAAAAAAAAVmlk\n",
       "ZW9IYW5kbGVyAAAAAddtaW5mAAAAFHZtaGQAAAABAAAAAAAAAAAAAAAkZGluZgAAABxkcmVmAAAA\n",
       "AAAAAAEAAAAMdXJsIAAAAAEAAAGXc3RibAAAALNzdHNkAAAAAAAAAAEAAACjYXZjMQAAAAAAAAAB\n",
       "AAAAAAAAAAAAAAAAAAAAAAGwASAASAAAAEgAAAAAAAAAAQAAAAAAAAAAAAAAAAAAAAAAAAAAAAAA\n",
       "AAAAAAAAAAAAABj//wAAADFhdmNDAWQAFf/hABhnZAAVrNlBsJaEAAADAAQAAAMAoDxYtlgBAAZo\n",
       "6+PLIsAAAAAcdXVpZGtoQPJfJE/FujmlG88DI/MAAAAAAAAAGHN0dHMAAAAAAAAAAQAAAA8AAAIA\n",
       "AAAAFHN0c3MAAAAAAAAAAQAAAAEAAAAwY3R0cwAAAAAAAAAEAAAAAQAABAAAAAABAAAIAAAAAAIA\n",
       "AAIAAAAACwAABAAAAAAcc3RzYwAAAAAAAAABAAAAAQAAAA8AAAABAAAAUHN0c3oAAAAAAAAAAAAA\n",
       "AA8AAAcLAAAC0wAAAGUAAABaAAABQwAAAWYAAAFFAAABEwAAAPIAAAEfAAABBAAAAUcAAADwAAAA\n",
       "4wAAAMwAAAAUc3RjbwAAAAAAAAABAAAALAAAAGJ1ZHRhAAAAWm1ldGEAAAAAAAAAIWhkbHIAAAAA\n",
       "AAAAAG1kaXJhcHBsAAAAAAAAAAAAAAAALWlsc3QAAAAlqXRvbwAAAB1kYXRhAAAAAQAAAABMYXZm\n",
       "NTguMTIuMTAw\n",
       "\">\n",
       "  Your browser does not support the video tag.\n",
       "</video>"
      ],
      "text/plain": [
       "<matplotlib.animation.FuncAnimation at 0x181f596a20>"
      ]
     },
     "execution_count": 272,
     "metadata": {},
     "output_type": "execute_result"
    },
    {
     "data": {
      "image/png": "[encoded data removed]",
      "text/plain": [
       "<Figure size 432x288 with 1 Axes>"
      ]
     },
     "metadata": {},
     "output_type": "display_data"
    }
   ],
   "source": [
    "import matplotlib.pyplot as plt\n",
    "import matplotlib.animation as animation\n",
    "import time\n",
    "\n",
    "g = 9.81\n",
    "v = 10\n",
    "theta = np.pi/4\n",
    "\n",
    "t = np.linspace(0, 500)\n",
    "x = v * t * np.cos(theta)\n",
    "y = v * t * np.sin(theta) - (0.5 * g * t**2)\n",
    "\n",
    "fig = plt.figure()\n",
    "ax = plt.axes(xlim=(0, 10), ylim=(0, 5))\n",
    "\n",
    "def animate(i):\n",
    "\n",
    "    i /= 10\n",
    "    if i == 0:\n",
    "        s = i\n",
    "    else:\n",
    "        s = np.linspace(0, i)\n",
    "\n",
    "    x = v * s * np.cos(theta)\n",
    "    y = v * s * np.sin(theta) - (0.5 * g * s**2)\n",
    "    ax.plot(x,y, 'c')\n",
    "    \n",
    "ani = animation.FuncAnimation(fig, animate, frames=15, interval=50)\n",
    "ani"
   ]
  },
  {
   "cell_type": "markdown",
   "metadata": {
    "slideshow": {
     "slide_type": "slide"
    }
   },
   "source": [
    "### Example : Simulating Physical Systems\n",
    "#### Trajectory : Plotting the Path & Object\n",
    "<a id='ExamplePlottingPathObject'></a>"
   ]
  },
  {
   "cell_type": "code",
   "execution_count": 273,
   "metadata": {},
   "outputs": [
    {
     "data": {
      "text/html": [
       "<video width=\"432\" height=\"288\" controls autoplay loop>\n",
       "  <source type=\"video/mp4\" src=\"data:video/mp4;base64,AAAAHGZ0eXBNNFYgAAACAGlzb21pc28yYXZjMQAAAAhmcmVlAAAafG1kYXQAAAKuBgX//6rcRem9\n",
       "5tlIt5Ys2CDZI+7veDI2NCAtIGNvcmUgMTUyIHIyODU0IGU5YTU5MDMgLSBILjI2NC9NUEVHLTQg\n",
       "QVZDIGNvZGVjIC0gQ29weWxlZnQgMjAwMy0yMDE3IC0gaHR0cDovL3d3dy52aWRlb2xhbi5vcmcv\n",
       "eDI2NC5odG1sIC0gb3B0aW9uczogY2FiYWM9MSByZWY9MyBkZWJsb2NrPTE6MDowIGFuYWx5c2U9\n",
       "MHgzOjB4MTEzIG1lPWhleCBzdWJtZT03IHBzeT0xIHBzeV9yZD0xLjAwOjAuMDAgbWl4ZWRfcmVm\n",
       "PTEgbWVfcmFuZ2U9MTYgY2hyb21hX21lPTEgdHJlbGxpcz0xIDh4OGRjdD0xIGNxbT0wIGRlYWR6\n",
       "b25lPTIxLDExIGZhc3RfcHNraXA9MSBjaHJvbWFfcXBfb2Zmc2V0PS0yIHRocmVhZHM9NiBsb29r\n",
       "YWhlYWRfdGhyZWFkcz0xIHNsaWNlZF90aHJlYWRzPTAgbnI9MCBkZWNpbWF0ZT0xIGludGVybGFj\n",
       "ZWQ9MCBibHVyYXlfY29tcGF0PTAgY29uc3RyYWluZWRfaW50cmE9MCBiZnJhbWVzPTMgYl9weXJh\n",
       "bWlkPTIgYl9hZGFwdD0xIGJfYmlhcz0wIGRpcmVjdD0xIHdlaWdodGI9MSBvcGVuX2dvcD0wIHdl\n",
       "aWdodHA9MiBrZXlpbnQ9MjUwIGtleWludF9taW49MjAgc2NlbmVjdXQ9NDAgaW50cmFfcmVmcmVz\n",
       "aD0wIHJjX2xvb2thaGVhZD00MCByYz1jcmYgbWJ0cmVlPTEgY3JmPTIzLjAgcWNvbXA9MC42MCBx\n",
       "cG1pbj0wIHFwbWF4PTY5IHFwc3RlcD00IGlwX3JhdGlvPTEuNDAgYXE9MToxLjAwAIAAAATZZYiE\n",
       "ADf//vbw/gU2O5jQlxHN6J0zH78VuLo0N73OAAADAAA33SOPBdk/UAse7YInhFbS1HCo45psSBgn\n",
       "jWOoIDu/sBJBZ6oSjZybcAAADfWL9en8w5FKc6TNHlEEbeTiePqff5XLSm6WrH7gAwSG/VbVvXmH\n",
       "4RLrmlYdgch0mQEGS6+9zjjmLsJDGwoYdWAoBxXRmfGyXmhi/Dj7MdIjDTtZ070jsUZplAJQe2gk\n",
       "nvnLLBvhl3jGa4nxOeJ5VjS7wgHHrl0P0sXICAAAAwBe4J8vn/WgEBhe+mYkE/GDwH6n2Mize02B\n",
       "bfkJ/2BK2Va6kJiTB0Q0jOXRDjGfGC2vunIjSXFBKHX3bCd4F40zzdxWQA1RaXNKI6HvbKYN79sO\n",
       "9eZw72k71QAET5iQS4UuCs9cPGntrFj6F/UxT5gztDzSZdQu4uzU0KXNr+sJGfTqVh6eOBy2mcxW\n",
       "zma9kada1+OgOcmMv0maOlzzomW8Ao3yvpMZ3AbmVM/hs6RhXMcmeo5gC+9mA9X1iMjaTAw4R3sZ\n",
       "Cb/Wekq9gCyBMfK3ODNVAqVB8oaJmvOsuWYs7QPRsmRE/Bfj5mWDxnbSFoJnCiiM6/inFY9yZ9FN\n",
       "zUGIW35WJou6Fi53cSpjirKnAiO+ZgEEr9RjQ/g7LpZJiNzrqfMuUUibwkQi+Riytk7oRaEjBWIG\n",
       "Zbz2k3/JAGK8UP8MkkZCxsIuhhJHpZH3UFEqv2iVZqm7IYbeRUUSLAaVQnq/shDcAcVqWkV5S/7j\n",
       "MfokshDesBsJGv/PzdFdzC9gjnLLTApXSAHkU/3x3p99ChFcGJvvJASj4Js6Q07m95Y9AWPQWCnO\n",
       "s3sxG/0vrox/sf8mWQZGMkufkcRi0ci9Rq3JXIi5NLzbuIL/AGptUTm7Y186/ktg4gpT0B7+mpTr\n",
       "yGh4hsPiM0QpCcU8og1poyT/NryP8zevZrusxjHWBLLa2NyZQpNRD1LnLmRr1f8cIiSG7zJAjPHj\n",
       "6n9EiCCvHhT0ZEWCen4MC5d405n2TkRVB6HDYH1zm4pshaL9bG+liv7KOZHXZSjV0Y3z0ENWHU3X\n",
       "fqXKCBhn75XnVaEREAYFGU0mMbrev7C4N0hGBOfZOGf+VIb0g+ZNaE0UmyLynSFbss9cab/lVPaA\n",
       "oMoL850l9E8qhpyTl8FIZZRTt9jly7wvKdUa6Xx0hP31PtCjUC/A7TkDXiu2jVAz5CedXhApp77g\n",
       "aLZs1ABy2I7kUl/Ffcf8/mYTKOEuCW2QaCyQKbigR4SPy0fkxhz2Uhhb6w8mFc48R29MkcjglBaT\n",
       "Vj4AHrVjz91hEQUMVCbSDCI9DHSpf3HKGb1WzvV4s3YQFOv+hdWFA/zkP365O4ULT2qAKCNSQqsP\n",
       "6KhdDddm10hw/OxXQZAxTO777Tw8n034QXOwUsfZNOdG+cNmdDaTZWfeojLY3I/5qPwVA02oIro6\n",
       "d4tD+09O6skzHOEPO8Y708BETYPS4BAmTCZxL10YP6k3k5/EJ4+fMlf33XpozRJGGviPJV9tdt0L\n",
       "sTkeEQj/JqCX1Ewvz2ngw8/CoEU5whUkhETd21mVnerxXzF+hoptdkCo9xs57C7EwhzFrUc0WyHs\n",
       "qnk1dTA2fRGnQPXr1qsiCTyO6mcDhGfE75QsaqB1lr4AGKl5KHZMC5kAAAKLQZohbEN//qeEJpka\n",
       "4rN8sAcubN8u/sPZe+5JUSt54kUdBYpzTLEeFFQuvru5wWY2gf1oc2ZSmSquRkzmknp8RB0xLFvX\n",
       "drRlgFX7PmLq8jfh48lm9FPmVF8/MYXi9xwXQnowCeTSzCTEUpJM/p0lz1NycKc0hlVGN/9FaNTT\n",
       "6fxQ2plEtwSTlfyTZ2CQI4Rhf3sWZHD5fiACMuFPkTaYjFuFiW/KS4NkcQj3oPcIMoGm/VUoLh5u\n",
       "o599y27hcfdfxHw+xKkdzIZee8cKUiXNC8NU3vJkrIgzWX2RuDW+qFDqh6cDFwY2niBUVmW79zjc\n",
       "ME6w3KCfad1SJzvpAoUBYV+Iw25c5E097LTp1iEqJZvp6x6GMqflmM5eJIV6VHTSZxtoa5+N8FPZ\n",
       "oYVDbeFpOxjHBTB+aipGrMWZBRh1yWSj/cJeqZhnutVSE7zIMOziT9qpUHf3BV2lFzSWQpIt1hHh\n",
       "+povLHP8rXTMNB2Kva2R6+1ZRKJRSBkrKwv/5KK0W7L4SU7rilKFwIG0enyPG41c+X9a1IoIdC/b\n",
       "FihZSD6U3ye8WBMRYFfAyVRe8KG/1FxJIgCCJWnWws3ggNezuD+BrPlX/tdQapzI4hiWnZR0SJn4\n",
       "s5Joh7DMsEtE35/oVyCoGmW6Lxeor0RBHx80/n2Ir3D7lnsg8BWUqPXiPic+EO4DU02c9cUVHzY1\n",
       "rtw749sbfGqh9aH67YirE25jRr03RoVsHv5+OBQhtMAW5BLbxcH0kyy4FA7Y2N6Tj2flw3pP+ymu\n",
       "xUVHlZ3CTr7NTMn/uEW31hLexvfWpC2r6ILMDOm3GbaXHwm8ZB5hRPJf+IrMsgaCEgH710Hgijnu\n",
       "uJaeqjYNHElqnwTAAAACEUGaQjwhkymEN//+p4QC7dKNXb2gXnZT0tUjXicWYWrqGWTI74e6Zs+9\n",
       "21PCA6JpwmqxeX7AACH6s/dqtGJnaW9wy+qgSBQVPKvg0YVXwdtv/ozL07pHatpr9OKyfBFi2Etw\n",
       "6SdDc8/Lfke+7OnSvHtZKBaq+rsIrv38w/LpmbzH3Nvkd7BrAvNZoEfhHVrvsVK0LyvPn8D3ZmHH\n",
       "Xic5xCCfcNFv5b6pVzFYOE90F4s+owd3gFCCRRMuVdZD1cdOni7hwgcOKwGzEaOas2NCClg0LEC6\n",
       "NcUeY2KZAJIKUZJ+mPZd2PSdxBDjmCNSdBbe+xyLhfa8qjIyUxJaK67An1CTj5JaBKo1hR/19OjD\n",
       "SKGPA04Ovu+NpxYiUEBUxB/SGQX06AjlYpqckkSw7pwnFLSFSC37wZdqFkcEekxOeExx1TNan9LJ\n",
       "QKPhL6vHXly4q4mwZe1t+7eH/PWOn7UglKrYtoOytn1lTgCLpUDkPr+3PXqiudfimkZgr0zyj8wY\n",
       "LMob/MVeaToh+LL3pzJoB+nE5HjHO0AeWJ2OJ9L934uh+05eETPF2sEtrFUgMH2gn+DXtFX0+sB2\n",
       "KPEqiSgV++YcTg9ssbg8VVWTcVOytd/rVcTXRxlFBZj+/mXipcwUPrYnUokLH5B9yGQU2cbUpnAI\n",
       "pSVTMaGw+/l+7VJ4V5tUytiAUq7kxisEpZkLSzfD1zkAAAHfQZpjSeEPJlMCG//+p4QAAyevfgs3\n",
       "9wBEp6o6NfodW3kD/Zh881HHbw8EmZrxOZKb2QK59KNVoHxVe7GWPaobNrrC+FPMfigFF9Hy8mwk\n",
       "UdcbyRrxzjBPnCWAkJOqdlOymqvAP8Ve2EA3uu2UTMtHBNMs9HZGQMlqajYLTW7MPYHfZKTFcfDj\n",
       "yIWo0IlLYPziRtSvCbcfnkck31uqOJmnSMNVfseAMPZTTDShsfTbBl+MBx1fc/fgIYGJEpsnleny\n",
       "Y2QMmPuU05Wlqwro9NUD3Z3fde9tTLWff83jv8Xzqenx0YBWRYlchjgf5KUgAZGzRP9UzYiAr7wl\n",
       "cfBGhnGcnOsDm8oZWqKwBo9IbiGlr3NqXZNg8HL9CDn4DtCLN8R0+QhEZj4TyG0MOHl3nw0pET9w\n",
       "icb8w1Uzt/9hXSza62hMU0/szjsyvkS/NwMRmJZooH42S7r2lrTmSrWskCuvZIGqEUQg5RtVqXEu\n",
       "iixCa/Tia3bAJ2skUilpD+LRgVQEsr84asY5WcNhBDWGfgZm4CBfxYHFvZ+A9B77Iz+oFnNbnvLH\n",
       "HQHeYS+NoOSpl4/jMnlhv51tx7jCqrz2sJ+WGdqIyVPYM8sKpZ9aKsTBKUKmaWXirTDfj50CtLHg\n",
       "e5gAAAEZQZqESeEPJlMCG//+p4QABieS4E+CzfiT4Uvy0M1UTWvgtRYegXlss4YyGJtM35JquEhZ\n",
       "oGM1WOIkr0Nk2p8Lcuk5d3OBO5Ygbj4MTZNFYnctuHyPJOFbdhFGKSx7uo8FDfC9yOuH4QC44jcQ\n",
       "U2gjgTalI2xWdBZFhCFA7gw0M58yY7AU0BTon5Hcrb4ksw9dH6yqw81m+X/szuhaT1LT8HnqdozU\n",
       "7LdaHkf/EcgijM4lRhwQrFI0/Jby1uCrhPcPFhqtcolRex9fPV9CLLpSkHDdvUqJBr2ZNfDVHRUM\n",
       "6+ZRq51ub99dqu3K5p7QxpddlRFaUPuV71SLhZhrPCX+xLPRW6UBs7vmvOk8XBSAI4wq9fxNrUu/\n",
       "05EAAAE3QZqlSeEPJlMCG//+p4QABifZRWFiPhmZvtgVc0WzK2Z/tv8nz3yfqADOXXRCWpK6meX4\n",
       "syNDNtKLzO0He8KCPDpyr668Ircm4ymDpI/cS34WwZvE/15GPMqvytVqb9hvjDcrGBxUkkwTy9CL\n",
       "stQFl993QIAcBEf+17nvztjFf96WSQiKKqw/Qt4tB3LnQSP6rKteiznchYh2XkB533vzyD2FgKWP\n",
       "4SmFSqhwq8L10UgHQUYoBaxNsqhFYHjv44UBLVyHWNKbZIHI1x64k0RcdTiwATqJRhmTiP2K6rW1\n",
       "6slTXYukapa5fTg/0wzaPFzPi1I8msY3J+wNErd5H2NtzULBS/+ehZ5BEGuedS/JGB319czml6Q7\n",
       "cgCMKVY1f5ILxu28k5JhEp7tC3VudJdRLV/yfqaVhYEAAAFsQZrGSeEPJlMCG//+p4QAC1YsfYS3\n",
       "R3DTJxA1vh8zlBc1mFT/OjmXUwMXXNXjY3SzZT3SJYBu3cHvZKWvE9t810//qCkXhguX0Ov6/UME\n",
       "pXzgS1YZ4ECiJjMNcLT9OrADPwNJrYb45XEB5jEMUM/T4W2WCtePKRVWoDyOWvQSWwWkzjF033c+\n",
       "3jo7kUXEm5V6Jf8wA5hHoU/vgfqRkyawHE15tWmffZ+7Q9UmdlyqeKn+w4PBjv/mDjE3xCsV9T1A\n",
       "6G4u6Za59R2tCbgLPiAUQbWvRR7OHW6OXrtN/Nk0sliC1J/m3m6ytaTPhI9lUPIPJjnXE6lRNp3T\n",
       "R2KX6ln+OUzUoqPQo2xTb7FE6rRGegqMzUR9V7wF5caQ78nPgutR4G40WIPMzbLLV3D/HVit+Dir\n",
       "HsXasIiVcid84xQ95IWDKQVb5Yrlai7y+4ub6vIi1wPK2mxc6u9xS8u2ZUOKy8UFxPid4QMSRZWb\n",
       "WQAAARJBmudJ4Q8mUwIb//6nhAALZ7wDtE7xYAjIzqLoRgkVwN/Eqq+7tnXb9S0qPcZ8f0Lkx/BS\n",
       "Ij7rCoOtiqch72u7h3y4MBKs8invFEQTFuB4AIbytLpV1J0631H6TFc2I7nkA4wrGis1HvEAoDUG\n",
       "trrKYP1itTWZ4/MiHNLAbIDVauYtAtYXKFdgYMshy0IWSpPTnGRdb8mFADGlesoE1ciNZQ0sWnDv\n",
       "TTL20SzAucSUu9AWaSXN5iUMBPfmMjoBWHfzJHB6cbiNFV33pXo+soVlwEGKPI3mTDZL/H+CV5E9\n",
       "yVFkBhN29/Qx7rDValm074xttssm61pcEq+yCblboUnFalfqCCo9YxeABRfSIC4PERBpAAABbkGb\n",
       "CEnhDyZTAhv//qeEAAsfvCW/E6euPPKA+gnjGwtU5WSh/jJAHv9s2BTvKnG9fOq8Do9J9efyvhOD\n",
       "o25udQ0gB6Oe69gRMrYX7fbCEiEqnGx3O1nfoTZAw5zYjXkXqyAxL7pcV8r+/GI0Ig22By+S88kj\n",
       "P5QQXP0XWpmw6xvs8TUXFkrhGRY4+uUm2wV3vBFeVISU/csH1KkyLTaFC9vBc2zZ7uW4b+4UKEyG\n",
       "71YsZbfGWJ9vaOV8l5SSuBJtETt7gBAvrjqunVsMjQZEjsTIHsnnTDrlqM8bnYj2OqOuygVQULxd\n",
       "ZZ5YHj2SSMaGXnSNSCWjshWDz9RDfTw6j6jxQaTRr3r7dTDr4go+HTGrfFMP+fekml9BYOLDFqrg\n",
       "hnTvNXCUJbfcxptzZ8EN+ce5ebHOlFbyQO9dyPYZL3sUFKxqaIejeCO9lQUpW1gKM00kHsaro5WK\n",
       "bGbB1eIg7A1MUglzTBJJ3ppckLOwfAAAAQFBmylJ4Q8mUwIb//6nhAAKj7wi/6Ax00F1U9cNJGwJ\n",
       "XxmRvfuVEyF5YD8BD2fkNEIp57pSPFGyzyiSElUW/K4uaynsBoM6MW1swQL+NLkAehb1/CKN3lXG\n",
       "iyz6wMNKpnjdwIgGvio+kkcZXSKNn7A81lOgUEAKAMm+Ph7s33dhJKY3wSGDx2WAV4T1hCp2aDbY\n",
       "2j4rNdLaObeHHM5jw6c/iIiV8MQrKKNXD8WP7e4TlOF4npcbYf7qiFps5GQAX//0ew2Xm8H1rLKB\n",
       "THP5aoWiQQczvSpIw1lIKDIDXRVR5lA573hmFpQBG4EZ2PeEN9dtL41yh8n+ypsegqbcuJe/gAAA\n",
       "ASpBm0pJ4Q8mUwIb//6nhAAFiWzVIAIwi9F8SuJ+jlorTKd/R1S3no3zNIKBTY2uXQ4rd2CFn+70\n",
       "1JRqbQytb4cgz2+WJHZhsyxyMcjRYqu4Rk1D03D43Qh0SeOy2P3bbKoS84vEWRw5GkFdBcuIx7yq\n",
       "U4QY4Whjru0/bxVV1+kekjZ6TTKXjc4ej8mxWtCMZguKkkALtZAxGkNTIcPw3eWOwBzPVoK5KrgR\n",
       "0WxkoMPH0Gdapp7QeUkxSwLhVvSm/5t++PhpRgrJPXtrTsTEYY7gI9yrJcs8eJfLidJHj4sEfVMP\n",
       "xlQ9RPElKGNMcLi+Hc4uNCJWxdSvDl8+bLpTVaP6vMpy14JhTBSxtiXLzeTX0HgSTJg+/Aij+RIi\n",
       "hlDJHtn81k32jeFTIY9jAAABEEGba0nhDyZTAhn//p4QACbfFjEhg1Vi0AVqTT98Eynn/wyHKrTv\n",
       "UzYKMR/vA7JwaFe3NVI8QnS3vze89Y1bdyJYlP2FM5T1VxclU3XAm9pm7H7TX4eY9twaIz1pZsKk\n",
       "5OrCDdxOx/EyDN9jUm3DlJSbznhd9J8RZeg51Sz1IlcLdntpP3FlOm4BWNLSeeYNMnTWTfJy6Hxf\n",
       "qdo6QaRfxmaGJY41eSaEpnQ6CxxUJT4xHW/Wzal2Nn0zSTUypd0AdrZMuLn+DUq38d6YCborTfx/\n",
       "TVGeZg0GSlr+rsnB9kiY0DHAcoOgAUXUFs6zK4SQte/n1563HZ6JA9LMUzRqllI2Xy+2cgWBEA8/\n",
       "ReNoXC1MAAABEkGbjEnhDyZTAhn//p4QABT3tDf1+oAVoZN5Lxrc6RfsO4ODEM6pkXpCieH2Nm+m\n",
       "5KiYVFXMcAj2E8YaRQ85m0ivEYJ5Fh7WPAdymkstsE7ojT6jPzbmdQxLF8BwlHKv82Ef56Rq1Hip\n",
       "sFPFrwEPSRZ+rzdRpPqBysubKe2Wdc/TXrGF6QqZ+eRyexXsqh0Dje9fS63CM/NYv2oeBJ/Cy2s7\n",
       "2xofz7MG7CW5ugbaCULveLGHj56bg+1hrN/ZQiESSWoTc+Tl5J3djPNULgKNZRebUH6YLtK2cUWf\n",
       "qbMRaT4zzPcNRebjxveKGXAPbc23ohAl5UqQiCTXIHAamBMaFe4TOtJxF876AAWRJbwbrDLBYdAA\n",
       "AADNQZutSeEPJlMCGf/+nhAAFZPN6UALZNCG6E1RfnjexWmGCrdDb1GnFW7T0AdMgHRMl2z7sJxA\n",
       "GLUrix1nPRjSaPN+PkVF0Dm/PR/HM531lNst2C/XQbRSQXwi/J5P0cJK9WtJA5cKwBPgF757UboQ\n",
       "fh0Dj8RRZt9LC3mRuF3EV589cNaIEAV/Uq/6uJIh3hlartfG7EBoXbdwjx0lqK8Wm3M8jEdptD/4\n",
       "Q/CTlpkD7P4M1f7/BBPTAO6ImrJOdEPlNl3F/hLk0U2BQUkqqwAAANxBm85J4Q8mUwIV//44QAAI\n",
       "aH0IAWC/RlR0FwS22bhmumbOCq3E0BhT7X2z/qvTv5jwyPR5JNab9RLrtDPkp76D5DjCM0nyRpPM\n",
       "QoaCv2TXIemKJmjRorhiNh3k0i+Tl23XhBVcWuAB66yJQZ2Z6dzb3gduYnO1yal94G1pYa9+0SYb\n",
       "66d0Adv0xeODpXmgHnCsCMwd+m2mNxRk+xKibSZ2ofLO3sOgBtJMyqa3CdPulZnlp8A7bQBWkrGB\n",
       "44k7xShRVJHrN76ZQD5DxjJQw2e3TJIL8rqvXQwnIxBBAAADcm1vb3YAAABsbXZoZAAAAAAAAAAA\n",
       "AAAAAAAAA+gAAALuAAEAAAEAAAAAAAAAAAAAAAABAAAAAAAAAAAAAAAAAAAAAQAAAAAAAAAAAAAA\n",
       "AAAAQAAAAAAAAAAAAAAAAAAAAAAAAAAAAAAAAAAAAAAAAAIAAAKcdHJhawAAAFx0a2hkAAAAAwAA\n",
       "AAAAAAAAAAAAAQAAAAAAAALuAAAAAAAAAAAAAAAAAAAAAAABAAAAAAAAAAAAAAAAAAAAAQAAAAAA\n",
       "AAAAAAAAAAAAQAAAAAGwAAABIAAAAAAAJGVkdHMAAAAcZWxzdAAAAAAAAAABAAAC7gAABAAAAQAA\n",
       "AAACFG1kaWEAAAAgbWRoZAAAAAAAAAAAAAAAAAAAKAAAAB4AVcQAAAAAAC1oZGxyAAAAAAAAAAB2\n",
       "aWRlAAAAAAAAAAAAAAAAVmlkZW9IYW5kbGVyAAAAAb9taW5mAAAAFHZtaGQAAAABAAAAAAAAAAAA\n",
       "AAAkZGluZgAAABxkcmVmAAAAAAAAAAEAAAAMdXJsIAAAAAEAAAF/c3RibAAAALNzdHNkAAAAAAAA\n",
       "AAEAAACjYXZjMQAAAAAAAAABAAAAAAAAAAAAAAAAAAAAAAGwASAASAAAAEgAAAAAAAAAAQAAAAAA\n",
       "AAAAAAAAAAAAAAAAAAAAAAAAAAAAAAAAAAAAABj//wAAADFhdmNDAWQAFf/hABhnZAAVrNlBsJaE\n",
       "AAADAAQAAAMAoDxYtlgBAAZo6+PLIsAAAAAcdXVpZGtoQPJfJE/FujmlG88DI/MAAAAAAAAAGHN0\n",
       "dHMAAAAAAAAAAQAAAA8AAAIAAAAAFHN0c3MAAAAAAAAAAQAAAAEAAAAYY3R0cwAAAAAAAAABAAAA\n",
       "DwAABAAAAAAcc3RzYwAAAAAAAAABAAAAAQAAAA8AAAABAAAAUHN0c3oAAAAAAAAAAAAAAA8AAAeP\n",
       "AAACjwAAAhUAAAHjAAABHQAAATsAAAFwAAABFgAAAXIAAAEFAAABLgAAARQAAAEWAAAA0QAAAOAA\n",
       "AAAUc3RjbwAAAAAAAAABAAAALAAAAGJ1ZHRhAAAAWm1ldGEAAAAAAAAAIWhkbHIAAAAAAAAAAG1k\n",
       "aXJhcHBsAAAAAAAAAAAAAAAALWlsc3QAAAAlqXRvbwAAAB1kYXRhAAAAAQAAAABMYXZmNTguMTIu\n",
       "MTAw\n",
       "\">\n",
       "  Your browser does not support the video tag.\n",
       "</video>"
      ],
      "text/plain": [
       "<matplotlib.animation.FuncAnimation at 0x181eb248d0>"
      ]
     },
     "execution_count": 273,
     "metadata": {},
     "output_type": "execute_result"
    },
    {
     "data": {
      "image/png": "[encoded data removed]",
      "text/plain": [
       "<Figure size 432x288 with 1 Axes>"
      ]
     },
     "metadata": {},
     "output_type": "display_data"
    }
   ],
   "source": [
    "import matplotlib.pyplot as plt\n",
    "import matplotlib.animation as animation\n",
    "import time\n",
    "\n",
    "g = 9.81\n",
    "v = 10\n",
    "theta = np.pi/4\n",
    "\n",
    "t = np.linspace(0, 500)\n",
    "x = v * t * np.cos(theta)\n",
    "y = v * t * np.sin(theta) - (0.5 * g * t**2)\n",
    "\n",
    "fig = plt.figure()\n",
    "ax = plt.axes(xlim=(0, 10), ylim=(0, 5))\n",
    "\n",
    "# # Object to animate\n",
    "point, = ax.plot([1], [1], marker='o', ms=40)  # for points\n",
    "\n",
    "def animate(i):\n",
    "\n",
    "    i /= 10\n",
    "    if i == 0:\n",
    "        s = i\n",
    "    else:\n",
    "        s = np.linspace(0, i)\n",
    "    \n",
    "\n",
    "    x = v * s * np.cos(theta)\n",
    "    y = v * s * np.sin(theta) - (0.5 * g * s**2)\n",
    "    ax.plot(x, y, 'c')\n",
    "    \n",
    "    if i == 0:\n",
    "        point.set_data(x, y)   \n",
    "    else:  \n",
    "        point.set_data(x[-1], y[-1])    \n",
    "    return  (point,)\n",
    "    \n",
    "ani = animation.FuncAnimation(fig, animate, frames=15, interval=50)\n",
    "ani"
   ]
  },
  {
   "cell_type": "markdown",
   "metadata": {},
   "source": [
    "# Summary\n",
    "<a id='Summary'></a>\n",
    " - `scipy.integrate.odeint` can be used to find a numerical approximation for the change in a parameter over a given range of input values (expressed as an ordinary differential equation, ode).\n",
    " - This allows us to easily deal with dicontinuous functions.\n",
    " - An can be solved for a specific *solution* value by interpolating.\n",
    " - We can find the value of the function at a specific value by selecting the points at which the function is approximated.\n",
    " - We can create interactive plots with `ipywidgets`. \n",
    " - `matplotlib.animation` and `matplotlib.rc` can be used to produce animated plots.\n",
    " - `IPython.display.HTML` allows us to view and play these animations within Jupyter notebook.\n",
    " - Installing the program `ffmpeg` allows us to save an animation in a format we can view outside of the Python environment."
   ]
  },
  {
   "cell_type": "code",
   "execution_count": null,
   "metadata": {},
   "outputs": [],
   "source": []
  }
 ],
 "metadata": {
  "celltoolbar": "Slideshow",
  "kernelspec": {
   "display_name": "Python 3",
   "language": "python",
   "name": "python3"
  },
  "language_info": {
   "codemirror_mode": {
    "name": "ipython",
    "version": 3
   },
   "file_extension": ".py",
   "mimetype": "text/x-python",
   "name": "python",
   "nbconvert_exporter": "python",
   "pygments_lexer": "ipython3",
   "version": "3.6.4"
  }
 },
 "nbformat": 4,
 "nbformat_minor": 2
}
