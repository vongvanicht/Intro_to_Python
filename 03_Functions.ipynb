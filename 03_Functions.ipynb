{
 "cells": [
  {
   "cell_type": "markdown",
   "metadata": {
    "slideshow": {
     "slide_type": "slide"
    }
   },
   "source": [
    "## Please download the new class notes.\n",
    "### Step 1 : Navigate to the directory where your files are stored.  \n",
    "Open a terminal. \n",
    "<br>Using `cd`, navigate to *inside* the ILAS_Python_for_engineers folder on your computer. \n",
    "### Step 3 : Update the course notes by downloading the changes\n",
    "In the terminal type:\n",
    "\n",
    ">`git add -A`\n",
    "\n",
    ">`git commit -m \"commit\"`\n",
    "\n",
    ">`git fetch upstream`\n",
    "\n",
    ">`git merge -X theirs upstream/master`\n"
   ]
  },
  {
   "cell_type": "markdown",
   "metadata": {
    "collapsed": true,
    "slideshow": {
     "slide_type": "slide"
    }
   },
   "source": [
    "# Functions\n",
    "\n",
    "<br> <a href='#Function'>What is a Function?</a>\n",
    "<br> <a href='#AnatomyFunction'>The Anatomy of a Function</a> \n",
    "\t<br> &emsp;&emsp; <a href='#FunctionChecklist'>Function Checklist</a> \n",
    "\t<br> &emsp;&emsp; <a href='#DocumentationString'>The Documentation String</a> \n",
    "\t<br> &emsp;&emsp; <a href='#FunctionArguments'>Function Arguments</a> \n",
    "    <br> &emsp;&emsp; &emsp;&emsp; <a href='#DataStructuresFunctionArguments'>Data Structures as Function Arguments</a> \n",
    "    <br> &emsp;&emsp; &emsp;&emsp; <a href='#FunctionsFunctionArguments'>Functions as Function Arguments</a> \n",
    "    <br> &emsp;&emsp; &emsp;&emsp; <a href='#RulesInputtingArguments'>Rules for Inputting Arguments</a> \n",
    "    <br> &emsp;&emsp; &emsp;&emsp; <a href='#NamedArguments'>Named Arguments</a> \n",
    "    <br> &emsp;&emsp; &emsp;&emsp; <a href='#DefaultKeywordArguments'>Default / Keyword Arguments</a> \n",
    "        <br> &emsp;&emsp; &emsp;&emsp; &emsp;&emsp; <a href='#ExampleParticle'>Example: A Particle Moving with Constant Acceleration.</a> \n",
    "     <br> &emsp;&emsp; &emsp;&emsp; <a href='#args*kwargs**'>Optional Advanced Topic : args* and kwargs**</a> \n",
    "<br> <a href='#Scope'>Scope</a> \n",
    "\t<br> &emsp;&emsp; <a href='#ExampleLocalScope'>Example : Use of Local Scope</a> \n",
    "<br> <a href='#return'>`return`</a> \n",
    "<br> <a href='#ExamplesFunctionsOptimiseCode.'>Examples: using Functions to Optimise your Code. </a> \n",
    "<br> <a href='#Summary'>Summary</a> \n",
    "<br> <a href='#TestYourselfExercises'>Test-Yourself Exercises</a>\n",
    "<br> <a href='#ReviewExercises'>Review Exercises</a>"
   ]
  },
  {
   "cell_type": "markdown",
   "metadata": {
    "slideshow": {
     "slide_type": "slide"
    }
   },
   "source": [
    "### Lesson Goal\n",
    "\n",
    "1. Learn the format to construct a function \n",
    "2. Package an example program into functions\n",
    "3. Store functions in a seperate file and import for use in your program \n",
    "\n",
    "### Fundamental programming concepts\n",
    " - Re-using code by encapsuating it in user-defined functions\n",
    " - File hierarchy"
   ]
  },
  {
   "cell_type": "markdown",
   "metadata": {
    "slideshow": {
     "slide_type": "slide"
    }
   },
   "source": [
    "Let’s start by finding out what a function is…"
   ]
  },
  {
   "cell_type": "markdown",
   "metadata": {
    "slideshow": {
     "slide_type": "slide"
    }
   },
   "source": [
    "<a id='Function'></a>\n",
    "## What is a Function?\n",
    "\n",
    "Functions are one of the most important concepts in programming.\n",
    "\n",
    "__Function__: A named section of a code that performs a specific task."
   ]
  },
  {
   "cell_type": "markdown",
   "metadata": {
    "slideshow": {
     "slide_type": "slide"
    }
   },
   "source": [
    "A function gives a section of a code a name. \n",
    " \n",
    "<table><tr><td> \n",
    "<img src='img/function1.png' style=\"width: 300px;\"> </td><td> \n",
    "<img src='img/function2.png' style=\"width: 550px;\"> </td><td> \n",
    "</table>"
   ]
  },
  {
   "cell_type": "markdown",
   "metadata": {
    "slideshow": {
     "slide_type": "slide"
    }
   },
   "source": [
    "This allows us to run the section of code by *calling* the name.\n",
    "\n",
    "<img src='img/function3.png' style=\"width: 300px;\"> \n",
    "    \n",
    "The section of the code that the name refers to is stored elsewhere.\n",
    "\n",
    "The main body of our code is much neater and easier to read.\n",
    " \n",
    "\n"
   ]
  },
  {
   "cell_type": "markdown",
   "metadata": {
    "slideshow": {
     "slide_type": "slide"
    }
   },
   "source": [
    "Using functions also makes it easy to use the same section of code multiple times. \n",
    "\n",
    "<img src='img/function4.png' style=\"width: 500px;\"> "
   ]
  },
  {
   "cell_type": "markdown",
   "metadata": {
    "slideshow": {
     "slide_type": "slide"
    }
   },
   "source": [
    "Functions are useful for repeating tasks. \n",
    "\n",
    "Computer code can be re-used multiple times, sometimes with different input data. \n",
    "\n",
    "Re-using code reduces the risk of making mistakes or errors. "
   ]
  },
  {
   "cell_type": "markdown",
   "metadata": {
    "slideshow": {
     "slide_type": "slide"
    }
   },
   "source": [
    "In mathematics, a function is a relation between __inputs__ and a set of permissible __outputs__.\n",
    "\n",
    "Example: The *function* relating $x$ to $x^2$ is:\n",
    "$$ \n",
    "f(x) = x \\cdot x\n",
    "$$"
   ]
  },
  {
   "cell_type": "markdown",
   "metadata": {
    "slideshow": {
     "slide_type": "slide"
    }
   },
   "source": [
    "In programming, a function behaves in a similar way. \n",
    "\n",
    "A function can take data as __input(s)__ and return __output(s)__.\n",
    "\n",
    "A simple function example:\n",
    " - Inputs: the coordinates of the vertices of a triangle.\n",
    " - Output: the area of the triangle. "
   ]
  },
  {
   "cell_type": "markdown",
   "metadata": {
    "slideshow": {
     "slide_type": "slide"
    }
   },
   "source": [
    "Note : Not all functions take inputs and not all functions return outputs as we will see...\n",
    "\n",
    " \n"
   ]
  },
  {
   "cell_type": "markdown",
   "metadata": {
    "slideshow": {
     "slide_type": "slide"
    }
   },
   "source": [
    "You are already familiar with some *built in* Python functions..."
   ]
  },
  {
   "cell_type": "markdown",
   "metadata": {
    "collapsed": true,
    "slideshow": {
     "slide_type": "slide"
    }
   },
   "source": [
    "`print()` \n",
    " \n",
    " __Input:__ a value or variable name specified within the parentheses\n",
    " \n",
    " __Output:__ a visible representation\n",
    "  "
   ]
  },
  {
   "cell_type": "code",
   "execution_count": 9,
   "metadata": {},
   "outputs": [
    {
     "name": "stdout",
     "output_type": "stream",
     "text": [
      "Today we will learn about functions\n"
     ]
    }
   ],
   "source": [
    "print(\"Today we will learn about functions\")"
   ]
  },
  {
   "cell_type": "markdown",
   "metadata": {
    "collapsed": true,
    "slideshow": {
     "slide_type": "slide"
    }
   },
   "source": [
    "`len()` \n",
    "  \n",
    "__Input:__ a data structure or variable name (asigned to a data structure) specified within the parentheses.\n",
    "\n",
    "__Output:__ the number of items in the data structure (in one dimension).\n",
    "  "
   ]
  },
  {
   "cell_type": "code",
   "execution_count": 10,
   "metadata": {},
   "outputs": [
    {
     "name": "stdout",
     "output_type": "stream",
     "text": [
      "35\n"
     ]
    }
   ],
   "source": [
    "print(len(\"Today we will learn about functions\"))"
   ]
  },
  {
   "cell_type": "markdown",
   "metadata": {
    "slideshow": {
     "slide_type": "slide"
    }
   },
   "source": [
    "`sorted()` \n",
    "\n",
    "__Input:__ a data structure or variable name (asigned to a data structure) specified within the parentheses. \n",
    "\n",
    "__Output:__ the data structure sorted by a rule determined by the data type.\n",
    "   "
   ]
  },
  {
   "cell_type": "code",
   "execution_count": 11,
   "metadata": {},
   "outputs": [
    {
     "name": "stdout",
     "output_type": "stream",
     "text": [
      "[' ', ' ', ' ', ' ', ' ', 'T', 'a', 'a', 'a', 'b', 'c', 'd', 'e', 'e', 'f', 'i', 'i', 'l', 'l', 'l', 'n', 'n', 'n', 'o', 'o', 'o', 'r', 's', 't', 't', 'u', 'u', 'w', 'w', 'y']\n"
     ]
    }
   ],
   "source": [
    "print(sorted(\"Today we will learn about functions\"))"
   ]
  },
  {
   "cell_type": "markdown",
   "metadata": {
    "slideshow": {
     "slide_type": "slide"
    }
   },
   "source": [
    "Most Python programs contain a number of *custom functions*. \n",
    "\n",
    "These are functions, created by the programmer (you!) to perform a specific task."
   ]
  },
  {
   "cell_type": "markdown",
   "metadata": {
    "slideshow": {
     "slide_type": "slide"
    }
   },
   "source": [
    "## The Anatomy of a Function\n",
    "<a id='AnatomyFunction'></a>\n",
    "\n",
    "\n",
    "Here is a python function in pseudocode:\n",
    "        \n",
    "        def my_function():\n",
    "            code to execute\n",
    "            more code to execute\n",
    "            \n",
    "\n"
   ]
  },
  {
   "cell_type": "markdown",
   "metadata": {
    "slideshow": {
     "slide_type": "slide"
    }
   },
   "source": [
    "For the example we studied earlier... \n",
    "<table><tr><td> \n",
    "<img src='img/function1.png' style=\"width: 300px;\"> </td><td> \n",
    "<img src='img/function2.png' style=\"width: 550px;\"> </td><td> \n",
    "</table>\n",
    "\n",
    "<br>...the function definition would therefore look like:\n",
    "    \n",
    "    \n",
    "         def my_function(r):\n",
    "            print(r)\n",
    "            r += 2\n",
    "            print(r)\n",
    "            my_list.append(r)\n",
    "            "
   ]
  },
  {
   "cell_type": "markdown",
   "metadata": {
    "slideshow": {
     "slide_type": "slide"
    }
   },
   "source": [
    "### Function Checklist\n",
    "<a id='FunctionChecklist'></a>\n",
    "A custom function is __declared__ using:\n",
    "1. The definition keyword, __`def`__.\n",
    "1. A __function name__ of your choice.\n",
    "1. __() parentheses__ which optionally contain __arguments__ (the *inputs* to the function)\n",
    "1. __: a colon__ character\n",
    "1. The __body code__ to be executed when the function is *called*.\n",
    "1. An optional __return__ statement (the *output* of the function)\n",
    "\n",
    "<img src=\"img/function_anotated.png\" alt=\"Drawing\" style=\"width: 600px;\"/>\n"
   ]
  },
  {
   "cell_type": "markdown",
   "metadata": {
    "slideshow": {
     "slide_type": "slide"
    }
   },
   "source": [
    "Below is an example of a Python function.\n"
   ]
  },
  {
   "cell_type": "code",
   "execution_count": 12,
   "metadata": {},
   "outputs": [],
   "source": [
    "def sum_and_increment(a, b):    \n",
    "    c = a + b + 1\n",
    "    return c"
   ]
  },
  {
   "cell_type": "markdown",
   "metadata": {
    "slideshow": {
     "slide_type": "slide"
    }
   },
   "source": [
    "__Function name:__  `sum_and_increment`\n",
    "\n",
    "__Arguments:__ \n",
    "<br>`a` and `b`\n",
    "<br> Function inputs are placed within () parentheses.\n",
    "\n",
    "  ```python\n",
    "  def sum_and_increment(a, b): \n",
    "  \n",
    "  ```\n",
    " \n",
    "\n"
   ]
  },
  {
   "cell_type": "markdown",
   "metadata": {
    "slideshow": {
     "slide_type": "slide"
    }
   },
   "source": [
    "__Body:__ \n",
    "<br>The code to be executed when the function is called. \n",
    "<br>Indented (typically four spaces, automatic).  \n",
    "\n",
    "  ```python\n",
    "    def sum_and_increment(a, b): \n",
    "          c = a + b + 1\n",
    "\n",
    "  ```"
   ]
  },
  {
   "cell_type": "markdown",
   "metadata": {
    "slideshow": {
     "slide_type": "slide"
    }
   },
   "source": [
    "__`return`__ statement: \n",
    "<br>Defines the output of the function.\n",
    "<br>Often placed at the end of a function.\n",
    "\n",
    "\n",
    "  ```python\n",
    "    def sum_and_increment(a, b): \n",
    "          c = a + b + 1\n",
    "          return c\n",
    "    \n",
    "  ```"
   ]
  },
  {
   "cell_type": "markdown",
   "metadata": {
    "slideshow": {
     "slide_type": "slide"
    }
   },
   "source": [
    "To execute (*call*) the function, type:\n",
    " - a variable to store the output if the function `return`s a value\n",
    " - the function name\n",
    " - any arguments "
   ]
  },
  {
   "cell_type": "code",
   "execution_count": 13,
   "metadata": {},
   "outputs": [
    {
     "name": "stdout",
     "output_type": "stream",
     "text": [
      "8\n"
     ]
    }
   ],
   "source": [
    "m = sum_and_increment(3, 4)\n",
    "print(m)  # Expect 8"
   ]
  },
  {
   "cell_type": "code",
   "execution_count": 14,
   "metadata": {
    "slideshow": {
     "slide_type": "-"
    }
   },
   "outputs": [
    {
     "name": "stdout",
     "output_type": "stream",
     "text": [
      "21\n"
     ]
    }
   ],
   "source": [
    "m = 10\n",
    "n = sum_and_increment(m, m)\n",
    "print(n)  # Expect 21"
   ]
  },
  {
   "cell_type": "code",
   "execution_count": 15,
   "metadata": {
    "slideshow": {
     "slide_type": "subslide"
    }
   },
   "outputs": [
    {
     "name": "stdout",
     "output_type": "stream",
     "text": [
      "12\n"
     ]
    }
   ],
   "source": [
    "l = 5\n",
    "m = 6\n",
    "n = sum_and_increment(m, l)\n",
    "print(n) "
   ]
  },
  {
   "cell_type": "markdown",
   "metadata": {
    "slideshow": {
     "slide_type": "slide"
    }
   },
   "source": [
    "<a id='DocumentationString'></a>\n",
    "### The Documentation String\n",
    "It is best practise to include a *documentation string* (\"docstring\").\n",
    " - Describes __in words__ what the function does.\n",
    " - Begins and end with `\"\"\"`.\n",
    " - *Optional* - however it makes your code much more understandadble. "
   ]
  },
  {
   "cell_type": "code",
   "execution_count": 16,
   "metadata": {
    "slideshow": {
     "slide_type": "slide"
    }
   },
   "outputs": [],
   "source": [
    "def sum_and_increment(a, b):\n",
    "    \"\"\"\"\n",
    "    Return the sum of a and b, plus 1\n",
    "    \"\"\"\n",
    "    c = a + b + 1\n",
    "    return c\n"
   ]
  },
  {
   "cell_type": "markdown",
   "metadata": {
    "slideshow": {
     "slide_type": "slide"
    }
   },
   "source": [
    "A function does not necessarily:\n",
    "- take input arguments\n",
    "- return output variables\n",
    "\n",
    "__Example__\n",
    "<br>A function with:\n",
    "- no input arguments - empty () parentheses\n",
    "- no output variables - no `return` statement "
   ]
  },
  {
   "cell_type": "code",
   "execution_count": 17,
   "metadata": {},
   "outputs": [
    {
     "name": "stdout",
     "output_type": "stream",
     "text": [
      "The function 'print_message' has been called.\n"
     ]
    }
   ],
   "source": [
    "def print_message():\n",
    "    print(\"The function 'print_message' has been called.\")\n",
    "\n",
    "print_message()"
   ]
  },
  {
   "cell_type": "markdown",
   "metadata": {
    "slideshow": {
     "slide_type": "slide"
    }
   },
   "source": [
    "As you begin to write longer code, the benefit of using functions becomes more apparent.\n",
    "\n",
    "In the seminar on Control Flow we studied `if` and `else`..."
   ]
  },
  {
   "cell_type": "markdown",
   "metadata": {
    "slideshow": {
     "slide_type": "slide"
    }
   },
   "source": [
    "In the example below, the program repeats the series of `if-elif-else` statements for values in the range 0 to 3."
   ]
  },
  {
   "cell_type": "code",
   "execution_count": 18,
   "metadata": {},
   "outputs": [
    {
     "name": "stdout",
     "output_type": "stream",
     "text": [
      "0\n",
      "1\n",
      "8\n"
     ]
    }
   ],
   "source": [
    "for x in range(3):   \n",
    "    if x > 10:\n",
    "        print(0)\n",
    "    elif x > 5:\n",
    "        print(x*x)\n",
    "    elif x > 0:\n",
    "        print(x**3)\n",
    "    else:\n",
    "        print(x)"
   ]
  },
  {
   "cell_type": "markdown",
   "metadata": {
    "slideshow": {
     "slide_type": "slide"
    }
   },
   "source": [
    "We can encapsulate the code that we want to repeat in a function"
   ]
  },
  {
   "cell_type": "code",
   "execution_count": 19,
   "metadata": {},
   "outputs": [],
   "source": [
    "def process_value(x):\n",
    "    \"Return a value that depends on the input value x \"\n",
    "    if x > 10:\n",
    "        print(0)\n",
    "    elif x > 5:\n",
    "        print(x*x)\n",
    "    elif x > 0:\n",
    "        print(x**3)\n",
    "    else:\n",
    "        print(x)"
   ]
  },
  {
   "cell_type": "markdown",
   "metadata": {
    "slideshow": {
     "slide_type": "slide"
    }
   },
   "source": [
    "\n",
    "\n",
    "To call the function\n",
    "<br>e.g. for the input argument 3"
   ]
  },
  {
   "cell_type": "code",
   "execution_count": 21,
   "metadata": {},
   "outputs": [
    {
     "name": "stdout",
     "output_type": "stream",
     "text": [
      "125\n"
     ]
    }
   ],
   "source": [
    "process_value(5)"
   ]
  },
  {
   "cell_type": "markdown",
   "metadata": {
    "slideshow": {
     "slide_type": "slide"
    }
   },
   "source": [
    "... which makes our original code that applies the `if-elif-else` statements to all values in the range 0 to 3: shorter and much more readable:"
   ]
  },
  {
   "cell_type": "code",
   "execution_count": 21,
   "metadata": {},
   "outputs": [
    {
     "name": "stdout",
     "output_type": "stream",
     "text": [
      "0\n",
      "1\n",
      "8\n"
     ]
    }
   ],
   "source": [
    "# calling the function within a for loop...\n",
    "for x in range(3):\n",
    "    process_value(x)"
   ]
  },
  {
   "cell_type": "markdown",
   "metadata": {},
   "source": [
    "Functions should be defined at the top of a program before or after variables."
   ]
  },
  {
   "cell_type": "markdown",
   "metadata": {
    "slideshow": {
     "slide_type": "slide"
    }
   },
   "source": [
    "The benefit of using a function is more obvious where it removes the need to write out code multiple times.\n",
    "\n",
    "e.g. repeating the `if-elif-else` statement every time we want to use it. \n",
    "\n"
   ]
  },
  {
   "cell_type": "code",
   "execution_count": 22,
   "metadata": {
    "slideshow": {
     "slide_type": "slide"
    }
   },
   "outputs": [
    {
     "name": "stdout",
     "output_type": "stream",
     "text": [
      "8\n",
      "0\n"
     ]
    }
   ],
   "source": [
    "x = 2\n",
    "\n",
    "if x > 10:\n",
    "    print(0)\n",
    "elif x > 5:\n",
    "    print(x*x)\n",
    "elif x > 0:\n",
    "    print(x**3)\n",
    "else:\n",
    "    print(x)\n",
    "    \n",
    "x *= 6\n",
    "\n",
    "if x > 10:\n",
    "    print(0)\n",
    "elif x > 5:\n",
    "    print(x*x)\n",
    "elif x > 0:\n",
    "    print(x**3)\n",
    "else:\n",
    "    print(x)"
   ]
  },
  {
   "cell_type": "code",
   "execution_count": 23,
   "metadata": {
    "slideshow": {
     "slide_type": "slide"
    }
   },
   "outputs": [
    {
     "name": "stdout",
     "output_type": "stream",
     "text": [
      "8\n",
      "0\n"
     ]
    }
   ],
   "source": [
    "x = 2\n",
    "\n",
    "process_value(x)\n",
    "    \n",
    "x *= 6\n",
    "\n",
    "process_value(x)"
   ]
  },
  {
   "cell_type": "markdown",
   "metadata": {
    "slideshow": {
     "slide_type": "slide"
    }
   },
   "source": [
    "## Function Arguments\n",
    "<a id='FunctionArguments'></a>"
   ]
  },
  {
   "cell_type": "markdown",
   "metadata": {
    "slideshow": {
     "slide_type": "slide"
    }
   },
   "source": [
    "### What can be passed as a function argument?\n",
    "\n",
    "*Object* types that can be passed as arguments to functions include:\n",
    "- single variables (`int`, `float`...)\n",
    "- data structures (`list`, `array`...)\n",
    "- other functions \n",
    "\n"
   ]
  },
  {
   "cell_type": "markdown",
   "metadata": {
    "slideshow": {
     "slide_type": "slide"
    }
   },
   "source": [
    "<a id='DataStructuresFunctionArguments'></a>\n",
    "### Data Structures as Function Arguments. \n",
    "__Indexing__ can be useful when data structures are used as function arguments."
   ]
  },
  {
   "cell_type": "markdown",
   "metadata": {
    "slideshow": {
     "slide_type": "slide"
    }
   },
   "source": [
    "__Example: Area of a Triangle__ \n",
    "The coordinates of the vertices of a triangle are $(x_0, y_0)$, $(x_1, y_1)$ and $(x_2, y_2)$.\n",
    "\n",
    "<img src=\"img/triangle_annotated.png\" alt=\"Drawing\" style=\"width: 300px;\"/> \n",
    "\n",
    "The area $A$ of the triangle is given by:\n",
    "\n",
    "$$\n",
    "A = \\left| \\frac{x_0(y_1  - y_2) + x_1(y_2 - y_0) + x_2(y_0 - y_1)}{2} \\right|\n",
    "$$"
   ]
  },
  {
   "cell_type": "markdown",
   "metadata": {
    "slideshow": {
     "slide_type": "slide"
    }
   },
   "source": [
    "One way to represent this as a function is:"
   ]
  },
  {
   "cell_type": "code",
   "execution_count": 24,
   "metadata": {},
   "outputs": [
    {
     "name": "stdout",
     "output_type": "stream",
     "text": [
      "7.0\n"
     ]
    }
   ],
   "source": [
    "def triangle_area(x0, y0, x1, y1, x2, y2):\n",
    "    \n",
    "    A = abs( (x0 * (y1 - y2) +\n",
    "              x1 * (y2 - y0) +\n",
    "              x2 * (y0 - y1)) / 2 )\n",
    "    \n",
    "    return A\n",
    "\n",
    "print(triangle_area(0, 0, 1, 4, 4, 2))"
   ]
  },
  {
   "cell_type": "markdown",
   "metadata": {
    "slideshow": {
     "slide_type": "slide"
    }
   },
   "source": [
    "Another way is to group the x and y coordinates in their pairs.\n",
    "\n",
    "Representing the coordinate pairs as __lists__ can help to reduce the risk of confusing the order in which they are input.  "
   ]
  },
  {
   "cell_type": "code",
   "execution_count": 25,
   "metadata": {
    "slideshow": {
     "slide_type": "slide"
    }
   },
   "outputs": [
    {
     "name": "stdout",
     "output_type": "stream",
     "text": [
      "7.0\n"
     ]
    }
   ],
   "source": [
    "vtex0 = [0, 0]   #(x, y) coordinates of vertex 0\n",
    "vtex1 = [1, 4]   #(x, y) coordinates of vertex 1\n",
    "vtex2 = [4, 2]   #(x, y) coordinates of vertex 2\n",
    "\n",
    "def triangle_area(v0, v1, v2):\n",
    "    \n",
    "    A = abs( (v0[0] * (v1[1] - v2[1]) +\n",
    "              v1[0] * (v2[1] - v0[1]) +\n",
    "              v2[0] * (v0[1] - v1[1])) / 2 )\n",
    "    \n",
    "    return A\n",
    "\n",
    "print(triangle_area(vtex0, vtex1, vtex2))"
   ]
  },
  {
   "cell_type": "markdown",
   "metadata": {
    "slideshow": {
     "slide_type": "slide"
    }
   },
   "source": [
    "This time the function `triangle_area` takes three arguments:\n",
    " - a __list__ containig the coordinates of vertex 0\n",
    " - a __list__ containig the coordinates of vertex 1\n",
    " - a __list__ containig the coordinates of vertex 2\n",
    " \n",
    "\n",
    "The individual elements of the lists are referenced within the function by *indexing*. "
   ]
  },
  {
   "cell_type": "markdown",
   "metadata": {
    "slideshow": {
     "slide_type": "slide"
    }
   },
   "source": [
    "<a id='FunctionsFunctionArguments'></a>\n",
    "### Functions as Function Arguments. \n",
    "Consider the two functions.\n",
    "<br>The docstring of each function explains what it does."
   ]
  },
  {
   "cell_type": "code",
   "execution_count": 26,
   "metadata": {},
   "outputs": [
    {
     "name": "stdout",
     "output_type": "stream",
     "text": [
      "-1\n",
      "True\n"
     ]
    }
   ],
   "source": [
    "# Function A\n",
    "def f0(y):\n",
    "    \"Computes y^2 - 10\"\n",
    "    return y*y - 10\n",
    "\n",
    "# Function B\n",
    "def is_positive(x):\n",
    "    \"Checks if x is positive\"\n",
    "    return x > 0\n",
    "\n",
    "print(f0(3))\n",
    "print(is_positive(3))"
   ]
  },
  {
   "cell_type": "markdown",
   "metadata": {
    "slideshow": {
     "slide_type": "slide"
    }
   },
   "source": [
    "Let's say we want to test if y^2 - 1 (*Function A*) is positive (*Function B*).\n",
    "\n",
    "We can nest one function within another function:"
   ]
  },
  {
   "cell_type": "code",
   "execution_count": 27,
   "metadata": {},
   "outputs": [
    {
     "name": "stdout",
     "output_type": "stream",
     "text": [
      "False\n"
     ]
    }
   ],
   "source": [
    "print(is_positive( f0(3) ))"
   ]
  },
  {
   "cell_type": "markdown",
   "metadata": {
    "slideshow": {
     "slide_type": "slide"
    }
   },
   "source": [
    "Alternatively we can re-write Function B to take a function and a variable as *seperate* input arguments: "
   ]
  },
  {
   "cell_type": "code",
   "execution_count": 28,
   "metadata": {},
   "outputs": [
    {
     "name": "stdout",
     "output_type": "stream",
     "text": [
      "False\n"
     ]
    }
   ],
   "source": [
    "# Function A\n",
    "def f0(y):\n",
    "    \"Computes y^2 - 1\"\n",
    "    return y*y - 10\n",
    "\n",
    "# Function B\n",
    "\n",
    "# def is_positive(x):\n",
    "#     \"Checks if x is positive\"\n",
    "#     return x > 0\n",
    "\n",
    "def is_positive(f, x):\n",
    "    \"Checks if the function value f(x) is positive\"\n",
    "    return f(x) > 0\n",
    "\n",
    "print(is_positive(f0, 3))\n",
    "    \n"
   ]
  },
  {
   "cell_type": "markdown",
   "metadata": {
    "slideshow": {
     "slide_type": "slide"
    }
   },
   "source": [
    "This is useful, for example, where the use of the function depends on the input value.\n",
    "\n",
    "This time *Function B* includes `if-else`:"
   ]
  },
  {
   "cell_type": "code",
   "execution_count": 29,
   "metadata": {},
   "outputs": [
    {
     "name": "stdout",
     "output_type": "stream",
     "text": [
      "True\n",
      "False\n"
     ]
    }
   ],
   "source": [
    "# Function B\n",
    "def is_positive(f, x):\n",
    "    \"Checks if the function value f(x) is positive\"\n",
    "    # odd\n",
    "    if x%2:\n",
    "        return f(x) > 0\n",
    "    # even\n",
    "    else:\n",
    "        return x > 0\n",
    "\n",
    "print(is_positive(f0, 2))\n",
    "print(is_positive(f0, 3))"
   ]
  },
  {
   "cell_type": "markdown",
   "metadata": {
    "slideshow": {
     "slide_type": "slide"
    }
   },
   "source": [
    "Multiple functions can be input as arguments."
   ]
  },
  {
   "cell_type": "code",
   "execution_count": 30,
   "metadata": {},
   "outputs": [
    {
     "name": "stdout",
     "output_type": "stream",
     "text": [
      "False\n",
      "False\n"
     ]
    }
   ],
   "source": [
    "# Function A\n",
    "def f0(y):\n",
    "    \"Computes y^2 - 1\"\n",
    "    return y*y - 10\n",
    "\n",
    "\n",
    "# Function A'\n",
    "def f1(y):\n",
    "    \"Computes y^2 - 1\"\n",
    "    return y*y*y - 10\n",
    "\n",
    "\n",
    "# Function B\n",
    "def is_positive(x, f_0, f_1):\n",
    "    \"Checks if the function value f(x) is positive\"\n",
    "    if x%2:\n",
    "        return f_0(x) > 0\n",
    "    else:\n",
    "        return f_1(x) > 0\n",
    "    \n",
    "    \n",
    "print(is_positive(2, f0, f1))\n",
    "print(is_positive(3, f0, f1))"
   ]
  },
  {
   "cell_type": "markdown",
   "metadata": {
    "slideshow": {
     "slide_type": "slide"
    }
   },
   "source": [
    "### Rules for Inputting Arguments\n",
    "<a id='RulesInputtingArguments'></a>"
   ]
  },
  {
   "cell_type": "markdown",
   "metadata": {
    "slideshow": {
     "slide_type": "slide"
    }
   },
   "source": [
    "It is important input arguments in the correct order.  "
   ]
  },
  {
   "cell_type": "code",
   "execution_count": 31,
   "metadata": {
    "slideshow": {
     "slide_type": "slide"
    }
   },
   "outputs": [],
   "source": [
    "def sum_and_increment(a, b):\n",
    "            \"\"\"\"\n",
    "            Return the sum of a and b, plus 1\n",
    "            \"\"\"\n",
    "            c = a + b + 1\n",
    "            return c"
   ]
  },
  {
   "cell_type": "markdown",
   "metadata": {
    "slideshow": {
     "slide_type": "-"
    }
   },
   "source": [
    "The function `sum_and_increment` finds the sum of:\n",
    " - the first argument, `a`\n",
    " - the second argument `b`\n",
    " - 1\n",
    " \n",
    "If the order of a and b is switched, the result is the same.\n"
   ]
  },
  {
   "cell_type": "code",
   "execution_count": 32,
   "metadata": {},
   "outputs": [
    {
     "name": "stdout",
     "output_type": "stream",
     "text": [
      "8\n",
      "8\n"
     ]
    }
   ],
   "source": [
    "print(sum_and_increment(3,4))\n",
    "print(sum_and_increment(4,3))"
   ]
  },
  {
   "cell_type": "markdown",
   "metadata": {
    "slideshow": {
     "slide_type": "slide"
    }
   },
   "source": [
    "However, if we subtract one argument from the other, the result depends on the input order: "
   ]
  },
  {
   "cell_type": "code",
   "execution_count": 33,
   "metadata": {},
   "outputs": [
    {
     "name": "stdout",
     "output_type": "stream",
     "text": [
      "0\n",
      "2\n"
     ]
    }
   ],
   "source": [
    "def subtract_and_increment(a, b):\n",
    "    \"\"\"\"\n",
    "    Return a minus b, plus 1\n",
    "    \"\"\"\n",
    "    c = a - b + 1\n",
    "    return c\n",
    "\n",
    "print(subtract_and_increment(3,4))\n",
    "print(subtract_and_increment(4,3))"
   ]
  },
  {
   "cell_type": "markdown",
   "metadata": {
    "slideshow": {
     "slide_type": "slide"
    }
   },
   "source": [
    "### Named Arguments\n",
    "<a id='NamedArguments'></a>\n",
    "It can be easy to make a mistake in the input order, leading to incorrect output.  \n",
    "\n",
    "We can reduce this risk by giving inputs as *named* arguments. \n",
    "\n",
    "When we use named arguments, the order of input does not matter.  "
   ]
  },
  {
   "cell_type": "code",
   "execution_count": 34,
   "metadata": {
    "slideshow": {
     "slide_type": "-"
    }
   },
   "outputs": [
    {
     "name": "stdout",
     "output_type": "stream",
     "text": [
      "0\n",
      "0\n"
     ]
    }
   ],
   "source": [
    "def subtract_and_increment(a, b):\n",
    "    \"Return a minus b, plus 1\"\n",
    "    c = a - b + 1\n",
    "    return c\n",
    "\n",
    "alpha = 3\n",
    "beta = 4\n",
    "\n",
    "print(subtract_and_increment(a=alpha, b=beta))\n",
    "print(subtract_and_increment(b=beta, a=alpha))  "
   ]
  },
  {
   "cell_type": "markdown",
   "metadata": {
    "slideshow": {
     "slide_type": "slide"
    }
   },
   "source": [
    "<a id='DefaultKeywordArguments'></a>\n",
    "### Default / Keyword Arguments\n",
    "\n",
    "'Default' or 'keyword' arguments have a default initial value.\n",
    "\n",
    "The default value can be overridden when the function is called. \n",
    "\n",
    "In some cases it just saves the programmer effort - they can write less code. \n",
    "\n",
    "In other cases default arguments allow a function to be applied to a wider range of problems. \n",
    "\n"
   ]
  },
  {
   "cell_type": "markdown",
   "metadata": {
    "slideshow": {
     "slide_type": "slide"
    }
   },
   "source": [
    "####  Example: A particle moving with constant acceleration.\n",
    "<br>\n",
    "Find the position $r$ of a particle, relative to the datum $r=0$, at time, $t$  when:\n",
    " - initial position $r_{0}$ \n",
    " - initial velocity $v_{0}$\n",
    " - constant acceleration $a$. \n",
    "\n",
    "From the equations of motion, the position $r$ at time $t$ is given by:  \n",
    "\n",
    "$$\n",
    "r(t) = r(0) + v(0) t + \\frac{1}{2} a t^{2}\n",
    "$$\n",
    "\n"
   ]
  },
  {
   "cell_type": "markdown",
   "metadata": {
    "slideshow": {
     "slide_type": "slide"
    }
   },
   "source": [
    "__A particle moving with constant acceleration.__\n",
    "<br>Example: An object falling from rest at $r(0)$, under constant acceleration due to gravity. \n",
    "<br>(*particle*: neglect air resistance)\n",
    "\n",
    "<img src=\"img/gravity_falling.png\" alt=\"Drawing\" style=\"width: 250px;\"/> \n",
    "\n"
   ]
  },
  {
   "cell_type": "markdown",
   "metadata": {
    "slideshow": {
     "slide_type": "slide"
    }
   },
   "source": [
    " - $a = g = -9.81$ m s$^{-2}$ is sufficiently accurate *in most cases*. \n",
    " - $v(0) = 0$ *in every case*: \"...falling from rest...\"\n",
    " - $r(0) =$ the height from which the object falls. \n",
    " - $t = $ the time at which we want to find the objects position.\n",
    " \n",
    "We can use keyword arguments for the velocity `v0` and the acceleration `a`:"
   ]
  },
  {
   "cell_type": "code",
   "execution_count": 35,
   "metadata": {},
   "outputs": [],
   "source": [
    "def position(t, r0, v0=0.0, a=-9.81):\n",
    "    \"\"\"\n",
    "    Computes position of a particle at time t when falling from rest at initial height r0.\n",
    "    \"\"\"\n",
    "    return r0 + (v0 * t) + (0.5 * a * t**2)"
   ]
  },
  {
   "cell_type": "markdown",
   "metadata": {
    "slideshow": {
     "slide_type": "slide"
    }
   },
   "source": [
    "The function can take *up to* four arguments.\n",
    "\n",
    "However, we only need to enter the *first two arguments* (`t, r0`), if using the default values (`v0=0.0, a=-9.81`). \n"
   ]
  },
  {
   "cell_type": "code",
   "execution_count": 36,
   "metadata": {},
   "outputs": [
    {
     "name": "stdout",
     "output_type": "stream",
     "text": [
      "height = 0.8038 m\n"
     ]
    }
   ],
   "source": [
    "# Position at t = 0.2s, when dropped from r0 = 1m\n",
    "p = position(0.2, 1.0)\n",
    "\n",
    "print(\"height =\", p, \"m\")"
   ]
  },
  {
   "cell_type": "markdown",
   "metadata": {
    "slideshow": {
     "slide_type": "slide"
    }
   },
   "source": [
    "At the equator, the acceleration due to gravity is lower, $a= g = -9.78$ m s$^{-2}$\n",
    "\n",
    "For some calculations, this makes a significant difference. \n",
    "\n",
    "In this case, we simply override the default value for acceleration:  "
   ]
  },
  {
   "cell_type": "code",
   "execution_count": 37,
   "metadata": {
    "slideshow": {
     "slide_type": "-"
    }
   },
   "outputs": [
    {
     "name": "stdout",
     "output_type": "stream",
     "text": [
      "height = 0.8038 m\n",
      "height = 0.8044 m\n"
     ]
    }
   ],
   "source": [
    "# Position at t = 0.2s, when dropped from r0 = 1m\n",
    "p = position(0.2, 1.0)\n",
    "print(\"height =\", p, \"m\")\n",
    "\n",
    "\n",
    "# Position at t = 0.2s, when dropped from r0 = 1m at the equator\n",
    "p = position(0.2, 1, 0.0, -9.78)\n",
    "print(\"height =\", p, \"m\")"
   ]
  },
  {
   "cell_type": "markdown",
   "metadata": {
    "slideshow": {
     "slide_type": "slide"
    }
   },
   "source": [
    "__Note__ that we have *also* entered the initial velocity, `v`.\n",
    "\n",
    "As the value to overide is the 4th argument, the 3rd argument must also be input. \n",
    "\n",
    "The function interprets:\n",
    "\n",
    "    p = position(0.2, 1, -9.78)\n",
    "    \n",
    "as\n",
    "\n",
    "    p = position(0.2, 1, -9.78 -9.81)\n",
    "    \n",
    "\n"
   ]
  },
  {
   "cell_type": "markdown",
   "metadata": {
    "slideshow": {
     "slide_type": "slide"
    }
   },
   "source": [
    "Manually inputting an argument, `v0` when we want to use its default is a potential source of error.  \n",
    "\n",
    "We may accidentally input the default value of `v0` incorrectly, causing a bug in our program. \n",
    "\n",
    "A more robust solution is to specify the acceleration by using a __named argument__. "
   ]
  },
  {
   "cell_type": "code",
   "execution_count": 38,
   "metadata": {
    "slideshow": {
     "slide_type": "-"
    }
   },
   "outputs": [
    {
     "name": "stdout",
     "output_type": "stream",
     "text": [
      "height = 0.8044 m\n"
     ]
    }
   ],
   "source": [
    "# Position at t = 0.2s, when dropped from r0 = 1m at the equator\n",
    "p = position(0.2, 1, a=-9.78)\n",
    "\n",
    "print(\"height =\", p, \"m\")"
   ]
  },
  {
   "cell_type": "markdown",
   "metadata": {
    "collapsed": true
   },
   "source": [
    "The program overwrites the correct default value.\n",
    "\n",
    "We do not have to specify `v`. "
   ]
  },
  {
   "cell_type": "markdown",
   "metadata": {
    "slideshow": {
     "slide_type": "slide"
    }
   },
   "source": [
    "### Forcing Default Arguments\n",
    "<a id='ForcingDefaultArguments'></a>\n",
    "As an additional safety measure, you can force arguments to be entered as named arguments by preceding them with a * star in the function definition.\n",
    "\n",
    "All arguments after the star must be entered as named arguments.\n",
    "\n",
    "Below is an example:"
   ]
  },
  {
   "cell_type": "code",
   "execution_count": 23,
   "metadata": {},
   "outputs": [],
   "source": [
    "# redefine position function, forcing keyword arguments\n",
    "def position(t, r0, *, v0=0.0, a=-9.81):\n",
    "    \"\"\"\n",
    "    Computes position of an accelerating particle.\n",
    "    \"\"\"\n",
    "    return r0 + (v0 * t) + (0.5 * a * t**2)\n",
    "\n",
    "# Position at t = 0.2s, when dropped from r0 = 1m at the equator\n",
    "#p = position(0.2, 1, 0.0, -9.78)\n",
    "p = position(0.2, 1, a=-9.78)"
   ]
  },
  {
   "cell_type": "markdown",
   "metadata": {
    "slideshow": {
     "slide_type": "slide"
    }
   },
   "source": [
    "Learning about function arguments can help you to understand the documentation of imoprted functions.\n",
    "\n",
    "<img src=\"img/numpy_cos.png\" alt=\"Drawing\" style=\"width: 500px;\"/> \n",
    "\n",
    ">numpy.cos(<font color='blue'>x</font>, /, <font color='red'>out=None</font>, *, <font color='green'>where=True, casting='same_kind', order='K', dtype=None, subok=True</font> [, <font color='purple'>signature, extobj</font> ]) \n",
    "\n",
    "In the () parentheses following the function name are:\n",
    "- <font color='blue'>*positional* arguments (required)</font>\n",
    "- <font color='red'>*keyword* arguments (with a default value, optionally set). (Listed after the `/` slash.)</font>\n",
    "- <font color='green'>__forced__ keyword arguments. (Listed after the `*` star.)</font> \n",
    "  <br><font color='purple'>(including arguments without a default value.  Listed in `[]` brackets.)</font>\n",
    "\n"
   ]
  },
  {
   "cell_type": "markdown",
   "metadata": {
    "slideshow": {
     "slide_type": "slide"
    }
   },
   "source": [
    "## Optional Advanced Topic : `args*` and `kwargs**`\n",
    "<a id='*args**kwargs'></a>\n",
    "`*args` and `**kwargs` can be used when we don't know the exact number of arguments we want to pass to the function.\n",
    "\n",
    "`*args` lets us pass any number of *arguments*.\n",
    "\n",
    "`**kwargs` lets us pass any number of *keyword arguments*. \n",
    "\n",
    "(Actually, `*` and `**` are the only required code. The names `args` and `kwargs` are widely accepted convention)."
   ]
  },
  {
   "cell_type": "markdown",
   "metadata": {
    "slideshow": {
     "slide_type": "slide"
    }
   },
   "source": [
    "### Packing: `*args` and `**kwargs in function definitions`\n",
    "In a function definition, `*args` must appear before `**kwargs`."
   ]
  },
  {
   "cell_type": "markdown",
   "metadata": {
    "slideshow": {
     "slide_type": "slide"
    }
   },
   "source": [
    "### Packing `*args`\n",
    "Sometimes we want the number of arguments we can pass to a function to be flexible.\n",
    "\n",
    "Consider the example below: "
   ]
  },
  {
   "cell_type": "code",
   "execution_count": 40,
   "metadata": {
    "slideshow": {
     "slide_type": "-"
    }
   },
   "outputs": [
    {
     "data": {
      "text/plain": [
       "[1, 2, 3]"
      ]
     },
     "execution_count": 40,
     "metadata": {},
     "output_type": "execute_result"
    }
   ],
   "source": [
    "def vector_3D(x, y=0.0, z=0.0):\n",
    "    \"\"\"\n",
    "    Expresses 1D, 2D or 3D vector in 3D coordinates, as a list.\n",
    "    \"\"\"\n",
    "    return [x, y, z]\n",
    "\n",
    "vector_3D(1, 2, 3)"
   ]
  },
  {
   "cell_type": "markdown",
   "metadata": {
    "slideshow": {
     "slide_type": "slide"
    }
   },
   "source": [
    "While there is some flexibility in how many arguments we can input, the function:\n",
    "- is still limited to a maximum of *three* inputs.\n",
    "- always outputs a list of three elements. "
   ]
  },
  {
   "cell_type": "markdown",
   "metadata": {
    "slideshow": {
     "slide_type": "slide"
    }
   },
   "source": [
    "Sometimes it can be convenient to allow any number of inputs. \n",
    " \n",
    "This is called *packing*.\n",
    "\n",
    "By allowing the function to take any number of `*args`, we make it more __flexible__."
   ]
  },
  {
   "cell_type": "code",
   "execution_count": 26,
   "metadata": {
    "slideshow": {
     "slide_type": "slide"
    }
   },
   "outputs": [
    {
     "data": {
      "text/plain": [
       "[4, 5]"
      ]
     },
     "execution_count": 26,
     "metadata": {},
     "output_type": "execute_result"
    }
   ],
   "source": [
    "def var_to_list(*args):\n",
    "    \"\"\"\n",
    "    Expresses any number of inputs as a list. \n",
    "    \"\"\"\n",
    "    var_list = []\n",
    "    \n",
    "    for a in args:\n",
    "        var_list.append(a)\n",
    "        \n",
    "    return var_list\n",
    "\n",
    "var_to_list(4,5)"
   ]
  },
  {
   "cell_type": "markdown",
   "metadata": {
    "slideshow": {
     "slide_type": "slide"
    }
   },
   "source": [
    "Arguments must be listed before keyword arguments as usual."
   ]
  },
  {
   "cell_type": "code",
   "execution_count": 42,
   "metadata": {
    "slideshow": {
     "slide_type": "-"
    }
   },
   "outputs": [
    {
     "name": "stdout",
     "output_type": "stream",
     "text": [
      "[1, 2, 3, 4, 5]\n",
      "[1, 2, 3, 4]\n"
     ]
    }
   ],
   "source": [
    "def var_to_list(*args, extra=2):\n",
    "    \"\"\"\n",
    "    Expresses a vector of any length as a list. \n",
    "    \"\"\"\n",
    "    var_list = []\n",
    "    \n",
    "    for a in args:\n",
    "        var_list.append(a)\n",
    "        \n",
    "    return var_list\n",
    "\n",
    "\n",
    "print(var_to_list(1, 2, 3, 4, 5))\n",
    "\n",
    "print(var_to_list(1, 2, 3, 4, extra=5))"
   ]
  },
  {
   "cell_type": "markdown",
   "metadata": {
    "slideshow": {
     "slide_type": "slide"
    }
   },
   "source": [
    "### Packing `**kwargs`\n",
    "`**` allows multiple keyword-variable pairs to be entered which it stores in the form of a dictionary.\n",
    "\n",
    "A dictionary is another type of *data structure* that stores variable name - value pairs in the format shown below:"
   ]
  },
  {
   "cell_type": "code",
   "execution_count": 27,
   "metadata": {},
   "outputs": [
    {
     "name": "stdout",
     "output_type": "stream",
     "text": [
      "12\n"
     ]
    }
   ],
   "source": [
    "dictionary = {\"second\": 12, \"fourth\": 14, \"third\": 13}\n",
    "print(dictionary[\"second\"])"
   ]
  },
  {
   "cell_type": "markdown",
   "metadata": {
    "slideshow": {
     "slide_type": "slide"
    }
   },
   "source": [
    "This is useful as we can access the keyword and the variables seperately using the method, `.items()`."
   ]
  },
  {
   "cell_type": "code",
   "execution_count": 44,
   "metadata": {},
   "outputs": [
    {
     "name": "stdout",
     "output_type": "stream",
     "text": [
      "second\n",
      "fourth\n",
      "third\n",
      "\n",
      "('second', 12)\n",
      "('fourth', 14)\n",
      "('third', 13)\n",
      "\n",
      "second : 12\n",
      "fourth : 14\n",
      "third : 13\n",
      "\n"
     ]
    }
   ],
   "source": [
    "for name in dictionary:\n",
    "    print(f\"{name}\")\n",
    "print()\n",
    "\n",
    "\n",
    "for name in dictionary.items():\n",
    "    print(f\"{name}\")\n",
    "print()\n",
    "\n",
    "\n",
    "for name, value in dictionary.items():\n",
    "    print(f\"{name} : {value}\")\n",
    "print()"
   ]
  },
  {
   "cell_type": "markdown",
   "metadata": {
    "slideshow": {
     "slide_type": "slide"
    }
   },
   "source": [
    "For example, when packing **kwargs:"
   ]
  },
  {
   "cell_type": "code",
   "execution_count": 45,
   "metadata": {
    "slideshow": {
     "slide_type": "-"
    }
   },
   "outputs": [
    {
     "name": "stdout",
     "output_type": "stream",
     "text": [
      "thing1 : robot\n",
      "thing2 : melon\n"
     ]
    }
   ],
   "source": [
    "def table_things(**kwargs):\n",
    "    \"Prints key-value pairs seperated by a colon\"\n",
    "    \n",
    "    for name, value in kwargs.items():\n",
    "        print(f\"{name} : {value}\")\n",
    "\n",
    "table_things(thing1 = 'robot', \n",
    "             thing2 = 'melon')   "
   ]
  },
  {
   "cell_type": "markdown",
   "metadata": {
    "slideshow": {
     "slide_type": "slide"
    }
   },
   "source": [
    "Packing can make your code more efficient by skipping unecessary sections."
   ]
  },
  {
   "cell_type": "code",
   "execution_count": 46,
   "metadata": {
    "slideshow": {
     "slide_type": "-"
    }
   },
   "outputs": [
    {
     "name": "stdout",
     "output_type": "stream",
     "text": [
      "(1,1)\n",
      "(4,3)\n"
     ]
    }
   ],
   "source": [
    "x = 1\n",
    "y = 1\n",
    "\n",
    "def position(**kwargs):\n",
    "    \"Prints x, y coordinates of current position\"\n",
    "    \n",
    "    if \"new_pos\" in kwargs:\n",
    "        global x, y \n",
    "        x = kwargs[\"new_pos\"][1]\n",
    "        y = kwargs[\"new_pos\"][0]\n",
    "        \n",
    "    print(f\"({x},{y})\")    \n",
    "\n",
    "pos_update = position()\n",
    "\n",
    "pos_update = position(new_pos=[3,4])"
   ]
  },
  {
   "cell_type": "markdown",
   "metadata": {
    "slideshow": {
     "slide_type": "slide"
    }
   },
   "source": [
    "So in function documentation, for example, __`**kwargs`__refers to a series of keyword arguments of which you may enter as few or as many as you wish to set. \n",
    "\n",
    "<img src=\"img/numpy_cos.png\" alt=\"Drawing\" style=\"width: 500px;\"/> \n",
    "\n",
    "<img src=\"img/numpy_cos_params.png\" alt=\"Drawing\" style=\"width: 500px;\"/> \n",
    "\n"
   ]
  },
  {
   "cell_type": "markdown",
   "metadata": {
    "slideshow": {
     "slide_type": "slide"
    }
   },
   "source": [
    "### Unpacking: `*args` and `**kwargs when calling functions`\n",
    "\n",
    "Sometimes it can be convenient to do the opposite:\n",
    " - enter a __single data structure__; all the functin arguments packed up somewhere earlier in the program.\n",
    " - have the function unpack the list for us into __multiple containers__; the individual function arguments. \n",
    "\n",
    "<br>This reverse process to packing is known as *unpacking*.\n",
    "\n",
    "By packing the arguments as a single input, calling the function can become more __efficient__. "
   ]
  },
  {
   "cell_type": "markdown",
   "metadata": {
    "slideshow": {
     "slide_type": "subslide"
    }
   },
   "source": [
    "### Unpacking `*args`\n",
    "A single data structure e.g. a list, unpacks as the function arguments in the order they appear.\n",
    "<br>Therefore the data structure should be the *same* length as the number of arguments it is being used to input.\n",
    "<br>In other words, unlike packing, the number of arguments is now fixed."
   ]
  },
  {
   "cell_type": "code",
   "execution_count": 7,
   "metadata": {
    "slideshow": {
     "slide_type": "subslide"
    }
   },
   "outputs": [
    {
     "name": "stdout",
     "output_type": "stream",
     "text": [
      "1 4 5 6\n",
      "1 2 4 5\n"
     ]
    }
   ],
   "source": [
    "def test_args_func(first, second, third, fourth):\n",
    "    \"Prints each argument of the function\"\n",
    "    print(first, second, third, fourth)\n",
    "    \n",
    "to_unpack = [4, 5, 6]\n",
    "\n",
    "# the number of input values should be the same as the number of function arguments...\n",
    "test_args_func(1, *to_unpack)\n",
    "\n",
    "# ...however, excess values will be skipped without effecting function operation...\n",
    "test_args_func(1, 2, *to_unpack[:2])\n",
    "\n",
    "# ...too few values on the other hand will generate an error (uncomment code below)\n",
    "# test_args_func(*to_unpack)"
   ]
  },
  {
   "cell_type": "markdown",
   "metadata": {
    "slideshow": {
     "slide_type": "subslide"
    }
   },
   "source": [
    "### Unpacking `**kwargs`\n",
    "Values in the dictionary are adddressed using the function arguments as keywords.\n",
    "\n",
    "This means that the arguments can appear in the dictionary in any order.\n",
    "\n",
    "However, the dictionary should be the *same* length as the number of arguments it is being used to input *and* the dictionary entried should have the same names."
   ]
  },
  {
   "cell_type": "code",
   "execution_count": 48,
   "metadata": {
    "slideshow": {
     "slide_type": "subslide"
    }
   },
   "outputs": [
    {
     "name": "stdout",
     "output_type": "stream",
     "text": [
      "1 12 13 14\n"
     ]
    }
   ],
   "source": [
    "def test_args_func(first, second, third, fourth):\n",
    "    \"Prints each argument of the function\"\n",
    "    print(first, second, third, fourth)\n",
    "    \n",
    "dictionary = {\"second\": 12, \"fourth\": 14, \"third\": 13}\n",
    "\n",
    "test_args_func(1, **dictionary)"
   ]
  },
  {
   "cell_type": "markdown",
   "metadata": {
    "slideshow": {
     "slide_type": "slide"
    }
   },
   "source": [
    "## Scope\n",
    "<a id='Scope'></a>\n",
    "__Global variables:__ Variable that are *declared* __outside__ of a function *can* be used __inside__ of the function. <br>\n",
    "They have *global scope*. \n",
    "\n",
    "__Local variables:__ Variables that are *declared* __inside__ of a function *can not* be used __outside__ of the function. \n",
    "<br>\n",
    "They have *local scope*. "
   ]
  },
  {
   "cell_type": "markdown",
   "metadata": {},
   "source": [
    "#### Example: Global Variables\n",
    "Global variables are accessible anywhere"
   ]
  },
  {
   "cell_type": "code",
   "execution_count": 29,
   "metadata": {
    "slideshow": {
     "slide_type": "slide"
    }
   },
   "outputs": [
    {
     "name": "stdout",
     "output_type": "stream",
     "text": [
      "Global variable\n"
     ]
    }
   ],
   "source": [
    "# global variable\n",
    "global_var = \"Global variable\"\n",
    "\n",
    "# define function\n",
    "def my_func():\n",
    "    \"\"\"\n",
    "    Prints a global variable \n",
    "    \"\"\"\n",
    "    # the function can access the global variable\n",
    "    print(global_var)    \n",
    "    \n",
    "\n",
    "\n",
    "# call function\n",
    "my_func()        "
   ]
  },
  {
   "cell_type": "markdown",
   "metadata": {},
   "source": [
    "The global variable may be created *after* the function is __defined__,\n",
    "<br>*but must* be created *before* the function is __called__."
   ]
  },
  {
   "cell_type": "code",
   "execution_count": 50,
   "metadata": {
    "slideshow": {
     "slide_type": "slide"
    }
   },
   "outputs": [
    {
     "name": "stdout",
     "output_type": "stream",
     "text": [
      "Global variable\n"
     ]
    }
   ],
   "source": [
    "# define function\n",
    "def my_func():\n",
    "    \"\"\"\n",
    "    Prints a global variable \n",
    "    \"\"\"\n",
    "    # the function can access the global variable\n",
    "    print(global_var)  \n",
    "    \n",
    "    \n",
    "    \n",
    "# global variable\n",
    "global_var = \"Global variable\"\n",
    "\n",
    "\n",
    "# call function\n",
    "my_func()        "
   ]
  },
  {
   "cell_type": "markdown",
   "metadata": {
    "slideshow": {
     "slide_type": "slide"
    }
   },
   "source": [
    "A global variable can be __created__ *inside* a function using the `global` keyword:"
   ]
  },
  {
   "cell_type": "code",
   "execution_count": 51,
   "metadata": {},
   "outputs": [
    {
     "name": "stdout",
     "output_type": "stream",
     "text": [
      "Locally assigned global variable\n"
     ]
    }
   ],
   "source": [
    "def my_func():\n",
    "     \n",
    "    # Locally assigned global variable\n",
    "    global var\n",
    "    var = \"Locally assigned global variable\"\n",
    "    \n",
    "\n",
    "# global variable does not exit before function call\n",
    "# print(var)\n",
    "\n",
    "my_func()\n",
    "\n",
    "print(var)"
   ]
  },
  {
   "cell_type": "markdown",
   "metadata": {},
   "source": [
    "#### Example: Local Variables\n",
    "Local variables only accessible within the function in which they are defined"
   ]
  },
  {
   "cell_type": "code",
   "execution_count": 31,
   "metadata": {
    "slideshow": {
     "slide_type": "slide"
    }
   },
   "outputs": [
    {
     "name": "stdout",
     "output_type": "stream",
     "text": [
      "Local variable\n"
     ]
    },
    {
     "ename": "NameError",
     "evalue": "name 'local_var' is not defined",
     "output_type": "error",
     "traceback": [
      "\u001b[0;31m---------------------------------------------------------------------------\u001b[0m",
      "\u001b[0;31mNameError\u001b[0m                                 Traceback (most recent call last)",
      "\u001b[0;32m<ipython-input-31-4cbcfc9b5e40>\u001b[0m in \u001b[0;36m<module>\u001b[0;34m()\u001b[0m\n\u001b[1;32m     15\u001b[0m \u001b[0;34m\u001b[0m\u001b[0m\n\u001b[1;32m     16\u001b[0m \u001b[0;31m# try to print local variable\u001b[0m\u001b[0;34m\u001b[0m\u001b[0;34m\u001b[0m\u001b[0m\n\u001b[0;32m---> 17\u001b[0;31m \u001b[0mprint\u001b[0m\u001b[0;34m(\u001b[0m\u001b[0mlocal_var\u001b[0m\u001b[0;34m)\u001b[0m\u001b[0;34m\u001b[0m\u001b[0m\n\u001b[0m",
      "\u001b[0;31mNameError\u001b[0m: name 'local_var' is not defined"
     ]
    }
   ],
   "source": [
    "# define function\n",
    "def my_func():\n",
    "    \"\"\"\n",
    "    Prints a local variable \n",
    "    \"\"\"  \n",
    "    \n",
    "    # global variable\n",
    "    local_var = \"Local variable\"\n",
    "    print(local_var)\n",
    "    \n",
    "    \n",
    "# call function\n",
    "my_func()\n",
    "\n",
    "\n",
    "# try to print local variable\n",
    "# print(local_var)"
   ]
  },
  {
   "cell_type": "markdown",
   "metadata": {
    "slideshow": {
     "slide_type": "slide"
    }
   },
   "source": [
    "__Readability:__ \n",
    "\n",
    "The limited scope of local variables can be useful。\n",
    "\n",
    "For example, some variable names can be useful for different tasks in our program. \n",
    "\n",
    "We may not want to \"use them up\" on a single task."
   ]
  },
  {
   "cell_type": "markdown",
   "metadata": {
    "slideshow": {
     "slide_type": "slide"
    }
   },
   "source": [
    "### Example : Use of Local Scope\n",
    "<a id='ExampleLocalScope'></a>\n",
    "In a problem concerning 2D geometry, intuitively, the variable names __`x`__ and __`y`__ are useful for describing positions in 2D space. \n",
    "\n",
    "An example of this is the function that we used earlier to compute the area of a triangle using the coordinates of its three vertices.\n",
    "\n",
    "<img src=\"img/triangle_annotated.png\" alt=\"Drawing\" style=\"width: 200px;\"/> \n",
    "\n",
    "The area $A$ of the triangle is given by:\n",
    "\n",
    "$$\n",
    "A = \\left| \\frac{x_0(y_1  - y_2) + x_1(y_2 - y_0) + x_2(y_0 - y_1)}{2} \\right|\n",
    "$$\n",
    "\n",
    "Local variables `x` and `y` improve the readability of the function. "
   ]
  },
  {
   "cell_type": "code",
   "execution_count": 32,
   "metadata": {},
   "outputs": [
    {
     "name": "stdout",
     "output_type": "stream",
     "text": [
      "6.5\n"
     ]
    }
   ],
   "source": [
    "vtex0 = [1, 1]   #(x, y) coordinates of vertex 0\n",
    "vtex1 = [6, 2]   #(x, y) coordinates of vertex 1\n",
    "vtex2 = [3, 4]   #(x, y) coordinates of vertex 2\n",
    "\n",
    "def triangle_area(v0, v1, v2):\n",
    "    \n",
    "    x, y = 0, 1\n",
    "    \n",
    "    A = abs( (v0[x] * (v1[y] - v2[y]) +\n",
    "              v1[x] * (v2[y] - v0[y]) +\n",
    "              v2[x] * (v0[y] - v1[y])) / 2 )\n",
    "    \n",
    "    \n",
    "    return A\n",
    "\n",
    "print(triangle_area(vtex0, vtex1, vtex2))"
   ]
  },
  {
   "cell_type": "markdown",
   "metadata": {
    "slideshow": {
     "slide_type": "slide"
    }
   },
   "source": [
    "Due to scope, variables with the *same name* can appear globally and locally without conflict. \n",
    "\n",
    "This prevents variables declared inside a function from unexpectedly affecting other parts of a program. \n",
    "\n"
   ]
  },
  {
   "cell_type": "markdown",
   "metadata": {
    "slideshow": {
     "slide_type": "slide"
    }
   },
   "source": [
    "Where a local and global variable have the same name, the program will use the __local__ version.\n",
    "\n",
    "Let's modify our function `my_func` so now both the local and global varibale have the same name...\n",
    "\n",
    "This time the first `print(var)` raises an error.\n",
    "\n",
    "The local variable overrides the global variable, \n",
    "<br>however the local variable has not yet been assigned a value."
   ]
  },
  {
   "cell_type": "code",
   "execution_count": 54,
   "metadata": {
    "slideshow": {
     "slide_type": "slide"
    }
   },
   "outputs": [],
   "source": [
    "# global variable\n",
    "var = \"Global variable\"\n",
    "\n",
    "\n",
    "def my_func():\n",
    "    # notice what happens this time if we try to access the global variable within the function\n",
    "    print(var)    \n",
    "     \n",
    "    # local variable of the same name\n",
    "    var = \"Local variable\"\n",
    "    print(var)\n",
    "\n",
    "    \n",
    "# Call the function.\n",
    "# print(my_func())"
   ]
  },
  {
   "cell_type": "markdown",
   "metadata": {
    "slideshow": {
     "slide_type": "slide"
    }
   },
   "source": [
    "\n",
    "\n",
    "The global variable `var` is unaffected by the local variable `var`."
   ]
  },
  {
   "cell_type": "code",
   "execution_count": 55,
   "metadata": {},
   "outputs": [
    {
     "name": "stdout",
     "output_type": "stream",
     "text": [
      "Local variable\n",
      "Global variable\n",
      "Local variable\n"
     ]
    }
   ],
   "source": [
    "# global variable\n",
    "var = \"Global variable\"\n",
    "\n",
    "def my_func():\n",
    "     \n",
    "    # local variable of the same name\n",
    "    var = \"Local variable\"\n",
    "    return var\n",
    "\n",
    "\n",
    "# Call the function.\n",
    "print(my_func())\n",
    "\n",
    "\n",
    "# The global variable is unaffected by the local variable\n",
    "print(var)\n",
    "\n",
    "\n",
    "# We can overwrite the global varibale with the returned value\n",
    "var = my_func()\n",
    "print(var)"
   ]
  },
  {
   "cell_type": "markdown",
   "metadata": {
    "slideshow": {
     "slide_type": "slide"
    }
   },
   "source": [
    "If we *really* want to use a global variable and a local variable:\n",
    "- with the same name \n",
    "- within the same function\n",
    "\n",
    "we can input use the global variable as a __function argument__.  \n",
    "\n",
    "By inputting it as an argument we rename the global variable for use within the function...."
   ]
  },
  {
   "cell_type": "code",
   "execution_count": 56,
   "metadata": {
    "slideshow": {
     "slide_type": "slide"
    }
   },
   "outputs": [
    {
     "name": "stdout",
     "output_type": "stream",
     "text": [
      "Global variable\n",
      "Local variable\n",
      "Global variable Local variable\n"
     ]
    }
   ],
   "source": [
    "# Global \n",
    "var = \"Global variable\"\n",
    "\n",
    "\n",
    "def my_func(input_var):\n",
    "    # The global variable is renameed for use within a function with a local variable with the same name\n",
    "    print(input_var)    \n",
    "     \n",
    "    # Local\n",
    "    var = \"Local variable\"\n",
    "    print(var)\n",
    "    \n",
    "    return (input_var + \" \" + var)\n",
    "\n",
    "\n",
    "# Run the function, giving the global variable as an argument\n",
    "print(my_func(var))"
   ]
  },
  {
   "cell_type": "markdown",
   "metadata": {
    "slideshow": {
     "slide_type": "slide"
    }
   },
   "source": [
    "The global variable is unaffected by the function"
   ]
  },
  {
   "cell_type": "code",
   "execution_count": 57,
   "metadata": {},
   "outputs": [
    {
     "name": "stdout",
     "output_type": "stream",
     "text": [
      "Global variable\n"
     ]
    }
   ],
   "source": [
    "print(var)"
   ]
  },
  {
   "cell_type": "markdown",
   "metadata": {
    "slideshow": {
     "slide_type": "slide"
    }
   },
   "source": [
    "...unless we overwrite the value of the global variable."
   ]
  },
  {
   "cell_type": "code",
   "execution_count": 58,
   "metadata": {},
   "outputs": [
    {
     "name": "stdout",
     "output_type": "stream",
     "text": [
      "Global variable\n",
      "Global variable\n",
      "Local variable\n",
      "Global variable Local variable\n"
     ]
    }
   ],
   "source": [
    "print(var)\n",
    "\n",
    "var = my_func(var)\n",
    "\n",
    "print(var)"
   ]
  },
  {
   "cell_type": "markdown",
   "metadata": {
    "slideshow": {
     "slide_type": "subslide"
    }
   },
   "source": [
    "__Try it yourself__\n",
    "In the cell below:\n",
    "1. Create a global variable called `my_var`, with a numeric value\n",
    "1. Create a function, called `my_func`, that:\n",
    "    - takes a single argument, `input_var` \n",
    "    - creates a local variable called `my_var` (same name as global variable).\n",
    "    - returns the sum of the function argument and the local variable: `input_var + my_var`.<br><br>\n",
    "1. Print the output when the function `my_func` is called, giving the global varable `my_var` as the input agument.\n",
    "1. print the global variable `my_var`.\n",
    "1. Add a docstring to say what your function does"
   ]
  },
  {
   "cell_type": "markdown",
   "metadata": {
    "slideshow": {
     "slide_type": "slide"
    }
   },
   "source": [
    "A global variable can be __modified__ from *inside* a function using the `global` keyword:\n",
    "1. Use Python `global` keyword. Give the variable a name.\n",
    "```python\n",
    "global var\n",
    "```\n",
    "1. Assign the variable a value.\n",
    "```python\n",
    "var = 10\n",
    "```"
   ]
  },
  {
   "cell_type": "code",
   "execution_count": 59,
   "metadata": {
    "slideshow": {
     "slide_type": "slide"
    }
   },
   "outputs": [
    {
     "name": "stdout",
     "output_type": "stream",
     "text": [
      "Before function call, var = Global variable\n",
      "After function call, var = Locally assigned global variable\n"
     ]
    }
   ],
   "source": [
    "# global variable\n",
    "var = \"Global variable\"\n",
    "\n",
    "\n",
    "def my_func():\n",
    "     \n",
    "    # Locally assigned global variable\n",
    "    global var\n",
    "    var = \"Locally assigned global variable\"\n",
    "    \n",
    "\n",
    "    \n",
    "print(\"Before function call, var =\", var)\n",
    "\n",
    "\n",
    "# Call the function.\n",
    "my_func()\n",
    "\n",
    "\n",
    "print(\"After function call, var =\", var)"
   ]
  },
  {
   "cell_type": "markdown",
   "metadata": {
    "slideshow": {
     "slide_type": "subslide"
    }
   },
   "source": [
    "__Try it yourself__\n",
    "\n",
    "In the cell below:\n",
    "1. Copy and paste your code from the previous exercise.\n",
    "1. Edit your code so that:\n",
    " - The function `my_func` takes no input arguments. \n",
    " - The global variable `my_var` is overwritten within the function using the prefix `global`.  \n",
    "1. Print the global variable before and after calling the function to check your code. \n",
    "1. Modify the docstring as necessary."
   ]
  },
  {
   "cell_type": "code",
   "execution_count": 60,
   "metadata": {},
   "outputs": [],
   "source": [
    "# Copy and paste code here:"
   ]
  },
  {
   "cell_type": "code",
   "execution_count": 61,
   "metadata": {},
   "outputs": [],
   "source": [
    "# Global and local scope"
   ]
  },
  {
   "cell_type": "markdown",
   "metadata": {
    "slideshow": {
     "slide_type": "subslide"
    }
   },
   "source": [
    "As we have seen, a *local variable* can be accessed from outside the function by *returning* it. "
   ]
  },
  {
   "cell_type": "markdown",
   "metadata": {
    "slideshow": {
     "slide_type": "slide"
    }
   },
   "source": [
    "## `return` \n",
    "<a id='return'></a>\n",
    "The `return` keyword defines the outputs of the function.\n",
    "\n",
    "A __single__ Python function can return:\n",
    "- no values\n",
    "- a single value \n",
    "- multiple return values"
   ]
  },
  {
   "cell_type": "markdown",
   "metadata": {
    "slideshow": {
     "slide_type": "slide"
    }
   },
   "source": [
    "For example, we could have a function that:\n",
    " - takes three values (`x0, x1, x2`)\n",
    " - returns the maximum, the minimum and the mean"
   ]
  },
  {
   "cell_type": "code",
   "execution_count": 62,
   "metadata": {
    "slideshow": {
     "slide_type": "slide"
    }
   },
   "outputs": [
    {
     "name": "stdout",
     "output_type": "stream",
     "text": [
      "-20 0.5 -6.466666666666666\n"
     ]
    }
   ],
   "source": [
    "def compute_max_min_mean(x0, x1, x2):\n",
    "    \"Return maximum, minimum and mean values\"\n",
    "    \n",
    "    x_min = x0\n",
    "    if x1 < x_min:\n",
    "        x_min = x1\n",
    "    if x2 < x_min:\n",
    "        x_min = x2\n",
    "\n",
    "    x_max = x0\n",
    "    if x1 > x_max:\n",
    "        x_max = x1\n",
    "    if x2 > x_max:\n",
    "        x_max = x2\n",
    "\n",
    "    x_mean = (x0 + x1 + x2)/3    \n",
    "        \n",
    "    return x_min, x_max, x_mean\n",
    "\n",
    "\n",
    "xmin, xmax, xmean = compute_max_min_mean(0.5, 0.1, -20)\n",
    "\n",
    "print(xmin, xmax, xmean)"
   ]
  },
  {
   "cell_type": "markdown",
   "metadata": {
    "slideshow": {
     "slide_type": "slide"
    }
   },
   "source": [
    "The __`return`__ keyword works a bit like the __`break`__ statement does in a loop.\n",
    "\n",
    "It returns the value and then exits the function before running the rest of the code."
   ]
  },
  {
   "cell_type": "markdown",
   "metadata": {
    "slideshow": {
     "slide_type": "slide"
    }
   },
   "source": [
    "Any code following the `return` statement will not be run.\n",
    "\n",
    "In this example, the code to increase x by 1 comes after the return statement. "
   ]
  },
  {
   "cell_type": "code",
   "execution_count": 63,
   "metadata": {
    "slideshow": {
     "slide_type": "slide"
    }
   },
   "outputs": [
    {
     "name": "stdout",
     "output_type": "stream",
     "text": [
      "1 > 0\n",
      "1 > 0\n",
      "1 > 0\n"
     ]
    }
   ],
   "source": [
    "x = 1\n",
    "\n",
    "def process_value(X):\n",
    "    \"Returns a value that depends on the input value x \"\n",
    "    \n",
    "    if X > 10:\n",
    "        return str(X) + \" > 10\"\n",
    "    elif X > 5:\n",
    "        return str(X) + \" > 5\"\n",
    "    elif X > 0:\n",
    "        return str(X) + \" > 0\"\n",
    "    else:\n",
    "        return str(X)\n",
    "    \n",
    "    # Increment global x by +1\n",
    "    global x\n",
    "    x = X + 1 \n",
    "    \n",
    "print(process_value(x))\n",
    "print(process_value(x))\n",
    "print(process_value(x))"
   ]
  },
  {
   "cell_type": "markdown",
   "metadata": {
    "slideshow": {
     "slide_type": "slide"
    }
   },
   "source": [
    "The return statement must come last."
   ]
  },
  {
   "cell_type": "code",
   "execution_count": 64,
   "metadata": {},
   "outputs": [
    {
     "name": "stdout",
     "output_type": "stream",
     "text": [
      "1 > 0\n",
      "2 > 0\n",
      "3 > 0\n"
     ]
    }
   ],
   "source": [
    "x = 1\n",
    "\n",
    "def process_value(X):\n",
    "    \"Returns a value that depends on the input value x \"\n",
    "    \n",
    "    #Increment global x by +1 \n",
    "    global x\n",
    "    x = X + 1 \n",
    "    \n",
    "    if x > 10:\n",
    "        return str(X) + \" > 10\"\n",
    "    elif x > 5:\n",
    "        return str(X) + \" > 5\"\n",
    "    elif x > 0:\n",
    "        return str(X) + \" > 0\"\n",
    "    else:\n",
    "        return str(X)    \n",
    "    \n",
    "print(process_value(x))\n",
    "print(process_value(x))\n",
    "print(process_value(x))"
   ]
  },
  {
   "cell_type": "markdown",
   "metadata": {
    "slideshow": {
     "slide_type": "slide"
    }
   },
   "source": [
    "It may be more appropriate to store the return item as a varable if multiple items are to be returned...\n",
    "<br> "
   ]
  },
  {
   "cell_type": "code",
   "execution_count": 65,
   "metadata": {
    "slideshow": {
     "slide_type": "-"
    }
   },
   "outputs": [
    {
     "name": "stdout",
     "output_type": "stream",
     "text": [
      "(None, '-3 < 0')\n",
      "(None, '-2 < 0')\n",
      "(None, '-1 < 0')\n",
      "(None, '0 < 10')\n",
      "('1 > 0', '1 < 10')\n",
      "('2 > 0', '2 < 10')\n",
      "('3 > 0', '3 < 10')\n",
      "('4 > 0', '4 < 10')\n",
      "('5 > 0', '5 < 10')\n",
      "('6 > 0', '6 < 10')\n",
      "('7 > 0', '7 < 10')\n",
      "('8 > 0', '8 < 10')\n",
      "('9 > 0', '9 < 10')\n",
      "('10 > 0', None)\n"
     ]
    }
   ],
   "source": [
    "x = -3\n",
    "\n",
    "def process_value(X):    \n",
    "    \"Returns two values that depend on the input value x \"\n",
    "    if X > 10:\n",
    "        i = (str(X) + \" > 10\")\n",
    "    elif X > 0:\n",
    "        i = (str(X) + \" > 0\")\n",
    "    else:\n",
    "        i = None\n",
    "        \n",
    "    if X < 0:\n",
    "        j = (str(X) + \" < 0\")\n",
    "    elif X < 10:\n",
    "        j = (str(X) + \" < 10\")\n",
    "    else:\n",
    "        j = None\n",
    "    \n",
    "    global x\n",
    "    x = X + 1 \n",
    "    \n",
    "    return i, j\n",
    "\n",
    "\n",
    "#     if i and j:    \n",
    "#         return i, j  \n",
    "#     elif i:\n",
    "#         return (i,)\n",
    "#     else:\n",
    "#         return (j,)\n",
    "\n",
    "\n",
    "for k in range(14):\n",
    "    print(process_value(x))"
   ]
  },
  {
   "cell_type": "markdown",
   "metadata": {
    "slideshow": {
     "slide_type": "slide"
    }
   },
   "source": [
    "## Example : Using Functions to Optimise your Code. \n",
    "<a id='ExampleFunctionsOptimiseCode'></a>\n",
    "In the following examples we will use these 7 steps to create functions from existing code:\n",
    "1. `def` and `:`\n",
    "1. define input arguments in parentheses\n",
    "1. indent code inside of function\n",
    "1. doc string\n",
    "1. move global variable assignment outside of the function where necessary\n",
    "1. define return arguments \n",
    "1. call function"
   ]
  },
  {
   "cell_type": "markdown",
   "metadata": {
    "slideshow": {
     "slide_type": "slide"
    }
   },
   "source": [
    "#### Time-telling program\n",
    "\n",
    "For example, we could encapsulate the time telling program so that it could easily be run at different times.\n",
    "\n",
    "1. `def` and `:`\n",
    "1. define input arguments in parentheses (`time`)\n",
    "1. indent code inside of function\n",
    "1. doc string\n",
    "1. make `time, work_starts, work_ends...` global variables\n",
    "1. `return lunchtime, work_time`\n",
    "1. call function"
   ]
  },
  {
   "cell_type": "code",
   "execution_count": 34,
   "metadata": {
    "slideshow": {
     "slide_type": "slide"
    }
   },
   "outputs": [
    {
     "name": "stdout",
     "output_type": "stream",
     "text": [
      "do work\n"
     ]
    }
   ],
   "source": [
    "# Time-telling program\n",
    "\n",
    "time = 20.00          # current time\n",
    "\n",
    "work_starts = 8.00    # time work starts \n",
    "work_ends =  17.00    # time work ends\n",
    "\n",
    "lunch_starts = 13.00  # time lunch starts\n",
    "lunch_ends =   14.00  # time lunch ends\n",
    "\n",
    "def identify_time(time):\n",
    "    \"\"\"\n",
    "    returns boolean values showing what task is to be done\n",
    "    \"\"\"\n",
    "\n",
    "    # lunchtime if the time is between the start and end of lunchtime\n",
    "    lunchtime = time >= lunch_starts and time < lunch_ends\n",
    "\n",
    "    # work_time if the time is not...  \n",
    "    work_time = not (   time < work_starts     # ... before work\n",
    "                     or time > work_ends       # ... or after work\n",
    "                     or lunchtime)             # ... or lunchtime\n",
    "    \n",
    "    return lunchtime, work_time\n",
    "    \n",
    "lunchtime, work_time = identify_time(8.00)    \n",
    "\n",
    "if lunchtime:\n",
    "    print(\"eat lunch\")\n",
    "elif work_time:\n",
    "    print(\"do work\")\n",
    "else:\n",
    "    print(\"go home\")"
   ]
  },
  {
   "cell_type": "markdown",
   "metadata": {
    "slideshow": {
     "slide_type": "slide"
    }
   },
   "source": [
    "We can use the function repeatedly with different time inputs:"
   ]
  },
  {
   "cell_type": "code",
   "execution_count": 35,
   "metadata": {},
   "outputs": [
    {
     "name": "stdout",
     "output_type": "stream",
     "text": [
      "do work\n",
      "do work\n"
     ]
    }
   ],
   "source": [
    "# call function\n",
    "identify_time(20.00)\n",
    "\n",
    "\n",
    "if lunchtime:\n",
    "    print(\"eat lunch\")\n",
    "elif work_time:\n",
    "    print(\"do work\")\n",
    "else:\n",
    "    print(\"go home\")\n",
    "\n",
    "    \n",
    "# call function\n",
    "identify_time(10.00)\n",
    "\n",
    "\n",
    "if lunchtime:\n",
    "    print(\"eat lunch\")\n",
    "elif work_time:\n",
    "    print(\"do work\")\n",
    "else:\n",
    "    print(\"go home\")"
   ]
  },
  {
   "cell_type": "markdown",
   "metadata": {
    "slideshow": {
     "slide_type": "slide"
    }
   },
   "source": [
    "Our program contains repetition.\n",
    "\n",
    "We should try to eliminate repetition wherever possible using functions.\n",
    "\n",
    "We can create a function for the `if-elif-else` code block.\n",
    "\n",
    "1. `def` and `:`\n",
    "1. define input arguments in parentheses (`lunchtime, work_time`)\n",
    "1. indent code inside of function\n",
    "1. doc string\n",
    "1. move global variables outside of function is NOT NECESSARY IN THIS CASE\n",
    "1. return is NOT NECESSARY IN THIS CASE\n",
    "1. call function"
   ]
  },
  {
   "cell_type": "code",
   "execution_count": 36,
   "metadata": {},
   "outputs": [
    {
     "name": "stdout",
     "output_type": "stream",
     "text": [
      "do work\n"
     ]
    }
   ],
   "source": [
    "# original code\n",
    "def assign_task(lunchtime, work_time):\n",
    "    \"\"\"Assigns a task based on the time\"\"\"\n",
    "    \n",
    "    if lunchtime:\n",
    "        print(\"eat lunch\")\n",
    "    elif work_time:\n",
    "        print(\"do work\")\n",
    "    else:\n",
    "        print(\"go home\")\n",
    "\n",
    "assign_task(lunchtime, work_time)\n",
    "        "
   ]
  },
  {
   "cell_type": "markdown",
   "metadata": {
    "scrolled": false
   },
   "source": [
    "We can call the function `assign_task` for different inputs to the function `identify_time`:"
   ]
  },
  {
   "cell_type": "code",
   "execution_count": 11,
   "metadata": {
    "slideshow": {
     "slide_type": "slide"
    }
   },
   "outputs": [
    {
     "name": "stdout",
     "output_type": "stream",
     "text": [
      "go home\n"
     ]
    }
   ],
   "source": [
    "lunchtime, work_time = identify_time(7.00)\n",
    "assign_task(lunchtime, work_time)"
   ]
  },
  {
   "cell_type": "markdown",
   "metadata": {
    "slideshow": {
     "slide_type": "slide"
    }
   },
   "source": [
    "We can write this more concisely but must use a * to indicate that any numer of inputs is acceptable.\n",
    "\n",
    "\n"
   ]
  },
  {
   "cell_type": "code",
   "execution_count": 15,
   "metadata": {},
   "outputs": [
    {
     "name": "stdout",
     "output_type": "stream",
     "text": [
      "go home\n"
     ]
    }
   ],
   "source": [
    "assign_task(*identify_time(7.00))"
   ]
  },
  {
   "cell_type": "markdown",
   "metadata": {
    "slideshow": {
     "slide_type": "slide"
    }
   },
   "source": [
    "By default the function takes 2 arguments.\n",
    "\n",
    "We have only input one argument."
   ]
  },
  {
   "cell_type": "markdown",
   "metadata": {
    "slideshow": {
     "slide_type": "slide"
    }
   },
   "source": [
    "Alternatively we can re-write the function to take:\n",
    "- a function \n",
    "- a variable \n",
    "\n",
    "as *seperate* input arguments: \n",
    "\n",
    "\n",
    "1. change input arguments to function and variable (`function, time`)\n",
    "1. call function within enclosing function\n",
    "1. call enclosing function"
   ]
  },
  {
   "cell_type": "code",
   "execution_count": 38,
   "metadata": {},
   "outputs": [
    {
     "name": "stdout",
     "output_type": "stream",
     "text": [
      "go home\n"
     ]
    }
   ],
   "source": [
    "# original code\n",
    "def assign_task(function, time):\n",
    "    \"\"\"Assigns a task based on the time\"\"\"\n",
    "    \n",
    "    lunchtime, work_time = function(time)\n",
    "    \n",
    "    if lunchtime:\n",
    "        print(\"eat lunch\")\n",
    "    elif work_time:\n",
    "        print(\"do work\")\n",
    "    else:\n",
    "        print(\"go home\")\n",
    "\n",
    "assign_task(identify_time, 2.00)\n",
    "        "
   ]
  },
  {
   "cell_type": "code",
   "execution_count": null,
   "metadata": {},
   "outputs": [],
   "source": []
  },
  {
   "cell_type": "markdown",
   "metadata": {
    "collapsed": true,
    "slideshow": {
     "slide_type": "slide"
    }
   },
   "source": [
    "# Summary\n",
    "<a id='Summary'></a>\n",
    " - Functions are defined using the `def` keyword.\n",
    " - Functions contain indented statements to execute when the function is called.\n",
    " - Global variables can be used eveywhere.\n",
    " - Local variables can be used within the function in which they are defined.\n",
    " - Function arguments (inputs) are declared between () parentheses, seperated by commas.\n",
    " - Function arguments muct be specified each time a function is called. \n",
    " - Default arguments do not need to be specified when a function is called unless different values are to be used. \n",
    " - The keyword used to define the function outputs is `return`\n"
   ]
  },
  {
   "cell_type": "markdown",
   "metadata": {
    "slideshow": {
     "slide_type": "slide"
    }
   },
   "source": [
    "<a id='TestYourselfExercises'></a>\n",
    "# Test-Yourself Exercises\n",
    "\n",
    "Complete the Test-Youself exercises below.\n",
    "\n",
    "Save your answers as .py files and email them to:\n",
    "<br>philamore.hemma.5s@kyoto-u.ac.jp"
   ]
  },
  {
   "cell_type": "markdown",
   "metadata": {
    "slideshow": {
     "slide_type": "subslide"
    }
   },
   "source": [
    "## Test-Yourself Exercise: Writing Functions (Hydrostatic Pressure 静水圧)\n",
    "\n",
    "The hydrostatic pressure (Pa = Nm$^{-2}$ = kg m$^{-1}$s$^{-2}$) is the pressure on a submerged object due to the overlying fluid):\n",
    "\n",
    "$$\n",
    "P = \\rho g h\n",
    "$$\n",
    "\n",
    "$g$ = acceleration due to gravity, m s$^{-2}$\n",
    "<br> $\\rho $ = fluid density, kg m$^{-3}$\n",
    "<br> $h$ = height of the fluid above the object, m. \n",
    "\n",
    "<img src=\"img/HydrostaticPressure.png\" alt=\"Drawing\" style=\"width: 350px;\"/>\n",
    "\n"
   ]
  },
  {
   "cell_type": "markdown",
   "metadata": {
    "slideshow": {
     "slide_type": "subslide"
    }
   },
   "source": [
    "__1.__ In the cell below, write a function:\n",
    " - input arguments : $\\rho$, $g$ and $h$ \n",
    " - returns : hydrostatic pressure $P$\n",
    " - include a doc-string to say what your function does.\n",
    " \n",
    "<br> \n",
    "__2.__\n",
    "The function will mostly to be used for calculating the hydrostatic pressure on objects submerged in __water__.\n",
    "Therefore, in most cases, it is sufficiently accurate to use:\n",
    "- acceleration due to gravity, $g = 9.81$ m s$^{-2}$<br>(Note: acceleration due to gravity is postive in this example.)\n",
    "- density of water, $\\rho_w$ = 1000 kg m$^{-3}$\n",
    "\n",
    "Edit your function to use keyword arguments for `g` and `rho` ($\\rho_w$) in your function.\n",
    "\n",
    "(Remember, keyword/default arguments should appear *after* non-default arguments.)\n",
    "\n",
    "<br>\n",
    "__3.__ Edit your function to *force* `rho` to be a keyword argument keyword argument.  \n",
    "\n",
    "<br>\n",
    "__4.__ Call your function to find the hydrostatic pressure on an object:\n",
    "<br>a) submerged in water, at a depth of 10m.\n",
    "<br>b) submerged in water, at a depth of 10m, at the equator ($g = 9.78$ m s$^{-2}$).\n",
    "<br>c) submerged in sea water ($\\rho_{sw}$ = 1022 kg m$^{-3}$), at a depth of 10m, at the equator."
   ]
  },
  {
   "cell_type": "code",
   "execution_count": null,
   "metadata": {},
   "outputs": [],
   "source": [
    "# Hydrostatic Pressure\n"
   ]
  },
  {
   "cell_type": "code",
   "execution_count": null,
   "metadata": {},
   "outputs": [],
   "source": [
    "# Test-Yourself Exercise : Hydrostatic Pressure\n",
    "# Example Solution\n",
    "\n",
    "# part 1\n",
    "def HP(rho, g, h):\n",
    "    \"\"\"\n",
    "    Computes hydrostatic pressure.\n",
    "    \"\"\"\n",
    "    return rho * g * h\n",
    "\n",
    "# part 2\n",
    "def HP(h, g=9.81, rho=1000):\n",
    "    \"\"\"\n",
    "    Computes hydrostatic pressure.\n",
    "    \"\"\"\n",
    "    return rho * g * h\n",
    "\n",
    "\n",
    "# part 3\n",
    "def HP(h, g=9.81, * ,rho=1000):\n",
    "    \"\"\"\n",
    "    Computes hydrostatic pressure.\n",
    "    \"\"\"\n",
    "    return rho * g * h\n",
    "\n",
    "\n",
    "# part 4\n",
    "# a\n",
    "print(HP(10))\n",
    "\n",
    "# b\n",
    "print(HP(10, rho=1022))\n",
    "\n",
    "# c\n",
    "print(HP(10, g=9.78, rho=1022))"
   ]
  },
  {
   "cell_type": "markdown",
   "metadata": {},
   "source": [
    "## Test-Yourself Exercise: Optimising your Code using Functions (Currency Trading 両替)\n",
    "\n",
    "Find your answer to the previous Test-Yourself Exercise, *\"Test-Yourself Exercise: Currency Trading 両替\"* from 01b_ControlFlow.ipynb \n",
    "\n",
    "Edit your code to write a function:\n",
    "- inputs:\n",
    "    1. the amount in JPY to be changed into USD\n",
    "    2. a variable showing if the transaction was paid using cash\n",
    "    \n",
    "- outputs: \n",
    "    1. amount in USD purchased\n",
    "    1. effective rate ($\\frac{USD}{JPY}$)\n",
    "    \n",
    "    \n",
    "Use the checklist to write your answer:\n",
    "In the following examples we will use these 7 steps to create functions from existing code:\n",
    "1. `def` and `:`\n",
    "1. define input arguments in parentheses\n",
    "1. indent code inside of function\n",
    "1. doc string\n",
    "1. move global variable assignment outside of the function where necessary\n",
    "1. define return arguments \n",
    "1. call function\n"
   ]
  },
  {
   "cell_type": "code",
   "execution_count": null,
   "metadata": {},
   "outputs": [],
   "source": [
    "# Test-Yourself Exercise : Currency Trading\n",
    "\n"
   ]
  },
  {
   "cell_type": "code",
   "execution_count": null,
   "metadata": {},
   "outputs": [],
   "source": [
    "# Test-Yourself Exercise : Currency Trading\n",
    "# Example solution\n",
    "\n",
    "# JPY  = 10_000          # The amount in JPY to be changed into USD\n",
    "\n",
    "# cash = False           # True if transaction is in cash, otherwise False\n",
    "\n",
    "market_rate = 0.0091   # 1 JPY is worth this many dollars at the market rate\n",
    "\n",
    "def 両替(JPY, cash):\n",
    "    \"\"\"\n",
    "    Returns the amount purchased in USD and the effective conversion rate\n",
    "    \"\"\"\n",
    "\n",
    "    # Apply the appropriate reduction depending on the amount being sold\n",
    "    if JPY < 10_000:\n",
    "        multiplier = 0.9 \n",
    "\n",
    "    elif JPY < 100_000:  \n",
    "        multiplier = 0.925 \n",
    "\n",
    "    elif JPY < 1_000_000:\n",
    "        multiplier = 0.95 \n",
    "\n",
    "    elif JPY < 10_000_000:\n",
    "        multiplier = 0.97 \n",
    "\n",
    "    else: # JPY > 10,000,000\n",
    "        multiplier = 0.98 \n",
    "    \n",
    "    \n",
    "    # Apply the appropriate reduction if the transaction is made in cash\n",
    "    if cash:\n",
    "        cash_multiplier = 0.9\n",
    "    else:\n",
    "        cash_multiplier = 1 \n",
    "        \n",
    "        \n",
    "    # Calculate the total amount sold to the customer    \n",
    "    USD = JPY * market_rate * multiplier * cash_multiplier\n",
    "    \n",
    "    effective_rate = USD/JPY\n",
    "        \n",
    "    return USD, effective_rate\n",
    "    \n",
    "\n",
    "USD, rate = 両替(10_000 , True)\n",
    "\n",
    "    \n",
    "# Print a breakdown of the transaction    \n",
    "print(\"Amount in JPY sold:\", JPY)\n",
    "print(\"Amount in USD purchased:\", USD)\n",
    "print(\"Effective rate:\", rate)\n",
    "\n",
    "# OR\n",
    "print(\"Amount in JPY sold:\", JPY)\n",
    "print(\"Amount in USD purchased:\", 両替(JPY, cash)[0])\n",
    "print(\"Effective rate:\", 両替(JPY, cash)[1])\n",
    "\n"
   ]
  },
  {
   "cell_type": "markdown",
   "metadata": {
    "collapsed": true,
    "slideshow": {
     "slide_type": "slide"
    }
   },
   "source": [
    "## Review Exercises\n",
    "<a id='ReviewExercises'></a>\n",
    "The following review problems are designed to:\n",
    " - test your understanding of the different techniques for building functions that we have learnt today.\n",
    " - test your ability to use user-defined Pyhton functions to solve the type of engineering problems you will encounter in your studies. "
   ]
  },
  {
   "cell_type": "markdown",
   "metadata": {
    "slideshow": {
     "slide_type": "slide"
    }
   },
   "source": [
    "### Review Exercise: Simple function\n",
    "\n",
    "In the cell below, write a function called `is_even` that determines if a number is even by running:\n",
    "\n",
    "```python\n",
    "is_even(n)\n",
    "```\n",
    "\n",
    "Input: `n` (an integer). \n",
    "\n",
    "Output: \n",
    " - `True` if the argument is even\n",
    " - `False` if the argument is not even\n",
    " \n",
    "Include a __documentation string (docstring)__ to say what your function does.\n",
    "\n",
    "<a href='#DocString'>Jump to Documentation Strings</a>\n",
    " \n",
    "Print the output of your function for several input values."
   ]
  },
  {
   "cell_type": "code",
   "execution_count": null,
   "metadata": {},
   "outputs": [],
   "source": [
    "# A simple function"
   ]
  },
  {
   "cell_type": "markdown",
   "metadata": {},
   "source": [
    "### Review Exercise: Expressing Calculations as Functions\n",
    "\n",
    "__(A)__ Write a function called `square_root` that prints the square root of an input argument by running:\n",
    "\n",
    "```python\n",
    "square_root(n)\n",
    "```\n",
    "\n",
    "Input: `n` (a numeric variable). \n",
    "\n",
    "Output: Returns the square root of `n`\n",
    "\n",
    "Include a doc-string to say what your function does. \n",
    "\n",
    "<a href='#DocString'>Jump to Documentation Strings'</a> \n",
    "\n",
    "__(B)__ Using your answer to print the sqaure root of the first 25 odd positive integers."
   ]
  },
  {
   "cell_type": "code",
   "execution_count": null,
   "metadata": {},
   "outputs": [],
   "source": [
    "# A function to find the square root of an input"
   ]
  },
  {
   "cell_type": "markdown",
   "metadata": {},
   "source": [
    "### Review Exercise: Using Data Structures as Function Arguments - Counter\n",
    "In the cell below write a function:\n",
    "\n",
    "Input: A list. e.g. `[\"fizz\", \"buzz\", \"buzz\", \"fizz\", \"fizz\", \"fizz\"]`\n",
    "\n",
    "Output: Returns the numer of times \"fizz\" appears in a list.\n",
    "\n",
    "Demonstrate that your function works by inputting a list.\n",
    "\n",
    "*Hint 1:* Create a local variable, `count`, within your function.\n",
    "<br>Increment the count by one for each instance of `fizz`.\n",
    "\n",
    "*Hint 2:* Use a `for` loop to iterate over the list to count the number of times `fizz` appears."
   ]
  },
  {
   "cell_type": "code",
   "execution_count": null,
   "metadata": {},
   "outputs": [],
   "source": [
    "# Counter"
   ]
  },
  {
   "cell_type": "markdown",
   "metadata": {
    "slideshow": {
     "slide_type": "slide"
    }
   },
   "source": [
    "### Review Exercise: Using Data Structures as Function Arguments - Magnitude\n",
    "\n",
    "The magnitude of an $n$ dimensional vector can be written\n",
    "\n",
    "$$\n",
    "|\\mathbf{x}|= \\sqrt{x_1^2 + x_2^2 + ... x_n^2} = \\sqrt{\\sum_{i = 1}^{n} (x_{n})^2 }\n",
    "$$\n",
    "\n",
    "Therefore...\n",
    "\n",
    "The magnitude of a 2D vector (e.g. $x = [x_1, x_2]$):\n",
    "\n",
    "$$\n",
    "|\\mathbf{x}|= \\sqrt{x_1^2 + x_2^2}\n",
    "$$\n",
    "<br>\n",
    "\n",
    "The magnitude of a 3D vector (e.g. $x = [x_1, x_2, x_3]$):\n",
    "\n",
    "$$\n",
    "|\\mathbf{x}|= \\sqrt{x_1^2 + x_2^2 + x_3^2}\n",
    "$$\n",
    "<br>\n",
    "\n",
    "__(A)__ \n",
    "<br>In the cell below, write a function called `magnitude` that computes the magnitude of an n-dimensional vector.\n",
    "\n",
    "Input: `list` with n elements (e.g. [x, y]) if vector is 2D, [x, y, z]), if vector is 3D.\n",
    "\n",
    "Output: Return magnitude of the vector.\n",
    "\n",
    "Include a doc-string to say what your function does.\n",
    "\n",
    "Hints: \n",
    " - <a href='#DataStrcuturesAsArguments'>Jump to Data Structure as Arguments.</a>  \n",
    " - Use a loop to iterate over each item in the list. \n",
    "\n",
    "__(B)__ \n",
    "<br>Print the output of your function to show that it works for both 2D and 3D input vectors. \n",
    "<br>Check your function, for example use the numpy function `numpy.linalg.norm()` to verify the answer is correct.  "
   ]
  },
  {
   "cell_type": "code",
   "execution_count": null,
   "metadata": {},
   "outputs": [],
   "source": [
    "# A function that computes the magnitude of an n-dimensional vector "
   ]
  },
  {
   "cell_type": "markdown",
   "metadata": {},
   "source": [
    "### Review Exercise: Using Functions as Function Arguments, Default Arguments. \n",
    "Copy and paste your function `is_even` from __Review Exercise: Simple function__ in the cell below.\n",
    "\n",
    "__(A)__ Edit `is_even` to:\n",
    "- take two input arguments:\n",
    " - a numeric variable, `n`\n",
    " - the function `square_root` from __Review Exercise: Using Data Structures as Function Arguments__. <a href='#FunctionsAsArguments'>Jump to Using Functions as Function Arguments.</a> \n",
    "- return:\n",
    " - `True` if the square root of n is even\n",
    " - `False` if the square root of n is not even\n",
    "\n",
    "__(B)__ Make `square_root` the __default__ value of the function argument.\n",
    "<br><a href='#DefaultArguments'>Jump to Default Arguments.</a>  \n",
    "<br>Force the function argument to be input using a named argument. \n",
    "<br><a href='#ForcingDefaultArguments'>Jump to Forcing Default Arguments.</a>  \n",
    "\n",
    "__(C)__ Print the output ofthe function `is_even` for the first 25 natural numbers."
   ]
  },
  {
   "cell_type": "code",
   "execution_count": null,
   "metadata": {},
   "outputs": [],
   "source": [
    "# A function to determine if the square root of a number is odd or even"
   ]
  },
  {
   "cell_type": "markdown",
   "metadata": {},
   "source": [
    "### Review Exercise: Scope\n",
    "\n",
    "In the example below, complete the comments with definition (\"local variable\"/\"global variable\") describing the scope of variables a-c."
   ]
  },
  {
   "cell_type": "code",
   "execution_count": null,
   "metadata": {},
   "outputs": [],
   "source": [
    "# In the code below: \n",
    "# a is a local variable / global variable\n",
    "# b is a ...\n",
    "# c is a ...\n",
    "# d is a ...\n",
    "\n",
    "def my_function(a):\n",
    "    b = a - 2\n",
    "    return b\n",
    "\n",
    "c = 3\n",
    "\n",
    "if c > 2:\n",
    "    d = my_function(5)\n",
    "    print(d)"
   ]
  },
  {
   "cell_type": "code",
   "execution_count": null,
   "metadata": {},
   "outputs": [],
   "source": []
  }
 ],
 "metadata": {
  "celltoolbar": "Slideshow",
  "kernelspec": {
   "display_name": "Python 3",
   "language": "python",
   "name": "python3"
  },
  "language_info": {
   "codemirror_mode": {
    "name": "ipython",
    "version": 3
   },
   "file_extension": ".py",
   "mimetype": "text/x-python",
   "name": "python",
   "nbconvert_exporter": "python",
   "pygments_lexer": "ipython3",
   "version": "3.6.4"
  }
 },
 "nbformat": 4,
 "nbformat_minor": 2
}
