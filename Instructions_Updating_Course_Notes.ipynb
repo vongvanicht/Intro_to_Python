{
 "cells": [
  {
   "cell_type": "markdown",
   "metadata": {},
   "source": [
    "# Updating the Course Notes"
   ]
  },
  {
   "cell_type": "markdown",
   "metadata": {},
   "source": [
    "This is a tutorial on how to download the updated course notes *without* overwriting/saving multiple versions of the notes."
   ]
  },
  {
   "cell_type": "markdown",
   "metadata": {
    "slideshow": {
     "slide_type": "subslide"
    }
   },
   "source": [
    "### Step 1 : Navigate to the directory where your files are stored.  \n",
    "Open a terminal. \n",
    "\n",
    "Using `cd`, navigate to *inside* the ILAS_Python_for_engineers folder on your computer. \n",
    "\n"
   ]
  },
  {
   "cell_type": "markdown",
   "metadata": {},
   "source": [
    "### Step 2 : Connect the files on your computer to the course URL.  \n",
    "\n",
    "Type:\n",
    ">`git remote add upstream https://github.com/hphilamore/ILAS_Python_for_engineers.git`\n",
    "\n",
    "Note: The URL from which you 'cloned' the files last week.\n",
    "<br>You can also view the notes by opening this URL in a web browser. "
   ]
  },
  {
   "cell_type": "markdown",
   "metadata": {
    "slideshow": {
     "slide_type": "subslide"
    }
   },
   "source": [
    "### Step 3 : Update the course notes by downloading the changes\n",
    "In the terminal type:\n",
    "\n",
    ">`git add -A`\n",
    "\n",
    ">`git commit \"commit\"`\n",
    "\n",
    ">`git fetch upstream`\n",
    "\n",
    ">`git merge -X theirs upstream/master`"
   ]
  },
  {
   "cell_type": "markdown",
   "metadata": {
    "slideshow": {
     "slide_type": "subslide"
    }
   },
   "source": [
    "You may find that the temrinal is suspended and the following message shows:\n",
    "\n",
    "<img src=\"img/merge_terminal-commit_message_prompt.png\" alt=\"Drawing\" style=\"width: 500px;\"/>\n",
    "\n",
    "Exit this screen by pressing \"Ctrl\" + \"X\"."
   ]
  },
  {
   "cell_type": "markdown",
   "metadata": {
    "slideshow": {
     "slide_type": "subslide"
    }
   },
   "source": [
    "The files on your computer should have now updated. "
   ]
  },
  {
   "cell_type": "markdown",
   "metadata": {},
   "source": [
    "Repeat __Step 1 and 3__ (you do not need to do Step 2) at the start of *every* class to update the files on your computer with:\n",
    "- new course material\n",
    "- solutions to example problems"
   ]
  },
  {
   "cell_type": "markdown",
   "metadata": {},
   "source": [
    "This procedure uses Git to update the files on your computer. \n",
    "<br>Git is used for __version control__.\n",
    "<br>Version control is a useful way to manage and share your code.\n",
    "<br>Git can be complicated to use.\n",
    "<br>We will have a seminar dedicated to version control much later in the course. \n",
    "\n"
   ]
  },
  {
   "cell_type": "code",
   "execution_count": null,
   "metadata": {
    "collapsed": true
   },
   "outputs": [],
   "source": []
  }
 ],
 "metadata": {
  "kernelspec": {
   "display_name": "Python 3",
   "language": "python",
   "name": "python3"
  },
  "language_info": {
   "codemirror_mode": {
    "name": "ipython",
    "version": 3
   },
   "file_extension": ".py",
   "mimetype": "text/x-python",
   "name": "python",
   "nbconvert_exporter": "python",
   "pygments_lexer": "ipython3",
   "version": "3.6.4"
  }
 },
 "nbformat": 4,
 "nbformat_minor": 2
}
