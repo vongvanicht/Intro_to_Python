{
 "cells": [
  {
   "cell_type": "markdown",
   "metadata": {
    "slideshow": {
     "slide_type": "slide"
    }
   },
   "source": [
    "## Please download the new class notes.\n",
    "### Step 1 : Navigate to the directory where your files are stored.  \n",
    "Open a terminal. \n",
    "<br>Using `cd`, navigate to *inside* the ILAS_Python_for_engineers folder on your computer. \n",
    "### Step 3 : Update the course notes by downloading the changes\n",
    "In the terminal type:\n",
    "\n",
    ">`git add -A\n",
    "git commit -m \"commit\"\n",
    "git fetch upstream\n",
    "git merge -X theirs upstream/master`\n"
   ]
  },
  {
   "cell_type": "markdown",
   "metadata": {
    "slideshow": {
     "slide_type": "slide"
    }
   },
   "source": [
    "# Introduction to Version Control\n",
    "\n",
    "<br> <a href='#Git'>Git</a> \n",
    "<br> <a href='#HowGitWorks'>How Git Works</a> \n",
    "<br> <a href='#GitHub'>GitHub</a> \n",
    "<br> <a href='#Cloning'>Cloning</a>  \n",
    "<a href='#PullingUpstreamRepository'>Pulling from an *Upstream* Repository</a> \n",
    "<br> <a href='#CreatingOnlineGitRepository'>Creating an Online (Remote) Git Repository</a> \n",
    "<br> <a href='#AddingFilesGithubRepository'>Adding Files to a Github Repository</a> \n",
    "<br> <a href='#TrackingChangesGit'>Tracking Changes using Git</a>  \n",
    "<a href='#UpdatingGitHubRepository'>Updating your GitHub Repository  </a> \n",
    "<br> <a href='#SettingNewGitRepository'>Setting up a New Git Repository</a>\n",
    "<br> <a href='#revert'>`revert`</a> \n",
    "<br> <a href='#Summary'>Summary</a>  "
   ]
  },
  {
   "cell_type": "code",
   "execution_count": null,
   "metadata": {},
   "outputs": [],
   "source": []
  },
  {
   "cell_type": "markdown",
   "metadata": {
    "slideshow": {
     "slide_type": "slide"
    }
   },
   "source": [
    "This is an introductory guide to the basic functions of Git version control software and the GitHub code hosting site. \n"
   ]
  },
  {
   "cell_type": "markdown",
   "metadata": {
    "slideshow": {
     "slide_type": "slide"
    }
   },
   "source": [
    "## Git\n",
    "<a id='Git'></a>\n",
    "__What is Git?__ \n",
    "\n",
    "Git is *version control* software."
   ]
  },
  {
   "cell_type": "markdown",
   "metadata": {
    "slideshow": {
     "slide_type": "slide"
    }
   },
   "source": [
    "__What is version control software?__ \n",
    "\n",
    "Software that tracks and manages changes to project without overwriting any part of the project. "
   ]
  },
  {
   "cell_type": "markdown",
   "metadata": {
    "slideshow": {
     "slide_type": "slide"
    }
   },
   "source": [
    "Typically, when you save a file, for example a word document, you either:\n",
    " - overwrite the previous version (save)\n",
    " - save the file under a new name (save as)"
   ]
  },
  {
   "cell_type": "markdown",
   "metadata": {
    "slideshow": {
     "slide_type": "slide"
    }
   },
   "source": [
    "This means we either:\n",
    "- Lose the previous version\n",
    "- End up with multiple files\n"
   ]
  },
  {
   "cell_type": "markdown",
   "metadata": {
    "slideshow": {
     "slide_type": "slide"
    }
   },
   "source": [
    "In programming we often want to:\n",
    " - make a small change to our program \n",
    " - test our change works before moving on. \n",
    " - easily revert to a previous version if we don't like the changes\n",
    "\n",
    "It makes sense to incrementally save our work as we go along. \n",
    "\n",
    "That way, if we break something we can just go back to the previous version. "
   ]
  },
  {
   "cell_type": "markdown",
   "metadata": {
    "slideshow": {
     "slide_type": "slide"
    }
   },
   "source": [
    "But this can lead to many files:\n",
    "\n",
    "<img src=\"img/many_files_same_name.png\" alt=\"Drawing\" style=\"width: 300px;\"/>\n",
    "\n",
    "How can we tell what each one does?"
   ]
  },
  {
   "cell_type": "markdown",
   "metadata": {
    "slideshow": {
     "slide_type": "slide"
    }
   },
   "source": [
    "We could try giving them meaningful names:\n",
    "\n",
    "<img src=\"img/many_files.gif\" alt=\"Drawing\" style=\"width: 300px;\"/>\n",
    "\n",
    "But the name can only tell us a little bit of information...\n"
   ]
  },
  {
   "cell_type": "markdown",
   "metadata": {
    "slideshow": {
     "slide_type": "slide"
    }
   },
   "source": [
    "...before they start getting really long!\n",
    "\n",
    "<img src=\"img/many_files_different_names.png\" alt=\"Drawing\" style=\"width: 300px;\"/>\n",
    "\n",
    "Things get very confusing!\n",
    "\n",
    "And many files take up lots of space on your computer. "
   ]
  },
  {
   "cell_type": "markdown",
   "metadata": {
    "slideshow": {
     "slide_type": "slide"
    }
   },
   "source": [
    "### How Git Works\n",
    "<a id='HowGitWorks'></a>\n",
    "Git creates a folder in the same directory as your file. \n",
    "\n",
    "The directory containing both the file being tracked and the Git folder is now referred to as a repository or \"repo\". \n",
    "\n",
    "(The folder is hidden.)\n",
    "\n",
    "The folder being tracked by git is referred to as a repository or \"repo\". \n",
    "\n",
    "You can keep any type of file in a repository (code files, text files, image files....). \n",
    "\n"
   ]
  },
  {
   "cell_type": "markdown",
   "metadata": {
    "slideshow": {
     "slide_type": "slide"
    }
   },
   "source": [
    "\n",
    "\n",
    "It logs changes you make to the file.\n",
    "\n",
    "It track of multiple files within this directory.  \n",
    "\n",
    "It stores a *commit message* with each change you *commit*, saying what you changed:\n",
    "\n",
    "<img src=\"img/git_commit_.png\" alt=\"Drawing\" style=\"width: 500px;\"/>"
   ]
  },
  {
   "cell_type": "markdown",
   "metadata": {
    "slideshow": {
     "slide_type": "slide"
    }
   },
   "source": [
    "So if you make a mistake, you can just reset to a previous version.\n",
    "\n",
    "<img src=\"img/git_reset.png\" alt=\"Drawing\" style=\"width: 500px;\"/>"
   ]
  },
  {
   "cell_type": "markdown",
   "metadata": {
    "slideshow": {
     "slide_type": "slide"
    }
   },
   "source": [
    "When you commit changes, Git does not save two versions of the same file. \n",
    "\n",
    "Git only saves the __difference__ between two files.\n",
    "\n",
    "This minimises the amount of space that tracking your changes takes up on your computer,\n",
    "\n",
    "__Example:__ Between files r3 and r4, the information saved is\n",
    " > -juice <br>\n",
    " > +soup\n",
    "\n",
    "<img src=\"img/git_diff.png\" alt=\"Drawing\" style=\"width: 500px;\"/>"
   ]
  },
  {
   "cell_type": "markdown",
   "metadata": {
    "slideshow": {
     "slide_type": "slide"
    }
   },
   "source": [
    "### Advantages and Disadvantages of Git\n",
    "\n",
    "A __great thing__ about git is that it was made by programmers for programmers. \n",
    "\n",
    "Professional developers and most other professionals who write code, use git (or other version control software) to manage their files, workflow and collaborations.  \n",
    "\n",
    "It has an enourmous range of functionality.\n"
   ]
  },
  {
   "cell_type": "markdown",
   "metadata": {
    "slideshow": {
     "slide_type": "slide"
    }
   },
   "source": [
    "A __problem__ with so much freedom is that it can be easy to get things wrong.\n",
    "\n",
    "Git can be difficult to use.\n",
    "\n"
   ]
  },
  {
   "cell_type": "markdown",
   "metadata": {
    "slideshow": {
     "slide_type": "slide"
    }
   },
   "source": [
    "To keep things nice and easy we will learn only the basics of using Git. \n",
    "\n",
    "Even this basic understanding will give you essential skills that are used every day by professional programmers. "
   ]
  },
  {
   "cell_type": "markdown",
   "metadata": {
    "collapsed": true,
    "slideshow": {
     "slide_type": "slide"
    }
   },
   "source": [
    "A __problem__ with Git is that it was made by programmers for programmers. \n",
    "\n",
    "We have to use the command line (or Terminal) to access it. \n",
    "\n",
    "There is no graphical user interface.\n",
    "\n",
    "It can be difficult to visualise what is going on. \n",
    "\n",
    "<img src=\"img/git_command_line.png\" alt=\"Drawing\" style=\"width: 500px;\"/>"
   ]
  },
  {
   "cell_type": "markdown",
   "metadata": {
    "slideshow": {
     "slide_type": "slide"
    }
   },
   "source": [
    "## GitHub\n",
    "<a id='GitHub'></a>\n",
    "To provide a visual interface we can use an online *host site* to store and view code...\n",
    "\n"
   ]
  },
  {
   "cell_type": "markdown",
   "metadata": {
    "slideshow": {
     "slide_type": "slide"
    }
   },
   "source": [
    "A repo can be a local folder on your computer. \n",
    "\n",
    "A repo can also be a storage space on GitHub or another online host site. \n",
    "\n",
    "<img src=\"img/github-logo.jpg\" alt=\"Drawing\" style=\"width: 200px;\"/>\n"
   ]
  },
  {
   "cell_type": "markdown",
   "metadata": {
    "slideshow": {
     "slide_type": "slide"
    }
   },
   "source": [
    "GitHub.com is a \"code hosting site\".\n",
    "\n",
    "- It provides a visual interface to view changes to your repository (*commits*). \n",
    "\n",
    "- It creates a backup of your work (in case you lose your local copy/computer).\n",
    "\n",
    "- It is an easy way to share code and collaborate with others. \n",
    "\n",
    "\n"
   ]
  },
  {
   "cell_type": "markdown",
   "metadata": {
    "slideshow": {
     "slide_type": "slide"
    }
   },
   "source": [
    "There are many code hosting sites, however Github has a large community of users.  \n",
    "\n",
    "So for programmers, it works like a social media site like Facebook or instagram.\n",
    "\n",
    "<img src=\"img/github-logo.jpg\" alt=\"Drawing\" style=\"width: 200px;\"/>\n",
    "\n"
   ]
  },
  {
   "cell_type": "markdown",
   "metadata": {
    "slideshow": {
     "slide_type": "slide"
    }
   },
   "source": [
    "For example, you downloaded the notes for this course from github.com\n",
    "\n",
    "https://github.com/hphilamore/ILAS_python\n",
    "\n",
    "This is a __repository__.\n",
    "\n",
    "It is an online directory where this project, the course notes, is stored. "
   ]
  },
  {
   "cell_type": "markdown",
   "metadata": {
    "slideshow": {
     "slide_type": "slide"
    }
   },
   "source": [
    "We can look at previous versions of the code by selecting *commits*...\n",
    "\n",
    "We can easily view the difference (\"diff\") between the previous and current version."
   ]
  },
  {
   "cell_type": "markdown",
   "metadata": {
    "slideshow": {
     "slide_type": "slide"
    }
   },
   "source": [
    "## Cloning\n",
    "<a id='Cloning'></a>\n",
    "At the start of this course, you downloaded the course notes from the online *repository*.\n",
    "\n",
    "\n",
    "\n",
    "> `git clone https://github.com/hphilamore/ILAS_Python_for_engineers.git` \n",
    "\n",
    "This is referred to as *cloning*.\n",
    "\n",
    "Cloning allows you to access and edit the files in the downloaded repository locally on a computer.\n",
    "\n",
    "\n",
    "\n",
    "\n"
   ]
  },
  {
   "cell_type": "markdown",
   "metadata": {
    "slideshow": {
     "slide_type": "slide"
    }
   },
   "source": [
    "## Pulling from an *Upstream* Repository <br> \n",
    "#### e.g. Adding New Course Notes and Test-Yourself Exercise Example Solutions \n",
    "<a id='PullingUpstreamRepository'></a>\n",
    "Each week, you update the course notes on your computer:\n",
    "\n",
    ">`git add -A\n",
    "git commit -m \"commit\"\n",
    "git fetch upstream\n",
    "git merge -X theirs upstream/master`\n",
    "\n",
    "This is known as __pulling__."
   ]
  },
  {
   "cell_type": "markdown",
   "metadata": {
    "slideshow": {
     "slide_type": "slide"
    }
   },
   "source": [
    "What does this code mean?"
   ]
  },
  {
   "cell_type": "markdown",
   "metadata": {
    "slideshow": {
     "slide_type": "slide"
    }
   },
   "source": [
    "In the second class, you:\n",
    "\n",
    "- connected your local repository to my online repository where the course notes are stored.\n",
    "- pulled changes from the upstream repository. \n"
   ]
  },
  {
   "cell_type": "markdown",
   "metadata": {
    "slideshow": {
     "slide_type": "slide"
    }
   },
   "source": [
    "#### Recap\n",
    "(Instructions_Updating_Course_Notes.ipynb):\n",
    ">`git remote add upstream https://github.com/hphilamore/ILAS_python.git`\n",
    "\n",
    "The command connects (`remote add`) the online repository from which we originally cloned the notes to our local repository. \n",
    "<br>*(The URL of the remote repository is only needed the first time you pull upstream chnages.)*\n",
    "\n",
    "The original repository is given the name `upstream`. \n",
    "<br>(You can use any name but `upstream` is a commonly used example.)"
   ]
  },
  {
   "cell_type": "markdown",
   "metadata": {
    "collapsed": true,
    "slideshow": {
     "slide_type": "slide"
    }
   },
   "source": [
    "\n",
    ">`git add -A\n",
    "git commit -m \"commit\"`\n",
    "\n",
    "This logs any changes you have made to the local repository.\n",
    "\n",
    ">`git fetch upstream`\n",
    "\n",
    "This `fetches` the new files and changes.\n",
    "\n",
    "\n",
    ">`git merge -X theirs upstream/master`\n",
    "\n",
    "This `merges` the new files with the files you have stored locally.\n"
   ]
  },
  {
   "cell_type": "markdown",
   "metadata": {
    "slideshow": {
     "slide_type": "slide"
    }
   },
   "source": [
    "At this point, you may find that the terminal is suspended and the following message shows:\n",
    "\n",
    "<img src=\"img/merge_terminal-commit_message_prompt.png\" alt=\"Drawing\" style=\"width: 500px;\"/>\n",
    "\n",
    "Git is asking for a commit message to label the merge."
   ]
  },
  {
   "cell_type": "markdown",
   "metadata": {
    "slideshow": {
     "slide_type": "slide"
    }
   },
   "source": [
    "Git pre-populates the message for you.\n",
    "\n",
    "To accpet the defaults:\n",
    "\n",
    "##### On Windows\n",
    "Press \"Ctrl\" + \"X\".\n",
    "\n",
    "##### On Mac\n",
    "- press \"i\"\n",
    "- (type your merge message) *optional step*\n",
    "- press \"esc\"\n",
    "- type `:wq`\n",
    "- press \"enter\""
   ]
  },
  {
   "cell_type": "markdown",
   "metadata": {
    "slideshow": {
     "slide_type": "slide"
    }
   },
   "source": [
    "...or, if you want to, you can enter a commit message:\n",
    "1. pressing \"i\" (to enter interactive mode)\n",
    "2. writing your merge message\n",
    "3. pressing \"esc\"\n",
    "4. writng \":wq\"\n",
    "5. then pressing enter to exit\n",
    "\n",
    "(accepting the defaults is easier!)"
   ]
  },
  {
   "cell_type": "markdown",
   "metadata": {
    "slideshow": {
     "slide_type": "slide"
    }
   },
   "source": [
    "Updates to my version of the notes should now be incorporated with your local version. "
   ]
  },
  {
   "cell_type": "markdown",
   "metadata": {
    "slideshow": {
     "slide_type": "slide"
    }
   },
   "source": [
    "#### An Note on Pulling Changes\n",
    "When pulling change to a project (e.g. a project containing Python only files) we usually type:\n",
    "\n",
    ">`git fetch origin\n",
    "git merge origin/master`\n",
    "\n",
    "We have instead been using the commands:\n",
    ">`git fetch origin\n",
    "git merge -X theirs origin/master`"
   ]
  },
  {
   "cell_type": "markdown",
   "metadata": {
    "slideshow": {
     "slide_type": "slide"
    }
   },
   "source": [
    "Jupyter notebook files, store information such as how many times you have run a cell. \n",
    "<br>This can cause *conflicts* between repositories that are difficult to fix.\n",
    "\n",
    "We will study conflicts (and how to resolve them) later in today's class.  "
   ]
  },
  {
   "cell_type": "markdown",
   "metadata": {
    "slideshow": {
     "slide_type": "slide"
    }
   },
   "source": [
    "By adding:\n",
    "\n",
    "...`-X theirs`...\n",
    "\n",
    "to the mergae command, we override any changes to the local repository with those from the *upstream* repository. "
   ]
  },
  {
   "cell_type": "markdown",
   "metadata": {
    "slideshow": {
     "slide_type": "slide"
    }
   },
   "source": [
    "## Creating a Remote (Online) Git Repository.\n",
    "<a id='CreatingRemoteGitRepository'></a>\n",
    "The __online Github repository__ that you cloned the notes from belongs to me. \n",
    "\n",
    "You are going to create your own online Github user account where you can store the course notes and any future changes you make to the local repository.\n",
    "\n",
    "\n"
   ]
  },
  {
   "cell_type": "markdown",
   "metadata": {
    "slideshow": {
     "slide_type": "slide"
    }
   },
   "source": [
    "Open https://github.com\n",
    "\n",
    "Click \"Sign up\" at the top right hand corner. \n",
    "\n",
    "<img src=\"img/github_signup.png\" alt=\"Drawing\" style=\"width: 500px;\"/>\n"
   ]
  },
  {
   "cell_type": "markdown",
   "metadata": {
    "slideshow": {
     "slide_type": "slide"
    }
   },
   "source": [
    "Follow the steps to create an account, the same way as you would for a social media site for example.\n",
    "\n",
    "Choose a user name, email address, password.\n",
    "\n",
    "<img src=\"img/github-signup.png\" alt=\"Drawing\" style=\"width: 300px;\"/>\n",
    "\n",
    "Use the confirmation email to complete your registration."
   ]
  },
  {
   "cell_type": "markdown",
   "metadata": {
    "slideshow": {
     "slide_type": "slide"
    }
   },
   "source": [
    "\n",
    "\n",
    "Now we are going to set up your first online repository. \n",
    "\n",
    "Click the + sign in the top right corner.\n",
    "\n",
    "Choose \"New repository\". \n",
    "\n",
    "<img src=\"img/github_newrepo.png\" alt=\"Drawing\" style=\"width: 500px;\"/>"
   ]
  },
  {
   "cell_type": "markdown",
   "metadata": {
    "slideshow": {
     "slide_type": "slide"
    }
   },
   "source": [
    "Choose a repository name (e.g. Python Textbook, python_textbook, Intro_to_python)\n",
    "\n",
    "<img src=\"img/github_namerepo.jpg\" alt=\"Drawing\" style=\"width: 300px;\"/>"
   ]
  },
  {
   "cell_type": "markdown",
   "metadata": {
    "slideshow": {
     "slide_type": "slide"
    }
   },
   "source": [
    "Leave the other settings as they are for now.\n",
    "\n",
    "We will learn about these later in the course. \n",
    "\n",
    "Click the button \"Create repository\".\n",
    "\n",
    "<img src=\"img/github_create_repo.jpg\" alt=\"Drawing\" style=\"width: 300px;\"/>"
   ]
  },
  {
   "cell_type": "markdown",
   "metadata": {
    "slideshow": {
     "slide_type": "slide"
    }
   },
   "source": [
    "## Adding Files to a Github Repository\n",
    "<a id='AddingFilesGithubRepository'></a>\n",
    "We are now going to link your local repository (stored on the computer on the M drive) to your online repository (stored at github.com). \n",
    "\n",
    "In the terminal, make sure you are __inside__ the folder named ILAS_python_for_everyone.\n",
    "\n",
    "If you are not, then navigate to the folder using \n",
    "\n",
    ">`cd`\n",
    "\n"
   ]
  },
  {
   "cell_type": "markdown",
   "metadata": {
    "slideshow": {
     "slide_type": "slide"
    }
   },
   "source": [
    "Type:\n",
    "\n",
    ">`git config --global user.name \"username\"`\n",
    "\n",
    "...replacing `username` with the username that you registered when setting up your account on GitHub.\n",
    "\n",
    "<br>\n",
    ">`git config --global user.email \"your_email@youremail.com\"`\n",
    "\n",
    "... replacing `your_email@youremail.com` with the email adress that you registered when setting up your account on GitHub.\n",
    "\n",
    "*Note you need to keep the `\"....\"` marks!*"
   ]
  },
  {
   "cell_type": "markdown",
   "metadata": {
    "slideshow": {
     "slide_type": "slide"
    }
   },
   "source": [
    "Copy the URL of your repo from the \"Quick setup\" section. \n",
    "\n",
    "<img src=\"img/github_copyurl.png\" alt=\"Drawing\" style=\"width: 500px;\"/>\n",
    "\n",
    "__NOTE__ \n",
    "<br>Earlier we copied the URL of __my repository__ (https://github.com/hphilamore/ILAS_python.git).\n",
    "<br>We used it to tell the computer where to copy files __from__.\n",
    "\n",
    "<br>Now we are copying the URL of __your repository__(https://github.com/yourGithub/yourRepo.git).\n",
    "<br>We will now use a similar procedure to tell the computer where it should copy files __to__."
   ]
  },
  {
   "cell_type": "markdown",
   "metadata": {
    "collapsed": true,
    "slideshow": {
     "slide_type": "slide"
    }
   },
   "source": [
    "First we will disconnect your local repo from __my__ online repo.\n",
    "\n",
    "<br>In the terminal type\n",
    ">`git remote rm origin`\n",
    "\n",
    "<br>The command removes (`rm`) a remote (`remote`) URL from your local repository. \n",
    "\n",
    "`origin` is a name that was given by default to the URL you cloned the repository from). \n",
    "\n"
   ]
  },
  {
   "cell_type": "markdown",
   "metadata": {
    "slideshow": {
     "slide_type": "slide"
    }
   },
   "source": [
    "Second we will connect your local repo to __your__ online repo.\n",
    "<br>In the terminal type `git remote add origin`\n",
    "<br>After the word `origin` __leave a space__ and then paste the URL that you just copied: \n",
    "\n",
    ">`git remote add origin` &nbsp; PASTE_COPIED_URL_HERE\n",
    "\n",
    "<br>The command connects (`add`) a remote (`remote`) URL to your local repository using:\n",
    "- a name for you remote (let's use origin, again) \n",
    "- a URL (the URL just just copied)"
   ]
  },
  {
   "cell_type": "markdown",
   "metadata": {
    "slideshow": {
     "slide_type": "slide"
    }
   },
   "source": [
    "  \n",
    "Finally, type:\n",
    ">`git push -u origin master`\n",
    "\n",
    "The command uploads (`push`) the contents of your *local repository* to a *remote repository* using:\n",
    "- a remote name (ours is \"origin\") \n",
    "- a *branch* of your repository (this is a more advanced feature of github. We will use the default branch ony. It is called \"master\")\n",
    "\n",
    "`-u` sets the remote repository, `origin`, (and branch, `master`) as the default. So from now on, you only need to type `git push` to upload the contents of your local repository. \n",
    "\n"
   ]
  },
  {
   "cell_type": "markdown",
   "metadata": {
    "slideshow": {
     "slide_type": "slide"
    }
   },
   "source": [
    "A new window may open:\n",
    "\n",
    "<img src=\"img/GitHubLogin.png\" alt=\"Drawing\" style=\"width: 200px;\"/>\n",
    "\n",
    "If a new window opens, enter your github login details then return to the teminal.\n",
    "\n",
    "If the window does not appear, skip this step and return to the teminal.  "
   ]
  },
  {
   "cell_type": "markdown",
   "metadata": {
    "slideshow": {
     "slide_type": "slide"
    }
   },
   "source": [
    "A prompt to enter your Github login details should have appeared. Enter your login details. \n",
    "\n",
    "<img src=\"img/GitHubTermLogin.png\" alt=\"Drawing\" style=\"width: 500px;\"/>\n",
    "\n",
    "You should see a few lines of code appear, ending with the message:\n",
    "\n",
    ">`Branch master set up to track remote branch master from origin`"
   ]
  },
  {
   "cell_type": "markdown",
   "metadata": {
    "slideshow": {
     "slide_type": "slide"
    }
   },
   "source": [
    "Now look again at your online GitHub page.\n",
    "\n",
    "Click on the \"code\" tab to reload the page.\n",
    "\n",
    "<img src=\"img/github_code.png\" alt=\"Drawing\" style=\"width: 300px;\"/>\n",
    "\n",
    "The textbook (comprising several jupyter notebook (.ipynb) files) should now have appeared in your online repository. "
   ]
  },
  {
   "cell_type": "markdown",
   "metadata": {
    "slideshow": {
     "slide_type": "slide"
    }
   },
   "source": [
    "## Tracking Changes using Git\n",
    "<a id='TrackingChangesGit'></a>\n",
    "This section will demonstrate how to track any future changes you make to this or any other project.\n",
    "\n",
    "We are now going to:\n",
    " - use Git to record the changes you make to the notes.\n",
    " - upload it to your online GitHub repository so that you can access it online. "
   ]
  },
  {
   "cell_type": "markdown",
   "metadata": {
    "slideshow": {
     "slide_type": "slide"
    }
   },
   "source": [
    "Git has a two-step process for saving changes.\n",
    "\n",
    "1. Select files for which to log changes (__\"add\"__)\n",
    "1. Log changes (__\"commit\"__)\n",
    "\n",
    "For now, we will just learn to __add__ all the files in our directory (rather than selecting individual files).\n",
    "<br>*(It is possible to select only individual files to log but this is an advanced feature.)*\n",
    "\n",
    "\n"
   ]
  },
  {
   "cell_type": "markdown",
   "metadata": {
    "slideshow": {
     "slide_type": "slide"
    }
   },
   "source": [
    "When files have been __added__ but not yet __commited__, we say they have been *staged*. \n",
    "\n",
    "<img src=\"img/git-local-workflow.png\" alt=\"Drawing\" style=\"width: 700px;\"/>"
   ]
  },
  {
   "cell_type": "markdown",
   "metadata": {
    "slideshow": {
     "slide_type": "skip"
    }
   },
   "source": [
    "<img src=\"img/change.jpg\" alt=\"Drawing\" style=\"width: 500px;\"/>"
   ]
  },
  {
   "cell_type": "markdown",
   "metadata": {
    "slideshow": {
     "slide_type": "slide"
    }
   },
   "source": [
    "Make a small change to the notes by adding anything to the cell below.\n",
    "\n",
    "Examples:\n",
    "    \n",
    "> `a = 5`\n",
    "\n",
    "> `print('hello world')`"
   ]
  },
  {
   "cell_type": "code",
   "execution_count": null,
   "metadata": {
    "slideshow": {
     "slide_type": "-"
    }
   },
   "outputs": [],
   "source": [
    "a = 5\n",
    "\n",
    "print('hello world')"
   ]
  },
  {
   "cell_type": "markdown",
   "metadata": {
    "slideshow": {
     "slide_type": "slide"
    }
   },
   "source": [
    "In the terminal type:\n",
    ">`git add -A`\n",
    "\n",
    "to take a snapshot of the changes to all (`-A`) the files in your local directory.\n",
    "<br>This is held at the index (stage).\n",
    "\n",
    "\n"
   ]
  },
  {
   "cell_type": "markdown",
   "metadata": {
    "slideshow": {
     "slide_type": "slide"
    }
   },
   "source": [
    "Now type the following, replacing `\"A short message explaining your changes\"` with a message of your own between \" \" quotation marks:\n",
    ">`git commit -m \"A short message explaining your changes\"`\n",
    "\n",
    "\n",
    "to save the changes with a message (`-m`) you can refer to to remind you what you changed. \n",
    "<br>\n",
    "\n",
    "To avoid losing any changes, these commands are usually executed in immediate succession.\n",
    "\n"
   ]
  },
  {
   "cell_type": "markdown",
   "metadata": {
    "slideshow": {
     "slide_type": "slide"
    }
   },
   "source": [
    "There is one last __very important step__ we need to do..."
   ]
  },
  {
   "cell_type": "markdown",
   "metadata": {
    "slideshow": {
     "slide_type": "slide"
    }
   },
   "source": [
    "## Updating your GitHub Repository  \n",
    "<a id='UpdatingGitHubRepository'></a>\n",
    "We have updated the Git repository held on the computer.\n",
    "\n",
    "The last thing we need to do is to update your online repository. \n",
    "\n",
    "We do this using the `push` command.\n",
    "\n",
    "<img src=\"img/git-local-remote-workflow-cropped.png\" alt=\"Drawing\" style=\"width: 700px;\"/>"
   ]
  },
  {
   "cell_type": "markdown",
   "metadata": {
    "slideshow": {
     "slide_type": "slide"
    }
   },
   "source": [
    "You used the `push` command when you originally uploaded the files to your repository.\n",
    "\n",
    "Enter exactly the same code into the terminal:\n",
    "\n",
    "Type:\n",
    "\n",
    "    git push \n",
    "    \n",
    "Enter your GitHub login details when prompted.  \n"
   ]
  },
  {
   "cell_type": "markdown",
   "metadata": {
    "slideshow": {
     "slide_type": "slide"
    }
   },
   "source": [
    "### Checking that your changes have appeared in your online repo.\n",
    "\n",
    "Go to your GitHub page in your web browser and open the file 12_VersionControl.ipynb.\n",
    "\n",
    "Scroll down to where you made the change. \n",
    "\n",
    "Hint: look for the marker: \n",
    "\n",
    "<img src=\"img/change.jpg\" alt=\"Drawing\" style=\"width: 200px;\"/>\n"
   ]
  },
  {
   "cell_type": "markdown",
   "metadata": {
    "collapsed": true,
    "slideshow": {
     "slide_type": "slide"
    }
   },
   "source": [
    "## Setting up a New Git Repository\n",
    "<a id='SettingNewGitRepository'></a>\n",
    "Hopefully you will want to start using Git for version control of other projects.\n",
    "\n",
    "So far you have set up each new repository to contain a clone of another repository. \n",
    "\n",
    "The clone includes a (hidden) `.git` folder, which is already set up to track the contents of the repository and contains the history of these files."
   ]
  },
  {
   "cell_type": "markdown",
   "metadata": {
    "collapsed": true,
    "slideshow": {
     "slide_type": "slide"
    }
   },
   "source": [
    "The files to track need to be contained within a folder. \n",
    "\n",
    "Either create a folder and navigate into it using the command line (use `cd`), \n",
    "<br>or navigate into an existing folder that you want to track the contents of. \n",
    "\n",
    "In ther terminal type:\n",
    "\n",
    "> `git init`\n",
    "\n",
    "This command initialises (`init`) the directory as a Git repository."
   ]
  },
  {
   "cell_type": "markdown",
   "metadata": {
    "slideshow": {
     "slide_type": "slide"
    }
   },
   "source": [
    "You can now use the steps you are already familar with to commit chnages to the files within the folder. \n",
    "\n",
    ">`git add -A`\n",
    "\n",
    ">`git commit -m \"A short message explaining your changes\"`"
   ]
  },
  {
   "cell_type": "markdown",
   "metadata": {
    "collapsed": true,
    "slideshow": {
     "slide_type": "slide"
    }
   },
   "source": [
    "Create a remote repository on GitHub to track your project. \n"
   ]
  },
  {
   "cell_type": "markdown",
   "metadata": {
    "slideshow": {
     "slide_type": "slide"
    }
   },
   "source": [
    "Copy the URL of your repo from the \"Quick setup\" section. \n",
    "\n",
    "<img src=\"img/github_copyurl.png\" alt=\"Drawing\" style=\"width: 400px;\"/>"
   ]
  },
  {
   "cell_type": "markdown",
   "metadata": {
    "slideshow": {
     "slide_type": "slide"
    }
   },
   "source": [
    "Notice that the instructions to set up a new repository and connect it to a GitHub remote repo are given on the same page as the URL you have just copied. \n",
    "\n",
    "<img src=\"img/new_repo_on_cmd_line.jpg\" alt=\"Drawing\" style=\"width: 600px;\"/>\n",
    "\n"
   ]
  },
  {
   "cell_type": "markdown",
   "metadata": {
    "slideshow": {
     "slide_type": "slide"
    }
   },
   "source": [
    "#### README\n",
    "Create a file called README.md containig the following (where `your_repo` is the name of your remote repository):\n",
    "        \n",
    "        # your_repo\n",
    "                \n",
    "\n",
    "You can either:\n",
    "1. save a text file with the extension .md\n",
    "2. in the terminal type:\n",
    "\n",
    "> `echo \"# your_repo\" >> README.md`\n",
    "\n",
    "This creates a file called README in which you can place instructions to users of your code.<br>\n",
    "\n"
   ]
  },
  {
   "cell_type": "markdown",
   "metadata": {
    "slideshow": {
     "slide_type": "slide"
    }
   },
   "source": [
    "> git add README.md\n",
    "\n",
    "This add a *single file*, README.md, to your repository.\n",
    "\n",
    "__This step is best practise but not essential.__"
   ]
  },
  {
   "cell_type": "markdown",
   "metadata": {
    "slideshow": {
     "slide_type": "slide"
    }
   },
   "source": [
    "Running:\n",
    "\n",
    "> git add -A\n",
    "\n",
    "adds *all* files in the repository. "
   ]
  },
  {
   "cell_type": "markdown",
   "metadata": {
    "slideshow": {
     "slide_type": "slide"
    }
   },
   "source": [
    "To connnect your local repo to __your__ online repo:\n",
    "\n",
    " - In the terminal type `git remote add origin`\n",
    " - After the word `origin` __leave a space__ and then paste the URL that you just copied: \n",
    "\n",
    ">`git remote add origin` &nbsp; PASTE_COPIED_URL_HERE"
   ]
  },
  {
   "cell_type": "markdown",
   "metadata": {
    "slideshow": {
     "slide_type": "slide"
    }
   },
   "source": [
    "  \n",
    "Finally, type:\n",
    ">`git push -u origin master`"
   ]
  },
  {
   "cell_type": "markdown",
   "metadata": {
    "slideshow": {
     "slide_type": "slide"
    }
   },
   "source": [
    "A new window may open:\n",
    "\n",
    "<img src=\"img/GitHubLogin.png\" alt=\"Drawing\" style=\"width: 200px;\"/>\n",
    "\n",
    "If a new window opens, enter your github login details then return to the teminal.\n",
    "\n",
    "If the window does not appear, skip this step and return to the teminal.  \n",
    "\n"
   ]
  },
  {
   "cell_type": "markdown",
   "metadata": {
    "slideshow": {
     "slide_type": "slide"
    }
   },
   "source": [
    "A prompt to enter your Github login details should have appeared. Enter your login details. \n",
    "\n",
    "<img src=\"img/GitHubTermLogin.png\" alt=\"Drawing\" style=\"width: 500px;\"/>\n",
    "\n",
    "You should see a few lines of code appear, ending with the message:\n",
    "\n",
    ">`Branch master set up to track remote branch master from origin`"
   ]
  },
  {
   "cell_type": "markdown",
   "metadata": {
    "slideshow": {
     "slide_type": "slide"
    }
   },
   "source": [
    "__Hint: If you get stuck mid-way through an operation__\n",
    "<br>e.g. enter the wrong user name:\n",
    "<br>pressing \"Crtl\" + \"C\" breaks out of your current operation."
   ]
  },
  {
   "cell_type": "markdown",
   "metadata": {
    "slideshow": {
     "slide_type": "slide"
    }
   },
   "source": [
    "Now look again at your online GitHub page.\n",
    "\n",
    "Click on the \"code\" tab to reload the page.\n",
    "\n",
    "You should see the README.md file has been added to the repository.\n",
    "\n",
    "<img src=\"img/github_code.png\" alt=\"Drawing\" style=\"width: 300px;\"/>"
   ]
  },
  {
   "cell_type": "markdown",
   "metadata": {
    "slideshow": {
     "slide_type": "slide"
    }
   },
   "source": [
    "Any additional files that you save in this directory (e.g. .py files) will be added to the repository the next time you run:\n",
    "    \n",
    ">`git add -A\n",
    "git commit -m \"commit message\"\n",
    "git push`"
   ]
  },
  {
   "cell_type": "markdown",
   "metadata": {
    "collapsed": true,
    "slideshow": {
     "slide_type": "slide"
    }
   },
   "source": [
    "## `revert`\n",
    "<a id='revert`'></a>\n",
    "One useful thing about storing a project using Git is that we can easily revert back to a previous version if we mess everything up. \n",
    "\n",
    "Even more useful is that, instead of *deleting* the most recent commit from the project history, Git creates a new commit.\n",
    "\n",
    "The new commit contains the reverted repository i.e. with the changes since the previous commit removed.\n",
    "\n"
   ]
  },
  {
   "cell_type": "markdown",
   "metadata": {
    "slideshow": {
     "slide_type": "-"
    }
   },
   "source": [
    "<img src=\"img/gitrevert.png\" alt=\"Drawing\" style=\"width: 30%;\"/>"
   ]
  },
  {
   "cell_type": "markdown",
   "metadata": {
    "slideshow": {
     "slide_type": "slide"
    }
   },
   "source": [
    "This is the safest way to make changes to a project as it means we never lose any work done on a file."
   ]
  },
  {
   "cell_type": "markdown",
   "metadata": {
    "slideshow": {
     "slide_type": "slide"
    }
   },
   "source": [
    "Let's say you make some changes...\n",
    "\n",
    "...but those changes introduce a bug...\n",
    "\n",
    "...but you can't work out how the bug occurred...\n",
    "\n",
    "...you can revert back to before the bug appeared...\n",
    "\n",
    "...and slowly re-introduce the changes using the committed code (with the bug) as a reference. \n"
   ]
  },
  {
   "cell_type": "markdown",
   "metadata": {
    "collapsed": true,
    "slideshow": {
     "slide_type": "slide"
    }
   },
   "source": [
    "__first commit__ : \n",
    "     \n",
    "     print(\"Hello World!\")  \n",
    " \n",
    "__second commit__ : \n",
    "\n",
    "    print(\"Hello World!\")\n",
    "    print(\"How's it going?\")\n",
    "    \n",
    "After the revert a new commit is created.\n",
    "    \n",
    "__third commit__ : \n",
    "     \n",
    "     print(\"Hello World!\") "
   ]
  },
  {
   "cell_type": "markdown",
   "metadata": {
    "slideshow": {
     "slide_type": "slide"
    }
   },
   "source": [
    "### How to use revert.\n",
    "\n",
    "Let's create a new repository in a folder called `my_project`.\n",
    "\n",
    "> `mkdir my_project`\n",
    "\n",
    "Create a file called `file1.py` within `my_project`.  \n",
    "\n",
    "Add a line to file1.py\n",
    "\n",
    "\n",
    "\n"
   ]
  },
  {
   "cell_type": "markdown",
   "metadata": {
    "slideshow": {
     "slide_type": "slide"
    }
   },
   "source": [
    "##### Shortcut for Mac or Linux:\n",
    "\n",
    "In the terminal, type:\n",
    "> `echo \"your_line\" >> file1.py`\n",
    "\n",
    "(replace `your_line` with code of your choice)"
   ]
  },
  {
   "cell_type": "markdown",
   "metadata": {
    "slideshow": {
     "slide_type": "slide"
    }
   },
   "source": [
    "Make some changes to `file1.py` (e.g. add another line)\n",
    "\n",
    "Then:\n",
    "\n",
    "    git add -A\n",
    "    git commit -m \"first commit\"\n",
    "    \n"
   ]
  },
  {
   "cell_type": "markdown",
   "metadata": {
    "slideshow": {
     "slide_type": "slide"
    }
   },
   "source": [
    "##### Shortcut for Mac or Linux:\n",
    "\n",
    "In the terminal, type:\n",
    "> `nano file1.py`\n",
    "\n",
    "Then:\n",
    "\n",
    "1. 'Ctrl' + 'X'\n",
    "1. 'Y' + 'Enter'"
   ]
  },
  {
   "cell_type": "markdown",
   "metadata": {
    "slideshow": {
     "slide_type": "slide"
    }
   },
   "source": [
    "Make some *more* changes to `file1.py`\n",
    "\n",
    "Then:\n",
    "\n",
    "    git add -A\n",
    "    git commit -m \"second commit\""
   ]
  },
  {
   "cell_type": "markdown",
   "metadata": {
    "slideshow": {
     "slide_type": "slide"
    }
   },
   "source": [
    "If I revert the repository:\n",
    "    \n",
    "    git revert HEAD\n",
    "    \n",
    "    "
   ]
  },
  {
   "cell_type": "markdown",
   "metadata": {
    "collapsed": true,
    "slideshow": {
     "slide_type": "slide"
    }
   },
   "source": [
    "A message will appear\n",
    "Revert \"second commit\"\n",
    "\n",
    "    This reverts commit 41c1b5d2c0c116efe64a851fec85f55e418622b8.\n",
    "\n",
    "    # Please enter the commit message for your changes. Lines starting\n",
    "    # with '#' will be ignored, and an empty message aborts the commit.\n",
    "    # On branch master\n",
    "    # Changes to be committed:\n",
    "    #       modified:   file1.py\n"
   ]
  },
  {
   "cell_type": "markdown",
   "metadata": {
    "slideshow": {
     "slide_type": "slide"
    }
   },
   "source": [
    "As it says in the message, you can enter a commit message here.\n",
    "\n",
    "To accept the default message:\n",
    "\n",
    "##### On Windows\n",
    "Press \"Ctrl\" + \"X\".\n",
    "\n",
    "##### On Mac\n",
    "- press \"i\"\n",
    "- (type your merge message) *optional step*\n",
    "- press \"esc\"\n",
    "- type `:wq`\n",
    "- press \"enter\""
   ]
  },
  {
   "cell_type": "markdown",
   "metadata": {
    "slideshow": {
     "slide_type": "slide"
    }
   },
   "source": [
    "I can view the \n",
    " - ID number of the commit \n",
    " - changes made\n",
    " \n",
    "using:\n",
    "\n",
    "    $ git log -p\n",
    "    \n",
    "Or to limit the number of log entries.\n",
    "<br>Example : Show last two entries:\n",
    "    \n",
    "    $ git log -p -2"
   ]
  },
  {
   "cell_type": "markdown",
   "metadata": {
    "slideshow": {
     "slide_type": "slide"
    }
   },
   "source": [
    "    commit b2682aff2d79850c50f3b14fb54f7925a7e9010a (HEAD -> master)\n",
    "    Author: hphilamore <hemmaphilamore@gmail.com>\n",
    "    Date:   Tue Dec 19 13:54:16 2017 +0900\n",
    "\n",
    "        revert \"second commit\"\n",
    "        \n",
    "        This reverts commit e5c37ff5a0879b5e1db72bc7bf5c54e73c107351\n",
    "\n",
    "    diff --git a/file1.py b/file1.py\n",
    "    index bae781c..51c3143 100644\n",
    "    --- a/file1.py\n",
    "    +++ b/file1.py\n",
    "    @@ -1,2 +1,3 @@\n",
    "     print(\"Hello World!\")\n",
    "\n",
    "    commit e5c37ff5a0879b5e1db72bc7bf5c54e73c107351\n",
    "    Author: hphilamore <hemmaphilamore@gmail.com>\n",
    "    Date:   Tue Dec 19 13:53:44 2017 +0900\n",
    "\n",
    "        second commit\n",
    "\n",
    "    diff --git a/file1.py b/file1.py\n",
    "    index f301245..bae781c 100644\n",
    "    --- a/file1.py\n",
    "    +++ b/file1.py\n",
    "    @@ -1 +1,2 @@\n",
    "     print(\"Hello World!\")\n",
    "    +print(\"How's it going?\")"
   ]
  },
  {
   "cell_type": "markdown",
   "metadata": {
    "slideshow": {
     "slide_type": "slide"
    }
   },
   "source": [
    " - press `Enter` to show more of the log\n",
    " - press `q` to exit the log"
   ]
  },
  {
   "cell_type": "markdown",
   "metadata": {
    "collapsed": true,
    "slideshow": {
     "slide_type": "slide"
    }
   },
   "source": [
    "To revert to a commit more than one step back:\n",
    "    \n",
    "    $ git revert HEAD~2\n",
    "    \n",
    "The number after `HEAD~` indicates how many commits to go back. \n",
    "<br>Like indexing, counting starts at 0 \n"
   ]
  },
  {
   "cell_type": "markdown",
   "metadata": {
    "slideshow": {
     "slide_type": "slide"
    }
   },
   "source": [
    "Example, if we make the following changes to the contents of `file1.py`:\n",
    "\n",
    "__file1.py contents__ : \n",
    "<br>Commit 1 : `print(\"Hello World!\")`\n",
    "<br>Commit 2 : `print(\"Hello Julia!\")`  \n",
    "Commit 3 : `print(\"Hello Taichi!\")`\n",
    "<br>Commit 4 : `print(\"Hello Katharina!\")`\n",
    "\n",
    "`git revert HEAD~2` would revert the contents from `print(\"Hello Katharina!\")` to `print(\"Hello World!\")`"
   ]
  },
  {
   "cell_type": "markdown",
   "metadata": {
    "slideshow": {
     "slide_type": "slide"
    }
   },
   "source": [
    "This time, you may see an error appear:\n",
    "    \n",
    "    error: could not revert 15efe0e... c2\n",
    "    hint: after resolving the conflicts, mark the corrected paths\n",
    "    hint: with 'git add <paths>' or 'git rm <paths>'\n",
    "    hint: and commit the result with 'git commit'\n"
   ]
  },
  {
   "cell_type": "markdown",
   "metadata": {
    "slideshow": {
     "slide_type": "slide"
    }
   },
   "source": [
    "The commit message in the first line will be your own personal one.\n",
    "\n",
    "You are seeing this error because Git has recognised that there were other changes made to this particular part of the code between the commit you are reverting from and the commit you are reverting to. \n",
    "\n",
    "Git checks which version you want... "
   ]
  },
  {
   "cell_type": "markdown",
   "metadata": {
    "slideshow": {
     "slide_type": "slide"
    }
   },
   "source": [
    "`file1.py` contents at last commit:\n",
    "\n",
    "    print(\"Hello Katharina!\")"
   ]
  },
  {
   "cell_type": "markdown",
   "metadata": {
    "slideshow": {
     "slide_type": "slide"
    }
   },
   "source": [
    "`file1.py` contents after revert:\n",
    "\n",
    "    <<<<<<< HEAD\n",
    "    print(\"Hello Katharina!\")\n",
    "    =======\n",
    "    print(\"Hello World!\")\n",
    "    >>>>>>> parent of 15efe0e... c2"
   ]
  },
  {
   "cell_type": "markdown",
   "metadata": {
    "slideshow": {
     "slide_type": "slide"
    }
   },
   "source": [
    "Choose which version of the code you want (most likely the older version).\n",
    "<br>Delete the other code and the markers."
   ]
  },
  {
   "cell_type": "markdown",
   "metadata": {
    "slideshow": {
     "slide_type": "slide"
    }
   },
   "source": [
    "`file1.py` contents:\n",
    "\n",
    "    print(\"Hello World!\")\n"
   ]
  },
  {
   "cell_type": "markdown",
   "metadata": {
    "slideshow": {
     "slide_type": "slide"
    }
   },
   "source": [
    "Commit your changes as usual:\n",
    "    \n",
    "    git add -A\n",
    "    git commit -m \"reverted to 2 versions previous\"\n",
    "    "
   ]
  },
  {
   "cell_type": "markdown",
   "metadata": {
    "collapsed": true,
    "slideshow": {
     "slide_type": "slide"
    }
   },
   "source": [
    "# Summary\n",
    "<a id='Summary'></a>\n",
    "- Version control software: Software that tracks and manages changes to project without overwriting any part of the project. \n",
    "- __Cloning__: Downloads files from a remote (online) repository.\n",
    "- __Pulling (from an \"Upstream\" Repository)__: Updates files stored locally with chnages made to the remote repository.\n",
    "- __Creating an Local Git Repository__: Allows you to:\n",
    " - track changes to a project\n",
    "- __Creating an Online (Remote) Git Repository__: Allows you to:\n",
    " - view the changes to a repository online through a guided user interface\n",
    " - backup your work\n",
    " - share your work with others\n",
    "- `revert` allows to you undo changes to a project while keeping a record of the project before the reversions were implemented."
   ]
  },
  {
   "cell_type": "markdown",
   "metadata": {
    "slideshow": {
     "slide_type": "slide"
    }
   },
   "source": [
    "##### I really hope you have enjoyed this course.\n",
    "\n",
    "##### If you have any questions feel free to contact me at : philamore.hemma.5s@kyoto-u.ac.jp\n",
    "\n"
   ]
  }
 ],
 "metadata": {
  "celltoolbar": "Slideshow",
  "kernelspec": {
   "display_name": "Python 3",
   "language": "python",
   "name": "python3"
  },
  "language_info": {
   "codemirror_mode": {
    "name": "ipython",
    "version": 3
   },
   "file_extension": ".py",
   "mimetype": "text/x-python",
   "name": "python",
   "nbconvert_exporter": "python",
   "pygments_lexer": "ipython3",
   "version": "3.6.4"
  }
 },
 "nbformat": 4,
 "nbformat_minor": 2
}
