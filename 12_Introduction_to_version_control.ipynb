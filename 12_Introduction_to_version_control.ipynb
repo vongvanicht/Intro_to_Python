{
 "cells": [
  {
   "cell_type": "code",
   "execution_count": 3,
   "metadata": {
    "slideshow": {
     "slide_type": "skip"
    }
   },
   "outputs": [
    {
     "data": {
      "text/html": [
       "<style>\n",
       "\n",
       "body {\n",
       " counter-reset: h2counter;\n",
       "}\n",
       "h1 {\n",
       " counter-reset: h2counter;\n",
       "}\n",
       "h2:before {\n",
       " content: counter(h2counter) \".\\0000a0\\0000a0\";\n",
       " counter-increment: h2counter;\n",
       " counter-reset: h3counter;\n",
       "}\n",
       "\n",
       "\n",
       "</style>\n"
      ],
      "text/plain": [
       "<IPython.core.display.HTML object>"
      ]
     },
     "execution_count": 3,
     "metadata": {},
     "output_type": "execute_result"
    }
   ],
   "source": [
    "from IPython.core.display import HTML\n",
    "def css_styling():\n",
    "    styles = open(\"./styles/custom.css\", \"r\").read()\n",
    "    return HTML(styles)\n",
    "css_styling()"
   ]
  },
  {
   "cell_type": "markdown",
   "metadata": {
    "slideshow": {
     "slide_type": "slide"
    }
   },
   "source": [
    "# Introduction to Version Control\n",
    "\n"
   ]
  },
  {
   "cell_type": "markdown",
   "metadata": {
    "slideshow": {
     "slide_type": "slide"
    }
   },
   "source": [
    "This is an introductory guide to the basic functions of Git version control software and the GitHub code hosting site that we will use during the Introduction to Programming Python course. \n"
   ]
  },
  {
   "cell_type": "markdown",
   "metadata": {
    "slideshow": {
     "slide_type": "slide"
    }
   },
   "source": [
    "## Git\n",
    "__What is Git?__ \n",
    "\n",
    "Git is *version control* software."
   ]
  },
  {
   "cell_type": "markdown",
   "metadata": {
    "slideshow": {
     "slide_type": "subslide"
    }
   },
   "source": [
    "__What is version control software?__ \n",
    "\n",
    "Software that tracks and manages changes to project without overwriting any part of the project. "
   ]
  },
  {
   "cell_type": "markdown",
   "metadata": {
    "slideshow": {
     "slide_type": "subslide"
    }
   },
   "source": [
    "Typically, when you save a file, for example a word document, you either:\n",
    " - overwrite the previous version (save)\n",
    " - save the file under a new name (save as)"
   ]
  },
  {
   "cell_type": "markdown",
   "metadata": {
    "slideshow": {
     "slide_type": "subslide"
    }
   },
   "source": [
    "This means we either:\n",
    "- Lose the previous version\n",
    "- End up with multiple files\n"
   ]
  },
  {
   "cell_type": "markdown",
   "metadata": {
    "slideshow": {
     "slide_type": "subslide"
    }
   },
   "source": [
    "In programming we often want to:\n",
    " - make a small change to our program \n",
    " - test our change works before moving on. \n",
    " - easily revert to a previous version if we don't like the changes\n",
    "\n",
    "It makes sense to incrementally save our work as we go along. \n",
    "\n",
    "That way, if we break something we can just go back to the previous version. "
   ]
  },
  {
   "cell_type": "markdown",
   "metadata": {
    "slideshow": {
     "slide_type": "subslide"
    }
   },
   "source": [
    "But this can lead to many files:\n",
    "\n",
    "<img src=\"img/many_files_same_name.png\" alt=\"Drawing\" style=\"width: 300px;\"/>\n",
    "\n",
    "How can we tell what each one does?"
   ]
  },
  {
   "cell_type": "markdown",
   "metadata": {
    "slideshow": {
     "slide_type": "subslide"
    }
   },
   "source": [
    "We could try giving them meaningful names:\n",
    "\n",
    "<img src=\"img/many_files.gif\" alt=\"Drawing\" style=\"width: 300px;\"/>\n",
    "\n",
    "But the name can only tell us a little bit of information...\n"
   ]
  },
  {
   "cell_type": "markdown",
   "metadata": {
    "slideshow": {
     "slide_type": "subslide"
    }
   },
   "source": [
    "...before they start getting really long!\n",
    "\n",
    "<img src=\"img/many_files_different_names.png\" alt=\"Drawing\" style=\"width: 300px;\"/>\n",
    "\n",
    "Things get very confusing!\n",
    "\n",
    "And many files take up lots of space on your computer. "
   ]
  },
  {
   "cell_type": "markdown",
   "metadata": {
    "slideshow": {
     "slide_type": "subslide"
    }
   },
   "source": [
    "### How Git works\n",
    "Git creates a folder in the same directory as your file. \n",
    "\n",
    "The directory containing both the file being tracked and the Git folder is now referred to as a repository or \"repo\". \n",
    "\n",
    "(The folder is hidden.)\n",
    "\n",
    "The folder being tracked by git is referred to as a repository or \"repo\". \n",
    "\n",
    "You can keep any type of file in a repository (code files, text files, image files....). \n",
    "\n"
   ]
  },
  {
   "cell_type": "markdown",
   "metadata": {
    "slideshow": {
     "slide_type": "subslide"
    }
   },
   "source": [
    "\n",
    "\n",
    "It logs changes you make to the file.\n",
    "\n",
    "It track of multiple files within this directory.  \n",
    "\n",
    "It stores a *commit message* with each change you *commit*, saying what you changed:\n",
    "\n",
    "<img src=\"img/git_commit_.png\" alt=\"Drawing\" style=\"width: 300px;\"/>"
   ]
  },
  {
   "cell_type": "markdown",
   "metadata": {
    "slideshow": {
     "slide_type": "subslide"
    }
   },
   "source": [
    "So if you make a mistake, you can just reset to a previous version.\n",
    "\n",
    "<img src=\"img/git_reset.png\" alt=\"Drawing\" style=\"width: 300px;\"/>"
   ]
  },
  {
   "cell_type": "markdown",
   "metadata": {
    "slideshow": {
     "slide_type": "subslide"
    }
   },
   "source": [
    "When you commit chanegs, Git does not save two versions of the same file. \n",
    "\n",
    "Git only saves the __difference__ between two files.\n",
    "\n",
    "This minimises the amount of space that tracking your changes takes up on your computer,\n",
    "\n",
    "__Example:__ Between files r3 and r4, the information saved is\n",
    " > -juice <br>\n",
    " > +soup\n",
    "\n",
    "<img src=\"img/git_diff.png\" alt=\"Drawing\" style=\"width: 500px;\"/>"
   ]
  },
  {
   "cell_type": "markdown",
   "metadata": {
    "slideshow": {
     "slide_type": "subslide"
    }
   },
   "source": [
    "### Advantages and Disadventages of Git\n",
    "\n",
    "A __great thing__ about git is that it was made by programmers for programmers. \n",
    "\n",
    "Professional developers and most other professionals who write code, use git (or other version control software) to manage their files, workflow and collaborations.  \n",
    "\n",
    "It has an enourmous range of functionality.\n"
   ]
  },
  {
   "cell_type": "markdown",
   "metadata": {
    "slideshow": {
     "slide_type": "subslide"
    }
   },
   "source": [
    "A __problem__ with so much freedom is that it can be easy to get things wrong.\n",
    "\n",
    "Git can be difficult to use.\n",
    "\n"
   ]
  },
  {
   "cell_type": "markdown",
   "metadata": {
    "slideshow": {
     "slide_type": "subslide"
    }
   },
   "source": [
    "To keep things nice and easy we will learn only the basics of using Git. \n",
    "\n",
    "Even this basic understanding will give you essential skills that are used every day by professional programmers. "
   ]
  },
  {
   "cell_type": "markdown",
   "metadata": {
    "collapsed": true,
    "slideshow": {
     "slide_type": "subslide"
    }
   },
   "source": [
    "A __problem__ with Git is that it was made by programmers for programmers. \n",
    "\n",
    "We have to use the command line (or Terminal) to access it. \n",
    "\n",
    "There is no graphical user interface.\n",
    "\n",
    "It can be difficult to visualise what is going on. \n",
    "\n",
    "<img src=\"img/git_command_line.png\" alt=\"Drawing\" style=\"width: 500px;\"/>"
   ]
  },
  {
   "cell_type": "markdown",
   "metadata": {
    "slideshow": {
     "slide_type": "slide"
    }
   },
   "source": [
    "## GitHub\n",
    "To provide a visual interface we can use an online *host site* to store and view code...\n",
    "\n"
   ]
  },
  {
   "cell_type": "markdown",
   "metadata": {
    "slideshow": {
     "slide_type": "subslide"
    }
   },
   "source": [
    "A repo can be a local folder on your computer. \n",
    "\n",
    "A repo can also be a storage space on GitHub or another online host site. \n",
    "\n",
    "<img src=\"img/github-logo.jpg\" alt=\"Drawing\" style=\"width: 200px;\"/>\n"
   ]
  },
  {
   "cell_type": "markdown",
   "metadata": {
    "slideshow": {
     "slide_type": "subslide"
    }
   },
   "source": [
    "GitHub.com is a \"code hosting site\".\n",
    "\n",
    "It provides a visual interface to view code, the changes (*commits*) and to share and collaborate with others. \n",
    "\n",
    "There are many code hosting sites, however Github has a large community of users.  \n",
    "\n",
    "So for programmers, it works like a social media site like Facebook or instagram.\n",
    "\n",
    "<img src=\"img/github-logo.jpg\" alt=\"Drawing\" style=\"width: 200px;\"/>\n",
    "\n"
   ]
  },
  {
   "cell_type": "markdown",
   "metadata": {
    "slideshow": {
     "slide_type": "subslide"
    }
   },
   "source": [
    "Let's start by downloading your interactive textbook from github.com\n",
    "\n",
    "Open a web browser and go to:\n",
    "\n",
    "https://github.com/hphilamore/ILAS_python\n",
    "\n",
    "This is a __repository__.\n",
    "\n",
    "It is an online directory where this project, the textbook, is stored. "
   ]
  },
  {
   "cell_type": "markdown",
   "metadata": {
    "slideshow": {
     "slide_type": "subslide"
    }
   },
   "source": [
    "We can look at previous versions of the code by selecting *commits*...\n",
    "\n",
    "We can easily view the difference (\"diff\") between the previous and current version."
   ]
  },
  {
   "cell_type": "markdown",
   "metadata": {
    "slideshow": {
     "slide_type": "subslide"
    }
   },
   "source": [
    " You are going to download a personal copy of the textbook to you user area. "
   ]
  },
  {
   "cell_type": "markdown",
   "metadata": {
    "collapsed": true,
    "slideshow": {
     "slide_type": "subslide"
    }
   },
   "source": [
    "Please log on to the computer. \n",
    "\n",
    "\n",
    "\n"
   ]
  },
  {
   "cell_type": "markdown",
   "metadata": {
    "slideshow": {
     "slide_type": "subslide"
    }
   },
   "source": [
    "### Introduction to the Command Line. \n",
    "\n",
    "We are going to download the textbook using the command line.\n",
    "\n",
    "To open the terminal:\n",
    " - press \"win key\" + \"R\"\n",
    " - type: __cmd__\n",
    " - press enter"
   ]
  },
  {
   "cell_type": "markdown",
   "metadata": {
    "slideshow": {
     "slide_type": "subslide"
    }
   },
   "source": [
    "A terminal will launch.\n",
    "\n",
    "The *command prompt* will say something like:\n",
    "\n",
    "C:¥Users¥Username:\n",
    "\n",
    "The C tells us that we are on the C drive of the computer.\n",
    "\n",
    "Lets switch to the M drive where the user (you!) can save files."
   ]
  },
  {
   "cell_type": "markdown",
   "metadata": {
    "slideshow": {
     "slide_type": "subslide"
    }
   },
   "source": [
    "In the terminal type: \n",
    "\n",
    ">`M:`\n",
    "\n",
    "...and press enter.\n"
   ]
  },
  {
   "cell_type": "markdown",
   "metadata": {
    "slideshow": {
     "slide_type": "subslide"
    }
   },
   "source": [
    "You should see the command prompt change.  \n",
    "\n",
    "\n",
    "<img src=\"img/KUterminalMdrive.png\" alt=\"Drawing\" style=\"width: 700px;\"/>"
   ]
  },
  {
   "cell_type": "markdown",
   "metadata": {
    "slideshow": {
     "slide_type": "subslide"
    }
   },
   "source": [
    "To see what is on the M drive type:\n",
    "\n",
    ">`dir`\n",
    "\n",
    "..and press enter.\n",
    "\n",
    "You will see all the folders in your personal user area.\n",
    "\n",
    "Double click on the computer icon on the desktop. \n",
    "\n",
    "Double click on Home Directory (M:).\n",
    "\n",
    "You should see the same folders as those listed in the terminal.\n"
   ]
  },
  {
   "cell_type": "markdown",
   "metadata": {
    "collapsed": true,
    "slideshow": {
     "slide_type": "subslide"
    }
   },
   "source": [
    "To navigate to documents type:\n",
    "\n",
    ">`cd Documents`\n",
    "\n",
    "cd stands for \"change directory\".\n",
    "\n",
    "\n"
   ]
  },
  {
   "cell_type": "markdown",
   "metadata": {
    "slideshow": {
     "slide_type": "subslide"
    }
   },
   "source": [
    "We can move down the filesystem of the computer by typing:\n",
    "\n",
    ">`cd`\n",
    "\n",
    "followed by the name of the folder we want to move to.\n",
    "\n",
    "The folder must be:\n",
    " - on the same branch\n",
    " - one step from our current location\n",
    "\n",
    "<img src=\"img/directory_tree.gif\" alt=\"Drawing\" style=\"width: 400px;\"/>"
   ]
  },
  {
   "cell_type": "markdown",
   "metadata": {
    "slideshow": {
     "slide_type": "subslide"
    }
   },
   "source": [
    "__Hint: You can press the $\\uparrow$ up key to scroll back though (and edit) previous commands and then press enter to run them again.__\n",
    "<br>This can save you time repaeatedly typing."
   ]
  },
  {
   "cell_type": "markdown",
   "metadata": {
    "slideshow": {
     "slide_type": "subslide"
    }
   },
   "source": [
    "Press the $\\uparrow$ up key until you see:\n",
    "    \n",
    ">`dir` \n",
    "\n",
    "appear in the terminal.\n",
    "\n",
    "Press enter to view the contents of your Documents folder."
   ]
  },
  {
   "cell_type": "markdown",
   "metadata": {
    "slideshow": {
     "slide_type": "subslide"
    }
   },
   "source": [
    "To move back up by one step, type:\n",
    "    \n",
    ">`cd ..`\n",
    "\n",
    "Try this now.\n",
    "\n",
    "<img src=\"img/directory_tree.gif\" alt=\"Drawing\" style=\"width: 400px;\"/>"
   ]
  },
  {
   "cell_type": "markdown",
   "metadata": {
    "slideshow": {
     "slide_type": "subslide"
    }
   },
   "source": [
    "We can move by more than one step by seperating the names of the folders using the symbol: \n",
    "\n",
    "¥\n",
    "\n",
    "(note, this is \\ or / on US and European computers, depending on the operating system)"
   ]
  },
  {
   "cell_type": "markdown",
   "metadata": {
    "slideshow": {
     "slide_type": "subslide"
    }
   },
   "source": [
    "For example, now try navigating to any folder in your Documents folder by typing:\n",
    ">`cd Documents¥folder_name`\n",
    "\n",
    "where `folder_name` is the name of the folder to move to.\n"
   ]
  },
  {
   "cell_type": "markdown",
   "metadata": {
    "slideshow": {
     "slide_type": "subslide"
    }
   },
   "source": [
    "And now let's go back to the main Documents folder by typing:\n",
    "> cd .."
   ]
  },
  {
   "cell_type": "markdown",
   "metadata": {
    "slideshow": {
     "slide_type": "subslide"
    }
   },
   "source": [
    "Type:\n",
    "    \n",
    ">`dir` \n",
    "\n",
    "again to view the contents of your Documents folder.\n"
   ]
  },
  {
   "cell_type": "markdown",
   "metadata": {
    "slideshow": {
     "slide_type": "slide"
    }
   },
   "source": [
    "## 'Cloning' the Textbook Using Git\n",
    "\n",
    "Go to the Github site we opened earlier.  \n",
    "\n",
    "We are going to download a copy of the textbook from an online *repository*.\n",
    "\n",
    "This is referred to as *cloning*.\n",
    "\n",
    "This will allow you to work on the textbook and save it locally on a computer.\n",
    "\n",
    "Click the button \"Clone or download\" and copy the link by presssing Ctrl , C\n",
    "\n",
    "<img src=\"img/clone-URL.png\" alt=\"Drawing\" style=\"width: 500px;\"/>\n",
    "\n",
    "\n"
   ]
  },
  {
   "cell_type": "markdown",
   "metadata": {
    "slideshow": {
     "slide_type": "subslide"
    }
   },
   "source": [
    "In the terminal type `git clone`. \n",
    "\n",
    "After the word `clone` __leave a space__ and then paste the URL that you just copied: \n",
    "\n",
    "> `git clone` &nbsp; PASTE_COPIED_URL_HERE\n",
    "\n",
    "\n",
    "\n",
    "`Clone` copies all the files from the repository at the URL you have entered. "
   ]
  },
  {
   "cell_type": "markdown",
   "metadata": {
    "slideshow": {
     "slide_type": "subslide"
    }
   },
   "source": [
    "In the terminal type:\n",
    "\n",
    "> `dir`\n",
    "\n",
    "A folder called \"ILAS_python\" should have appeared. \n",
    "\n",
    "Go into the folder and view the content by typing:\n",
    "\n",
    ">`cd ILAS_pyhon`\n",
    "><br>`dir` \n",
    "\n"
   ]
  },
  {
   "cell_type": "markdown",
   "metadata": {
    "slideshow": {
     "slide_type": "subslide"
    }
   },
   "source": [
    "__Hint: If you start typing  a folder name and press \"tab\", the folder name autocompletes!__\n",
    "<br>Try it for yourself e.g. in the Documents directory type:\n",
    "\n",
    ">`cd ILAS`\n",
    "\n",
    "then press \"tab\"."
   ]
  },
  {
   "cell_type": "markdown",
   "metadata": {
    "slideshow": {
     "slide_type": "subslide"
    }
   },
   "source": [
    "The textbook files should now have appeared in your Documents folder."
   ]
  },
  {
   "cell_type": "markdown",
   "metadata": {
    "slideshow": {
     "slide_type": "slide"
    }
   },
   "source": [
    "## Creating an Online Github Account\n",
    "\n",
    "The __online Github repository__ that you cloned the textbook from belongs to me. \n",
    "\n",
    "You are going to create your own online Github user account.\n",
    "\n",
    "\n"
   ]
  },
  {
   "cell_type": "markdown",
   "metadata": {
    "slideshow": {
     "slide_type": "subslide"
    }
   },
   "source": [
    "You will use Github to update the online version of your textbook with the changes you make to the version stored locally on the university M drive.\n",
    "\n",
    "This means you can easily access it from outside the Kyoto University system, for example, to complete your homework. \n",
    "\n",
    "I will use your online repositories to view your work and check your progress during the course."
   ]
  },
  {
   "cell_type": "markdown",
   "metadata": {
    "slideshow": {
     "slide_type": "subslide"
    }
   },
   "source": [
    "Open https://github.com\n",
    "\n",
    "Click \"Sign in\" at the top right hand corner. \n",
    "\n",
    "<img src=\"img/github_signup.png\" alt=\"Drawing\" style=\"width: 500px;\"/>\n"
   ]
  },
  {
   "cell_type": "markdown",
   "metadata": {
    "slideshow": {
     "slide_type": "subslide"
    }
   },
   "source": [
    "Follow the steps to create an account, the same way as you would for a social media site for example.\n",
    "\n",
    "Choose a user name, email address, password.\n",
    "\n",
    "<img src=\"img/github-signup.png\" alt=\"Drawing\" style=\"width: 300px;\"/>\n",
    "\n",
    "Use the confirmation email to complete your registration."
   ]
  },
  {
   "cell_type": "markdown",
   "metadata": {
    "slideshow": {
     "slide_type": "slide"
    }
   },
   "source": [
    "<a id='Creating_Online_GitHub_Repository'></a>   \n",
    "\n",
    "## Creating an Online GitHub Repository\n",
    "\n",
    "Now we are going to set up your first online repository. \n",
    "\n",
    "Click the + sign in the top right corner.\n",
    "\n",
    "Choose \"New repository\". \n",
    "\n",
    "<img src=\"img/github_newrepo.png\" alt=\"Drawing\" style=\"width: 500px;\"/>"
   ]
  },
  {
   "cell_type": "markdown",
   "metadata": {
    "slideshow": {
     "slide_type": "subslide"
    }
   },
   "source": [
    "Choose a repository name (e.g. Python Textbook, python_textbook, Intro_to_python)\n",
    "\n",
    "<img src=\"img/github_namerepo.jpg\" alt=\"Drawing\" style=\"width: 300px;\"/>"
   ]
  },
  {
   "cell_type": "markdown",
   "metadata": {
    "slideshow": {
     "slide_type": "subslide"
    }
   },
   "source": [
    "Leave the other settings as they are for now.\n",
    "\n",
    "We will learn about these later in the course. \n",
    "\n",
    "Click the button \"Create repository\".\n",
    "\n",
    "<img src=\"img/github_create_repo.jpg\" alt=\"Drawing\" style=\"width: 300px;\"/>"
   ]
  },
  {
   "cell_type": "markdown",
   "metadata": {
    "slideshow": {
     "slide_type": "slide"
    }
   },
   "source": [
    "## Adding Files to an Online Github Repository\n",
    "We are now going to link your local repository (stored on the computer on the M drive) to your online repository (stored at github.com). \n",
    "\n",
    "In the terminal, make sure you are __inside__ the folder named ILAS_python.\n",
    "\n",
    "If you are not, then navigate to the folder using \n",
    "\n",
    ">`cd`\n",
    "\n"
   ]
  },
  {
   "cell_type": "markdown",
   "metadata": {
    "slideshow": {
     "slide_type": "subslide"
    }
   },
   "source": [
    "Enter the username that you registered when setting up your account on GitHub:\n",
    "\n",
    ">`git config --global user.name \"username\"`\n",
    "\n",
    "Enter the email adress that you registered when setting up your account on GitHub:\n",
    "\n",
    ">`git config --global user.email \"your_email@youremail.com\"`"
   ]
  },
  {
   "cell_type": "markdown",
   "metadata": {
    "slideshow": {
     "slide_type": "subslide"
    }
   },
   "source": [
    "Copy the URL of your repo from the \"Quick setup\" section. \n",
    "\n",
    "<img src=\"img/github_copyurl.png\" alt=\"Drawing\" style=\"width: 300px;\"/>\n",
    "\n",
    "__NOTE__ \n",
    "<br>Earlier we copied the URL of __my repository__ (https://github.com/hphilamore/ILAS_python.git).\n",
    "<br>We used it to tell the computer where to copy files __from__.\n",
    "\n",
    "<br>Now we are copying the URL of __your repository__(https://github.com/yourGithub/yourRepo.git).\n",
    "<br>We will now use a similar procedure to tell the computer where it should copy files __to__."
   ]
  },
  {
   "cell_type": "markdown",
   "metadata": {
    "collapsed": true,
    "slideshow": {
     "slide_type": "subslide"
    }
   },
   "source": [
    "First we will disconnect your local repo from __my__ online repo.\n",
    "\n",
    "<br>In the terminal type\n",
    ">`git remote rm origin`\n",
    "\n",
    "<br>The command removes (`rm`) a remote (`remote`) URL from your local repository. \n",
    "\n",
    "`origin` is a name that was given by default to the URL you cloned the repository from). \n",
    "\n"
   ]
  },
  {
   "cell_type": "markdown",
   "metadata": {
    "slideshow": {
     "slide_type": "subslide"
    }
   },
   "source": [
    "Second we will connect your local repo to __your__ online repo.\n",
    "<br>In the terminal type `git remote add origin`\n",
    "<br>After the word `origin` __leave a space__ and then paste the URL that you just copied: \n",
    "\n",
    ">`git remote add origin` &nbsp; PASTE_COPIED_URL_HERE\n",
    "\n",
    "<br>The command connects (`add`) a remote (`remote`) URL to your local repository using:\n",
    "- a name for you remote (let's use origin, again) \n",
    "- a URL (the URL just just copied)"
   ]
  },
  {
   "cell_type": "markdown",
   "metadata": {
    "slideshow": {
     "slide_type": "subslide"
    }
   },
   "source": [
    "  \n",
    "Finally, type:\n",
    ">`git push -u origin master`\n",
    "\n",
    "The command uploads (`push`) the contents of your *local repository* to a *remote repository* using:\n",
    "- a remote name (ours is \"origin\") \n",
    "- a *branch* of your repository (this is a more advanced feature of github. We will use the default branch ony. It is called \"master\")\n",
    "\n",
    "`-u` sets the remote repository, `origin`, (and branch, `master`) as the default. So from now on, you only need to type `git push` to upload the contents of your local repository. \n",
    "\n",
    "A new window may open:\n",
    "\n",
    "<img src=\"img/GitHubLogin.png\" alt=\"Drawing\" style=\"width: 200px;\"/>\n",
    "\n",
    "If a new window opens, enter your github login details then return to the teminal.\n",
    "\n",
    "If the window does not appear, skip this step and return to the teminal.  \n",
    "\n",
    "A prompt to enter your Github login details should have appeared. Enter your login details. \n",
    "\n",
    "<img src=\"img/GitHubTermLogin.png\" alt=\"Drawing\" style=\"width: 500px;\"/>\n",
    "\n",
    "You should see a few lines of code appear, ending with the message:\n",
    "\n",
    ">`Branch master set up to track remote branch master from origin`\n"
   ]
  },
  {
   "cell_type": "markdown",
   "metadata": {
    "slideshow": {
     "slide_type": "subslide"
    }
   },
   "source": [
    "Now look again at your online GitHub page.\n",
    "\n",
    "Click on the \"code\" tab to reload the page.\n",
    "\n",
    "<img src=\"img/github_code.png\" alt=\"Drawing\" style=\"width: 300px;\"/>\n",
    "\n",
    "The textbook (comprising several jupyter notebook (.ipynb) files) should now have appeared in your online repository. "
   ]
  },
  {
   "cell_type": "markdown",
   "metadata": {
    "slideshow": {
     "slide_type": "slide"
    }
   },
   "source": [
    "## Tracking changes using Git\n",
    "\n",
    "Throughout this course you will develop new skills by completing excercises in the interactive textbook.\n",
    "\n",
    "At the end of the course you will have all of your notes and practise excercises in one place, accessible from almost anywhere.\n",
    "\n",
    "Each time you make changes to the textbook, save it and exit it, either in class or at home, track the changes using git abd sync them with the online repository. The following sections will show how to do this. \n",
    "\n",
    "We are now going to:\n",
    " - use Git to record the changes you make to the textbook.\n",
    " - upload it to your online GitHub repository so that you can access it online. "
   ]
  },
  {
   "cell_type": "markdown",
   "metadata": {
    "slideshow": {
     "slide_type": "subslide"
    }
   },
   "source": [
    "Git has a two-step process for saving changes.\n",
    "\n",
    "1. Select files for which to log changes (__\"add\"__)\n",
    "1. Log changes (__\"commit\"__)\n",
    "\n",
    "This is an advanced feature.\n",
    "\n",
    "For now, we will just learn to __add__ all the files in our directory (rather than selecting individual files).\n",
    "\n",
    "When files have been __added__ but not yet __commited__, we say they have been *staged*. \n",
    "\n",
    "<img src=\"img/git-local-workflow.png\" alt=\"Drawing\" style=\"width: 300px;\"/>\n"
   ]
  },
  {
   "cell_type": "markdown",
   "metadata": {
    "slideshow": {
     "slide_type": "subslide"
    }
   },
   "source": [
    "In the terminal type:\n",
    ">`git add -A`\n",
    "\n",
    "to take a snapshot of the changes to all (`-A`) the files in your local directory.\n",
    "<br>This is held at the index (stage).\n",
    "\n",
    "Now type the following, replacing `\"A short message explaining your changes\"` with a message of your own between \" \" quotation marks:\n",
    ">`git commit -m \"A short message explaining your changes\"`\n",
    "\n",
    "\n",
    "to save the changes with a message (`-m`) you can refer to to remind you what you changed. \n",
    "<br>\n",
    "\n",
    "To avoid losing any changes, these commands are usually executed in immediate succession.\n",
    "\n",
    "There is one last __very important step__ we need to do...\n"
   ]
  },
  {
   "cell_type": "markdown",
   "metadata": {
    "slideshow": {
     "slide_type": "slide"
    }
   },
   "source": [
    "## Updating your Online GitHub Repository  \n",
    "\n",
    "We have updated the Git repository held on the computer.\n",
    "\n",
    "The last thing we need to do is to update your online repository. \n",
    "\n",
    "We do this using the `push` command.\n",
    "\n",
    "<img src=\"img/git-local-remote-workflow-cropped.png\" alt=\"Drawing\" style=\"width: 500px;\"/>"
   ]
  },
  {
   "cell_type": "markdown",
   "metadata": {
    "slideshow": {
     "slide_type": "subslide"
    }
   },
   "source": [
    "You used the `push` command when you originally uploaded the textbook to your repository.\n",
    "\n",
    "Enter exactly the same code into the terminal:\n",
    "\n",
    "Type:\n",
    "\n",
    "    git push \n",
    "    \n",
    "Enter your GitHub login details when prompted.  \n"
   ]
  },
  {
   "cell_type": "markdown",
   "metadata": {
    "slideshow": {
     "slide_type": "subslide"
    }
   },
   "source": [
    "### Checking that your changes have appeared in your online repo.\n",
    "\n",
    "Go to your GitHub page in your web browser and open the file 0_Introduction.\n",
    "\n",
    "Scroll down to where you made the change. \n",
    "\n",
    "Hint: look for the marker: \n",
    "\n",
    "<img src=\"img/change.jpg\" alt=\"Drawing\" style=\"width: 100px;\"/>"
   ]
  },
  {
   "cell_type": "markdown",
   "metadata": {
    "slideshow": {
     "slide_type": "slide"
    }
   },
   "source": [
    "<a id='InstallingSoftwareHomeUse'></a>\n",
    "## Installing Git for Home Use \n",
    "\n",
    "It is highly recommended that you download and install the software we will use in class:\n",
    "- Jupyter notebook (anaconda)\n",
    "- Git\n",
    "\n",
    "You will need to use this software to complete homework assigments and prepare for the exam. \n",
    "\n",
    "Both are free to download and install.\n",
    "\n",
    "When running Git you do not need to use the \n",
    "\n"
   ]
  },
  {
   "cell_type": "markdown",
   "metadata": {
    "slideshow": {
     "slide_type": "subslide"
    }
   },
   "source": [
    "Anaconda (which includes Jupyter notebook) can be downloaded from: https://www.anaconda.com/download/\n",
    "><br>Python 3.6 version and Python 2.7 version are available.\n",
    "><br>Choose Python 3.6 version\n",
    "\n",
    "Git can be downloaded from: https://github.com/git-for-windows/git/releases/tag/v2.14.1.windows.1\n",
    ">Choose Git-2.14.1-64-bit.exe if you have a 64 bit operating system.\n",
    "><br> Choose Git-2.14.1-32-bit.exe if you have a 32 bit operating system.\n",
    "\n",
    "An easy to follow download wizard will launch for each piece of software. \n",
    "\n",
    "__NOTE:__ The procedure to install git on your personal computer is different from the method we have used in the \"Installing Git\" Section of this seminar.  \n"
   ]
  },
  {
   "cell_type": "markdown",
   "metadata": {
    "slideshow": {
     "slide_type": "slide"
    }
   },
   "source": [
    "## Installing Git for On-Campus Use\n",
    "\n",
    "Git is only available in the computer lab (Room North wing 21, Academic Center Bldg., Yoshida-South Campus).\n",
    "\n",
    "If you want to use Git on a Kyoto University computer outside of the computer lab you will need install Git in your local user area.\n",
    "\n",
    "The following instructions tell you how to do this. \n",
    "\n",
    "__IMPORTANT NOTE__\n",
    "If you are going to use your personal computer to complete work in/outside of the seminars, you DO NOT need to complete this step.\n",
    "\n",
    "Download the Git program from here:\n",
    "\n",
    "https://github.com/git-for-windows/git/releases/tag/v2.14.1.windows.1\n",
    "\n",
    "The version you need is: \n",
    "\n",
    "PortableGit-2.14.1-32-bit.7z.exe"
   ]
  },
  {
   "cell_type": "markdown",
   "metadata": {
    "slideshow": {
     "slide_type": "subslide"
    }
   },
   "source": [
    "When prompted, choose to __run the file__ 実行(R).\n",
    "\n",
    "<img src=\"img/GitHubInstallRun.png\" alt=\"Drawing\" style=\"width: 200px;\"/>\n",
    "\n",
    "When prompted, change the location to save the file to:\n",
    "\n",
    "M:￥Documents￥PortableGit \n",
    "\n",
    "<img src=\"img/GitLocation.png\" alt=\"Drawing\" style=\"width: 200px;\"/>\n",
    "\n",
    "Press OK\n",
    "\n",
    "The download may take some time. \n",
    "\n",
    "\n",
    "\n",
    "\n"
   ]
  },
  {
   "cell_type": "markdown",
   "metadata": {
    "slideshow": {
     "slide_type": "subslide"
    }
   },
   "source": [
    "Once the download has completed...\n",
    "\n",
    "To open the terminal:\n",
    " - press \"win key\" + \"R\"\n",
    " - type: __cmd__\n",
    " - press enter"
   ]
  },
  {
   "cell_type": "markdown",
   "metadata": {
    "slideshow": {
     "slide_type": "subslide"
    }
   },
   "source": [
    "In the terminal type: \n",
    "\n",
    ">`M:`\n",
    "\n",
    "...and press enter, to switch to the M drive.\n"
   ]
  },
  {
   "cell_type": "markdown",
   "metadata": {
    "slideshow": {
     "slide_type": "subslide"
    }
   },
   "source": [
    "You should see the command prompt change.  \n",
    "\n",
    "\n",
    "<img src=\"img/KUterminalMdrive.png\" alt=\"Drawing\" style=\"width: 700px;\"/>"
   ]
  },
  {
   "cell_type": "markdown",
   "metadata": {
    "collapsed": true,
    "slideshow": {
     "slide_type": "subslide"
    }
   },
   "source": [
    "To navigate to documents type:\n",
    "\n",
    ">`cd Documents`\n",
    "\n",
    "cd stands for \"change directory\".\n",
    "\n",
    "\n"
   ]
  },
  {
   "cell_type": "markdown",
   "metadata": {
    "slideshow": {
     "slide_type": "subslide"
    }
   },
   "source": [
    "You should now see a  folder called PortableGit in the contents list of __Documents__ folder. "
   ]
  },
  {
   "cell_type": "markdown",
   "metadata": {
    "slideshow": {
     "slide_type": "subslide"
    }
   },
   "source": [
    "Type:\n",
    ">cd PortableGit \n",
    "\n",
    "to move into your PortableGit folder.\n",
    "\n",
    "To check git has installed type:\n",
    "\n",
    ">`git-bash.exe`\n",
    "\n",
    "A new terminal window will open. In this window type:\n",
    "\n",
    ">`git --version`\n",
    "\n",
    "If Git has installed, the version of the program will be dipolayed. You should see something like this:\n",
    "\n",
    "<img src=\"img/git-version.gif\" alt=\"Drawing\" style=\"width: 500px;\"/>\n",
    "\n",
    "Close the window."
   ]
  },
  {
   "cell_type": "markdown",
   "metadata": {
    "slideshow": {
     "slide_type": "subslide"
    }
   },
   "source": [
    "The final thing we need to do is to tell the computer where to look for the Git program. \n",
    "\n",
    "Move one step up from the Git folder. In the original terminal window, type:\n",
    "\n",
    "> `cd ..`\n",
    "\n",
    "Now enter the following in the terminal:\n",
    "\n",
    "> PATH=M:¥Documents¥PortableGit¥bin;%PATH%\n",
    "\n",
    "(you may need to have your keyboard set to JP to achieve this)\n",
    "\n",
    "\n",
    "<img src=\"img/windows_change_lang.png\" alt=\"Drawing\" style=\"width: 400px;\"/>\n",
    "\n",
    "\n",
    "You can type this or __copy and paste__ it from the README section on the github page we looked at earlier.\n",
    "\n",
    "<img src=\"img/readme_.png\" alt=\"Drawing\" style=\"width: 500px;\"/>\n",
    "\n",
    "__Whenever to use Git on a Kyoto University computer outside of the computer lab (Room North wing 21, Academic Center Bldg., Yoshida-South Campus), you must first opena  terminal and type the line of code above to tell the computer where to look for the Git program.__ \n",
    "\n",
    "\n"
   ]
  },
  {
   "cell_type": "markdown",
   "metadata": {
    "slideshow": {
     "slide_type": "subslide"
    }
   },
   "source": [
    "The program Git has its own terminal commands.\n",
    "\n",
    "Each one starts with the word `git`\n",
    "\n",
    "You can check git is working by typing:\n",
    "\n",
    ">`git status`\n",
    "\n",
    "You should see something like this:\n",
    "\n",
    "<img src=\"img/git-version.gif\" alt=\"Drawing\" style=\"width: 500px;\"/>\n"
   ]
  },
  {
   "cell_type": "markdown",
   "metadata": {
    "slideshow": {
     "slide_type": "slide"
    }
   },
   "source": [
    "## Creating a Local Repository on your Personal Computer\n",
    "\n",
    "Last week: Local repository created on university M drive.\n",
    "\n",
    "This week: Local repository on your personal computer. \n",
    "\n"
   ]
  },
  {
   "cell_type": "markdown",
   "metadata": {
    "slideshow": {
     "slide_type": "subslide"
    }
   },
   "source": [
    "If you are going to be using your personal computer to complete this course this is the __first thing__ you should do today.\n",
    "\n",
    "\n",
    "\n"
   ]
  },
  {
   "cell_type": "markdown",
   "metadata": {
    "slideshow": {
     "slide_type": "subslide"
    }
   },
   "source": [
    "If you do not have your personal computer with you today, please make sure you have a local repository set up on your personal computer before next week's seminar."
   ]
  },
  {
   "cell_type": "markdown",
   "metadata": {
    "slideshow": {
     "slide_type": "subslide"
    }
   },
   "source": [
    "Luckily, you already know how to create a local repository!\n",
    "\n",
    "The procedure is the same as in last week's seminar.\n",
    "\n",
    "There are just a few small (but important!) differences...\n",
    "\n"
   ]
  },
  {
   "cell_type": "markdown",
   "metadata": {
    "slideshow": {
     "slide_type": "subslide"
    }
   },
   "source": [
    "This time you will clone the textbook from your personal GitHub repository (instead of mine)."
   ]
  },
  {
   "cell_type": "markdown",
   "metadata": {
    "slideshow": {
     "slide_type": "subslide"
    }
   },
   "source": [
    "__STEP 1:__ Make sure Git is installed in your computer.\n",
    "\n",
    "If you have not already installed Git, then go back to <a href='#InstallingSoftwareHomeUse'>Installing Software for Home Use.</a>"
   ]
  },
  {
   "cell_type": "markdown",
   "metadata": {
    "slideshow": {
     "slide_type": "subslide"
    }
   },
   "source": [
    "__STEP 2__: Open the terminal:\n",
    "\n",
    "__On Windows:__\n",
    " - press \"win key\" + \"R\"\n",
    " - type: __cmd__\n",
    " - press enter\n",
    " \n",
    "__On Mac:__\n",
    " - Open the \"Terminal\" application \n",
    " \n",
    "__On Linux:__\n",
    " - Open the \"Terminal\" application \n",
    " \n",
    "or\n",
    " \n",
    " - press \"Ctrl\" + \"Alt\" + \"T\"\n"
   ]
  },
  {
   "cell_type": "markdown",
   "metadata": {
    "slideshow": {
     "slide_type": "subslide"
    }
   },
   "source": [
    "\n",
    "<img src=\"img/KUterminal.png\" alt=\"Drawing\" style=\"width: 500px;\"/>"
   ]
  },
  {
   "cell_type": "markdown",
   "metadata": {
    "slideshow": {
     "slide_type": "subslide"
    }
   },
   "source": [
    "__STEP 3:__ Using `cd`, navigate to where you want the folder containing the textbook to appear. "
   ]
  },
  {
   "cell_type": "markdown",
   "metadata": {
    "slideshow": {
     "slide_type": "subslide"
    }
   },
   "source": [
    "__STEP 4:__ In a web browswer, open your personal Github page that you created earlier.\n",
    "\n",
    "Navigate to the online repository to which you uploaded the textbook. \n",
    "\n",
    "Click the button \"Clone or download\" and copy the link by presssing Ctrl , C\n",
    "\n",
    "<img src=\"img/clone-URL.png\" alt=\"Drawing\" style=\"width: 500px;\"/>\n",
    "\n",
    "\n",
    "\n"
   ]
  },
  {
   "cell_type": "markdown",
   "metadata": {
    "slideshow": {
     "slide_type": "subslide"
    }
   },
   "source": [
    "__STEP 5:__ In the terminal type `git clone`. \n",
    "\n",
    "After the word `clone` __leave a space__ and then paste the URL that you just copied: \n",
    "\n",
    "> `git clone` &nbsp; PASTE_COPIED_URL_HERE\n",
    "\n",
    "\n",
    "\n",
    "`Clone` copies all the files from the repository at the URL you have entered. "
   ]
  },
  {
   "cell_type": "markdown",
   "metadata": {
    "slideshow": {
     "slide_type": "subslide"
    }
   },
   "source": [
    "__STEP 6:__ In the terminal type:\n",
    "\n",
    "> `dir`\n",
    "\n",
    "A folder called \"ILAS_python\" should have appeared. \n",
    "\n",
    "Go into the folder and view the content by typing:\n",
    "\n",
    ">`cd ILAS_python`\n",
    "><br>`dir`  "
   ]
  },
  {
   "cell_type": "markdown",
   "metadata": {
    "slideshow": {
     "slide_type": "subslide"
    }
   },
   "source": [
    "You can now open the notebooks stored in the repository in Jupyter Notebook which you should have installed for homework. "
   ]
  },
  {
   "cell_type": "markdown",
   "metadata": {
    "slideshow": {
     "slide_type": "slide"
    }
   },
   "source": [
    "## Syncronising Repositories\n",
    "\n",
    " You now have three repositiories.\n",
    " <br>__Two Local Repositories__\n",
    " - Kyoto Univeristy M drive\n",
    " - Personal computer\n",
    "  \n",
    "<br>__One Online Repository__\n",
    " - GitHub"
   ]
  },
  {
   "cell_type": "markdown",
   "metadata": {
    "slideshow": {
     "slide_type": "subslide"
    }
   },
   "source": [
    "If you are going to work on your personal computer only..."
   ]
  },
  {
   "cell_type": "markdown",
   "metadata": {
    "slideshow": {
     "slide_type": "subslide"
    }
   },
   "source": [
    "... your life will be very easy."
   ]
  },
  {
   "cell_type": "markdown",
   "metadata": {
    "slideshow": {
     "slide_type": "subslide"
    }
   },
   "source": [
    "You can __ignore__ the repository on the Kyoto University M drive:\n",
    "\n",
    "<img src=\"img/syncing_repos_pushGitHub.png\" alt=\"Drawing\" style=\"width: 300px;\"/>"
   ]
  },
  {
   "cell_type": "markdown",
   "metadata": {
    "slideshow": {
     "slide_type": "subslide"
    }
   },
   "source": [
    "Every time you make a change to your textbook <br>(e.g. at the end of a seminar , after completeing homework), \n",
    "<br>backup your changes to your online repository... "
   ]
  },
  {
   "cell_type": "markdown",
   "metadata": {
    "slideshow": {
     "slide_type": "subslide"
    }
   },
   "source": [
    "#### Pushing Changes to an Online Repository\n",
    "\n",
    "Save your work. \n",
    "\n",
    "Open a terminal\n",
    " \n",
    "Using `cd`, navigate to where you want the folder containing the textbook to appear. \n",
    "\n",
    "In the terminal type:\n",
    ">`git add -A`\n",
    "\n",
    ">`git commit -m \"A short message explaining your changes\"`\n",
    "\n",
    ">`git push`\n",
    "    \n",
    "Enter your GitHub login details when prompted. \n",
    "\n",
    "Your online remote repository should now have been updated."
   ]
  },
  {
   "cell_type": "markdown",
   "metadata": {
    "slideshow": {
     "slide_type": "subslide"
    }
   },
   "source": [
    "### Pushing and Pulling\n",
    "\n",
    "Sometimes we want to update local files with the version in the online repository.\n",
    "\n",
    "This is knowm as *pulling*.\n",
    "\n",
    "<img src=\"img/pull.png\" alt=\"Drawing\" style=\"width: 300px;\"/>\n",
    "\n",
    " "
   ]
  },
  {
   "cell_type": "markdown",
   "metadata": {
    "slideshow": {
     "slide_type": "subslide"
    }
   },
   "source": [
    "#### Reasons to `pull`:\n",
    "- you are using two computers (home and university) and want to sync them\n",
    "- you want to add textbook updates or example solutions"
   ]
  },
  {
   "cell_type": "markdown",
   "metadata": {
    "slideshow": {
     "slide_type": "subslide"
    }
   },
   "source": [
    "### Syncing Home and University Repos\n",
    "\n",
    "If you are going to use the univeristy computers __and__ your personal computer you need a way to sync the two repositories allowing you to work on a single version of the textbook."
   ]
  },
  {
   "cell_type": "markdown",
   "metadata": {
    "slideshow": {
     "slide_type": "subslide"
    }
   },
   "source": [
    "Even if you will mostly use you personal computer this is useful e.g. \n",
    "<br> if you are unable to/ forget to bring your laptop to a seminar. "
   ]
  },
  {
   "cell_type": "markdown",
   "metadata": {
    "slideshow": {
     "slide_type": "subslide"
    }
   },
   "source": [
    "The online repository can be accessed from either a Kyoto University computer or your personal computer.\n",
    "\n",
    "Therefore we will use GitHub as a central repository that we use to pass changes between the two local repositories. \n",
    "\n",
    "<img src=\"img/syncing_repos.png\" alt=\"Drawing\" style=\"width: 300px;\"/>"
   ]
  },
  {
   "cell_type": "markdown",
   "metadata": {
    "slideshow": {
     "slide_type": "subslide"
    }
   },
   "source": [
    "At the end of each work session on you __personal computer__, `PUSH` the changes to GitHub.\n",
    "\n",
    "<img src=\"img/syncing_repos_home_push.png\" alt=\"Drawing\" style=\"width: 300px;\"/>"
   ]
  },
  {
   "cell_type": "markdown",
   "metadata": {
    "slideshow": {
     "slide_type": "subslide"
    }
   },
   "source": [
    ">`git add -A`\n",
    "\n",
    ">`git commit -m \"A short message explaining your changes\"`\n",
    "\n",
    ">`git push`"
   ]
  },
  {
   "cell_type": "markdown",
   "metadata": {
    "slideshow": {
     "slide_type": "subslide"
    }
   },
   "source": [
    "Before starting work on a __univeristy computer__, `PULL` the new changes from the GitHub repository to your local repository on the M drive.\n",
    "\n",
    "<img src=\"img/syncing_repos_home_to_class.png\" alt=\"Drawing\" style=\"width: 300px;\"/>"
   ]
  },
  {
   "cell_type": "markdown",
   "metadata": {
    "slideshow": {
     "slide_type": "subslide"
    }
   },
   "source": [
    "At the end of each work session on a __university computer__, `PUSH` the changes to GitHub.\n",
    "\n",
    "<img src=\"img/syncing_repos_class_push.png\" alt=\"Drawing\" style=\"width: 300px;\"/>"
   ]
  },
  {
   "cell_type": "markdown",
   "metadata": {
    "slideshow": {
     "slide_type": "subslide"
    }
   },
   "source": [
    "Before starting work on your __personal computer__, `PULL` the new changes from the GitHub repository (e.g. before starting your hoemwork). \n",
    "\n",
    "<img src=\"img/syncing_repos_class_to_home.png\" alt=\"Drawing\" style=\"width: 300px;\"/>"
   ]
  },
  {
   "cell_type": "markdown",
   "metadata": {
    "slideshow": {
     "slide_type": "subslide"
    }
   },
   "source": [
    "\n",
    "\n",
    "\n",
    "\n",
    "So how do you *pull* changes? "
   ]
  },
  {
   "cell_type": "markdown",
   "metadata": {
    "slideshow": {
     "slide_type": "subslide"
    }
   },
   "source": [
    "#### Pulling changes from an online repository\n",
    "Open a terminal.\n",
    "\n",
    "Using `cd`, navigate to *inside* the ILAS_python folder in which your textbook is stored. "
   ]
  },
  {
   "cell_type": "markdown",
   "metadata": {
    "slideshow": {
     "slide_type": "subslide"
    }
   },
   "source": [
    "Usually we type:\n",
    "\n",
    ">`git fetch origin`\n",
    "\n",
    ">`git merge origin/master`"
   ]
  },
  {
   "cell_type": "markdown",
   "metadata": {
    "slideshow": {
     "slide_type": "subslide"
    }
   },
   "source": [
    "Jupyter notebook files, store information such as how many times you have run a cell. \n",
    "<br>This can cause *conflicts* between repositories that are difficult to fix.\n",
    "\n",
    "Resolving conflicts is a more advanced topic that we may briefly study later in the course."
   ]
  },
  {
   "cell_type": "markdown",
   "metadata": {
    "slideshow": {
     "slide_type": "subslide"
    }
   },
   "source": [
    "At a more basic, level, to avoid this problem we are going to instead type:\n",
    ">`git fetch origin`\n",
    "\n",
    ">`git merge -X theirs origin/master`"
   ]
  },
  {
   "cell_type": "markdown",
   "metadata": {
    "slideshow": {
     "slide_type": "subslide"
    }
   },
   "source": [
    "This overrides any changes to the local repository with those \n",
    "\n",
    "Enter your GitHub login details when prompted. \n",
    "\n",
    "The local repository on the M drive should have now been updated.  \n",
    "\n",
    "Let's review the pulling from your remote repository..."
   ]
  },
  {
   "cell_type": "markdown",
   "metadata": {
    "slideshow": {
     "slide_type": "subslide"
    }
   },
   "source": [
    "    \n",
    "Open a terminal.\n",
    "\n",
    "Using `cd`, navigate to *inside* the folder in which your textbook is stored. \n",
    "\n",
    "In the terminal type:\n",
    "\n",
    ">`git fetch origin`\n",
    "\n",
    ">`git merge -X theirs origin/master`"
   ]
  },
  {
   "cell_type": "markdown",
   "metadata": {
    "slideshow": {
     "slide_type": "subslide"
    }
   },
   "source": [
    "#### Avoiding Conflict \n",
    "\n",
    "*Git was made by programmers for programmers.*\n",
    "\n",
    "It is easy to break your repository system."
   ]
  },
  {
   "cell_type": "markdown",
   "metadata": {
    "slideshow": {
     "slide_type": "subslide"
    }
   },
   "source": [
    "If the online repository is *ahead* of the local repository you are currently working on (ie. it has been updated from another local repository), \n",
    "\n",
    "you must __pull__ the updates from the online repository \n",
    "\n",
    "before you can __push__ to the online repository. "
   ]
  },
  {
   "cell_type": "markdown",
   "metadata": {
    "slideshow": {
     "slide_type": "subslide"
    }
   },
   "source": [
    "If you begin working on a local repository *before* pulling the most recent changes, you may cause conflicts between the version held locally and the version held online. \n",
    "\n",
    "These can be difficult to resolve."
   ]
  },
  {
   "cell_type": "markdown",
   "metadata": {
    "slideshow": {
     "slide_type": "subslide"
    }
   },
   "source": [
    "Therefore, it is best practise to always:\n",
    "- __push__ your changes at the end of a work session\n",
    "- __pull__ your changes at the begining of a work session __on a different computer__"
   ]
  },
  {
   "cell_type": "markdown",
   "metadata": {
    "slideshow": {
     "slide_type": "subslide"
    }
   },
   "source": [
    "Stick to this simple system of pushing and pulling and you will avoid difficulties."
   ]
  },
  {
   "cell_type": "markdown",
   "metadata": {
    "slideshow": {
     "slide_type": "slide"
    }
   },
   "source": [
    "## Pulling from an \"Uptream\" Repository <br> e.g. Adding Review Exercise Solutions to your Textbook\n",
    "\n",
    "Sometimes you need to pull changes from an online repository other than your personal GitHub repository."
   ]
  },
  {
   "cell_type": "markdown",
   "metadata": {
    "slideshow": {
     "slide_type": "subslide"
    }
   },
   "source": [
    "The original repository from which you cloned the textbook will change during the course: \n",
    "- example solutions to the previous seminars review exercisess will be added weekly.\n",
    "- new chapters will be added before the second half of the course begins."
   ]
  },
  {
   "cell_type": "markdown",
   "metadata": {
    "slideshow": {
     "slide_type": "subslide"
    }
   },
   "source": [
    "To __pull__ these changes, you need to connect your local repository to the online repositories where these changes will be held. "
   ]
  },
  {
   "cell_type": "markdown",
   "metadata": {
    "slideshow": {
     "slide_type": "subslide"
    }
   },
   "source": [
    "### Adding an Online Repository\n",
    "\n",
    "Open a terminal. \n",
    "\n",
    "Using `cd`, navigate to *inside* the folder in which your textbook is stored.\n",
    "\n",
    "Check that your local and online repositories are syncronised. __pull__ and __push__ as necessary."
   ]
  },
  {
   "cell_type": "markdown",
   "metadata": {
    "slideshow": {
     "slide_type": "subslide"
    }
   },
   "source": [
    "You only need to add the URL of the remote repository the first time you pull upstream chnages.\n",
    "\n",
    "To add a remote repository, in the terminal type the following (noting that there are no line breaks):\n",
    ">`git remote add upstream https://github.com/hphilamore/ILAS_python.git`\n",
    "\n",
    "The command connects (`remote add`) the online repository from which we originally cloned the textbook to our local repository. \n",
    "<br>The original repository is named `upstream` to distinguish it from our main online repository, `origin`.\n",
    "<br>You can use any name but `upstream` is a commonly used example."
   ]
  },
  {
   "cell_type": "markdown",
   "metadata": {
    "collapsed": true,
    "slideshow": {
     "slide_type": "subslide"
    }
   },
   "source": [
    "### Pulling from an \"Uptream\" RepositoryIn the terminal type:\n",
    "In the terminal type:\n",
    "\n",
    ">`git fetch upstream`\n",
    "\n",
    ">`git merge -X theirs upstream/master`\n",
    "\n"
   ]
  },
  {
   "cell_type": "markdown",
   "metadata": {
    "slideshow": {
     "slide_type": "subslide"
    }
   },
   "source": [
    "You may find that the temrinal is suspended and the following message shows:\n",
    "\n",
    "<img src=\"img/merge_terminal-commit_message_prompt.png\" alt=\"Drawing\" style=\"width: 500px;\"/>\n",
    "\n",
    "Git is asking for a commit message to label the merge.\n",
    "\n",
    "Git pre-populates the message for you.\n",
    "\n",
    "You can just save and exit by pressing \"Ctrl\" + \"X\".\n",
    "\n",
    "Or, if you want to, you can enter a commit message by: \n",
    "\n",
    "1. pressing \"i\" (to enter interactive mode)\n",
    "2. writing your merge message\n",
    "3. pressing \"esc\"\n",
    "4. writng \":wq\"\n",
    "5. then pressing enter to exit"
   ]
  },
  {
   "cell_type": "markdown",
   "metadata": {
    "slideshow": {
     "slide_type": "subslide"
    }
   },
   "source": [
    "Updates to the original version of the textbook should now be incorporated with your local version. "
   ]
  },
  {
   "cell_type": "markdown",
   "metadata": {
    "slideshow": {
     "slide_type": "subslide"
    }
   },
   "source": [
    "Lastly, push the changes to your __personal__ online repository.\n",
    "<br>Type:\n",
    ">`git push`"
   ]
  },
  {
   "cell_type": "markdown",
   "metadata": {
    "slideshow": {
     "slide_type": "subslide"
    }
   },
   "source": [
    "#### Avoiding Conflict \n",
    "\n",
    "- To avoid conflict when pulling updates it is part particularly important to stick to the format of the textbook.\n",
    "\n",
    "- Use the boxes provided when completeing in-class and review exercises. \n",
    "\n",
    "- follow the __push__...__pull__...__push__... working format when using more than one computer.\n"
   ]
  },
  {
   "cell_type": "markdown",
   "metadata": {
    "collapsed": true,
    "slideshow": {
     "slide_type": "subslide"
    }
   },
   "source": [
    "#### Recap\n",
    "\n",
    "The __first time__ you pull changes from an upstream repository:\n",
    "\n",
    "Open a terminal. \n",
    "\n",
    "Using `cd`, navigate to *inside* the folder in which your textbook is stored.\n",
    "\n",
    "In the terminl type:\n",
    "\n",
    ">`git remote add upstream https://github.com/hphilamore/ILAS_python.git`\n",
    "\n",
    ">`git fetch upstream`\n",
    "\n",
    ">`git merge -X theirs upstream/master`\n",
    "\n",
    ">`git push`"
   ]
  },
  {
   "cell_type": "markdown",
   "metadata": {
    "slideshow": {
     "slide_type": "subslide"
    }
   },
   "source": [
    "After the first time, you can omit the line:\n",
    "<br>`git remote add upstream https://github.com/hphilamore/ILAS_python.git`\n",
    "<br>You only need to enter:\n",
    "\n",
    ">`git fetch upstream`\n",
    "\n",
    ">`git merge -X theirs upstream/master`\n",
    "\n",
    ">`git push`"
   ]
  },
  {
   "cell_type": "markdown",
   "metadata": {
    "slideshow": {
     "slide_type": "subslide"
    }
   },
   "source": [
    "Practise pulling the updated version of the textbook.\n",
    "\n",
    "Use your personal laptop if you have it (you must already have a local repository set up).\n",
    "\n",
    "Otherwise use a university computer. "
   ]
  },
  {
   "cell_type": "markdown",
   "metadata": {
    "collapsed": true,
    "slideshow": {
     "slide_type": "slide"
    }
   },
   "source": [
    "## Setting up a new Git repository\n",
    "\n",
    "Hopefully you will want to start using Git for version control of other projects.\n",
    "\n",
    "So far you have set up each new repository to contain a clone of another repository. \n",
    "\n",
    "The clone includes a `.git` folder, which is already set up to track the contents of the repository and contains the history of these files."
   ]
  },
  {
   "cell_type": "markdown",
   "metadata": {
    "collapsed": true,
    "slideshow": {
     "slide_type": "subslide"
    }
   },
   "source": [
    "The files to track need to be contained within a folder. \n",
    "\n",
    "Either create a folder and navigate into it using the command line (use `cd`), \n",
    "<br>or navigate into an existing folder that you want to track the contents of. \n",
    "\n",
    "In ther terminal type:\n",
    "\n",
    "> git init\n",
    "\n",
    "This command initialises (`init`) the directory as a Git repository."
   ]
  },
  {
   "cell_type": "markdown",
   "metadata": {
    "slideshow": {
     "slide_type": "subslide"
    }
   },
   "source": [
    "You can now use the steps you are already familar with to commit chnages to the files within the folder. \n",
    "\n",
    ">`git add -A`\n",
    "\n",
    ">`git commit -m \"A short message explaining your changes\"`"
   ]
  },
  {
   "cell_type": "markdown",
   "metadata": {
    "collapsed": true,
    "slideshow": {
     "slide_type": "subslide"
    }
   },
   "source": [
    "Create a remote repository on GitHub to track your project. \n",
    "<br><a href='#Creating_Online_GitHub_Repository'>Jump to Creating an Online GitHub Repository</a>"
   ]
  },
  {
   "cell_type": "markdown",
   "metadata": {
    "slideshow": {
     "slide_type": "subslide"
    }
   },
   "source": [
    "Copy the URL of your repo from the \"Quick setup\" section. \n",
    "\n",
    "<img src=\"img/github_copyurl.png\" alt=\"Drawing\" style=\"width: 300px;\"/>"
   ]
  },
  {
   "cell_type": "markdown",
   "metadata": {
    "slideshow": {
     "slide_type": "subslide"
    }
   },
   "source": [
    "Notice that the instructions to set up a new repository and connect it to a GitHub remote repo are given on the same page as the URL you have just copied. \n",
    "\n",
    "<img src=\"img/new_repo_on_cmd_line.jpg\" alt=\"Drawing\" style=\"width: 300px;\"/>\n",
    "\n"
   ]
  },
  {
   "cell_type": "markdown",
   "metadata": {
    "slideshow": {
     "slide_type": "subslide"
    }
   },
   "source": [
    "The additional steps are best practise but not essential:\n",
    "\n",
    "> echo \"# your_repo\" >> README.md\n",
    "\n",
    "(where `your_repo` is the name of your remote repository)<br>\n",
    "Creates a file called README in which you can place instructions to users of your code.<br>\n",
    "\n",
    "> git add README.md\n",
    "\n",
    "This shows how to add a single file, README.md, to your repository.\n",
    "\n",
    "Running:\n",
    "\n",
    "> git add -A\n",
    "\n",
    "instead or afterwards, adds all files in the repository. \n",
    "\n",
    "\n",
    "\n"
   ]
  },
  {
   "cell_type": "markdown",
   "metadata": {
    "slideshow": {
     "slide_type": "subslide"
    }
   },
   "source": [
    "To connnect your local repo to __your__ online repo.\n",
    "<br>In the terminal type `git remote add origin`\n",
    "<br>After the word `origin` __leave a space__ and then paste the URL that you just copied: \n",
    "\n",
    ">`git remote add origin` &nbsp; PASTE_COPIED_URL_HERE"
   ]
  },
  {
   "cell_type": "markdown",
   "metadata": {
    "slideshow": {
     "slide_type": "subslide"
    }
   },
   "source": [
    "  \n",
    "Finally, type:\n",
    ">`git push -u origin master`\n",
    "\n",
    "A new window may open:\n",
    "\n",
    "<img src=\"img/GitHubLogin.png\" alt=\"Drawing\" style=\"width: 200px;\"/>\n",
    "\n",
    "If a new window opens, enter your github login details then return to the teminal.\n",
    "\n",
    "If the window does not appear, skip this step and return to the teminal.  \n",
    "\n",
    "A prompt to enter your Github login details should have appeared. Enter your login details. \n",
    "\n",
    "<img src=\"img/GitHubTermLogin.png\" alt=\"Drawing\" style=\"width: 500px;\"/>\n",
    "\n",
    "You should see a few lines of code appear, ending with the message:\n",
    "\n",
    ">`Branch master set up to track remote branch master from origin`\n"
   ]
  },
  {
   "cell_type": "markdown",
   "metadata": {
    "slideshow": {
     "slide_type": "subslide"
    }
   },
   "source": [
    "__Hint: If you get stuck mid-way through an operation__\n",
    "<br>e.g. enter the wrong user name:\n",
    "<br>pressing \"Crtl\" + \"C\" breaks out of your current operation."
   ]
  },
  {
   "cell_type": "markdown",
   "metadata": {
    "slideshow": {
     "slide_type": "subslide"
    }
   },
   "source": [
    "Now look again at your online GitHub page.\n",
    "\n",
    "Click on the \"code\" tab to reload the page.\n",
    "\n",
    "<img src=\"img/github_code.png\" alt=\"Drawing\" style=\"width: 300px;\"/>\n",
    "\n",
    "The contents of your loca repository should now have appeared in your online repository. "
   ]
  },
  {
   "cell_type": "markdown",
   "metadata": {
    "collapsed": true,
    "slideshow": {
     "slide_type": "slide"
    }
   },
   "source": [
    "## `revert`\n",
    "One useful thing about storing a project using Git is that we can easily revert back to a previous version if we mess everything up. \n",
    "\n",
    "Even more useful is that, instead of *deleting* the most recent commit from the project history, Git creates a new commit.\n",
    "\n",
    "The new commit contains the reverted repository i.e. with the changes since the previous commit removed.\n",
    "\n"
   ]
  },
  {
   "cell_type": "markdown",
   "metadata": {
    "slideshow": {
     "slide_type": "subslide"
    }
   },
   "source": [
    "<img src=\"img/gitrevert.png\" alt=\"Drawing\" style=\"width: 30%;\"/>"
   ]
  },
  {
   "cell_type": "markdown",
   "metadata": {
    "slideshow": {
     "slide_type": "subslide"
    }
   },
   "source": [
    "This is the safest way to make changes to a project as it means we never lose any work done on a file."
   ]
  },
  {
   "cell_type": "markdown",
   "metadata": {
    "slideshow": {
     "slide_type": "subslide"
    }
   },
   "source": [
    "Let's say you make some changes...\n",
    "<br>...but those changes introduce a bug...\n",
    "<br>...but you can't work out how the bug occurred...\n",
    "<br>...you can revert back to before the bug appeared \n",
    "<br> and slowly re-introduce the changes using the committed code (with the bug) as a reference. \n"
   ]
  },
  {
   "cell_type": "markdown",
   "metadata": {
    "collapsed": true,
    "slideshow": {
     "slide_type": "subslide"
    }
   },
   "source": [
    "__first commit__ : \n",
    "     \n",
    "     print(\"Hello World!\")  \n",
    " \n",
    "__second commit__ : \n",
    "\n",
    "    print(\"Hello World!\")\n",
    "    print(\"How's it going?\")\n",
    "    \n",
    "After the revert a new commit is created.\n",
    "    \n",
    "__third commit__ : \n",
    "     \n",
    "     print(\"Hello World!\") "
   ]
  },
  {
   "cell_type": "markdown",
   "metadata": {
    "slideshow": {
     "slide_type": "subslide"
    }
   },
   "source": [
    "### How to use revert.\n",
    "\n",
    "Let's say we have a repository, a folder called `my_project`.\n",
    "<br>`my_project` contains a file.\n",
    "\n",
    "In the terminal, from within `my_project`,\n",
    "<br>`ls` (on mac) or `dir` (on PC) lists the contents of `my_project`:\n",
    "\n",
    "     $ ls\n",
    "     file1.py\t"
   ]
  },
  {
   "cell_type": "markdown",
   "metadata": {
    "slideshow": {
     "slide_type": "subslide"
    }
   },
   "source": [
    "Make some changes to `file1.py`\n",
    "\n",
    "    git add -A\n",
    "    git commit -m \"first commit\"\n",
    "    \n",
    "Make some more changes to `file1.py`\n",
    "\n",
    "    git add -A\n",
    "    git commit -m \"second commit\""
   ]
  },
  {
   "cell_type": "markdown",
   "metadata": {
    "slideshow": {
     "slide_type": "subslide"
    }
   },
   "source": [
    "If I revert the repository:\n",
    "    \n",
    "    git revert HEAD\n",
    "    \n",
    "    "
   ]
  },
  {
   "cell_type": "markdown",
   "metadata": {
    "collapsed": true,
    "slideshow": {
     "slide_type": "subslide"
    }
   },
   "source": [
    "A message will appear\n",
    "Revert \"second commit\"\n",
    "\n",
    "    This reverts commit 41c1b5d2c0c116efe64a851fec85f55e418622b8.\n",
    "\n",
    "    # Please enter the commit message for your changes. Lines starting\n",
    "    # with '#' will be ignored, and an empty message aborts the commit.\n",
    "    # On branch master\n",
    "    # Changes to be committed:\n",
    "    #       modified:   file1.py\n"
   ]
  },
  {
   "cell_type": "markdown",
   "metadata": {
    "slideshow": {
     "slide_type": "subslide"
    }
   },
   "source": [
    "As it says in the message, you can enter a commit message here.\n",
    "\n",
    "To accept the default message press 'Ctrl' + 'X'"
   ]
  },
  {
   "cell_type": "markdown",
   "metadata": {
    "slideshow": {
     "slide_type": "subslide"
    }
   },
   "source": [
    "I can view the \n",
    " - ID number of the commit \n",
    " - changes made\n",
    " \n",
    "using:\n",
    "\n",
    "    $ git log -p\n",
    "    \n",
    "Or to limit the number of log entries.\n",
    "<br>Example : Show last two entries:\n",
    "    \n",
    "    $ git log -p -2"
   ]
  },
  {
   "cell_type": "markdown",
   "metadata": {
    "slideshow": {
     "slide_type": "subslide"
    }
   },
   "source": [
    "    commit b2682aff2d79850c50f3b14fb54f7925a7e9010a (HEAD -> master)\n",
    "    Author: hphilamore <hemmaphilamore@gmail.com>\n",
    "    Date:   Tue Dec 19 13:54:16 2017 +0900\n",
    "\n",
    "        revert \"second commit\"\n",
    "        \n",
    "        This reverts commit e5c37ff5a0879b5e1db72bc7bf5c54e73c107351\n",
    "\n",
    "    diff --git a/file1.py b/file1.py\n",
    "    index bae781c..51c3143 100644\n",
    "    --- a/file1.py\n",
    "    +++ b/file1.py\n",
    "    @@ -1,2 +1,3 @@\n",
    "     print(\"Hello World!\")\n",
    "\n",
    "    commit e5c37ff5a0879b5e1db72bc7bf5c54e73c107351\n",
    "    Author: hphilamore <hemmaphilamore@gmail.com>\n",
    "    Date:   Tue Dec 19 13:53:44 2017 +0900\n",
    "\n",
    "        second commit\n",
    "\n",
    "    diff --git a/file1.py b/file1.py\n",
    "    index f301245..bae781c 100644\n",
    "    --- a/file1.py\n",
    "    +++ b/file1.py\n",
    "    @@ -1 +1,2 @@\n",
    "     print(\"Hello World!\")\n",
    "    +print(\"How's it going?\")"
   ]
  },
  {
   "cell_type": "markdown",
   "metadata": {
    "slideshow": {
     "slide_type": "subslide"
    }
   },
   "source": [
    " - press enter to show more of the log\n",
    " - press q to exit the log"
   ]
  },
  {
   "cell_type": "markdown",
   "metadata": {
    "collapsed": true,
    "slideshow": {
     "slide_type": "subslide"
    }
   },
   "source": [
    "To revert to a commit more than one step back:\n",
    "    \n",
    "    $ git revert HEAD~2\n",
    "    \n",
    "The number after `HEAD~` indicates how many commits to go back. \n",
    "<br>Like indexing, counting starts at 0 \n"
   ]
  },
  {
   "cell_type": "markdown",
   "metadata": {
    "slideshow": {
     "slide_type": "subslide"
    }
   },
   "source": [
    "In the example prograssion of the contents of a file...\n",
    "\n",
    "__file1.py contents__ : \n",
    "<br>`print(\"Hello World!\") --->  print(\"Hello Julia!\")  --->   print(\"Hello Taichi!\")   --->   print(\"Hello Katharina!\")`\n",
    "\n",
    "`git revert HEAD~2` would revert the contents from `print(\"Hello Katharina!\")` to `print(\"Hello Taichi!\")`"
   ]
  },
  {
   "cell_type": "markdown",
   "metadata": {
    "slideshow": {
     "slide_type": "subslide"
    }
   },
   "source": [
    "This time, you may see an error appear:\n",
    "    \n",
    "    error: could not revert 15efe0e... c2\n",
    "    hint: after resolving the conflicts, mark the corrected paths\n",
    "    hint: with 'git add <paths>' or 'git rm <paths>'\n",
    "    hint: and commit the result with 'git commit'\n"
   ]
  },
  {
   "cell_type": "markdown",
   "metadata": {
    "slideshow": {
     "slide_type": "subslide"
    }
   },
   "source": [
    "The commit message in the first line will be your own personal one.\n",
    "\n",
    "You are seeing this error because Git has recognised that there were other changes made to this particular part of the code between the commit you are reverting from and the commit you are reverting to. \n",
    "\n",
    "Git checks which version you want... "
   ]
  },
  {
   "cell_type": "markdown",
   "metadata": {
    "slideshow": {
     "slide_type": "subslide"
    }
   },
   "source": [
    "`file1.py` contents at last commit:\n",
    "\n",
    "    print(\"Hello Katharina!\")"
   ]
  },
  {
   "cell_type": "markdown",
   "metadata": {
    "slideshow": {
     "slide_type": "subslide"
    }
   },
   "source": [
    "`file1.py` contents after revert:\n",
    "\n",
    "    <<<<<<< HEAD\n",
    "    print(\"Hello Katharina!\")\n",
    "    =======\n",
    "    print(\"Hello World!\")\n",
    "    >>>>>>> parent of 15efe0e... c2"
   ]
  },
  {
   "cell_type": "markdown",
   "metadata": {
    "slideshow": {
     "slide_type": "subslide"
    }
   },
   "source": [
    "Choose which version of the code you want (most likely the older version).\n",
    "<br>Delete the other code and the markers."
   ]
  },
  {
   "cell_type": "markdown",
   "metadata": {},
   "source": [
    "`file1.py` contents:\n",
    "\n",
    "    print(\"Hello World!\")\n"
   ]
  },
  {
   "cell_type": "markdown",
   "metadata": {
    "slideshow": {
     "slide_type": "subslide"
    }
   },
   "source": [
    "Commit your changes as usual:\n",
    "    \n",
    "    git add -A\n",
    "    git commit -m \"reverted to 2 versions previous\"\n",
    "    "
   ]
  },
  {
   "cell_type": "code",
   "execution_count": null,
   "metadata": {
    "collapsed": true
   },
   "outputs": [],
   "source": []
  }
 ],
 "metadata": {
  "celltoolbar": "Slideshow",
  "kernelspec": {
   "display_name": "Python 3",
   "language": "python",
   "name": "python3"
  },
  "language_info": {
   "codemirror_mode": {
    "name": "ipython",
    "version": 3
   },
   "file_extension": ".py",
   "mimetype": "text/x-python",
   "name": "python",
   "nbconvert_exporter": "python",
   "pygments_lexer": "ipython3",
   "version": "3.6.5"
  }
 },
 "nbformat": 4,
 "nbformat_minor": 2
}
