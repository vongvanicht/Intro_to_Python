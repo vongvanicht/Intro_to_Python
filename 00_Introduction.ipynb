{
 "cells": [
  {
   "cell_type": "markdown",
   "metadata": {
    "slideshow": {
     "slide_type": "slide"
    }
   },
   "source": [
    "# Introduction to Programming for Engineers\n",
    "\n",
    "## Python 3\n",
    "\n"
   ]
  },
  {
   "cell_type": "markdown",
   "metadata": {
    "slideshow": {
     "slide_type": "slide"
    }
   },
   "source": [
    "\n",
    "### Who am I?\n",
    "\n",
    " - Name: __Hemma__ (名) __Philamore__ (姓)\n",
    " - Country: __England__ \n",
    " - Lab: __Matsuno mechatronics lab__, Kyoto University, Katsura Campus\n",
    " - Research: __Bio-inspired, energy-autonomous robots__\n",
    " - Contact: __philamore.hemma.5s@kyoto-u.ac.jp__ \n",
    " <img src=\"img/row_bot.jpg\" alt=\"Drawing\" style=\"width: 300px;\"/>\n",
    "\n"
   ]
  },
  {
   "cell_type": "markdown",
   "metadata": {
    "slideshow": {
     "slide_type": "slide"
    }
   },
   "source": [
    "### Teaching Assistant \n",
    "Ask him anything.\n",
    "<br>He speaks excellent Japanese!"
   ]
  },
  {
   "cell_type": "markdown",
   "metadata": {
    "slideshow": {
     "slide_type": "slide"
    }
   },
   "source": [
    "### Who are you?\n",
    "\n",
    "Please write your personal information on the sheet:\n",
    " - Name\n",
    " - Email address (that you will use to submit homework)\n",
    " - Major\n",
    " - Year of study\n",
    " - Names of other courses that you are taking this year. "
   ]
  },
  {
   "cell_type": "markdown",
   "metadata": {
    "slideshow": {
     "slide_type": "slide"
    }
   },
   "source": [
    "Today is an introductory seminar.\n",
    "\n",
    "- Course content\n",
    "- How to access the course material.\n",
    "- Software.\n",
    "- Assessment. \n",
    "- Homework and class necessary class preparation.\n",
    "- Software Installation\n"
   ]
  },
  {
   "cell_type": "markdown",
   "metadata": {
    "slideshow": {
     "slide_type": "slide"
    }
   },
   "source": [
    "## Why study programming?\n",
    "- Increased use of computing in everyday life.\n",
    "- A tool you can use for the other subject you study. \n",
    "- A growing sector of the jobs market.\n",
    "- Coding in jobs, not traditionally related to computing.\n",
    "- It's fun!"
   ]
  },
  {
   "cell_type": "markdown",
   "metadata": {
    "slideshow": {
     "slide_type": "slide"
    }
   },
   "source": [
    "## Why study Python?\n",
    " - Free and open source\n",
    " - Easy to learn\n",
    " - \"High level\" \n",
    " - Community\n",
    " - Increasingly used in industry\n",
    " "
   ]
  },
  {
   "cell_type": "markdown",
   "metadata": {
    "slideshow": {
     "slide_type": "slide"
    }
   },
   "source": [
    "## Why study Python?\n",
    "- Fast development/progression time.\n",
    "<img src=\"img/optimizing-what.png\" width=\"600\">\n",
    " "
   ]
  },
  {
   "cell_type": "markdown",
   "metadata": {
    "slideshow": {
     "slide_type": "slide"
    }
   },
   "source": [
    "## Course Goal\n",
    "\n",
    "To develop:\n",
    "\n",
    "- A good standalone programming toolkit.\n",
    "- Skills to improve the quality of your work in other subjects. \n",
    "- A fundamental base from which to start developing further as a programmer. \n"
   ]
  },
  {
   "cell_type": "markdown",
   "metadata": {
    "slideshow": {
     "slide_type": "slide"
    }
   },
   "source": [
    "## Course Entry Level\n",
    "\n",
    "Beginner, no prior programming knowlegde.\n",
    "<br>First year (and upwards), engineering / engineering-related major. "
   ]
  },
  {
   "cell_type": "markdown",
   "metadata": {
    "slideshow": {
     "slide_type": "slide"
    }
   },
   "source": [
    "## Computers\n",
    "\n",
    "Please use your personal computers for this course.\n",
    "<br>You will need to install two things.\n",
    "- Anaconda\n",
    "- git\n",
    "\n",
    "<br>\n",
    "Lab PCs may also be used."
   ]
  },
  {
   "cell_type": "markdown",
   "metadata": {
    "slideshow": {
     "slide_type": "slide"
    }
   },
   "source": [
    "- __Course content__\n",
    "- How to access the course material\n",
    "- Software\n",
    "- Assessment\n",
    "- Homework and class necessary class preparation\n",
    "- Software Installation\n"
   ]
  },
  {
   "cell_type": "markdown",
   "metadata": {
    "slideshow": {
     "slide_type": "slide"
    }
   },
   "source": [
    "## Course Content\n",
    "\n",
    "- __Fundamental of Programming__ (~3 weeks)\n",
    "   - Basic Operators, Data Types and Control Flow\n",
    "   - Data structures and Imported Packages\n",
    "   - Functions\n",
    "- __Applications of programming__ (~8 weeks)\n",
    "   - Modelling\n",
    "   - Simulation\n",
    "   - Data analysis and statistics.\n",
    "- __Managing your code__ (~2 weeks)\n",
    "   - Testing and error handling\n",
    "   - Version control "
   ]
  },
  {
   "cell_type": "markdown",
   "metadata": {
    "slideshow": {
     "slide_type": "slide"
    }
   },
   "source": [
    "## Version Control and Testing\n",
    "\n",
    " - Code management skills. \n",
    " - Essential techniques used by professional programmers. \n",
    " - Storing, documenting, and sharing your code with others.\n",
    " - Improve the quality of your work. "
   ]
  },
  {
   "cell_type": "markdown",
   "metadata": {
    "collapsed": true,
    "slideshow": {
     "slide_type": "slide"
    }
   },
   "source": [
    "<table><tr><td> \n",
    "<img src='img/ginea_pigs1.jpg' style=\"width: 300px;\"> </td><td> \n",
    "<img src='img/ginea_pigs2.jpg' style=\"width: 300px;\"> </td><td> \n",
    "<img src='img/ginea_pigs3.jpg' style=\"width: 300px;\"> </td></tr>\n",
    "</table>"
   ]
  },
  {
   "cell_type": "markdown",
   "metadata": {
    "slideshow": {
     "slide_type": "slide"
    }
   },
   "source": [
    "- Course content\n",
    "- __How to access the course material__\n",
    "- Software\n",
    "- Assessment\n",
    "- Homework and class necessary class preparation\n",
    "- Software Installation"
   ]
  },
  {
   "cell_type": "markdown",
   "metadata": {
    "slideshow": {
     "slide_type": "slide"
    }
   },
   "source": [
    "## How To Access the Course Material\n",
    "\n",
    "The course notes can be downloaded from:\n",
    "<br>https://github.com/hphilamore/ILAS_Python_for_engineers"
   ]
  },
  {
   "cell_type": "markdown",
   "metadata": {
    "slideshow": {
     "slide_type": "slide"
    }
   },
   "source": [
    "You will use the command line to download the course notes.\n",
    "\n",
    "This will allow yout to:\n",
    "1. Edit the course notes in class\n",
    "1. Download updated notes, solutions to exercises, corrections *without* overwriting the notes you already have. \n",
    "\n",
    "\n",
    "\n"
   ]
  },
  {
   "cell_type": "markdown",
   "metadata": {
    "slideshow": {
     "slide_type": "slide"
    }
   },
   "source": [
    "## Introduction to the Command Line. \n",
    "\n",
    "Let's open a terminal...\n",
    "\n",
    "On a Windows PC:\n",
    " - press \"win key\" + \"R\"\n",
    " - type: __cmd__\n",
    " - press enter\n",
    "\n",
    "On a Mac:\n",
    " - open Applications >> Utilities >> Terminal\n"
   ]
  },
  {
   "cell_type": "markdown",
   "metadata": {
    "slideshow": {
     "slide_type": "slide"
    }
   },
   "source": [
    "A terminal will launch.\n",
    "\n",
    "Using the terminal, you will navigate to where you want to store the course notes. \n",
    "\n"
   ]
  },
  {
   "cell_type": "markdown",
   "metadata": {
    "slideshow": {
     "slide_type": "slide"
    }
   },
   "source": [
    "Type:\n",
    "\n",
    ">`dir`\n",
    "\n",
    "..and press enter.\n",
    "\n",
    "You will see all the folders in your personal user area."
   ]
  },
  {
   "cell_type": "markdown",
   "metadata": {
    "slideshow": {
     "slide_type": "slide"
    }
   },
   "source": [
    "We can move down the filesystem of the computer by typing:\n",
    "\n",
    ">`cd`\n",
    "\n",
    "followed by the name of the folder we want to move to.\n",
    "\n",
    ">`cd Documents`\n",
    "\n"
   ]
  },
  {
   "cell_type": "markdown",
   "metadata": {
    "slideshow": {
     "slide_type": "slide"
    }
   },
   "source": [
    "The folder must be:\n",
    " - on the same branch\n",
    " - one step from our current location\n",
    "\n",
    "<img src=\"img/directory_tree.gif\" alt=\"Drawing\" style=\"width: 400px;\"/>"
   ]
  },
  {
   "cell_type": "markdown",
   "metadata": {
    "slideshow": {
     "slide_type": "slide"
    }
   },
   "source": [
    "Type:\n",
    "    \n",
    ">`dir` \n",
    "\n",
    "again to view the contents of the folder that you have moved into."
   ]
  },
  {
   "cell_type": "markdown",
   "metadata": {
    "slideshow": {
     "slide_type": "slide"
    }
   },
   "source": [
    "To move back up by one step, type:\n",
    "    \n",
    ">`cd ..`\n",
    "\n",
    "Try this now.\n",
    "\n",
    "<img src=\"img/directory_tree.gif\" alt=\"Drawing\" style=\"width: 400px;\"/>"
   ]
  },
  {
   "cell_type": "markdown",
   "metadata": {
    "slideshow": {
     "slide_type": "slide"
    }
   },
   "source": [
    "#### If using a university computer.\n",
    "\n",
    "The *command prompt* will say something like:\n",
    "\n",
    "C:¥Users¥Username:\n",
    "\n",
    "The C tells us that we are on the C drive of the computer.\n",
    "\n",
    "Switch to the M drive where the user (you!) can save files.\n",
    "\n",
    "<img src=\"img/KUterminal.png\" alt=\"Drawing\" style=\"width: 500px;\"/>"
   ]
  },
  {
   "cell_type": "markdown",
   "metadata": {
    "slideshow": {
     "slide_type": "slide"
    }
   },
   "source": [
    "In the terminal type: \n",
    "\n",
    ">`M:`\n",
    "\n",
    "...and press enter.\n"
   ]
  },
  {
   "cell_type": "markdown",
   "metadata": {
    "slideshow": {
     "slide_type": "slide"
    }
   },
   "source": [
    "You should see the command prompt change.  \n",
    "\n",
    "\n",
    "<img src=\"img/KUterminalMdrive.png\" alt=\"Drawing\" style=\"width: 700px;\"/>"
   ]
  },
  {
   "cell_type": "markdown",
   "metadata": {
    "slideshow": {
     "slide_type": "slide"
    }
   },
   "source": [
    "## How to Access the Course Material : <br> \"Cloning\" the Textbook Using Git\n",
    "\n",
    "Go to the Github site we opened earlier.  \n",
    "\n",
    "We are going to download the course notes by *cloning*.\n",
    "\n",
    "If you do not have git installed yet, do this step later. \n",
    "\n",
    "\n",
    "\n",
    "\n"
   ]
  },
  {
   "cell_type": "markdown",
   "metadata": {
    "slideshow": {
     "slide_type": "slide"
    }
   },
   "source": [
    "Click the button \"Clone or download\" and copy the link by presssing Ctrl , C\n",
    "\n",
    "<img src=\"img/clone-URL.png\" alt=\"Drawing\" style=\"width: 500px;\"/>\n"
   ]
  },
  {
   "cell_type": "markdown",
   "metadata": {
    "slideshow": {
     "slide_type": "slide"
    }
   },
   "source": [
    "In the terminal type `git clone`. \n",
    "\n",
    "After the word `clone` __leave a space__ and then paste the URL that you just copied: \n",
    "\n",
    "> `git clone` &nbsp; https://github.com/hphilamore/ILAS_Python_for_engineers\n",
    "\n",
    "\n",
    "`Clone` copies all the files from the repository at the URL you have entered. "
   ]
  },
  {
   "cell_type": "markdown",
   "metadata": {
    "slideshow": {
     "slide_type": "slide"
    }
   },
   "source": [
    "In the terminal type:\n",
    "\n",
    "> `dir`\n",
    "\n",
    "A folder called \"ILAS_python_for_everyone\" should have appeared. \n",
    "\n",
    "Go into the folder and view the content by typing:\n",
    "\n",
    ">`cd ILAS_pyhon`\n",
    "><br>`dir` \n",
    "\n"
   ]
  },
  {
   "cell_type": "markdown",
   "metadata": {
    "slideshow": {
     "slide_type": "slide"
    }
   },
   "source": [
    "- Course content\n",
    "- How to access the course material\n",
    "- __Software__\n",
    "- Assessment\n",
    "- Homework and class necessary class preparation\n",
    "- Software Installation"
   ]
  },
  {
   "cell_type": "markdown",
   "metadata": {
    "slideshow": {
     "slide_type": "slide"
    }
   },
   "source": [
    "## Software : Python Environments\n",
    "\n",
    "There are different *environments* in which we can write and run python code. \n",
    "\n",
    "Each environment has different advantages and is suitable for different work types. "
   ]
  },
  {
   "cell_type": "markdown",
   "metadata": {
    "slideshow": {
     "slide_type": "slide"
    }
   },
   "source": [
    "## Software : Python Environments - Jupyter Notebook\n",
    "You can view the course notes via a *web browser* or using *Jupyter notebook*. \n",
    "\n",
    "To launch Jupyter notebook.\n",
    "\n",
    "In the terminal type:\n",
    "\n",
    " >   `jupyter notebook`\n",
    "\n",
    "and press enter.\n",
    "\n",
    "\n",
    "__OR__\n",
    "\n",
    "Choose Jupyter notebook from your computer's start menu e.g.:\n",
    "\n",
    "> Start >> Programs (すべてのプログラム) >> Programming >> Anaconda3 >> Jupyter notebook\n",
    " \n"
   ]
  },
  {
   "cell_type": "markdown",
   "metadata": {
    "slideshow": {
     "slide_type": "slide"
    }
   },
   "source": [
    "<img src=\"img/jupyter_notebook.png\" alt=\"Drawing\" style=\"width: 300px;\"/>\n",
    "\n",
    "You can type code in the boxes.\n",
    "\n",
    "You can run the code by pressing:\n",
    "\n",
    ">\"Shift\" + \"Enter\"\n",
    "\n",
    "This is an easy way to try out code next to printed instructions and images.\n"
   ]
  },
  {
   "cell_type": "markdown",
   "metadata": {
    "collapsed": true,
    "slideshow": {
     "slide_type": "slide"
    }
   },
   "source": [
    "Cells are executed in the order that the user runs them. \n",
    "\n",
    "By convention, Jupyter notebooks are __expected__ to be run from top to bottom. \n",
    "\n",
    "If you skip a cell or run the cells in a different order you may get unexpected behaviour."
   ]
  },
  {
   "cell_type": "markdown",
   "metadata": {
    "slideshow": {
     "slide_type": "slide"
    }
   },
   "source": [
    "For example, in the next cell enter:\n",
    "```python\n",
    "x = 10\n",
    "```\n",
    "\n",
    "then re-run the cell above containing:\n",
    "```python\n",
    "y = x - 2\n",
    "print(y)\n",
    "\n",
    "```\n",
    "and you should see the value of y change. \n",
    "\n",
    "The original value of `x` has been replaced by the new definition `x = 10`.\n",
    "\n",
    "<img src=\"img/jupyter_change_value.png\" alt=\"Drawing\" style=\"width: 500px;\"/>"
   ]
  },
  {
   "cell_type": "markdown",
   "metadata": {
    "slideshow": {
     "slide_type": "slide"
    }
   },
   "source": [
    "Now run the cell containing: \n",
    "    \n",
    "```python\n",
    "x = 2 + 3\n",
    "```\n",
    "then the cell containing:\n",
    "```python\n",
    "y = x - 2\n",
    "print(y)\n",
    "\n",
    "```\n",
    "and you will see the value of `y` change back to it's original value. \n",
    "\n",
    "<img src=\"img/jupyter_value_change2.png\" alt=\"Drawing\" style=\"width: 500px;\"/>\n",
    "\n"
   ]
  },
  {
   "cell_type": "markdown",
   "metadata": {
    "slideshow": {
     "slide_type": "slide"
    }
   },
   "source": [
    "To run all the cells sequentially from top to bottom click:\n",
    "\n",
    "Cell >> Run All\n",
    "\n",
    "This menu also contains other options for running cells. "
   ]
  },
  {
   "cell_type": "markdown",
   "metadata": {
    "slideshow": {
     "slide_type": "slide"
    }
   },
   "source": [
    "## Software : Python Environments - Python interpreter\n",
    "\n",
    "We can start the interpreter by typing \n",
    ">``python3`` \n",
    "\n",
    "in the terminal.\n",
    "\n",
    "The command prompt changes to:\n",
    ">``>>>``\n",
    "\n",
    "This is useful for doing small calculations. But the standard python interpreter is not very convenient for longer pieces of code. \n",
    "\n",
    "<!-- <img src=\"files/images/python-screenshot.jpg\" width=\"600\"> -->\n",
    "<img src=\"img/python-screenshot.jpg\" width=\"600\">\n",
    "\n",
    "\n",
    "\n",
    "\n"
   ]
  },
  {
   "cell_type": "markdown",
   "metadata": {
    "slideshow": {
     "slide_type": "slide"
    }
   },
   "source": [
    "## Software : Python Environments - Spyder\n",
    "\n",
    "Spyder is an integrated development environment (IDE). \n",
    "\n",
    "An IDE is a program used to write and edit code.\n",
    "\n",
    "To launch spyder\n",
    "\n",
    "In the terminal type:\n",
    "\n",
    " >   `spyder`\n",
    "\n",
    "and press enter.\n",
    "\n",
    "\n",
    "__OR__\n",
    "\n",
    "Choose Spyder from your computer's start menu e.g.:\n",
    "\n",
    "> Start >> Programs (すべてのプログラム) >> Programming >> Anaconda3 >> Spyder\n",
    " \n",
    "\n"
   ]
  },
  {
   "cell_type": "markdown",
   "metadata": {
    "slideshow": {
     "slide_type": "slide"
    }
   },
   "source": [
    "### Writing and running code in the Spyder IDE \n",
    "You can write code by tying in the box on the left (editor).\n",
    "\n",
    "You can run the code you have typed by clicking the green triangle in the menu bar at the top of the window.\n",
    "\n",
    "<img src=\"img/run_spyder.png\" alt=\"Drawing\" style=\"width: 300px;\"/>\n",
    "\n",
    "The output should appear in the box on the bottom right (console)\n",
    "\n",
    "The box in the top, right can be used to diplay the file system or stored variables (much ilke in MATLAB)."
   ]
  },
  {
   "cell_type": "markdown",
   "metadata": {
    "slideshow": {
     "slide_type": "slide"
    }
   },
   "source": [
    "### Writing code in the Spyder IDE and  and running code in the Spyder IDE \n",
    "\n",
    "### Save your code\n",
    "\n",
    "Click:\n",
    "\n",
    "File >> Save as \n",
    "\n",
    "Save your file with `.py` extension.  \n"
   ]
  },
  {
   "cell_type": "markdown",
   "metadata": {
    "slideshow": {
     "slide_type": "slide"
    }
   },
   "source": [
    "### Running your program without using Spyder.\n",
    "\n",
    "Spyder and other IDEs provide a convenient way to write, run and save code.\n",
    "\n",
    "However, once you have saved your program you can run it without the need for another program. \n",
    "\n",
    "In the terminal, use `cd` to navigate to within the folder where you just saved your file."
   ]
  },
  {
   "cell_type": "markdown",
   "metadata": {
    "slideshow": {
     "slide_type": "slide"
    }
   },
   "source": [
    "Type:\n",
    "\n",
    "> `python3`\n",
    "\n",
    "...followed by a space, then the name of the program that you want to run. \n",
    "\n",
    "For example, to run a file ``my-program.py``: \n",
    "\n",
    "> `python my-program.py`\n",
    "\n",
    "<img src=\"img/python-screenshot.jpg\" width=\"600\">"
   ]
  },
  {
   "cell_type": "markdown",
   "metadata": {
    "slideshow": {
     "slide_type": "slide"
    }
   },
   "source": [
    "### Creating Python files without using Spyder.\n",
    "In fact, you don't even need an IDE to create a Python file. \n",
    "\n",
    "You can write Python code in a normal text editor (Notepad (Windows), Wordpad (Windows), TextEdit (Mac), Text Editor (Ubuntu Linux).\n",
    "\n",
    "Provided you add the file extension .py when saving the file, you can run the file exactly the same way as we just did from the command line."
   ]
  },
  {
   "cell_type": "markdown",
   "metadata": {
    "slideshow": {
     "slide_type": "slide"
    }
   },
   "source": [
    "We will use:\n",
    "- __Jupyter notebook__ for short coding practise exercises.\n",
    "- __Spyder__ for longer, more complete programs. \n",
    "\n",
    "We will learn how to install:\n",
    "- Git\n",
    "- Jupyter notebook \n",
    "- Spyder \n",
    "\n",
    "at the end of today's class.\n"
   ]
  },
  {
   "cell_type": "markdown",
   "metadata": {
    "slideshow": {
     "slide_type": "slide"
    }
   },
   "source": [
    "- Course content\n",
    "- How to access the course material\n",
    "- Software\n",
    "- __Assessment__\n",
    "- Homework and class necessary class preparation\n",
    "- Software Installation"
   ]
  },
  {
   "cell_type": "markdown",
   "metadata": {
    "slideshow": {
     "slide_type": "slide"
    }
   },
   "source": [
    "## Assessment\n",
    "\n",
    "- Project : Data analysis.\n",
    " - 50% final grade\n",
    " - individual\n",
    " - week 8\n",
    " - week 9 class time will be used for troubleshooting your assignments.\n",
    "<br>\n",
    "- Exam \n",
    " - 50% final grade\n",
    " - individual \n",
    " - open book\n",
    " - week 15"
   ]
  },
  {
   "cell_type": "markdown",
   "metadata": {
    "slideshow": {
     "slide_type": "slide"
    }
   },
   "source": [
    "- Course content\n",
    "- How to access the course material\n",
    "- Software\n",
    "- Assessment\n",
    "- __Homework and class necessary class preparation__\n",
    "- Software Installation"
   ]
  },
  {
   "cell_type": "markdown",
   "metadata": {
    "slideshow": {
     "slide_type": "slide"
    }
   },
   "source": [
    "### Class Preparation\n",
    "Lesson structure (learning by doing): \n",
    "- Doing examples together\n",
    "- Trying exercises by yourself\n",
    "\n",
    "I will be asking you to *independently* read the notes ahead of / during class to prepare and complete exercises. "
   ]
  },
  {
   "cell_type": "markdown",
   "metadata": {
    "slideshow": {
     "slide_type": "slide"
    }
   },
   "source": [
    "### Homework (\"Test-Yourself\" exercises)\n",
    "There are \"Test-Yourself\" exercises for you to complete at the end of the class notes for each class. \n",
    "\n",
    "Work not completed in class should be completed for homework and submitted by email. \n",
    "\n"
   ]
  },
  {
   "cell_type": "markdown",
   "metadata": {
    "slideshow": {
     "slide_type": "slide"
    }
   },
   "source": [
    "### Review Excericises\n",
    "\n",
    "There are also Review Exercises at the end of the notes for each class. \n",
    "\n",
    "Review exercises are not assessed but are good preparation for the exam. \n",
    "\n",
    "I strongly advise you to complete them."
   ]
  },
  {
   "cell_type": "markdown",
   "metadata": {
    "slideshow": {
     "slide_type": "slide"
    }
   },
   "source": [
    "- Course content\n",
    "- How to access the course material\n",
    "- Software\n",
    "- Assessment\n",
    "- Homework and class necessary class preparation\n",
    "- __Software Installation__\n",
    " \n",
    "\n",
    "\n",
    "\n"
   ]
  },
  {
   "cell_type": "markdown",
   "metadata": {
    "slideshow": {
     "slide_type": "slide"
    }
   },
   "source": [
    "Before next class you *must* have the following software installed on the computer that you are going to use to take the course. \n",
    "- Git\n",
    "- Anaconda (Jupyter notebook and Spyder) \n",
    "\n",
    "<br>\n",
    "Before next class you *must* have downloaded (cloned) the class notes. \n"
   ]
  },
  {
   "cell_type": "markdown",
   "metadata": {
    "slideshow": {
     "slide_type": "slide"
    }
   },
   "source": [
    "### Are there any questions?"
   ]
  },
  {
   "cell_type": "markdown",
   "metadata": {
    "slideshow": {
     "slide_type": "slide"
    }
   },
   "source": [
    "## Software Installation \n",
    "\n",
    "### Instructions if using personal computer\n",
    "\n",
    "__Anaconda__ (which includes Jupyter notebook) can be downloaded from: <br>https://www.anaconda.com/download/\n",
    "><br>Windows, Mac and Linux versions are available\n",
    "><br>Python 3.6 version and Python 2.7 version are available.\n",
    "><br>Choose Python 3.6 version\n",
    "\n",
    "<br>\n",
    "__Git__ can be installed using the instructions found here: \n",
    "https://gist.github.com/derhuerst/1b15ff4652a867391f03\n",
    "\n",
    "><br>Windows, Mac and Linux versions are available\n",
    "><br>For Windows choose the appropriate file for your operating system.\n",
    "><br>Git-2.16.3-32-bit.exe for 32 bit operating system.\n",
    "><br>Git-2.16.3-64-bit.exe for 64 bit operating system. "
   ]
  },
  {
   "cell_type": "markdown",
   "metadata": {
    "slideshow": {
     "slide_type": "slide"
    }
   },
   "source": [
    "\n",
    "### Instructions if using Kyoto University computer\n",
    "\n",
    "__Anaconda__ is already installed.\n",
    "\n",
    "You need install __Git__ in your local user area.\n",
    "\n",
    "\n",
    "The following instructions tell you how to do this. \n",
    "\n",
    "__IMPORTANT NOTE__\n",
    "If you are going to use your personal computer to complete work in/outside of the seminars, you DO NOT need to complete this step.\n",
    "\n",
    "Download the Git program from here:\n",
    "\n",
    "https://github.com/git-for-windows/git/releases/tag/v2.14.1.windows.1\n",
    "\n",
    "The version you need is: \n",
    "\n",
    "PortableGit-2.14.1-32-bit.7z.exe"
   ]
  },
  {
   "cell_type": "markdown",
   "metadata": {
    "slideshow": {
     "slide_type": "subslide"
    }
   },
   "source": [
    "When prompted, choose to __run the file__ 実行(R).\n",
    "\n",
    "<img src=\"img/GitHubInstallRun.png\" alt=\"Drawing\" style=\"width: 200px;\"/>\n",
    "\n",
    "When prompted, change the location to save the file to:\n",
    "\n",
    "M:￥Documents￥PortableGit \n",
    "\n",
    "<img src=\"img/GitLocation.png\" alt=\"Drawing\" style=\"width: 200px;\"/>\n",
    "\n",
    "Press OK\n",
    "\n",
    "The download may take some time. \n",
    "\n",
    "\n",
    "\n",
    "\n"
   ]
  },
  {
   "cell_type": "markdown",
   "metadata": {
    "slideshow": {
     "slide_type": "subslide"
    }
   },
   "source": [
    "Once the download has completed...\n",
    "\n",
    "To open the terminal:\n",
    " - press \"win key\" + \"R\"\n",
    " - type: __cmd__\n",
    " - press enter"
   ]
  },
  {
   "cell_type": "markdown",
   "metadata": {
    "slideshow": {
     "slide_type": "subslide"
    }
   },
   "source": [
    "In the terminal type: \n",
    "\n",
    ">`M:`\n",
    "\n",
    "...and press enter, to switch to the M drive.\n"
   ]
  },
  {
   "cell_type": "markdown",
   "metadata": {
    "slideshow": {
     "slide_type": "subslide"
    }
   },
   "source": [
    "You should see the command prompt change.  \n",
    "\n",
    "\n",
    "<img src=\"img/KUterminalMdrive.png\" alt=\"Drawing\" style=\"width: 700px;\"/>"
   ]
  },
  {
   "cell_type": "markdown",
   "metadata": {
    "collapsed": true,
    "slideshow": {
     "slide_type": "subslide"
    }
   },
   "source": [
    "To navigate to documents type:\n",
    "\n",
    ">`cd Documents`\n",
    "\n",
    "cd stands for \"change directory\".\n",
    "\n",
    "\n"
   ]
  },
  {
   "cell_type": "markdown",
   "metadata": {
    "slideshow": {
     "slide_type": "subslide"
    }
   },
   "source": [
    "You should now see a  folder called PortableGit in the contents list of __Documents__ folder. "
   ]
  },
  {
   "cell_type": "markdown",
   "metadata": {
    "slideshow": {
     "slide_type": "subslide"
    }
   },
   "source": [
    "Type:\n",
    ">cd PortableGit \n",
    "\n",
    "to move into your PortableGit folder.\n",
    "\n",
    "To check git has installed type:\n",
    "\n",
    ">`git-bash.exe`\n",
    "\n",
    "A new terminal window will open. In this window type:\n",
    "\n",
    ">`git --version`\n",
    "\n",
    "If Git has installed, the version of the program will be dipolayed. You should see something like this:\n",
    "\n",
    "<img src=\"img/git-version.gif\" alt=\"Drawing\" style=\"width: 500px;\"/>\n",
    "\n",
    "Close the window."
   ]
  },
  {
   "cell_type": "markdown",
   "metadata": {
    "slideshow": {
     "slide_type": "subslide"
    }
   },
   "source": [
    "The final thing we need to do is to tell the computer where to look for the Git program. \n",
    "\n",
    "Move one step up from the Git folder. In the original terminal window, type:\n",
    "\n",
    "> `cd ..`\n",
    "\n",
    "Now enter the following in the terminal:\n",
    "\n",
    "> PATH=M:¥Documents¥PortableGit¥bin;%PATH%\n",
    "\n",
    "(you may need to have your keyboard set to JP to achieve this)\n",
    "\n",
    "\n",
    "<img src=\"img/windows_change_lang.png\" alt=\"Drawing\" style=\"width: 400px;\"/>\n",
    "\n",
    "\n",
    "You can type this or __copy and paste__ it from the README section on the github page we looked at earlier.\n",
    "\n",
    "<img src=\"img/readme_.png\" alt=\"Drawing\" style=\"width: 500px;\"/>\n",
    "\n",
    "__Whenever to use Git on a Kyoto University computer outside of the computer lab (Room North wing 21, Academic Center Bldg., Yoshida-South Campus), you must first opena  terminal and type the line of code above to tell the computer where to look for the Git program.__ \n",
    "\n",
    "\n"
   ]
  },
  {
   "cell_type": "markdown",
   "metadata": {
    "slideshow": {
     "slide_type": "subslide"
    }
   },
   "source": [
    "The program Git has its own terminal commands.\n",
    "\n",
    "Each one starts with the word `git`\n",
    "\n",
    "You can check git is working by typing:\n",
    "\n",
    ">`git status`\n",
    "\n",
    "You should see something like this:\n",
    "\n",
    "<img src=\"img/git-version.gif\" alt=\"Drawing\" style=\"width: 500px;\"/>\n"
   ]
  },
  {
   "cell_type": "code",
   "execution_count": null,
   "metadata": {
    "collapsed": true
   },
   "outputs": [],
   "source": []
  },
  {
   "cell_type": "code",
   "execution_count": null,
   "metadata": {
    "collapsed": true
   },
   "outputs": [],
   "source": []
  }
 ],
 "metadata": {
  "celltoolbar": "Slideshow",
  "kernelspec": {
   "display_name": "Python 3",
   "language": "python",
   "name": "python3"
  },
  "language_info": {
   "codemirror_mode": {
    "name": "ipython",
    "version": 3
   },
   "file_extension": ".py",
   "mimetype": "text/x-python",
   "name": "python",
   "nbconvert_exporter": "python",
   "pygments_lexer": "ipython3",
   "version": "3.6.4"
  }
 },
 "nbformat": 4,
 "nbformat_minor": 2
}
