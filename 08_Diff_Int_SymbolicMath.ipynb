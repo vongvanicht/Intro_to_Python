{
 "cells": [
  {
   "cell_type": "markdown",
   "metadata": {},
   "source": [
    "# Python for Engineers Assignment 2018\n",
    "Refer to file Assignment.ipynb\n",
    "\n",
    "Submission deadline 07/16 (July 16).\n",
    "<br>提出締め切り07/16 (7月16日）。\n",
    "\n",
    "Please submit your answer by email.\n",
    "<br>どうぞ、メールによってあなたの答えを提出してください。\n",
    "<br>philamore.hemma.5s@kyoto-u.ac.jp\n",
    "\n",
    "You may use the following file formats:\n",
    "<br>あなたは以下のファイル形式を使ってもよい:\n",
    "- .py\n",
    "- .ipynb\n",
    "- .txt\n",
    "\n",
    "You may use multiple files.\n",
    "<br>あなたは複数のファイルを使ってもよい。"
   ]
  },
  {
   "cell_type": "markdown",
   "metadata": {
    "slideshow": {
     "slide_type": "slide"
    }
   },
   "source": [
    "### Rescheduled Class\n",
    "You should all have received an email concerning the 2 rescheduled class.\n",
    "<br>Rescheduled classes will be held on: \n",
    "- 06/26 (June 26, Tuesday ), period 1, room CALL 23 \n",
    "- 06/29 (June 29, Friday ), period 5, room CALL 23 \n",
    "\n",
    "You may attend either class. \n",
    "\n",
    "These classes are for you to ask questions and get help with your assignment. \n",
    "\n",
    "There will be *no new taught material* in these classes.\n",
    "\n",
    "__THERE IS A CLASS ON JUNE 25, MONDAY, PERIOD 5 AS USUAL__"
   ]
  },
  {
   "cell_type": "markdown",
   "metadata": {
    "slideshow": {
     "slide_type": "slide"
    }
   },
   "source": [
    "## Please download the new class notes.\n",
    "### Step 1 : Navigate to the directory where your files are stored.  \n",
    "Open a terminal. \n",
    "<br>Using `cd`, navigate to *inside* the ILAS_Python_for_engineers folder on your computer. \n",
    "### Step 3 : Update the course notes by downloading the changes\n",
    "In the terminal type:\n",
    "\n",
    ">`git add -A\n",
    "git commit -m \"commit\"\n",
    "git fetch upstream\n",
    "git merge -X theirs upstream/master`\n"
   ]
  },
  {
   "cell_type": "markdown",
   "metadata": {
    "collapsed": true,
    "slideshow": {
     "slide_type": "slide"
    }
   },
   "source": [
    "# Solving Differential and Integration Equations with Programming and Symbolic Mathematics\n",
    "\n",
    "<br> <a href='#SystemsCoupledEquations'>Systems of Coupled Equations</a>\n",
    "    <br> &emsp;&emsp; <a href='#LinearEquations'>Linear Equations</a> \n",
    "        <br> &emsp;&emsp; &emsp;&emsp; <a href='#ExampleElectricalCircuit'>Example: An Electrical Circuit</a> \n",
    "    <br> &emsp;&emsp; <a href='#NonLinearEquations'>Linear Equations</a> \n",
    "<br> <a href='#RootFinding'>Root Finding</a> \n",
    "\t<br> &emsp;&emsp; <a href='#IterativeSolutions'>Iterative Solutions</a> \n",
    "    <br> &emsp;&emsp; &emsp;&emsp; &emsp;&emsp;<a href='#Bisection'>Bisection</a> \n",
    "        <br> &emsp;&emsp; &emsp;&emsp; &emsp;&emsp; &emsp;&emsp; <a href='#ExampleBisectionAlgorithm'>Example: Bisection Algorithm</a> \n",
    "    <br> &emsp;&emsp;<a href='#ImportingSpecificAlgorithms'>Importing Specific Algorithms </a> \n",
    "    <br> &emsp;&emsp; <a href='#FindingnthRootPeriodicFunction'>Finding the nth Root of a Periodic Function</a> \n",
    "<br> <a href='#CoupledNonLinearEquations'>Coupled Non-Linear Equations (continued)</a> \n",
    "<br> <a href='#Summary'>Summary</a>\n",
    "<br> <a href='#TestYourselfExercises'>Test-Yourself Exercises</a>\n"
   ]
  },
  {
   "cell_type": "markdown",
   "metadata": {
    "slideshow": {
     "slide_type": "slide"
    }
   },
   "source": [
    "### Lesson Goal\n",
    "\n",
    "Use analytical and numerical techniuqes to:\n",
    "- solve differentiation and integration problems\n",
    "- find solutions to ordinary differential equations\n",
    "- represnt and solve equations symbolically\n",
    "\n",
    "### Fundamental programming concepts\n",
    "Solving problems programmatically to save time and to check your solutions.\n"
   ]
  },
  {
   "cell_type": "markdown",
   "metadata": {
    "slideshow": {
     "slide_type": "slide"
    }
   },
   "source": [
    "Many of the practical situations that engineers have to analyse involve quantities that change with respect to time or another parameter. \n",
    "\n",
    "Examples:\n",
    " - Temperature of a substance/system\n",
    " - Signal voltage\n",
    " - Torque on a turbine blade"
   ]
  },
  {
   "cell_type": "markdown",
   "metadata": {},
   "source": [
    "The calculus techniques that we use to solve these problems are \n",
    "- differentiation\n",
    "- integration"
   ]
  },
  {
   "cell_type": "markdown",
   "metadata": {
    "slideshow": {
     "slide_type": "slide"
    }
   },
   "source": [
    "You will probably be familiar with all of the techniques we will study today.\n",
    "\n",
    "The main challenge is knowing how to represent processes that you are familiar with solving manually, using the Python syntax. \n",
    "\n"
   ]
  },
  {
   "cell_type": "markdown",
   "metadata": {
    "slideshow": {
     "slide_type": "slide"
    }
   },
   "source": [
    "There are multiple ways to solve differentiation and integration problems programmatically.\n",
    "\n",
    "Today we will study several of these methods using:\n",
    "- Numpy\n",
    "- Scipy\n",
    "- Sympy : A Python library for __symbolic__ mathematics.\n",
    "\n"
   ]
  },
  {
   "cell_type": "code",
   "execution_count": 164,
   "metadata": {
    "slideshow": {
     "slide_type": "slide"
    }
   },
   "outputs": [],
   "source": [
    "import numpy as np\n",
    "import scipy\n",
    "import sympy\n",
    "\n",
    "import matplotlib.pyplot as plt\n",
    "%matplotlib inline"
   ]
  },
  {
   "cell_type": "markdown",
   "metadata": {
    "slideshow": {
     "slide_type": "slide"
    }
   },
   "source": [
    "In the past two seminars we considered functions that can be represented in a 2D coordinate system by considering the relation ship between:\n",
    "- input (independent variable) \n",
    "- output (dependent variable)"
   ]
  },
  {
   "cell_type": "markdown",
   "metadata": {
    "slideshow": {
     "slide_type": "slide"
    }
   },
   "source": [
    "For example, a function, $f(t)$\n",
    "\n",
    "<img src=\"img/def_diff.png\" alt=\"Drawing\" style=\"width: 400px;\"/> "
   ]
  },
  {
   "cell_type": "markdown",
   "metadata": {
    "slideshow": {
     "slide_type": "slide"
    }
   },
   "source": [
    "The definition of the function $f'(t)$ at a point $t$:\n",
    "    \n",
    "$$ f' = \\lim_{x \\to 0} \\frac{f(t + \\Delta t)-f(t)}{\\Delta t} = \\lim_{x \\to 0} \\frac{\\Delta f}{\\Delta t}$$\n",
    "\n",
    "where $\\Delta f$ is the rate of change of $f(t)$ corresponding to a change $\\Delta t$ in $t$ "
   ]
  },
  {
   "cell_type": "markdown",
   "metadata": {
    "slideshow": {
     "slide_type": "slide"
    }
   },
   "source": [
    "This from this definition, we can *approximate* the rate of change of function $f(t)$ with respect to parameter $t$, from the difference in $f$ between two different values of $t$.\n",
    "\n",
    "<img src=\"img/def_diff.png\" alt=\"Drawing\" style=\"width: 400px;\"/> \n",
    "*Image source: James, Modern Engineering Mathematics*"
   ]
  },
  {
   "cell_type": "markdown",
   "metadata": {
    "slideshow": {
     "slide_type": "slide"
    }
   },
   "source": [
    "Forward difference:\n",
    "    \n",
    "$$ f' \\approx \\frac{f(t + h)-f(t)}{h} $$\n",
    "\n",
    "Backward difference:\n",
    "\n",
    "$$ f' \\approx \\frac{f(t)-f(t - h)}{h} $$\n",
    "\n",
    "Central difference:\n",
    "\n",
    "$$ f' \\approx \\frac{f(t + h)-f(t - h)}{2h} $$"
   ]
  },
  {
   "cell_type": "markdown",
   "metadata": {
    "slideshow": {
     "slide_type": "slide"
    }
   },
   "source": [
    "## Numerical Derivatives by Difference Methods\n",
    "If your data points are equally space, these equations are very easy to solve programmatically for a data set.\n",
    "\n"
   ]
  },
  {
   "cell_type": "code",
   "execution_count": 7,
   "metadata": {
    "slideshow": {
     "slide_type": "slide"
    }
   },
   "outputs": [],
   "source": [
    "def forward_diff(x, y):\n",
    "    #all_but_last = (y[1:] - y[:-1]) / (x[1:] - x[:-1])\n",
    "    all_but_last = np.diff(y) / np.diff(x)\n",
    "    # solve last element by backward difference\n",
    "    last = (y[-1] - y[-2]) / (x[-1] - x[-2])\n",
    "    return(np.append(all_but_last, last))\n",
    "\n",
    "\n",
    "def backward_diff(x, y):\n",
    "    #all_but_first = (y[1:] - y[:-1]) / (x[1:] - x[:-1])\n",
    "    all_but_first = np.diff(y) / np.diff(x)\n",
    "    # solve fisrst element by forward difference\n",
    "    first = (y[1] - y[0]) / (x[1] - x[0])\n",
    "    return(np.insert(all_but_first, 0, first))\n",
    "\n",
    "\n",
    "def central_diff(x, y):\n",
    "    centre = (y[2:] - y[:-2]) / (x[2:] - x[:-2])\n",
    "    # solve first and last element \n",
    "    first = (y[1] - y[0]) / (x[1] - x[0])\n",
    "    last = (y[-1] - y[-2]) / (x[-1] - x[-2])\n",
    "    \n",
    "    return(np.insert(np.append(centre, last), 0, first))"
   ]
  },
  {
   "cell_type": "markdown",
   "metadata": {
    "slideshow": {
     "slide_type": "slide"
    }
   },
   "source": [
    "This gives a very simple method for solving numerical derivatives.\n",
    "\n",
    "Let's test these functions.\n",
    "\n",
    "Analytical solution:\n",
    "\n",
    "$$f(t)=sin(t), \\qquad f'(t)=cos(t)$$\n",
    "\n",
    "<img src=\"img/sin_cos_diff.png\" alt=\"Drawing\" style=\"width: 200px;\"/> "
   ]
  },
  {
   "cell_type": "markdown",
   "metadata": {
    "slideshow": {
     "slide_type": "slide"
    }
   },
   "source": [
    "To show the accuracy of the solution, we first consider a very small t interval."
   ]
  },
  {
   "cell_type": "code",
   "execution_count": 8,
   "metadata": {
    "slideshow": {
     "slide_type": "-"
    }
   },
   "outputs": [
    {
     "data": {
      "image/png": "[encoded data removed]",
      "text/plain": [
       "<Figure size 432x288 with 1 Axes>"
      ]
     },
     "metadata": {},
     "output_type": "display_data"
    }
   ],
   "source": [
    "t = np.linspace(0.78,0.79,100)\n",
    "f = np.sin(t)\n",
    "\n",
    "dfdt_analytical = np.cos(t)\n",
    "\n",
    "dfdt_fwd = forward_diff(t, f)\n",
    "dfdt_bck = backward_diff(t, f)\n",
    "dfdt_ctr = central_diff(t, f)\n",
    "\n",
    "plt.plot(t, dfdt_analytical, label='forward difference approximation')\n",
    "plt.plot(t, dfdt_analytical, label='backward difference approximation')\n",
    "plt.plot(t, dfdt_analytical, label='central difference approximation')\n",
    "plt.plot(t, dfdt_analytical, 'k--', label='analytical derivative')\n",
    "plt.legend();"
   ]
  },
  {
   "cell_type": "markdown",
   "metadata": {
    "slideshow": {
     "slide_type": "slide"
    }
   },
   "source": [
    "The solution for a greater t interval:"
   ]
  },
  {
   "cell_type": "code",
   "execution_count": 9,
   "metadata": {
    "slideshow": {
     "slide_type": "-"
    }
   },
   "outputs": [
    {
     "data": {
      "image/png": "[encoded data removed]",
      "text/plain": [
       "<Figure size 432x288 with 1 Axes>"
      ]
     },
     "metadata": {},
     "output_type": "display_data"
    }
   ],
   "source": [
    "t = np.linspace(0, 2 * np.pi, 100)\n",
    "f = np.sin(t)\n",
    "\n",
    "dfdt_analytical = np.cos(t)\n",
    "\n",
    "dfdt_fwd = forward_diff(t, f)\n",
    "dfdt_bck = backward_diff(t, f)\n",
    "dfdt_ctr = central_diff(t, f)\n",
    "\n",
    "plt.plot(t, dfdt_analytical, label='forward difference approximation')\n",
    "plt.plot(t, dfdt_analytical, label='backward difference approximation')\n",
    "plt.plot(t, dfdt_analytical, label='central difference approximation')\n",
    "plt.plot(t, dfdt_analytical, 'k--', label='analytical derivative')\n",
    "plt.plot(t, f, label='function')\n",
    "plt.legend(loc='best');"
   ]
  },
  {
   "cell_type": "markdown",
   "metadata": {
    "slideshow": {
     "slide_type": "slide"
    }
   },
   "source": [
    "In computing terms, calculation that use loops are slow.\n",
    "\n",
    "However, for practical purposes, this is a fast way to approximate the numerical derivative for *smooth* function data."
   ]
  },
  {
   "cell_type": "markdown",
   "metadata": {
    "slideshow": {
     "slide_type": "slide"
    }
   },
   "source": [
    "## Numerical Derivatives by Difference Methods\n",
    "\n",
    "Some of the functions that we considered in the previous classes we generated by fitting a polynomial curve to empirical (and sometimes noisy) data.\n",
    "\n",
    "To find the derivative of a polynomial function, we can use the numpy function, `polyder`\n",
    "\n"
   ]
  },
  {
   "cell_type": "markdown",
   "metadata": {
    "slideshow": {
     "slide_type": "slide"
    }
   },
   "source": [
    "Example:\n",
    "    $$p(x) = x^3 + x^2 + x^1 + 1$$\n",
    "    \n",
    "Find $p'(x)$"
   ]
  },
  {
   "cell_type": "code",
   "execution_count": 10,
   "metadata": {
    "slideshow": {
     "slide_type": "-"
    }
   },
   "outputs": [
    {
     "name": "stdout",
     "output_type": "stream",
     "text": [
      "   2\n",
      "3 x + 2 x + 1\n"
     ]
    }
   ],
   "source": [
    "p = np.poly1d([1,1,1,1])\n",
    "pd = np.polyder(p)\n",
    "print(pd)"
   ]
  },
  {
   "cell_type": "markdown",
   "metadata": {
    "slideshow": {
     "slide_type": "slide"
    }
   },
   "source": [
    "Find $p'(2)$"
   ]
  },
  {
   "cell_type": "code",
   "execution_count": 11,
   "metadata": {},
   "outputs": [
    {
     "data": {
      "text/plain": [
       "17.0"
      ]
     },
     "execution_count": 11,
     "metadata": {},
     "output_type": "execute_result"
    }
   ],
   "source": [
    "pd(2.)"
   ]
  },
  {
   "cell_type": "markdown",
   "metadata": {
    "slideshow": {
     "slide_type": "slide"
    }
   },
   "source": [
    "We can check the solution using the forward/backward/central difference approximation.\n",
    "\n",
    "Forward difference approximation:\n",
    "\n",
    "$$ f' \\approx \\frac{f(x + \\Delta x)-f(x)}{\\Delta x} $$\n",
    "\n",
    "let $\\Delta x = 0.001$       "
   ]
  },
  {
   "cell_type": "code",
   "execution_count": 12,
   "metadata": {},
   "outputs": [
    {
     "name": "stdout",
     "output_type": "stream",
     "text": [
      "17.007000999997857\n"
     ]
    }
   ],
   "source": [
    "pd2 = (p(2. + 0.001) - p(2.)) / 0.001\n",
    "print(pd2)"
   ]
  },
  {
   "cell_type": "markdown",
   "metadata": {
    "slideshow": {
     "slide_type": "slide"
    }
   },
   "source": [
    "`polyder` can be be used to solve higher order derivatives by giving a second argument:"
   ]
  },
  {
   "cell_type": "code",
   "execution_count": 13,
   "metadata": {},
   "outputs": [
    {
     "name": "stdout",
     "output_type": "stream",
     "text": [
      " \n",
      "6 x + 2\n",
      " \n",
      "6\n",
      " \n",
      "0\n"
     ]
    }
   ],
   "source": [
    "# second derivative of p\n",
    "print(np.polyder(p, 2))\n",
    "\n",
    "# third derivative of p\n",
    "print(np.polyder(p, 3))\n",
    "\n",
    "# fourth derivative of p\n",
    "print(np.polyder(p, 4))"
   ]
  },
  {
   "cell_type": "markdown",
   "metadata": {
    "slideshow": {
     "slide_type": "-"
    }
   },
   "source": [
    "The fourth derivative of a 3rd-order polynomial is zero."
   ]
  },
  {
   "cell_type": "markdown",
   "metadata": {
    "slideshow": {
     "slide_type": "slide"
    }
   },
   "source": [
    "## Piecewise Functions\n",
    "Occaisionally we need to define piecewise functions e.g.:\n",
    "\n",
    "$$f(x)=\n",
    "\\begin{cases} \n",
    "      0   & ,x < 0 \\\\\n",
    "      x   & ,0\\leq x \\leq 1 \\\\\n",
    "      2-x & ,1 < x \\leq 2 \\\\\n",
    "      x+1 & ,x > 2 \n",
    "\\end{cases}\n",
    "$$\n"
   ]
  },
  {
   "cell_type": "markdown",
   "metadata": {
    "slideshow": {
     "slide_type": "slide"
    }
   },
   "source": [
    "A simple way to solve this is to use conditional statements.\n",
    "\n",
    "However, the function is not vectorised (we cannot apply it directly to a data structure)."
   ]
  },
  {
   "cell_type": "code",
   "execution_count": 167,
   "metadata": {},
   "outputs": [
    {
     "name": "stdout",
     "output_type": "stream",
     "text": [
      "0\n"
     ]
    }
   ],
   "source": [
    "def f1(x): \n",
    "    if x < 0:\n",
    "        return 0\n",
    "    elif 0 <= x <= 1:\n",
    "        return x \n",
    "    elif 1 < x <= 2:\n",
    "        return 2.0 - x \n",
    "    else:\n",
    "         return x + 1.0\n",
    "\n",
    "print(f1(-1))\n",
    "\n",
    "# Application to data structure causes an error\n",
    "#print(f1([0, 1, 2, 3, 4]))"
   ]
  },
  {
   "cell_type": "markdown",
   "metadata": {
    "slideshow": {
     "slide_type": "slide"
    }
   },
   "source": [
    "You can achieve vectorized behavior (apply the function to each element) by looping through each value in the data structure.\n",
    "\n",
    "This is not ideal e.g. we cannot directly plot or interrogate the function. \n",
    "\n",
    "Ideally we want a function where both of the following statements are allowable:\n",
    "\n",
    "        print(f1([0, 1, 2, 3, 4]))\n",
    "        print(f1(0))"
   ]
  },
  {
   "cell_type": "markdown",
   "metadata": {
    "slideshow": {
     "slide_type": "slide"
    }
   },
   "source": [
    "In seminar 04_AdvancedFunctions_Libraries.ipynb we learnt to use the numpy function `vectorise` to allow a function to accept both:\n",
    "- single variables \n",
    "- data structures \n",
    "\n",
    "as input arguments.\n",
    "\n"
   ]
  },
  {
   "cell_type": "code",
   "execution_count": 15,
   "metadata": {},
   "outputs": [
    {
     "name": "stdout",
     "output_type": "stream",
     "text": [
      "[0 1 0 4 5]\n",
      "0\n"
     ]
    }
   ],
   "source": [
    "f2 = np.vectorize(f1)\n",
    "print(f2([0, 1, 2, 3, 4]))\n",
    "print(f2(0))"
   ]
  },
  {
   "cell_type": "markdown",
   "metadata": {},
   "source": [
    "Dealing with piecewise functions is an example of where vectorising a function is very useful."
   ]
  },
  {
   "cell_type": "markdown",
   "metadata": {
    "slideshow": {
     "slide_type": "slide"
    }
   },
   "source": [
    "The main advantages of vectorization are:\n",
    "- simplicity of code\n",
    "- speed\n",
    "\n",
    "Loops in python are usually very slow compared to vectorized functions.\n"
   ]
  },
  {
   "cell_type": "markdown",
   "metadata": {
    "slideshow": {
     "slide_type": "slide"
    }
   },
   "source": [
    "## Integrating Equations \n",
    "A common need in engineering calculations is to __integrate__ an equation over some range to determine the total change. \n",
    "\n",
    "\n",
    "For example, find the integral of a function f(x) from a to b i.e.\n",
    "\n",
    "$$S = \\int_{a}^{b} f(x) dx$$\n",
    "\n",
    "\n",
    "<img src=\"img/integration.png\" alt=\"Drawing\" style=\"width: 200px;\"/>    "
   ]
  },
  {
   "cell_type": "markdown",
   "metadata": {
    "slideshow": {
     "slide_type": "slide"
    }
   },
   "source": [
    "This area or interal can be estimated from the sum of trapezoid strips used to represent the curve.\n",
    "\n",
    "<img src=\"img/numintegration.png\" alt=\"Drawing\" style=\"width: 400px;\"/> "
   ]
  },
  {
   "cell_type": "markdown",
   "metadata": {
    "slideshow": {
     "slide_type": "slide"
    }
   },
   "source": [
    "As a specific example, lets find the integrate:\n",
    "$$f(x) = x^2$$\n",
    "\n",
    "with respect to $x$,\n",
    "<br>within the limits $x=0$ to $x=1$. "
   ]
  },
  {
   "cell_type": "markdown",
   "metadata": {
    "slideshow": {
     "slide_type": "slide"
    }
   },
   "source": [
    "\\begin{align*}\n",
    "S &= \\int_{0}^{1} x^2 dx\\\\\n",
    "  &= \\frac{1}{3}x^3 \\biggr\\rvert_0^{1}\\\\\n",
    "  &= \\frac{1}{3}(1)^3 - \\frac{1}{3}(0)^3\\\\\n",
    "  &= \\frac{1}{3}\n",
    "\\end{align*}"
   ]
  },
  {
   "cell_type": "markdown",
   "metadata": {
    "slideshow": {
     "slide_type": "slide"
    }
   },
   "source": [
    "The scipy function `quad` is very convenient for solving integration problems:\n",
    "\n",
    "Input arguments : \n",
    "- function to integrate\n",
    "- lower limit\n",
    "- upper limit "
   ]
  },
  {
   "cell_type": "code",
   "execution_count": 16,
   "metadata": {},
   "outputs": [],
   "source": [
    "from scipy.integrate import quad"
   ]
  },
  {
   "cell_type": "code",
   "execution_count": 17,
   "metadata": {
    "scrolled": true,
    "slideshow": {
     "slide_type": "slide"
    }
   },
   "outputs": [
    {
     "name": "stdout",
     "output_type": "stream",
     "text": [
      "0.33333333333333337\n",
      "The estimated error is 3.700743415417189e-15\n"
     ]
    }
   ],
   "source": [
    "# first create a function to describe the integrand\n",
    "def integrand(x):\n",
    "    return x**2\n",
    "\n",
    "ans, err = quad(integrand, 0, 1)\n",
    "\n",
    "print(ans)\n",
    "print(f'The estimated error is {err}')"
   ]
  },
  {
   "cell_type": "markdown",
   "metadata": {
    "slideshow": {
     "slide_type": "slide"
    }
   },
   "source": [
    "#### Example :  The quantity of water that flows into a tank. \n",
    "\n",
    "The change in volumetric flow rate, $v'$, into a tank (with respect to time):\n",
    "\n",
    "$$ v' =\\frac{dv}{dt}=\\alpha t $$\n",
    "\n",
    "where $\\alpha = 1\\textrm{L/s}$ \n",
    "\n",
    "<img src=\"img/flow_tank.png\" alt=\"Drawing\" style=\"width: 300px;\"/> "
   ]
  },
  {
   "cell_type": "markdown",
   "metadata": {
    "slideshow": {
     "slide_type": "slide"
    }
   },
   "source": [
    "__How much liquid flows into the tank over 10 seconds?__\n",
    "<br>Initial flow rate:\n",
    "<br>$v_0=5\\textrm{L/s,} \\qquad t=0$\n",
    "\n",
    "__Solution__\n",
    "\n",
    "We can see that at \n",
    "\n",
    "\\begin{align*}\n",
    "v_1 &= v_0 + \\frac{dv}{dt}\\\\\n",
    "    &= v_0 + \\alpha (1) \\\\\n",
    "\\end{align*}\n",
    "\n",
    "i.e.\n",
    "\n",
    "$$v_n = v_0 + \\alpha n$$\n"
   ]
  },
  {
   "cell_type": "markdown",
   "metadata": {
    "slideshow": {
     "slide_type": "slide"
    }
   },
   "source": [
    "To find the total __volume__ of liquid the enters the tank in $n$ seconds:\n",
    "\n",
    "$$V = \\int_{0}^{n} v_0 + \\alpha t \\quad dt$$"
   ]
  },
  {
   "cell_type": "code",
   "execution_count": 18,
   "metadata": {
    "slideshow": {
     "slide_type": "slide"
    }
   },
   "outputs": [
    {
     "name": "stdout",
     "output_type": "stream",
     "text": [
      "100.0 L flowed into the tank in 10 seconds\n",
      "The estimated error is 1.1102230246251565e-12\n"
     ]
    }
   ],
   "source": [
    "from scipy.integrate import quad\n",
    "\n",
    "t0=0.0\n",
    "tfinal = 10.0\n",
    "v0=5       # L/s\n",
    "alpha = 1  # L/s\n",
    "\n",
    "\n",
    "# create a function to describe the integrand\n",
    "def integrand(t):\n",
    "    return v0 + alpha * t\n",
    "\n",
    "V, err = quad(integrand, t0, tfinal)\n",
    "\n",
    "\n",
    "print(f'{V} L flowed into the tank in 10 seconds')\n",
    "print(f'The estimated error is {err}')"
   ]
  },
  {
   "cell_type": "markdown",
   "metadata": {
    "slideshow": {
     "slide_type": "slide"
    }
   },
   "source": [
    "We can check the solution:\n",
    "    \n",
    "\\begin{align*}\n",
    "V &= \\int_{0}^{10} v_0 + \\alpha t \\quad dt\\\\\n",
    "  &= v_0(t) + \\frac{1}{2}\\alpha t^2 \\biggr\\rvert_0^{10}\\\\\n",
    "  &=100\n",
    "\\end{align*}"
   ]
  },
  {
   "cell_type": "markdown",
   "metadata": {
    "slideshow": {
     "slide_type": "slide"
    }
   },
   "source": [
    "### Nested Integrals\n",
    "Sometimes engineering problems require us to integrate an expression multiple times to find the desired solution.\n",
    "\n",
    "In that case, we can instead use the function:\n",
    "- `scipy.integrate.dblquad` : double integral\n",
    "- `scipy.integrate.tplquad` : triple integral\n",
    "- `scipy.integrate.nquad`   : any number of intergals"
   ]
  },
  {
   "cell_type": "code",
   "execution_count": 168,
   "metadata": {
    "slideshow": {
     "slide_type": "slide"
    }
   },
   "outputs": [],
   "source": [
    "from scipy.integrate import dblquad\n",
    "from scipy.integrate import tplquad\n",
    "from scipy.integrate import nquad"
   ]
  },
  {
   "cell_type": "markdown",
   "metadata": {
    "slideshow": {
     "slide_type": "slide"
    }
   },
   "source": [
    "__Example:__ Area of a rectangle.\n",
    "    \n",
    "<img src=\"img/area_integrate.png\" alt=\"Drawing\" style=\"width: 300px;\"/>     \n",
    "A very simple application of a nested integral is to find the area, $A$, of a rectangle using the upper and lower x and y limits that define the position of the retangles vertices.\n",
    "\n",
    "$$ A = \\int_{y=c}^{d}\\int_{x=a}^{b} 1\\quad dxdy \\quad = \\quad \\int_{y=c}^{d}\\int_{x=a}^{b} \\quad dxdy$$"
   ]
  },
  {
   "cell_type": "code",
   "execution_count": 20,
   "metadata": {
    "slideshow": {
     "slide_type": "slide"
    }
   },
   "outputs": [
    {
     "name": "stdout",
     "output_type": "stream",
     "text": [
      "(4.5, 9.992007221626409e-14)\n"
     ]
    }
   ],
   "source": [
    "# Some arbitrary values\n",
    "a, b, c, d = 1, 10, 0, 0.5\n",
    "\n",
    "f = lambda x, y: 1\n",
    "\n",
    "# Arguments:\n",
    "# function, outer integral limits --> inner integral limits\n",
    "area = dblquad(f, c, d,     # y limits\n",
    "               lambda x: a, # x limits\n",
    "               lambda x: b)\n",
    "print(area)"
   ]
  },
  {
   "cell_type": "code",
   "execution_count": 21,
   "metadata": {
    "slideshow": {
     "slide_type": "slide"
    }
   },
   "outputs": [
    {
     "name": "stdout",
     "output_type": "stream",
     "text": [
      "(4.5, 9.992007221626409e-14)\n"
     ]
    }
   ],
   "source": [
    "# Arguments:\n",
    "# function, inner integral limits --> outer integral limits\n",
    "area = nquad(f, [[a, b],   # x limits\n",
    "                 [c, d]])  # y limits\n",
    "print(area)"
   ]
  },
  {
   "cell_type": "markdown",
   "metadata": {
    "slideshow": {
     "slide_type": "slide"
    }
   },
   "source": [
    "##### Triple Integral\n",
    "$$ A = \\int_{z=e}^{f} \\int_{y=c}^{d}\\int_{x=a}^{b} kxyz\\quad dxdy$$"
   ]
  },
  {
   "cell_type": "code",
   "execution_count": 22,
   "metadata": {},
   "outputs": [
    {
     "name": "stdout",
     "output_type": "stream",
     "text": [
      "(5.625, 9.97393438277222e-14)\n"
     ]
    }
   ],
   "source": [
    "# Some arbitrary values\n",
    "#a, b, c, d, e, f = 0, 1, 2, 3, 1, 2\n",
    "\n",
    "f = lambda z, y, x, k: k*x*y*z\n",
    "\n",
    "# Arguments:\n",
    "# function, outer integral limits --> inner integral limits\n",
    "a = tplquad(f, 1, 2,                          # z limits  \n",
    "            lambda x: 2,    lambda x: 3,      # y limits\n",
    "            lambda x, y: 0, lambda x, y: 1,   # x limits\n",
    "            args=(3,))\n",
    "print(a)\n"
   ]
  },
  {
   "cell_type": "markdown",
   "metadata": {
    "slideshow": {
     "slide_type": "slide"
    }
   },
   "source": [
    "We can represent the same problem using `nquad`.\n",
    "\n",
    "We can nest any number of (`n`) integrals.  \n",
    "\n",
    "Notice how the syntax of this function is different from `dblquad` and `tplquad`."
   ]
  },
  {
   "cell_type": "code",
   "execution_count": 23,
   "metadata": {},
   "outputs": [
    {
     "name": "stdout",
     "output_type": "stream",
     "text": [
      "(5.625, 9.97393438277222e-14)\n"
     ]
    }
   ],
   "source": [
    "# Arguments:\n",
    "# function, inner integral limits --> outer integral limits\n",
    "\n",
    "a = nquad(f, [[0, 1],    # x limits \n",
    "              [2, 3],    # y limits\n",
    "              [1, 2]],   # z limits\n",
    "              args=(3,)) # additional arguments of function f\n",
    "\n",
    "print(a)"
   ]
  },
  {
   "cell_type": "markdown",
   "metadata": {
    "slideshow": {
     "slide_type": "slide"
    }
   },
   "source": [
    "## Symbolic Mathematics\n",
    "Sometimes we want to express the solution in the form of a symbolic expression (rather than an exact solution).\n",
    "\n",
    "The `Sympy` package is designed for symbolic mathematics. "
   ]
  },
  {
   "cell_type": "code",
   "execution_count": 169,
   "metadata": {},
   "outputs": [],
   "source": [
    "from sympy import solve, symbols, Symbol, Function, Eq, pprint "
   ]
  },
  {
   "cell_type": "markdown",
   "metadata": {
    "slideshow": {
     "slide_type": "slide"
    }
   },
   "source": [
    "### Symbolic Polynomials\n",
    "To write a symbolic equation, we first create variables to store the symbols we want to use:"
   ]
  },
  {
   "cell_type": "code",
   "execution_count": 171,
   "metadata": {},
   "outputs": [],
   "source": [
    "a, b, c, x = symbols('a, b, c, x')"
   ]
  },
  {
   "cell_type": "markdown",
   "metadata": {
    "slideshow": {
     "slide_type": "slide"
    }
   },
   "source": [
    "We then write an equation, using the variable names.\n",
    "\n",
    "$$f(x) = ax^2 + bx + c$$"
   ]
  },
  {
   "cell_type": "code",
   "execution_count": 172,
   "metadata": {},
   "outputs": [],
   "source": [
    "f = a*x**2 + b*x + c"
   ]
  },
  {
   "cell_type": "markdown",
   "metadata": {
    "slideshow": {
     "slide_type": "slide"
    }
   },
   "source": [
    "Let's *symbolically* find the roots of the function $f(x)$.\n",
    "\n",
    "`sympy.solve()` works in the same way as `numpy.linalg.solve()` (07_RootFinding_CoupledEquations.ipynb) but for symbolic mathematics."
   ]
  },
  {
   "cell_type": "code",
   "execution_count": 173,
   "metadata": {
    "scrolled": true,
    "slideshow": {
     "slide_type": "-"
    }
   },
   "outputs": [
    {
     "name": "stdout",
     "output_type": "stream",
     "text": [
      "[(-b + sqrt(-4*a*c + b**2))/(2*a), -(b + sqrt(-4*a*c + b**2))/(2*a)]\n"
     ]
    }
   ],
   "source": [
    "solution = solve(f, x)\n",
    "\n",
    "print(solution)"
   ]
  },
  {
   "cell_type": "markdown",
   "metadata": {
    "slideshow": {
     "slide_type": "slide"
    }
   },
   "source": [
    "This equation takes the familar form of the __quadratic formula__ $$\\frac{-b \\pm \\sqrt{b^2-4ac}}{2a}$$\n",
    "\n",
    "However, it is difficult to tell from the way it is written.\n",
    "\n"
   ]
  },
  {
   "cell_type": "markdown",
   "metadata": {
    "slideshow": {
     "slide_type": "slide"
    }
   },
   "source": [
    "`sympy.pprint` (pretty print) makes the solution more readable:"
   ]
  },
  {
   "cell_type": "code",
   "execution_count": 174,
   "metadata": {
    "scrolled": false
   },
   "outputs": [
    {
     "name": "stdout",
     "output_type": "stream",
     "text": [
      "⎡        _____________   ⎛       _____________⎞ ⎤\n",
      "⎢       ╱           2    ⎜      ╱           2 ⎟ ⎥\n",
      "⎢-b + ╲╱  -4⋅a⋅c + b    -⎝b + ╲╱  -4⋅a⋅c + b  ⎠ ⎥\n",
      "⎢─────────────────────, ────────────────────────⎥\n",
      "⎣         2⋅a                     2⋅a           ⎦\n",
      "[(-b + sqrt(-4*a*c + b**2))/(2*a), -(b + sqrt(-4*a*c + b**2))/(2*a)]\n"
     ]
    }
   ],
   "source": [
    "from sympy import pprint\n",
    "\n",
    "pprint(solution)\n",
    "print(solution)"
   ]
  },
  {
   "cell_type": "markdown",
   "metadata": {
    "slideshow": {
     "slide_type": "slide"
    }
   },
   "source": [
    "We can use `subs` to substitute in numerical values for the symbolic variables in the solution.\n",
    "\n",
    "In this case, there are two solutions (returned as a list) so we address each index of the list by index:"
   ]
  },
  {
   "cell_type": "code",
   "execution_count": 29,
   "metadata": {},
   "outputs": [
    {
     "data": {
      "text/plain": [
       "-1"
      ]
     },
     "metadata": {},
     "output_type": "display_data"
    },
    {
     "data": {
      "text/plain": [
       "3"
      ]
     },
     "metadata": {},
     "output_type": "display_data"
    }
   ],
   "source": [
    "A, B, C = -1, 2, 3\n",
    "\n",
    "x0 = solution[0].subs([(a, A), \n",
    "                       (b, B), \n",
    "                       (c, C)])\n",
    "\n",
    "x1 = solution[1].subs([(a, A), \n",
    "                       (b, B), \n",
    "                       (c, C)])\n",
    "\n",
    "display(x0, x1) \n",
    "\n"
   ]
  },
  {
   "cell_type": "markdown",
   "metadata": {
    "slideshow": {
     "slide_type": "slide"
    }
   },
   "source": [
    "### Symbolic Differentiation\n",
    "`sympy.diff`\n",
    "    "
   ]
  },
  {
   "cell_type": "code",
   "execution_count": 175,
   "metadata": {},
   "outputs": [],
   "source": [
    "from sympy import diff\n",
    "\n"
   ]
  },
  {
   "cell_type": "markdown",
   "metadata": {
    "slideshow": {
     "slide_type": "slide"
    }
   },
   "source": [
    "Using the same functionas the previous example:\n",
    "    $$f(x) = ax^2 + bx + c$$"
   ]
  },
  {
   "cell_type": "code",
   "execution_count": 31,
   "metadata": {},
   "outputs": [],
   "source": [
    "f = a*x**2 + b*x + c\n",
    "\n"
   ]
  },
  {
   "cell_type": "markdown",
   "metadata": {
    "slideshow": {
     "slide_type": "slide"
    }
   },
   "source": [
    "$f'(x)$ <br>(first derivative w.r.t $x$)"
   ]
  },
  {
   "cell_type": "code",
   "execution_count": 32,
   "metadata": {},
   "outputs": [
    {
     "name": "stdout",
     "output_type": "stream",
     "text": [
      "2*a*x + b\n"
     ]
    }
   ],
   "source": [
    "print(diff(f, x))\n",
    "\n"
   ]
  },
  {
   "cell_type": "markdown",
   "metadata": {
    "slideshow": {
     "slide_type": "slide"
    }
   },
   "source": [
    "$f''(x)$ <br>(second derivative w.r.t $x$)"
   ]
  },
  {
   "cell_type": "code",
   "execution_count": 33,
   "metadata": {},
   "outputs": [
    {
     "name": "stdout",
     "output_type": "stream",
     "text": [
      "2*a\n"
     ]
    }
   ],
   "source": [
    "print(diff(f, x, 2))\n"
   ]
  },
  {
   "cell_type": "markdown",
   "metadata": {
    "slideshow": {
     "slide_type": "slide"
    }
   },
   "source": [
    "$f'(a)$ <br>(first derivative w.r.t $a$)"
   ]
  },
  {
   "cell_type": "code",
   "execution_count": 34,
   "metadata": {},
   "outputs": [
    {
     "name": "stdout",
     "output_type": "stream",
     "text": [
      "x**2\n"
     ]
    }
   ],
   "source": [
    "print(diff(f, a))\n",
    "\n"
   ]
  },
  {
   "cell_type": "markdown",
   "metadata": {
    "slideshow": {
     "slide_type": "slide"
    }
   },
   "source": [
    "We can substitute numerical values into the solution:\n",
    "\n",
    "Find $f'(a), \\quad x=2$"
   ]
  },
  {
   "cell_type": "code",
   "execution_count": 176,
   "metadata": {},
   "outputs": [
    {
     "data": {
      "text/plain": [
       "4"
      ]
     },
     "execution_count": 176,
     "metadata": {},
     "output_type": "execute_result"
    }
   ],
   "source": [
    "diff(f, a).subs([(x, 2)])\n",
    "\n"
   ]
  },
  {
   "cell_type": "markdown",
   "metadata": {
    "slideshow": {
     "slide_type": "slide"
    }
   },
   "source": [
    "### Symbolic Integration\n",
    "`sympy.integrate`"
   ]
  },
  {
   "cell_type": "code",
   "execution_count": 36,
   "metadata": {
    "scrolled": true
   },
   "outputs": [],
   "source": [
    "from sympy import integrate\n",
    "\n"
   ]
  },
  {
   "cell_type": "markdown",
   "metadata": {
    "slideshow": {
     "slide_type": "slide"
    }
   },
   "source": [
    "Using the same functionas the previous example:\n",
    "    $$f(x) = ax^2 + bx + c$$"
   ]
  },
  {
   "cell_type": "code",
   "execution_count": 66,
   "metadata": {},
   "outputs": [],
   "source": [
    "f = a*x**2 + b*x + c\n",
    "\n"
   ]
  },
  {
   "cell_type": "markdown",
   "metadata": {
    "slideshow": {
     "slide_type": "slide"
    }
   },
   "source": [
    "Find the general solution to<br>$ \\int f(x)  dx$"
   ]
  },
  {
   "cell_type": "code",
   "execution_count": 67,
   "metadata": {},
   "outputs": [
    {
     "name": "stdout",
     "output_type": "stream",
     "text": [
      "a*x**3/3 + b*x**2/2 + c*x\n"
     ]
    }
   ],
   "source": [
    "print(integrate(f, x))\n"
   ]
  },
  {
   "cell_type": "markdown",
   "metadata": {
    "slideshow": {
     "slide_type": "slide"
    }
   },
   "source": [
    "Find the definite integral<br>$\\int_{x=0}^{1} f(x)dx$"
   ]
  },
  {
   "cell_type": "code",
   "execution_count": 68,
   "metadata": {},
   "outputs": [
    {
     "name": "stdout",
     "output_type": "stream",
     "text": [
      "a/3 + b/2 + c\n"
     ]
    }
   ],
   "source": [
    "print(integrate(f, (x, 0, 1))) # definite integral from x=0..1\n",
    "\n"
   ]
  },
  {
   "cell_type": "markdown",
   "metadata": {
    "slideshow": {
     "slide_type": "slide"
    }
   },
   "source": [
    "Find the integral shown where constants $a,b,c$ gievn as numerical values\n",
    "<br>$\\int_{x=0}^{1} f(x)dx$\n",
    "<br>$a=b=c=2 $"
   ]
  },
  {
   "cell_type": "code",
   "execution_count": 69,
   "metadata": {},
   "outputs": [
    {
     "data": {
      "text/plain": [
       "11/3"
      ]
     },
     "execution_count": 69,
     "metadata": {},
     "output_type": "execute_result"
    }
   ],
   "source": [
    "integrate(f, (x, 0, 1)).subs([(a, 2), \n",
    "                              (b, 2), \n",
    "                              (c, 2)])\n",
    "\n"
   ]
  },
  {
   "cell_type": "markdown",
   "metadata": {
    "slideshow": {
     "slide_type": "slide"
    }
   },
   "source": [
    "### Differentiating a Symbolic Function\n",
    "We can also symbolically represent:\n",
    "- a function.\n",
    "- a *single* symbol using `Symbol()`.\n",
    "<br>*Notice how this differs from `symbols` for creating multiple symbols.*"
   ]
  },
  {
   "cell_type": "code",
   "execution_count": 41,
   "metadata": {},
   "outputs": [],
   "source": [
    "from sympy import Function, Symbol\n",
    "f = Function('f')\n",
    "x = Symbol('x')\n",
    "\n"
   ]
  },
  {
   "cell_type": "markdown",
   "metadata": {
    "slideshow": {
     "slide_type": "slide"
    }
   },
   "source": [
    "The syntax for differentiation of a *symbolic function* is also different from the syntax for a function comprised of *symbolic variables*. "
   ]
  },
  {
   "cell_type": "code",
   "execution_count": 42,
   "metadata": {},
   "outputs": [
    {
     "name": "stdout",
     "output_type": "stream",
     "text": [
      "d       \n",
      "──(f(x))\n",
      "dx      \n"
     ]
    }
   ],
   "source": [
    "fd = f(x).diff(x)\n",
    "\n",
    "pprint(fd)\n",
    "\n"
   ]
  },
  {
   "cell_type": "markdown",
   "metadata": {
    "slideshow": {
     "slide_type": "slide"
    }
   },
   "source": [
    "## Ordinary Differential Equations\n",
    "__Ordinary differential equation__\n",
    "<br>A differential equation containing one or more functions of one independent variable and its derivatives. \n",
    "\n",
    "Sometimes you want to solve a problem of the form:\n",
    "\n",
    "*Given an equation containing the derivatives of the function $f(x)$, find $f(x)$.*"
   ]
  },
  {
   "cell_type": "markdown",
   "metadata": {
    "slideshow": {
     "slide_type": "slide"
    }
   },
   "source": [
    "### Symbolic Analytical Solution to ODE\n",
    "The function `sympy.dsolve` can be used to find the solution to any ordinary differential equation."
   ]
  },
  {
   "cell_type": "code",
   "execution_count": 43,
   "metadata": {},
   "outputs": [],
   "source": [
    "from sympy import dsolve, Eq, sin, cos\n"
   ]
  },
  {
   "cell_type": "markdown",
   "metadata": {
    "slideshow": {
     "slide_type": "slide"
    }
   },
   "source": [
    "Syntax to represent $f'(x)$\n",
    "        \n",
    "        f(x).diff(x)\n",
    "        \n",
    "Syntax to represent $f''(x)$\n",
    "        \n",
    "        f(x).diff(x, x)"
   ]
  },
  {
   "cell_type": "markdown",
   "metadata": {
    "slideshow": {
     "slide_type": "slide"
    }
   },
   "source": [
    "In the next examples we will:\n",
    "- solve ODE symbolically to find the general solution, $f(x)$\n",
    "- substitute an initial condition to find constants of the general solution\n",
    "- find the value of the function for a specific input variable."
   ]
  },
  {
   "cell_type": "markdown",
   "metadata": {
    "slideshow": {
     "slide_type": "slide"
    }
   },
   "source": [
    "#### Solving a First Order ODE\n",
    "\n",
    "Let's start with an example we used earlier: \n",
    "\n",
    "$$f'(x) = cos(x), \\quad f(x) = sin(x)$$"
   ]
  },
  {
   "cell_type": "markdown",
   "metadata": {
    "slideshow": {
     "slide_type": "slide"
    }
   },
   "source": [
    "We create a variable to represent:\n",
    "- the function $f(x)$\n",
    "- the input variable $x$"
   ]
  },
  {
   "cell_type": "code",
   "execution_count": 182,
   "metadata": {},
   "outputs": [],
   "source": [
    "f = Function('f')\n",
    "x = Symbol('x')\n"
   ]
  },
  {
   "cell_type": "markdown",
   "metadata": {
    "slideshow": {
     "slide_type": "slide"
    }
   },
   "source": [
    "We create a Sympy `Eq` equation.\n",
    "\n",
    "The first argument (left hand side of equation) is equal to the second argument (right hand side of equation)."
   ]
  },
  {
   "cell_type": "code",
   "execution_count": 183,
   "metadata": {},
   "outputs": [],
   "source": [
    "ode = Eq(f(x).diff(x), cos(x))\n"
   ]
  },
  {
   "cell_type": "markdown",
   "metadata": {
    "slideshow": {
     "slide_type": "slide"
    }
   },
   "source": [
    "We find the general solution, with unknown constant, `C1`:"
   ]
  },
  {
   "cell_type": "code",
   "execution_count": 184,
   "metadata": {},
   "outputs": [
    {
     "name": "stdout",
     "output_type": "stream",
     "text": [
      "f(x) = C₁ + sin(x)\n"
     ]
    }
   ],
   "source": [
    "# General solution\n",
    "gen_sol = dsolve(ode, f(x))\n",
    "\n",
    "pprint(gen_sol)\n"
   ]
  },
  {
   "cell_type": "markdown",
   "metadata": {
    "slideshow": {
     "slide_type": "slide"
    }
   },
   "source": [
    "The package `display` can also be used to achieve more readable print formatting for mathematical equations:"
   ]
  },
  {
   "cell_type": "code",
   "execution_count": 185,
   "metadata": {},
   "outputs": [],
   "source": [
    "from IPython.display import display\n"
   ]
  },
  {
   "cell_type": "code",
   "execution_count": 186,
   "metadata": {},
   "outputs": [
    {
     "data": {
      "text/plain": [
       "Eq(f(x), C1 + sin(x))"
      ]
     },
     "metadata": {},
     "output_type": "display_data"
    }
   ],
   "source": [
    "display(gen_sol)\n"
   ]
  },
  {
   "cell_type": "markdown",
   "metadata": {
    "slideshow": {
     "slide_type": "slide"
    }
   },
   "source": [
    "Use an initial value, $x=0, \\quad f(x)=0$ to find `C1`.\n",
    "\n",
    "`subs` takes a list og the substitutions we want to make as arguments."
   ]
  },
  {
   "cell_type": "code",
   "execution_count": 190,
   "metadata": {
    "scrolled": true
   },
   "outputs": [
    {
     "data": {
      "text/plain": [
       "Eq(0, C1)"
      ]
     },
     "metadata": {},
     "output_type": "display_data"
    }
   ],
   "source": [
    "# Method 1\n",
    "cnd = gen_sol.subs([(x,0),       # x = 0\n",
    "                    (f(0), 0)])  # f(0) = 0\n",
    "\n",
    "\n",
    "# which can also be written: \n",
    "# Method 2\n",
    "# cnd = Eq(gen_sol.rhs.subs(x, 0), 0) # x = 0, f(0) = 0\n",
    "\n",
    "display(cnd)\n",
    "\n"
   ]
  },
  {
   "cell_type": "markdown",
   "metadata": {
    "slideshow": {
     "slide_type": "slide"
    }
   },
   "source": [
    "Substitute `C1` into the general solution, noting if `C1` appears on left or right of equation"
   ]
  },
  {
   "cell_type": "code",
   "execution_count": 191,
   "metadata": {},
   "outputs": [
    {
     "data": {
      "text/plain": [
       "Eq(f(x), sin(x))"
      ]
     },
     "metadata": {},
     "output_type": "display_data"
    }
   ],
   "source": [
    "# Method 1, C1 rhs\n",
    "ode_sol = gen_sol.subs([(cnd.rhs, cnd.lhs)])\n",
    "\n",
    "# Method 2, C1 lhs\n",
    "# ode_sol = gen_sol.subs([(cnd.lhs, cnd.rhs)])\n",
    "\n",
    "display (ode_sol) \n",
    "\n"
   ]
  },
  {
   "cell_type": "markdown",
   "metadata": {
    "slideshow": {
     "slide_type": "slide"
    }
   },
   "source": [
    "##### What does this code do?\n",
    "\n",
    ">`ode_sol = A_sol.subs([(cnd.rhs, cnd.lhs)])`\n",
    "\n",
    "`cnd` is a Sympy __`Eq`__ (equation) object.\n",
    "\n",
    "The first argument (left hand side of equation) is equal to the second argument (right hand side of equation)."
   ]
  },
  {
   "cell_type": "code",
   "execution_count": 51,
   "metadata": {},
   "outputs": [
    {
     "name": "stdout",
     "output_type": "stream",
     "text": [
      "Eq(0, C1)\n"
     ]
    }
   ],
   "source": [
    "print(cnd)\n",
    "\n"
   ]
  },
  {
   "cell_type": "markdown",
   "metadata": {
    "slideshow": {
     "slide_type": "slide"
    }
   },
   "source": [
    "This means we can conveniently access the left and right hand using `lhs` and `rhs`.\n",
    "\n",
    "The expression on the right hand side of `const` is replaced by the expression on the left hand side of `const` wherever it appears in the general solution."
   ]
  },
  {
   "cell_type": "markdown",
   "metadata": {
    "slideshow": {
     "slide_type": "slide"
    }
   },
   "source": [
    "We can use `subs` again to find the value of $f(x)$ at any input value $x$."
   ]
  },
  {
   "cell_type": "code",
   "execution_count": 194,
   "metadata": {
    "scrolled": true
   },
   "outputs": [
    {
     "data": {
      "text/plain": [
       "Eq(f(1.5707963267949), 1.00000000000000)"
      ]
     },
     "metadata": {},
     "output_type": "display_data"
    }
   ],
   "source": [
    "spec_sol = ode_sol.subs([(x, np.pi/2)])\n",
    "display(spec_sol) \n",
    "\n"
   ]
  },
  {
   "cell_type": "markdown",
   "metadata": {
    "slideshow": {
     "slide_type": "slide"
    }
   },
   "source": [
    "Lastly, we convert the symbolic representation to a numerical value using the method `evalf`."
   ]
  },
  {
   "cell_type": "code",
   "execution_count": 195,
   "metadata": {},
   "outputs": [
    {
     "data": {
      "text/plain": [
       "Eq(f(1.5707963267949), 1.00000000000000)"
      ]
     },
     "metadata": {},
     "output_type": "display_data"
    }
   ],
   "source": [
    "display(spec_sol.evalf()) \n",
    "\n"
   ]
  },
  {
   "cell_type": "markdown",
   "metadata": {
    "slideshow": {
     "slide_type": "slide"
    }
   },
   "source": [
    "#### Solving a Second Order ODE \n",
    "Taking another expression containing higher order derivatives, \n",
    "<br>we can write the equation:\n",
    "\n",
    "$$A=f''(x) =12x^2$$    "
   ]
  },
  {
   "cell_type": "code",
   "execution_count": 77,
   "metadata": {},
   "outputs": [],
   "source": [
    "f = Function('f')\n",
    "x = Symbol('x')\n",
    "\n",
    "A = Eq(f(x).diff(x, x), 12*x**2)\n",
    "\n"
   ]
  },
  {
   "cell_type": "markdown",
   "metadata": {
    "slideshow": {
     "slide_type": "slide"
    }
   },
   "source": [
    "The highest order differential is a second order differential.\n",
    "\n",
    "The general solution will have two constants to solve."
   ]
  },
  {
   "cell_type": "code",
   "execution_count": 78,
   "metadata": {
    "slideshow": {
     "slide_type": "slide"
    }
   },
   "outputs": [
    {
     "data": {
      "text/plain": [
       "Eq(f(x), C1 + C2*x + x**4)"
      ]
     },
     "metadata": {},
     "output_type": "display_data"
    }
   ],
   "source": [
    "# General solution\n",
    "gen_sol = dsolve(A, f(x))\n",
    "display(gen_sol)\n",
    "\n"
   ]
  },
  {
   "cell_type": "markdown",
   "metadata": {
    "slideshow": {
     "slide_type": "slide"
    }
   },
   "source": [
    "Find the constants by substitution.\n",
    "\n",
    "$f(0)=0$\n",
    "\n",
    "$f(1)=3$\n",
    "\n",
    "$f'(1)=6$\n"
   ]
  },
  {
   "cell_type": "code",
   "execution_count": 196,
   "metadata": {
    "scrolled": true
   },
   "outputs": [
    {
     "data": {
      "text/plain": [
       "Eq(C1, 0)"
      ]
     },
     "metadata": {},
     "output_type": "display_data"
    },
    {
     "data": {
      "text/plain": [
       "Eq(C1 + sin(1), 3)"
      ]
     },
     "metadata": {},
     "output_type": "display_data"
    }
   ],
   "source": [
    "cnd0 = Eq(gen_sol.rhs.subs(x, 0), 0)           # f(0) = 0\n",
    "\n",
    "cnd1 = Eq(gen_sol.rhs.subs(x, 1), 3)           # f(1) = 3\n",
    "\n",
    "# cnd1 = Eq(gen_sol.rhs.diff(x).subs(x, 1), 6)  # f'(1) = 6\n",
    "\n",
    "display(cnd0, cnd1)\n"
   ]
  },
  {
   "cell_type": "markdown",
   "metadata": {
    "slideshow": {
     "slide_type": "slide"
    }
   },
   "source": [
    "Create symbolic representations of the variables.\n",
    "\n",
    "This time we use `sympy.solve` to solve the coupled equations `cnd0` and `cnd1` for constants `C1, C2`:"
   ]
  },
  {
   "cell_type": "code",
   "execution_count": 84,
   "metadata": {
    "slideshow": {
     "slide_type": "slide"
    }
   },
   "outputs": [
    {
     "data": {
      "text/plain": [
       "{C1: 0, C2: 2}"
      ]
     },
     "metadata": {},
     "output_type": "display_data"
    }
   ],
   "source": [
    "C1, C2 = symbols(\"C1, C2\")  # generic constants\n",
    "\n",
    "C1C2_sol = solve([cnd0, cnd1], (C1, C2))\n",
    "display(C1C2_sol)\n",
    "\n"
   ]
  },
  {
   "cell_type": "markdown",
   "metadata": {
    "slideshow": {
     "slide_type": "slide"
    }
   },
   "source": [
    "Substitute the two constants into the general solution."
   ]
  },
  {
   "cell_type": "code",
   "execution_count": 197,
   "metadata": {},
   "outputs": [
    {
     "data": {
      "text/plain": [
       "Eq(f(x), sin(x))"
      ]
     },
     "metadata": {},
     "output_type": "display_data"
    }
   ],
   "source": [
    "ode2_sol = gen_sol.subs(C1C2_sol)\n",
    "display(ode2_sol)\n",
    "\n"
   ]
  },
  {
   "cell_type": "markdown",
   "metadata": {
    "slideshow": {
     "slide_type": "slide"
    }
   },
   "source": [
    "## Numerial Solutions to  Ordinary Differential Equations"
   ]
  },
  {
   "cell_type": "markdown",
   "metadata": {
    "slideshow": {
     "slide_type": "-"
    }
   },
   "source": [
    "The function `scipy.integrate.odeint` estmates the solution to first order differential equations.\n",
    "\n",
    "In contrast to `dsolve`, this gives the numerical solution for a range of input values, rather than a symbolic expression.\n",
    "\n",
    "We will cover this function in greater depth in the next class."
   ]
  },
  {
   "cell_type": "code",
   "execution_count": 59,
   "metadata": {
    "slideshow": {
     "slide_type": "-"
    }
   },
   "outputs": [],
   "source": [
    "from scipy.integrate import odeint\n",
    "\n"
   ]
  },
  {
   "cell_type": "markdown",
   "metadata": {
    "slideshow": {
     "slide_type": "slide"
    }
   },
   "source": [
    "The function `odeint` takes a user-defined function as an argument.\n",
    "\n",
    "This input function should define the derivative you want to solve in the form: \n",
    "\n",
    "$f' = \\frac{df}{dt} = g(t)$\n",
    "\n",
    "For example:\n",
    "\n",
    "$f' = cos(t), \\quad f(t=0)=0$"
   ]
  },
  {
   "cell_type": "code",
   "execution_count": 60,
   "metadata": {},
   "outputs": [],
   "source": [
    "def dfdt(x, t):\n",
    "    return np.cos(t)"
   ]
  },
  {
   "cell_type": "markdown",
   "metadata": {
    "slideshow": {
     "slide_type": "slide"
    }
   },
   "source": [
    "Two additional arguments are needed:\n",
    "\n",
    "- the initial value of x\n",
    "- the value(s) of t at which to evaluate x, starting with the initial value\n",
    "- (if `dx_dt` takes any other argumemts they are entered as a tuple as the third argument)"
   ]
  },
  {
   "cell_type": "code",
   "execution_count": 61,
   "metadata": {
    "slideshow": {
     "slide_type": "-"
    }
   },
   "outputs": [],
   "source": [
    "ts = np.linspace(0,5,100) # the value(s) of t at which to evaluate x\n",
    "f0 = 0                    # the initial value\n",
    "\n",
    "# odeint returns x at each value of t\n",
    "fs = odeint(dfdt, # function\n",
    "            f0,   # initial value\n",
    "            ts)   # time span\n"
   ]
  },
  {
   "cell_type": "markdown",
   "metadata": {
    "slideshow": {
     "slide_type": "slide"
    }
   },
   "source": [
    "The function `odeint` returns an $n\\times 1$ array (2D column).\n",
    "\n",
    "To plot the output we have to \"flatten\" it to a 1D array.\n",
    "\n",
    "Recall, $f' = cos(t), \\quad f = sin(t)$"
   ]
  },
  {
   "cell_type": "code",
   "execution_count": 85,
   "metadata": {
    "scrolled": false,
    "slideshow": {
     "slide_type": "-"
    }
   },
   "outputs": [],
   "source": [
    "fs = np.array(fs).flatten()\n",
    "\n"
   ]
  },
  {
   "cell_type": "markdown",
   "metadata": {
    "slideshow": {
     "slide_type": "slide"
    }
   },
   "source": [
    "Plot the function"
   ]
  },
  {
   "cell_type": "code",
   "execution_count": 198,
   "metadata": {},
   "outputs": [
    {
     "data": {
      "text/plain": [
       "<matplotlib.legend.Legend at 0x151b4824a8>"
      ]
     },
     "execution_count": 198,
     "metadata": {},
     "output_type": "execute_result"
    },
    {
     "data": {
      "image/png": "[encoded data removed]",
      "text/plain": [
       "<Figure size 432x288 with 1 Axes>"
      ]
     },
     "metadata": {},
     "output_type": "display_data"
    }
   ],
   "source": [
    "plt.xlabel(\"t\")\n",
    "plt.ylabel(\"f\")\n",
    "plt.plot(ts, np.sin(ts), 'c', label='analytical solution');\n",
    "plt.plot(ts, fs, 'r--', label='numerical solution');\n",
    "plt.legend(loc='best')\n"
   ]
  },
  {
   "cell_type": "markdown",
   "metadata": {},
   "source": [
    "The numerical and analytical solutions agree."
   ]
  },
  {
   "cell_type": "markdown",
   "metadata": {
    "slideshow": {
     "slide_type": "slide"
    }
   },
   "source": [
    "Lastly we can add the sybolically derived function:"
   ]
  },
  {
   "cell_type": "code",
   "execution_count": 87,
   "metadata": {
    "scrolled": true
   },
   "outputs": [],
   "source": [
    "sym_sol = []\n",
    "\n",
    "for t in ts:\n",
    "    sym_sol.append(ode_sol.subs([(x, t)]).evalf().rhs)\n",
    "    \n",
    "    "
   ]
  },
  {
   "cell_type": "markdown",
   "metadata": {
    "slideshow": {
     "slide_type": "slide"
    }
   },
   "source": [
    "Plot the function  "
   ]
  },
  {
   "cell_type": "code",
   "execution_count": 89,
   "metadata": {
    "scrolled": true
   },
   "outputs": [
    {
     "data": {
      "text/plain": [
       "<matplotlib.legend.Legend at 0x151aa76e80>"
      ]
     },
     "execution_count": 89,
     "metadata": {},
     "output_type": "execute_result"
    },
    {
     "data": {
      "image/png": "[encoded data removed]",
      "text/plain": [
       "<Figure size 432x288 with 1 Axes>"
      ]
     },
     "metadata": {},
     "output_type": "display_data"
    }
   ],
   "source": [
    "plt.xlabel(\"t\")\n",
    "plt.ylabel(\"f\")\n",
    "plt.plot(ts, np.sin(ts), 'c', label='analytical solution');\n",
    "plt.plot(ts, fs, 'r--', label='numerical solution');\n",
    "plt.plot(ts, fs, 'b:', label='symbolic solution');\n",
    "plt.legend(loc='best')\n",
    "\n"
   ]
  },
  {
   "cell_type": "markdown",
   "metadata": {},
   "source": [
    "All solutions agree:"
   ]
  },
  {
   "cell_type": "markdown",
   "metadata": {
    "slideshow": {
     "slide_type": "slide"
    }
   },
   "source": [
    "<a id='TestYourselfExercises'></a>\n",
    "# Test-Yourself Exercises\n",
    "\n",
    "Compete the Test-Youself exercises below.\n",
    "\n",
    "Save your answers as .py files and email them to:\n",
    "<br>philamore.hemma.5s@kyoto-u.ac.jp"
   ]
  },
  {
   "cell_type": "markdown",
   "metadata": {},
   "source": [
    "### Test Yourself-Exercise : Root Finding\n",
    "\n",
    "Find the roots of the function.\n",
    "\n",
    "i.e. find all $x$ where $f(x)=0$\n",
    "\n",
    "$$f(x)= ax^3 - bx^2 - ax + b$$\n",
    "\n",
    "Use the values $a=3, b=1$ to find the exact vaue of the roots."
   ]
  },
  {
   "cell_type": "markdown",
   "metadata": {},
   "source": [
    "### Test Yourself-Exercise : Car Breaking\n",
    "\n",
    "During braking a car’s velocity is given by:\n",
    "\n",
    "$$v = v_{0} e^{−t/\\tau}$$\n",
    "\n",
    "$v_{0}=15$ m/s\n",
    "\n",
    "$\\tau = 2$ s\n",
    "\n",
    "Find the distance travelled during the 10s after the breaks are applied."
   ]
  },
  {
   "cell_type": "code",
   "execution_count": null,
   "metadata": {},
   "outputs": [],
   "source": []
  }
 ],
 "metadata": {
  "celltoolbar": "Slideshow",
  "kernelspec": {
   "display_name": "Python 3",
   "language": "python",
   "name": "python3"
  },
  "language_info": {
   "codemirror_mode": {
    "name": "ipython",
    "version": 3
   },
   "file_extension": ".py",
   "mimetype": "text/x-python",
   "name": "python",
   "nbconvert_exporter": "python",
   "pygments_lexer": "ipython3",
   "version": "3.6.4"
  }
 },
 "nbformat": 4,
 "nbformat_minor": 2
}
